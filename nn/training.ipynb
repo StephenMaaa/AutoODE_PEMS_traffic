{
 "cells": [
  {
   "cell_type": "code",
   "execution_count": null,
   "id": "9997bf7c",
   "metadata": {},
   "outputs": [],
   "source": [
    "import torch\n",
    "import torch.nn as nn\n",
    "import numpy as np\n",
    "from torch.utils import data\n",
    "import time\n",
    "from DNN import Dataset, train_epoch, eval_epoch, eval_epoch_true, FC, Seq2Seq, Dataset_res \n",
    "device = torch.device(\"cuda\" if torch.cuda.is_available() else \"cpu\")"
   ]
  },
  {
   "cell_type": "markdown",
   "id": "69a3ddf2",
   "metadata": {},
   "source": [
    "### Data for time"
   ]
  },
  {
   "cell_type": "code",
   "execution_count": null,
   "id": "ae599ebb",
   "metadata": {},
   "outputs": [],
   "source": [
    "training_data = torch.load(\"data_time/training_time.pt\").float()\n",
    "test_data = torch.load(\"data_time/test_time.pt\").float()"
   ]
  },
  {
   "cell_type": "code",
   "execution_count": null,
   "id": "30843848",
   "metadata": {},
   "outputs": [],
   "source": [
    "training_data.shape, test_data.shape "
   ]
  },
  {
   "cell_type": "markdown",
   "id": "dc5f06d8",
   "metadata": {},
   "source": [
    "### Normalization "
   ]
  },
  {
   "cell_type": "code",
   "execution_count": null,
   "id": "923e1df6",
   "metadata": {},
   "outputs": [],
   "source": [
    "mean = torch.tensor([training_data[:, 0, :, :].mean(), training_data[:, 1, :, :].mean(), training_data[:, 2, :, :].mean()])\n",
    "std = torch.tensor([training_data[:, 0, :, :].std(), training_data[:, 1, :, :].std(), training_data[:, 2, :, :].std()])\n",
    "training_norm = torch.zeros(training_data.shape, dtype = torch.float) \n",
    "training_norm[:, 0, :, :] = (training_data[:, 0, :, :] - mean[0]) / std[0]\n",
    "training_norm[:, 1, :, :] = (training_data[:, 1, :, :] - mean[1]) / std[1]\n",
    "training_norm[:, 2, :, :] = (training_data[:, 2, :, :] - mean[2]) / std[2] \n",
    "\n",
    "test_norm = torch.zeros(test_data.shape, dtype = torch.float) \n",
    "test_norm[:, 0, :, :] = (test_data[:, 0, :, :] - mean[0]) / std[0]\n",
    "test_norm[:, 1, :, :] = (test_data[:, 1, :, :] - mean[1]) / std[1]\n",
    "test_norm[:, 2, :, :] = (test_data[:, 2, :, :] - mean[2]) / std[2]"
   ]
  },
  {
   "cell_type": "code",
   "execution_count": null,
   "id": "511eeb05",
   "metadata": {},
   "outputs": [],
   "source": [
    "training_set = Dataset(training_norm)\n",
    "test_set = Dataset(test_norm) \n",
    "training_set, val_set = data.random_split(training_set, [int(len(training_set) * 0.875), int(len(training_set) - int(len(training_set) * 0.875))])"
   ]
  },
  {
   "cell_type": "code",
   "execution_count": null,
   "id": "a61796bf",
   "metadata": {},
   "outputs": [],
   "source": [
    "# data loader \n",
    "train_loader = data.DataLoader(training_set, batch_size = 512, shuffle = True)\n",
    "val_loader = data.DataLoader(val_set, batch_size = 512, shuffle = False) \n",
    "test_loader = data.DataLoader(test_set, batch_size = 512, shuffle = False) "
   ]
  },
  {
   "cell_type": "code",
   "execution_count": null,
   "id": "f2b0b282",
   "metadata": {},
   "outputs": [],
   "source": [
    "print(len(training_set))\n",
    "print(len(val_set))\n",
    "print(len(test_set))"
   ]
  },
  {
   "cell_type": "markdown",
   "id": "2af75743",
   "metadata": {},
   "source": [
    "### Training "
   ]
  },
  {
   "cell_type": "code",
   "execution_count": null,
   "id": "19ba19ff",
   "metadata": {},
   "outputs": [],
   "source": [
    "# train model \n",
    "\n",
    "trial_num = 3  \n",
    "preds_total = [] \n",
    "test_losses = [] \n",
    "num_epoch = 100 \n",
    "\n",
    "for i in range(trial_num): \n",
    "    # build model \n",
    "    model = Seq2Seq(input_dim = 234, hidden_dim = 512, output_dim = 234, num_layers = 1).to(device) \n",
    "#     model = FC(input_dim = 60, input_len = 12, hidden_dim = 256, output_dim = 60).to(device) \n",
    "#     model = Latent_ODE(latent_dim = 256, obs_dim = 240, nhidden = 512, rhidden = 512, aug = False).to(device)\n",
    "    name = \"Seq2Seq\"\n",
    "    learning_rate = 0.01\n",
    "    optimizer = torch.optim.Adam(model.parameters(), lr = learning_rate)\n",
    "    scheduler = torch.optim.lr_scheduler.StepLR(optimizer, step_size = 1, gamma=0.95)\n",
    "    criterion = nn.MSELoss()\n",
    "    print(sum(p.numel() for p in model.parameters() if p.requires_grad))\n",
    "    print(\"------Trial\", i + 1)\n",
    "    best_loss = 100   \n",
    "    train_losses = []\n",
    "    val_losses = [] \n",
    "    \n",
    "    for epoch in range(1, num_epoch + 1): \n",
    "        start = time.time()\n",
    "        train_loss = train_epoch(model, train_loader, optimizer, criterion)[-1]\n",
    "        train_losses.append(train_loss)\n",
    "        _, _, val_loss = eval_epoch(model, val_loader, criterion) \n",
    "        val_losses.append(val_loss)\n",
    "        if val_loss <= best_loss: \n",
    "            best_loss = val_loss \n",
    "            best_model = model \n",
    "            torch.save({\"preds\": preds, \"trues\": trues, \"model\": best_model}, \"best_space_\" + name + str(i+1) + \".pt\") \n",
    "        end = time.time()\n",
    "        print(\"Epoch:\", epoch, \"completed in:\", (end - start), \"s. Training loss:\", train_loss, \". Val loss:\", val_loss) \n",
    "        if (len(train_losses) > 50 and np.mean(val_losses[-5:]) >= np.mean(val_losses[-10:-5])):\n",
    "            break\n",
    "        scheduler.step() \n",
    "        if epoch % 5 == 0: print(optimizer.param_groups[0]['lr']) \n",
    "    \n",
    "    # save the best model, prediction and ground truth \n",
    "    preds, trues, test_loss = eval_epoch_true(best_model, test_loader, criterion, std, mean) \n",
    "    preds_total.append(preds)\n",
    "    test_losses.append(test_loss)\n",
    "    print(test_loss)  "
   ]
  },
  {
   "cell_type": "markdown",
   "id": "fe9901be",
   "metadata": {},
   "source": [
    "### Evaluation "
   ]
  },
  {
   "cell_type": "code",
   "execution_count": null,
   "id": "39e7407a",
   "metadata": {},
   "outputs": [],
   "source": [
    "rmse_losses = []\n",
    "for preds_i in preds_total: \n",
    "#     print(preds_i.shape)\n",
    "    rmse_losses.append(torch.sqrt(criterion(torch.tensor(preds_i), torch.tensor(trues))))"
   ]
  },
  {
   "cell_type": "code",
   "execution_count": null,
   "id": "c7e6e518",
   "metadata": {},
   "outputs": [],
   "source": [
    "rmse_losses"
   ]
  },
  {
   "cell_type": "code",
   "execution_count": null,
   "id": "43846394",
   "metadata": {},
   "outputs": [],
   "source": [
    "np.array(rmse_losses).mean()"
   ]
  },
  {
   "cell_type": "code",
   "execution_count": null,
   "id": "a06e8f3d",
   "metadata": {},
   "outputs": [],
   "source": [
    "# sensor location \n",
    "\n",
    "xi = [0,  45,  56,  75,  81,  86,  89,  95, 100, 105, 109, 112, 117,\n",
    "       124, 128, 133, 137, 141, 146, 149, 152, 158, 163, 167, 171, 174,\n",
    "       180, 186, 192, 197, 200, 205, 207, 210, 211, 213, 214, 228, 231,\n",
    "       237, 240, 242, 251, 254, 258, 262, 266, 270, 277, 279, 282, 283,\n",
    "       286, 288, 291, 294, 296, 298, 300, 303, 308, 310, 315, 317, 320,\n",
    "       322, 327, 338, 342, 345, 352, 356, 359, 362, 366, 368, 374, 379] "
   ]
  },
  {
   "cell_type": "code",
   "execution_count": null,
   "id": "9041331f",
   "metadata": {},
   "outputs": [],
   "source": [
    "## Plot the last time step from the first test sample \n",
    "\n",
    "preds_t = np.stack(preds_total)\n",
    "preds_mean = preds_t.mean(axis = 0)\n",
    "gt = trues[0]\n",
    "loss = np.array(test_losses).mean()"
   ]
  },
  {
   "cell_type": "code",
   "execution_count": null,
   "id": "a6406920",
   "metadata": {},
   "outputs": [],
   "source": [
    "std_1 = preds_t.std(axis = 0)[-1, 0, -1]\n",
    "std_2 = preds_t.std(axis = 0)[-1, 1, -1]\n",
    "std_3 = preds_t.std(axis = 0)[-1, 2, -1]"
   ]
  },
  {
   "cell_type": "code",
   "execution_count": null,
   "id": "cfa21350",
   "metadata": {},
   "outputs": [],
   "source": [
    "result = preds_mean[-1, :, -1, :]\n",
    "std = [std_1, std_2, std_3]\n",
    "true = trues[-1][:, -1, :]"
   ]
  },
  {
   "cell_type": "code",
   "execution_count": null,
   "id": "01062548",
   "metadata": {},
   "outputs": [],
   "source": [
    "import matplotlib.pyplot as plt\n",
    "\n",
    "tp=24\n",
    "plt.style.use('default')\n",
    "label={0: \"Density $k$ (veh/m)\",\n",
    "       1: \"Flow $q$ (veh/s)\",\n",
    "       2: \"Speed $u$ (m/s)\"} \n",
    "\n",
    "from matplotlib import gridspec\n",
    "\n",
    "fwyp=[xi[n]* 300 / 1.e3 for n in range(len(xi))]\n",
    "\n",
    "#gs = gridspec.GridSpec(3, 1, height_ratios=[2, 1, 1]) \n",
    "gs_kw={\"height_ratios\": [3, 3, 3]}\n",
    "\n",
    "fig4,ax4=plt.subplots(figsize=(5, 15), nrows=3, gridspec_kw=gs_kw, sharex=True)\n",
    "fig4.subplots_adjust(left=0.08, bottom=0.08, right=0.98, top=0.95)\n",
    "ymin=[-0.01, -0.1, 20]\n",
    "ymax=[0.06, 1.5, 40]\n",
    "\n",
    "\n",
    "for n in range(3): \n",
    "    ax4[n].plot(fwyp, (true[n, :]), label='observed', marker='o', markersize=5)\n",
    "    ax4[n].plot(fwyp, (result[n, :]), label='predicted', marker='o', markersize=5)\n",
    "    ax4[n].fill_between(fwyp, (result[n, :] - std[n]), (result[n, :] + std[n]),  color='red', alpha=.3)    \n",
    "    ax4[n].set_ylim(ymin[n], ymax[n])\n",
    "    #ax4[n].set_xlabel(\"Distance (grid points)\")\n",
    "    ax4[n].set_ylabel(label[n])\n",
    "\n",
    "    #ax4[n].set_xlim(fwyp[0]-1, fwyp[-1]+1)\n",
    "\n",
    "#     lastpoint=-100\n",
    "#     if n==0:\n",
    "#         for p in range(len(xi)):\n",
    "#             if (fwyp[p] - lastpoint) > 1.:\n",
    "#                 ax4[n].text(fwyp[p], (y_pred[n, :, tp-68])[p] + 0.02, \"none\", rotation=90, fontsize=8)\n",
    "#                 lastpoint=fwyp[p]\n",
    "ax4[0].set_title(\"FC: last timestep from the last test sample\")    \n",
    "ax4[2].set_xlabel(\"Relative distance from North to South (km)\")\n",
    "#ax4[n].set_ylabel(\"Traffic density (Veh/m)\")\n",
    "fig4.savefig('FC.jpg', dpi=300)"
   ]
  }
 ],
 "metadata": {
  "kernelspec": {
   "display_name": "Python 3 (ipykernel)",
   "language": "python",
   "name": "python3"
  },
  "language_info": {
   "codemirror_mode": {
    "name": "ipython",
    "version": 3
   },
   "file_extension": ".py",
   "mimetype": "text/x-python",
   "name": "python",
   "nbconvert_exporter": "python",
   "pygments_lexer": "ipython3",
   "version": "3.9.6"
  }
 },
 "nbformat": 4,
 "nbformat_minor": 5
}
