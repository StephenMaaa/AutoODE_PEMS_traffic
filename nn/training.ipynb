{
 "cells": [
  {
   "cell_type": "code",
   "execution_count": 1,
   "id": "9997bf7c",
   "metadata": {},
   "outputs": [],
   "source": [
    "import torch\n",
    "import torch.nn as nn\n",
    "import numpy as np\n",
    "from torch.utils import data\n",
    "\n",
    "from datasets import *"
   ]
  },
  {
   "cell_type": "code",
   "execution_count": 2,
   "id": "602f535e",
   "metadata": {},
   "outputs": [],
   "source": [
    "class FC(nn.Module): \n",
    "    def __init__(self, input_dim, input_len, hidden_dim, output_dim): \n",
    "        super(FC, self).__init__()\n",
    "        self.input_dim = input_dim\n",
    "        self.input_len = input_len\n",
    "        self.hidden_dim = hidden_dim\n",
    "        self.output_dim = output_dim\n",
    "\n",
    "        self.fc = nn.Sequential(\n",
    "            nn.Linear(input_len * input_dim, hidden_dim), \n",
    "            nn.ReLU(), \n",
    "            nn.Linear(hidden_dim, hidden_dim), \n",
    "            nn.ReLU(), \n",
    "            nn.Linear(hidden_dim, hidden_dim), \n",
    "            nn.ReLU(), \n",
    "            nn.Linear(hidden_dim, hidden_dim), \n",
    "            nn.ReLU(), \n",
    "            nn.Linear(hidden_dim, hidden_dim), \n",
    "            nn.ReLU(), \n",
    "            nn.Linear(hidden_dim, output_dim) \n",
    "        )\n",
    "    \n",
    "    def forward(self, x, output_length): \n",
    "#         x = x.permute(0, 2, 1).float().to(device)\n",
    "        x = x.reshape(x.shape[0], -1) \n",
    "\n",
    "        outputs = []\n",
    "        for i in range(output_length): \n",
    "            out = self.fc(x)\n",
    "            xx = torch.cat([x[:, self.input_dim:], out], dim = 1)  \n",
    "            outputs.append(out)\n",
    "#             print(out.shape)\n",
    "        outputs = torch.cat(outputs, dim = 1)\n",
    "        outputs = outputs.reshape((x.shape[0], 3, 12, -1))\n",
    "        return outputs"
   ]
  },
  {
   "cell_type": "code",
   "execution_count": 50,
   "id": "23d8bdc2",
   "metadata": {},
   "outputs": [],
   "source": [
    "import torch.nn.functional as F \n",
    "\n",
    "class Encoder(nn.Module):\n",
    "    def __init__(self, input_dim, embedding_dim, hidden_dim, num_layers, dropout_rate = 0):\n",
    "        super(Encoder, self).__init__()\n",
    "        self.num_layers = num_layers\n",
    "        self.hidden_dim = hidden_dim\n",
    "        self.linear = nn.Linear(input_dim, embedding_dim)\n",
    "        self.lstm = nn.LSTM(embedding_dim, hidden_dim, num_layers=num_layers,\n",
    "                            dropout = dropout_rate, batch_first = True)\n",
    "        \n",
    "    def forward(self, x):\n",
    "        x = F.relu(self.linear(x))\n",
    "        outputs, hidden = self.lstm(x)\n",
    "        return outputs, hidden\n",
    "    \n",
    "    \n",
    "class Decoder(nn.Module):\n",
    "    def __init__(self, output_dim, hidden_dim, num_layers, dropout_rate = 0):\n",
    "        super(Decoder, self).__init__()\n",
    "        self.output_dim = output_dim\n",
    "        self.lstm = nn.LSTM(output_dim, hidden_dim, num_layers = num_layers, \n",
    "                            dropout = dropout_rate, batch_first = True)\n",
    "        \n",
    "        self.out = nn.Linear(hidden_dim, output_dim)\n",
    "        \n",
    "    def forward(self, x, hidden):\n",
    "        output, hidden = self.lstm(x, hidden)   \n",
    "        prediction = self.out(output.float())\n",
    "        return prediction, hidden   \n",
    "\n",
    "class Seq2Seq(nn.Module):\n",
    "    def __init__(self, input_dim, embedding_dim, output_dim, hidden_dim, num_layers):\n",
    "        super(Seq2Seq, self).__init__()\n",
    "        self.encoder = Encoder(input_dim = input_dim, embedding_dim = embedding_dim, hidden_dim = hidden_dim, num_layers = num_layers).to(device)\n",
    "        self.decoder = Decoder(output_dim = output_dim, hidden_dim = hidden_dim, num_layers = num_layers).to(device)\n",
    "        self.output_dim = output_dim\n",
    "            \n",
    "    def forward(self, x, target_length):\n",
    "        batch_size = x.size(0) \n",
    "        input_length = x.size(2) \n",
    "        x = x.permute(0, 2, 1, 3)\n",
    "        x = x.reshape((batch_size, input_length, -1))\n",
    "        \n",
    "        output_dim = self.decoder.output_dim\n",
    "        encoder_output, encoder_hidden = self.encoder(x)\n",
    "\n",
    "        decoder_output = torch.zeros((batch_size, 1, output_dim), device = device)\n",
    "        decoder_hidden = encoder_hidden\n",
    "        \n",
    "        outputs = []\n",
    "        for t in range(target_length):  \n",
    "            decoder_output, decoder_hidden = self.decoder(decoder_output, decoder_hidden)\n",
    "            outputs.append(decoder_output)\n",
    "        out = torch.cat(outputs, dim = 1) \n",
    "        out = out.reshape((batch_size, target_length, 3, -1))\n",
    "        out = out.permute((0, 2, 1, 3))\n",
    "        return out"
   ]
  },
  {
   "cell_type": "code",
   "execution_count": 2,
   "id": "b0739f97",
   "metadata": {},
   "outputs": [],
   "source": [
    "from torchdiffeq import odeint\n",
    "\n",
    "class Latent_ODE(nn.Module):\n",
    "    def __init__(self, latent_dim=4, obs_dim=2, nhidden=20, rhidden = 20, aug = False, aug_dim = 2):\n",
    "        super(Latent_ODE, self).__init__()\n",
    "        self.aug = aug\n",
    "        self.aug_dim = aug_dim\n",
    "        if self.aug:\n",
    "            self.rec = RecognitionRNN(latent_dim, obs_dim+aug_dim, rhidden)\n",
    "        else:\n",
    "            self.rec = RecognitionRNN(latent_dim, obs_dim, rhidden)\n",
    "    \n",
    "        self.func = LatentODEfunc(latent_dim, nhidden)\n",
    "        self.dec = LatentODEDecoder(latent_dim, obs_dim, nhidden)\n",
    "        \n",
    "    def forward(self, x, output_length):\n",
    "        time_steps = torch.arange(0, output_length, 0.01).float().to(device)[:output_length] \n",
    "        batch_size = x.size(0) \n",
    "        input_length = x.size(2)\n",
    "        x = x.permute(0, 2, 1, 3)\n",
    "        x = x.reshape((batch_size, input_length, -1))\n",
    "        if self.aug:\n",
    "            aug_ten = torch.zeros(x.shape[0], x.shape[1], self.aug_dim).float().to(device)\n",
    "            x = torch.cat([x, aug_ten], dim = -1)\n",
    "#         print(xx.shape)\n",
    "#         print(torch.flip(xx, [1]).shape)\n",
    "        z0 = self.rec.forward(torch.flip(x, [1]))\n",
    "        pred_z = odeint(self.func, z0, time_steps).permute(1, 0, 2)\n",
    "        out = self.dec(pred_z)\n",
    "#         print(out.shape)\n",
    "        out = out.reshape((batch_size, output_length, 3, -1))\n",
    "        out = out.permute((0, 2, 1, 3))\n",
    "        return out  \n",
    "    \n",
    "class LatentODEfunc(nn.Module):\n",
    "    def __init__(self, latent_dim=4, nhidden=20):\n",
    "        super(LatentODEfunc, self).__init__()\n",
    "        self.model = nn.Sequential(\n",
    "            nn.Linear(latent_dim, nhidden),\n",
    "            nn.ELU(),\n",
    "            nn.Linear(nhidden, nhidden),\n",
    "            nn.ELU(),\n",
    "            nn.Linear(nhidden, nhidden),\n",
    "            nn.ELU(),\n",
    "            nn.Linear(nhidden, nhidden),\n",
    "            nn.ELU(),\n",
    "            nn.Linear(nhidden, latent_dim)\n",
    "        )\n",
    "        self.nfe = 0\n",
    "\n",
    "    def forward(self, t, x):\n",
    "        self.nfe += 1\n",
    "        out = self.model(x)\n",
    "        return out\n",
    "    \n",
    "class RecognitionRNN(nn.Module):\n",
    "    def __init__(self, latent_dim=4, obs_dim=2, nhidden=25):\n",
    "        super(RecognitionRNN, self).__init__()\n",
    "        self.nhidden = nhidden\n",
    "        self.model = nn.GRU(obs_dim, nhidden, batch_first = True)\n",
    "        self.linear = nn.Linear(nhidden, latent_dim)\n",
    "\n",
    "    def forward(self, x):\n",
    "        #h0 = torch.zeros(1, x.shape[0], self.nhidden).to(device)\n",
    "        output, hn = self.model(x)#, h0\n",
    "        return self.linear(hn[0])\n",
    "    \n",
    "class LatentODEDecoder(nn.Module):\n",
    "    def __init__(self, latent_dim=4, obs_dim=2, nhidden=20):\n",
    "        super(LatentODEDecoder, self).__init__()\n",
    "        self.model = nn.Sequential(\n",
    "            nn.Linear(latent_dim, nhidden),\n",
    "            nn.ReLU(),\n",
    "            nn.Linear(nhidden, obs_dim)\n",
    "        )\n",
    "        \n",
    "    def forward(self, z):\n",
    "        out = self.model(z)\n",
    "        return out "
   ]
  },
  {
   "cell_type": "code",
   "execution_count": null,
   "id": "33354944",
   "metadata": {},
   "outputs": [],
   "source": [
    "class Neural_LWR_sparse2_3cmp(nn.Module):\n",
    "    def __init__(self, nx, dx, dt, kj, vf, xi, tskip, plm = \"none\", initial='random', boundary='zeros',\n",
    "                fix_vf=False, parstep=1):\n",
    "        self.nx = nx\n",
    "        #xi are the locations along distance where data is available\n",
    "        self.xi = xi\n",
    "        self.tskip = tskip \n",
    "            \n",
    "        super(Neural_LWR_sparse2_3cmp, self).__init__()\n",
    "        \n",
    "        self.cmps=[\"k\",\"q\",\"u\"]  #density, flow, velocity\n",
    "#         self.initial={}\n",
    "#         self.boundary={}\n",
    "        \n",
    "        self.initial = initial # shape: [batch, 3, # sensors]\n",
    "        self.boundary = boundary # shape: [batch, seq_len, 3]\n",
    "#         if initial == 'random':\n",
    "#             self.initial[\"u\"] = torch.nn.Parameter(torch.rand(nx))\n",
    "#             self.initial[\"k\"] = torch.nn.Parameter(torch.rand(nx))\n",
    "#             self.initial[\"q\"] = self.initial[\"k\"] * self.initial[\"v\"]\n",
    "#         elif initial == 'zeros':\n",
    "#             for c in self.cmps: \n",
    "#                 self.initial[c] = torch.zeros(nx, requires_grad=True).double()\n",
    "#         else:\n",
    "#             assert list(initial.keys()) == self.cmps, \"initial conditions should be dictionary with k,q and u\"\n",
    "#             for c in self.cmps:\n",
    "#                 self.initial[c] = torch.tensor(initial[c])\n",
    "            \n",
    "#         # influx at upstream border - needs to be known or assumed\n",
    "#         if boundary == 'zeros':\n",
    "#             for c in self.cmps:\n",
    "#                 self.boundary[c] = torch.zeros(nt, requires_grad=True).double()\n",
    "#         else:\n",
    "#             assert list(boundary.keys()) == self.cmps, \"boundary conditions should be dictionary with u,k and q\"\n",
    "#             for c in self.cmps:\n",
    "#                 self.boundary[c] = torch.tensor(boundary[c])\n",
    "            \n",
    "        #factor by which parameter resolution is reduced with respect to nx\n",
    "        self.parstep=parstep\n",
    "        \n",
    "        # use piecewise linear function for kj\n",
    "        if plm == \"none\": \n",
    "            self.kappa = torch.nn.Parameter(torch.tensor(kj[::self.parstep]), requires_grad=True)\n",
    "        elif plm == \"initial\": \n",
    "            self.plm = PiecewiseLinearModel(n_breaks = 2, num_regions = self.nx) \n",
    "        else: \n",
    "            self.plm = plm\n",
    "        \n",
    "        #characteristic velocity vf\n",
    "        if not fix_vf:\n",
    "            self.vf=torch.nn.Parameter(torch.tensor(vf[::self.parstep]), requires_grad=True)\n",
    "#             self.plm = PiecewiseLinearModel(n_breaks = 2, num_regions = self.nx, x = vf)\n",
    "        else:\n",
    "            self.vf=torch.tensor(vf[::self.parstep])\n",
    "        \n",
    "        self.dx = torch.tensor(dx)\n",
    "        self.dt = torch.tensor(dt)\n",
    "        \n",
    "    def forward(self, tsteps):\n",
    "        nt=len(tsteps) \n",
    "\n",
    "#         t = torch.linspace(0, 1, nt).repeat(self.nx, 1)\n",
    "#         kappa = self.plm(t)\n",
    "#         self.k=[self.initial[\"k\"]]   # density\n",
    "#         self.u=[self.initial[\"u\"]]   # velocity\n",
    "#         self.q=[self.initial[\"q\"]]   # flow \n",
    "        batch_size = self.initial.shape[0]\n",
    "        self.k = [self.initial[:, 0]]\n",
    "        self.q = [self.initial[:, 1]]\n",
    "        self.u = [self.initial[:, 2]]\n",
    "        \n",
    "        #initial values at output points\n",
    "        self.ki=[self.initial[:, 0][self.xi]]\n",
    "        self.ui=[self.initial[:, 1][self.xi]]\n",
    "        self.qi=[self.initial[:, 2][self.xi]]\n",
    "        \n",
    "        for n in range(1,nt):\n",
    "            #This corresponds to the upwind scheme according to Gaddam et al. (2015).\n",
    "            nk=torch.zeros((batch_size, nx), requires_grad=True).double()\n",
    "            nu=torch.zeros((batch_size, nx), requires_grad=True).double()\n",
    "            nq=torch.zeros((batch_size, nx), requires_grad=True).double()\n",
    "            \n",
    "            #new values for 3 variables stored in one tensor per time step\n",
    "            nk[:, 0] = self.boundary[:, n, 0]\n",
    "            nq[:, 0] = self.boundary[:, n, 1]\n",
    "            nu[:, 0] = self.boundary[:, n, 2]\n",
    "                                  \n",
    "            #full-resolution tensor hkappa and hv1, from down-sampled versions\n",
    "            idx=torch.arange(self.nx) / self.parstep\n",
    "            hkappa=self.kappa[idx.long()] #.repeat(batch_size, 1)\n",
    "#             hkappa = kappa[:, n - 1]\n",
    "#             print(hkappa.shape)\n",
    "#             hvf=self.vf[idx.long()] #.repeat(batch_size, 1)\n",
    "#             hvf = vf[:, n - 1]\n",
    "            \n",
    "#             print(self.q[n-1][0], nq[0]) \n",
    "            ### \n",
    "            # Method of lines + RK4 method \n",
    "            # dt * f(t[n], y[n]) \n",
    "#             k1_k = - (self.q[n-1][2:] - self.q[n-1][:-2]) / (2 * self.dx) # central difference \n",
    "            k1_k = - (self.q[n-1][:, 1:] - self.q[n-1][:, :-1]) / self.dx # finite difference \n",
    "\n",
    "            nk_1 = torch.cat((nk[:, 0].unsqueeze(1), self.k[n-1][:, 1:] + k1_k / 2 * self.dt), dim = 1) \n",
    "            nu_1 = hvf[1:] * (1 - nk_1[:, 1:] / hkappa[1:]) \n",
    "            nq_1 = nk_1[:, 1:] * nu_1\n",
    "            nq_1 = torch.cat((nq[:, 0].unsqueeze(1), nq_1)) \n",
    "\n",
    "            # dt * f(t[n] + dt/2, y[n] + k1/2)  \n",
    "            k2_k = - (nq_1[:, 1:] - nq_1[:, :-1]) / self.dx\n",
    "            nk_2 = torch.cat((nk[:, 0].unsqueeze(1), self.k[n-1][:, 1:] + k2_k / 2 * self.dt), dim = 1) \n",
    "            nu_2 = hvf[1:] * (1 - nk_2[:, 1:] / hkappa[1:])\n",
    "            nq_2 = nk_2[:, 1:] * nu_2 \n",
    "            nq_2 = torch.cat((nq[:, 0].unsqueeze(1), nq_2)) \n",
    "            \n",
    "            k3_k = - (nq_2[:, 1:] - nq_2[:, :-1]) / self.dx \n",
    "            nk_3 = torch.cat((nk[:, 0].unsqueeze(1), self.k[n-1][:, 1:] + k3_k * self.dt)) \n",
    "            nu_3 = hvf[1:] * (1 - nk_3[:, 1:] / hkappa[1:])\n",
    "            nq_3 = nk_3[:, 1:] * nu_3 \n",
    "            nq_3 = torch.cat((nq[:, 0].unsqueeze(1), nq_3)) \n",
    "\n",
    "            # dt * f(t[n] + dt, y[n] + k3) \n",
    "            k4_k = - (nq_3[:, 1:] - nq_3[:, :-1]) / self.dx\n",
    "            nk[1:] += self.k[n-1][:, 1:] + 1/6 * (k1_k + 2 * k2_k + 2 * k3_k + k4_k) * self.dt \n",
    "            nu[1:] += hvf[1:] * (1 - nk[:, 1:] / hkappa[:, 1:]) \n",
    "            nq[1:] += nk[:, 1:] * nu[:, 1:] \n",
    "\n",
    "            self.k.append(nk)\n",
    "            self.u.append(nu)\n",
    "            self.q.append(nq)\n",
    "#             print(nk)\n",
    "#             print(nu)\n",
    "#             print(nq)\n",
    "#             print(nk.shape)\n",
    "            #only output every tskip timesteps\n",
    "            if (n % self.tskip) == 0:\n",
    "                self.ki.append(nk[self.xi])\n",
    "                self.ui.append(nu[self.xi])\n",
    "                self.qi.append(nq[self.xi])\n",
    "           \n",
    "        return torch.stack([torch.stack(self.ki),torch.stack(self.qi),torch.stack(self.ui)])"
   ]
  },
  {
   "cell_type": "markdown",
   "id": "69a3ddf2",
   "metadata": {},
   "source": [
    "### Data for time"
   ]
  },
  {
   "cell_type": "code",
   "execution_count": 3,
   "id": "ae599ebb",
   "metadata": {},
   "outputs": [],
   "source": [
    "training_data = torch.load(\"training_time.pt\").float()\n",
    "test_data = torch.load(\"test_time.pt\").float()\n",
    "\n",
    "training_set = Dataset(training_data)\n",
    "test_set = Dataset(test_data)\n",
    "training_set, val_set = data.random_split(training_set, [int(len(training_set) * 0.875), int(len(training_set) * 0.125)])"
   ]
  },
  {
   "cell_type": "markdown",
   "id": "dc5f06d8",
   "metadata": {},
   "source": [
    "#### Normalization "
   ]
  },
  {
   "cell_type": "code",
   "execution_count": null,
   "id": "f6bcc633",
   "metadata": {},
   "outputs": [],
   "source": []
  },
  {
   "cell_type": "code",
   "execution_count": 4,
   "id": "46c487f3",
   "metadata": {},
   "outputs": [
    {
     "data": {
      "text/plain": [
       "(torch.Size([44400, 3, 24, 80]), torch.Size([8856, 3, 24, 80]))"
      ]
     },
     "execution_count": 4,
     "metadata": {},
     "output_type": "execute_result"
    }
   ],
   "source": [
    "training_data.shape, test_data.shape"
   ]
  },
  {
   "cell_type": "code",
   "execution_count": 5,
   "id": "833dd929",
   "metadata": {},
   "outputs": [],
   "source": [
    "data1 = torch.cat((training_data, test_data), dim = 0)\n",
    "data_np = np.array(data1)"
   ]
  },
  {
   "cell_type": "code",
   "execution_count": 6,
   "id": "83bd91d5",
   "metadata": {},
   "outputs": [],
   "source": [
    "mean = torch.tensor([data_np[:, 0, :, :].mean(), data_np[:, 1, :, :].mean(), data_np[:, 2, :, :].mean()])\n",
    "std = torch.tensor([data_np[:, 0, :, :].std(), data_np[:, 1, :, :].std(), data_np[:, 2, :, :].std()])\n",
    "data_norm = torch.zeros(data_np.shape, dtype = torch.float) \n",
    "data_norm[:, 0, :, :] = (data1[:, 0, :, :] - mean[0]) / std[0]\n",
    "data_norm[:, 1, :, :] = (data1[:, 1, :, :] - mean[1]) / std[1]\n",
    "data_norm[:, 2, :, :] = (data1[:, 2, :, :] - mean[2]) / std[2]"
   ]
  },
  {
   "cell_type": "code",
   "execution_count": 7,
   "id": "95b0bd7b",
   "metadata": {},
   "outputs": [
    {
     "data": {
      "text/plain": [
       "torch.Size([53256, 3, 24, 80])"
      ]
     },
     "execution_count": 7,
     "metadata": {},
     "output_type": "execute_result"
    }
   ],
   "source": [
    "data_norm.shape"
   ]
  },
  {
   "cell_type": "code",
   "execution_count": 8,
   "id": "5d4e7a93",
   "metadata": {},
   "outputs": [
    {
     "data": {
      "text/plain": [
       "tensor([[-0.9438, -0.9939, -0.9917,  ..., -0.8835, -0.8501, -0.8427],\n",
       "        [-0.9232, -0.9814, -0.9703,  ..., -0.9263, -0.8627, -0.8454],\n",
       "        [-0.9619, -0.9880, -0.9853,  ..., -0.9368, -0.8046, -0.8556],\n",
       "        ...,\n",
       "        [-0.9932, -1.0236, -1.0096,  ..., -0.9724, -0.9206, -0.9441],\n",
       "        [-0.9891, -1.0241, -1.0206,  ..., -0.9704, -0.9108, -0.9473],\n",
       "        [-1.0120, -1.0367, -1.0234,  ..., -0.9601, -0.9142, -0.9507]])"
      ]
     },
     "execution_count": 8,
     "metadata": {},
     "output_type": "execute_result"
    }
   ],
   "source": [
    "data_norm[1, 0]"
   ]
  },
  {
   "cell_type": "code",
   "execution_count": 9,
   "id": "7256c00d",
   "metadata": {},
   "outputs": [
    {
     "data": {
      "text/plain": [
       "(tensor([ 0.0346,  0.8775, 28.5914]), tensor([0.0333, 0.6063, 4.1726]))"
      ]
     },
     "execution_count": 9,
     "metadata": {},
     "output_type": "execute_result"
    }
   ],
   "source": [
    "mean, std"
   ]
  },
  {
   "cell_type": "code",
   "execution_count": 10,
   "id": "3e92217d",
   "metadata": {},
   "outputs": [],
   "source": [
    "training_set = Dataset(data_norm[:44400])\n",
    "test_set = Dataset(data_norm[44400:])\n",
    "training_set, val_set = data.random_split(training_set, [int(len(training_set) * 0.875), int(len(training_set) * 0.125)])"
   ]
  },
  {
   "cell_type": "code",
   "execution_count": 11,
   "id": "f2b0b282",
   "metadata": {},
   "outputs": [
    {
     "name": "stdout",
     "output_type": "stream",
     "text": [
      "38850\n",
      "5550\n",
      "8856\n"
     ]
    }
   ],
   "source": [
    "print(len(training_set))\n",
    "print(len(val_set))\n",
    "print(len(test_set))"
   ]
  },
  {
   "cell_type": "code",
   "execution_count": 12,
   "id": "05e1a085",
   "metadata": {},
   "outputs": [],
   "source": [
    "data_norm = torch.zeros(test_data.shape, dtype = torch.float) \n",
    "test_data[:, 0, :, :] = (test_data[:, 0, :, :] - mean[0]) / std[0]\n",
    "test_data[:, 1, :, :] = (test_data[:, 1, :, :] - mean[1]) / std[1]\n",
    "test_data[:, 2, :, :] = (test_data[:, 2, :, :] - mean[2]) / std[2]"
   ]
  },
  {
   "cell_type": "markdown",
   "id": "6c6aaa07",
   "metadata": {},
   "source": [
    "#### Dataloader "
   ]
  },
  {
   "cell_type": "code",
   "execution_count": 13,
   "id": "1d5c7c24",
   "metadata": {},
   "outputs": [],
   "source": [
    "test_set = Dataset(test_data)\n",
    "test_loader = data.DataLoader(test_set, batch_size = 128, shuffle = False)"
   ]
  },
  {
   "cell_type": "code",
   "execution_count": 14,
   "id": "7ba7e25c",
   "metadata": {},
   "outputs": [],
   "source": [
    "train_loader = data.DataLoader(training_set, batch_size = 128, shuffle = True)\n",
    "val_loader = data.DataLoader(val_set, batch_size = 128, shuffle = False)"
   ]
  },
  {
   "cell_type": "code",
   "execution_count": 15,
   "id": "3d5c0f51",
   "metadata": {},
   "outputs": [],
   "source": [
    "def train(model, train_loader, optimizer, criterion): \n",
    "    preds = []\n",
    "    trues = []\n",
    "    mse = [] \n",
    "#     count = 0\n",
    "    model.train()\n",
    "    for X, y in train_loader: \n",
    "#         if count % 5 == 0 : print(\"running batch\", count)\n",
    "#         count += 1\n",
    "        X, y = X.to(device), y.to(device)\n",
    "#         y = y.reshape((y.shape[0], -1))\n",
    "        pred = model(X, 12) \n",
    "        \n",
    "        loss = 0\n",
    "        loss = criterion(pred, y)\n",
    "        mse.append(loss.item())\n",
    "        optimizer.zero_grad()\n",
    "        loss.backward()\n",
    "        optimizer.step()\n",
    "    \n",
    "        trues.append(y.cpu().data.numpy())\n",
    "        preds.append(pred.cpu().data.numpy())\n",
    "    \n",
    "    preds = np.concatenate(preds, axis = 0)\n",
    "    trues = np.concatenate(trues, axis = 0)\n",
    "    \n",
    "    return preds, trues, np.mean(mse)"
   ]
  },
  {
   "cell_type": "code",
   "execution_count": 16,
   "id": "8ac999d6",
   "metadata": {},
   "outputs": [],
   "source": [
    "def val(model, val_loader, best_loss, criterion, name): \n",
    "    preds = []\n",
    "    trues = []\n",
    "    mse = []\n",
    "    \n",
    "    model.eval()\n",
    "    with torch.no_grad():\n",
    "        for X, y in val_loader:\n",
    "            X, y = X.to(device), y.to(device)\n",
    "#             y = y.reshape((y.shape[0], -1))\n",
    "            pred = model(X, 12)\n",
    "            \n",
    "            loss = 0\n",
    "            loss = criterion(pred, y)\n",
    "            mse.append(loss.item()) \n",
    "            \n",
    "            trues.append(y.cpu().data.numpy())\n",
    "            preds.append(pred.cpu().data.numpy())\n",
    "\n",
    "        preds = np.concatenate(preds, axis = 0)\n",
    "        trues = np.concatenate(trues, axis = 0)\n",
    "    \n",
    "    val_loss = np.mean(mse)\n",
    "    if val_loss <= best_loss: \n",
    "        best_loss = val_loss\n",
    "#             torch.save(model.state_dict(), 'model.pt')\n",
    "        torch.save(model, name + \".pth\")\n",
    "\n",
    "    return preds, trues, val_loss, best_loss"
   ]
  },
  {
   "cell_type": "code",
   "execution_count": 17,
   "id": "b89ed67d",
   "metadata": {},
   "outputs": [],
   "source": [
    "def val_true(model, val_loader, best_loss, criterion, name): \n",
    "    preds = []\n",
    "    trues = []\n",
    "    mse = []\n",
    "    \n",
    "    model.eval()\n",
    "    with torch.no_grad():\n",
    "        for X, y in val_loader:\n",
    "            X, y = X.to(device), y.to(device)\n",
    "\n",
    "            pred = model(X, 12)\n",
    "            pred[:, 0, :, :] = (pred[:, 0, :, :] * std[0] + mean[0])\n",
    "            pred[:, 1, :, :] = (pred[:, 1, :, :] * std[1] + mean[1])\n",
    "            pred[:, 2, :, :] = (pred[:, 2, :, :] * std[2] + mean[2])\n",
    "                                \n",
    "            y[:, 0, :, :] = (y[:, 0, :, :] * std[0] + mean[0])\n",
    "            y[:, 1, :, :] = (y[:, 1, :, :] * std[1] + mean[1])\n",
    "            y[:, 2, :, :] = (y[:, 2, :, :] * std[2] + mean[2])\n",
    "            loss = 0\n",
    "            loss = criterion(pred, y)\n",
    "            mse.append(loss.item()) \n",
    "            \n",
    "            trues.append(y.cpu().data.numpy())\n",
    "            preds.append(pred.cpu().data.numpy())\n",
    "\n",
    "        preds = np.concatenate(preds, axis = 0)\n",
    "        trues = np.concatenate(trues, axis = 0)\n",
    "    \n",
    "    val_loss = np.mean(mse)\n",
    "\n",
    "\n",
    "    return preds, trues, val_loss, best_loss"
   ]
  },
  {
   "cell_type": "code",
   "execution_count": 21,
   "id": "d2e8458b",
   "metadata": {},
   "outputs": [],
   "source": [
    "input_dim = 3 * 80 \n",
    "input_len = 12\n",
    "hidden_dim = 512\n",
    "output_dim = 3 * 80\n",
    "\n",
    "device = \"cuda\"\n",
    "model = FC(input_dim, input_len, hidden_dim, output_dim).to(device)"
   ]
  },
  {
   "cell_type": "code",
   "execution_count": 51,
   "id": "7c038ebe",
   "metadata": {},
   "outputs": [],
   "source": [
    "device = \"cuda\"\n",
    "model = Seq2Seq(input_dim = 3 * 80, embedding_dim = 256, output_dim = 3 * 80, hidden_dim = 512, num_layers = 1).to(device)"
   ]
  },
  {
   "cell_type": "code",
   "execution_count": 7,
   "id": "f4ef6c78",
   "metadata": {},
   "outputs": [],
   "source": [
    "device = \"cuda\"\n",
    "model = Latent_ODE(latent_dim = 256, obs_dim = 240, nhidden = 256, rhidden = 256, aug = False).to(device)"
   ]
  },
  {
   "cell_type": "code",
   "execution_count": 22,
   "id": "5a0b2a5b",
   "metadata": {},
   "outputs": [
    {
     "name": "stdout",
     "output_type": "stream",
     "text": [
      "2648816\n"
     ]
    }
   ],
   "source": [
    "name = \"FC\"\n",
    "learning_rate = 0.01\n",
    "optimizer = torch.optim.Adam(model.parameters(), lr = learning_rate)\n",
    "scheduler = torch.optim.lr_scheduler.StepLR(optimizer, step_size = 1, gamma=0.95)\n",
    "criterion = nn.MSELoss()\n",
    "print(sum(p.numel() for p in model.parameters() if p.requires_grad))\n",
    "\n",
    "best_loss = 100   \n",
    "train_losses = []\n",
    "val_losses = []"
   ]
  },
  {
   "cell_type": "code",
   "execution_count": 53,
   "id": "cd5af3c3",
   "metadata": {},
   "outputs": [
    {
     "name": "stdout",
     "output_type": "stream",
     "text": [
      "Epoch: 1 completed in: 5.6383960247039795s. Training loss: 0.2366814226108162. Val loss: 0.17446700449694286\n",
      "Epoch: 2 completed in: 5.02957820892334s. Training loss: 0.16155681217481432. Val loss: 0.15604772232472897\n",
      "Epoch: 3 completed in: 5.027646541595459s. Training loss: 0.14381112121535758. Val loss: 0.1407723089849407\n",
      "Epoch: 4 completed in: 5.038166761398315s. Training loss: 0.13456907022842451. Val loss: 0.14030628228052097\n",
      "Epoch: 5 completed in: 4.998900651931763s. Training loss: 0.12890779273584485. Val loss: 0.12695559791543268\n",
      "0.007737809374999999\n",
      "Epoch: 6 completed in: 5.066921710968018s. Training loss: 0.12242634253772466. Val loss: 0.12545786476270718\n",
      "Epoch: 7 completed in: 5.007626056671143s. Training loss: 0.11824067270285205. Val loss: 0.11883871240372007\n",
      "Epoch: 8 completed in: 5.062180757522583s. Training loss: 0.11483679643194926. Val loss: 0.11911268921738322\n",
      "Epoch: 9 completed in: 5.072439432144165s. Training loss: 0.11084156454001602. Val loss: 0.11413075334646484\n",
      "Epoch: 10 completed in: 5.0104711055755615s. Training loss: 0.1098950809161914. Val loss: 0.11481059003960002\n",
      "0.005987369392383786\n",
      "Epoch: 11 completed in: 5.014112234115601s. Training loss: 0.10656110937462042. Val loss: 0.11120410178872672\n",
      "Epoch: 12 completed in: 5.065636396408081s. Training loss: 0.10324807835154627. Val loss: 0.10687582194805145\n",
      "Epoch: 13 completed in: 5.029446125030518s. Training loss: 0.10340955422112816. Val loss: 0.10627555881034244\n",
      "Epoch: 14 completed in: 5.039051055908203s. Training loss: 0.0991080843255316. Val loss: 0.1012729038907723\n",
      "Epoch: 15 completed in: 5.013563871383667s. Training loss: 0.09525396768003702. Val loss: 0.09792452136223967\n",
      "0.00463291230159753\n",
      "Epoch: 16 completed in: 5.0552077293396s. Training loss: 0.09320537649144076. Val loss: 0.09824514558369463\n",
      "Epoch: 17 completed in: 5.013075590133667s. Training loss: 0.09213766489962213. Val loss: 0.09555740265006368\n",
      "Epoch: 18 completed in: 5.035659074783325s. Training loss: 0.09005160721656132. Val loss: 0.09296017123216932\n",
      "Epoch: 19 completed in: 5.062736988067627s. Training loss: 0.08743645966445145. Val loss: 0.09199042787606065\n",
      "Epoch: 20 completed in: 5.034971237182617s. Training loss: 0.0854261108723126. Val loss: 0.08838499557565559\n",
      "0.0035848592240854188\n",
      "Epoch: 21 completed in: 5.014378547668457s. Training loss: 0.0830929915567762. Val loss: 0.08763317662206563\n",
      "Epoch: 22 completed in: 5.063485145568848s. Training loss: 0.08225705594706692. Val loss: 0.08546622317623008\n",
      "Epoch: 23 completed in: 5.013091325759888s. Training loss: 0.08263920921538222. Val loss: 0.084507805718617\n",
      "Epoch: 24 completed in: 4.991355657577515s. Training loss: 0.0803146172854069. Val loss: 0.08578383482315323\n",
      "Epoch: 25 completed in: 5.075566053390503s. Training loss: 0.07694695621581846. Val loss: 0.08120658079331572\n",
      "0.0027738957312183374\n",
      "Epoch: 26 completed in: 5.033406019210815s. Training loss: 0.07560165205627288. Val loss: 0.08006712980568409\n",
      "Epoch: 27 completed in: 4.999476909637451s. Training loss: 0.07397203329999588. Val loss: 0.07868395627222279\n",
      "Epoch: 28 completed in: 5.049587249755859s. Training loss: 0.07308328715398123. Val loss: 0.07932478028603575\n",
      "Epoch: 29 completed in: 5.0122294425964355s. Training loss: 0.07148579709035785. Val loss: 0.07705550581555475\n",
      "Epoch: 30 completed in: 5.020365476608276s. Training loss: 0.06965976430250234. Val loss: 0.07466878555715084\n",
      "0.0021463876394293723\n",
      "Epoch: 31 completed in: 5.065669059753418s. Training loss: 0.06783039078704621. Val loss: 0.0733402447605675\n",
      "Epoch: 32 completed in: 5.098691701889038s. Training loss: 0.0666621119690765. Val loss: 0.07394372019916773\n",
      "Epoch: 33 completed in: 5.023446083068848s. Training loss: 0.06569221042292683. Val loss: 0.07148568975654515\n",
      "Epoch: 34 completed in: 5.028270483016968s. Training loss: 0.06446424326369245. Val loss: 0.07096142787486315\n",
      "Epoch: 35 completed in: 5.054559230804443s. Training loss: 0.06412859015951031. Val loss: 0.06968420278280973\n",
      "0.0016608338398760713\n",
      "Epoch: 36 completed in: 5.030850887298584s. Training loss: 0.0627818693112778. Val loss: 0.06881685851311142\n",
      "Epoch: 37 completed in: 5.030100107192993s. Training loss: 0.06169502459172355. Val loss: 0.067712634971196\n",
      "Epoch: 38 completed in: 5.4282519817352295s. Training loss: 0.06019135252082426. Val loss: 0.06661845769055864\n",
      "Epoch: 39 completed in: 5.124392986297607s. Training loss: 0.0594812570703461. Val loss: 0.06686111471869728\n",
      "Epoch: 40 completed in: 5.59350848197937s. Training loss: 0.058929923456162214. Val loss: 0.06536616672846404\n",
      "0.0012851215656510308\n",
      "Epoch: 41 completed in: 5.061997652053833s. Training loss: 0.05807121897018269. Val loss: 0.06487514129416509\n",
      "Epoch: 42 completed in: 5.04246187210083s. Training loss: 0.057093104163772966. Val loss: 0.06378651486540382\n",
      "Epoch: 43 completed in: 5.048582315444946s. Training loss: 0.05599059897327894. Val loss: 0.06345850483260372\n",
      "Epoch: 44 completed in: 5.065052270889282s. Training loss: 0.05546751350017363. Val loss: 0.06314910067753358\n",
      "Epoch: 45 completed in: 5.017463684082031s. Training loss: 0.05623934817451395. Val loss: 0.06302659619938243\n",
      "0.000994402569870922\n",
      "Epoch: 46 completed in: 5.023736000061035s. Training loss: 0.05453363787627926. Val loss: 0.062032628381116825\n",
      "Epoch: 47 completed in: 5.0771403312683105s. Training loss: 0.05376749869288975. Val loss: 0.06237556522881443\n",
      "Epoch: 48 completed in: 5.04539680480957s. Training loss: 0.053416801310193385. Val loss: 0.06087116389112039\n",
      "Epoch: 49 completed in: 5.0052876472473145s. Training loss: 0.05247435739607011. Val loss: 0.06121946701949293\n",
      "Epoch: 50 completed in: 5.0820770263671875s. Training loss: 0.05199670158081541. Val loss: 0.060184761035171425\n",
      "0.0007694497527671312\n",
      "Epoch: 51 completed in: 5.0432562828063965s. Training loss: 0.051788100641907045. Val loss: 0.05965625816448168\n",
      "Epoch: 52 completed in: 5.013650178909302s. Training loss: 0.051202980544124. Val loss: 0.059294038198210976\n",
      "Epoch: 53 completed in: 5.075713396072388s. Training loss: 0.05028484569323298. Val loss: 0.05861456895416433\n",
      "Epoch: 54 completed in: 5.024065971374512s. Training loss: 0.04994072865596727. Val loss: 0.05845026519488205\n",
      "Epoch: 55 completed in: 4.997937440872192s. Training loss: 0.049947530729696155. Val loss: 0.06001514501192353\n",
      "0.000595385551055294\n",
      "Epoch: 56 completed in: 5.056776523590088s. Training loss: 0.049467417288963735. Val loss: 0.05787725924429568\n",
      "Epoch: 57 completed in: 5.0762739181518555s. Training loss: 0.04877273262919564. Val loss: 0.05750825188376687\n",
      "Epoch: 58 completed in: 5.029650688171387s. Training loss: 0.04838843233148126. Val loss: 0.05741044286299835\n",
      "Epoch: 59 completed in: 5.017592906951904s. Training loss: 0.04819289165990133. Val loss: 0.057194502939554775\n",
      "Epoch: 60 completed in: 5.076246976852417s. Training loss: 0.04776876014167149. Val loss: 0.056795584207231346\n",
      "0.00046069798986951934\n",
      "Epoch: 61 completed in: 5.01374077796936s. Training loss: 0.04740883169793769. Val loss: 0.05689243464307352\n",
      "Epoch: 62 completed in: 5.02654767036438s. Training loss: 0.04720636455979394. Val loss: 0.05655794649977575\n",
      "Epoch: 63 completed in: 5.063309907913208s. Training loss: 0.04700974186294173. Val loss: 0.05641274619847536\n",
      "Epoch: 64 completed in: 5.029517889022827s. Training loss: 0.04655268279786565. Val loss: 0.056069607761773194\n",
      "Epoch: 65 completed in: 5.026962041854858s. Training loss: 0.04622521712199638. Val loss: 0.05592942110855471\n",
      "0.00035647932250560207\n",
      "Epoch: 66 completed in: 5.096134424209595s. Training loss: 0.04602321945620995. Val loss: 0.05575271145525304\n",
      "Epoch: 67 completed in: 5.030651092529297s. Training loss: 0.045780314818808905. Val loss: 0.05554158917882226\n",
      "Epoch: 68 completed in: 5.050119876861572s. Training loss: 0.04555707747165702. Val loss: 0.05545383556322618\n",
      "Epoch: 69 completed in: 5.088468551635742s. Training loss: 0.04531348208700748. Val loss: 0.05519313331354748\n",
      "Epoch: 70 completed in: 5.016226530075073s. Training loss: 0.04510220051988175. Val loss: 0.05508380925113505\n",
      "0.00027583690436774953\n",
      "Epoch: 71 completed in: 5.045725345611572s. Training loss: 0.04492495960163835. Val loss: 0.054939361035146496\n",
      "Epoch: 72 completed in: 5.059216737747192s. Training loss: 0.044737014833739715. Val loss: 0.05477199618789283\n"
     ]
    },
    {
     "name": "stdout",
     "output_type": "stream",
     "text": [
      "Epoch: 73 completed in: 5.022761821746826s. Training loss: 0.04465727106128868. Val loss: 0.054776296273551205\n",
      "Epoch: 74 completed in: 5.045770645141602s. Training loss: 0.044398225966448844. Val loss: 0.05465252858332612\n",
      "Epoch: 75 completed in: 5.0257768630981445s. Training loss: 0.04428143179240195. Val loss: 0.054556530392305416\n",
      "0.00021343733845877503\n",
      "Epoch: 76 completed in: 5.058190822601318s. Training loss: 0.04408612457643214. Val loss: 0.0543900468302044\n",
      "Epoch: 77 completed in: 5.051549673080444s. Training loss: 0.043929239943329444. Val loss: 0.05425691833211617\n",
      "Epoch: 78 completed in: 5.024392366409302s. Training loss: 0.04380851435033899. Val loss: 0.05417237871072509\n",
      "Epoch: 79 completed in: 5.109514474868774s. Training loss: 0.04364922253022853. Val loss: 0.05414840553633191\n",
      "Epoch: 80 completed in: 5.05009388923645s. Training loss: 0.0434985380301154. Val loss: 0.054087264886633915\n",
      "0.00016515374385013573\n",
      "Epoch: 81 completed in: 5.043016195297241s. Training loss: 0.043423310461405074. Val loss: 0.05403386420485648\n",
      "Epoch: 82 completed in: 5.075186729431152s. Training loss: 0.04343570545805912. Val loss: 0.05396518068896099\n",
      "Epoch: 83 completed in: 5.023488998413086s. Training loss: 0.04319212529318113. Val loss: 0.05385605863888155\n",
      "Epoch: 84 completed in: 5.024361848831177s. Training loss: 0.04305063775054326. Val loss: 0.053833536634391006\n",
      "Epoch: 85 completed in: 5.079861402511597s. Training loss: 0.04295816700170307. Val loss: 0.05381595986810597\n",
      "0.00012779281874799285\n",
      "Epoch: 86 completed in: 5.023906707763672s. Training loss: 0.04287125771914266. Val loss: 0.05368280732496218\n",
      "Epoch: 87 completed in: 5.016541004180908s. Training loss: 0.042799280270149835. Val loss: 0.053641831163655625\n",
      "Epoch: 88 completed in: 5.0643839836120605s. Training loss: 0.0426880117064636. Val loss: 0.053632822734388436\n",
      "Epoch: 89 completed in: 5.018661975860596s. Training loss: 0.04262171158763139. Val loss: 0.05355184423652562\n",
      "Epoch: 90 completed in: 5.022968530654907s. Training loss: 0.042540770967638024. Val loss: 0.05347836229272864\n",
      "9.888364709658946e-05\n",
      "Epoch: 91 completed in: 5.069563150405884s. Training loss: 0.042483489997194784. Val loss: 0.05347060539167036\n",
      "Epoch: 92 completed in: 5.044596910476685s. Training loss: 0.042402321730103144. Val loss: 0.053389839658683\n",
      "Epoch: 93 completed in: 5.044325351715088s. Training loss: 0.042325339439374055. Val loss: 0.053351790136234326\n",
      "Epoch: 94 completed in: 5.017014265060425s. Training loss: 0.0422842475512114. Val loss: 0.05337422417307442\n",
      "Epoch: 95 completed in: 5.06795072555542s. Training loss: 0.042209696857944914. Val loss: 0.053338064388795334\n",
      "7.651428115381812e-05\n",
      "Epoch: 96 completed in: 5.70088267326355s. Training loss: 0.04214840779375089. Val loss: 0.05328405428339134\n",
      "Epoch: 97 completed in: 5.385167121887207s. Training loss: 0.042092237523511836. Val loss: 0.053347273814407264\n",
      "Epoch: 98 completed in: 5.8500940799713135s. Training loss: 0.04204493518428583. Val loss: 0.05327705971219323\n",
      "Epoch: 99 completed in: 5.146183729171753s. Training loss: 0.04200477138357727. Val loss: 0.05319136067886244\n",
      "Epoch: 100 completed in: 5.003848075866699s. Training loss: 0.04193683198996281. Val loss: 0.053206241012296894\n",
      "5.920529220333995e-05\n"
     ]
    }
   ],
   "source": [
    "import time\n",
    "\n",
    "num_epoch = 100 \n",
    "\n",
    "for epoch in range(1, num_epoch + 1): \n",
    "    start = time.time()\n",
    "    train_loss = train(model, train_loader, optimizer, criterion)[-1]\n",
    "    train_losses.append(train_loss)\n",
    "    _, _, val_loss, best_loss = val(model, val_loader, best_loss, criterion, name) \n",
    "    val_losses.append(val_loss)\n",
    "    best_loss = best_loss\n",
    "    end = time.time()\n",
    "    print(f\"Epoch: {epoch} completed in: {end - start}s. Training loss: {train_loss}. Val loss: {val_loss}\") \n",
    "    \n",
    "    scheduler.step() \n",
    "    if epoch % 5 == 0: print(optimizer.param_groups[0]['lr'])"
   ]
  },
  {
   "cell_type": "code",
   "execution_count": 54,
   "id": "40bf991a",
   "metadata": {},
   "outputs": [],
   "source": [
    "_, _, val_loss, best_loss = val_true(model, val_loader, best_loss, criterion, name) "
   ]
  },
  {
   "cell_type": "code",
   "execution_count": 55,
   "id": "911ebfe2",
   "metadata": {},
   "outputs": [
    {
     "data": {
      "text/plain": [
       "0.4899429807608778"
      ]
     },
     "execution_count": 55,
     "metadata": {},
     "output_type": "execute_result"
    }
   ],
   "source": [
    "val_loss"
   ]
  },
  {
   "cell_type": "code",
   "execution_count": 59,
   "id": "8cdc1083",
   "metadata": {},
   "outputs": [],
   "source": [
    "_, _, test_loss, best_loss = val_true(model, test_loader, best_loss, criterion, name) "
   ]
  },
  {
   "cell_type": "code",
   "execution_count": 60,
   "id": "77666bbf",
   "metadata": {},
   "outputs": [
    {
     "data": {
      "text/plain": [
       "0.7503080221159117"
      ]
     },
     "execution_count": 60,
     "metadata": {},
     "output_type": "execute_result"
    }
   ],
   "source": [
    "test_loss"
   ]
  },
  {
   "cell_type": "code",
   "execution_count": 120,
   "id": "5faef05a",
   "metadata": {},
   "outputs": [
    {
     "data": {
      "text/plain": [
       "torch.Size([1, 3, 24, 80])"
      ]
     },
     "execution_count": 120,
     "metadata": {},
     "output_type": "execute_result"
    }
   ],
   "source": [
    "sample = data_norm[1].unsqueeze(dim = 0).to(device)\n",
    "sample.shape"
   ]
  },
  {
   "cell_type": "code",
   "execution_count": 122,
   "id": "01246685",
   "metadata": {},
   "outputs": [
    {
     "data": {
      "text/plain": [
       "tensor([-1.0120, -1.0367, -1.0234, -1.0151, -1.0167, -1.0020, -0.8603, -1.0366,\n",
       "        -0.7483, -0.9782, -0.9445, -0.9412, -0.9398, -0.9197, -0.9352, -0.8993,\n",
       "        -0.9802, -0.9509, -0.9617, -0.9769, -0.9378,  0.2531, -0.9428, -0.9116,\n",
       "        -0.9673, -0.9580, -0.9093, -1.0052, -0.9688, -0.9609, -0.9761, -0.9457,\n",
       "        -0.9855, -0.9818, -0.9926, -0.9093, -1.0037, -1.0000, -0.9782, -0.9310,\n",
       "        -0.9146, -0.9850, -0.9981, -1.0138, -0.9507, -1.0365, -1.0365, -0.9677,\n",
       "        -0.9593, -0.9584, -0.9800, -0.9118, -0.9162, -0.8667, -0.9870, -0.9868,\n",
       "        -0.9496, -0.9653, -0.9729, -0.9662, -0.8962, -0.8402, -0.7919, -0.8443,\n",
       "        -0.7767, -0.9603, -0.9602, -0.9666, -0.9610, -0.9592, -0.9364, -0.9652,\n",
       "        -0.9510, -0.9741, -0.9672, -0.8974, -0.9910, -0.9601, -0.9142, -0.9507],\n",
       "       device='cuda:0')"
      ]
     },
     "execution_count": 122,
     "metadata": {},
     "output_type": "execute_result"
    }
   ],
   "source": [
    "sample[0, 0, -1]"
   ]
  },
  {
   "cell_type": "code",
   "execution_count": 123,
   "id": "22ebf968",
   "metadata": {},
   "outputs": [],
   "source": [
    "pred1 = model(sample[:12], 12)"
   ]
  },
  {
   "cell_type": "code",
   "execution_count": 124,
   "id": "a15733f7",
   "metadata": {},
   "outputs": [
    {
     "data": {
      "text/plain": [
       "torch.Size([1, 3, 12, 80])"
      ]
     },
     "execution_count": 124,
     "metadata": {},
     "output_type": "execute_result"
    }
   ],
   "source": [
    "pred1.shape"
   ]
  },
  {
   "cell_type": "code",
   "execution_count": 103,
   "id": "3f788021",
   "metadata": {},
   "outputs": [],
   "source": [
    "sam = training_data[1].unsqueeze(dim = 0).to(device)"
   ]
  },
  {
   "cell_type": "code",
   "execution_count": 108,
   "id": "f4f287b3",
   "metadata": {},
   "outputs": [],
   "source": [
    "sam[:, 0, :, :] = (sam[:, 0, :, :] - mean[0]) / std[0]\n",
    "sam[:, 1, :, :] = (sam[:, 1, :, :] - mean[1]) / std[1]\n",
    "sam[:, 2, :, :] = (sam[:, 2, :, :] - mean[2]) / std[2]"
   ]
  },
  {
   "cell_type": "code",
   "execution_count": 109,
   "id": "ab378b5d",
   "metadata": {},
   "outputs": [
    {
     "data": {
      "text/plain": [
       "tensor([[-0.9438, -0.9939, -0.9917,  ..., -0.8835, -0.8501, -0.8427],\n",
       "        [-0.9232, -0.9814, -0.9703,  ..., -0.9263, -0.8627, -0.8454],\n",
       "        [-0.9619, -0.9880, -0.9853,  ..., -0.9368, -0.8046, -0.8556],\n",
       "        ...,\n",
       "        [-0.9932, -1.0236, -1.0096,  ..., -0.9724, -0.9206, -0.9441],\n",
       "        [-0.9891, -1.0241, -1.0206,  ..., -0.9704, -0.9108, -0.9473],\n",
       "        [-1.0120, -1.0367, -1.0234,  ..., -0.9601, -0.9142, -0.9507]],\n",
       "       device='cuda:0')"
      ]
     },
     "execution_count": 109,
     "metadata": {},
     "output_type": "execute_result"
    }
   ],
   "source": [
    "sam[0, 0]"
   ]
  },
  {
   "cell_type": "code",
   "execution_count": 125,
   "id": "1c1d0afc",
   "metadata": {},
   "outputs": [],
   "source": [
    "pred1[:, 0, :, :] = (pred1[:, 0, :, :] * std[0] + mean[0])\n",
    "pred1[:, 1, :, :] = (pred1[:, 1, :, :] * std[1] + mean[1])\n",
    "pred1[:, 2, :, :] = (pred1[:, 2, :, :] * std[2] + mean[2])\n",
    "                                \n",
    "sample[:, 0, :, :] = (sample[:, 0, :, :] * std[0] + mean[0])\n",
    "sample[:, 1, :, :] = (sample[:, 1, :, :] * std[1] + mean[1])\n",
    "sample[:, 2, :, :] = (sample[:, 2, :, :] * std[2] + mean[2])"
   ]
  },
  {
   "cell_type": "code",
   "execution_count": 126,
   "id": "b24c7ea5",
   "metadata": {},
   "outputs": [
    {
     "data": {
      "text/plain": [
       "tensor(0.1827, device='cuda:0', grad_fn=<MseLossBackward>)"
      ]
     },
     "execution_count": 126,
     "metadata": {},
     "output_type": "execute_result"
    }
   ],
   "source": [
    "criterion(pred1, sample[:, :, 12:])"
   ]
  },
  {
   "cell_type": "code",
   "execution_count": 105,
   "id": "fc901dae",
   "metadata": {},
   "outputs": [
    {
     "data": {
      "text/plain": [
       "tensor(1.2652, device='cuda:0', grad_fn=<MseLossBackward>)"
      ]
     },
     "execution_count": 105,
     "metadata": {},
     "output_type": "execute_result"
    }
   ],
   "source": [
    "criterion(pred1, sam[:, :, 12:])"
   ]
  },
  {
   "cell_type": "code",
   "execution_count": 131,
   "id": "c18b61de",
   "metadata": {},
   "outputs": [
    {
     "data": {
      "text/plain": [
       "tensor([0.0009, 0.0001, 0.0006, 0.0008, 0.0008, 0.0013, 0.0060, 0.0001, 0.0097,\n",
       "        0.0021, 0.0032, 0.0033, 0.0033, 0.0040, 0.0035, 0.0047, 0.0020, 0.0030,\n",
       "        0.0026, 0.0021, 0.0034, 0.0430, 0.0032, 0.0043, 0.0024, 0.0027, 0.0044,\n",
       "        0.0012, 0.0024, 0.0026, 0.0021, 0.0031, 0.0018, 0.0019, 0.0016, 0.0044,\n",
       "        0.0012, 0.0013, 0.0021, 0.0036, 0.0042, 0.0018, 0.0014, 0.0009, 0.0030,\n",
       "        0.0001, 0.0001, 0.0024, 0.0027, 0.0027, 0.0020, 0.0043, 0.0041, 0.0058,\n",
       "        0.0018, 0.0018, 0.0030, 0.0025, 0.0022, 0.0025, 0.0048, 0.0067, 0.0083,\n",
       "        0.0065, 0.0088, 0.0027, 0.0027, 0.0024, 0.0026, 0.0027, 0.0035, 0.0025,\n",
       "        0.0030, 0.0022, 0.0024, 0.0047, 0.0016, 0.0027, 0.0042, 0.0030],\n",
       "       device='cuda:0')"
      ]
     },
     "execution_count": 131,
     "metadata": {},
     "output_type": "execute_result"
    }
   ],
   "source": [
    "sample[0, 0, -1, :]"
   ]
  },
  {
   "cell_type": "code",
   "execution_count": 127,
   "id": "7f6e299e",
   "metadata": {},
   "outputs": [
    {
     "data": {
      "text/plain": [
       "[<matplotlib.lines.Line2D at 0x18311750880>]"
      ]
     },
     "execution_count": 127,
     "metadata": {},
     "output_type": "execute_result"
    },
    {
     "data": {
      "image/png": "[encoded data removed]",
      "text/plain": [
       "<Figure size 432x288 with 1 Axes>"
      ]
     },
     "metadata": {
      "needs_background": "light"
     },
     "output_type": "display_data"
    }
   ],
   "source": [
    "from matplotlib import pyplot as plt\n",
    "\n",
    "plt.plot(np.arange(80), pred1[0, 0, -1, :].cpu().detach().numpy())\n",
    "plt.plot(np.arange(80), sample[0, 0, -1, :].cpu().detach().numpy())"
   ]
  },
  {
   "cell_type": "code",
   "execution_count": 129,
   "id": "b924907a",
   "metadata": {},
   "outputs": [
    {
     "data": {
      "text/plain": [
       "[<matplotlib.lines.Line2D at 0x183127f0b20>]"
      ]
     },
     "execution_count": 129,
     "metadata": {},
     "output_type": "execute_result"
    },
    {
     "data": {
      "image/png": "[encoded data removed]",
      "text/plain": [
       "<Figure size 432x288 with 1 Axes>"
      ]
     },
     "metadata": {
      "needs_background": "light"
     },
     "output_type": "display_data"
    }
   ],
   "source": [
    "from matplotlib import pyplot as plt\n",
    "\n",
    "plt.plot(np.arange(80), pred1[0, 1, -1, :].cpu().detach().numpy())\n",
    "plt.plot(np.arange(80), sample[0, 1, -1, :].cpu().detach().numpy())"
   ]
  },
  {
   "cell_type": "code",
   "execution_count": 130,
   "id": "990643b7",
   "metadata": {},
   "outputs": [
    {
     "data": {
      "text/plain": [
       "[<matplotlib.lines.Line2D at 0x183191ff4c0>]"
      ]
     },
     "execution_count": 130,
     "metadata": {},
     "output_type": "execute_result"
    },
    {
     "data": {
      "image/png": "[encoded data removed]",
      "text/plain": [
       "<Figure size 432x288 with 1 Axes>"
      ]
     },
     "metadata": {
      "needs_background": "light"
     },
     "output_type": "display_data"
    }
   ],
   "source": [
    "from matplotlib import pyplot as plt\n",
    "\n",
    "plt.plot(np.arange(80), pred1[0, 2, -1, :].cpu().detach().numpy())\n",
    "plt.plot(np.arange(80), sample[0, 2, -1, :].cpu().detach().numpy())"
   ]
  },
  {
   "cell_type": "code",
   "execution_count": null,
   "id": "553b11a8",
   "metadata": {},
   "outputs": [],
   "source": [
    "import time\n",
    "\n",
    "num_epoch = 100 \n",
    "\n",
    "for epoch in range(1, num_epoch + 1): \n",
    "    start = time.time()\n",
    "    train_loss = train(model, train_loader, optimizer, criterion)[-1]\n",
    "    train_losses.append(train_loss)\n",
    "    _, _, val_loss, best_loss = val(model, val_loader, best_loss, criterion, name) \n",
    "    val_losses.append(val_loss)\n",
    "    best_loss = best_loss\n",
    "    end = time.time()\n",
    "    print(f\"Epoch: {epoch} completed in: {end - start}s. Training loss: {train_loss}. Val loss: {val_loss}\") \n",
    "    \n",
    "    scheduler.step() \n",
    "    if epoch % 5 == 0: print(optimizer.param_groups[0]['lr'])"
   ]
  },
  {
   "cell_type": "code",
   "execution_count": null,
   "id": "a1f03f7e",
   "metadata": {},
   "outputs": [],
   "source": []
  },
  {
   "cell_type": "code",
   "execution_count": 23,
   "id": "cb927b7b",
   "metadata": {},
   "outputs": [
    {
     "name": "stdout",
     "output_type": "stream",
     "text": [
      "Epoch: 1 completed in: 8.313804864883423s. Training loss: 409.91368660056276. Val loss: 0.9922548248009249\n",
      "Epoch: 2 completed in: 8.409478664398193s. Training loss: 0.9552405627542421. Val loss: 0.9608251764015718\n",
      "Epoch: 3 completed in: 7.858785152435303s. Training loss: 0.9416561426692888. Val loss: 0.9519645463336598\n",
      "Epoch: 4 completed in: 7.829137325286865s. Training loss: 0.9340540572608772. Val loss: 0.9416836215691133\n",
      "Epoch: 5 completed in: 7.829220294952393s. Training loss: 0.9259938115352079. Val loss: 0.9388267722996798\n",
      "0.007737809374999999\n",
      "Epoch: 6 completed in: 7.797724723815918s. Training loss: 0.9225881301650876. Val loss: 0.9246533919464458\n",
      "Epoch: 7 completed in: 7.9079813957214355s. Training loss: 0.9072769045045501. Val loss: 0.9195777502926913\n",
      "Epoch: 8 completed in: 7.820415735244751s. Training loss: 0.9017188523552919. Val loss: 0.9144576056437059\n",
      "Epoch: 9 completed in: 7.830266952514648s. Training loss: 0.8973955829676828. Val loss: 0.9139095707373186\n",
      "Epoch: 10 completed in: 8.0868661403656s. Training loss: 0.89358273775954. Val loss: 0.9071230007843538\n",
      "0.005987369392383786\n",
      "Epoch: 11 completed in: 7.899218559265137s. Training loss: 0.8909093190572763. Val loss: 0.9065994105555795\n",
      "Epoch: 12 completed in: 7.368522882461548s. Training loss: 0.8880381209677771. Val loss: 0.9021334512667223\n",
      "Epoch: 13 completed in: 7.212588787078857s. Training loss: 0.8868391705971015. Val loss: 0.9028991799462925\n",
      "Epoch: 14 completed in: 7.767894983291626s. Training loss: 0.8840844984117308. Val loss: 0.8996789496053349\n",
      "Epoch: 15 completed in: 7.890259265899658s. Training loss: 0.8836371508475981. Val loss: 0.8990914916450327\n",
      "0.00463291230159753\n",
      "Epoch: 16 completed in: 7.81952977180481s. Training loss: 0.8819456733763218. Val loss: 0.8971634927121076\n",
      "Epoch: 17 completed in: 7.854947566986084s. Training loss: 0.8803961184856138. Val loss: 0.8951128016818654\n",
      "Epoch: 18 completed in: 7.790480613708496s. Training loss: 0.8792360509304624. Val loss: 0.8964048055085269\n",
      "Epoch: 19 completed in: 7.897785902023315s. Training loss: 0.8769662946854767. Val loss: 0.891412921927192\n",
      "Epoch: 20 completed in: 7.749918222427368s. Training loss: 0.8760303313794889. Val loss: 0.8906802738254721\n",
      "0.0035848592240854188\n",
      "Epoch: 21 completed in: 7.997805595397949s. Training loss: 0.8753353492601922. Val loss: 0.8910491927103563\n",
      "Epoch: 22 completed in: 7.769186496734619s. Training loss: 0.8742687643358582. Val loss: 0.8902443240989338\n",
      "Epoch: 23 completed in: 7.864126920700073s. Training loss: 0.874407318861861. Val loss: 0.8902078325098212\n",
      "Epoch: 24 completed in: 7.677419424057007s. Training loss: 0.8738461683847403. Val loss: 0.88907105949792\n",
      "Epoch: 25 completed in: 7.931649208068848s. Training loss: 0.873308957407349. Val loss: 0.888577944853089\n",
      "0.0027738957312183374\n",
      "Epoch: 26 completed in: 8.030166625976562s. Training loss: 0.8732020874556742. Val loss: 0.8893191936341199\n",
      "Epoch: 27 completed in: 7.77545166015625s. Training loss: 0.872398621157596. Val loss: 0.8886138403957541\n",
      "Epoch: 28 completed in: 7.7866387367248535s. Training loss: 0.8728955480221071. Val loss: 0.8884541676803068\n",
      "Epoch: 29 completed in: 7.795892238616943s. Training loss: 0.8719861103515876. Val loss: 0.8884378495541486\n",
      "Epoch: 30 completed in: 7.8876612186431885s. Training loss: 0.8722809792349213. Val loss: 0.8875995535742153\n",
      "0.0021463876394293723\n",
      "Epoch: 31 completed in: 7.806792736053467s. Training loss: 0.8715935249469782. Val loss: 0.8874770917675712\n",
      "Epoch: 32 completed in: 7.835932493209839s. Training loss: 0.8712438460635511. Val loss: 0.887214021249251\n",
      "Epoch: 33 completed in: 7.821974754333496s. Training loss: 0.871077828893536. Val loss: 0.8878712369637056\n",
      "Epoch: 34 completed in: 8.370899200439453s. Training loss: 0.8709583643235659. Val loss: 0.8866446113044565\n",
      "Epoch: 35 completed in: 8.129265069961548s. Training loss: 0.8708190555243116. Val loss: 0.8864978172562339\n",
      "0.0016608338398760713\n",
      "Epoch: 36 completed in: 7.896785736083984s. Training loss: 0.870434998093467. Val loss: 0.8858249390667136\n",
      "Epoch: 37 completed in: 7.912086248397827s. Training loss: 0.8696659117152816. Val loss: 0.8861137709834359\n",
      "Epoch: 38 completed in: 7.894523859024048s. Training loss: 0.8700441678887919. Val loss: 0.8859071988951076\n",
      "Epoch: 39 completed in: 7.793963432312012s. Training loss: 0.8696528714346258. Val loss: 0.885744564912536\n",
      "Epoch: 40 completed in: 7.818718671798706s. Training loss: 0.8690146062719194. Val loss: 0.884854407473044\n",
      "0.0012851215656510308\n",
      "Epoch: 41 completed in: 7.804227113723755s. Training loss: 0.8687786532467917. Val loss: 0.8842498470436443\n",
      "Epoch: 42 completed in: 7.84018611907959s. Training loss: 0.8684907641850019. Val loss: 0.8845380016348579\n",
      "Epoch: 43 completed in: 7.972460031509399s. Training loss: 0.868185562130652. Val loss: 0.8841851922598752\n",
      "Epoch: 44 completed in: 7.548877954483032s. Training loss: 0.8675952030247763. Val loss: 0.8836146389896219\n",
      "Epoch: 45 completed in: 7.569829702377319s. Training loss: 0.8673967515167437. Val loss: 0.8829143440181558\n",
      "0.000994402569870922\n",
      "Epoch: 46 completed in: 7.463048696517944s. Training loss: 0.8673339033205258. Val loss: 0.8829367513006384\n",
      "Epoch: 47 completed in: 7.578715085983276s. Training loss: 0.8665848237119222. Val loss: 0.8825816065073013\n",
      "Epoch: 48 completed in: 7.530712842941284s. Training loss: 0.8666943509719873. Val loss: 0.8822089867158369\n",
      "Epoch: 49 completed in: 7.517860174179077s. Training loss: 0.8661879642229331. Val loss: 0.8826630941846154\n",
      "Epoch: 50 completed in: 7.55648136138916s. Training loss: 0.8663024237673533. Val loss: 0.881736233830452\n",
      "0.0007694497527671312\n",
      "Epoch: 51 completed in: 7.519725322723389s. Training loss: 0.8661565686527052. Val loss: 0.8817971267483451\n",
      "Epoch: 52 completed in: 7.638703107833862s. Training loss: 0.8656813708183012. Val loss: 0.881656140089035\n",
      "Epoch: 53 completed in: 7.505691051483154s. Training loss: 0.8656419843043152. Val loss: 0.8817547451366078\n",
      "Epoch: 54 completed in: 7.565029621124268s. Training loss: 0.8652860832057501. Val loss: 0.881220893426375\n",
      "Epoch: 55 completed in: 7.623081684112549s. Training loss: 0.8649584454925436. Val loss: 0.881005041978576\n",
      "0.000595385551055294\n",
      "Epoch: 56 completed in: 7.5334632396698s. Training loss: 0.8648019146762396. Val loss: 0.8811400912024758\n",
      "Epoch: 57 completed in: 7.6344592571258545s. Training loss: 0.8645745445238916. Val loss: 0.880839158188213\n",
      "Epoch: 58 completed in: 8.191263914108276s. Training loss: 0.8645014008016962. Val loss: 0.8805961283770475\n",
      "Epoch: 59 completed in: 7.588672876358032s. Training loss: 0.864889271753399. Val loss: 0.8805033266544342\n",
      "Epoch: 60 completed in: 7.489883661270142s. Training loss: 0.8640819719355357. Val loss: 0.8804341771385886\n",
      "0.00046069798986951934\n",
      "Epoch: 61 completed in: 7.564307689666748s. Training loss: 0.864295480674819. Val loss: 0.8802924725142393\n",
      "Epoch: 62 completed in: 7.5017712116241455s. Training loss: 0.8641942229710127. Val loss: 0.880686342716217\n",
      "Epoch: 63 completed in: 7.589952707290649s. Training loss: 0.8641821589124831. Val loss: 0.8801973069256003\n",
      "Epoch: 64 completed in: 7.518665075302124s. Training loss: 0.8642526961078769. Val loss: 0.8799329576167193\n",
      "Epoch: 65 completed in: 7.554596185684204s. Training loss: 0.8638380948258074. Val loss: 0.8800587125799872\n",
      "0.00035647932250560207\n",
      "Epoch: 66 completed in: 7.524052381515503s. Training loss: 0.8633409456202858. Val loss: 0.8795989223501899\n",
      "Epoch: 67 completed in: 7.538071155548096s. Training loss: 0.8635037806081144. Val loss: 0.8794599310918287\n",
      "Epoch: 68 completed in: 8.167430639266968s. Training loss: 0.8634320413203616. Val loss: 0.8793437331914902\n",
      "Epoch: 69 completed in: 7.936278581619263s. Training loss: 0.8632442576712683. Val loss: 0.8793415386568416\n",
      "Epoch: 70 completed in: 7.607195854187012s. Training loss: 0.8629277977896365. Val loss: 0.8792800144715742\n",
      "0.00027583690436774953\n",
      "Epoch: 71 completed in: 7.5388572216033936s. Training loss: 0.8630865635840517. Val loss: 0.8790870945562016\n",
      "Epoch: 72 completed in: 7.4798314571380615s. Training loss: 0.8628326985788973. Val loss: 0.8791058415716345\n",
      "Epoch: 73 completed in: 7.529775142669678s. Training loss: 0.862842319435195. Val loss: 0.8789174096150831\n",
      "Epoch: 74 completed in: 7.475098609924316s. Training loss: 0.8625121779347721. Val loss: 0.8788794807412408\n"
     ]
    },
    {
     "name": "stdout",
     "output_type": "stream",
     "text": [
      "Epoch: 75 completed in: 7.497751474380493s. Training loss: 0.8625136535418662. Val loss: 0.8787609176202253\n",
      "0.00021343733845877503\n",
      "Epoch: 76 completed in: 7.489464282989502s. Training loss: 0.8627201626567464. Val loss: 0.8787498054179278\n",
      "Epoch: 77 completed in: 7.573403358459473s. Training loss: 0.8625641920064625. Val loss: 0.8786634017120708\n",
      "Epoch: 78 completed in: 7.7927985191345215s. Training loss: 0.8627473347281155. Val loss: 0.878494683991779\n",
      "Epoch: 79 completed in: 7.548799753189087s. Training loss: 0.862122374537744. Val loss: 0.8784645687450062\n",
      "Epoch: 80 completed in: 7.56614875793457s. Training loss: 0.8624633285952242. Val loss: 0.8784158866513859\n",
      "0.00016515374385013573\n",
      "Epoch: 81 completed in: 7.533100128173828s. Training loss: 0.8620813055650184. Val loss: 0.878429498184811\n",
      "Epoch: 82 completed in: 7.517958641052246s. Training loss: 0.8623767810824671. Val loss: 0.878405594012954\n",
      "Epoch: 83 completed in: 7.5636913776397705s. Training loss: 0.8617579382109014. Val loss: 0.8783376907760446\n",
      "Epoch: 84 completed in: 7.55548095703125s. Training loss: 0.8620127584589156. Val loss: 0.878270070661198\n",
      "Epoch: 85 completed in: 7.560029983520508s. Training loss: 0.8626009906200987. Val loss: 0.8782557967034254\n",
      "0.00012779281874799285\n",
      "Epoch: 86 completed in: 7.574664354324341s. Training loss: 0.8622791053433168. Val loss: 0.8783343366601251\n",
      "Epoch: 87 completed in: 7.4957239627838135s. Training loss: 0.8618919639603088. Val loss: 0.8783779577775435\n",
      "Epoch: 88 completed in: 7.542429447174072s. Training loss: 0.862155061607298. Val loss: 0.8782042860984802\n",
      "Epoch: 89 completed in: 7.732555150985718s. Training loss: 0.8622375599255687. Val loss: 0.8781531128016385\n",
      "Epoch: 90 completed in: 8.371886968612671s. Training loss: 0.8617717084523878. Val loss: 0.8781900554895401\n",
      "9.888364709658946e-05\n",
      "Epoch: 91 completed in: 7.7561728954315186s. Training loss: 0.8619918199746233. Val loss: 0.8780743344263597\n",
      "Epoch: 92 completed in: 8.374530792236328s. Training loss: 0.8617543152680522. Val loss: 0.8780426884239371\n",
      "Epoch: 93 completed in: 7.892087697982788s. Training loss: 0.8618297255352924. Val loss: 0.8780272657221014\n",
      "Epoch: 94 completed in: 7.560364484786987s. Training loss: 0.8615675982283918. Val loss: 0.8779750683090903\n",
      "Epoch: 95 completed in: 7.514960050582886s. Training loss: 0.8619006125158385. Val loss: 0.8779550465670499\n",
      "7.651428115381812e-05\n",
      "Epoch: 96 completed in: 7.549015522003174s. Training loss: 0.8616636624853862. Val loss: 0.8779700141061436\n",
      "Epoch: 97 completed in: 7.671229600906372s. Training loss: 0.8613096118757599. Val loss: 0.8779330863194033\n",
      "Epoch: 98 completed in: 7.5456860065460205s. Training loss: 0.8618292890881237. Val loss: 0.8779370771213011\n",
      "Epoch: 99 completed in: 7.687641620635986s. Training loss: 0.862038515312107. Val loss: 0.8779563280669126\n",
      "Epoch: 100 completed in: 7.514613151550293s. Training loss: 0.8614608551326551. Val loss: 0.8780008974400434\n",
      "5.920529220333995e-05\n"
     ]
    }
   ],
   "source": [
    "import time\n",
    "\n",
    "num_epoch = 100 \n",
    "\n",
    "for epoch in range(1, num_epoch + 1): \n",
    "    start = time.time()\n",
    "    train_loss = train(model, train_loader, optimizer, criterion)[-1]\n",
    "    train_losses.append(train_loss)\n",
    "    _, _, val_loss, best_loss = val(model, val_loader, best_loss, criterion, name) \n",
    "    val_losses.append(val_loss)\n",
    "    best_loss = best_loss\n",
    "    end = time.time()\n",
    "    print(f\"Epoch: {epoch} completed in: {end - start}s. Training loss: {train_loss}. Val loss: {val_loss}\") \n",
    "    \n",
    "    scheduler.step() \n",
    "    if epoch % 5 == 0: print(optimizer.param_groups[0]['lr'])"
   ]
  },
  {
   "cell_type": "code",
   "execution_count": 24,
   "id": "58edafb8",
   "metadata": {},
   "outputs": [],
   "source": [
    "_, _, val_loss, best_loss = val_true(model, val_loader, best_loss, criterion, name) "
   ]
  },
  {
   "cell_type": "code",
   "execution_count": 25,
   "id": "94f7a96f",
   "metadata": {},
   "outputs": [
    {
     "data": {
      "text/plain": [
       "9.324819705703042"
      ]
     },
     "execution_count": 25,
     "metadata": {},
     "output_type": "execute_result"
    }
   ],
   "source": [
    "val_loss"
   ]
  },
  {
   "cell_type": "code",
   "execution_count": 27,
   "id": "2c53abe1",
   "metadata": {},
   "outputs": [],
   "source": [
    "_, _, test_loss, best_loss = val_true(model, test_loader, best_loss, criterion, name) "
   ]
  },
  {
   "cell_type": "code",
   "execution_count": 28,
   "id": "27511ca3",
   "metadata": {},
   "outputs": [
    {
     "data": {
      "text/plain": [
       "4.285899019241333"
      ]
     },
     "execution_count": 28,
     "metadata": {},
     "output_type": "execute_result"
    }
   ],
   "source": [
    "test_loss"
   ]
  },
  {
   "cell_type": "code",
   "execution_count": 9,
   "id": "f35bc8bb",
   "metadata": {},
   "outputs": [
    {
     "name": "stdout",
     "output_type": "stream",
     "text": [
      "running batch 0\n",
      "running batch 5\n",
      "running batch 10\n",
      "running batch 15\n",
      "running batch 20\n",
      "running batch 25\n",
      "running batch 30\n",
      "running batch 35\n",
      "running batch 40\n",
      "running batch 45\n",
      "running batch 50\n",
      "running batch 55\n"
     ]
    },
    {
     "ename": "KeyboardInterrupt",
     "evalue": "",
     "output_type": "error",
     "traceback": [
      "\u001b[1;31m---------------------------------------------------------------------------\u001b[0m",
      "\u001b[1;31mKeyboardInterrupt\u001b[0m                         Traceback (most recent call last)",
      "\u001b[1;32mC:\\Users\\STEPHE~1\\AppData\\Local\\Temp/ipykernel_228572/3740666141.py\u001b[0m in \u001b[0;36m<module>\u001b[1;34m\u001b[0m\n\u001b[0;32m      5\u001b[0m \u001b[1;32mfor\u001b[0m \u001b[0mepoch\u001b[0m \u001b[1;32min\u001b[0m \u001b[0mrange\u001b[0m\u001b[1;33m(\u001b[0m\u001b[1;36m1\u001b[0m\u001b[1;33m,\u001b[0m \u001b[0mnum_epoch\u001b[0m \u001b[1;33m+\u001b[0m \u001b[1;36m1\u001b[0m\u001b[1;33m)\u001b[0m\u001b[1;33m:\u001b[0m\u001b[1;33m\u001b[0m\u001b[1;33m\u001b[0m\u001b[0m\n\u001b[0;32m      6\u001b[0m     \u001b[0mstart\u001b[0m \u001b[1;33m=\u001b[0m \u001b[0mtime\u001b[0m\u001b[1;33m.\u001b[0m\u001b[0mtime\u001b[0m\u001b[1;33m(\u001b[0m\u001b[1;33m)\u001b[0m\u001b[1;33m\u001b[0m\u001b[1;33m\u001b[0m\u001b[0m\n\u001b[1;32m----> 7\u001b[1;33m     \u001b[0mtrain_loss\u001b[0m \u001b[1;33m=\u001b[0m \u001b[0mtrain\u001b[0m\u001b[1;33m(\u001b[0m\u001b[0mmodel\u001b[0m\u001b[1;33m,\u001b[0m \u001b[0mtrain_loader\u001b[0m\u001b[1;33m,\u001b[0m \u001b[0moptimizer\u001b[0m\u001b[1;33m,\u001b[0m \u001b[0mcriterion\u001b[0m\u001b[1;33m)\u001b[0m\u001b[1;33m[\u001b[0m\u001b[1;33m-\u001b[0m\u001b[1;36m1\u001b[0m\u001b[1;33m]\u001b[0m\u001b[1;33m\u001b[0m\u001b[1;33m\u001b[0m\u001b[0m\n\u001b[0m\u001b[0;32m      8\u001b[0m     \u001b[0mtrain_losses\u001b[0m\u001b[1;33m.\u001b[0m\u001b[0mappend\u001b[0m\u001b[1;33m(\u001b[0m\u001b[0mtrain_loss\u001b[0m\u001b[1;33m)\u001b[0m\u001b[1;33m\u001b[0m\u001b[1;33m\u001b[0m\u001b[0m\n\u001b[0;32m      9\u001b[0m     \u001b[0m_\u001b[0m\u001b[1;33m,\u001b[0m \u001b[0m_\u001b[0m\u001b[1;33m,\u001b[0m \u001b[0mval_loss\u001b[0m\u001b[1;33m,\u001b[0m \u001b[0mbest_loss\u001b[0m \u001b[1;33m=\u001b[0m \u001b[0mval\u001b[0m\u001b[1;33m(\u001b[0m\u001b[0mmodel\u001b[0m\u001b[1;33m,\u001b[0m \u001b[0mval_loader\u001b[0m\u001b[1;33m,\u001b[0m \u001b[0mbest_loss\u001b[0m\u001b[1;33m,\u001b[0m \u001b[0mcriterion\u001b[0m\u001b[1;33m,\u001b[0m \u001b[0mname\u001b[0m\u001b[1;33m)\u001b[0m\u001b[1;33m\u001b[0m\u001b[1;33m\u001b[0m\u001b[0m\n",
      "\u001b[1;32mC:\\Users\\STEPHE~1\\AppData\\Local\\Temp/ipykernel_228572/599015187.py\u001b[0m in \u001b[0;36mtrain\u001b[1;34m(model, train_loader, optimizer, criterion)\u001b[0m\n\u001b[0;32m     10\u001b[0m         \u001b[0mX\u001b[0m\u001b[1;33m,\u001b[0m \u001b[0my\u001b[0m \u001b[1;33m=\u001b[0m \u001b[0mX\u001b[0m\u001b[1;33m.\u001b[0m\u001b[0mto\u001b[0m\u001b[1;33m(\u001b[0m\u001b[0mdevice\u001b[0m\u001b[1;33m)\u001b[0m\u001b[1;33m,\u001b[0m \u001b[0my\u001b[0m\u001b[1;33m.\u001b[0m\u001b[0mto\u001b[0m\u001b[1;33m(\u001b[0m\u001b[0mdevice\u001b[0m\u001b[1;33m)\u001b[0m\u001b[1;33m\u001b[0m\u001b[1;33m\u001b[0m\u001b[0m\n\u001b[0;32m     11\u001b[0m \u001b[1;31m#         y = y.reshape((y.shape[0], -1))\u001b[0m\u001b[1;33m\u001b[0m\u001b[1;33m\u001b[0m\u001b[1;33m\u001b[0m\u001b[0m\n\u001b[1;32m---> 12\u001b[1;33m         \u001b[0mpred\u001b[0m \u001b[1;33m=\u001b[0m \u001b[0mmodel\u001b[0m\u001b[1;33m(\u001b[0m\u001b[0mX\u001b[0m\u001b[1;33m,\u001b[0m \u001b[1;36m12\u001b[0m\u001b[1;33m)\u001b[0m\u001b[1;33m\u001b[0m\u001b[1;33m\u001b[0m\u001b[0m\n\u001b[0m\u001b[0;32m     13\u001b[0m \u001b[1;33m\u001b[0m\u001b[0m\n\u001b[0;32m     14\u001b[0m         \u001b[0mloss\u001b[0m \u001b[1;33m=\u001b[0m \u001b[1;36m0\u001b[0m\u001b[1;33m\u001b[0m\u001b[1;33m\u001b[0m\u001b[0m\n",
      "\u001b[1;32m~\\anaconda3\\envs\\env_pytorch\\lib\\site-packages\\torch\\nn\\modules\\module.py\u001b[0m in \u001b[0;36m_call_impl\u001b[1;34m(self, *input, **kwargs)\u001b[0m\n\u001b[0;32m   1049\u001b[0m         if not (self._backward_hooks or self._forward_hooks or self._forward_pre_hooks or _global_backward_hooks\n\u001b[0;32m   1050\u001b[0m                 or _global_forward_hooks or _global_forward_pre_hooks):\n\u001b[1;32m-> 1051\u001b[1;33m             \u001b[1;32mreturn\u001b[0m \u001b[0mforward_call\u001b[0m\u001b[1;33m(\u001b[0m\u001b[1;33m*\u001b[0m\u001b[0minput\u001b[0m\u001b[1;33m,\u001b[0m \u001b[1;33m**\u001b[0m\u001b[0mkwargs\u001b[0m\u001b[1;33m)\u001b[0m\u001b[1;33m\u001b[0m\u001b[1;33m\u001b[0m\u001b[0m\n\u001b[0m\u001b[0;32m   1052\u001b[0m         \u001b[1;31m# Do not call functions when jit is used\u001b[0m\u001b[1;33m\u001b[0m\u001b[1;33m\u001b[0m\u001b[1;33m\u001b[0m\u001b[0m\n\u001b[0;32m   1053\u001b[0m         \u001b[0mfull_backward_hooks\u001b[0m\u001b[1;33m,\u001b[0m \u001b[0mnon_full_backward_hooks\u001b[0m \u001b[1;33m=\u001b[0m \u001b[1;33m[\u001b[0m\u001b[1;33m]\u001b[0m\u001b[1;33m,\u001b[0m \u001b[1;33m[\u001b[0m\u001b[1;33m]\u001b[0m\u001b[1;33m\u001b[0m\u001b[1;33m\u001b[0m\u001b[0m\n",
      "\u001b[1;32mC:\\Users\\STEPHE~1\\AppData\\Local\\Temp/ipykernel_228572/1515444648.py\u001b[0m in \u001b[0;36mforward\u001b[1;34m(self, x, output_length)\u001b[0m\n\u001b[0;32m     26\u001b[0m \u001b[1;31m#         print(torch.flip(xx, [1]).shape)\u001b[0m\u001b[1;33m\u001b[0m\u001b[1;33m\u001b[0m\u001b[1;33m\u001b[0m\u001b[0m\n\u001b[0;32m     27\u001b[0m         \u001b[0mz0\u001b[0m \u001b[1;33m=\u001b[0m \u001b[0mself\u001b[0m\u001b[1;33m.\u001b[0m\u001b[0mrec\u001b[0m\u001b[1;33m.\u001b[0m\u001b[0mforward\u001b[0m\u001b[1;33m(\u001b[0m\u001b[0mtorch\u001b[0m\u001b[1;33m.\u001b[0m\u001b[0mflip\u001b[0m\u001b[1;33m(\u001b[0m\u001b[0mx\u001b[0m\u001b[1;33m,\u001b[0m \u001b[1;33m[\u001b[0m\u001b[1;36m1\u001b[0m\u001b[1;33m]\u001b[0m\u001b[1;33m)\u001b[0m\u001b[1;33m)\u001b[0m\u001b[1;33m\u001b[0m\u001b[1;33m\u001b[0m\u001b[0m\n\u001b[1;32m---> 28\u001b[1;33m         \u001b[0mpred_z\u001b[0m \u001b[1;33m=\u001b[0m \u001b[0modeint\u001b[0m\u001b[1;33m(\u001b[0m\u001b[0mself\u001b[0m\u001b[1;33m.\u001b[0m\u001b[0mfunc\u001b[0m\u001b[1;33m,\u001b[0m \u001b[0mz0\u001b[0m\u001b[1;33m,\u001b[0m \u001b[0mtime_steps\u001b[0m\u001b[1;33m)\u001b[0m\u001b[1;33m.\u001b[0m\u001b[0mpermute\u001b[0m\u001b[1;33m(\u001b[0m\u001b[1;36m1\u001b[0m\u001b[1;33m,\u001b[0m \u001b[1;36m0\u001b[0m\u001b[1;33m,\u001b[0m \u001b[1;36m2\u001b[0m\u001b[1;33m)\u001b[0m\u001b[1;33m\u001b[0m\u001b[1;33m\u001b[0m\u001b[0m\n\u001b[0m\u001b[0;32m     29\u001b[0m         \u001b[0mout\u001b[0m \u001b[1;33m=\u001b[0m \u001b[0mself\u001b[0m\u001b[1;33m.\u001b[0m\u001b[0mdec\u001b[0m\u001b[1;33m(\u001b[0m\u001b[0mpred_z\u001b[0m\u001b[1;33m)\u001b[0m\u001b[1;33m\u001b[0m\u001b[1;33m\u001b[0m\u001b[0m\n\u001b[0;32m     30\u001b[0m \u001b[1;31m#         print(out.shape)\u001b[0m\u001b[1;33m\u001b[0m\u001b[1;33m\u001b[0m\u001b[1;33m\u001b[0m\u001b[0m\n",
      "\u001b[1;32m~\\anaconda3\\envs\\env_pytorch\\lib\\site-packages\\torchdiffeq\\_impl\\odeint.py\u001b[0m in \u001b[0;36modeint\u001b[1;34m(func, y0, t, rtol, atol, method, options, event_fn)\u001b[0m\n\u001b[0;32m     75\u001b[0m \u001b[1;33m\u001b[0m\u001b[0m\n\u001b[0;32m     76\u001b[0m     \u001b[1;32mif\u001b[0m \u001b[0mevent_fn\u001b[0m \u001b[1;32mis\u001b[0m \u001b[1;32mNone\u001b[0m\u001b[1;33m:\u001b[0m\u001b[1;33m\u001b[0m\u001b[1;33m\u001b[0m\u001b[0m\n\u001b[1;32m---> 77\u001b[1;33m         \u001b[0msolution\u001b[0m \u001b[1;33m=\u001b[0m \u001b[0msolver\u001b[0m\u001b[1;33m.\u001b[0m\u001b[0mintegrate\u001b[0m\u001b[1;33m(\u001b[0m\u001b[0mt\u001b[0m\u001b[1;33m)\u001b[0m\u001b[1;33m\u001b[0m\u001b[1;33m\u001b[0m\u001b[0m\n\u001b[0m\u001b[0;32m     78\u001b[0m     \u001b[1;32melse\u001b[0m\u001b[1;33m:\u001b[0m\u001b[1;33m\u001b[0m\u001b[1;33m\u001b[0m\u001b[0m\n\u001b[0;32m     79\u001b[0m         \u001b[0mevent_t\u001b[0m\u001b[1;33m,\u001b[0m \u001b[0msolution\u001b[0m \u001b[1;33m=\u001b[0m \u001b[0msolver\u001b[0m\u001b[1;33m.\u001b[0m\u001b[0mintegrate_until_event\u001b[0m\u001b[1;33m(\u001b[0m\u001b[0mt\u001b[0m\u001b[1;33m[\u001b[0m\u001b[1;36m0\u001b[0m\u001b[1;33m]\u001b[0m\u001b[1;33m,\u001b[0m \u001b[0mevent_fn\u001b[0m\u001b[1;33m)\u001b[0m\u001b[1;33m\u001b[0m\u001b[1;33m\u001b[0m\u001b[0m\n",
      "\u001b[1;32m~\\anaconda3\\envs\\env_pytorch\\lib\\site-packages\\torchdiffeq\\_impl\\solvers.py\u001b[0m in \u001b[0;36mintegrate\u001b[1;34m(self, t)\u001b[0m\n\u001b[0;32m     28\u001b[0m         \u001b[0mself\u001b[0m\u001b[1;33m.\u001b[0m\u001b[0m_before_integrate\u001b[0m\u001b[1;33m(\u001b[0m\u001b[0mt\u001b[0m\u001b[1;33m)\u001b[0m\u001b[1;33m\u001b[0m\u001b[1;33m\u001b[0m\u001b[0m\n\u001b[0;32m     29\u001b[0m         \u001b[1;32mfor\u001b[0m \u001b[0mi\u001b[0m \u001b[1;32min\u001b[0m \u001b[0mrange\u001b[0m\u001b[1;33m(\u001b[0m\u001b[1;36m1\u001b[0m\u001b[1;33m,\u001b[0m \u001b[0mlen\u001b[0m\u001b[1;33m(\u001b[0m\u001b[0mt\u001b[0m\u001b[1;33m)\u001b[0m\u001b[1;33m)\u001b[0m\u001b[1;33m:\u001b[0m\u001b[1;33m\u001b[0m\u001b[1;33m\u001b[0m\u001b[0m\n\u001b[1;32m---> 30\u001b[1;33m             \u001b[0msolution\u001b[0m\u001b[1;33m[\u001b[0m\u001b[0mi\u001b[0m\u001b[1;33m]\u001b[0m \u001b[1;33m=\u001b[0m \u001b[0mself\u001b[0m\u001b[1;33m.\u001b[0m\u001b[0m_advance\u001b[0m\u001b[1;33m(\u001b[0m\u001b[0mt\u001b[0m\u001b[1;33m[\u001b[0m\u001b[0mi\u001b[0m\u001b[1;33m]\u001b[0m\u001b[1;33m)\u001b[0m\u001b[1;33m\u001b[0m\u001b[1;33m\u001b[0m\u001b[0m\n\u001b[0m\u001b[0;32m     31\u001b[0m         \u001b[1;32mreturn\u001b[0m \u001b[0msolution\u001b[0m\u001b[1;33m\u001b[0m\u001b[1;33m\u001b[0m\u001b[0m\n\u001b[0;32m     32\u001b[0m \u001b[1;33m\u001b[0m\u001b[0m\n",
      "\u001b[1;32m~\\anaconda3\\envs\\env_pytorch\\lib\\site-packages\\torchdiffeq\\_impl\\rk_common.py\u001b[0m in \u001b[0;36m_advance\u001b[1;34m(self, next_t)\u001b[0m\n\u001b[0;32m    192\u001b[0m         \u001b[1;32mwhile\u001b[0m \u001b[0mnext_t\u001b[0m \u001b[1;33m>\u001b[0m \u001b[0mself\u001b[0m\u001b[1;33m.\u001b[0m\u001b[0mrk_state\u001b[0m\u001b[1;33m.\u001b[0m\u001b[0mt1\u001b[0m\u001b[1;33m:\u001b[0m\u001b[1;33m\u001b[0m\u001b[1;33m\u001b[0m\u001b[0m\n\u001b[0;32m    193\u001b[0m             \u001b[1;32massert\u001b[0m \u001b[0mn_steps\u001b[0m \u001b[1;33m<\u001b[0m \u001b[0mself\u001b[0m\u001b[1;33m.\u001b[0m\u001b[0mmax_num_steps\u001b[0m\u001b[1;33m,\u001b[0m \u001b[1;34m'max_num_steps exceeded ({}>={})'\u001b[0m\u001b[1;33m.\u001b[0m\u001b[0mformat\u001b[0m\u001b[1;33m(\u001b[0m\u001b[0mn_steps\u001b[0m\u001b[1;33m,\u001b[0m \u001b[0mself\u001b[0m\u001b[1;33m.\u001b[0m\u001b[0mmax_num_steps\u001b[0m\u001b[1;33m)\u001b[0m\u001b[1;33m\u001b[0m\u001b[1;33m\u001b[0m\u001b[0m\n\u001b[1;32m--> 194\u001b[1;33m             \u001b[0mself\u001b[0m\u001b[1;33m.\u001b[0m\u001b[0mrk_state\u001b[0m \u001b[1;33m=\u001b[0m \u001b[0mself\u001b[0m\u001b[1;33m.\u001b[0m\u001b[0m_adaptive_step\u001b[0m\u001b[1;33m(\u001b[0m\u001b[0mself\u001b[0m\u001b[1;33m.\u001b[0m\u001b[0mrk_state\u001b[0m\u001b[1;33m)\u001b[0m\u001b[1;33m\u001b[0m\u001b[1;33m\u001b[0m\u001b[0m\n\u001b[0m\u001b[0;32m    195\u001b[0m             \u001b[0mn_steps\u001b[0m \u001b[1;33m+=\u001b[0m \u001b[1;36m1\u001b[0m\u001b[1;33m\u001b[0m\u001b[1;33m\u001b[0m\u001b[0m\n\u001b[0;32m    196\u001b[0m         \u001b[1;32mreturn\u001b[0m \u001b[0m_interp_evaluate\u001b[0m\u001b[1;33m(\u001b[0m\u001b[0mself\u001b[0m\u001b[1;33m.\u001b[0m\u001b[0mrk_state\u001b[0m\u001b[1;33m.\u001b[0m\u001b[0minterp_coeff\u001b[0m\u001b[1;33m,\u001b[0m \u001b[0mself\u001b[0m\u001b[1;33m.\u001b[0m\u001b[0mrk_state\u001b[0m\u001b[1;33m.\u001b[0m\u001b[0mt0\u001b[0m\u001b[1;33m,\u001b[0m \u001b[0mself\u001b[0m\u001b[1;33m.\u001b[0m\u001b[0mrk_state\u001b[0m\u001b[1;33m.\u001b[0m\u001b[0mt1\u001b[0m\u001b[1;33m,\u001b[0m \u001b[0mnext_t\u001b[0m\u001b[1;33m)\u001b[0m\u001b[1;33m\u001b[0m\u001b[1;33m\u001b[0m\u001b[0m\n",
      "\u001b[1;32m~\\anaconda3\\envs\\env_pytorch\\lib\\site-packages\\torchdiffeq\\_impl\\rk_common.py\u001b[0m in \u001b[0;36m_adaptive_step\u001b[1;34m(self, rk_state)\u001b[0m\n\u001b[0;32m    253\u001b[0m         \u001b[1;31m# trigger both. (i.e. interleaving them would be wrong.)\u001b[0m\u001b[1;33m\u001b[0m\u001b[1;33m\u001b[0m\u001b[1;33m\u001b[0m\u001b[0m\n\u001b[0;32m    254\u001b[0m \u001b[1;33m\u001b[0m\u001b[0m\n\u001b[1;32m--> 255\u001b[1;33m         \u001b[0my1\u001b[0m\u001b[1;33m,\u001b[0m \u001b[0mf1\u001b[0m\u001b[1;33m,\u001b[0m \u001b[0my1_error\u001b[0m\u001b[1;33m,\u001b[0m \u001b[0mk\u001b[0m \u001b[1;33m=\u001b[0m \u001b[0m_runge_kutta_step\u001b[0m\u001b[1;33m(\u001b[0m\u001b[0mself\u001b[0m\u001b[1;33m.\u001b[0m\u001b[0mfunc\u001b[0m\u001b[1;33m,\u001b[0m \u001b[0my0\u001b[0m\u001b[1;33m,\u001b[0m \u001b[0mf0\u001b[0m\u001b[1;33m,\u001b[0m \u001b[0mt0\u001b[0m\u001b[1;33m,\u001b[0m \u001b[0mdt\u001b[0m\u001b[1;33m,\u001b[0m \u001b[0mt1\u001b[0m\u001b[1;33m,\u001b[0m \u001b[0mtableau\u001b[0m\u001b[1;33m=\u001b[0m\u001b[0mself\u001b[0m\u001b[1;33m.\u001b[0m\u001b[0mtableau\u001b[0m\u001b[1;33m)\u001b[0m\u001b[1;33m\u001b[0m\u001b[1;33m\u001b[0m\u001b[0m\n\u001b[0m\u001b[0;32m    256\u001b[0m         \u001b[1;31m# dtypes:\u001b[0m\u001b[1;33m\u001b[0m\u001b[1;33m\u001b[0m\u001b[1;33m\u001b[0m\u001b[0m\n\u001b[0;32m    257\u001b[0m         \u001b[1;31m# y1.dtype == self.y0.dtype\u001b[0m\u001b[1;33m\u001b[0m\u001b[1;33m\u001b[0m\u001b[1;33m\u001b[0m\u001b[0m\n",
      "\u001b[1;32m~\\anaconda3\\envs\\env_pytorch\\lib\\site-packages\\torchdiffeq\\_impl\\rk_common.py\u001b[0m in \u001b[0;36m_runge_kutta_step\u001b[1;34m(func, y0, f0, t0, dt, t1, tableau)\u001b[0m\n\u001b[0;32m     66\u001b[0m     \u001b[0mk\u001b[0m \u001b[1;33m=\u001b[0m \u001b[0m_UncheckedAssign\u001b[0m\u001b[1;33m.\u001b[0m\u001b[0mapply\u001b[0m\u001b[1;33m(\u001b[0m\u001b[0mk\u001b[0m\u001b[1;33m,\u001b[0m \u001b[0mf0\u001b[0m\u001b[1;33m,\u001b[0m \u001b[1;33m(\u001b[0m\u001b[1;33m...\u001b[0m\u001b[1;33m,\u001b[0m \u001b[1;36m0\u001b[0m\u001b[1;33m)\u001b[0m\u001b[1;33m)\u001b[0m\u001b[1;33m\u001b[0m\u001b[1;33m\u001b[0m\u001b[0m\n\u001b[0;32m     67\u001b[0m     \u001b[1;32mfor\u001b[0m \u001b[0mi\u001b[0m\u001b[1;33m,\u001b[0m \u001b[1;33m(\u001b[0m\u001b[0malpha_i\u001b[0m\u001b[1;33m,\u001b[0m \u001b[0mbeta_i\u001b[0m\u001b[1;33m)\u001b[0m \u001b[1;32min\u001b[0m \u001b[0menumerate\u001b[0m\u001b[1;33m(\u001b[0m\u001b[0mzip\u001b[0m\u001b[1;33m(\u001b[0m\u001b[0mtableau\u001b[0m\u001b[1;33m.\u001b[0m\u001b[0malpha\u001b[0m\u001b[1;33m,\u001b[0m \u001b[0mtableau\u001b[0m\u001b[1;33m.\u001b[0m\u001b[0mbeta\u001b[0m\u001b[1;33m)\u001b[0m\u001b[1;33m)\u001b[0m\u001b[1;33m:\u001b[0m\u001b[1;33m\u001b[0m\u001b[1;33m\u001b[0m\u001b[0m\n\u001b[1;32m---> 68\u001b[1;33m         \u001b[1;32mif\u001b[0m \u001b[0malpha_i\u001b[0m \u001b[1;33m==\u001b[0m \u001b[1;36m1.\u001b[0m\u001b[1;33m:\u001b[0m\u001b[1;33m\u001b[0m\u001b[1;33m\u001b[0m\u001b[0m\n\u001b[0m\u001b[0;32m     69\u001b[0m             \u001b[1;31m# Always step to perturbing just before the end time, in case of discontinuities.\u001b[0m\u001b[1;33m\u001b[0m\u001b[1;33m\u001b[0m\u001b[1;33m\u001b[0m\u001b[0m\n\u001b[0;32m     70\u001b[0m             \u001b[0mti\u001b[0m \u001b[1;33m=\u001b[0m \u001b[0mt1\u001b[0m\u001b[1;33m\u001b[0m\u001b[1;33m\u001b[0m\u001b[0m\n",
      "\u001b[1;31mKeyboardInterrupt\u001b[0m: "
     ]
    }
   ],
   "source": [
    "import time\n",
    "\n",
    "num_epoch = 100 \n",
    "\n",
    "for epoch in range(1, num_epoch + 1): \n",
    "    start = time.time()\n",
    "    train_loss = train(model, train_loader, optimizer, criterion)[-1]\n",
    "    train_losses.append(train_loss)\n",
    "    _, _, val_loss, best_loss = val(model, val_loader, best_loss, criterion, name) \n",
    "    val_losses.append(val_loss)\n",
    "    best_loss = best_loss\n",
    "    end = time.time()\n",
    "    print(f\"Epoch: {epoch} completed in: {end - start}s. Training loss: {train_loss}. Val loss: {val_loss}\") \n",
    "    \n",
    "    scheduler.step() \n",
    "    if epoch % 5 == 0: print(optimizer.param_groups[0]['lr'])"
   ]
  },
  {
   "cell_type": "code",
   "execution_count": null,
   "id": "0e606c47",
   "metadata": {},
   "outputs": [],
   "source": []
  }
 ],
 "metadata": {
  "kernelspec": {
   "display_name": "Python 3 (ipykernel)",
   "language": "python",
   "name": "python3"
  },
  "language_info": {
   "codemirror_mode": {
    "name": "ipython",
    "version": 3
   },
   "file_extension": ".py",
   "mimetype": "text/x-python",
   "name": "python",
   "nbconvert_exporter": "python",
   "pygments_lexer": "ipython3",
   "version": "3.9.6"
  }
 },
 "nbformat": 4,
 "nbformat_minor": 5
}
