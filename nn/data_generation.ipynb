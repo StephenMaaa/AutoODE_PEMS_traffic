{
 "cells": [
  {
   "cell_type": "code",
   "execution_count": 1,
   "id": "5185c777",
   "metadata": {},
   "outputs": [],
   "source": [
    "import torch\n",
    "import numpy as np"
   ]
  },
  {
   "cell_type": "code",
   "execution_count": 2,
   "id": "b7e2fa9f",
   "metadata": {},
   "outputs": [],
   "source": [
    "data1 = torch.load(\"../pems_I5_S.pt\")"
   ]
  },
  {
   "cell_type": "code",
   "execution_count": 3,
   "id": "5ede3f9b",
   "metadata": {},
   "outputs": [
    {
     "data": {
      "text/plain": [
       "torch.Size([3, 53280, 80])"
      ]
     },
     "execution_count": 3,
     "metadata": {},
     "output_type": "execute_result"
    }
   ],
   "source": [
    "data1.shape"
   ]
  },
  {
   "cell_type": "code",
   "execution_count": 8,
   "id": "53b4f94a",
   "metadata": {},
   "outputs": [
    {
     "data": {
      "text/plain": [
       "torch.Size([53280, 80])"
      ]
     },
     "execution_count": 8,
     "metadata": {},
     "output_type": "execute_result"
    }
   ],
   "source": [
    "data1[0].shape"
   ]
  },
  {
   "cell_type": "code",
   "execution_count": 9,
   "id": "d01a2436",
   "metadata": {},
   "outputs": [
    {
     "data": {
      "text/plain": [
       "(tensor([0.0447, 0.0095, 0.0091, 0.0123, 0.0151, 0.0186, 0.0218, 0.0021, 0.0293,\n",
       "         0.0168, 0.0301, 0.0288, 0.0309, 0.0400, 0.0346, 0.0543, 0.0273, 0.0371,\n",
       "         0.0275, 0.0291, 0.0393, 0.0311, 0.0384, 0.0431, 0.0349, 0.0427, 0.0423,\n",
       "         0.0368, 0.0344, 0.0357, 0.0354, 0.0379, 0.0347, 0.0406, 0.0405, 0.0319,\n",
       "         0.0282, 0.0357, 0.0297, 0.0253, 0.0271, 0.0263, 0.0220, 0.0150, 0.0369,\n",
       "         0.0139, 0.0129, 0.0287, 0.0333, 0.0301, 0.0379, 0.0346, 0.0348, 0.0377,\n",
       "         0.0455, 0.0372, 0.0485, 0.0505, 0.0352, 0.0509, 0.0439, 0.0788, 0.0460,\n",
       "         0.0490, 0.0440, 0.0337, 0.0456, 0.0441, 0.0422, 0.0453, 0.0471, 0.0514,\n",
       "         0.0474, 0.0416, 0.0352, 0.0317, 0.0354, 0.0367, 0.0400, 0.0330],\n",
       "        dtype=torch.float64),\n",
       " torch.Size([80]))"
      ]
     },
     "execution_count": 9,
     "metadata": {},
     "output_type": "execute_result"
    }
   ],
   "source": [
    "k_mean = data1[0].mean(dim = 0)\n",
    "k_mean, k_mean.shape"
   ]
  },
  {
   "cell_type": "code",
   "execution_count": 11,
   "id": "5f801f73",
   "metadata": {},
   "outputs": [
    {
     "data": {
      "text/plain": [
       "tensor([0.0032, 0.0015, 0.0020, 0.0024, 0.0024, 0.0044, 0.0087, 0.0002, 0.0120,\n",
       "        0.0040, 0.0062, 0.0055, 0.0067, 0.0114, 0.0061, 0.0117, 0.0054, 0.0067,\n",
       "        0.0066, 0.0049, 0.0075, 0.0534, 0.0081, 0.0087, 0.0051, 0.0058, 0.0074,\n",
       "        0.0015, 0.0040, 0.0041, 0.0035, 0.0046, 0.0038, 0.0049, 0.0046, 0.0050,\n",
       "        0.0032, 0.0038, 0.0024, 0.0026, 0.0043, 0.0028, 0.0022, 0.0015, 0.0055,\n",
       "        0.0003, 0.0003, 0.0040, 0.0050, 0.0054, 0.0049, 0.0058, 0.0099, 0.0093,\n",
       "        0.0050, 0.0056, 0.0077, 0.0064, 0.0058, 0.0065, 0.0108, 0.0116, 0.0149,\n",
       "        0.0076, 0.0082, 0.0038, 0.0037, 0.0032, 0.0033, 0.0037, 0.0049, 0.0080,\n",
       "        0.0039, 0.0040, 0.0041, 0.0046, 0.0047, 0.0049, 0.0057, 0.0067],\n",
       "       dtype=torch.float64)"
      ]
     },
     "execution_count": 11,
     "metadata": {},
     "output_type": "execute_result"
    }
   ],
   "source": [
    "data1[0][0]"
   ]
  },
  {
   "cell_type": "code",
   "execution_count": 12,
   "id": "45165ebd",
   "metadata": {},
   "outputs": [],
   "source": [
    "dd = data1[0] - k_mean"
   ]
  },
  {
   "cell_type": "code",
   "execution_count": 13,
   "id": "c8e023de",
   "metadata": {},
   "outputs": [
    {
     "data": {
      "text/plain": [
       "tensor([-0.0415, -0.0079, -0.0071, -0.0099, -0.0127, -0.0142, -0.0131, -0.0019,\n",
       "        -0.0173, -0.0127, -0.0239, -0.0233, -0.0242, -0.0286, -0.0285, -0.0426,\n",
       "        -0.0219, -0.0304, -0.0209, -0.0242, -0.0318,  0.0222, -0.0303, -0.0344,\n",
       "        -0.0298, -0.0368, -0.0349, -0.0353, -0.0304, -0.0316, -0.0318, -0.0333,\n",
       "        -0.0309, -0.0357, -0.0358, -0.0269, -0.0250, -0.0319, -0.0273, -0.0227,\n",
       "        -0.0228, -0.0236, -0.0199, -0.0135, -0.0314, -0.0136, -0.0125, -0.0247,\n",
       "        -0.0283, -0.0247, -0.0330, -0.0289, -0.0249, -0.0284, -0.0405, -0.0316,\n",
       "        -0.0408, -0.0441, -0.0295, -0.0444, -0.0331, -0.0672, -0.0311, -0.0414,\n",
       "        -0.0358, -0.0298, -0.0419, -0.0408, -0.0389, -0.0416, -0.0422, -0.0434,\n",
       "        -0.0435, -0.0377, -0.0311, -0.0271, -0.0307, -0.0318, -0.0342, -0.0263],\n",
       "       dtype=torch.float64)"
      ]
     },
     "execution_count": 13,
     "metadata": {},
     "output_type": "execute_result"
    }
   ],
   "source": [
    "dd[0]"
   ]
  },
  {
   "cell_type": "code",
   "execution_count": 46,
   "id": "a2c5f1b8",
   "metadata": {},
   "outputs": [
    {
     "data": {
      "text/plain": [
       "tensor([0.4057, 0.2983, 0.3307, 0.0505, 0.0452, 0.2763, 0.0904, 0.0378, 0.2048,\n",
       "        0.1895, 0.3677, 0.2113, 0.1514, 0.2079, 0.2450, 0.4699, 0.2676, 0.3164,\n",
       "        0.1465, 0.1553, 0.1999, 0.1400, 0.2524, 0.2689, 0.3253, 0.4152, 0.4395,\n",
       "        0.2237, 0.3223, 0.2046, 0.3294, 0.2018, 0.2281, 0.1843, 0.2588, 0.2593,\n",
       "        0.2556, 0.2204, 0.3829, 0.2503, 0.2462, 0.3389, 0.3418, 0.1038, 0.1954,\n",
       "        0.0983, 0.0883, 0.1439, 0.1392, 0.1072, 0.2497, 0.1363, 0.2766, 0.2146,\n",
       "        0.3139, 0.1455, 0.3527, 0.3043, 0.3830, 0.3795, 0.1839, 0.4649, 0.2162,\n",
       "        0.2602, 0.1810, 0.2226, 0.2746, 0.3338, 0.1915, 0.2748, 0.1905, 0.4041,\n",
       "        0.2784, 0.3244, 0.2205, 0.1953, 0.2166, 0.5707, 0.3965, 0.2544],\n",
       "       dtype=torch.float64)"
      ]
     },
     "execution_count": 46,
     "metadata": {},
     "output_type": "execute_result"
    }
   ],
   "source": [
    "data1[0].max(dim = 0).values"
   ]
  },
  {
   "cell_type": "code",
   "execution_count": 4,
   "id": "99c6bc65",
   "metadata": {},
   "outputs": [],
   "source": [
    "data_np = np.array(data1)"
   ]
  },
  {
   "cell_type": "code",
   "execution_count": 57,
   "id": "698a59d8",
   "metadata": {},
   "outputs": [],
   "source": [
    "def calibrate(data): \n",
    "    # assume the linear relation u = a * k + b \n",
    "    # cross all sensors / at each sensor \n",
    "    kj = data[0].max(dim = 0).values\n",
    "    vf = data[2].max(dim = 0).values\n",
    "#     k_mean = data[0].mean(dim = 0)\n",
    "#     u_mean = data[2].mean(dim = 0) \n",
    "#     k_m = data[0] - k_mean\n",
    "    \n",
    "#     b = ((k_m) * (data[2] - u_mean)).sum(dim = 0) / (k_m * k_m).sum(dim = 0)\n",
    "# #     print(b.shape)\n",
    "# #     a = u_mean - b * k_mean # vf\n",
    "#     kj = -(u_max / b)\n",
    "#     return kj, a   \n",
    "    return kj * 1.5, vf + 1"
   ]
  },
  {
   "cell_type": "code",
   "execution_count": 28,
   "id": "759d6980",
   "metadata": {},
   "outputs": [],
   "source": [
    "def calibrate(data): \n",
    "    # assume the linear relation u = a * k + b \n",
    "    # cross all sensors / at each sensor \n",
    "    k_mean = data[0].mean()\n",
    "    u_mean = data[2].mean() \n",
    "    k_m = data[0] - k_mean\n",
    "    \n",
    "    b = ((k_m) * (data[2] - u_mean)).sum() / (k_m * k_m).sum()\n",
    "    print(b.shape)\n",
    "    a = u_mean - b * k_mean # vf\n",
    "    kj = -(a / b)\n",
    "    return kj, a "
   ]
  },
  {
   "cell_type": "code",
   "execution_count": 60,
   "id": "b6403b33",
   "metadata": {},
   "outputs": [],
   "source": [
    "kj, vf = calibrate(data1)"
   ]
  },
  {
   "cell_type": "code",
   "execution_count": 61,
   "id": "e26f2059",
   "metadata": {},
   "outputs": [
    {
     "data": {
      "text/plain": [
       "(tensor([0.6086, 0.4474, 0.4960, 0.0757, 0.0679, 0.4145, 0.1356, 0.0567, 0.3072,\n",
       "         0.2842, 0.5516, 0.3169, 0.2271, 0.3119, 0.3675, 0.7048, 0.4013, 0.4746,\n",
       "         0.2197, 0.2330, 0.2999, 0.2100, 0.3786, 0.4034, 0.4879, 0.6228, 0.6592,\n",
       "         0.3355, 0.4835, 0.3069, 0.4941, 0.3028, 0.3421, 0.2764, 0.3883, 0.3889,\n",
       "         0.3835, 0.3306, 0.5743, 0.3754, 0.3693, 0.5084, 0.5126, 0.1558, 0.2932,\n",
       "         0.1474, 0.1325, 0.2158, 0.2088, 0.1607, 0.3746, 0.2045, 0.4150, 0.3218,\n",
       "         0.4708, 0.2183, 0.5291, 0.4565, 0.5745, 0.5693, 0.2758, 0.6973, 0.3244,\n",
       "         0.3904, 0.2715, 0.3338, 0.4119, 0.5008, 0.2873, 0.4122, 0.2858, 0.6062,\n",
       "         0.4176, 0.4866, 0.3307, 0.2929, 0.3249, 0.8561, 0.5947, 0.3816],\n",
       "        dtype=torch.float64),\n",
       " tensor([36.3609, 34.3939, 34.3939, 34.6621, 34.2151, 34.3045, 31.8011, 34.5280,\n",
       "         32.7398, 32.8740, 34.2151, 32.9187, 34.4386, 33.9916, 32.9187, 35.1986,\n",
       "         33.8127, 33.1422, 35.5562, 32.8292, 33.4104, 36.4950, 34.1704, 34.0363,\n",
       "         33.4104, 34.6174, 33.7680, 34.9750, 32.9187, 34.3492, 34.1257, 33.0975,\n",
       "         34.1704, 34.4386, 34.4833, 33.7680, 33.4104, 35.3774, 34.3939, 33.7680,\n",
       "         34.4833, 33.1869, 33.8127, 33.4551, 37.8808, 36.5397, 34.6621, 34.7962,\n",
       "         35.4221, 33.4551, 36.0479, 34.8856, 36.5397, 35.7797, 38.9090, 36.2715,\n",
       "         36.4056, 36.5397, 36.7185, 36.3162, 38.1043, 37.5232, 37.2102, 36.3609,\n",
       "         36.8526, 36.5844, 34.7068, 34.7068, 34.7515, 33.2316, 34.4833, 33.5892,\n",
       "         34.5280, 34.4833, 33.7233, 33.6339, 33.4551, 34.7068, 34.1257, 36.2268],\n",
       "        dtype=torch.float64))"
      ]
     },
     "execution_count": 61,
     "metadata": {},
     "output_type": "execute_result"
    }
   ],
   "source": [
    "kj, vf"
   ]
  },
  {
   "cell_type": "code",
   "execution_count": 58,
   "id": "8e76e110",
   "metadata": {},
   "outputs": [
    {
     "data": {
      "text/plain": [
       "(tensor([0.4057, 0.2983, 0.3307, 0.0505, 0.0452, 0.2763, 0.0904, 0.0378, 0.2048,\n",
       "         0.1895, 0.3677, 0.2113, 0.1514, 0.2079, 0.2450, 0.4699, 0.2676, 0.3164,\n",
       "         0.1465, 0.1553, 0.1999, 0.1400, 0.2524, 0.2689, 0.3253, 0.4152, 0.4395,\n",
       "         0.2237, 0.3223, 0.2046, 0.3294, 0.2018, 0.2281, 0.1843, 0.2588, 0.2593,\n",
       "         0.2556, 0.2204, 0.3829, 0.2503, 0.2462, 0.3389, 0.3418, 0.1038, 0.1954,\n",
       "         0.0983, 0.0883, 0.1439, 0.1392, 0.1072, 0.2497, 0.1363, 0.2766, 0.2146,\n",
       "         0.3139, 0.1455, 0.3527, 0.3043, 0.3830, 0.3795, 0.1839, 0.4649, 0.2162,\n",
       "         0.2602, 0.1810, 0.2226, 0.2746, 0.3338, 0.1915, 0.2748, 0.1905, 0.4041,\n",
       "         0.2784, 0.3244, 0.2205, 0.1953, 0.2166, 0.5707, 0.3965, 0.2544],\n",
       "        dtype=torch.float64),\n",
       " tensor([35.3609, 33.3939, 33.3939, 33.6621, 33.2151, 33.3045, 30.8011, 33.5280,\n",
       "         31.7398, 31.8740, 33.2151, 31.9187, 33.4386, 32.9916, 31.9187, 34.1986,\n",
       "         32.8127, 32.1422, 34.5562, 31.8292, 32.4104, 35.4950, 33.1704, 33.0363,\n",
       "         32.4104, 33.6174, 32.7680, 33.9750, 31.9187, 33.3492, 33.1257, 32.0975,\n",
       "         33.1704, 33.4386, 33.4833, 32.7680, 32.4104, 34.3774, 33.3939, 32.7680,\n",
       "         33.4833, 32.1869, 32.8127, 32.4551, 36.8808, 35.5397, 33.6621, 33.7962,\n",
       "         34.4221, 32.4551, 35.0479, 33.8856, 35.5397, 34.7797, 37.9090, 35.2715,\n",
       "         35.4056, 35.5397, 35.7185, 35.3162, 37.1043, 36.5232, 36.2102, 35.3609,\n",
       "         35.8526, 35.5844, 33.7068, 33.7068, 33.7515, 32.2316, 33.4833, 32.5892,\n",
       "         33.5280, 33.4833, 32.7233, 32.6339, 32.4551, 33.7068, 33.1257, 35.2268],\n",
       "        dtype=torch.float64),\n",
       " tensor([36., 34., 34., 34., 34., 34., 31., 34., 32., 32., 34., 32., 34., 33.,\n",
       "         32., 35., 33., 33., 35., 32., 33., 36., 34., 34., 33., 34., 33., 34.,\n",
       "         32., 34., 34., 33., 34., 34., 34., 33., 33., 35., 34., 33., 34., 33.,\n",
       "         33., 33., 37., 36., 34., 34., 35., 33., 36., 34., 36., 35., 38., 36.,\n",
       "         36., 36., 36., 36., 38., 37., 37., 36., 36., 36., 34., 34., 34., 33.,\n",
       "         34., 33., 34., 34., 33., 33., 33., 34., 34., 36.], dtype=torch.float64))"
      ]
     },
     "execution_count": 58,
     "metadata": {},
     "output_type": "execute_result"
    }
   ],
   "source": [
    "kj, vf, torch.ceil(vf)"
   ]
  },
  {
   "cell_type": "code",
   "execution_count": 44,
   "id": "aa62df94",
   "metadata": {},
   "outputs": [
    {
     "ename": "AttributeError",
     "evalue": "'torch.return_types.max' object has no attribute 'shape'",
     "output_type": "error",
     "traceback": [
      "\u001b[1;31m---------------------------------------------------------------------------\u001b[0m",
      "\u001b[1;31mAttributeError\u001b[0m                            Traceback (most recent call last)",
      "\u001b[1;32mC:\\Users\\STEPHE~1\\AppData\\Local\\Temp/ipykernel_76016/3810547672.py\u001b[0m in \u001b[0;36m<module>\u001b[1;34m\u001b[0m\n\u001b[1;32m----> 1\u001b[1;33m \u001b[0mkj\u001b[0m\u001b[1;33m.\u001b[0m\u001b[0mshape\u001b[0m\u001b[1;33m,\u001b[0m \u001b[0mvf\u001b[0m\u001b[1;33m.\u001b[0m\u001b[0mshape\u001b[0m\u001b[1;33m\u001b[0m\u001b[1;33m\u001b[0m\u001b[0m\n\u001b[0m",
      "\u001b[1;31mAttributeError\u001b[0m: 'torch.return_types.max' object has no attribute 'shape'"
     ]
    }
   ],
   "source": [
    "kj.shape, vf.shape"
   ]
  },
  {
   "cell_type": "code",
   "execution_count": 30,
   "id": "b24293b2",
   "metadata": {},
   "outputs": [
    {
     "data": {
      "text/plain": [
       "(tensor(0.3170, dtype=torch.float64), tensor(32.0964, dtype=torch.float64))"
      ]
     },
     "execution_count": 30,
     "metadata": {},
     "output_type": "execute_result"
    }
   ],
   "source": [
    "kj2, vf2"
   ]
  },
  {
   "cell_type": "code",
   "execution_count": 20,
   "id": "6ff6c11b",
   "metadata": {},
   "outputs": [
    {
     "data": {
      "text/plain": [
       "(tensor(-17671.3719, dtype=torch.float64),\n",
       " tensor(18216.7170, dtype=torch.float64),\n",
       " tensor(-2920962.5224, dtype=torch.float64),\n",
       " tensor(2199303.3676, dtype=torch.float64))"
      ]
     },
     "execution_count": 20,
     "metadata": {},
     "output_type": "execute_result"
    }
   ],
   "source": [
    "kj.min(), kj.max(), vf.min(), vf.max()"
   ]
  },
  {
   "cell_type": "code",
   "execution_count": 34,
   "id": "5e4af901",
   "metadata": {},
   "outputs": [],
   "source": [
    "data_np = data1"
   ]
  },
  {
   "cell_type": "code",
   "execution_count": 35,
   "id": "d730ba5f",
   "metadata": {},
   "outputs": [
    {
     "data": {
      "text/plain": [
       "(tensor([ 0.5707,  3.7467, 37.9090], dtype=torch.float64),\n",
       " tensor([0.0000, 0.0000, 1.3411], dtype=torch.float64))"
      ]
     },
     "execution_count": 35,
     "metadata": {},
     "output_type": "execute_result"
    }
   ],
   "source": [
    "data_max = torch.tensor([data_np[0, :, :].max(), data_np[1, :, :].max(), data_np[2, :, :].max()])\n",
    "data_min = torch.tensor([data_np[0, :, :].min(), data_np[1, :, :].min(), data_np[2, :, :].min()])\n",
    "data_max, data_min"
   ]
  },
  {
   "cell_type": "code",
   "execution_count": 13,
   "id": "2b88d8a8",
   "metadata": {},
   "outputs": [],
   "source": [
    "mean = torch.tensor([data_np[0, :, :].mean(), data_np[1, :, :].mean(), data_np[2, :, :].mean()])\n",
    "std = torch.tensor([data_np[0, :, :].std(), data_np[1, :, :].std(), data_np[2, :, :].std()])\n",
    "y_norm = torch.zeros(data_np.shape, dtype = torch.double) \n",
    "y_norm[0, :, :] = (data1[0, :, :] - mean[0]) / std[0]\n",
    "y_norm[1, :, :] = (data1[1, :, :] - mean[1]) / std[1]\n",
    "y_norm[2, :, :] = (data1[2, :, :] - mean[2]) / std[2]"
   ]
  },
  {
   "cell_type": "code",
   "execution_count": 14,
   "id": "ed3f72a6",
   "metadata": {},
   "outputs": [
    {
     "data": {
      "text/plain": [
       "(tensor([ 0.0346,  0.8773, 28.5921], dtype=torch.float64),\n",
       " tensor([0.0333, 0.6063, 4.1719], dtype=torch.float64))"
      ]
     },
     "execution_count": 14,
     "metadata": {},
     "output_type": "execute_result"
    }
   ],
   "source": [
    "mean, std"
   ]
  },
  {
   "cell_type": "code",
   "execution_count": null,
   "id": "881c9a9e",
   "metadata": {},
   "outputs": [],
   "source": []
  },
  {
   "cell_type": "code",
   "execution_count": 14,
   "id": "ef506169",
   "metadata": {},
   "outputs": [
    {
     "data": {
      "text/plain": [
       "[<matplotlib.lines.Line2D at 0x1d0d2ec7400>]"
      ]
     },
     "execution_count": 14,
     "metadata": {},
     "output_type": "execute_result"
    },
    {
     "data": {
      "image/png": "[encoded data removed]",
      "text/plain": [
       "<Figure size 432x288 with 1 Axes>"
      ]
     },
     "metadata": {
      "needs_background": "light"
     },
     "output_type": "display_data"
    }
   ],
   "source": [
    "from matplotlib import pyplot as plt \n",
    "plt.plot(data1[0][2, :, 7])"
   ]
  },
  {
   "cell_type": "code",
   "execution_count": null,
   "id": "68f89575",
   "metadata": {},
   "outputs": [],
   "source": []
  },
  {
   "cell_type": "code",
   "execution_count": null,
   "id": "3d108156",
   "metadata": {},
   "outputs": [],
   "source": []
  },
  {
   "cell_type": "code",
   "execution_count": 15,
   "id": "36afb356",
   "metadata": {},
   "outputs": [],
   "source": [
    "data2 = torch.load(\"../../us_beta.pt\")"
   ]
  },
  {
   "cell_type": "code",
   "execution_count": 17,
   "id": "69a5b519",
   "metadata": {},
   "outputs": [
    {
     "data": {
      "text/plain": [
       "torch.Size([56])"
      ]
     },
     "execution_count": 17,
     "metadata": {},
     "output_type": "execute_result"
    }
   ],
   "source": [
    "data2.shape"
   ]
  },
  {
   "cell_type": "code",
   "execution_count": 63,
   "id": "7884da68",
   "metadata": {},
   "outputs": [],
   "source": [
    "def generate_data(data): \n",
    "    datasamples = []\n",
    "    for i in range(data.shape[1] - 24): \n",
    "        datasamples.append(data[:, i:i+24, :])\n",
    "    return torch.stack(datasamples)"
   ]
  },
  {
   "cell_type": "code",
   "execution_count": 6,
   "id": "c5cdfc8e",
   "metadata": {},
   "outputs": [
    {
     "data": {
      "text/plain": [
       "53256"
      ]
     },
     "execution_count": 6,
     "metadata": {},
     "output_type": "execute_result"
    }
   ],
   "source": [
    "len(datasamples)"
   ]
  },
  {
   "cell_type": "code",
   "execution_count": 21,
   "id": "436f694f",
   "metadata": {},
   "outputs": [],
   "source": [
    "total_data = generate_data(data1)"
   ]
  },
  {
   "cell_type": "code",
   "execution_count": 22,
   "id": "a41d6761",
   "metadata": {},
   "outputs": [
    {
     "data": {
      "text/plain": [
       "torch.Size([53256, 3, 24, 80])"
      ]
     },
     "execution_count": 22,
     "metadata": {},
     "output_type": "execute_result"
    }
   ],
   "source": [
    "total_data.shape"
   ]
  },
  {
   "cell_type": "code",
   "execution_count": 33,
   "id": "18938c8a",
   "metadata": {},
   "outputs": [
    {
     "data": {
      "text/plain": [
       "(tensor(0.0346, dtype=torch.float64),\n",
       " tensor(0.8773, dtype=torch.float64),\n",
       " tensor(28.5921, dtype=torch.float64))"
      ]
     },
     "execution_count": 33,
     "metadata": {},
     "output_type": "execute_result"
    }
   ],
   "source": [
    "torch.mean(data1[0, :, :]),torch.mean(data1[1, :, :]), torch.mean(data1[2, :, :])"
   ]
  },
  {
   "cell_type": "markdown",
   "id": "96a9059c",
   "metadata": {},
   "source": [
    "### Data set for time and space generalization "
   ]
  },
  {
   "cell_type": "code",
   "execution_count": 22,
   "id": "ed473c7d",
   "metadata": {},
   "outputs": [
    {
     "name": "stdout",
     "output_type": "stream",
     "text": [
      "6.0 1200\n"
     ]
    }
   ],
   "source": [
    "import numpy as np\n",
    "#nx=350  # \n",
    "nx=240\n",
    "#kj needs to be larger than k for the solution to be stable \n",
    "kj = np.ones((nx,), dtype=float) * 0.6\n",
    "# kj = (kj - mean[0].numpy()) / std[0].numpy()\n",
    "# kj = (kj - y_min[0].numpy()) / (y_max[0].numpy() - y_min[0].numpy()) # normalize\n",
    "\n",
    "#characteristic velocity (m/s), corresponds to roughly 120 km/h\n",
    "vf = np.ones((nx,), dtype=float) * 38\n",
    "# vf = (vf - mean[2].numpy()) / std[2].numpy()\n",
    "# vf = (vf - y_min[2].numpy()) / (y_max[2].numpy() - y_min[2].numpy()) # normalize\n",
    "\n",
    "dx=300.\n",
    "\n",
    "## change the timestep to dt = 1, previously dt = 6 with 7 mins runtime\n",
    "dt=6. \n",
    "#need an output every 5 mins (300 s), so tskip = 3 with dt = 3s\n",
    "tskip=50\n",
    "#nt=int(3600*6/6 - 50)\n",
    "#nt=7099 #6 hours (times 3600 s/hour divided by dt=3s)\n",
    "nto=24 + 1\n",
    "#nt=int(3600*nto/12/6/dt - tskip)\n",
    "dtobs=300\n",
    "nt=int((dtobs*nto)/dt - tskip)\n",
    "print(dt,nt)\n"
   ]
  },
  {
   "cell_type": "code",
   "execution_count": 23,
   "id": "5a8538d4",
   "metadata": {},
   "outputs": [
    {
     "data": {
      "text/plain": [
       "(array([0.6, 0.6, 0.6, 0.6, 0.6, 0.6, 0.6, 0.6, 0.6, 0.6, 0.6, 0.6, 0.6,\n",
       "        0.6, 0.6, 0.6, 0.6, 0.6, 0.6, 0.6, 0.6, 0.6, 0.6, 0.6, 0.6, 0.6,\n",
       "        0.6, 0.6, 0.6, 0.6, 0.6, 0.6, 0.6, 0.6, 0.6, 0.6, 0.6, 0.6, 0.6,\n",
       "        0.6, 0.6, 0.6, 0.6, 0.6, 0.6, 0.6, 0.6, 0.6, 0.6, 0.6, 0.6, 0.6,\n",
       "        0.6, 0.6, 0.6, 0.6, 0.6, 0.6, 0.6, 0.6, 0.6, 0.6, 0.6, 0.6, 0.6,\n",
       "        0.6, 0.6, 0.6, 0.6, 0.6, 0.6, 0.6, 0.6, 0.6, 0.6, 0.6, 0.6, 0.6,\n",
       "        0.6, 0.6, 0.6, 0.6, 0.6, 0.6, 0.6, 0.6, 0.6, 0.6, 0.6, 0.6, 0.6,\n",
       "        0.6, 0.6, 0.6, 0.6, 0.6, 0.6, 0.6, 0.6, 0.6, 0.6, 0.6, 0.6, 0.6,\n",
       "        0.6, 0.6, 0.6, 0.6, 0.6, 0.6, 0.6, 0.6, 0.6, 0.6, 0.6, 0.6, 0.6,\n",
       "        0.6, 0.6, 0.6, 0.6, 0.6, 0.6, 0.6, 0.6, 0.6, 0.6, 0.6, 0.6, 0.6,\n",
       "        0.6, 0.6, 0.6, 0.6, 0.6, 0.6, 0.6, 0.6, 0.6, 0.6, 0.6, 0.6, 0.6,\n",
       "        0.6, 0.6, 0.6, 0.6, 0.6, 0.6, 0.6, 0.6, 0.6, 0.6, 0.6, 0.6, 0.6,\n",
       "        0.6, 0.6, 0.6, 0.6, 0.6, 0.6, 0.6, 0.6, 0.6, 0.6, 0.6, 0.6, 0.6,\n",
       "        0.6, 0.6, 0.6, 0.6, 0.6, 0.6, 0.6, 0.6, 0.6, 0.6, 0.6, 0.6, 0.6,\n",
       "        0.6, 0.6, 0.6, 0.6, 0.6, 0.6, 0.6, 0.6, 0.6, 0.6, 0.6, 0.6, 0.6,\n",
       "        0.6, 0.6, 0.6, 0.6, 0.6, 0.6, 0.6, 0.6, 0.6, 0.6, 0.6, 0.6, 0.6,\n",
       "        0.6, 0.6, 0.6, 0.6, 0.6, 0.6, 0.6, 0.6, 0.6, 0.6, 0.6, 0.6, 0.6,\n",
       "        0.6, 0.6, 0.6, 0.6, 0.6, 0.6, 0.6, 0.6, 0.6, 0.6, 0.6, 0.6, 0.6,\n",
       "        0.6, 0.6, 0.6, 0.6, 0.6, 0.6]),\n",
       " array([38., 38., 38., 38., 38., 38., 38., 38., 38., 38., 38., 38., 38.,\n",
       "        38., 38., 38., 38., 38., 38., 38., 38., 38., 38., 38., 38., 38.,\n",
       "        38., 38., 38., 38., 38., 38., 38., 38., 38., 38., 38., 38., 38.,\n",
       "        38., 38., 38., 38., 38., 38., 38., 38., 38., 38., 38., 38., 38.,\n",
       "        38., 38., 38., 38., 38., 38., 38., 38., 38., 38., 38., 38., 38.,\n",
       "        38., 38., 38., 38., 38., 38., 38., 38., 38., 38., 38., 38., 38.,\n",
       "        38., 38., 38., 38., 38., 38., 38., 38., 38., 38., 38., 38., 38.,\n",
       "        38., 38., 38., 38., 38., 38., 38., 38., 38., 38., 38., 38., 38.,\n",
       "        38., 38., 38., 38., 38., 38., 38., 38., 38., 38., 38., 38., 38.,\n",
       "        38., 38., 38., 38., 38., 38., 38., 38., 38., 38., 38., 38., 38.,\n",
       "        38., 38., 38., 38., 38., 38., 38., 38., 38., 38., 38., 38., 38.,\n",
       "        38., 38., 38., 38., 38., 38., 38., 38., 38., 38., 38., 38., 38.,\n",
       "        38., 38., 38., 38., 38., 38., 38., 38., 38., 38., 38., 38., 38.,\n",
       "        38., 38., 38., 38., 38., 38., 38., 38., 38., 38., 38., 38., 38.,\n",
       "        38., 38., 38., 38., 38., 38., 38., 38., 38., 38., 38., 38., 38.,\n",
       "        38., 38., 38., 38., 38., 38., 38., 38., 38., 38., 38., 38., 38.,\n",
       "        38., 38., 38., 38., 38., 38., 38., 38., 38., 38., 38., 38., 38.,\n",
       "        38., 38., 38., 38., 38., 38., 38., 38., 38., 38., 38., 38., 38.,\n",
       "        38., 38., 38., 38., 38., 38.]))"
      ]
     },
     "execution_count": 23,
     "metadata": {},
     "output_type": "execute_result"
    }
   ],
   "source": [
    "kj, vf"
   ]
  },
  {
   "cell_type": "code",
   "execution_count": 24,
   "id": "fcf42b5b",
   "metadata": {},
   "outputs": [],
   "source": [
    "xi = [0,  28,  35,  47,  50,  53,  55,  59,  62,  65,  68,  70,  73,\n",
    "        77,  80,  82,  85,  88,  91,  92,  94,  98, 101, 104, 106, 108,\n",
    "       112, 116, 119, 122, 124, 127, 129, 130, 131, 132, 133, 142, 144,\n",
    "       148, 149, 150, 156, 158, 160, 163, 165, 168, 172, 174, 175, 176,\n",
    "       178, 179, 179, 181, 183, 184, 185, 187, 188, 192, 193, 196, 197,\n",
    "       199, 200, 203, 210, 212, 214, 219, 219, 221, 223, 225, 228, 229,\n",
    "       232, 236]"
   ]
  },
  {
   "cell_type": "code",
   "execution_count": 35,
   "id": "8529604d",
   "metadata": {},
   "outputs": [],
   "source": [
    "from scipy.interpolate import interp1d\n",
    "\n",
    "def interpolate_initial(var, xi, t0=0): \n",
    "    IM_k=interp1d(np.array(xi) * dx, var[0, :].numpy(), bounds_error=False, \n",
    "                fill_value=(var[0, 0], var[0, -1]), kind='linear') # (var[t0,0], var[t0,-1]) \n",
    "    IM_q=interp1d(np.array(xi) * dx, var[1, :].numpy(), bounds_error=False, \n",
    "                fill_value=(var[1, 0], var[1, -1]), kind='linear') \n",
    "    IM_u=interp1d(np.array(xi) * dx, var[2, :].numpy(), bounds_error=False, \n",
    "                fill_value=(var[1, 0], var[2, -1]), kind='linear')\n",
    "#     IM=interp1d(np.array(xi), var[t0,:].numpy(), bounds_error=False, \n",
    "#                 fill_value=\"extrapolate\", kind='linear')\n",
    "#     print(var[t0,:])\n",
    "    x=np.linspace(0, (nx-1) * dx, nx) \n",
    "    initial = np.stack((IM_k(x), IM_q(x), IM_u(x)))\n",
    "    return torch.tensor(initial)"
   ]
  },
  {
   "cell_type": "code",
   "execution_count": 36,
   "id": "4a93cc29",
   "metadata": {},
   "outputs": [],
   "source": [
    "ti=np.arange(0, (nt-1)*dt, tskip*dt )\n",
    "t=np.linspace(0, (nt-1)*dt, nt)\n",
    "\n",
    "def interpolate_boundary(var, ti, t): \n",
    "    IM_k=interp1d(np.array(ti), var[0, :, 0].numpy(), bounds_error=False,\n",
    "             fill_value=(y_norm[0, 0, 0], y_norm[0, -1, 0]), kind='linear')\n",
    "    IM_q=interp1d(np.array(ti), var[1, :, 0].numpy(), bounds_error=False,\n",
    "             fill_value=(y_norm[1, 0, 0], y_norm[1, -1, 0]), kind='linear')\n",
    "    IM_u=interp1d(np.array(ti), var[2, :, 0].numpy(), bounds_error=False,\n",
    "             fill_value=(y_norm[2, 0, 0], y_norm[2, -1, 0]), kind='linear')\n",
    "\n",
    "    boundary = np.stack((IM_k(t), IM_q(t), IM_u(t)))\n",
    "    return torch.tensor(boundary)"
   ]
  },
  {
   "cell_type": "code",
   "execution_count": 27,
   "id": "e45c8b30",
   "metadata": {},
   "outputs": [
    {
     "data": {
      "text/plain": [
       "array([   0.,  300.,  600.,  900., 1200., 1500., 1800., 2100., 2400.,\n",
       "       2700., 3000., 3300., 3600., 3900., 4200., 4500., 4800., 5100.,\n",
       "       5400., 5700., 6000., 6300., 6600., 6900.])"
      ]
     },
     "execution_count": 27,
     "metadata": {},
     "output_type": "execute_result"
    }
   ],
   "source": [
    "ti=np.arange(0, (nt-1)*dt, tskip*dt )\n",
    "ti"
   ]
  },
  {
   "cell_type": "code",
   "execution_count": 28,
   "id": "ff291c3e",
   "metadata": {},
   "outputs": [
    {
     "data": {
      "text/plain": [
       "array([0.000e+00, 6.000e+00, 1.200e+01, ..., 7.182e+03, 7.188e+03,\n",
       "       7.194e+03])"
      ]
     },
     "execution_count": 28,
     "metadata": {},
     "output_type": "execute_result"
    }
   ],
   "source": [
    "t=np.linspace(0, (nt-1)*dt, nt)\n",
    "t"
   ]
  },
  {
   "cell_type": "code",
   "execution_count": null,
   "id": "afca8a30",
   "metadata": {},
   "outputs": [],
   "source": [
    "ti=np.arange(0, (nt-1)*dt, tskip*dt )\n",
    "print(len(ti), y_norm.shape[0])\n",
    "t=np.linspace(0, (nt-1)*dt, nt)\n",
    "#print(len(ti), len(y_exact))\n",
    "#print(t)\n",
    "\n",
    "k_boundary={}\n",
    "\n",
    "for n,c in enumerate(cmps):\n",
    "    IMb=interp1d(np.array(ti), y_norm[n,:,0].numpy(), bounds_error=False,\n",
    "             fill_value=(y_norm[n,0,0], y_norm[n,-1,0]),\n",
    "             kind='linear')\n",
    "    k_boundary[c]=IMb(t)\n",
    "    print(k_boundary[c].shape, k_boundary[c].max())\n",
    "\n",
    "fig2,ax2=plt.subplots()\n",
    "ax2.plot(ti, y_norm[0,:,0], marker='o', linewidth=0)\n",
    "ax2.plot(t, k_boundary[\"k\"])"
   ]
  },
  {
   "cell_type": "code",
   "execution_count": 38,
   "id": "c162aad0",
   "metadata": {},
   "outputs": [],
   "source": [
    "## data for time generalization \n",
    "\n",
    "training_set = []\n",
    "test_set = []\n",
    "intial_train = []\n",
    "boundary_train = []\n",
    "intial_test = []\n",
    "boundary_test = []\n",
    "count = 0\n",
    "\n",
    "## for training: 12am - 8pm for testing: 8pm - 12am (exclusive)\n",
    "def generate_data(data): \n",
    "    train_set = []\n",
    "    test_set = []\n",
    "    for i in range(data.shape[1] - 24): \n",
    "        if i % 288 < 240: \n",
    "            train_set.append(data[:, i:i+24, :])\n",
    "            initial = interpolate_initial(data[:, i, :], xi, t0=0)\n",
    "            boundary = interpolate_boundary(data[:, i:i+24, :], ti, t) \n",
    "#             print(initial.shape)\n",
    "#             print(boundary.shape)\n",
    "            intial_train.append(initial)\n",
    "            boundary_train.append(boundary)\n",
    "        else: \n",
    "            test_set.append(data[:, i:i+24, :]) \n",
    "            initial = interpolate_initial(data[:, i, :], xi, t0=0)\n",
    "            boundary = interpolate_boundary(data[:, i:i+24, :], ti, t)\n",
    "            intial_test.append(initial)\n",
    "            boundary_test.append(boundary)\n",
    "    return torch.stack(train_set), torch.stack(test_set), torch.stack(intial_train), torch.stack(intial_test), torch.stack(boundary_train), torch.stack(boundary_test) \n",
    "\n",
    "training_set, test_set, intial_train, intial_test, boundary_train, boundary_test = generate_data(data1) \n",
    "\n",
    "# for i in range(288): \n",
    "#     if i >= 48 and i < 96: \n",
    "#         count += 1\n",
    "#         test_set.append(data1[:, i::288, :])\n",
    "#     else: \n",
    "#         training_set.append(data1[:, i::288, :])"
   ]
  },
  {
   "cell_type": "code",
   "execution_count": 40,
   "id": "ffecd479",
   "metadata": {},
   "outputs": [
    {
     "data": {
      "text/plain": [
       "(torch.Size([44400, 3, 240]), torch.Size([8856, 3, 240]))"
      ]
     },
     "execution_count": 40,
     "metadata": {},
     "output_type": "execute_result"
    }
   ],
   "source": [
    "intial_train.shape, intial_test.shape"
   ]
  },
  {
   "cell_type": "code",
   "execution_count": 42,
   "id": "91cdd4eb",
   "metadata": {},
   "outputs": [
    {
     "data": {
      "text/plain": [
       "(torch.Size([44400, 3, 1200]), torch.Size([8856, 3, 1200]))"
      ]
     },
     "execution_count": 42,
     "metadata": {},
     "output_type": "execute_result"
    }
   ],
   "source": [
    "boundary_train.shape, boundary_test.shape"
   ]
  },
  {
   "cell_type": "code",
   "execution_count": 41,
   "id": "7f06c8aa",
   "metadata": {},
   "outputs": [
    {
     "data": {
      "text/plain": [
       "(torch.Size([44400, 3, 24, 80]), torch.Size([8856, 3, 24, 80]))"
      ]
     },
     "execution_count": 41,
     "metadata": {},
     "output_type": "execute_result"
    }
   ],
   "source": [
    "training_set.shape, test_set.shape"
   ]
  },
  {
   "cell_type": "code",
   "execution_count": 43,
   "id": "f411c415",
   "metadata": {},
   "outputs": [],
   "source": [
    "torch.save(training_set, \"training_time.pt\")\n",
    "torch.save(test_set, \"test_time.pt\")\n",
    "torch.save(intial_train, \"training_time_initial.pt\")\n",
    "torch.save(intial_test, \"test_time_initial.pt\")\n",
    "torch.save(boundary_train, \"training_time_boundary.pt\")\n",
    "torch.save(boundary_test, \"test_time_boundary.pt\")"
   ]
  },
  {
   "cell_type": "code",
   "execution_count": 44,
   "id": "eeeb7467",
   "metadata": {},
   "outputs": [],
   "source": [
    "import random\n",
    "import numpy as np\n",
    "## data for space generalization \n",
    "\n",
    "training_sensors = np.random.choice(np.arange(0, 80), 40, replace=False)"
   ]
  },
  {
   "cell_type": "code",
   "execution_count": 57,
   "id": "6c8503ad",
   "metadata": {},
   "outputs": [
    {
     "data": {
      "text/plain": [
       "array([ 9, 35, 38, 33, 21, 23, 48, 40,  2, 67, 70,  3, 18,  1, 54, 37,  8,\n",
       "       19, 65, 64, 30, 56, 75, 34, 68, 57, 63, 25, 45, 10,  0, 50, 17, 79,\n",
       "       27, 71, 39, 77, 29, 31])"
      ]
     },
     "execution_count": 57,
     "metadata": {},
     "output_type": "execute_result"
    }
   ],
   "source": [
    "training_sensors"
   ]
  },
  {
   "cell_type": "code",
   "execution_count": 58,
   "id": "70f9da59",
   "metadata": {},
   "outputs": [],
   "source": [
    "test_sensors = list(set(np.arange(0, 80)) - set(training_sensors))"
   ]
  },
  {
   "cell_type": "code",
   "execution_count": 59,
   "id": "d83d1dbf",
   "metadata": {},
   "outputs": [
    {
     "data": {
      "text/plain": [
       "[4,\n",
       " 5,\n",
       " 6,\n",
       " 7,\n",
       " 11,\n",
       " 12,\n",
       " 13,\n",
       " 14,\n",
       " 15,\n",
       " 16,\n",
       " 20,\n",
       " 22,\n",
       " 24,\n",
       " 26,\n",
       " 28,\n",
       " 32,\n",
       " 36,\n",
       " 41,\n",
       " 42,\n",
       " 43,\n",
       " 44,\n",
       " 46,\n",
       " 47,\n",
       " 49,\n",
       " 51,\n",
       " 52,\n",
       " 53,\n",
       " 55,\n",
       " 58,\n",
       " 59,\n",
       " 60,\n",
       " 61,\n",
       " 62,\n",
       " 66,\n",
       " 69,\n",
       " 72,\n",
       " 73,\n",
       " 74,\n",
       " 76,\n",
       " 78]"
      ]
     },
     "execution_count": 59,
     "metadata": {},
     "output_type": "execute_result"
    }
   ],
   "source": [
    "test_sensors"
   ]
  },
  {
   "cell_type": "code",
   "execution_count": 64,
   "id": "9a0e6729",
   "metadata": {},
   "outputs": [],
   "source": [
    "total_data = generate_data(data1)"
   ]
  },
  {
   "cell_type": "code",
   "execution_count": 65,
   "id": "5b77cd5b",
   "metadata": {},
   "outputs": [
    {
     "data": {
      "text/plain": [
       "torch.Size([53256, 3, 24, 80])"
      ]
     },
     "execution_count": 65,
     "metadata": {},
     "output_type": "execute_result"
    }
   ],
   "source": [
    "total_data.shape"
   ]
  },
  {
   "cell_type": "code",
   "execution_count": 66,
   "id": "d91936f3",
   "metadata": {},
   "outputs": [],
   "source": [
    "training_set = total_data[:, :, :, training_sensors]\n",
    "test_set = total_data[:, :, :, test_sensors]"
   ]
  },
  {
   "cell_type": "code",
   "execution_count": 69,
   "id": "1f56fb86",
   "metadata": {},
   "outputs": [],
   "source": [
    "torch.save(training_set, \"training_space.pt\")\n",
    "torch.save(test_set, \"test_space.pt\")"
   ]
  },
  {
   "cell_type": "code",
   "execution_count": 68,
   "id": "f894eea9",
   "metadata": {},
   "outputs": [
    {
     "data": {
      "text/plain": [
       "torch.Size([53256, 3, 24, 40])"
      ]
     },
     "execution_count": 68,
     "metadata": {},
     "output_type": "execute_result"
    }
   ],
   "source": [
    "training_set.shape"
   ]
  },
  {
   "cell_type": "code",
   "execution_count": 34,
   "id": "560dba35",
   "metadata": {},
   "outputs": [],
   "source": [
    "d = []\n",
    "p = []\n",
    "u = []\n",
    "for i in range(288): \n",
    "#     print(\"mean at\", i, \":\", torch.mean(data1[0, i::288, :]))\n",
    "    d.append(torch.mean(data1[0, i::288, :]))\n",
    "    p.append(torch.mean(data1[1, i::288, :]))\n",
    "    u.append(torch.mean(data1[2, i::288, :]))"
   ]
  },
  {
   "cell_type": "code",
   "execution_count": 38,
   "id": "470d26f7",
   "metadata": {},
   "outputs": [
    {
     "data": {
      "text/plain": [
       "[<matplotlib.lines.Line2D at 0x22118e960a0>]"
      ]
     },
     "execution_count": 38,
     "metadata": {},
     "output_type": "execute_result"
    },
    {
     "data": {
      "image/png": "[encoded data removed]",
      "text/plain": [
       "<Figure size 432x288 with 1 Axes>"
      ]
     },
     "metadata": {
      "needs_background": "light"
     },
     "output_type": "display_data"
    }
   ],
   "source": [
    "from matplotlib import pyplot as plt \n",
    "plt.plot(np.arange(0, 288), d)"
   ]
  },
  {
   "cell_type": "code",
   "execution_count": 39,
   "id": "568bec92",
   "metadata": {},
   "outputs": [
    {
     "data": {
      "text/plain": [
       "[<matplotlib.lines.Line2D at 0x22118fa4520>]"
      ]
     },
     "execution_count": 39,
     "metadata": {},
     "output_type": "execute_result"
    },
    {
     "data": {
      "image/png": "[encoded data removed]",
      "text/plain": [
       "<Figure size 432x288 with 1 Axes>"
      ]
     },
     "metadata": {
      "needs_background": "light"
     },
     "output_type": "display_data"
    }
   ],
   "source": [
    "plt.plot(np.arange(0, 288), p)"
   ]
  },
  {
   "cell_type": "code",
   "execution_count": 40,
   "id": "b05dfdc0",
   "metadata": {},
   "outputs": [
    {
     "data": {
      "text/plain": [
       "[<matplotlib.lines.Line2D at 0x22118f8b6d0>]"
      ]
     },
     "execution_count": 40,
     "metadata": {},
     "output_type": "execute_result"
    },
    {
     "data": {
      "image/png": "[encoded data removed]",
      "text/plain": [
       "<Figure size 432x288 with 1 Axes>"
      ]
     },
     "metadata": {
      "needs_background": "light"
     },
     "output_type": "display_data"
    }
   ],
   "source": [
    "plt.plot(np.arange(0, 288), u)"
   ]
  },
  {
   "cell_type": "code",
   "execution_count": 31,
   "id": "e743c223",
   "metadata": {},
   "outputs": [
    {
     "name": "stdout",
     "output_type": "stream",
     "text": [
      "mean at 0 : tensor(0.3025, dtype=torch.float64)\n",
      "mean at 1 : tensor(0.2960, dtype=torch.float64)\n",
      "mean at 2 : tensor(0.2955, dtype=torch.float64)\n",
      "mean at 3 : tensor(0.2843, dtype=torch.float64)\n",
      "mean at 4 : tensor(0.2651, dtype=torch.float64)\n",
      "mean at 5 : tensor(0.2468, dtype=torch.float64)\n",
      "mean at 6 : tensor(0.2338, dtype=torch.float64)\n",
      "mean at 7 : tensor(0.2259, dtype=torch.float64)\n",
      "mean at 8 : tensor(0.2175, dtype=torch.float64)\n",
      "mean at 9 : tensor(0.2075, dtype=torch.float64)\n",
      "mean at 10 : tensor(0.1954, dtype=torch.float64)\n",
      "mean at 11 : tensor(0.1869, dtype=torch.float64)\n",
      "mean at 12 : tensor(0.1798, dtype=torch.float64)\n",
      "mean at 13 : tensor(0.1742, dtype=torch.float64)\n",
      "mean at 14 : tensor(0.1680, dtype=torch.float64)\n",
      "mean at 15 : tensor(0.1624, dtype=torch.float64)\n",
      "mean at 16 : tensor(0.1561, dtype=torch.float64)\n",
      "mean at 17 : tensor(0.1501, dtype=torch.float64)\n",
      "mean at 18 : tensor(0.1461, dtype=torch.float64)\n",
      "mean at 19 : tensor(0.1451, dtype=torch.float64)\n",
      "mean at 20 : tensor(0.1438, dtype=torch.float64)\n",
      "mean at 21 : tensor(0.1415, dtype=torch.float64)\n",
      "mean at 22 : tensor(0.1375, dtype=torch.float64)\n",
      "mean at 23 : tensor(0.1334, dtype=torch.float64)\n",
      "mean at 24 : tensor(0.1303, dtype=torch.float64)\n",
      "mean at 25 : tensor(0.1293, dtype=torch.float64)\n",
      "mean at 26 : tensor(0.1284, dtype=torch.float64)\n",
      "mean at 27 : tensor(0.1253, dtype=torch.float64)\n",
      "mean at 28 : tensor(0.1213, dtype=torch.float64)\n",
      "mean at 29 : tensor(0.1199, dtype=torch.float64)\n",
      "mean at 30 : tensor(0.1205, dtype=torch.float64)\n",
      "mean at 31 : tensor(0.1248, dtype=torch.float64)\n",
      "mean at 32 : tensor(0.1261, dtype=torch.float64)\n",
      "mean at 33 : tensor(0.1192, dtype=torch.float64)\n",
      "mean at 34 : tensor(0.1128, dtype=torch.float64)\n",
      "mean at 35 : tensor(0.1091, dtype=torch.float64)\n",
      "mean at 36 : tensor(0.1066, dtype=torch.float64)\n",
      "mean at 37 : tensor(0.1058, dtype=torch.float64)\n",
      "mean at 38 : tensor(0.1056, dtype=torch.float64)\n",
      "mean at 39 : tensor(0.1050, dtype=torch.float64)\n",
      "mean at 40 : tensor(0.1057, dtype=torch.float64)\n",
      "mean at 41 : tensor(0.1076, dtype=torch.float64)\n",
      "mean at 42 : tensor(0.1099, dtype=torch.float64)\n",
      "mean at 43 : tensor(0.1142, dtype=torch.float64)\n",
      "mean at 44 : tensor(0.1189, dtype=torch.float64)\n",
      "mean at 45 : tensor(0.1218, dtype=torch.float64)\n",
      "mean at 46 : tensor(0.1222, dtype=torch.float64)\n",
      "mean at 47 : tensor(0.1223, dtype=torch.float64)\n",
      "mean at 48 : tensor(0.1245, dtype=torch.float64)\n",
      "mean at 49 : tensor(0.1332, dtype=torch.float64)\n",
      "mean at 50 : tensor(0.1436, dtype=torch.float64)\n",
      "mean at 51 : tensor(0.1550, dtype=torch.float64)\n",
      "mean at 52 : tensor(0.1680, dtype=torch.float64)\n",
      "mean at 53 : tensor(0.1803, dtype=torch.float64)\n",
      "mean at 54 : tensor(0.1956, dtype=torch.float64)\n",
      "mean at 55 : tensor(0.2171, dtype=torch.float64)\n",
      "mean at 56 : tensor(0.2363, dtype=torch.float64)\n",
      "mean at 57 : tensor(0.2512, dtype=torch.float64)\n",
      "mean at 58 : tensor(0.2618, dtype=torch.float64)\n",
      "mean at 59 : tensor(0.2713, dtype=torch.float64)\n",
      "mean at 60 : tensor(0.2880, dtype=torch.float64)\n",
      "mean at 61 : tensor(0.3204, dtype=torch.float64)\n",
      "mean at 62 : tensor(0.3523, dtype=torch.float64)\n",
      "mean at 63 : tensor(0.3806, dtype=torch.float64)\n",
      "mean at 64 : tensor(0.4108, dtype=torch.float64)\n",
      "mean at 65 : tensor(0.4424, dtype=torch.float64)\n",
      "mean at 66 : tensor(0.4751, dtype=torch.float64)\n",
      "mean at 67 : tensor(0.5138, dtype=torch.float64)\n",
      "mean at 68 : tensor(0.5487, dtype=torch.float64)\n",
      "mean at 69 : tensor(0.5687, dtype=torch.float64)\n",
      "mean at 70 : tensor(0.5728, dtype=torch.float64)\n",
      "mean at 71 : tensor(0.5670, dtype=torch.float64)\n",
      "mean at 72 : tensor(0.5754, dtype=torch.float64)\n",
      "mean at 73 : tensor(0.6122, dtype=torch.float64)\n",
      "mean at 74 : tensor(0.6578, dtype=torch.float64)\n",
      "mean at 75 : tensor(0.6980, dtype=torch.float64)\n",
      "mean at 76 : tensor(0.7245, dtype=torch.float64)\n",
      "mean at 77 : tensor(0.7479, dtype=torch.float64)\n",
      "mean at 78 : tensor(0.7779, dtype=torch.float64)\n",
      "mean at 79 : tensor(0.8216, dtype=torch.float64)\n",
      "mean at 80 : tensor(0.8654, dtype=torch.float64)\n",
      "mean at 81 : tensor(0.8833, dtype=torch.float64)\n",
      "mean at 82 : tensor(0.8767, dtype=torch.float64)\n",
      "mean at 83 : tensor(0.8516, dtype=torch.float64)\n",
      "mean at 84 : tensor(0.8417, dtype=torch.float64)\n",
      "mean at 85 : tensor(0.8725, dtype=torch.float64)\n",
      "mean at 86 : tensor(0.9221, dtype=torch.float64)\n",
      "mean at 87 : tensor(0.9630, dtype=torch.float64)\n",
      "mean at 88 : tensor(0.9837, dtype=torch.float64)\n",
      "mean at 89 : tensor(0.9969, dtype=torch.float64)\n",
      "mean at 90 : tensor(1.0192, dtype=torch.float64)\n",
      "mean at 91 : tensor(1.0632, dtype=torch.float64)\n",
      "mean at 92 : tensor(1.1088, dtype=torch.float64)\n",
      "mean at 93 : tensor(1.1245, dtype=torch.float64)\n",
      "mean at 94 : tensor(1.1025, dtype=torch.float64)\n",
      "mean at 95 : tensor(1.0558, dtype=torch.float64)\n",
      "mean at 96 : tensor(1.0260, dtype=torch.float64)\n",
      "mean at 97 : tensor(1.0294, dtype=torch.float64)\n",
      "mean at 98 : tensor(1.0552, dtype=torch.float64)\n",
      "mean at 99 : tensor(1.0770, dtype=torch.float64)\n",
      "mean at 100 : tensor(1.0873, dtype=torch.float64)\n",
      "mean at 101 : tensor(1.0903, dtype=torch.float64)\n",
      "mean at 102 : tensor(1.0917, dtype=torch.float64)\n",
      "mean at 103 : tensor(1.1137, dtype=torch.float64)\n",
      "mean at 104 : tensor(1.1358, dtype=torch.float64)\n",
      "mean at 105 : tensor(1.1472, dtype=torch.float64)\n",
      "mean at 106 : tensor(1.1295, dtype=torch.float64)\n",
      "mean at 107 : tensor(1.0896, dtype=torch.float64)\n",
      "mean at 108 : tensor(1.0634, dtype=torch.float64)\n",
      "mean at 109 : tensor(1.0610, dtype=torch.float64)\n",
      "mean at 110 : tensor(1.0746, dtype=torch.float64)\n",
      "mean at 111 : tensor(1.0887, dtype=torch.float64)\n",
      "mean at 112 : tensor(1.0980, dtype=torch.float64)\n",
      "mean at 113 : tensor(1.1061, dtype=torch.float64)\n",
      "mean at 114 : tensor(1.1189, dtype=torch.float64)\n",
      "mean at 115 : tensor(1.1395, dtype=torch.float64)\n",
      "mean at 116 : tensor(1.1633, dtype=torch.float64)\n",
      "mean at 117 : tensor(1.1730, dtype=torch.float64)\n",
      "mean at 118 : tensor(1.1630, dtype=torch.float64)\n",
      "mean at 119 : tensor(1.1406, dtype=torch.float64)\n",
      "mean at 120 : tensor(1.1259, dtype=torch.float64)\n",
      "mean at 121 : tensor(1.1327, dtype=torch.float64)\n",
      "mean at 122 : tensor(1.1519, dtype=torch.float64)\n",
      "mean at 123 : tensor(1.1707, dtype=torch.float64)\n",
      "mean at 124 : tensor(1.1763, dtype=torch.float64)\n",
      "mean at 125 : tensor(1.1813, dtype=torch.float64)\n",
      "mean at 126 : tensor(1.1858, dtype=torch.float64)\n",
      "mean at 127 : tensor(1.2014, dtype=torch.float64)\n",
      "mean at 128 : tensor(1.2194, dtype=torch.float64)\n",
      "mean at 129 : tensor(1.2325, dtype=torch.float64)\n",
      "mean at 130 : tensor(1.2216, dtype=torch.float64)\n",
      "mean at 131 : tensor(1.2030, dtype=torch.float64)\n",
      "mean at 132 : tensor(1.1980, dtype=torch.float64)\n",
      "mean at 133 : tensor(1.2087, dtype=torch.float64)\n",
      "mean at 134 : tensor(1.2286, dtype=torch.float64)\n",
      "mean at 135 : tensor(1.2415, dtype=torch.float64)\n",
      "mean at 136 : tensor(1.2461, dtype=torch.float64)\n",
      "mean at 137 : tensor(1.2471, dtype=torch.float64)\n",
      "mean at 138 : tensor(1.2473, dtype=torch.float64)\n",
      "mean at 139 : tensor(1.2617, dtype=torch.float64)\n",
      "mean at 140 : tensor(1.2736, dtype=torch.float64)\n",
      "mean at 141 : tensor(1.2787, dtype=torch.float64)\n",
      "mean at 142 : tensor(1.2696, dtype=torch.float64)\n",
      "mean at 143 : tensor(1.2548, dtype=torch.float64)\n",
      "mean at 144 : tensor(1.2497, dtype=torch.float64)\n",
      "mean at 145 : tensor(1.2624, dtype=torch.float64)\n",
      "mean at 146 : tensor(1.2798, dtype=torch.float64)\n",
      "mean at 147 : tensor(1.2923, dtype=torch.float64)\n",
      "mean at 148 : tensor(1.2939, dtype=torch.float64)\n",
      "mean at 149 : tensor(1.2865, dtype=torch.float64)\n",
      "mean at 150 : tensor(1.2818, dtype=torch.float64)\n",
      "mean at 151 : tensor(1.2927, dtype=torch.float64)\n",
      "mean at 152 : tensor(1.3060, dtype=torch.float64)\n",
      "mean at 153 : tensor(1.3040, dtype=torch.float64)\n",
      "mean at 154 : tensor(1.2925, dtype=torch.float64)\n",
      "mean at 155 : tensor(1.2744, dtype=torch.float64)\n",
      "mean at 156 : tensor(1.2643, dtype=torch.float64)\n",
      "mean at 157 : tensor(1.2777, dtype=torch.float64)\n",
      "mean at 158 : tensor(1.2991, dtype=torch.float64)\n",
      "mean at 159 : tensor(1.3116, dtype=torch.float64)\n",
      "mean at 160 : tensor(1.3112, dtype=torch.float64)\n",
      "mean at 161 : tensor(1.3072, dtype=torch.float64)\n",
      "mean at 162 : tensor(1.3126, dtype=torch.float64)\n",
      "mean at 163 : tensor(1.3379, dtype=torch.float64)\n",
      "mean at 164 : tensor(1.3671, dtype=torch.float64)\n",
      "mean at 165 : tensor(1.3774, dtype=torch.float64)\n",
      "mean at 166 : tensor(1.3619, dtype=torch.float64)\n",
      "mean at 167 : tensor(1.3404, dtype=torch.float64)\n",
      "mean at 168 : tensor(1.3355, dtype=torch.float64)\n",
      "mean at 169 : tensor(1.3661, dtype=torch.float64)\n",
      "mean at 170 : tensor(1.4132, dtype=torch.float64)\n",
      "mean at 171 : tensor(1.4354, dtype=torch.float64)\n",
      "mean at 172 : tensor(1.4397, dtype=torch.float64)\n",
      "mean at 173 : tensor(1.4333, dtype=torch.float64)\n",
      "mean at 174 : tensor(1.4478, dtype=torch.float64)\n",
      "mean at 175 : tensor(1.4952, dtype=torch.float64)\n",
      "mean at 176 : tensor(1.5288, dtype=torch.float64)\n",
      "mean at 177 : tensor(1.5241, dtype=torch.float64)\n",
      "mean at 178 : tensor(1.4970, dtype=torch.float64)\n",
      "mean at 179 : tensor(1.4664, dtype=torch.float64)\n",
      "mean at 180 : tensor(1.4542, dtype=torch.float64)\n",
      "mean at 181 : tensor(1.4754, dtype=torch.float64)\n",
      "mean at 182 : tensor(1.4998, dtype=torch.float64)\n",
      "mean at 183 : tensor(1.5006, dtype=torch.float64)\n",
      "mean at 184 : tensor(1.4921, dtype=torch.float64)\n",
      "mean at 185 : tensor(1.4780, dtype=torch.float64)\n",
      "mean at 186 : tensor(1.4692, dtype=torch.float64)\n",
      "mean at 187 : tensor(1.4793, dtype=torch.float64)\n",
      "mean at 188 : tensor(1.4933, dtype=torch.float64)\n",
      "mean at 189 : tensor(1.4871, dtype=torch.float64)\n",
      "mean at 190 : tensor(1.4699, dtype=torch.float64)\n",
      "mean at 191 : tensor(1.4518, dtype=torch.float64)\n",
      "mean at 192 : tensor(1.4413, dtype=torch.float64)\n",
      "mean at 193 : tensor(1.4498, dtype=torch.float64)\n",
      "mean at 194 : tensor(1.4676, dtype=torch.float64)\n",
      "mean at 195 : tensor(1.4676, dtype=torch.float64)\n",
      "mean at 196 : tensor(1.4589, dtype=torch.float64)\n",
      "mean at 197 : tensor(1.4498, dtype=torch.float64)\n",
      "mean at 198 : tensor(1.4437, dtype=torch.float64)\n",
      "mean at 199 : tensor(1.4563, dtype=torch.float64)\n",
      "mean at 200 : tensor(1.4702, dtype=torch.float64)\n",
      "mean at 201 : tensor(1.4670, dtype=torch.float64)\n",
      "mean at 202 : tensor(1.4536, dtype=torch.float64)\n",
      "mean at 203 : tensor(1.4370, dtype=torch.float64)\n",
      "mean at 204 : tensor(1.4260, dtype=torch.float64)\n",
      "mean at 205 : tensor(1.4438, dtype=torch.float64)\n",
      "mean at 206 : tensor(1.4718, dtype=torch.float64)\n",
      "mean at 207 : tensor(1.4770, dtype=torch.float64)\n",
      "mean at 208 : tensor(1.4620, dtype=torch.float64)\n",
      "mean at 209 : tensor(1.4487, dtype=torch.float64)\n",
      "mean at 210 : tensor(1.4278, dtype=torch.float64)\n",
      "mean at 211 : tensor(1.4201, dtype=torch.float64)\n",
      "mean at 212 : tensor(1.4179, dtype=torch.float64)\n",
      "mean at 213 : tensor(1.3990, dtype=torch.float64)\n",
      "mean at 214 : tensor(1.3733, dtype=torch.float64)\n",
      "mean at 215 : tensor(1.3425, dtype=torch.float64)\n",
      "mean at 216 : tensor(1.3145, dtype=torch.float64)\n",
      "mean at 217 : tensor(1.3107, dtype=torch.float64)\n",
      "mean at 218 : tensor(1.3155, dtype=torch.float64)\n",
      "mean at 219 : tensor(1.3083, dtype=torch.float64)\n",
      "mean at 220 : tensor(1.2871, dtype=torch.float64)\n",
      "mean at 221 : tensor(1.2551, dtype=torch.float64)\n",
      "mean at 222 : tensor(1.2222, dtype=torch.float64)\n",
      "mean at 223 : tensor(1.2002, dtype=torch.float64)\n",
      "mean at 224 : tensor(1.1853, dtype=torch.float64)\n",
      "mean at 225 : tensor(1.1624, dtype=torch.float64)\n",
      "mean at 226 : tensor(1.1308, dtype=torch.float64)\n",
      "mean at 227 : tensor(1.0983, dtype=torch.float64)\n",
      "mean at 228 : tensor(1.0770, dtype=torch.float64)\n",
      "mean at 229 : tensor(1.0783, dtype=torch.float64)\n",
      "mean at 230 : tensor(1.0888, dtype=torch.float64)\n",
      "mean at 231 : tensor(1.0839, dtype=torch.float64)\n",
      "mean at 232 : tensor(1.0680, dtype=torch.float64)\n",
      "mean at 233 : tensor(1.0444, dtype=torch.float64)\n",
      "mean at 234 : tensor(1.0229, dtype=torch.float64)\n",
      "mean at 235 : tensor(1.0166, dtype=torch.float64)\n",
      "mean at 236 : tensor(1.0154, dtype=torch.float64)\n",
      "mean at 237 : tensor(1.0064, dtype=torch.float64)\n",
      "mean at 238 : tensor(0.9901, dtype=torch.float64)\n",
      "mean at 239 : tensor(0.9683, dtype=torch.float64)\n",
      "mean at 240 : tensor(0.9520, dtype=torch.float64)\n",
      "mean at 241 : tensor(0.9492, dtype=torch.float64)\n",
      "mean at 242 : tensor(0.9577, dtype=torch.float64)\n",
      "mean at 243 : tensor(0.9554, dtype=torch.float64)\n",
      "mean at 244 : tensor(0.9433, dtype=torch.float64)\n",
      "mean at 245 : tensor(0.9224, dtype=torch.float64)\n",
      "mean at 246 : tensor(0.9011, dtype=torch.float64)\n",
      "mean at 247 : tensor(0.8890, dtype=torch.float64)\n",
      "mean at 248 : tensor(0.8812, dtype=torch.float64)\n",
      "mean at 249 : tensor(0.8684, dtype=torch.float64)\n",
      "mean at 250 : tensor(0.8482, dtype=torch.float64)\n",
      "mean at 251 : tensor(0.8287, dtype=torch.float64)\n",
      "mean at 252 : tensor(0.8136, dtype=torch.float64)\n",
      "mean at 253 : tensor(0.8061, dtype=torch.float64)\n",
      "mean at 254 : tensor(0.8066, dtype=torch.float64)\n",
      "mean at 255 : tensor(0.8003, dtype=torch.float64)\n",
      "mean at 256 : tensor(0.7854, dtype=torch.float64)\n",
      "mean at 257 : tensor(0.7662, dtype=torch.float64)\n",
      "mean at 258 : tensor(0.7490, dtype=torch.float64)\n",
      "mean at 259 : tensor(0.7394, dtype=torch.float64)\n",
      "mean at 260 : tensor(0.7311, dtype=torch.float64)\n",
      "mean at 261 : tensor(0.7144, dtype=torch.float64)\n",
      "mean at 262 : tensor(0.6947, dtype=torch.float64)\n",
      "mean at 263 : tensor(0.6761, dtype=torch.float64)\n",
      "mean at 264 : tensor(0.6619, dtype=torch.float64)\n",
      "mean at 265 : tensor(0.6619, dtype=torch.float64)\n",
      "mean at 266 : tensor(0.6682, dtype=torch.float64)\n",
      "mean at 267 : tensor(0.6553, dtype=torch.float64)\n",
      "mean at 268 : tensor(0.6328, dtype=torch.float64)\n",
      "mean at 269 : tensor(0.6096, dtype=torch.float64)\n",
      "mean at 270 : tensor(0.5914, dtype=torch.float64)\n",
      "mean at 271 : tensor(0.5886, dtype=torch.float64)\n",
      "mean at 272 : tensor(0.5838, dtype=torch.float64)\n",
      "mean at 273 : tensor(0.5637, dtype=torch.float64)\n",
      "mean at 274 : tensor(0.5363, dtype=torch.float64)\n",
      "mean at 275 : tensor(0.5146, dtype=torch.float64)\n",
      "mean at 276 : tensor(0.4977, dtype=torch.float64)\n",
      "mean at 277 : tensor(0.4937, dtype=torch.float64)\n",
      "mean at 278 : tensor(0.4884, dtype=torch.float64)\n",
      "mean at 279 : tensor(0.4689, dtype=torch.float64)\n",
      "mean at 280 : tensor(0.4445, dtype=torch.float64)\n",
      "mean at 281 : tensor(0.4197, dtype=torch.float64)\n",
      "mean at 282 : tensor(0.4025, dtype=torch.float64)\n",
      "mean at 283 : tensor(0.3944, dtype=torch.float64)\n",
      "mean at 284 : tensor(0.3823, dtype=torch.float64)\n",
      "mean at 285 : tensor(0.3625, dtype=torch.float64)\n",
      "mean at 286 : tensor(0.3394, dtype=torch.float64)\n",
      "mean at 287 : tensor(0.3178, dtype=torch.float64)\n"
     ]
    }
   ],
   "source": [
    "for i in range(288): \n",
    "    print(\"mean at\", i, \":\", torch.mean(data1[1, i::288, :]))"
   ]
  },
  {
   "cell_type": "code",
   "execution_count": 32,
   "id": "ea082d5a",
   "metadata": {},
   "outputs": [
    {
     "name": "stdout",
     "output_type": "stream",
     "text": [
      "mean at 0 : tensor(30.5846, dtype=torch.float64)\n",
      "mean at 1 : tensor(30.4629, dtype=torch.float64)\n",
      "mean at 2 : tensor(30.4117, dtype=torch.float64)\n",
      "mean at 3 : tensor(30.3755, dtype=torch.float64)\n",
      "mean at 4 : tensor(30.3501, dtype=torch.float64)\n",
      "mean at 5 : tensor(30.3309, dtype=torch.float64)\n",
      "mean at 6 : tensor(30.3221, dtype=torch.float64)\n",
      "mean at 7 : tensor(30.3020, dtype=torch.float64)\n",
      "mean at 8 : tensor(30.3088, dtype=torch.float64)\n",
      "mean at 9 : tensor(30.2906, dtype=torch.float64)\n",
      "mean at 10 : tensor(30.2835, dtype=torch.float64)\n",
      "mean at 11 : tensor(30.2672, dtype=torch.float64)\n",
      "mean at 12 : tensor(30.3165, dtype=torch.float64)\n",
      "mean at 13 : tensor(30.3355, dtype=torch.float64)\n",
      "mean at 14 : tensor(30.3325, dtype=torch.float64)\n",
      "mean at 15 : tensor(30.3138, dtype=torch.float64)\n",
      "mean at 16 : tensor(30.3129, dtype=torch.float64)\n",
      "mean at 17 : tensor(30.2942, dtype=torch.float64)\n",
      "mean at 18 : tensor(30.2768, dtype=torch.float64)\n",
      "mean at 19 : tensor(30.2747, dtype=torch.float64)\n",
      "mean at 20 : tensor(30.2699, dtype=torch.float64)\n",
      "mean at 21 : tensor(30.2762, dtype=torch.float64)\n",
      "mean at 22 : tensor(30.2437, dtype=torch.float64)\n",
      "mean at 23 : tensor(30.2156, dtype=torch.float64)\n",
      "mean at 24 : tensor(30.2060, dtype=torch.float64)\n",
      "mean at 25 : tensor(30.2009, dtype=torch.float64)\n",
      "mean at 26 : tensor(30.2036, dtype=torch.float64)\n",
      "mean at 27 : tensor(30.1975, dtype=torch.float64)\n",
      "mean at 28 : tensor(30.1953, dtype=torch.float64)\n",
      "mean at 29 : tensor(30.1858, dtype=torch.float64)\n",
      "mean at 30 : tensor(30.2040, dtype=torch.float64)\n",
      "mean at 31 : tensor(30.2114, dtype=torch.float64)\n",
      "mean at 32 : tensor(30.2309, dtype=torch.float64)\n",
      "mean at 33 : tensor(30.2128, dtype=torch.float64)\n",
      "mean at 34 : tensor(30.2058, dtype=torch.float64)\n",
      "mean at 35 : tensor(30.1888, dtype=torch.float64)\n",
      "mean at 36 : tensor(30.1820, dtype=torch.float64)\n",
      "mean at 37 : tensor(30.1719, dtype=torch.float64)\n",
      "mean at 38 : tensor(30.1707, dtype=torch.float64)\n",
      "mean at 39 : tensor(30.1913, dtype=torch.float64)\n",
      "mean at 40 : tensor(30.1798, dtype=torch.float64)\n",
      "mean at 41 : tensor(30.1930, dtype=torch.float64)\n",
      "mean at 42 : tensor(30.1946, dtype=torch.float64)\n",
      "mean at 43 : tensor(30.2001, dtype=torch.float64)\n",
      "mean at 44 : tensor(30.2051, dtype=torch.float64)\n",
      "mean at 45 : tensor(30.2248, dtype=torch.float64)\n",
      "mean at 46 : tensor(30.2313, dtype=torch.float64)\n",
      "mean at 47 : tensor(30.2287, dtype=torch.float64)\n",
      "mean at 48 : tensor(30.1644, dtype=torch.float64)\n",
      "mean at 49 : tensor(30.1601, dtype=torch.float64)\n",
      "mean at 50 : tensor(30.1828, dtype=torch.float64)\n",
      "mean at 51 : tensor(30.1914, dtype=torch.float64)\n",
      "mean at 52 : tensor(30.2089, dtype=torch.float64)\n",
      "mean at 53 : tensor(30.2437, dtype=torch.float64)\n",
      "mean at 54 : tensor(30.2609, dtype=torch.float64)\n",
      "mean at 55 : tensor(30.3047, dtype=torch.float64)\n",
      "mean at 56 : tensor(30.3497, dtype=torch.float64)\n",
      "mean at 57 : tensor(30.3761, dtype=torch.float64)\n",
      "mean at 58 : tensor(30.4133, dtype=torch.float64)\n",
      "mean at 59 : tensor(30.4449, dtype=torch.float64)\n",
      "mean at 60 : tensor(30.4169, dtype=torch.float64)\n",
      "mean at 61 : tensor(30.4210, dtype=torch.float64)\n",
      "mean at 62 : tensor(30.4187, dtype=torch.float64)\n",
      "mean at 63 : tensor(30.4130, dtype=torch.float64)\n",
      "mean at 64 : tensor(30.4126, dtype=torch.float64)\n",
      "mean at 65 : tensor(30.4176, dtype=torch.float64)\n",
      "mean at 66 : tensor(30.4200, dtype=torch.float64)\n",
      "mean at 67 : tensor(30.4149, dtype=torch.float64)\n",
      "mean at 68 : tensor(30.4228, dtype=torch.float64)\n",
      "mean at 69 : tensor(30.4245, dtype=torch.float64)\n",
      "mean at 70 : tensor(30.4050, dtype=torch.float64)\n",
      "mean at 71 : tensor(30.3661, dtype=torch.float64)\n",
      "mean at 72 : tensor(30.0197, dtype=torch.float64)\n",
      "mean at 73 : tensor(29.8438, dtype=torch.float64)\n",
      "mean at 74 : tensor(29.7723, dtype=torch.float64)\n",
      "mean at 75 : tensor(29.7354, dtype=torch.float64)\n",
      "mean at 76 : tensor(29.6955, dtype=torch.float64)\n",
      "mean at 77 : tensor(29.6655, dtype=torch.float64)\n",
      "mean at 78 : tensor(29.6416, dtype=torch.float64)\n",
      "mean at 79 : tensor(29.6343, dtype=torch.float64)\n",
      "mean at 80 : tensor(29.6461, dtype=torch.float64)\n",
      "mean at 81 : tensor(29.6438, dtype=torch.float64)\n",
      "mean at 82 : tensor(29.6457, dtype=torch.float64)\n",
      "mean at 83 : tensor(29.6374, dtype=torch.float64)\n",
      "mean at 84 : tensor(29.5532, dtype=torch.float64)\n",
      "mean at 85 : tensor(29.5246, dtype=torch.float64)\n",
      "mean at 86 : tensor(29.5102, dtype=torch.float64)\n",
      "mean at 87 : tensor(29.4950, dtype=torch.float64)\n",
      "mean at 88 : tensor(29.4589, dtype=torch.float64)\n",
      "mean at 89 : tensor(29.4041, dtype=torch.float64)\n",
      "mean at 90 : tensor(29.3584, dtype=torch.float64)\n",
      "mean at 91 : tensor(29.3129, dtype=torch.float64)\n",
      "mean at 92 : tensor(29.2658, dtype=torch.float64)\n",
      "mean at 93 : tensor(29.2179, dtype=torch.float64)\n",
      "mean at 94 : tensor(29.1834, dtype=torch.float64)\n",
      "mean at 95 : tensor(29.1723, dtype=torch.float64)\n",
      "mean at 96 : tensor(29.1304, dtype=torch.float64)\n",
      "mean at 97 : tensor(29.1011, dtype=torch.float64)\n",
      "mean at 98 : tensor(29.0825, dtype=torch.float64)\n",
      "mean at 99 : tensor(29.0802, dtype=torch.float64)\n",
      "mean at 100 : tensor(29.0678, dtype=torch.float64)\n",
      "mean at 101 : tensor(29.0633, dtype=torch.float64)\n",
      "mean at 102 : tensor(29.0310, dtype=torch.float64)\n",
      "mean at 103 : tensor(29.0047, dtype=torch.float64)\n",
      "mean at 104 : tensor(28.9729, dtype=torch.float64)\n",
      "mean at 105 : tensor(28.9535, dtype=torch.float64)\n",
      "mean at 106 : tensor(28.9547, dtype=torch.float64)\n",
      "mean at 107 : tensor(28.9568, dtype=torch.float64)\n",
      "mean at 108 : tensor(28.9114, dtype=torch.float64)\n",
      "mean at 109 : tensor(28.8663, dtype=torch.float64)\n",
      "mean at 110 : tensor(28.8315, dtype=torch.float64)\n",
      "mean at 111 : tensor(28.8001, dtype=torch.float64)\n",
      "mean at 112 : tensor(28.7584, dtype=torch.float64)\n",
      "mean at 113 : tensor(28.7222, dtype=torch.float64)\n",
      "mean at 114 : tensor(28.6811, dtype=torch.float64)\n",
      "mean at 115 : tensor(28.6246, dtype=torch.float64)\n",
      "mean at 116 : tensor(28.5732, dtype=torch.float64)\n",
      "mean at 117 : tensor(28.5084, dtype=torch.float64)\n",
      "mean at 118 : tensor(28.4600, dtype=torch.float64)\n",
      "mean at 119 : tensor(28.4135, dtype=torch.float64)\n",
      "mean at 120 : tensor(28.3310, dtype=torch.float64)\n",
      "mean at 121 : tensor(28.2690, dtype=torch.float64)\n",
      "mean at 122 : tensor(28.2058, dtype=torch.float64)\n",
      "mean at 123 : tensor(28.1431, dtype=torch.float64)\n",
      "mean at 124 : tensor(28.0948, dtype=torch.float64)\n",
      "mean at 125 : tensor(28.0473, dtype=torch.float64)\n",
      "mean at 126 : tensor(28.0011, dtype=torch.float64)\n",
      "mean at 127 : tensor(27.9517, dtype=torch.float64)\n",
      "mean at 128 : tensor(27.8967, dtype=torch.float64)\n",
      "mean at 129 : tensor(27.8223, dtype=torch.float64)\n",
      "mean at 130 : tensor(27.7663, dtype=torch.float64)\n",
      "mean at 131 : tensor(27.7242, dtype=torch.float64)\n",
      "mean at 132 : tensor(27.6740, dtype=torch.float64)\n",
      "mean at 133 : tensor(27.6369, dtype=torch.float64)\n",
      "mean at 134 : tensor(27.5990, dtype=torch.float64)\n",
      "mean at 135 : tensor(27.5524, dtype=torch.float64)\n",
      "mean at 136 : tensor(27.5045, dtype=torch.float64)\n",
      "mean at 137 : tensor(27.4620, dtype=torch.float64)\n",
      "mean at 138 : tensor(27.4291, dtype=torch.float64)\n",
      "mean at 139 : tensor(27.4054, dtype=torch.float64)\n",
      "mean at 140 : tensor(27.3647, dtype=torch.float64)\n",
      "mean at 141 : tensor(27.3277, dtype=torch.float64)\n",
      "mean at 142 : tensor(27.3068, dtype=torch.float64)\n",
      "mean at 143 : tensor(27.2951, dtype=torch.float64)\n",
      "mean at 144 : tensor(27.2684, dtype=torch.float64)\n",
      "mean at 145 : tensor(27.2580, dtype=torch.float64)\n",
      "mean at 146 : tensor(27.2413, dtype=torch.float64)\n",
      "mean at 147 : tensor(27.2106, dtype=torch.float64)\n",
      "mean at 148 : tensor(27.1739, dtype=torch.float64)\n",
      "mean at 149 : tensor(27.1559, dtype=torch.float64)\n",
      "mean at 150 : tensor(27.1349, dtype=torch.float64)\n",
      "mean at 151 : tensor(27.1166, dtype=torch.float64)\n",
      "mean at 152 : tensor(27.0955, dtype=torch.float64)\n",
      "mean at 153 : tensor(27.0623, dtype=torch.float64)\n",
      "mean at 154 : tensor(27.0591, dtype=torch.float64)\n",
      "mean at 155 : tensor(27.0840, dtype=torch.float64)\n",
      "mean at 156 : tensor(27.0895, dtype=torch.float64)\n",
      "mean at 157 : tensor(27.0936, dtype=torch.float64)\n",
      "mean at 158 : tensor(27.0996, dtype=torch.float64)\n",
      "mean at 159 : tensor(27.0774, dtype=torch.float64)\n",
      "mean at 160 : tensor(27.0643, dtype=torch.float64)\n",
      "mean at 161 : tensor(27.0633, dtype=torch.float64)\n",
      "mean at 162 : tensor(27.0539, dtype=torch.float64)\n",
      "mean at 163 : tensor(27.0515, dtype=torch.float64)\n",
      "mean at 164 : tensor(27.0439, dtype=torch.float64)\n",
      "mean at 165 : tensor(27.0176, dtype=torch.float64)\n",
      "mean at 166 : tensor(27.0046, dtype=torch.float64)\n",
      "mean at 167 : tensor(27.0147, dtype=torch.float64)\n",
      "mean at 168 : tensor(27.0073, dtype=torch.float64)\n",
      "mean at 169 : tensor(26.9939, dtype=torch.float64)\n",
      "mean at 170 : tensor(26.9538, dtype=torch.float64)\n",
      "mean at 171 : tensor(26.8832, dtype=torch.float64)\n",
      "mean at 172 : tensor(26.8112, dtype=torch.float64)\n",
      "mean at 173 : tensor(26.7541, dtype=torch.float64)\n",
      "mean at 174 : tensor(26.6790, dtype=torch.float64)\n",
      "mean at 175 : tensor(26.5659, dtype=torch.float64)\n",
      "mean at 176 : tensor(26.2896, dtype=torch.float64)\n",
      "mean at 177 : tensor(25.9771, dtype=torch.float64)\n",
      "mean at 178 : tensor(25.7088, dtype=torch.float64)\n",
      "mean at 179 : tensor(25.5455, dtype=torch.float64)\n",
      "mean at 180 : tensor(25.4666, dtype=torch.float64)\n",
      "mean at 181 : tensor(25.4086, dtype=torch.float64)\n",
      "mean at 182 : tensor(25.2499, dtype=torch.float64)\n",
      "mean at 183 : tensor(25.0320, dtype=torch.float64)\n",
      "mean at 184 : tensor(24.8168, dtype=torch.float64)\n",
      "mean at 185 : tensor(24.6318, dtype=torch.float64)\n",
      "mean at 186 : tensor(24.4844, dtype=torch.float64)\n",
      "mean at 187 : tensor(24.3630, dtype=torch.float64)\n",
      "mean at 188 : tensor(24.2026, dtype=torch.float64)\n",
      "mean at 189 : tensor(24.0339, dtype=torch.float64)\n",
      "mean at 190 : tensor(23.9233, dtype=torch.float64)\n",
      "mean at 191 : tensor(23.9133, dtype=torch.float64)\n",
      "mean at 192 : tensor(23.9866, dtype=torch.float64)\n",
      "mean at 193 : tensor(24.0691, dtype=torch.float64)\n",
      "mean at 194 : tensor(24.0864, dtype=torch.float64)\n",
      "mean at 195 : tensor(24.0468, dtype=torch.float64)\n",
      "mean at 196 : tensor(24.0339, dtype=torch.float64)\n",
      "mean at 197 : tensor(24.0778, dtype=torch.float64)\n",
      "mean at 198 : tensor(24.1871, dtype=torch.float64)\n",
      "mean at 199 : tensor(24.2994, dtype=torch.float64)\n",
      "mean at 200 : tensor(24.3162, dtype=torch.float64)\n",
      "mean at 201 : tensor(24.3089, dtype=torch.float64)\n",
      "mean at 202 : tensor(24.3524, dtype=torch.float64)\n",
      "mean at 203 : tensor(24.4794, dtype=torch.float64)\n",
      "mean at 204 : tensor(24.6779, dtype=torch.float64)\n",
      "mean at 205 : tensor(24.8702, dtype=torch.float64)\n",
      "mean at 206 : tensor(24.9421, dtype=torch.float64)\n",
      "mean at 207 : tensor(24.9289, dtype=torch.float64)\n",
      "mean at 208 : tensor(24.9255, dtype=torch.float64)\n",
      "mean at 209 : tensor(24.9908, dtype=torch.float64)\n",
      "mean at 210 : tensor(25.1116, dtype=torch.float64)\n",
      "mean at 211 : tensor(25.3068, dtype=torch.float64)\n",
      "mean at 212 : tensor(25.5301, dtype=torch.float64)\n",
      "mean at 213 : tensor(25.8017, dtype=torch.float64)\n",
      "mean at 214 : tensor(26.0987, dtype=torch.float64)\n",
      "mean at 215 : tensor(26.4300, dtype=torch.float64)\n",
      "mean at 216 : tensor(26.7943, dtype=torch.float64)\n",
      "mean at 217 : tensor(27.1360, dtype=torch.float64)\n",
      "mean at 218 : tensor(27.4267, dtype=torch.float64)\n",
      "mean at 219 : tensor(27.6648, dtype=torch.float64)\n",
      "mean at 220 : tensor(27.8762, dtype=torch.float64)\n",
      "mean at 221 : tensor(28.0835, dtype=torch.float64)\n",
      "mean at 222 : tensor(28.2807, dtype=torch.float64)\n",
      "mean at 223 : tensor(28.4595, dtype=torch.float64)\n",
      "mean at 224 : tensor(28.6261, dtype=torch.float64)\n",
      "mean at 225 : tensor(28.7650, dtype=torch.float64)\n",
      "mean at 226 : tensor(28.8960, dtype=torch.float64)\n",
      "mean at 227 : tensor(29.0071, dtype=torch.float64)\n",
      "mean at 228 : tensor(29.1793, dtype=torch.float64)\n",
      "mean at 229 : tensor(29.2868, dtype=torch.float64)\n",
      "mean at 230 : tensor(29.3703, dtype=torch.float64)\n",
      "mean at 231 : tensor(29.4218, dtype=torch.float64)\n",
      "mean at 232 : tensor(29.4429, dtype=torch.float64)\n",
      "mean at 233 : tensor(29.4652, dtype=torch.float64)\n",
      "mean at 234 : tensor(29.4601, dtype=torch.float64)\n",
      "mean at 235 : tensor(29.4506, dtype=torch.float64)\n",
      "mean at 236 : tensor(29.4367, dtype=torch.float64)\n",
      "mean at 237 : tensor(29.4208, dtype=torch.float64)\n",
      "mean at 238 : tensor(29.4064, dtype=torch.float64)\n",
      "mean at 239 : tensor(29.3934, dtype=torch.float64)\n",
      "mean at 240 : tensor(29.4544, dtype=torch.float64)\n",
      "mean at 241 : tensor(29.4691, dtype=torch.float64)\n",
      "mean at 242 : tensor(29.4561, dtype=torch.float64)\n",
      "mean at 243 : tensor(29.4176, dtype=torch.float64)\n",
      "mean at 244 : tensor(29.3768, dtype=torch.float64)\n",
      "mean at 245 : tensor(29.3587, dtype=torch.float64)\n",
      "mean at 246 : tensor(29.3487, dtype=torch.float64)\n",
      "mean at 247 : tensor(29.3652, dtype=torch.float64)\n",
      "mean at 248 : tensor(29.3916, dtype=torch.float64)\n",
      "mean at 249 : tensor(29.4121, dtype=torch.float64)\n",
      "mean at 250 : tensor(29.4444, dtype=torch.float64)\n",
      "mean at 251 : tensor(29.4801, dtype=torch.float64)\n",
      "mean at 252 : tensor(29.8309, dtype=torch.float64)\n",
      "mean at 253 : tensor(29.9894, dtype=torch.float64)\n",
      "mean at 254 : tensor(30.0564, dtype=torch.float64)\n",
      "mean at 255 : tensor(30.0650, dtype=torch.float64)\n",
      "mean at 256 : tensor(30.0633, dtype=torch.float64)\n",
      "mean at 257 : tensor(30.0598, dtype=torch.float64)\n",
      "mean at 258 : tensor(30.0701, dtype=torch.float64)\n",
      "mean at 259 : tensor(30.0908, dtype=torch.float64)\n",
      "mean at 260 : tensor(30.1075, dtype=torch.float64)\n",
      "mean at 261 : tensor(30.1197, dtype=torch.float64)\n",
      "mean at 262 : tensor(30.1482, dtype=torch.float64)\n",
      "mean at 263 : tensor(30.1858, dtype=torch.float64)\n",
      "mean at 264 : tensor(30.1370, dtype=torch.float64)\n",
      "mean at 265 : tensor(30.1079, dtype=torch.float64)\n",
      "mean at 266 : tensor(30.1127, dtype=torch.float64)\n",
      "mean at 267 : tensor(30.1183, dtype=torch.float64)\n",
      "mean at 268 : tensor(30.1179, dtype=torch.float64)\n",
      "mean at 269 : tensor(30.1323, dtype=torch.float64)\n",
      "mean at 270 : tensor(30.1383, dtype=torch.float64)\n",
      "mean at 271 : tensor(30.1503, dtype=torch.float64)\n",
      "mean at 272 : tensor(30.1675, dtype=torch.float64)\n",
      "mean at 273 : tensor(30.1911, dtype=torch.float64)\n",
      "mean at 274 : tensor(30.2147, dtype=torch.float64)\n",
      "mean at 275 : tensor(30.2382, dtype=torch.float64)\n",
      "mean at 276 : tensor(30.2036, dtype=torch.float64)\n",
      "mean at 277 : tensor(30.2065, dtype=torch.float64)\n",
      "mean at 278 : tensor(30.2033, dtype=torch.float64)\n",
      "mean at 279 : tensor(30.2216, dtype=torch.float64)\n",
      "mean at 280 : tensor(30.2286, dtype=torch.float64)\n",
      "mean at 281 : tensor(30.2300, dtype=torch.float64)\n",
      "mean at 282 : tensor(30.2279, dtype=torch.float64)\n",
      "mean at 283 : tensor(30.2396, dtype=torch.float64)\n",
      "mean at 284 : tensor(30.2604, dtype=torch.float64)\n",
      "mean at 285 : tensor(30.2797, dtype=torch.float64)\n",
      "mean at 286 : tensor(30.2870, dtype=torch.float64)\n",
      "mean at 287 : tensor(30.2915, dtype=torch.float64)\n"
     ]
    }
   ],
   "source": [
    "for i in range(288): \n",
    "    print(\"mean at\", i, \":\", torch.mean(data1[2, i::288, :]))"
   ]
  },
  {
   "cell_type": "code",
   "execution_count": 14,
   "id": "9dc62d16",
   "metadata": {},
   "outputs": [],
   "source": [
    "torch.save(datasamples, \"pems_data.pt\")"
   ]
  },
  {
   "cell_type": "code",
   "execution_count": 15,
   "id": "0088bbc1",
   "metadata": {},
   "outputs": [],
   "source": [
    "import torch\n",
    "import torch.nn as nn\n",
    "import numpy as np\n",
    "from torch.utils import data \n",
    "\n",
    "class Dataset(data.Dataset): \n",
    "    def __init__(self, data):\n",
    "        self.data = data\n",
    "    def __len__(self):\n",
    "        return len(self.data)\n",
    "\n",
    "    def __getitem__(self, idx): \n",
    "        X = self.data[idx][:, :12, :]\n",
    "        y = self.data[idx][:, 12:, :]\n",
    "        return X, y\n"
   ]
  },
  {
   "cell_type": "code",
   "execution_count": 16,
   "id": "9c5faa67",
   "metadata": {},
   "outputs": [],
   "source": [
    "train_set = Dataset(datasamples[:42604])"
   ]
  },
  {
   "cell_type": "code",
   "execution_count": 17,
   "id": "31452e93",
   "metadata": {},
   "outputs": [],
   "source": [
    "train_loader = data.DataLoader(train_set, batch_size = 64, shuffle = True)"
   ]
  },
  {
   "cell_type": "code",
   "execution_count": 18,
   "id": "152c81f6",
   "metadata": {},
   "outputs": [
    {
     "name": "stdout",
     "output_type": "stream",
     "text": [
      "torch.Size([64, 3, 12, 80]) torch.Size([64, 3, 12, 80])\n",
      "torch.Size([64, 3, 12, 80]) torch.Size([64, 3, 12, 80])\n",
      "torch.Size([64, 3, 12, 80]) torch.Size([64, 3, 12, 80])\n",
      "torch.Size([64, 3, 12, 80]) torch.Size([64, 3, 12, 80])\n",
      "torch.Size([64, 3, 12, 80]) torch.Size([64, 3, 12, 80])\n",
      "torch.Size([64, 3, 12, 80]) torch.Size([64, 3, 12, 80])\n",
      "torch.Size([64, 3, 12, 80]) torch.Size([64, 3, 12, 80])\n",
      "torch.Size([64, 3, 12, 80]) torch.Size([64, 3, 12, 80])\n",
      "torch.Size([64, 3, 12, 80]) torch.Size([64, 3, 12, 80])\n",
      "torch.Size([64, 3, 12, 80]) torch.Size([64, 3, 12, 80])\n",
      "torch.Size([64, 3, 12, 80]) torch.Size([64, 3, 12, 80])\n",
      "torch.Size([64, 3, 12, 80]) torch.Size([64, 3, 12, 80])\n",
      "torch.Size([64, 3, 12, 80]) torch.Size([64, 3, 12, 80])\n",
      "torch.Size([64, 3, 12, 80]) torch.Size([64, 3, 12, 80])\n",
      "torch.Size([64, 3, 12, 80]) torch.Size([64, 3, 12, 80])\n",
      "torch.Size([64, 3, 12, 80]) torch.Size([64, 3, 12, 80])\n",
      "torch.Size([64, 3, 12, 80]) torch.Size([64, 3, 12, 80])\n",
      "torch.Size([64, 3, 12, 80]) torch.Size([64, 3, 12, 80])\n",
      "torch.Size([64, 3, 12, 80]) torch.Size([64, 3, 12, 80])\n",
      "torch.Size([64, 3, 12, 80]) torch.Size([64, 3, 12, 80])\n",
      "torch.Size([64, 3, 12, 80]) torch.Size([64, 3, 12, 80])\n",
      "torch.Size([64, 3, 12, 80]) torch.Size([64, 3, 12, 80])\n",
      "torch.Size([64, 3, 12, 80]) torch.Size([64, 3, 12, 80])\n",
      "torch.Size([64, 3, 12, 80]) torch.Size([64, 3, 12, 80])\n",
      "torch.Size([64, 3, 12, 80]) torch.Size([64, 3, 12, 80])\n",
      "torch.Size([64, 3, 12, 80]) torch.Size([64, 3, 12, 80])\n",
      "torch.Size([64, 3, 12, 80]) torch.Size([64, 3, 12, 80])\n",
      "torch.Size([64, 3, 12, 80]) torch.Size([64, 3, 12, 80])\n",
      "torch.Size([64, 3, 12, 80]) torch.Size([64, 3, 12, 80])\n",
      "torch.Size([64, 3, 12, 80]) torch.Size([64, 3, 12, 80])\n",
      "torch.Size([64, 3, 12, 80]) torch.Size([64, 3, 12, 80])\n",
      "torch.Size([64, 3, 12, 80]) torch.Size([64, 3, 12, 80])\n",
      "torch.Size([64, 3, 12, 80]) torch.Size([64, 3, 12, 80])\n",
      "torch.Size([64, 3, 12, 80]) torch.Size([64, 3, 12, 80])\n",
      "torch.Size([64, 3, 12, 80]) torch.Size([64, 3, 12, 80])\n",
      "torch.Size([64, 3, 12, 80]) torch.Size([64, 3, 12, 80])\n",
      "torch.Size([64, 3, 12, 80]) torch.Size([64, 3, 12, 80])\n",
      "torch.Size([64, 3, 12, 80]) torch.Size([64, 3, 12, 80])\n",
      "torch.Size([64, 3, 12, 80]) torch.Size([64, 3, 12, 80])\n",
      "torch.Size([64, 3, 12, 80]) torch.Size([64, 3, 12, 80])\n",
      "torch.Size([64, 3, 12, 80]) torch.Size([64, 3, 12, 80])\n",
      "torch.Size([64, 3, 12, 80]) torch.Size([64, 3, 12, 80])\n",
      "torch.Size([64, 3, 12, 80]) torch.Size([64, 3, 12, 80])\n",
      "torch.Size([64, 3, 12, 80]) torch.Size([64, 3, 12, 80])\n",
      "torch.Size([64, 3, 12, 80]) torch.Size([64, 3, 12, 80])\n",
      "torch.Size([64, 3, 12, 80]) torch.Size([64, 3, 12, 80])\n",
      "torch.Size([64, 3, 12, 80]) torch.Size([64, 3, 12, 80])\n",
      "torch.Size([64, 3, 12, 80]) torch.Size([64, 3, 12, 80])\n",
      "torch.Size([64, 3, 12, 80]) torch.Size([64, 3, 12, 80])\n",
      "torch.Size([64, 3, 12, 80]) torch.Size([64, 3, 12, 80])\n",
      "torch.Size([64, 3, 12, 80]) torch.Size([64, 3, 12, 80])\n",
      "torch.Size([64, 3, 12, 80]) torch.Size([64, 3, 12, 80])\n",
      "torch.Size([64, 3, 12, 80]) torch.Size([64, 3, 12, 80])\n",
      "torch.Size([64, 3, 12, 80]) torch.Size([64, 3, 12, 80])\n",
      "torch.Size([64, 3, 12, 80]) torch.Size([64, 3, 12, 80])\n",
      "torch.Size([64, 3, 12, 80]) torch.Size([64, 3, 12, 80])\n",
      "torch.Size([64, 3, 12, 80]) torch.Size([64, 3, 12, 80])\n",
      "torch.Size([64, 3, 12, 80]) torch.Size([64, 3, 12, 80])\n",
      "torch.Size([64, 3, 12, 80]) torch.Size([64, 3, 12, 80])\n",
      "torch.Size([64, 3, 12, 80]) torch.Size([64, 3, 12, 80])\n",
      "torch.Size([64, 3, 12, 80]) torch.Size([64, 3, 12, 80])\n",
      "torch.Size([64, 3, 12, 80]) torch.Size([64, 3, 12, 80])\n",
      "torch.Size([64, 3, 12, 80]) torch.Size([64, 3, 12, 80])\n",
      "torch.Size([64, 3, 12, 80]) torch.Size([64, 3, 12, 80])\n",
      "torch.Size([64, 3, 12, 80]) torch.Size([64, 3, 12, 80])\n",
      "torch.Size([64, 3, 12, 80]) torch.Size([64, 3, 12, 80])\n",
      "torch.Size([64, 3, 12, 80]) torch.Size([64, 3, 12, 80])\n",
      "torch.Size([64, 3, 12, 80]) torch.Size([64, 3, 12, 80])\n",
      "torch.Size([64, 3, 12, 80]) torch.Size([64, 3, 12, 80])\n",
      "torch.Size([64, 3, 12, 80]) torch.Size([64, 3, 12, 80])\n",
      "torch.Size([64, 3, 12, 80]) torch.Size([64, 3, 12, 80])\n",
      "torch.Size([64, 3, 12, 80]) torch.Size([64, 3, 12, 80])\n",
      "torch.Size([64, 3, 12, 80]) torch.Size([64, 3, 12, 80])\n",
      "torch.Size([64, 3, 12, 80]) torch.Size([64, 3, 12, 80])\n",
      "torch.Size([64, 3, 12, 80]) torch.Size([64, 3, 12, 80])\n",
      "torch.Size([64, 3, 12, 80]) torch.Size([64, 3, 12, 80])\n",
      "torch.Size([64, 3, 12, 80]) torch.Size([64, 3, 12, 80])\n",
      "torch.Size([64, 3, 12, 80]) torch.Size([64, 3, 12, 80])\n",
      "torch.Size([64, 3, 12, 80]) torch.Size([64, 3, 12, 80])\n",
      "torch.Size([64, 3, 12, 80]) torch.Size([64, 3, 12, 80])\n",
      "torch.Size([64, 3, 12, 80]) torch.Size([64, 3, 12, 80])\n",
      "torch.Size([64, 3, 12, 80]) torch.Size([64, 3, 12, 80])\n",
      "torch.Size([64, 3, 12, 80]) torch.Size([64, 3, 12, 80])\n",
      "torch.Size([64, 3, 12, 80]) torch.Size([64, 3, 12, 80])\n",
      "torch.Size([64, 3, 12, 80]) torch.Size([64, 3, 12, 80])\n",
      "torch.Size([64, 3, 12, 80]) torch.Size([64, 3, 12, 80])\n",
      "torch.Size([64, 3, 12, 80]) torch.Size([64, 3, 12, 80])\n",
      "torch.Size([64, 3, 12, 80]) torch.Size([64, 3, 12, 80])\n",
      "torch.Size([64, 3, 12, 80]) torch.Size([64, 3, 12, 80])\n",
      "torch.Size([64, 3, 12, 80]) torch.Size([64, 3, 12, 80])\n",
      "torch.Size([64, 3, 12, 80]) torch.Size([64, 3, 12, 80])\n",
      "torch.Size([64, 3, 12, 80]) torch.Size([64, 3, 12, 80])\n",
      "torch.Size([64, 3, 12, 80]) torch.Size([64, 3, 12, 80])\n",
      "torch.Size([64, 3, 12, 80]) torch.Size([64, 3, 12, 80])\n",
      "torch.Size([64, 3, 12, 80]) torch.Size([64, 3, 12, 80])\n",
      "torch.Size([64, 3, 12, 80]) torch.Size([64, 3, 12, 80])\n",
      "torch.Size([64, 3, 12, 80]) torch.Size([64, 3, 12, 80])\n",
      "torch.Size([64, 3, 12, 80]) torch.Size([64, 3, 12, 80])\n",
      "torch.Size([64, 3, 12, 80]) torch.Size([64, 3, 12, 80])\n",
      "torch.Size([64, 3, 12, 80]) torch.Size([64, 3, 12, 80])\n",
      "torch.Size([64, 3, 12, 80]) torch.Size([64, 3, 12, 80])\n",
      "torch.Size([64, 3, 12, 80]) torch.Size([64, 3, 12, 80])\n",
      "torch.Size([64, 3, 12, 80]) torch.Size([64, 3, 12, 80])\n",
      "torch.Size([64, 3, 12, 80]) torch.Size([64, 3, 12, 80])\n",
      "torch.Size([64, 3, 12, 80]) torch.Size([64, 3, 12, 80])\n",
      "torch.Size([64, 3, 12, 80]) torch.Size([64, 3, 12, 80])\n",
      "torch.Size([64, 3, 12, 80]) torch.Size([64, 3, 12, 80])\n",
      "torch.Size([64, 3, 12, 80]) torch.Size([64, 3, 12, 80])\n",
      "torch.Size([64, 3, 12, 80]) torch.Size([64, 3, 12, 80])\n",
      "torch.Size([64, 3, 12, 80]) torch.Size([64, 3, 12, 80])\n",
      "torch.Size([64, 3, 12, 80]) torch.Size([64, 3, 12, 80])\n",
      "torch.Size([64, 3, 12, 80]) torch.Size([64, 3, 12, 80])\n",
      "torch.Size([64, 3, 12, 80]) torch.Size([64, 3, 12, 80])\n",
      "torch.Size([64, 3, 12, 80]) torch.Size([64, 3, 12, 80])\n",
      "torch.Size([64, 3, 12, 80]) torch.Size([64, 3, 12, 80])\n",
      "torch.Size([64, 3, 12, 80]) torch.Size([64, 3, 12, 80])\n",
      "torch.Size([64, 3, 12, 80]) torch.Size([64, 3, 12, 80])\n",
      "torch.Size([64, 3, 12, 80]) torch.Size([64, 3, 12, 80])\n",
      "torch.Size([64, 3, 12, 80]) torch.Size([64, 3, 12, 80])\n",
      "torch.Size([64, 3, 12, 80]) torch.Size([64, 3, 12, 80])\n",
      "torch.Size([64, 3, 12, 80]) torch.Size([64, 3, 12, 80])\n",
      "torch.Size([64, 3, 12, 80]) torch.Size([64, 3, 12, 80])\n",
      "torch.Size([64, 3, 12, 80]) torch.Size([64, 3, 12, 80])\n",
      "torch.Size([64, 3, 12, 80]) torch.Size([64, 3, 12, 80])\n",
      "torch.Size([64, 3, 12, 80]) torch.Size([64, 3, 12, 80])\n",
      "torch.Size([64, 3, 12, 80]) torch.Size([64, 3, 12, 80])\n",
      "torch.Size([64, 3, 12, 80]) torch.Size([64, 3, 12, 80])\n",
      "torch.Size([64, 3, 12, 80]) torch.Size([64, 3, 12, 80])\n",
      "torch.Size([64, 3, 12, 80]) torch.Size([64, 3, 12, 80])\n",
      "torch.Size([64, 3, 12, 80]) torch.Size([64, 3, 12, 80])\n",
      "torch.Size([64, 3, 12, 80]) torch.Size([64, 3, 12, 80])\n",
      "torch.Size([64, 3, 12, 80]) torch.Size([64, 3, 12, 80])\n",
      "torch.Size([64, 3, 12, 80]) torch.Size([64, 3, 12, 80])\n",
      "torch.Size([64, 3, 12, 80]) torch.Size([64, 3, 12, 80])\n",
      "torch.Size([64, 3, 12, 80]) torch.Size([64, 3, 12, 80])\n",
      "torch.Size([64, 3, 12, 80]) torch.Size([64, 3, 12, 80])\n",
      "torch.Size([64, 3, 12, 80]) torch.Size([64, 3, 12, 80])\n",
      "torch.Size([64, 3, 12, 80]) torch.Size([64, 3, 12, 80])\n",
      "torch.Size([64, 3, 12, 80]) torch.Size([64, 3, 12, 80])\n",
      "torch.Size([64, 3, 12, 80]) torch.Size([64, 3, 12, 80])\n",
      "torch.Size([64, 3, 12, 80]) torch.Size([64, 3, 12, 80])\n",
      "torch.Size([64, 3, 12, 80]) torch.Size([64, 3, 12, 80])\n",
      "torch.Size([64, 3, 12, 80]) torch.Size([64, 3, 12, 80])\n",
      "torch.Size([64, 3, 12, 80]) torch.Size([64, 3, 12, 80])\n",
      "torch.Size([64, 3, 12, 80]) torch.Size([64, 3, 12, 80])\n",
      "torch.Size([64, 3, 12, 80]) torch.Size([64, 3, 12, 80])\n",
      "torch.Size([64, 3, 12, 80]) torch.Size([64, 3, 12, 80])\n",
      "torch.Size([64, 3, 12, 80]) torch.Size([64, 3, 12, 80])\n",
      "torch.Size([64, 3, 12, 80]) torch.Size([64, 3, 12, 80])\n",
      "torch.Size([64, 3, 12, 80]) torch.Size([64, 3, 12, 80])\n",
      "torch.Size([64, 3, 12, 80]) torch.Size([64, 3, 12, 80])\n",
      "torch.Size([64, 3, 12, 80]) torch.Size([64, 3, 12, 80])\n",
      "torch.Size([64, 3, 12, 80]) torch.Size([64, 3, 12, 80])\n",
      "torch.Size([64, 3, 12, 80]) torch.Size([64, 3, 12, 80])\n",
      "torch.Size([64, 3, 12, 80]) torch.Size([64, 3, 12, 80])\n",
      "torch.Size([64, 3, 12, 80]) torch.Size([64, 3, 12, 80])\n",
      "torch.Size([64, 3, 12, 80]) torch.Size([64, 3, 12, 80])\n",
      "torch.Size([64, 3, 12, 80]) torch.Size([64, 3, 12, 80])\n",
      "torch.Size([64, 3, 12, 80]) torch.Size([64, 3, 12, 80])\n",
      "torch.Size([64, 3, 12, 80]) torch.Size([64, 3, 12, 80])\n",
      "torch.Size([64, 3, 12, 80]) torch.Size([64, 3, 12, 80])\n",
      "torch.Size([64, 3, 12, 80]) torch.Size([64, 3, 12, 80])\n",
      "torch.Size([64, 3, 12, 80]) torch.Size([64, 3, 12, 80])\n",
      "torch.Size([64, 3, 12, 80]) torch.Size([64, 3, 12, 80])\n",
      "torch.Size([64, 3, 12, 80]) torch.Size([64, 3, 12, 80])\n",
      "torch.Size([64, 3, 12, 80]) torch.Size([64, 3, 12, 80])\n",
      "torch.Size([64, 3, 12, 80]) torch.Size([64, 3, 12, 80])\n",
      "torch.Size([64, 3, 12, 80]) torch.Size([64, 3, 12, 80])\n",
      "torch.Size([64, 3, 12, 80]) torch.Size([64, 3, 12, 80])\n",
      "torch.Size([64, 3, 12, 80]) torch.Size([64, 3, 12, 80])\n",
      "torch.Size([64, 3, 12, 80]) torch.Size([64, 3, 12, 80])\n",
      "torch.Size([64, 3, 12, 80]) torch.Size([64, 3, 12, 80])\n",
      "torch.Size([64, 3, 12, 80]) torch.Size([64, 3, 12, 80])\n",
      "torch.Size([64, 3, 12, 80]) torch.Size([64, 3, 12, 80])\n",
      "torch.Size([64, 3, 12, 80]) torch.Size([64, 3, 12, 80])\n",
      "torch.Size([64, 3, 12, 80]) torch.Size([64, 3, 12, 80])\n",
      "torch.Size([64, 3, 12, 80]) torch.Size([64, 3, 12, 80])\n",
      "torch.Size([64, 3, 12, 80]) torch.Size([64, 3, 12, 80])\n",
      "torch.Size([64, 3, 12, 80]) torch.Size([64, 3, 12, 80])\n",
      "torch.Size([64, 3, 12, 80]) torch.Size([64, 3, 12, 80])\n",
      "torch.Size([64, 3, 12, 80]) torch.Size([64, 3, 12, 80])\n",
      "torch.Size([64, 3, 12, 80]) torch.Size([64, 3, 12, 80])\n",
      "torch.Size([64, 3, 12, 80]) torch.Size([64, 3, 12, 80])\n",
      "torch.Size([64, 3, 12, 80]) torch.Size([64, 3, 12, 80])\n",
      "torch.Size([64, 3, 12, 80]) torch.Size([64, 3, 12, 80])\n",
      "torch.Size([64, 3, 12, 80]) torch.Size([64, 3, 12, 80])\n",
      "torch.Size([64, 3, 12, 80]) torch.Size([64, 3, 12, 80])\n",
      "torch.Size([64, 3, 12, 80]) torch.Size([64, 3, 12, 80])\n",
      "torch.Size([64, 3, 12, 80]) torch.Size([64, 3, 12, 80])\n",
      "torch.Size([64, 3, 12, 80]) torch.Size([64, 3, 12, 80])\n",
      "torch.Size([64, 3, 12, 80]) torch.Size([64, 3, 12, 80])\n",
      "torch.Size([64, 3, 12, 80]) torch.Size([64, 3, 12, 80])\n"
     ]
    },
    {
     "name": "stdout",
     "output_type": "stream",
     "text": [
      "torch.Size([64, 3, 12, 80]) torch.Size([64, 3, 12, 80])\n",
      "torch.Size([64, 3, 12, 80]) torch.Size([64, 3, 12, 80])\n",
      "torch.Size([64, 3, 12, 80]) torch.Size([64, 3, 12, 80])\n",
      "torch.Size([64, 3, 12, 80]) torch.Size([64, 3, 12, 80])\n",
      "torch.Size([64, 3, 12, 80]) torch.Size([64, 3, 12, 80])\n",
      "torch.Size([64, 3, 12, 80]) torch.Size([64, 3, 12, 80])\n",
      "torch.Size([64, 3, 12, 80]) torch.Size([64, 3, 12, 80])\n",
      "torch.Size([64, 3, 12, 80]) torch.Size([64, 3, 12, 80])\n",
      "torch.Size([64, 3, 12, 80]) torch.Size([64, 3, 12, 80])\n",
      "torch.Size([64, 3, 12, 80]) torch.Size([64, 3, 12, 80])\n",
      "torch.Size([64, 3, 12, 80]) torch.Size([64, 3, 12, 80])\n",
      "torch.Size([64, 3, 12, 80]) torch.Size([64, 3, 12, 80])\n",
      "torch.Size([64, 3, 12, 80]) torch.Size([64, 3, 12, 80])\n",
      "torch.Size([64, 3, 12, 80]) torch.Size([64, 3, 12, 80])\n",
      "torch.Size([64, 3, 12, 80]) torch.Size([64, 3, 12, 80])\n",
      "torch.Size([64, 3, 12, 80]) torch.Size([64, 3, 12, 80])\n",
      "torch.Size([64, 3, 12, 80]) torch.Size([64, 3, 12, 80])\n",
      "torch.Size([64, 3, 12, 80]) torch.Size([64, 3, 12, 80])\n",
      "torch.Size([64, 3, 12, 80]) torch.Size([64, 3, 12, 80])\n",
      "torch.Size([64, 3, 12, 80]) torch.Size([64, 3, 12, 80])\n",
      "torch.Size([64, 3, 12, 80]) torch.Size([64, 3, 12, 80])\n",
      "torch.Size([64, 3, 12, 80]) torch.Size([64, 3, 12, 80])\n",
      "torch.Size([64, 3, 12, 80]) torch.Size([64, 3, 12, 80])\n",
      "torch.Size([64, 3, 12, 80]) torch.Size([64, 3, 12, 80])\n",
      "torch.Size([64, 3, 12, 80]) torch.Size([64, 3, 12, 80])\n",
      "torch.Size([64, 3, 12, 80]) torch.Size([64, 3, 12, 80])\n",
      "torch.Size([64, 3, 12, 80]) torch.Size([64, 3, 12, 80])\n",
      "torch.Size([64, 3, 12, 80]) torch.Size([64, 3, 12, 80])\n",
      "torch.Size([64, 3, 12, 80]) torch.Size([64, 3, 12, 80])\n",
      "torch.Size([64, 3, 12, 80]) torch.Size([64, 3, 12, 80])\n",
      "torch.Size([64, 3, 12, 80]) torch.Size([64, 3, 12, 80])\n",
      "torch.Size([64, 3, 12, 80]) torch.Size([64, 3, 12, 80])\n",
      "torch.Size([64, 3, 12, 80]) torch.Size([64, 3, 12, 80])\n",
      "torch.Size([64, 3, 12, 80]) torch.Size([64, 3, 12, 80])\n",
      "torch.Size([64, 3, 12, 80]) torch.Size([64, 3, 12, 80])\n",
      "torch.Size([64, 3, 12, 80]) torch.Size([64, 3, 12, 80])\n",
      "torch.Size([64, 3, 12, 80]) torch.Size([64, 3, 12, 80])\n",
      "torch.Size([64, 3, 12, 80]) torch.Size([64, 3, 12, 80])\n",
      "torch.Size([64, 3, 12, 80]) torch.Size([64, 3, 12, 80])\n",
      "torch.Size([64, 3, 12, 80]) torch.Size([64, 3, 12, 80])\n",
      "torch.Size([64, 3, 12, 80]) torch.Size([64, 3, 12, 80])\n",
      "torch.Size([64, 3, 12, 80]) torch.Size([64, 3, 12, 80])\n",
      "torch.Size([64, 3, 12, 80]) torch.Size([64, 3, 12, 80])\n",
      "torch.Size([64, 3, 12, 80]) torch.Size([64, 3, 12, 80])\n",
      "torch.Size([64, 3, 12, 80]) torch.Size([64, 3, 12, 80])\n",
      "torch.Size([64, 3, 12, 80]) torch.Size([64, 3, 12, 80])\n",
      "torch.Size([64, 3, 12, 80]) torch.Size([64, 3, 12, 80])\n",
      "torch.Size([64, 3, 12, 80]) torch.Size([64, 3, 12, 80])\n",
      "torch.Size([64, 3, 12, 80]) torch.Size([64, 3, 12, 80])\n",
      "torch.Size([64, 3, 12, 80]) torch.Size([64, 3, 12, 80])\n",
      "torch.Size([64, 3, 12, 80]) torch.Size([64, 3, 12, 80])\n",
      "torch.Size([64, 3, 12, 80]) torch.Size([64, 3, 12, 80])\n",
      "torch.Size([64, 3, 12, 80]) torch.Size([64, 3, 12, 80])\n",
      "torch.Size([64, 3, 12, 80]) torch.Size([64, 3, 12, 80])\n",
      "torch.Size([64, 3, 12, 80]) torch.Size([64, 3, 12, 80])\n",
      "torch.Size([64, 3, 12, 80]) torch.Size([64, 3, 12, 80])\n",
      "torch.Size([64, 3, 12, 80]) torch.Size([64, 3, 12, 80])\n",
      "torch.Size([64, 3, 12, 80]) torch.Size([64, 3, 12, 80])\n",
      "torch.Size([64, 3, 12, 80]) torch.Size([64, 3, 12, 80])\n",
      "torch.Size([64, 3, 12, 80]) torch.Size([64, 3, 12, 80])\n",
      "torch.Size([64, 3, 12, 80]) torch.Size([64, 3, 12, 80])\n",
      "torch.Size([64, 3, 12, 80]) torch.Size([64, 3, 12, 80])\n",
      "torch.Size([64, 3, 12, 80]) torch.Size([64, 3, 12, 80])\n",
      "torch.Size([64, 3, 12, 80]) torch.Size([64, 3, 12, 80])\n",
      "torch.Size([64, 3, 12, 80]) torch.Size([64, 3, 12, 80])\n",
      "torch.Size([64, 3, 12, 80]) torch.Size([64, 3, 12, 80])\n",
      "torch.Size([64, 3, 12, 80]) torch.Size([64, 3, 12, 80])\n",
      "torch.Size([64, 3, 12, 80]) torch.Size([64, 3, 12, 80])\n",
      "torch.Size([64, 3, 12, 80]) torch.Size([64, 3, 12, 80])\n",
      "torch.Size([64, 3, 12, 80]) torch.Size([64, 3, 12, 80])\n",
      "torch.Size([64, 3, 12, 80]) torch.Size([64, 3, 12, 80])\n",
      "torch.Size([64, 3, 12, 80]) torch.Size([64, 3, 12, 80])\n",
      "torch.Size([64, 3, 12, 80]) torch.Size([64, 3, 12, 80])\n",
      "torch.Size([64, 3, 12, 80]) torch.Size([64, 3, 12, 80])\n",
      "torch.Size([64, 3, 12, 80]) torch.Size([64, 3, 12, 80])\n",
      "torch.Size([64, 3, 12, 80]) torch.Size([64, 3, 12, 80])\n",
      "torch.Size([64, 3, 12, 80]) torch.Size([64, 3, 12, 80])\n",
      "torch.Size([64, 3, 12, 80]) torch.Size([64, 3, 12, 80])\n",
      "torch.Size([64, 3, 12, 80]) torch.Size([64, 3, 12, 80])\n",
      "torch.Size([64, 3, 12, 80]) torch.Size([64, 3, 12, 80])\n",
      "torch.Size([64, 3, 12, 80]) torch.Size([64, 3, 12, 80])\n",
      "torch.Size([64, 3, 12, 80]) torch.Size([64, 3, 12, 80])\n",
      "torch.Size([64, 3, 12, 80]) torch.Size([64, 3, 12, 80])\n",
      "torch.Size([64, 3, 12, 80]) torch.Size([64, 3, 12, 80])\n",
      "torch.Size([64, 3, 12, 80]) torch.Size([64, 3, 12, 80])\n",
      "torch.Size([64, 3, 12, 80]) torch.Size([64, 3, 12, 80])\n",
      "torch.Size([64, 3, 12, 80]) torch.Size([64, 3, 12, 80])\n",
      "torch.Size([64, 3, 12, 80]) torch.Size([64, 3, 12, 80])\n",
      "torch.Size([64, 3, 12, 80]) torch.Size([64, 3, 12, 80])\n",
      "torch.Size([64, 3, 12, 80]) torch.Size([64, 3, 12, 80])\n",
      "torch.Size([64, 3, 12, 80]) torch.Size([64, 3, 12, 80])\n",
      "torch.Size([64, 3, 12, 80]) torch.Size([64, 3, 12, 80])\n",
      "torch.Size([64, 3, 12, 80]) torch.Size([64, 3, 12, 80])\n",
      "torch.Size([64, 3, 12, 80]) torch.Size([64, 3, 12, 80])\n",
      "torch.Size([64, 3, 12, 80]) torch.Size([64, 3, 12, 80])\n",
      "torch.Size([64, 3, 12, 80]) torch.Size([64, 3, 12, 80])\n",
      "torch.Size([64, 3, 12, 80]) torch.Size([64, 3, 12, 80])\n",
      "torch.Size([64, 3, 12, 80]) torch.Size([64, 3, 12, 80])\n",
      "torch.Size([64, 3, 12, 80]) torch.Size([64, 3, 12, 80])\n",
      "torch.Size([64, 3, 12, 80]) torch.Size([64, 3, 12, 80])\n",
      "torch.Size([64, 3, 12, 80]) torch.Size([64, 3, 12, 80])\n",
      "torch.Size([64, 3, 12, 80]) torch.Size([64, 3, 12, 80])\n",
      "torch.Size([64, 3, 12, 80]) torch.Size([64, 3, 12, 80])\n",
      "torch.Size([64, 3, 12, 80]) torch.Size([64, 3, 12, 80])\n",
      "torch.Size([64, 3, 12, 80]) torch.Size([64, 3, 12, 80])\n",
      "torch.Size([64, 3, 12, 80]) torch.Size([64, 3, 12, 80])\n",
      "torch.Size([64, 3, 12, 80]) torch.Size([64, 3, 12, 80])\n",
      "torch.Size([64, 3, 12, 80]) torch.Size([64, 3, 12, 80])\n",
      "torch.Size([64, 3, 12, 80]) torch.Size([64, 3, 12, 80])\n",
      "torch.Size([64, 3, 12, 80]) torch.Size([64, 3, 12, 80])\n",
      "torch.Size([64, 3, 12, 80]) torch.Size([64, 3, 12, 80])\n",
      "torch.Size([64, 3, 12, 80]) torch.Size([64, 3, 12, 80])\n",
      "torch.Size([64, 3, 12, 80]) torch.Size([64, 3, 12, 80])\n",
      "torch.Size([64, 3, 12, 80]) torch.Size([64, 3, 12, 80])\n",
      "torch.Size([64, 3, 12, 80]) torch.Size([64, 3, 12, 80])\n",
      "torch.Size([64, 3, 12, 80]) torch.Size([64, 3, 12, 80])\n",
      "torch.Size([64, 3, 12, 80]) torch.Size([64, 3, 12, 80])\n",
      "torch.Size([64, 3, 12, 80]) torch.Size([64, 3, 12, 80])\n",
      "torch.Size([64, 3, 12, 80]) torch.Size([64, 3, 12, 80])\n",
      "torch.Size([64, 3, 12, 80]) torch.Size([64, 3, 12, 80])\n",
      "torch.Size([64, 3, 12, 80]) torch.Size([64, 3, 12, 80])\n",
      "torch.Size([64, 3, 12, 80]) torch.Size([64, 3, 12, 80])\n",
      "torch.Size([64, 3, 12, 80]) torch.Size([64, 3, 12, 80])\n",
      "torch.Size([64, 3, 12, 80]) torch.Size([64, 3, 12, 80])\n",
      "torch.Size([64, 3, 12, 80]) torch.Size([64, 3, 12, 80])\n",
      "torch.Size([64, 3, 12, 80]) torch.Size([64, 3, 12, 80])\n",
      "torch.Size([64, 3, 12, 80]) torch.Size([64, 3, 12, 80])\n",
      "torch.Size([64, 3, 12, 80]) torch.Size([64, 3, 12, 80])\n",
      "torch.Size([64, 3, 12, 80]) torch.Size([64, 3, 12, 80])\n",
      "torch.Size([64, 3, 12, 80]) torch.Size([64, 3, 12, 80])\n",
      "torch.Size([64, 3, 12, 80]) torch.Size([64, 3, 12, 80])\n",
      "torch.Size([64, 3, 12, 80]) torch.Size([64, 3, 12, 80])\n",
      "torch.Size([64, 3, 12, 80]) torch.Size([64, 3, 12, 80])\n",
      "torch.Size([64, 3, 12, 80]) torch.Size([64, 3, 12, 80])\n",
      "torch.Size([64, 3, 12, 80]) torch.Size([64, 3, 12, 80])\n",
      "torch.Size([64, 3, 12, 80]) torch.Size([64, 3, 12, 80])\n",
      "torch.Size([64, 3, 12, 80]) torch.Size([64, 3, 12, 80])\n",
      "torch.Size([64, 3, 12, 80]) torch.Size([64, 3, 12, 80])\n",
      "torch.Size([64, 3, 12, 80]) torch.Size([64, 3, 12, 80])\n",
      "torch.Size([64, 3, 12, 80]) torch.Size([64, 3, 12, 80])\n",
      "torch.Size([64, 3, 12, 80]) torch.Size([64, 3, 12, 80])\n",
      "torch.Size([64, 3, 12, 80]) torch.Size([64, 3, 12, 80])\n",
      "torch.Size([64, 3, 12, 80]) torch.Size([64, 3, 12, 80])\n",
      "torch.Size([64, 3, 12, 80]) torch.Size([64, 3, 12, 80])\n",
      "torch.Size([64, 3, 12, 80]) torch.Size([64, 3, 12, 80])\n",
      "torch.Size([64, 3, 12, 80]) torch.Size([64, 3, 12, 80])\n",
      "torch.Size([64, 3, 12, 80]) torch.Size([64, 3, 12, 80])\n",
      "torch.Size([64, 3, 12, 80]) torch.Size([64, 3, 12, 80])\n",
      "torch.Size([64, 3, 12, 80]) torch.Size([64, 3, 12, 80])\n",
      "torch.Size([64, 3, 12, 80]) torch.Size([64, 3, 12, 80])\n",
      "torch.Size([64, 3, 12, 80]) torch.Size([64, 3, 12, 80])\n",
      "torch.Size([64, 3, 12, 80]) torch.Size([64, 3, 12, 80])\n",
      "torch.Size([64, 3, 12, 80]) torch.Size([64, 3, 12, 80])\n",
      "torch.Size([64, 3, 12, 80]) torch.Size([64, 3, 12, 80])\n",
      "torch.Size([64, 3, 12, 80]) torch.Size([64, 3, 12, 80])\n",
      "torch.Size([64, 3, 12, 80]) torch.Size([64, 3, 12, 80])\n",
      "torch.Size([64, 3, 12, 80]) torch.Size([64, 3, 12, 80])\n",
      "torch.Size([64, 3, 12, 80]) torch.Size([64, 3, 12, 80])\n",
      "torch.Size([64, 3, 12, 80]) torch.Size([64, 3, 12, 80])\n",
      "torch.Size([64, 3, 12, 80]) torch.Size([64, 3, 12, 80])\n",
      "torch.Size([64, 3, 12, 80]) torch.Size([64, 3, 12, 80])\n",
      "torch.Size([64, 3, 12, 80]) torch.Size([64, 3, 12, 80])\n",
      "torch.Size([64, 3, 12, 80]) torch.Size([64, 3, 12, 80])\n",
      "torch.Size([64, 3, 12, 80]) torch.Size([64, 3, 12, 80])\n",
      "torch.Size([64, 3, 12, 80]) torch.Size([64, 3, 12, 80])\n",
      "torch.Size([64, 3, 12, 80]) torch.Size([64, 3, 12, 80])\n",
      "torch.Size([64, 3, 12, 80]) torch.Size([64, 3, 12, 80])\n",
      "torch.Size([64, 3, 12, 80]) torch.Size([64, 3, 12, 80])\n",
      "torch.Size([64, 3, 12, 80]) torch.Size([64, 3, 12, 80])\n",
      "torch.Size([64, 3, 12, 80]) torch.Size([64, 3, 12, 80])\n",
      "torch.Size([64, 3, 12, 80]) torch.Size([64, 3, 12, 80])\n",
      "torch.Size([64, 3, 12, 80]) torch.Size([64, 3, 12, 80])\n",
      "torch.Size([64, 3, 12, 80]) torch.Size([64, 3, 12, 80])\n",
      "torch.Size([64, 3, 12, 80]) torch.Size([64, 3, 12, 80])\n",
      "torch.Size([64, 3, 12, 80]) torch.Size([64, 3, 12, 80])\n",
      "torch.Size([64, 3, 12, 80]) torch.Size([64, 3, 12, 80])\n",
      "torch.Size([64, 3, 12, 80]) torch.Size([64, 3, 12, 80])\n",
      "torch.Size([64, 3, 12, 80]) torch.Size([64, 3, 12, 80])\n",
      "torch.Size([64, 3, 12, 80]) torch.Size([64, 3, 12, 80])\n",
      "torch.Size([64, 3, 12, 80]) torch.Size([64, 3, 12, 80])\n",
      "torch.Size([64, 3, 12, 80]) torch.Size([64, 3, 12, 80])\n",
      "torch.Size([64, 3, 12, 80]) torch.Size([64, 3, 12, 80])\n",
      "torch.Size([64, 3, 12, 80]) torch.Size([64, 3, 12, 80])\n",
      "torch.Size([64, 3, 12, 80]) torch.Size([64, 3, 12, 80])\n",
      "torch.Size([64, 3, 12, 80]) torch.Size([64, 3, 12, 80])\n",
      "torch.Size([64, 3, 12, 80]) torch.Size([64, 3, 12, 80])\n",
      "torch.Size([64, 3, 12, 80]) torch.Size([64, 3, 12, 80])\n",
      "torch.Size([64, 3, 12, 80]) torch.Size([64, 3, 12, 80])\n",
      "torch.Size([64, 3, 12, 80]) torch.Size([64, 3, 12, 80])\n",
      "torch.Size([64, 3, 12, 80]) torch.Size([64, 3, 12, 80])\n",
      "torch.Size([64, 3, 12, 80]) torch.Size([64, 3, 12, 80])\n",
      "torch.Size([64, 3, 12, 80]) torch.Size([64, 3, 12, 80])\n",
      "torch.Size([64, 3, 12, 80]) torch.Size([64, 3, 12, 80])\n"
     ]
    },
    {
     "name": "stdout",
     "output_type": "stream",
     "text": [
      "torch.Size([64, 3, 12, 80]) torch.Size([64, 3, 12, 80])\n",
      "torch.Size([64, 3, 12, 80]) torch.Size([64, 3, 12, 80])\n",
      "torch.Size([64, 3, 12, 80]) torch.Size([64, 3, 12, 80])\n",
      "torch.Size([64, 3, 12, 80]) torch.Size([64, 3, 12, 80])\n",
      "torch.Size([64, 3, 12, 80]) torch.Size([64, 3, 12, 80])\n",
      "torch.Size([64, 3, 12, 80]) torch.Size([64, 3, 12, 80])\n",
      "torch.Size([64, 3, 12, 80]) torch.Size([64, 3, 12, 80])\n",
      "torch.Size([64, 3, 12, 80]) torch.Size([64, 3, 12, 80])\n",
      "torch.Size([64, 3, 12, 80]) torch.Size([64, 3, 12, 80])\n",
      "torch.Size([64, 3, 12, 80]) torch.Size([64, 3, 12, 80])\n",
      "torch.Size([64, 3, 12, 80]) torch.Size([64, 3, 12, 80])\n",
      "torch.Size([64, 3, 12, 80]) torch.Size([64, 3, 12, 80])\n",
      "torch.Size([64, 3, 12, 80]) torch.Size([64, 3, 12, 80])\n",
      "torch.Size([64, 3, 12, 80]) torch.Size([64, 3, 12, 80])\n",
      "torch.Size([64, 3, 12, 80]) torch.Size([64, 3, 12, 80])\n",
      "torch.Size([64, 3, 12, 80]) torch.Size([64, 3, 12, 80])\n",
      "torch.Size([64, 3, 12, 80]) torch.Size([64, 3, 12, 80])\n",
      "torch.Size([64, 3, 12, 80]) torch.Size([64, 3, 12, 80])\n",
      "torch.Size([64, 3, 12, 80]) torch.Size([64, 3, 12, 80])\n",
      "torch.Size([64, 3, 12, 80]) torch.Size([64, 3, 12, 80])\n",
      "torch.Size([64, 3, 12, 80]) torch.Size([64, 3, 12, 80])\n",
      "torch.Size([64, 3, 12, 80]) torch.Size([64, 3, 12, 80])\n",
      "torch.Size([64, 3, 12, 80]) torch.Size([64, 3, 12, 80])\n",
      "torch.Size([64, 3, 12, 80]) torch.Size([64, 3, 12, 80])\n",
      "torch.Size([64, 3, 12, 80]) torch.Size([64, 3, 12, 80])\n",
      "torch.Size([64, 3, 12, 80]) torch.Size([64, 3, 12, 80])\n",
      "torch.Size([64, 3, 12, 80]) torch.Size([64, 3, 12, 80])\n",
      "torch.Size([64, 3, 12, 80]) torch.Size([64, 3, 12, 80])\n",
      "torch.Size([64, 3, 12, 80]) torch.Size([64, 3, 12, 80])\n",
      "torch.Size([64, 3, 12, 80]) torch.Size([64, 3, 12, 80])\n",
      "torch.Size([64, 3, 12, 80]) torch.Size([64, 3, 12, 80])\n",
      "torch.Size([64, 3, 12, 80]) torch.Size([64, 3, 12, 80])\n",
      "torch.Size([64, 3, 12, 80]) torch.Size([64, 3, 12, 80])\n",
      "torch.Size([64, 3, 12, 80]) torch.Size([64, 3, 12, 80])\n",
      "torch.Size([64, 3, 12, 80]) torch.Size([64, 3, 12, 80])\n",
      "torch.Size([64, 3, 12, 80]) torch.Size([64, 3, 12, 80])\n",
      "torch.Size([64, 3, 12, 80]) torch.Size([64, 3, 12, 80])\n",
      "torch.Size([64, 3, 12, 80]) torch.Size([64, 3, 12, 80])\n",
      "torch.Size([64, 3, 12, 80]) torch.Size([64, 3, 12, 80])\n",
      "torch.Size([64, 3, 12, 80]) torch.Size([64, 3, 12, 80])\n",
      "torch.Size([64, 3, 12, 80]) torch.Size([64, 3, 12, 80])\n",
      "torch.Size([64, 3, 12, 80]) torch.Size([64, 3, 12, 80])\n",
      "torch.Size([64, 3, 12, 80]) torch.Size([64, 3, 12, 80])\n",
      "torch.Size([64, 3, 12, 80]) torch.Size([64, 3, 12, 80])\n",
      "torch.Size([64, 3, 12, 80]) torch.Size([64, 3, 12, 80])\n",
      "torch.Size([64, 3, 12, 80]) torch.Size([64, 3, 12, 80])\n",
      "torch.Size([64, 3, 12, 80]) torch.Size([64, 3, 12, 80])\n",
      "torch.Size([64, 3, 12, 80]) torch.Size([64, 3, 12, 80])\n",
      "torch.Size([64, 3, 12, 80]) torch.Size([64, 3, 12, 80])\n",
      "torch.Size([64, 3, 12, 80]) torch.Size([64, 3, 12, 80])\n",
      "torch.Size([64, 3, 12, 80]) torch.Size([64, 3, 12, 80])\n",
      "torch.Size([64, 3, 12, 80]) torch.Size([64, 3, 12, 80])\n",
      "torch.Size([64, 3, 12, 80]) torch.Size([64, 3, 12, 80])\n",
      "torch.Size([64, 3, 12, 80]) torch.Size([64, 3, 12, 80])\n",
      "torch.Size([64, 3, 12, 80]) torch.Size([64, 3, 12, 80])\n",
      "torch.Size([64, 3, 12, 80]) torch.Size([64, 3, 12, 80])\n",
      "torch.Size([64, 3, 12, 80]) torch.Size([64, 3, 12, 80])\n",
      "torch.Size([64, 3, 12, 80]) torch.Size([64, 3, 12, 80])\n",
      "torch.Size([64, 3, 12, 80]) torch.Size([64, 3, 12, 80])\n",
      "torch.Size([64, 3, 12, 80]) torch.Size([64, 3, 12, 80])\n",
      "torch.Size([64, 3, 12, 80]) torch.Size([64, 3, 12, 80])\n",
      "torch.Size([64, 3, 12, 80]) torch.Size([64, 3, 12, 80])\n",
      "torch.Size([64, 3, 12, 80]) torch.Size([64, 3, 12, 80])\n",
      "torch.Size([64, 3, 12, 80]) torch.Size([64, 3, 12, 80])\n",
      "torch.Size([64, 3, 12, 80]) torch.Size([64, 3, 12, 80])\n",
      "torch.Size([64, 3, 12, 80]) torch.Size([64, 3, 12, 80])\n",
      "torch.Size([64, 3, 12, 80]) torch.Size([64, 3, 12, 80])\n",
      "torch.Size([64, 3, 12, 80]) torch.Size([64, 3, 12, 80])\n",
      "torch.Size([64, 3, 12, 80]) torch.Size([64, 3, 12, 80])\n",
      "torch.Size([64, 3, 12, 80]) torch.Size([64, 3, 12, 80])\n",
      "torch.Size([64, 3, 12, 80]) torch.Size([64, 3, 12, 80])\n",
      "torch.Size([64, 3, 12, 80]) torch.Size([64, 3, 12, 80])\n",
      "torch.Size([64, 3, 12, 80]) torch.Size([64, 3, 12, 80])\n",
      "torch.Size([64, 3, 12, 80]) torch.Size([64, 3, 12, 80])\n",
      "torch.Size([64, 3, 12, 80]) torch.Size([64, 3, 12, 80])\n",
      "torch.Size([64, 3, 12, 80]) torch.Size([64, 3, 12, 80])\n",
      "torch.Size([64, 3, 12, 80]) torch.Size([64, 3, 12, 80])\n",
      "torch.Size([64, 3, 12, 80]) torch.Size([64, 3, 12, 80])\n",
      "torch.Size([64, 3, 12, 80]) torch.Size([64, 3, 12, 80])\n",
      "torch.Size([64, 3, 12, 80]) torch.Size([64, 3, 12, 80])\n",
      "torch.Size([64, 3, 12, 80]) torch.Size([64, 3, 12, 80])\n",
      "torch.Size([64, 3, 12, 80]) torch.Size([64, 3, 12, 80])\n",
      "torch.Size([64, 3, 12, 80]) torch.Size([64, 3, 12, 80])\n",
      "torch.Size([64, 3, 12, 80]) torch.Size([64, 3, 12, 80])\n",
      "torch.Size([64, 3, 12, 80]) torch.Size([64, 3, 12, 80])\n",
      "torch.Size([64, 3, 12, 80]) torch.Size([64, 3, 12, 80])\n",
      "torch.Size([64, 3, 12, 80]) torch.Size([64, 3, 12, 80])\n",
      "torch.Size([64, 3, 12, 80]) torch.Size([64, 3, 12, 80])\n",
      "torch.Size([64, 3, 12, 80]) torch.Size([64, 3, 12, 80])\n",
      "torch.Size([64, 3, 12, 80]) torch.Size([64, 3, 12, 80])\n",
      "torch.Size([64, 3, 12, 80]) torch.Size([64, 3, 12, 80])\n",
      "torch.Size([64, 3, 12, 80]) torch.Size([64, 3, 12, 80])\n",
      "torch.Size([64, 3, 12, 80]) torch.Size([64, 3, 12, 80])\n",
      "torch.Size([64, 3, 12, 80]) torch.Size([64, 3, 12, 80])\n",
      "torch.Size([64, 3, 12, 80]) torch.Size([64, 3, 12, 80])\n",
      "torch.Size([64, 3, 12, 80]) torch.Size([64, 3, 12, 80])\n",
      "torch.Size([64, 3, 12, 80]) torch.Size([64, 3, 12, 80])\n",
      "torch.Size([64, 3, 12, 80]) torch.Size([64, 3, 12, 80])\n",
      "torch.Size([64, 3, 12, 80]) torch.Size([64, 3, 12, 80])\n",
      "torch.Size([64, 3, 12, 80]) torch.Size([64, 3, 12, 80])\n",
      "torch.Size([64, 3, 12, 80]) torch.Size([64, 3, 12, 80])\n",
      "torch.Size([64, 3, 12, 80]) torch.Size([64, 3, 12, 80])\n",
      "torch.Size([64, 3, 12, 80]) torch.Size([64, 3, 12, 80])\n",
      "torch.Size([64, 3, 12, 80]) torch.Size([64, 3, 12, 80])\n",
      "torch.Size([64, 3, 12, 80]) torch.Size([64, 3, 12, 80])\n",
      "torch.Size([64, 3, 12, 80]) torch.Size([64, 3, 12, 80])\n",
      "torch.Size([64, 3, 12, 80]) torch.Size([64, 3, 12, 80])\n",
      "torch.Size([64, 3, 12, 80]) torch.Size([64, 3, 12, 80])\n",
      "torch.Size([64, 3, 12, 80]) torch.Size([64, 3, 12, 80])\n",
      "torch.Size([64, 3, 12, 80]) torch.Size([64, 3, 12, 80])\n",
      "torch.Size([64, 3, 12, 80]) torch.Size([64, 3, 12, 80])\n",
      "torch.Size([64, 3, 12, 80]) torch.Size([64, 3, 12, 80])\n",
      "torch.Size([64, 3, 12, 80]) torch.Size([64, 3, 12, 80])\n",
      "torch.Size([64, 3, 12, 80]) torch.Size([64, 3, 12, 80])\n",
      "torch.Size([64, 3, 12, 80]) torch.Size([64, 3, 12, 80])\n",
      "torch.Size([64, 3, 12, 80]) torch.Size([64, 3, 12, 80])\n",
      "torch.Size([64, 3, 12, 80]) torch.Size([64, 3, 12, 80])\n",
      "torch.Size([64, 3, 12, 80]) torch.Size([64, 3, 12, 80])\n",
      "torch.Size([64, 3, 12, 80]) torch.Size([64, 3, 12, 80])\n",
      "torch.Size([64, 3, 12, 80]) torch.Size([64, 3, 12, 80])\n",
      "torch.Size([64, 3, 12, 80]) torch.Size([64, 3, 12, 80])\n",
      "torch.Size([64, 3, 12, 80]) torch.Size([64, 3, 12, 80])\n",
      "torch.Size([64, 3, 12, 80]) torch.Size([64, 3, 12, 80])\n",
      "torch.Size([64, 3, 12, 80]) torch.Size([64, 3, 12, 80])\n",
      "torch.Size([64, 3, 12, 80]) torch.Size([64, 3, 12, 80])\n",
      "torch.Size([64, 3, 12, 80]) torch.Size([64, 3, 12, 80])\n",
      "torch.Size([64, 3, 12, 80]) torch.Size([64, 3, 12, 80])\n",
      "torch.Size([64, 3, 12, 80]) torch.Size([64, 3, 12, 80])\n",
      "torch.Size([64, 3, 12, 80]) torch.Size([64, 3, 12, 80])\n",
      "torch.Size([64, 3, 12, 80]) torch.Size([64, 3, 12, 80])\n",
      "torch.Size([64, 3, 12, 80]) torch.Size([64, 3, 12, 80])\n",
      "torch.Size([64, 3, 12, 80]) torch.Size([64, 3, 12, 80])\n",
      "torch.Size([64, 3, 12, 80]) torch.Size([64, 3, 12, 80])\n",
      "torch.Size([64, 3, 12, 80]) torch.Size([64, 3, 12, 80])\n",
      "torch.Size([64, 3, 12, 80]) torch.Size([64, 3, 12, 80])\n",
      "torch.Size([64, 3, 12, 80]) torch.Size([64, 3, 12, 80])\n",
      "torch.Size([64, 3, 12, 80]) torch.Size([64, 3, 12, 80])\n",
      "torch.Size([64, 3, 12, 80]) torch.Size([64, 3, 12, 80])\n",
      "torch.Size([64, 3, 12, 80]) torch.Size([64, 3, 12, 80])\n",
      "torch.Size([64, 3, 12, 80]) torch.Size([64, 3, 12, 80])\n",
      "torch.Size([64, 3, 12, 80]) torch.Size([64, 3, 12, 80])\n",
      "torch.Size([64, 3, 12, 80]) torch.Size([64, 3, 12, 80])\n",
      "torch.Size([64, 3, 12, 80]) torch.Size([64, 3, 12, 80])\n",
      "torch.Size([64, 3, 12, 80]) torch.Size([64, 3, 12, 80])\n",
      "torch.Size([64, 3, 12, 80]) torch.Size([64, 3, 12, 80])\n",
      "torch.Size([64, 3, 12, 80]) torch.Size([64, 3, 12, 80])\n",
      "torch.Size([64, 3, 12, 80]) torch.Size([64, 3, 12, 80])\n",
      "torch.Size([64, 3, 12, 80]) torch.Size([64, 3, 12, 80])\n",
      "torch.Size([64, 3, 12, 80]) torch.Size([64, 3, 12, 80])\n",
      "torch.Size([64, 3, 12, 80]) torch.Size([64, 3, 12, 80])\n",
      "torch.Size([64, 3, 12, 80]) torch.Size([64, 3, 12, 80])\n",
      "torch.Size([64, 3, 12, 80]) torch.Size([64, 3, 12, 80])\n",
      "torch.Size([64, 3, 12, 80]) torch.Size([64, 3, 12, 80])\n",
      "torch.Size([64, 3, 12, 80]) torch.Size([64, 3, 12, 80])\n",
      "torch.Size([64, 3, 12, 80]) torch.Size([64, 3, 12, 80])\n",
      "torch.Size([64, 3, 12, 80]) torch.Size([64, 3, 12, 80])\n",
      "torch.Size([64, 3, 12, 80]) torch.Size([64, 3, 12, 80])\n",
      "torch.Size([64, 3, 12, 80]) torch.Size([64, 3, 12, 80])\n",
      "torch.Size([64, 3, 12, 80]) torch.Size([64, 3, 12, 80])\n",
      "torch.Size([64, 3, 12, 80]) torch.Size([64, 3, 12, 80])\n",
      "torch.Size([64, 3, 12, 80]) torch.Size([64, 3, 12, 80])\n",
      "torch.Size([64, 3, 12, 80]) torch.Size([64, 3, 12, 80])\n",
      "torch.Size([64, 3, 12, 80]) torch.Size([64, 3, 12, 80])\n",
      "torch.Size([64, 3, 12, 80]) torch.Size([64, 3, 12, 80])\n",
      "torch.Size([64, 3, 12, 80]) torch.Size([64, 3, 12, 80])\n",
      "torch.Size([64, 3, 12, 80]) torch.Size([64, 3, 12, 80])\n",
      "torch.Size([64, 3, 12, 80]) torch.Size([64, 3, 12, 80])\n",
      "torch.Size([64, 3, 12, 80]) torch.Size([64, 3, 12, 80])\n",
      "torch.Size([64, 3, 12, 80]) torch.Size([64, 3, 12, 80])\n",
      "torch.Size([64, 3, 12, 80]) torch.Size([64, 3, 12, 80])\n",
      "torch.Size([64, 3, 12, 80]) torch.Size([64, 3, 12, 80])\n",
      "torch.Size([64, 3, 12, 80]) torch.Size([64, 3, 12, 80])\n",
      "torch.Size([64, 3, 12, 80]) torch.Size([64, 3, 12, 80])\n",
      "torch.Size([64, 3, 12, 80]) torch.Size([64, 3, 12, 80])\n",
      "torch.Size([64, 3, 12, 80]) torch.Size([64, 3, 12, 80])\n",
      "torch.Size([64, 3, 12, 80]) torch.Size([64, 3, 12, 80])\n",
      "torch.Size([64, 3, 12, 80]) torch.Size([64, 3, 12, 80])\n",
      "torch.Size([64, 3, 12, 80]) torch.Size([64, 3, 12, 80])\n",
      "torch.Size([64, 3, 12, 80]) torch.Size([64, 3, 12, 80])\n",
      "torch.Size([64, 3, 12, 80]) torch.Size([64, 3, 12, 80])\n",
      "torch.Size([64, 3, 12, 80]) torch.Size([64, 3, 12, 80])\n",
      "torch.Size([64, 3, 12, 80]) torch.Size([64, 3, 12, 80])\n",
      "torch.Size([64, 3, 12, 80]) torch.Size([64, 3, 12, 80])\n",
      "torch.Size([64, 3, 12, 80]) torch.Size([64, 3, 12, 80])\n",
      "torch.Size([64, 3, 12, 80]) torch.Size([64, 3, 12, 80])\n",
      "torch.Size([64, 3, 12, 80]) torch.Size([64, 3, 12, 80])\n",
      "torch.Size([64, 3, 12, 80]) torch.Size([64, 3, 12, 80])\n",
      "torch.Size([64, 3, 12, 80]) torch.Size([64, 3, 12, 80])\n",
      "torch.Size([64, 3, 12, 80]) torch.Size([64, 3, 12, 80])\n",
      "torch.Size([64, 3, 12, 80]) torch.Size([64, 3, 12, 80])\n",
      "torch.Size([64, 3, 12, 80]) torch.Size([64, 3, 12, 80])\n",
      "torch.Size([64, 3, 12, 80]) torch.Size([64, 3, 12, 80])\n",
      "torch.Size([64, 3, 12, 80]) torch.Size([64, 3, 12, 80])\n",
      "torch.Size([64, 3, 12, 80]) torch.Size([64, 3, 12, 80])\n",
      "torch.Size([64, 3, 12, 80]) torch.Size([64, 3, 12, 80])\n",
      "torch.Size([64, 3, 12, 80]) torch.Size([64, 3, 12, 80])\n",
      "torch.Size([64, 3, 12, 80]) torch.Size([64, 3, 12, 80])\n",
      "torch.Size([64, 3, 12, 80]) torch.Size([64, 3, 12, 80])\n",
      "torch.Size([64, 3, 12, 80]) torch.Size([64, 3, 12, 80])\n",
      "torch.Size([64, 3, 12, 80]) torch.Size([64, 3, 12, 80])\n",
      "torch.Size([64, 3, 12, 80]) torch.Size([64, 3, 12, 80])\n",
      "torch.Size([64, 3, 12, 80]) torch.Size([64, 3, 12, 80])\n",
      "torch.Size([64, 3, 12, 80]) torch.Size([64, 3, 12, 80])\n",
      "torch.Size([64, 3, 12, 80]) torch.Size([64, 3, 12, 80])\n",
      "torch.Size([64, 3, 12, 80]) torch.Size([64, 3, 12, 80])\n",
      "torch.Size([64, 3, 12, 80]) torch.Size([64, 3, 12, 80])\n",
      "torch.Size([64, 3, 12, 80]) torch.Size([64, 3, 12, 80])\n",
      "torch.Size([64, 3, 12, 80]) torch.Size([64, 3, 12, 80])\n",
      "torch.Size([64, 3, 12, 80]) torch.Size([64, 3, 12, 80])\n",
      "torch.Size([64, 3, 12, 80]) torch.Size([64, 3, 12, 80])\n",
      "torch.Size([64, 3, 12, 80]) torch.Size([64, 3, 12, 80])\n",
      "torch.Size([64, 3, 12, 80]) torch.Size([64, 3, 12, 80])\n",
      "torch.Size([64, 3, 12, 80]) torch.Size([64, 3, 12, 80])\n",
      "torch.Size([64, 3, 12, 80]) torch.Size([64, 3, 12, 80])\n",
      "torch.Size([64, 3, 12, 80]) torch.Size([64, 3, 12, 80])\n",
      "torch.Size([64, 3, 12, 80]) torch.Size([64, 3, 12, 80])\n"
     ]
    },
    {
     "name": "stdout",
     "output_type": "stream",
     "text": [
      "torch.Size([64, 3, 12, 80]) torch.Size([64, 3, 12, 80])\n",
      "torch.Size([64, 3, 12, 80]) torch.Size([64, 3, 12, 80])\n",
      "torch.Size([64, 3, 12, 80]) torch.Size([64, 3, 12, 80])\n",
      "torch.Size([64, 3, 12, 80]) torch.Size([64, 3, 12, 80])\n",
      "torch.Size([64, 3, 12, 80]) torch.Size([64, 3, 12, 80])\n",
      "torch.Size([64, 3, 12, 80]) torch.Size([64, 3, 12, 80])\n",
      "torch.Size([64, 3, 12, 80]) torch.Size([64, 3, 12, 80])\n",
      "torch.Size([64, 3, 12, 80]) torch.Size([64, 3, 12, 80])\n",
      "torch.Size([64, 3, 12, 80]) torch.Size([64, 3, 12, 80])\n",
      "torch.Size([64, 3, 12, 80]) torch.Size([64, 3, 12, 80])\n",
      "torch.Size([64, 3, 12, 80]) torch.Size([64, 3, 12, 80])\n",
      "torch.Size([64, 3, 12, 80]) torch.Size([64, 3, 12, 80])\n",
      "torch.Size([64, 3, 12, 80]) torch.Size([64, 3, 12, 80])\n",
      "torch.Size([64, 3, 12, 80]) torch.Size([64, 3, 12, 80])\n",
      "torch.Size([64, 3, 12, 80]) torch.Size([64, 3, 12, 80])\n",
      "torch.Size([64, 3, 12, 80]) torch.Size([64, 3, 12, 80])\n",
      "torch.Size([64, 3, 12, 80]) torch.Size([64, 3, 12, 80])\n",
      "torch.Size([64, 3, 12, 80]) torch.Size([64, 3, 12, 80])\n",
      "torch.Size([64, 3, 12, 80]) torch.Size([64, 3, 12, 80])\n",
      "torch.Size([64, 3, 12, 80]) torch.Size([64, 3, 12, 80])\n",
      "torch.Size([64, 3, 12, 80]) torch.Size([64, 3, 12, 80])\n",
      "torch.Size([64, 3, 12, 80]) torch.Size([64, 3, 12, 80])\n",
      "torch.Size([64, 3, 12, 80]) torch.Size([64, 3, 12, 80])\n",
      "torch.Size([64, 3, 12, 80]) torch.Size([64, 3, 12, 80])\n",
      "torch.Size([64, 3, 12, 80]) torch.Size([64, 3, 12, 80])\n",
      "torch.Size([64, 3, 12, 80]) torch.Size([64, 3, 12, 80])\n",
      "torch.Size([64, 3, 12, 80]) torch.Size([64, 3, 12, 80])\n",
      "torch.Size([64, 3, 12, 80]) torch.Size([64, 3, 12, 80])\n",
      "torch.Size([64, 3, 12, 80]) torch.Size([64, 3, 12, 80])\n",
      "torch.Size([64, 3, 12, 80]) torch.Size([64, 3, 12, 80])\n",
      "torch.Size([64, 3, 12, 80]) torch.Size([64, 3, 12, 80])\n",
      "torch.Size([64, 3, 12, 80]) torch.Size([64, 3, 12, 80])\n",
      "torch.Size([64, 3, 12, 80]) torch.Size([64, 3, 12, 80])\n",
      "torch.Size([64, 3, 12, 80]) torch.Size([64, 3, 12, 80])\n",
      "torch.Size([64, 3, 12, 80]) torch.Size([64, 3, 12, 80])\n",
      "torch.Size([64, 3, 12, 80]) torch.Size([64, 3, 12, 80])\n",
      "torch.Size([64, 3, 12, 80]) torch.Size([64, 3, 12, 80])\n",
      "torch.Size([64, 3, 12, 80]) torch.Size([64, 3, 12, 80])\n",
      "torch.Size([64, 3, 12, 80]) torch.Size([64, 3, 12, 80])\n",
      "torch.Size([64, 3, 12, 80]) torch.Size([64, 3, 12, 80])\n",
      "torch.Size([64, 3, 12, 80]) torch.Size([64, 3, 12, 80])\n",
      "torch.Size([64, 3, 12, 80]) torch.Size([64, 3, 12, 80])\n",
      "torch.Size([64, 3, 12, 80]) torch.Size([64, 3, 12, 80])\n",
      "torch.Size([64, 3, 12, 80]) torch.Size([64, 3, 12, 80])\n",
      "torch.Size([64, 3, 12, 80]) torch.Size([64, 3, 12, 80])\n",
      "torch.Size([64, 3, 12, 80]) torch.Size([64, 3, 12, 80])\n",
      "torch.Size([64, 3, 12, 80]) torch.Size([64, 3, 12, 80])\n",
      "torch.Size([64, 3, 12, 80]) torch.Size([64, 3, 12, 80])\n",
      "torch.Size([64, 3, 12, 80]) torch.Size([64, 3, 12, 80])\n",
      "torch.Size([64, 3, 12, 80]) torch.Size([64, 3, 12, 80])\n",
      "torch.Size([64, 3, 12, 80]) torch.Size([64, 3, 12, 80])\n",
      "torch.Size([64, 3, 12, 80]) torch.Size([64, 3, 12, 80])\n",
      "torch.Size([64, 3, 12, 80]) torch.Size([64, 3, 12, 80])\n",
      "torch.Size([64, 3, 12, 80]) torch.Size([64, 3, 12, 80])\n",
      "torch.Size([64, 3, 12, 80]) torch.Size([64, 3, 12, 80])\n",
      "torch.Size([64, 3, 12, 80]) torch.Size([64, 3, 12, 80])\n",
      "torch.Size([64, 3, 12, 80]) torch.Size([64, 3, 12, 80])\n",
      "torch.Size([64, 3, 12, 80]) torch.Size([64, 3, 12, 80])\n",
      "torch.Size([64, 3, 12, 80]) torch.Size([64, 3, 12, 80])\n",
      "torch.Size([64, 3, 12, 80]) torch.Size([64, 3, 12, 80])\n",
      "torch.Size([64, 3, 12, 80]) torch.Size([64, 3, 12, 80])\n",
      "torch.Size([64, 3, 12, 80]) torch.Size([64, 3, 12, 80])\n",
      "torch.Size([64, 3, 12, 80]) torch.Size([64, 3, 12, 80])\n",
      "torch.Size([64, 3, 12, 80]) torch.Size([64, 3, 12, 80])\n",
      "torch.Size([44, 3, 12, 80]) torch.Size([44, 3, 12, 80])\n"
     ]
    }
   ],
   "source": [
    "for xx, yy in train_loader: \n",
    "    print(xx.shape, yy.shape)"
   ]
  },
  {
   "cell_type": "code",
   "execution_count": null,
   "id": "e48c69ef",
   "metadata": {},
   "outputs": [],
   "source": []
  }
 ],
 "metadata": {
  "kernelspec": {
   "display_name": "Python 3 (ipykernel)",
   "language": "python",
   "name": "python3"
  },
  "language_info": {
   "codemirror_mode": {
    "name": "ipython",
    "version": 3
   },
   "file_extension": ".py",
   "mimetype": "text/x-python",
   "name": "python",
   "nbconvert_exporter": "python",
   "pygments_lexer": "ipython3",
   "version": "3.9.6"
  }
 },
 "nbformat": 4,
 "nbformat_minor": 5
}
