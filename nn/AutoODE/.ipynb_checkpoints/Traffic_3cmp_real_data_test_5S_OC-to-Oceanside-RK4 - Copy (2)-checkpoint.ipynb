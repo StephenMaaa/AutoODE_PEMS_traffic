{
 "cells": [
  {
   "cell_type": "markdown",
   "metadata": {},
   "source": [
    "## Numerical Solution of LWR model:\n",
    "\n",
    "Lighthill-Whitham-Richards model (commonly used for traffic flow):\n",
    "\n",
    "\\begin{equation}\n",
    "\\frac{\\partial q}{\\partial x} + \\frac{\\partial k}{\\partial t} = 0\n",
    "\\end{equation}\n",
    "\n",
    "But $q$ is a function of $k$ (Greenshield model): \n",
    "$$\n",
    "q(k) = k(k_j - k) = k k_j -k^2\n",
    "$$\n",
    "\n",
    "Therefore\n",
    "$$\n",
    "\\frac{\\partial k}{\\partial t} + \\frac{dq}{dk}\\frac{\\partial k}{\\partial x} =0\n",
    "$$\n",
    "\n",
    "$$\n",
    "\\frac{d(q(k))}{dk} = 1(k_j - k) + k(-1) = k_j - 2k\n",
    "$$\n",
    "\n",
    "And\n",
    "$$\n",
    "\\frac{\\partial k}{\\partial t} + (k_j - 2k) \\frac{\\partial k}{\\partial x} = 0\n",
    "$$"
   ]
  },
  {
   "cell_type": "code",
   "execution_count": 1,
   "metadata": {},
   "outputs": [
    {
     "name": "stderr",
     "output_type": "stream",
     "text": [
      "C:\\Users\\STEPHE~1\\AppData\\Local\\Temp/ipykernel_228464/4047686461.py:11: RuntimeWarning: invalid value encountered in true_divide\n",
      "  v=q/k\n"
     ]
    },
    {
     "data": {
      "text/plain": [
       "<matplotlib.legend.Legend at 0x25433fc6af0>"
      ]
     },
     "execution_count": 1,
     "metadata": {},
     "output_type": "execute_result"
    },
    {
     "data": {
      "image/png": "[encoded data removed]",
      "text/plain": [
       "<Figure size 432x288 with 2 Axes>"
      ]
     },
     "metadata": {},
     "output_type": "display_data"
    }
   ],
   "source": [
    "# k can never be higher than kj, which is the jam density.\n",
    "# Therefore, using k > kj results in instabilities!\n",
    "def greenshield(k, kj=1.):\n",
    "    q=k*(kj-k)\n",
    "    return q\n",
    "\n",
    "import numpy as np\n",
    "k=np.arange(0., 1.01, 0.01)\n",
    "import matplotlib.pyplot as plt\n",
    "q=greenshield(k)\n",
    "v=q/k\n",
    "\n",
    "kj=1\n",
    "vf=1\n",
    "#verifying equation 6 from Gaddam(15)\n",
    "#v1 is speed at low traffic density or low flow\n",
    "v1=vf*(1.-(k/kj))\n",
    "plt.style.use('dark_background')\n",
    "fig,ax=plt.subplots(ncols=2)\n",
    "q1=k*v1\n",
    "ax[0].plot(k,q)\n",
    "ax[0].plot(k,q1, color='red', linestyle='dashed')\n",
    "ax[0].vlines(0.5, 0, 0.30)\n",
    "ax[0].vlines(1.0, 0, 0.30, linestyle='dashdot')\n",
    "ax[0].set_xlabel(\"Traffic density $k$\")\n",
    "ax[0].set_ylabel(\"Traffic flow $q$\")\n",
    "\n",
    "ax[1].plot(k,v, label='u')\n",
    "ax[1].plot(k,v1, label='u1')\n",
    "ax[1].set_xlabel(\"Traffic density $k$\")\n",
    "ax[1].set_ylabel(\"Traffic speed $u$\")\n",
    "ax[1].legend()"
   ]
  },
  {
   "cell_type": "markdown",
   "metadata": {},
   "source": [
    "$$\n",
    "\\frac{\\partial k}{\\partial t} = (2k - k_j) \\frac{\\partial k}{\\partial x}\n",
    "$$"
   ]
  },
  {
   "cell_type": "markdown",
   "metadata": {},
   "source": [
    "\\begin{equation}\n",
    "\\frac{k(t+\\Delta t, x_n) - k(t, x_n)}{\\Delta t} =  \\left(2k(t, x) - k_j\\right) \\frac{\\partial k}{\\partial x}\n",
    "\\end{equation}"
   ]
  },
  {
   "cell_type": "markdown",
   "metadata": {},
   "source": [
    "\\begin{align}\n",
    "k(t + \\Delta t, x_n) =& k(t, x) + \\Delta t \\left(2k(t, x) - k_j\\right) \\frac{\\partial k}{\\partial x}\n",
    "\\end{align}"
   ]
  },
  {
   "cell_type": "markdown",
   "metadata": {},
   "source": [
    "\\begin{align}\n",
    "\\frac{\\partial{k}}{\\partial x} \\approx \\frac{k(t, x + \\Delta x) - k(t,x - \\Delta x)}{2 \\Delta x} \\\\\n",
    "                               \\approx \\frac{k(t, x + \\Delta x) - k(t, x)}{\\Delta x} \\\\\n",
    "\\end{align}"
   ]
  },
  {
   "cell_type": "markdown",
   "metadata": {},
   "source": [
    "If I remember correctly the central difference formula is unstable when used with the forward time step, \n",
    "but I will check into this.\n",
    "\n",
    "**Update:** Yes, that's correct.  See Gaddam *et al.*., 2015.  Only the upwind scheme is stable, downwind and central are unstable.  Alternative leapfrog \n",
    "or higher order methods are mentioned in this reference.\n",
    "\n",
    "Discretizing along t_i for i=0,$n_t$ and x_n for n=0, $n_x$.\n",
    "$k_n^i$ equals the traffic density at time $t_i$ and position $n_i$.\n",
    "\n",
    "Sampling rates are $\\Delta t$ and $\\Delta x$, respectively.\n",
    "$k_j(x)$ is location dependent.  Call it $\\kappa_n$."
   ]
  },
  {
   "cell_type": "markdown",
   "metadata": {},
   "source": [
    "$$\n",
    "k_n^{i+1} = k_n^i + \\Delta t  (2 k_n^i - \\kappa_n) \\frac{k_{n+1}^i - k_n^i}{\\Delta x}\n",
    "$$"
   ]
  },
  {
   "cell_type": "markdown",
   "metadata": {},
   "source": [
    "In a real world scenario, we wouldn't have data at every point along the discretized distance.\n",
    "This is different from the scenario tested here.  Therefore, the functions needs to be modified\n",
    "to internally calculate points with the discretization distance needed to fulfill the stability criterion, while outputting predictions only where data is available."
   ]
  },
  {
   "cell_type": "code",
   "execution_count": 105,
   "metadata": {},
   "outputs": [],
   "source": [
    "import numpy as np"
   ]
  },
  {
   "cell_type": "markdown",
   "metadata": {},
   "source": [
    "## Considerations for time and grid step in numerical solution\n",
    "\n",
    "The CFL condition applies:\n",
    "\n",
    "\\begin{equation}\n",
    "C = \\frac{v_f \\Delta t}{\\Delta x} \\leq C_\\max,\n",
    "\\end{equation}\n",
    "\n",
    "where $C_\\max = 1$.\n",
    "\n",
    "Using $v_f$ = 32 m/s and $\\Delta x$ = 300 m, $\\Delta t$ needs to be smaller or equal to 9.375 s to meet the CFL condition:\n",
    "\n",
    "\\begin{equation}\n",
    "\\Delta t = \\frac{C \\Delta x}{v_f} = \\frac{1.0 \\cdot 300 \\text{ m}}{32 \\text{ m/s}} = 9.375s\n",
    "\\end{equation}\n",
    "\n",
    "I'm using $\\Delta t$ = 6 s such that the sampling in the data (5 minutes or 300 s) is a multiple of $\\Delta t$.  Therefore, one of 50 timesteps is being output by the solver (`tskip = 100`)."
   ]
  },
  {
   "cell_type": "code",
   "execution_count": 106,
   "metadata": {},
   "outputs": [],
   "source": [
    "import plotly.express as px\n",
    "import plotly.graph_objects as go\n",
    "from plotly.subplots import make_subplots\n",
    "from ipywidgets import widgets"
   ]
  },
  {
   "cell_type": "code",
   "execution_count": 107,
   "metadata": {},
   "outputs": [],
   "source": [
    "import torch \n",
    "import torch.nn as nn"
   ]
  },
  {
   "cell_type": "code",
   "execution_count": 108,
   "metadata": {},
   "outputs": [
    {
     "name": "stdout",
     "output_type": "stream",
     "text": [
      "cuda\n"
     ]
    }
   ],
   "source": [
    "# device = torch.device(\"cuda\" if torch.cuda.is_available() else \"cpu\")\n",
    "import os\n",
    "#os.environ[\"CUDA_DEVICE_ORDER\"]=\"PCI_BUS_ID\"\n",
    "#os.environ[\"CUDA_VISIBLE_DEVICES\"]=\"4\"\n",
    "device = torch.device(\"cuda\")\n",
    "print(device)\n",
    "import matplotlib.pyplot as plt\n",
    "from tqdm import tqdm"
   ]
  },
  {
   "cell_type": "code",
   "execution_count": 109,
   "metadata": {},
   "outputs": [],
   "source": [
    "import matplotlib.pyplot as plt\n",
    "plt.style.use('dark_background')"
   ]
  },
  {
   "cell_type": "code",
   "execution_count": 110,
   "metadata": {},
   "outputs": [],
   "source": [
    "class Neural_LWR_sparse2_3cmp(nn.Module):\n",
    "    def __init__(self, nx, dx, dt, kj, vf, xi, tskip, y_max, y_min, initial='random', boundary='zeros',\n",
    "                fix_vf=False, parstep=1):\n",
    "        self.nx = nx\n",
    "        #xi are the locations along distance where data is available\n",
    "        self.xi = xi\n",
    "        self.tskip = tskip \n",
    "        self.y_max = y_max \n",
    "        self.y_min = y_min\n",
    "            \n",
    "        super(Neural_LWR_sparse2_3cmp, self).__init__()\n",
    "        \n",
    "        self.cmps=[\"k\",\"q\",\"u\"]  #density, flow, velocity\n",
    "        self.initial={}\n",
    "        self.boundary={}\n",
    "        \n",
    "        if initial == 'random':\n",
    "            self.initial[\"u\"] = torch.nn.Parameter(torch.rand(nx))\n",
    "            self.initial[\"k\"] = torch.nn.Parameter(torch.rand(nx))\n",
    "            self.initial[\"q\"] = self.initial[\"k\"] * self.initial[\"v\"]\n",
    "        elif initial == 'zeros':\n",
    "            for c in self.cmps:\n",
    "                self.initial[c] = torch.zeros(nx, requires_grad=True).double()\n",
    "        else:\n",
    "            assert list(initial.keys()) == self.cmps, \"initial conditions should be dictionary with k,q and u\"\n",
    "            for c in self.cmps:\n",
    "                self.initial[c] = torch.tensor(initial[c])\n",
    "            \n",
    "        # influx at upstream border - needs to be known or assumed\n",
    "        if boundary == 'zeros':\n",
    "            for c in self.cmps:\n",
    "                self.boundary[c] = torch.zeros(nt, requires_grad=True).double()\n",
    "        else:\n",
    "            assert list(boundary.keys()) == self.cmps, \"boundary conditions should be dictionary with u,k and q\"\n",
    "            for c in self.cmps:\n",
    "                self.boundary[c] = torch.tensor(boundary[c])\n",
    "            \n",
    "        #factor by which parameter resolution is reduced with respect to nx\n",
    "        self.parstep=parstep\n",
    "        #jam density kappa\n",
    "        self.kappa=torch.nn.Parameter(torch.tensor(kj[::self.parstep]), requires_grad=True)\n",
    "        \n",
    "        #characteristic velocity vf\n",
    "        if not fix_vf:\n",
    "            self.vf=torch.nn.Parameter(torch.tensor(vf[::self.parstep]), requires_grad=True)\n",
    "        else:\n",
    "            self.vf=torch.tensor(vf[::self.parstep])\n",
    "        \n",
    "        self.dx = torch.tensor(dx)\n",
    "        self.dt = torch.tensor(dt)\n",
    "        \n",
    "    def forward(self, tsteps):\n",
    "        \n",
    "        nt=len(tsteps)\n",
    "        self.k=[self.initial[\"k\"]]   # density\n",
    "        self.u=[self.initial[\"u\"]]   # velocity\n",
    "        self.q=[self.initial[\"q\"]]   # flow\n",
    "        \n",
    "        #initial values at output points\n",
    "        self.ki=[self.initial[\"k\"][self.xi]]\n",
    "        self.ui=[self.initial[\"u\"][self.xi]]\n",
    "        self.qi=[self.initial[\"q\"][self.xi]]\n",
    "        \n",
    "        for n in range(1,nt):\n",
    "            #This corresponds to the upwind scheme according to Gaddam et al. (2015).\n",
    "            nk=torch.zeros(nx, requires_grad=True).double()\n",
    "            nu=torch.zeros(nx, requires_grad=True).double()\n",
    "            nq=torch.zeros(nx, requires_grad=True).double()\n",
    "\n",
    "            #new values for 3 variables stored in one tensor per time step\n",
    "            nk[0] = self.boundary[\"k\"][n]\n",
    "            nu[0] = self.boundary[\"u\"][n]\n",
    "            nq[0] = self.boundary[\"q\"][n]\n",
    "                                  \n",
    "            #full-resolution tensor hkappa and hv1, from down-sampled versions\n",
    "            idx=torch.arange(self.nx) / self.parstep\n",
    "            hkappa=self.kappa[idx.long()]\n",
    "            hvf=self.vf[idx.long()]\n",
    "            \n",
    "#             print(self.q[n-1][0], nq[0]) \n",
    "            ### \n",
    "            # Method of lines + RK4 method \n",
    "            # dt * f(t[n], y[n]) \n",
    "#             k1_k = - (self.q[n-1][2:] - self.q[n-1][:-2]) / (2 * self.dx) # central difference \n",
    "            k1_k = - (self.q[n-1][1:] - self.q[n-1][:-1]) / self.dx # finite difference \n",
    "#             print(k1_k.shape) \n",
    "            nk_1 = torch.cat((nk[0].unsqueeze(0), self.k[n-1][1:] + k1_k / 2 * self.dt)) \n",
    "            nu_1 = hvf[1:] * (1 - nk_1[1:] / hkappa[1:]) \n",
    "            nq_1 = nk_1[1:] * nu_1\n",
    "            nq_1 = torch.cat((nq[0].unsqueeze(0), nq_1)) \n",
    "\n",
    "#             print(self.k[n-1])\n",
    "            # dt * f(t[n] + dt/2, y[n] + k1/2) \n",
    "\n",
    "#             nk_1 = torch.cat((self.k[n-1][0].unsqueeze(0), self.k[n-1][1:] + k1_k / 2 * self.dt)) \n",
    "#             print(k1_k)\n",
    "# #             print(nk[1:])\n",
    "#             print(nk_1)\n",
    "#             print(nu_1)\n",
    "#             print(nq_1)\n",
    "#             nu_1 = torch.cat((self.u[n-1][0].unsqueeze(0), self.u[n-1][1:] + k1_u / 2 * self.dt)) \n",
    "#             nq_1 = torch.cat((self.q[n-1][0].unsqueeze(0), self.q[n-1][1:] + k1_q / 2 * self.dt)) \n",
    "            \n",
    "#             k2_k = - (self.q[n-1][2:] - self.q[n-1][:-2]) / (2 * self.dx) \n",
    "            k2_k = - (nq_1[1:] - nq_1[:-1]) / self.dx\n",
    "            nk_2 = torch.cat((nk[0].unsqueeze(0), self.k[n-1][1:] + k2_k / 2 * self.dt)) \n",
    "            nu_2 = hvf[1:] * (1 - nk_2[1:] / hkappa[1:])\n",
    "            nq_2 = nk_2[1:] * nu_2 \n",
    "            nq_2 = torch.cat((nq[0].unsqueeze(0), nq_2)) \n",
    "#             print(k2_k)\n",
    "#             print(nk_2)\n",
    "#             print(nu_2)\n",
    "#             print(nq_2)\n",
    "#             print(\"break 1\")\n",
    "            # dt * f(t[n] + dt/2, y[n] + k2/2) \n",
    "#             nk_2 = torch.cat((self.k[n-1][0].unsqueeze(0), self.k[n-1][1:] + k2_k / 2 * self.dt)) \n",
    "#             nu_2 = torch.cat((self.u[n-1][0].unsqueeze(0), self.u[n-1][1:] + k2_u / 2 * self.dt)) \n",
    "#             nq_2 = torch.cat((self.q[n-1][0].unsqueeze(0), self.q[n-1][1:] + k2_q / 2 * self.dt)) \n",
    "            \n",
    "            k3_k = - (nq_2[1:] - nq_2[:-1]) / self.dx \n",
    "            nk_3 = torch.cat((nk[0].unsqueeze(0), self.k[n-1][1:] + k3_k * self.dt)) \n",
    "            nu_3 = hvf[1:] * (1 - nk_3[1:] / hkappa[1:])\n",
    "            nq_3 = nk_3[1:] * nu_3 \n",
    "            nq_3 = torch.cat((nq[0].unsqueeze(0), nq_3)) \n",
    "#             print(k3_k)\n",
    "#             print(nk_3)\n",
    "#             print(nu_3)\n",
    "#             print(nq_3)\n",
    "#             print(\"break 2\")\n",
    "            # dt * f(t[n] + dt, y[n] + k3) \n",
    "#             nk_3 = torch.cat((self.k[n-1][0].unsqueeze(0), self.k[n-1][1:] + k3_k * self.dt)) \n",
    "#             nu_3 = torch.cat((self.u[n-1][0].unsqueeze(0), self.u[n-1][1:] + k3_u * self.dt)) \n",
    "#             nq_3 = torch.cat((self.q[n-1][0].unsqueeze(0), self.q[n-1][1:] + k3_q * self.dt)) \n",
    "            \n",
    "            k4_k = - (nq_3[1:] - nq_3[:-1]) / self.dx\n",
    "#             k4_u = hvf[1:] * (1 - k4_k / hkappa[1:])\n",
    "#             k4_q = k4_k * k4_u\n",
    "            \n",
    "            nk[1:] += self.k[n-1][1:] + 1/6 * (k1_k + 2 * k2_k + 2 * k3_k + k4_k) * self.dt \n",
    "#         nk_2 = torch.cat((nk[0].unsqueeze(0), self.k[n-1][1:] + k2_k / 2 * self.dt)) \n",
    "#             print(nk)\n",
    "            nu[1:] += hvf[1:] * (1 - nk[1:] / hkappa[1:]) \n",
    "            nq[1:] += nk[1:] * nu[1:] \n",
    "#             nu[1:] += 1/6 * (k1_u + 2 * k2_u + 2 * k3_u + k4_u) * self.dt \n",
    "#             nq[1:] += 1/6 * (k1_q + 2 * k2_q + 2 * k3_q + k4_q) * self.dt \n",
    "            ### \n",
    "\n",
    "            self.k.append(nk)\n",
    "            self.u.append(nu)\n",
    "            self.q.append(nq)\n",
    "            \n",
    "            #only output every tskip timesteps\n",
    "            if (n % self.tskip) == 0:\n",
    "                self.ki.append(nk[self.xi])\n",
    "                self.ui.append(nu[self.xi])\n",
    "                self.qi.append(nq[self.xi])\n",
    "            #self.k[n,1:] = self.k[n-1,1:] + self.dt*tmp1 * tmp2\n",
    "            #self.k.append(self.k[n][1:] + self.dt*(2*self.k[n][1:] - self.kappa[1:]) * \\\n",
    "            #    (self.k[n][1:]-self.k[n][:-1]) / self.dx)\n",
    "   \n",
    "        return torch.stack([torch.stack(self.ki),torch.stack(self.qi),torch.stack(self.ui)])\n",
    "        #return self.k"
   ]
  },
  {
   "cell_type": "code",
   "execution_count": 53,
   "metadata": {},
   "outputs": [
    {
     "data": {
      "text/plain": [
       "(tensor([0.8074, 0.0924, 0.5519, 0.7564, 0.9602, 0.4876, 0.7761, 0.4124, 0.0850,\n",
       "         0.9583]),\n",
       " tensor([0.6751, 0.1593, 0.6759, 0.2875, 0.0422, 0.7515, 0.5396, 0.8245, 0.6652]))"
      ]
     },
     "execution_count": 53,
     "metadata": {},
     "output_type": "execute_result"
    }
   ],
   "source": [
    "xx = torch.rand((10))\n",
    "bb = torch.rand((9))\n",
    "# xx1 = xx[0].unsqueeze(0)\n",
    "# torch.cat((xx1, xx))\n",
    "# torch.stack((xx1, xx), dim = 0)\n",
    "xx, bb"
   ]
  },
  {
   "cell_type": "code",
   "execution_count": 54,
   "metadata": {},
   "outputs": [
    {
     "data": {
      "text/plain": [
       "tensor([0.8074, 0.7676, 0.7112, 1.4323, 1.2477, 0.5298, 1.5275, 0.9520, 0.9095,\n",
       "        1.6235])"
      ]
     },
     "execution_count": 54,
     "metadata": {},
     "output_type": "execute_result"
    }
   ],
   "source": [
    "xx[1:] += bb\n",
    "\n",
    "xx"
   ]
  },
  {
   "cell_type": "code",
   "execution_count": 8,
   "metadata": {},
   "outputs": [
    {
     "name": "stdout",
     "output_type": "stream",
     "text": [
      "torch.Size([10])\n",
      "tensor([0.1336, 0.0591, 0.1343, 0.4169, 0.3419, 0.4027, 0.8631, 0.7123, 0.7795,\n",
      "        0.7896, 0.2498, 0.8025, 0.8912, 0.7712, 0.7602, 0.1967, 0.2973, 0.9970,\n",
      "        0.6636, 0.5790, 0.1030, 0.9924, 0.5979, 0.0468, 0.8261, 0.2101, 0.5519,\n",
      "        0.4037, 0.8612, 0.0277])\n"
     ]
    },
    {
     "ename": "IndexError",
     "evalue": "tensors used as indices must be long, byte or bool tensors",
     "output_type": "error",
     "traceback": [
      "\u001b[1;31m---------------------------------------------------------------------------\u001b[0m",
      "\u001b[1;31mIndexError\u001b[0m                                Traceback (most recent call last)",
      "\u001b[1;32m<ipython-input-8-1818b016559c>\u001b[0m in \u001b[0;36m<module>\u001b[1;34m\u001b[0m\n\u001b[0;32m      6\u001b[0m \u001b[0midx\u001b[0m\u001b[1;33m=\u001b[0m\u001b[0mtorch\u001b[0m\u001b[1;33m.\u001b[0m\u001b[0marange\u001b[0m\u001b[1;33m(\u001b[0m\u001b[1;36m30\u001b[0m\u001b[1;33m)\u001b[0m\u001b[1;33m/\u001b[0m\u001b[1;36m3\u001b[0m\u001b[1;33m\u001b[0m\u001b[1;33m\u001b[0m\u001b[0m\n\u001b[0;32m      7\u001b[0m \u001b[0mprint\u001b[0m\u001b[1;33m(\u001b[0m\u001b[0mblh\u001b[0m\u001b[1;33m)\u001b[0m\u001b[1;33m\u001b[0m\u001b[1;33m\u001b[0m\u001b[0m\n\u001b[1;32m----> 8\u001b[1;33m \u001b[0mprint\u001b[0m\u001b[1;33m(\u001b[0m\u001b[0mbl\u001b[0m\u001b[1;33m[\u001b[0m\u001b[0midx\u001b[0m\u001b[1;33m]\u001b[0m\u001b[1;33m)\u001b[0m\u001b[1;33m\u001b[0m\u001b[1;33m\u001b[0m\u001b[0m\n\u001b[0m",
      "\u001b[1;31mIndexError\u001b[0m: tensors used as indices must be long, byte or bool tensors"
     ]
    }
   ],
   "source": [
    "#some tests on how to expand low-resolution parameter tensor to full resolution\n",
    "#in a vectorized way\n",
    "blh=torch.rand(30)\n",
    "bl=blh[::3]\n",
    "print(bl.shape)\n",
    "idx=torch.arange(30)/3\n",
    "print(blh)\n",
    "print(bl[idx])"
   ]
  },
  {
   "cell_type": "code",
   "execution_count": 8,
   "metadata": {},
   "outputs": [
    {
     "name": "stdout",
     "output_type": "stream",
     "text": [
      "torch.Size([3, 71, 31])\n"
     ]
    }
   ],
   "source": [
    "y_exact=torch.load(\"../../5S_191111_3cmp_torch.pt\")\n",
    "#first row (0) k, then (1) q, then (2) u\n",
    "#y_exact=y_exact[0:5,:]\n",
    "print(y_exact.shape)"
   ]
  },
  {
   "cell_type": "code",
   "execution_count": 9,
   "metadata": {},
   "outputs": [
    {
     "data": {
      "text/plain": [
       "tensor(29.1056, dtype=torch.float64)"
      ]
     },
     "execution_count": 9,
     "metadata": {},
     "output_type": "execute_result"
    }
   ],
   "source": [
    "y_exact[2, :, :].mean() "
   ]
  },
  {
   "cell_type": "code",
   "execution_count": 12,
   "metadata": {
    "scrolled": true
   },
   "outputs": [
    {
     "data": {
      "text/plain": [
       "tensor(0.0456, dtype=torch.float64)"
      ]
     },
     "execution_count": 12,
     "metadata": {},
     "output_type": "execute_result"
    }
   ],
   "source": [
    "y_exact[0,:,:].mean().mean()"
   ]
  },
  {
   "cell_type": "code",
   "execution_count": 2,
   "metadata": {},
   "outputs": [
    {
     "ename": "NameError",
     "evalue": "name 'y_exact' is not defined",
     "output_type": "error",
     "traceback": [
      "\u001b[1;31m---------------------------------------------------------------------------\u001b[0m",
      "\u001b[1;31mNameError\u001b[0m                                 Traceback (most recent call last)",
      "\u001b[1;32mC:\\Users\\STEPHE~1\\AppData\\Local\\Temp/ipykernel_228464/2815885865.py\u001b[0m in \u001b[0;36m<module>\u001b[1;34m\u001b[0m\n\u001b[1;32m----> 1\u001b[1;33m \u001b[0my_exact\u001b[0m\u001b[1;33m[\u001b[0m\u001b[1;36m1\u001b[0m\u001b[1;33m,\u001b[0m \u001b[1;33m:\u001b[0m\u001b[1;33m,\u001b[0m \u001b[1;33m:\u001b[0m\u001b[1;33m]\u001b[0m\u001b[1;33m.\u001b[0m\u001b[0mmean\u001b[0m\u001b[1;33m(\u001b[0m\u001b[1;33m)\u001b[0m\u001b[1;33m\u001b[0m\u001b[1;33m\u001b[0m\u001b[0m\n\u001b[0m",
      "\u001b[1;31mNameError\u001b[0m: name 'y_exact' is not defined"
     ]
    }
   ],
   "source": [
    "y_exact[1, :, :].mean() "
   ]
  },
  {
   "cell_type": "code",
   "execution_count": 13,
   "metadata": {},
   "outputs": [
    {
     "data": {
      "text/plain": [
       "tensor(32.9916, dtype=torch.float64)"
      ]
     },
     "execution_count": 13,
     "metadata": {},
     "output_type": "execute_result"
    }
   ],
   "source": [
    "#maximum observed velocity.  Indication for characteristic velocity $v_f$.\n",
    "y_exact[2,:,:].max()"
   ]
  },
  {
   "cell_type": "code",
   "execution_count": 14,
   "metadata": {},
   "outputs": [
    {
     "data": {
      "text/plain": [
       "tensor(0.0995, dtype=torch.float64)"
      ]
     },
     "execution_count": 14,
     "metadata": {},
     "output_type": "execute_result"
    }
   ],
   "source": [
    "#maximum observed density.  Jam density $k_j$ can not be lower than this!\n",
    "y_exact[0,:,:].max()"
   ]
  },
  {
   "cell_type": "markdown",
   "metadata": {},
   "source": [
    "### Normalization "
   ]
  },
  {
   "cell_type": "code",
   "execution_count": 15,
   "metadata": {},
   "outputs": [],
   "source": [
    "## no normalization to LWR-RK4 \n",
    "y_min = torch.tensor([y_exact[0, :, :].min(), y_exact[1, :, :].min(), y_exact[2, :, :].min()])\n",
    "y_max = torch.tensor([y_exact[0, :, :].max(), y_exact[1, :, :].max(), y_exact[2, :, :].max()])\n",
    "# y_norm = torch.zeros(y_exact.shape, dtype = torch.double) \n",
    "# y_norm[0, :, :] = (y_exact[0, :, :] - y_min[0]) / (y_max[0] - y_min[0]) \n",
    "# # y_norm[1, :, :] = (y_exact[1, :, :] - y_min[1]) / (y_max[1] - y_min[1]) \n",
    "# y_norm[1, :, :] = y_exact[1, :, :]\n",
    "# y_norm[2, :, :] = (y_exact[2, :, :] - y_min[2]) / (y_max[2] - y_min[2]) \n",
    "\n",
    "y_norm = y_exact"
   ]
  },
  {
   "cell_type": "code",
   "execution_count": 16,
   "metadata": {},
   "outputs": [
    {
     "data": {
      "text/plain": [
       "tensor(0.0069, dtype=torch.float64)"
      ]
     },
     "execution_count": 16,
     "metadata": {},
     "output_type": "execute_result"
    }
   ],
   "source": [
    "y_min[0]"
   ]
  },
  {
   "cell_type": "code",
   "execution_count": 304,
   "metadata": {},
   "outputs": [
    {
     "name": "stdout",
     "output_type": "stream",
     "text": [
      "3.0 7100\n"
     ]
    }
   ],
   "source": [
    "import numpy as np\n",
    "#nx=350  # \n",
    "nx=144\n",
    "#kj needs to be larger than k for the solution to be stable \n",
    "kj = np.ones((nx,), dtype=float) * 0.2\n",
    "# kj = (kj - y_min[0].numpy()) / (y_max[0].numpy() - y_min[0].numpy()) # normalize\n",
    "\n",
    "#characteristic velocity (m/s), corresponds to roughly 120 km/h\n",
    "vf = np.ones((nx,), dtype=float) * 33\n",
    "# vf = (vf - y_min[2].numpy()) / (y_max[2].numpy() - y_min[2].numpy()) # normalize\n",
    "\n",
    "dx=250.\n",
    "\n",
    "## change the timestep to dt = 1, previously dt = 6 with 7 mins runtime\n",
    "dt=3. \n",
    "#need an output every 5 mins (300 s), so tskip = 3 with dt = 3s\n",
    "tskip=100\n",
    "#nt=int(3600*6/6 - 50)\n",
    "#nt=7099 #6 hours (times 3600 s/hour divided by dt=3s)\n",
    "nto=(y_exact.shape[1]+1) \n",
    "#nt=int(3600*nto/12/6/dt - tskip)\n",
    "dtobs=300\n",
    "nt=int((dtobs*nto)/dt - tskip)\n",
    "print(dt,nt)\n",
    "\n",
    "#assert int(nt/tskip) == nto"
   ]
  },
  {
   "cell_type": "code",
   "execution_count": 305,
   "metadata": {},
   "outputs": [
    {
     "data": {
      "text/plain": [
       "tensor(32.9916, dtype=torch.float64)"
      ]
     },
     "execution_count": 305,
     "metadata": {},
     "output_type": "execute_result"
    }
   ],
   "source": [
    "y_max[2]"
   ]
  },
  {
   "cell_type": "code",
   "execution_count": 306,
   "metadata": {},
   "outputs": [
    {
     "data": {
      "text/plain": [
       "array([0.2, 0.2, 0.2, 0.2, 0.2, 0.2, 0.2, 0.2, 0.2, 0.2, 0.2, 0.2, 0.2,\n",
       "       0.2, 0.2, 0.2, 0.2, 0.2, 0.2, 0.2, 0.2, 0.2, 0.2, 0.2, 0.2, 0.2,\n",
       "       0.2, 0.2, 0.2, 0.2, 0.2, 0.2, 0.2, 0.2, 0.2, 0.2, 0.2, 0.2, 0.2,\n",
       "       0.2, 0.2, 0.2, 0.2, 0.2, 0.2, 0.2, 0.2, 0.2, 0.2, 0.2, 0.2, 0.2,\n",
       "       0.2, 0.2, 0.2, 0.2, 0.2, 0.2, 0.2, 0.2, 0.2, 0.2, 0.2, 0.2, 0.2,\n",
       "       0.2, 0.2, 0.2, 0.2, 0.2, 0.2, 0.2, 0.2, 0.2, 0.2, 0.2, 0.2, 0.2,\n",
       "       0.2, 0.2, 0.2, 0.2, 0.2, 0.2, 0.2, 0.2, 0.2, 0.2, 0.2, 0.2, 0.2,\n",
       "       0.2, 0.2, 0.2, 0.2, 0.2, 0.2, 0.2, 0.2, 0.2, 0.2, 0.2, 0.2, 0.2,\n",
       "       0.2, 0.2, 0.2, 0.2, 0.2, 0.2, 0.2, 0.2, 0.2, 0.2, 0.2, 0.2, 0.2,\n",
       "       0.2, 0.2, 0.2, 0.2, 0.2, 0.2, 0.2, 0.2, 0.2, 0.2, 0.2, 0.2, 0.2,\n",
       "       0.2, 0.2, 0.2, 0.2, 0.2, 0.2, 0.2, 0.2, 0.2, 0.2, 0.2, 0.2, 0.2,\n",
       "       0.2])"
      ]
     },
     "execution_count": 306,
     "metadata": {},
     "output_type": "execute_result"
    }
   ],
   "source": [
    "kj"
   ]
  },
  {
   "cell_type": "code",
   "execution_count": 307,
   "metadata": {},
   "outputs": [
    {
     "data": {
      "text/plain": [
       "array([33., 33., 33., 33., 33., 33., 33., 33., 33., 33., 33., 33., 33.,\n",
       "       33., 33., 33., 33., 33., 33., 33., 33., 33., 33., 33., 33., 33.,\n",
       "       33., 33., 33., 33., 33., 33., 33., 33., 33., 33., 33., 33., 33.,\n",
       "       33., 33., 33., 33., 33., 33., 33., 33., 33., 33., 33., 33., 33.,\n",
       "       33., 33., 33., 33., 33., 33., 33., 33., 33., 33., 33., 33., 33.,\n",
       "       33., 33., 33., 33., 33., 33., 33., 33., 33., 33., 33., 33., 33.,\n",
       "       33., 33., 33., 33., 33., 33., 33., 33., 33., 33., 33., 33., 33.,\n",
       "       33., 33., 33., 33., 33., 33., 33., 33., 33., 33., 33., 33., 33.,\n",
       "       33., 33., 33., 33., 33., 33., 33., 33., 33., 33., 33., 33., 33.,\n",
       "       33., 33., 33., 33., 33., 33., 33., 33., 33., 33., 33., 33., 33.,\n",
       "       33., 33., 33., 33., 33., 33., 33., 33., 33., 33., 33., 33., 33.,\n",
       "       33.])"
      ]
     },
     "execution_count": 307,
     "metadata": {},
     "output_type": "execute_result"
    }
   ],
   "source": [
    "vf"
   ]
  },
  {
   "cell_type": "code",
   "execution_count": 308,
   "metadata": {},
   "outputs": [
    {
     "ename": "FileNotFoundError",
     "evalue": "[Errno 2] No such file or directory: '5S_station_pos_idx_dx=0250m.json'",
     "output_type": "error",
     "traceback": [
      "\u001b[1;31m---------------------------------------------------------------------------\u001b[0m",
      "\u001b[1;31mFileNotFoundError\u001b[0m                         Traceback (most recent call last)",
      "\u001b[1;32mC:\\Users\\STEPHE~1\\AppData\\Local\\Temp/ipykernel_231380/1566647144.py\u001b[0m in \u001b[0;36m<module>\u001b[1;34m\u001b[0m\n\u001b[0;32m      2\u001b[0m \u001b[1;32mimport\u001b[0m \u001b[0mjson\u001b[0m\u001b[1;33m\u001b[0m\u001b[1;33m\u001b[0m\u001b[0m\n\u001b[0;32m      3\u001b[0m \u001b[1;33m\u001b[0m\u001b[0m\n\u001b[1;32m----> 4\u001b[1;33m \u001b[0mstation_pos_idx\u001b[0m\u001b[1;33m=\u001b[0m\u001b[0mjson\u001b[0m\u001b[1;33m.\u001b[0m\u001b[0mload\u001b[0m\u001b[1;33m(\u001b[0m\u001b[0mopen\u001b[0m\u001b[1;33m(\u001b[0m\u001b[1;34m\"5S_station_pos_idx_dx=%04dm.json\"\u001b[0m \u001b[1;33m%\u001b[0m \u001b[0mint\u001b[0m\u001b[1;33m(\u001b[0m\u001b[0mdx\u001b[0m\u001b[1;33m)\u001b[0m\u001b[1;33m,\u001b[0m \u001b[1;34m\"rb\"\u001b[0m\u001b[1;33m)\u001b[0m\u001b[1;33m)\u001b[0m\u001b[1;33m\u001b[0m\u001b[1;33m\u001b[0m\u001b[0m\n\u001b[0m\u001b[0;32m      5\u001b[0m \u001b[1;31m#station_pos_idx=pd.read_json(\"station_pos_idx.json\")\u001b[0m\u001b[1;33m\u001b[0m\u001b[1;33m\u001b[0m\u001b[1;33m\u001b[0m\u001b[0m\n\u001b[0;32m      6\u001b[0m \u001b[0mxi\u001b[0m\u001b[1;33m=\u001b[0m\u001b[0mlist\u001b[0m\u001b[1;33m(\u001b[0m\u001b[0mstation_pos_idx\u001b[0m\u001b[1;33m.\u001b[0m\u001b[0mvalues\u001b[0m\u001b[1;33m(\u001b[0m\u001b[1;33m)\u001b[0m\u001b[1;33m)\u001b[0m\u001b[1;33m\u001b[0m\u001b[1;33m\u001b[0m\u001b[0m\n",
      "\u001b[1;31mFileNotFoundError\u001b[0m: [Errno 2] No such file or directory: '5S_station_pos_idx_dx=0250m.json'"
     ]
    }
   ],
   "source": [
    "#import pandas as pd\n",
    "import json\n",
    "\n",
    "station_pos_idx=json.load(open(\"5S_station_pos_idx_dx=%04dm.json\" % int(dx), \"rb\"))\n",
    "#station_pos_idx=pd.read_json(\"station_pos_idx.json\")\n",
    "xi=list(station_pos_idx.values())\n",
    "\n",
    "xi0=xi[0]\n",
    "for p in range(len(xi)):\n",
    "    xi[p] = xi[p] - xi0\n",
    "\n",
    "#shift xi's such that model starts at first receiver\n",
    "#(because observed data at this receiver is input at upstream model end)\n",
    "print(xi)\n",
    "#xi=xi-xi[0]\n",
    "#xi"
   ]
  },
  {
   "cell_type": "code",
   "execution_count": 309,
   "metadata": {},
   "outputs": [],
   "source": [
    "xi = [0, 4, 12, 22, 32, 39, 46, 50, 54, 57, 59, 63, 66, 69, 71, 74, 76, 81, 84, 86, 89, 91, 95, 96, 98, 100, 102, 105, 108, 110, 112]"
   ]
  },
  {
   "cell_type": "code",
   "execution_count": 310,
   "metadata": {},
   "outputs": [],
   "source": [
    "xi = np.array(xi) * 300"
   ]
  },
  {
   "cell_type": "code",
   "execution_count": 311,
   "metadata": {},
   "outputs": [],
   "source": [
    "xi = xi / 250"
   ]
  },
  {
   "cell_type": "code",
   "execution_count": 312,
   "metadata": {},
   "outputs": [],
   "source": [
    "xi = [int(x) for x in xi]"
   ]
  },
  {
   "cell_type": "code",
   "execution_count": 313,
   "metadata": {},
   "outputs": [
    {
     "data": {
      "text/plain": [
       "[0,\n",
       " 4,\n",
       " 14,\n",
       " 26,\n",
       " 38,\n",
       " 46,\n",
       " 55,\n",
       " 60,\n",
       " 64,\n",
       " 68,\n",
       " 70,\n",
       " 75,\n",
       " 79,\n",
       " 82,\n",
       " 85,\n",
       " 88,\n",
       " 91,\n",
       " 97,\n",
       " 100,\n",
       " 103,\n",
       " 106,\n",
       " 109,\n",
       " 114,\n",
       " 115,\n",
       " 117,\n",
       " 120,\n",
       " 122,\n",
       " 126,\n",
       " 129,\n",
       " 132,\n",
       " 134]"
      ]
     },
     "execution_count": 313,
     "metadata": {},
     "output_type": "execute_result"
    }
   ],
   "source": [
    "xi"
   ]
  },
  {
   "cell_type": "markdown",
   "metadata": {},
   "source": [
    "The exact solution is provided in cars / km.  However, I changed the units from km and hours to meters and seconds.  Therefore, the density should be divided by 1000.\n",
    "\n",
    "**Update:** Not needed, `avg_occupancy` is already given in cars/meters (check this.  They might be using miles)."
   ]
  },
  {
   "cell_type": "code",
   "execution_count": 314,
   "metadata": {},
   "outputs": [
    {
     "data": {
      "text/plain": [
       "tensor([0.0000e+00, 1.0001e+00, 2.0003e+00,  ..., 7.0980e+03, 7.0990e+03,\n",
       "        7.1000e+03], dtype=torch.float64, requires_grad=True)"
      ]
     },
     "execution_count": 314,
     "metadata": {},
     "output_type": "execute_result"
    }
   ],
   "source": [
    "steps=torch.tensor(np.linspace(0, nt, nt), requires_grad=True)\n",
    "steps"
   ]
  },
  {
   "cell_type": "code",
   "execution_count": 315,
   "metadata": {},
   "outputs": [
    {
     "data": {
      "text/plain": [
       "torch.Size([7100])"
      ]
     },
     "execution_count": 315,
     "metadata": {},
     "output_type": "execute_result"
    }
   ],
   "source": [
    "steps.shape"
   ]
  },
  {
   "cell_type": "markdown",
   "metadata": {},
   "source": [
    "Defining the initial values of the traffic density in the model.  They need to be defined on every point on the computational grid, not just at those positions where there is data.  I am interpolating them between the sensors, and extrapolating using initial values on the end sensors."
   ]
  },
  {
   "cell_type": "code",
   "execution_count": 316,
   "metadata": {},
   "outputs": [
    {
     "name": "stdout",
     "output_type": "stream",
     "text": [
      "[0, 4, 14, 26, 38, 46, 55, 60, 64, 68, 70, 75, 79, 82, 85, 88, 91, 97, 100, 103, 106, 109, 114, 115, 117, 120, 122, 126, 129, 132, 134]\n"
     ]
    }
   ],
   "source": [
    "from scipy.interpolate import interp1d\n",
    "print(xi)\n",
    "def interpolate_initial(var, t0=0):\n",
    "    IM=interp1d(np.array(xi)*dx, var[t0,:].numpy(), bounds_error=False, \n",
    "                fill_value=(var[t0,0], var[t0,-1]), kind='linear')\n",
    "    \n",
    "    x=np.linspace(0, (nx-1)*dx, nx)\n",
    "    return IM(x)"
   ]
  },
  {
   "cell_type": "code",
   "execution_count": 317,
   "metadata": {},
   "outputs": [
    {
     "name": "stdout",
     "output_type": "stream",
     "text": [
      "0.07363054044131748\n",
      "(144,)\n",
      "1.9066666666666667\n",
      "(144,)\n",
      "31.829248000000003\n",
      "(144,)\n"
     ]
    }
   ],
   "source": [
    "k_initial={}\n",
    "cmps = [\"k\",\"q\",\"u\"]\n",
    "for n,c in enumerate(cmps):\n",
    "    k_initial[c]=interpolate_initial(y_norm[n,:])\n",
    "    print(k_initial[c].max())\n",
    "    print(k_initial[c].shape)"
   ]
  },
  {
   "cell_type": "markdown",
   "metadata": {},
   "source": [
    "The boundary condition at the upstream end also need to be interpolated:"
   ]
  },
  {
   "cell_type": "code",
   "execution_count": 318,
   "metadata": {},
   "outputs": [
    {
     "name": "stdout",
     "output_type": "stream",
     "text": [
      "71 3\n",
      "(7100,) 0.04694415598818393\n",
      "(7100,) 1.49\n",
      "(7100,) 32.768032\n"
     ]
    },
    {
     "data": {
      "text/plain": [
       "[<matplotlib.lines.Line2D at 0x1b5f27ec340>]"
      ]
     },
     "execution_count": 318,
     "metadata": {},
     "output_type": "execute_result"
    },
    {
     "data": {
      "image/png": "[encoded data removed]",
      "text/plain": [
       "<Figure size 432x288 with 1 Axes>"
      ]
     },
     "metadata": {
      "needs_background": "light"
     },
     "output_type": "display_data"
    }
   ],
   "source": [
    "ti=np.arange(0, (nt-1)*dt, tskip*dt )\n",
    "print(len(ti), y_norm.shape[0])\n",
    "t=np.linspace(0, (nt-1)*dt, nt)\n",
    "#print(len(ti), len(y_exact))\n",
    "#print(t)\n",
    "\n",
    "k_boundary={}\n",
    "\n",
    "for n,c in enumerate(cmps):\n",
    "    IMb=interp1d(np.array(ti), y_norm[n,:,0].numpy(), bounds_error=False,\n",
    "             fill_value=(y_norm[n,0,0], y_norm[n,-1,0]),\n",
    "             kind='linear')\n",
    "    k_boundary[c]=IMb(t)\n",
    "    print(k_boundary[c].shape, k_boundary[c].max())\n",
    "\n",
    "fig2,ax2=plt.subplots()\n",
    "ax2.plot(ti, y_norm[0,:,0], marker='o', linewidth=0)\n",
    "ax2.plot(t, k_boundary[\"k\"])"
   ]
  },
  {
   "cell_type": "code",
   "execution_count": 319,
   "metadata": {},
   "outputs": [
    {
     "data": {
      "text/plain": [
       "True"
      ]
     },
     "execution_count": 319,
     "metadata": {},
     "output_type": "execute_result"
    }
   ],
   "source": [
    "list(k_initial.keys()) ==  cmps"
   ]
  },
  {
   "cell_type": "code",
   "execution_count": 320,
   "metadata": {},
   "outputs": [],
   "source": [
    "tdnu = Neural_LWR_sparse2_3cmp(nx, dx, dt, kj, vf, xi, tskip, y_max, y_min, \n",
    "                          initial=k_initial, boundary=k_boundary, \n",
    "                               fix_vf=False, parstep=10)"
   ]
  },
  {
   "cell_type": "code",
   "execution_count": 321,
   "metadata": {},
   "outputs": [],
   "source": [
    "#torch.optim.lr_scheduler.StepLR?\n",
    "#torch.optim.SGD?"
   ]
  },
  {
   "cell_type": "code",
   "execution_count": 322,
   "metadata": {},
   "outputs": [],
   "source": [
    "optimizer = torch.optim.Adam(tdnu.parameters(), lr=0.02)\n",
    "#optimizer = torch.optim.SGD(tdnu.parameters(), lr=0.001)\n",
    "scheduler = torch.optim.lr_scheduler.StepLR(optimizer, step_size= 100, gamma=0.95) #0.95 #step_size=1\n",
    "#torch.optim.lr_scheduler.StepLR?"
   ]
  },
  {
   "cell_type": "markdown",
   "metadata": {},
   "source": [
    "- reduce time step $\\Delta t$\n",
    "- try different optimizer\n",
    "- reduce learning rate decay (step_size in scheduler) - 500 epochs"
   ]
  },
  {
   "cell_type": "code",
   "execution_count": 323,
   "metadata": {},
   "outputs": [],
   "source": [
    "num_epochs = 200\n",
    "loss_fun = torch.nn.MSELoss()\n",
    "min_loss = 10"
   ]
  },
  {
   "cell_type": "code",
   "execution_count": 324,
   "metadata": {},
   "outputs": [
    {
     "data": {
      "text/plain": [
       "-0.000158334"
      ]
     },
     "execution_count": 324,
     "metadata": {},
     "output_type": "execute_result"
    }
   ],
   "source": [
    "-5.2778e-05 * 3"
   ]
  },
  {
   "cell_type": "code",
   "execution_count": 325,
   "metadata": {},
   "outputs": [
    {
     "name": "stdout",
     "output_type": "stream",
     "text": [
      "torch.Size([3, 68, 31]) torch.Size([3, 68, 31])\n"
     ]
    }
   ],
   "source": [
    "y_approx = tdnu(steps[0:68*tskip].long())\n",
    "print(y_exact[:,0:68].shape, y_approx.shape)"
   ]
  },
  {
   "cell_type": "code",
   "execution_count": 326,
   "metadata": {},
   "outputs": [
    {
     "data": {
      "text/plain": [
       "torch.Size([6800])"
      ]
     },
     "execution_count": 326,
     "metadata": {},
     "output_type": "execute_result"
    }
   ],
   "source": [
    "steps[0:68*tskip].shape"
   ]
  },
  {
   "cell_type": "code",
   "execution_count": 327,
   "metadata": {
    "scrolled": false
   },
   "outputs": [
    {
     "name": "stdout",
     "output_type": "stream",
     "text": [
      "tensor([32.0975, 24.9220, 24.0533, 23.9461, 24.4651, 24.9467, 25.4954, 25.7432,\n",
      "        25.8683, 25.8690, 25.7971, 25.3485, 24.8201, 24.4911, 24.2939, 24.2170,\n",
      "        24.2237, 24.3744, 24.4855, 24.6082, 24.7372, 24.8685, 25.0839, 25.1255,\n",
      "        25.2060, 25.3180, 25.3843, 25.4868, 25.5247, 25.5143, 25.4744],\n",
      "       dtype=torch.float64, grad_fn=<SliceBackward>)\n",
      "tensor([32.0975, 29.8623, 28.6553, 28.6106, 26.5095, 29.4599, 30.9352, 31.0693,\n",
      "        30.7564, 30.6222, 31.1140, 30.7564, 30.1752, 27.2694, 30.2199, 30.6222,\n",
      "        31.0693, 30.7564, 30.7564, 28.7894, 29.6388, 28.5659, 30.3540, 28.2529,\n",
      "        28.6106, 28.8341, 29.9964, 30.2199, 31.1140, 29.2364, 22.0391],\n",
      "       dtype=torch.float64)\n",
      "0.03707457085716906\n"
     ]
    },
    {
     "data": {
      "text/plain": [
       "<matplotlib.legend.Legend at 0x1b4f33c20a0>"
      ]
     },
     "execution_count": 327,
     "metadata": {},
     "output_type": "execute_result"
    },
    {
     "data": {
      "image/png": "[encoded data removed]",
      "text/plain": [
       "<Figure size 432x288 with 1 Axes>"
      ]
     },
     "metadata": {
      "needs_background": "light"
     },
     "output_type": "display_data"
    }
   ],
   "source": [
    "%matplotlib inline\n",
    "#y_approx\n",
    "tp=30\n",
    "print(y_approx[2,tp,:])\n",
    "print(y_norm[2,tp,:])\n",
    "fig,ax=plt.subplots()\n",
    "ax.plot(xi, y_norm[0,tp,:].detach(), label='observed', marker='o')\n",
    "#ax.plot(xi, y_approx[0].detach(), label='trained')\n",
    "ax.plot(tdnu.k[tp*tskip].detach(), label='simulated')\n",
    "print(k_boundary[\"k\"][tp*tskip])\n",
    "ax.legend()"
   ]
  },
  {
   "cell_type": "code",
   "execution_count": 328,
   "metadata": {
    "scrolled": true
   },
   "outputs": [
    {
     "name": "stdout",
     "output_type": "stream",
     "text": [
      "torch.Size([3, 68, 31]) torch.Size([3, 71, 31])\n",
      "Initial loss: 5.702262e+00\n"
     ]
    }
   ],
   "source": [
    "print(y_approx.shape, y_norm.shape)\n",
    "loss=loss_fun(y_approx, y_norm[:,0:68,:])\n",
    "#torch.cat(tdn.k, dim=1).shape\n",
    "#torch.cat([torch.tensor(p) for p in tdn.k], dim=1).shape\n",
    "print(\"Initial loss: %e\" % loss)\n",
    "loss_history=[loss.item()]"
   ]
  },
  {
   "cell_type": "code",
   "execution_count": 329,
   "metadata": {},
   "outputs": [],
   "source": [
    "# ## loss without normalization \n",
    "# y_approx_actual = torch.zeros(y_approx.shape) \n",
    "# y_approx_actual[0, :, :] = y_approx[0, :, :] * (y_max[0] - y_min[0]) + y_min[0]\n",
    "# y_approx_actual[1, :, :] = y_approx[1, :, :]\n",
    "# y_approx_actual[2, :, :] = y_approx[2, :, :] * (y_max[2] - y_min[2]) + y_min[2] \n",
    "\n",
    "# loss=loss_fun(y_approx_actual, y_exact[:,0:68,:]) \n",
    "# print(\"Initial actual loss: %e\" % loss)"
   ]
  },
  {
   "cell_type": "code",
   "execution_count": 330,
   "metadata": {},
   "outputs": [
    {
     "name": "stderr",
     "output_type": "stream",
     "text": [
      "100%|██████████| 200/200 [29:08<00:00,  8.74s/it, loss=0.898]\n"
     ]
    }
   ],
   "source": [
    "history=[]\n",
    "tqdm_epochs = tqdm(range(num_epochs))\n",
    "for e in tqdm_epochs:\n",
    "    y_approx = tdnu(steps[0:68*tskip].long())\n",
    "    loss = loss_fun(y_approx, y_norm[:,0:68,:])\n",
    "    loss_history.append(loss.item())\n",
    "    if loss.item() < min_loss:\n",
    "        best_model_lwr = tdnu\n",
    "    optimizer.zero_grad()\n",
    "    loss.backward(retain_graph=True)\n",
    "    optimizer.step()\n",
    "    history.append(loss.item())\n",
    "    tqdm_epochs.set_postfix({'loss': torch.sum(loss).item()}) \n",
    "    \n",
    "    scheduler.step() "
   ]
  },
  {
   "cell_type": "code",
   "execution_count": 209,
   "metadata": {},
   "outputs": [
    {
     "data": {
      "text/plain": [
       "torch.Size([3, 68, 31])"
      ]
     },
     "execution_count": 209,
     "metadata": {},
     "output_type": "execute_result"
    }
   ],
   "source": [
    "y_approx.shape"
   ]
  },
  {
   "cell_type": "code",
   "execution_count": 331,
   "metadata": {
    "scrolled": false
   },
   "outputs": [
    {
     "data": {
      "image/png": "[encoded data removed]",
      "text/plain": [
       "<Figure size 1200x400 with 3 Axes>"
      ]
     },
     "metadata": {},
     "output_type": "display_data"
    }
   ],
   "source": [
    "tp=1\n",
    "#print(y_approx[tp])\n",
    "#print(y_exact[tp])\n",
    "plt.style.use('default')\n",
    "fig3,ax3=plt.subplots(ncols=3, nrows=1, figsize=(12,4))\n",
    "fig3.subplots_adjust(wspace=0.4)\n",
    "\n",
    "varplot={0: tdnu.k, 1: tdnu.q, 2: tdnu.u}\n",
    "label={0: \"Density $k$ (veh/m)\",\n",
    "       1: \"Flow $q$ (veh/s)\",\n",
    "       2: \"Speed $u$ (m/s)\"}\n",
    "for n in range(3):\n",
    "    ax3[n].plot(xi, y_exact[n,tp,:].detach(), label='observed', marker='o')\n",
    "    if n==1: \n",
    "        ax3[n].plot(varplot[n][tp*tskip].detach(), label='simulated') \n",
    "    else: \n",
    "        ax3[n].plot(varplot[n][tp*tskip].detach(), label='simulated')\n",
    "    #print(k_boundary[tp*tskip])\n",
    "    if n==0:\n",
    "        ax3[n].legend()\n",
    "    ax3[n].set_xlabel(\"Distance (grid points)\")\n",
    "    ax3[n].set_ylabel(label[n])\n",
    "#ax3.set_ylim(0, 0.3)\n",
    "fig3.savefig(\"kqu_parstep10.png\", dpi=300)"
   ]
  },
  {
   "cell_type": "code",
   "execution_count": null,
   "metadata": {},
   "outputs": [],
   "source": []
  },
  {
   "cell_type": "code",
   "execution_count": 153,
   "metadata": {},
   "outputs": [
    {
     "data": {
      "image/png": "[encoded data removed]",
      "text/plain": [
       "<Figure size 1200x400 with 2 Axes>"
      ]
     },
     "metadata": {},
     "output_type": "display_data"
    }
   ],
   "source": [
    "fig4,ax4=plt.subplots(ncols=2, figsize=(12,4))\n",
    "ax4[0].plot((tdnu.kappa).detach())\n",
    "ax4[1].plot((tdnu.vf).detach())\n",
    "[ax4[n].set_xlabel(\"Distance (grid points)\") for n in range(2)]\n",
    "ax4[0].set_ylabel(\"Jam density $k_j$ (Vehicles /m)\")\n",
    "ax4[1].set_ylabel(\"Free velocity $v_f$ (m/s)\")\n",
    "fig4.savefig(\"kj_vf_parstep10.png\", dpi=300)"
   ]
  },
  {
   "cell_type": "code",
   "execution_count": 80,
   "metadata": {},
   "outputs": [],
   "source": [
    "from ipywidgets import widgets\n",
    "import plotly.graph_objects as go\n",
    "import plotly\n",
    "plotly.io.templates.default = 'plotly_dark'"
   ]
  },
  {
   "cell_type": "code",
   "execution_count": 81,
   "metadata": {},
   "outputs": [
    {
     "data": {
      "text/plain": [
       "torch.Size([3, 71, 31])"
      ]
     },
     "execution_count": 81,
     "metadata": {},
     "output_type": "execute_result"
    }
   ],
   "source": [
    "y_exact.shape"
   ]
  },
  {
   "cell_type": "code",
   "execution_count": 82,
   "metadata": {
    "scrolled": false
   },
   "outputs": [
    {
     "data": {
      "application/vnd.jupyter.widget-view+json": {
       "model_id": "56a5408801bd4d9583659a80083e0774",
       "version_major": 2,
       "version_minor": 0
      },
      "text/plain": [
       "IntSlider(value=0, continuous_update=False, description='Time Step', max=70)"
      ]
     },
     "metadata": {},
     "output_type": "display_data"
    },
    {
     "data": {
      "application/vnd.jupyter.widget-view+json": {
       "model_id": "2adf8f501acd4d1c98d09cc8640f71fe",
       "version_major": 2,
       "version_minor": 0
      },
      "text/plain": [
       "FigureWidget({\n",
       "    'data': [{'line': {'width': 2},\n",
       "              'mode': 'lines+markers',\n",
       "              'name'…"
      ]
     },
     "metadata": {},
     "output_type": "display_data"
    }
   ],
   "source": [
    "tslider=widgets.IntSlider(\n",
    "    value=0.0, min=0.0, max=y_exact.shape[1]-1, step=1, description='Time Step', continuous_update=False)\n",
    "\n",
    "tp=0\n",
    "trace1=go.Scatter(y=(tdnu.k[tp*tskip] * (y_max[0] - y_min[0]) + y_min[0]).detach(), mode='lines', name='simulated')\n",
    "trace2=go.Scatter(x=xi, y=y_exact[0,tp,:].detach(), mode='lines+markers', name='observed', line={\"width\": 2})\n",
    "\n",
    "fig = make_subplots(rows=1, cols=1, shared_xaxes=True)\n",
    "\n",
    "fig.add_trace(trace2, row=1, col=1)\n",
    "fig.add_trace(trace1, row=1, col=1)\n",
    "\n",
    "fig.update_yaxes(range=[0, 0.3], row=1, col=1)\n",
    "fig.update_layout(height=500, width=800)\n",
    "fig.update_layout(title=\"%d minutes\" % (tp*tskip/60*dt))\n",
    "fig.update_layout(xaxis_title=\"Distance (km)\", yaxis_title=\"Density\")\n",
    "\n",
    "fo=go.FigureWidget(fig)\n",
    "def update_traces(value):\n",
    "    tp=value[\"new\"]\n",
    "    fo.data[1].y=(tdnu.k[tp*tskip] * (y_max[0] - y_min[0]) + y_min[0]).detach()\n",
    "    fo.data[0].x=xi\n",
    "    fo.data[0].y=y_exact[0,tp,:].detach()\n",
    "    fo.update_layout(title=\"%d minutes\" % (tp*tskip/60*dt))\n",
    "\n",
    "tslider.observe(update_traces, names='value')\n",
    "\n",
    "#fo.data[0].y=td.k[300,:]\n",
    "display(tslider)\n",
    "display(fo)"
   ]
  },
  {
   "cell_type": "code",
   "execution_count": 83,
   "metadata": {},
   "outputs": [
    {
     "data": {
      "text/plain": [
       "torch.Size([3, 71, 31])"
      ]
     },
     "execution_count": 83,
     "metadata": {},
     "output_type": "execute_result"
    }
   ],
   "source": [
    "y_exact.shape"
   ]
  },
  {
   "cell_type": "code",
   "execution_count": 332,
   "metadata": {},
   "outputs": [
    {
     "name": "stdout",
     "output_type": "stream",
     "text": [
      "0.05183321634663276\n",
      "1.5333333333333334\n",
      "32.320992000000004\n"
     ]
    }
   ],
   "source": [
    "k_initial2={}\n",
    "cmps = [\"k\",\"q\",\"u\"]\n",
    "for n,c in enumerate(cmps):\n",
    "    k_initial2[c]=interpolate_initial(y_norm[n,:], t0=68)\n",
    "    print(k_initial2[c].max())"
   ]
  },
  {
   "cell_type": "code",
   "execution_count": 333,
   "metadata": {},
   "outputs": [],
   "source": [
    "k_boundary2 = {var: k_boundary[var][68*tskip:] for var in k_boundary.keys()}"
   ]
  },
  {
   "cell_type": "code",
   "execution_count": 334,
   "metadata": {},
   "outputs": [
    {
     "data": {
      "text/plain": [
       "(144,)"
      ]
     },
     "execution_count": 334,
     "metadata": {},
     "output_type": "execute_result"
    }
   ],
   "source": [
    "k_boundary2[\"k\"].shape\n",
    "k_initial2[\"k\"].shape"
   ]
  },
  {
   "cell_type": "code",
   "execution_count": 339,
   "metadata": {},
   "outputs": [],
   "source": [
    "tdnu = best_model_lwr"
   ]
  },
  {
   "cell_type": "code",
   "execution_count": 340,
   "metadata": {},
   "outputs": [],
   "source": [
    "idx=torch.arange(tdnu.nx) / tdnu.parstep\n",
    "hkappa=tdnu.kappa[idx.long()]\n",
    "hvf=tdnu.vf[idx.long()]\n",
    "#hkappa.shape"
   ]
  },
  {
   "cell_type": "code",
   "execution_count": 341,
   "metadata": {},
   "outputs": [
    {
     "name": "stderr",
     "output_type": "stream",
     "text": [
      "C:\\Users\\STEPHE~1\\AppData\\Local\\Temp/ipykernel_231380/3798043384.py:41: UserWarning: To copy construct from a tensor, it is recommended to use sourceTensor.clone().detach() or sourceTensor.clone().detach().requires_grad_(True), rather than torch.tensor(sourceTensor).\n",
      "  self.kappa=torch.nn.Parameter(torch.tensor(kj[::self.parstep]), requires_grad=True)\n",
      "C:\\Users\\STEPHE~1\\AppData\\Local\\Temp/ipykernel_231380/3798043384.py:45: UserWarning: To copy construct from a tensor, it is recommended to use sourceTensor.clone().detach() or sourceTensor.clone().detach().requires_grad_(True), rather than torch.tensor(sourceTensor).\n",
      "  self.vf=torch.nn.Parameter(torch.tensor(vf[::self.parstep]), requires_grad=True)\n"
     ]
    }
   ],
   "source": [
    "tdnp = Neural_LWR_sparse2_3cmp(nx, dx, dt, hkappa, hvf, xi, tskip, y_max, y_min, \n",
    "                          initial=k_initial2, boundary=k_boundary2,\n",
    "                          fix_vf=False, parstep=10)"
   ]
  },
  {
   "cell_type": "code",
   "execution_count": 342,
   "metadata": {},
   "outputs": [],
   "source": [
    "y_predicted=tdnp(steps[68*tskip:]).detach()"
   ]
  },
  {
   "cell_type": "code",
   "execution_count": 55,
   "metadata": {},
   "outputs": [
    {
     "data": {
      "text/plain": [
       "torch.Size([3, 3, 31])"
      ]
     },
     "execution_count": 55,
     "metadata": {},
     "output_type": "execute_result"
    }
   ],
   "source": [
    "y_predicted[:, 1:, :].shape"
   ]
  },
  {
   "cell_type": "code",
   "execution_count": 343,
   "metadata": {},
   "outputs": [
    {
     "name": "stdout",
     "output_type": "stream",
     "text": [
      "Final actual loss: 2.938707e-01\n"
     ]
    }
   ],
   "source": [
    "loss=loss_fun(y_predicted, y_exact[:, 68:, :]) \n",
    "print(\"Final actual loss: %e\" % loss) "
   ]
  },
  {
   "cell_type": "code",
   "execution_count": 115,
   "metadata": {},
   "outputs": [
    {
     "name": "stdout",
     "output_type": "stream",
     "text": [
      "Final actual loss: 5.296795e-01\n"
     ]
    }
   ],
   "source": [
    "# ## re-transform: testing loss without normalization (used for comparison)\n",
    "# y_predicted_actual = torch.zeros(y_predicted.shape) \n",
    "# y_predicted_actual[0, :, :] = y_predicted[0, :, :] * (y_max[0] - y_min[0]) + y_min[0]\n",
    "# y_predicted_actual[1, :, :] = y_predicted[1, :, :]\n",
    "# y_predicted_actual[2, :, :] = y_predicted[2, :, :] * (y_max[2] - y_min[2]) + y_min[2] \n",
    "\n",
    "# loss=loss_fun(y_predicted_actual, y_exact[:, 68:, :]) \n",
    "# print(\"Final actual loss: %e\" % loss) "
   ]
  },
  {
   "cell_type": "code",
   "execution_count": 160,
   "metadata": {},
   "outputs": [
    {
     "data": {
      "text/plain": [
       "0.3897261"
      ]
     },
     "execution_count": 160,
     "metadata": {},
     "output_type": "execute_result"
    }
   ],
   "source": [
    "3.897261e-01"
   ]
  },
  {
   "cell_type": "code",
   "execution_count": 90,
   "metadata": {},
   "outputs": [
    {
     "data": {
      "text/plain": [
       "torch.Size([3, 3, 31])"
      ]
     },
     "execution_count": 90,
     "metadata": {},
     "output_type": "execute_result"
    }
   ],
   "source": [
    "y_predicted.shape"
   ]
  },
  {
   "cell_type": "code",
   "execution_count": 96,
   "metadata": {},
   "outputs": [
    {
     "data": {
      "text/plain": [
       "torch.Size([150])"
      ]
     },
     "execution_count": 96,
     "metadata": {},
     "output_type": "execute_result"
    }
   ],
   "source": [
    "steps[68*tskip:].shape"
   ]
  },
  {
   "cell_type": "code",
   "execution_count": 91,
   "metadata": {},
   "outputs": [
    {
     "ename": "FileNotFoundError",
     "evalue": "[Errno 2] No such file or directory: '5S_station_names.json'",
     "output_type": "error",
     "traceback": [
      "\u001b[1;31m---------------------------------------------------------------------------\u001b[0m",
      "\u001b[1;31mFileNotFoundError\u001b[0m                         Traceback (most recent call last)",
      "\u001b[1;32m<ipython-input-91-6288f4c6d1e2>\u001b[0m in \u001b[0;36m<module>\u001b[1;34m\u001b[0m\n\u001b[1;32m----> 1\u001b[1;33m \u001b[0mstation_names\u001b[0m\u001b[1;33m=\u001b[0m\u001b[0mlist\u001b[0m\u001b[1;33m(\u001b[0m\u001b[0mjson\u001b[0m\u001b[1;33m.\u001b[0m\u001b[0mload\u001b[0m\u001b[1;33m(\u001b[0m\u001b[0mopen\u001b[0m\u001b[1;33m(\u001b[0m\u001b[1;34m\"5S_station_names.json\"\u001b[0m\u001b[1;33m,\u001b[0m \u001b[1;34m\"rb\"\u001b[0m\u001b[1;33m)\u001b[0m\u001b[1;33m)\u001b[0m\u001b[1;33m.\u001b[0m\u001b[0mvalues\u001b[0m\u001b[1;33m(\u001b[0m\u001b[1;33m)\u001b[0m\u001b[1;33m)\u001b[0m\u001b[1;33m\u001b[0m\u001b[1;33m\u001b[0m\u001b[0m\n\u001b[0m\u001b[0;32m      2\u001b[0m \u001b[0mrecord_times\u001b[0m\u001b[1;33m=\u001b[0m\u001b[0mjson\u001b[0m\u001b[1;33m.\u001b[0m\u001b[0mload\u001b[0m\u001b[1;33m(\u001b[0m\u001b[0mopen\u001b[0m\u001b[1;33m(\u001b[0m\u001b[1;34m\"5S_record_times.json\"\u001b[0m\u001b[1;33m,\u001b[0m \u001b[1;34m\"r\"\u001b[0m\u001b[1;33m)\u001b[0m\u001b[1;33m)\u001b[0m\u001b[1;33m\u001b[0m\u001b[1;33m\u001b[0m\u001b[0m\n\u001b[0;32m      3\u001b[0m \u001b[1;31m#record_times\u001b[0m\u001b[1;33m\u001b[0m\u001b[1;33m\u001b[0m\u001b[1;33m\u001b[0m\u001b[0m\n",
      "\u001b[1;31mFileNotFoundError\u001b[0m: [Errno 2] No such file or directory: '5S_station_names.json'"
     ]
    }
   ],
   "source": [
    "station_names=list(json.load(open(\"5S_station_names.json\", \"rb\")).values())\n",
    "record_times=json.load(open(\"5S_record_times.json\", \"r\"))\n",
    "#record_times"
   ]
  },
  {
   "cell_type": "code",
   "execution_count": 92,
   "metadata": {},
   "outputs": [
    {
     "data": {
      "text/plain": [
       "torch.Size([3, 71, 31])"
      ]
     },
     "execution_count": 92,
     "metadata": {},
     "output_type": "execute_result"
    }
   ],
   "source": [
    "y_exact.shape"
   ]
  },
  {
   "cell_type": "code",
   "execution_count": 93,
   "metadata": {},
   "outputs": [],
   "source": [
    "#gridspec.GridSpec?\n",
    "#plt.subplots?"
   ]
  },
  {
   "cell_type": "code",
   "execution_count": 344,
   "metadata": {},
   "outputs": [
    {
     "data": {
      "text/plain": [
       "array([ 0.  ,  0.25,  0.5 ,  0.75,  1.  ,  1.25,  1.5 ,  1.75,  2.  ,\n",
       "        2.25,  2.5 ,  2.75,  3.  ,  3.25,  3.5 ,  3.75,  4.  ,  4.25,\n",
       "        4.5 ,  4.75,  5.  ,  5.25,  5.5 ,  5.75,  6.  ,  6.25,  6.5 ,\n",
       "        6.75,  7.  ,  7.25,  7.5 ,  7.75,  8.  ,  8.25,  8.5 ,  8.75,\n",
       "        9.  ,  9.25,  9.5 ,  9.75, 10.  , 10.25, 10.5 , 10.75, 11.  ,\n",
       "       11.25, 11.5 , 11.75, 12.  , 12.25, 12.5 , 12.75, 13.  , 13.25,\n",
       "       13.5 , 13.75, 14.  , 14.25, 14.5 , 14.75, 15.  , 15.25, 15.5 ,\n",
       "       15.75, 16.  , 16.25, 16.5 , 16.75, 17.  , 17.25, 17.5 , 17.75,\n",
       "       18.  , 18.25, 18.5 , 18.75, 19.  , 19.25, 19.5 , 19.75, 20.  ,\n",
       "       20.25, 20.5 , 20.75, 21.  , 21.25, 21.5 , 21.75, 22.  , 22.25,\n",
       "       22.5 , 22.75, 23.  , 23.25, 23.5 , 23.75, 24.  , 24.25, 24.5 ,\n",
       "       24.75, 25.  , 25.25, 25.5 , 25.75, 26.  , 26.25, 26.5 , 26.75,\n",
       "       27.  , 27.25, 27.5 , 27.75, 28.  , 28.25, 28.5 , 28.75, 29.  ,\n",
       "       29.25, 29.5 , 29.75, 30.  , 30.25, 30.5 , 30.75, 31.  , 31.25,\n",
       "       31.5 , 31.75, 32.  , 32.25, 32.5 , 32.75, 33.  , 33.25, 33.5 ,\n",
       "       33.75, 34.  , 34.25, 34.5 , 34.75, 35.  , 35.25, 35.5 , 35.75])"
      ]
     },
     "execution_count": 344,
     "metadata": {},
     "output_type": "execute_result"
    }
   ],
   "source": [
    "xd=np.arange(0., tdnu.nx*tdnu.dx, tdnu.dx) / 1.e3\n",
    "xd"
   ]
  },
  {
   "cell_type": "code",
   "execution_count": 345,
   "metadata": {
    "scrolled": false
   },
   "outputs": [
    {
     "data": {
      "image/png": "[encoded data removed]",
      "text/plain": [
       "<Figure size 800x600 with 3 Axes>"
      ]
     },
     "metadata": {},
     "output_type": "display_data"
    }
   ],
   "source": [
    "tp=70\n",
    "plt.style.use('default')\n",
    "\n",
    "from matplotlib import gridspec\n",
    "\n",
    "fwyp=[xi[n]*dx/1.e3 for n in range(len(xi))]\n",
    "\n",
    "#gs = gridspec.GridSpec(3, 1, height_ratios=[2, 1, 1]) \n",
    "gs_kw={\"height_ratios\": [3, 1, 1]}\n",
    "\n",
    "fig4,ax4=plt.subplots(figsize=(8,6), nrows=3, gridspec_kw=gs_kw, sharex=True)\n",
    "fig4.subplots_adjust(left=0.08, bottom=0.08, right=0.98, top=0.95)\n",
    "ymin=[0.02, 0.5, 20]\n",
    "ymax=[0.30, 2.0, 40]\n",
    "\n",
    "for n in range(3): \n",
    "    if n==1: \n",
    "        ax4[n].plot(fwyp, y_norm[n,tp,:].detach(), label='observed', marker='o')\n",
    "        ax4[n].plot(fwyp, y_predicted[n,tp-68,:].detach(), label='predicted', marker='o') \n",
    "    else: \n",
    "        ax4[n].plot(fwyp, (y_norm[n,tp,:]).detach(), label='observed', marker='o')\n",
    "        ax4[n].plot(fwyp, (y_predicted[n,tp-68,:]).detach(), label='predicted', marker='o')\n",
    "#     if n==0:\n",
    "# #         ax4[n].set_title(record_times[tp])\n",
    "#         ax4[n].plot(xd, (hkappa).detach(), label=\"$k_j$\", color='green', linestyle='dashed')\n",
    "#         ax4[n].legend(loc=\"upper left\")\n",
    "    if n==2:\n",
    "        ax4[n].plot(xd, (hvf).detach(), label=\"$v_f$\", color='green', linestyle='dashed')\n",
    "        \n",
    "    ax4[n].set_ylim(ymin[n], ymax[n])\n",
    "    #ax4[n].set_xlabel(\"Distance (grid points)\")\n",
    "    ax4[n].set_ylabel(label[n])\n",
    "\n",
    "    #ax4[n].set_xlim(fwyp[0]-1, fwyp[-1]+1)\n",
    "\n",
    "    lastpoint=-100\n",
    "    if n==0:\n",
    "        for p in range(len(xi)):\n",
    "            if (fwyp[p] - lastpoint) > 1.:\n",
    "                ax4[n].text(fwyp[p], (y_norm[n,tp,:]).detach()[p]+0.02, \"none\", rotation=90, fontsize=8)\n",
    "                lastpoint=fwyp[p]\n",
    "    \n",
    "ax4[2].set_xlabel(\"Relative distance from North to South (km)\")\n",
    "#ax4[n].set_ylabel(\"Traffic density (Veh/m)\")\n",
    "fig4.savefig('LWR_prediction_5S.jpg', dpi=300)"
   ]
  },
  {
   "cell_type": "code",
   "execution_count": 165,
   "metadata": {},
   "outputs": [
    {
     "data": {
      "text/plain": [
       "tensor([ 2.2614,  2.2614,  2.2614,  2.2614,  2.2614,  2.2614,  2.2614,  2.2614,\n",
       "         2.2614,  2.2614,  1.8393,  1.8393,  1.8393,  1.8393,  1.8393,  1.8393,\n",
       "         1.8393,  1.8393,  1.8393,  1.8393,  2.0592,  2.0592,  2.0592,  2.0592,\n",
       "         2.0592,  2.0592,  2.0592,  2.0592,  2.0592,  2.0592,  2.0306,  2.0306,\n",
       "         2.0306,  2.0306,  2.0306,  2.0306,  2.0306,  2.0306,  2.0306,  2.0306,\n",
       "         2.3443,  2.3443,  2.3443,  2.3443,  2.3443,  2.3443,  2.3443,  2.3443,\n",
       "         2.3443,  2.3443,  2.3370,  2.3370,  2.3370,  2.3370,  2.3370,  2.3370,\n",
       "         2.3370,  2.3370,  2.3370,  2.3370,  2.1968,  2.1968,  2.1968,  2.1968,\n",
       "         2.1968,  2.1968,  2.1968,  2.1968,  2.1968,  2.1968,  2.3154,  2.3154,\n",
       "         2.3154,  2.3154,  2.3154,  2.3154,  2.3154,  2.3154,  2.3154,  2.3154,\n",
       "         2.2331,  2.2331,  2.2331,  2.2331,  2.2331,  2.2331,  2.2331,  2.2331,\n",
       "         2.2331,  2.2331,  1.9732,  1.9732,  1.9732,  1.9732,  1.9732,  1.9732,\n",
       "         1.9732,  1.9732,  1.9732,  1.9732,  2.2745,  2.2745,  2.2745,  2.2745,\n",
       "         2.2745,  2.2745,  2.2745,  2.2745,  2.2745,  2.2745, -2.9140, -2.9140,\n",
       "        -2.9140, -2.9140, -2.9140, -2.9140, -2.9140, -2.9140, -2.9140, -2.9140],\n",
       "       dtype=torch.float64, grad_fn=<IndexBackward>)"
      ]
     },
     "execution_count": 165,
     "metadata": {},
     "output_type": "execute_result"
    }
   ],
   "source": [
    "hkappa"
   ]
  },
  {
   "cell_type": "code",
   "execution_count": null,
   "metadata": {},
   "outputs": [],
   "source": []
  }
 ],
 "metadata": {
  "kernelspec": {
   "display_name": "Python 3 (ipykernel)",
   "language": "python",
   "name": "python3"
  },
  "language_info": {
   "codemirror_mode": {
    "name": "ipython",
    "version": 3
   },
   "file_extension": ".py",
   "mimetype": "text/x-python",
   "name": "python",
   "nbconvert_exporter": "python",
   "pygments_lexer": "ipython3",
   "version": "3.9.6"
  }
 },
 "nbformat": 4,
 "nbformat_minor": 2
}
