{
 "cells": [
  {
   "cell_type": "markdown",
   "metadata": {},
   "source": [
    "## Numerical Solution of LWR model:\n",
    "\n",
    "Lighthill-Whitham-Richards model (commonly used for traffic flow):\n",
    "\n",
    "\\begin{equation}\n",
    "\\frac{\\partial q}{\\partial x} + \\frac{\\partial k}{\\partial t} = 0\n",
    "\\end{equation}\n",
    "\n",
    "But $q$ is a function of $k$ (Greenshield model): \n",
    "$$\n",
    "q(k) = k(k_j - k) = k k_j -k^2\n",
    "$$\n",
    "\n",
    "Therefore\n",
    "$$\n",
    "\\frac{\\partial k}{\\partial t} + \\frac{dq}{dk}\\frac{\\partial k}{\\partial x} =0\n",
    "$$\n",
    "\n",
    "$$\n",
    "\\frac{d(q(k))}{dk} = 1(k_j - k) + k(-1) = k_j - 2k\n",
    "$$\n",
    "\n",
    "And\n",
    "$$\n",
    "\\frac{\\partial k}{\\partial t} + (k_j - 2k) \\frac{\\partial k}{\\partial x} = 0\n",
    "$$"
   ]
  },
  {
   "cell_type": "markdown",
   "metadata": {},
   "source": [
    "$$\n",
    "\\frac{\\partial k}{\\partial t} = (2k - k_j) \\frac{\\partial k}{\\partial x}\n",
    "$$"
   ]
  },
  {
   "cell_type": "markdown",
   "metadata": {},
   "source": [
    "\\begin{equation}\n",
    "\\frac{k(t+\\Delta t, x_n) - k(t, x_n)}{\\Delta t} =  \\left(2k(t, x) - k_j\\right) \\frac{\\partial k}{\\partial x}\n",
    "\\end{equation}"
   ]
  },
  {
   "cell_type": "markdown",
   "metadata": {},
   "source": [
    "\\begin{align}\n",
    "k(t + \\Delta t, x_n) =& k(t, x) + \\Delta t \\left(2k(t, x) - k_j\\right) \\frac{\\partial k}{\\partial x}\n",
    "\\end{align}"
   ]
  },
  {
   "cell_type": "markdown",
   "metadata": {},
   "source": [
    "\\begin{align}\n",
    "\\frac{\\partial{k}}{\\partial x} \\approx \\frac{k(t, x + \\Delta x) - k(t,x - \\Delta x)}{2 \\Delta x} \\\\\n",
    "                               \\approx \\frac{k(t, x + \\Delta x) - k(t, x)}{\\Delta x} \\\\\n",
    "\\end{align}"
   ]
  },
  {
   "cell_type": "markdown",
   "metadata": {},
   "source": [
    "If I remember correctly the central difference formula is unstable when used with the forward time step, \n",
    "but I will check into this.\n",
    "\n",
    "**Update:** Yes, that's correct.  See Gaddam *et al.*., 2015.  Only the upwind scheme is stable, downwind and central are unstable.  Alternative leapfrog \n",
    "or higher order methods are mentioned in this reference.\n",
    "\n",
    "Discretizing along t_i for i=0,$n_t$ and x_n for n=0, $n_x$.\n",
    "$k_n^i$ equals the traffic density at time $t_i$ and position $n_i$.\n",
    "\n",
    "Sampling rates are $\\Delta t$ and $\\Delta x$, respectively.\n",
    "$k_j(x)$ is location dependent.  Call it $\\kappa_n$."
   ]
  },
  {
   "cell_type": "markdown",
   "metadata": {},
   "source": [
    "$$\n",
    "k_n^{i+1} = k_n^i + \\Delta t  (2 k_n^i - \\kappa_n) \\frac{k_{n+1}^i - k_n^i}{\\Delta x}\n",
    "$$"
   ]
  },
  {
   "cell_type": "markdown",
   "metadata": {},
   "source": [
    "In a real world scenario, we wouldn't have data at every point along the discretized distance.\n",
    "This is different from the scenario tested here.  Therefore, the functions needs to be modified\n",
    "to internally calculate points with the discretization distance needed to fulfill the stability criterion, while outputting predictions only where data is available."
   ]
  },
  {
   "cell_type": "code",
   "execution_count": 1,
   "metadata": {},
   "outputs": [],
   "source": [
    "import numpy as np"
   ]
  },
  {
   "cell_type": "code",
   "execution_count": 2,
   "metadata": {},
   "outputs": [],
   "source": [
    "import plotly.express as px\n",
    "import plotly.graph_objects as go\n",
    "from plotly.subplots import make_subplots\n",
    "from ipywidgets import widgets"
   ]
  },
  {
   "cell_type": "code",
   "execution_count": 3,
   "metadata": {},
   "outputs": [],
   "source": [
    "import torch \n",
    "import torch.nn as nn"
   ]
  },
  {
   "cell_type": "code",
   "execution_count": 4,
   "metadata": {},
   "outputs": [
    {
     "name": "stdout",
     "output_type": "stream",
     "text": [
      "cpu\n"
     ]
    }
   ],
   "source": [
    "# device = torch.device(\"cuda\" if torch.cuda.is_available() else \"cpu\")\n",
    "import os\n",
    "#os.environ[\"CUDA_DEVICE_ORDER\"]=\"PCI_BUS_ID\"\n",
    "#os.environ[\"CUDA_VISIBLE_DEVICES\"]=\"4\"\n",
    "device = torch.device(\"cpu\")\n",
    "print(device)\n",
    "import matplotlib.pyplot as plt\n",
    "from tqdm import tqdm"
   ]
  },
  {
   "cell_type": "code",
   "execution_count": 5,
   "metadata": {},
   "outputs": [],
   "source": [
    "import matplotlib.pyplot as plt\n",
    "plt.style.use('dark_background')"
   ]
  },
  {
   "cell_type": "code",
   "execution_count": 6,
   "metadata": {},
   "outputs": [],
   "source": [
    "import torch.nn.functional as F\n",
    "\n",
    "class Encoder(nn.Module):\n",
    "    def __init__(self, input_dim = 360, embedding_dim = 512, hidden_dim = 512):\n",
    "        super(Encoder, self).__init__()\n",
    "        self.hidden_dim = hidden_dim\n",
    "\n",
    "        self.linear = nn.Linear(input_dim, embedding_dim)\n",
    "        self.lstm = nn.LSTMCell(embedding_dim, hidden_dim)\n",
    "\n",
    "    def forward(self, x, hidden): \n",
    "        embedded = F.relu(self.linear(x))\n",
    "        hidden = self.lstm(embedded, hidden)\n",
    "        return hidden\n",
    "    \n",
    "class Decoder(nn.Module):\n",
    "    def __init__(self, embedding_dim = 512, hidden_dim = 512, output_dim = 360 - 3):\n",
    "        super(Decoder, self).__init__()\n",
    "        self.hidden_dim = hidden_dim\n",
    "\n",
    "        self.linear1 = nn.Linear(output_dim, embedding_dim)\n",
    "        self.lstm1 = nn.LSTMCell(embedding_dim, hidden_dim)\n",
    "        self.linear2 = nn.Linear(hidden_dim, output_dim - 3)\n",
    "\n",
    "    def forward(self, x, hidden):\n",
    "        embedded = F.relu(self.linear1(x))\n",
    "        hidden = self.lstm1(embedded, hidden)\n",
    "        output = self.linear2(hidden[0])\n",
    "        return output, hidden \n",
    "    \n",
    "class Seq2Seq(nn.Module): \n",
    "    def __init__(self, input_dim = 360, embedding_dim = 512, hidden_dim = 512, output_dim = 360):\n",
    "        super(Seq2Seq, self).__init__()\n",
    "        self.input_dim = input_dim\n",
    "        self.encoder = Encoder(input_dim, embedding_dim, hidden_dim)\n",
    "        self.decoder = Decoder(embedding_dim, hidden_dim, output_dim)\n",
    "        \n",
    "    def forward(self, x, boundary, output_length): \n",
    "#         print(x.shape)\n",
    "        x = x.permute(0, 2, 1).float().to(device)  # (3, 120, 50)\n",
    "        x = x.reshape(x.shape[0] * x.shape[1], -1) \n",
    "        x = x.unsqueeze(dim = 0)  # (1, 3*120, 50)\n",
    "\n",
    "        decoder_outputs = torch.zeros((1, x.shape[1], output_length)).float().to(device) \n",
    "        \n",
    "        h_0 = torch.zeros(1, self.encoder.hidden_dim).to(device)\n",
    "        c_0 = torch.zeros(1, self.encoder.hidden_dim).to(device)\n",
    "        encoder_hidden = (h_0,c_0)\n",
    "        \n",
    "        for ei in range(x.shape[2]):\n",
    "            encoder_input = x[0, :, ei].unsqueeze(dim = 0)\n",
    "            encoder_hidden = self.encoder(encoder_input, encoder_hidden) \n",
    "            \n",
    "        decoder_input = encoder_input\n",
    "        decoder_hidden = encoder_hidden\n",
    "        \n",
    "        for di in range(output_length):\n",
    "            decoder_output, decoder_hidden = self.decoder(decoder_input, decoder_hidden)\n",
    "#             print(boundary[:, di].shape)\n",
    "#             print(decoder_output.shape)\n",
    "            decoder_output = torch.cat((boundary[:, di].unsqueeze(0), decoder_output), dim = 1) \n",
    "            decoder_outputs[:, :, di] = decoder_output\n",
    "            decoder_input = decoder_output\n",
    "        \n",
    "        decoder_outputs = decoder_outputs.squeeze()\n",
    "        outputs = decoder_outputs.reshape(3, 120, output_length) \n",
    "        outputs = outputs.permute(0, 2, 1)\n",
    "        \n",
    "        return outputs"
   ]
  },
  {
   "cell_type": "code",
   "execution_count": 106,
   "metadata": {},
   "outputs": [],
   "source": [
    "## based on initial value\n",
    "class FC(nn.Module): \n",
    "    def __init__(self, input_dim, seq_length, hidden_dim, output_dim): \n",
    "        super(FC, self).__init__()\n",
    "        self.input_dim = input_dim \n",
    "        self.seq_length = seq_length\n",
    "        self.hidden_dim = hidden_dim\n",
    "        self.output_dim = output_dim\n",
    "\n",
    "        self.fc = nn.Sequential(\n",
    "            nn.Linear(input_dim * seq_length, hidden_dim), \n",
    "            nn.ReLU(), \n",
    "            nn.Linear(hidden_dim, hidden_dim), \n",
    "            nn.ReLU(), \n",
    "            nn.Linear(hidden_dim, hidden_dim), \n",
    "            nn.ReLU(), \n",
    "            nn.Linear(hidden_dim, hidden_dim), \n",
    "            nn.ReLU(), \n",
    "            nn.Linear(hidden_dim, output_dim) \n",
    "        )\n",
    "    \n",
    "    def forward(self, x, output_length): \n",
    "        x = x.permute(0, 2, 1).float().to(device)  ## 3, x, t\n",
    "        x = x.reshape(x.shape[0] * x.shape[1] * x.shape[2]) \n",
    "\n",
    "        outputs = torch.zeros((360, output_length)).float().to(device) \n",
    "#         print(outputs.shape)\n",
    "        for i in range(output_length): \n",
    "            out = self.fc(x)\n",
    "            if self.seq_length != 1: \n",
    "                x = torch.cat((x[self.input_dim:], out), dim = 0)\n",
    "            else: \n",
    "                x = out\n",
    "            outputs[:, i] = out\n",
    "            \n",
    "        outputs = outputs.reshape(3, 120, output_length) \n",
    "        outputs = outputs.permute(0, 2, 1)\n",
    "        return outputs"
   ]
  },
  {
   "cell_type": "code",
   "execution_count": 45,
   "metadata": {},
   "outputs": [],
   "source": [
    "def loss_fn(output, target, weight, xi, ti): \n",
    "    output_mse = output[:, :, xi][:, ti, :]\n",
    "    mse_loss = torch.mean((output_mse - target)**2) \n",
    "    \n",
    "    dk_dt = (output[0, 1:, :] - output[0, :-1, :]) / 60\n",
    "    dq_dx = (output[1, :, 1:] - output[1, :, :-1]) / 300\n",
    "    dk_dt = torch.cat((torch.zeros(1, output.shape[2]), dk_dt), dim = 0) \n",
    "    dq_dx = torch.cat((torch.zeros(output.shape[1], 1), dq_dx), dim = 1)\n",
    "\n",
    "    l2norm_loss = torch.linalg.norm(dq_dx + dk_dt) \n",
    "    \n",
    "    loss = weight[0] * mse_loss + weight[1] * l2norm_loss\n",
    "    return mse_loss"
   ]
  },
  {
   "cell_type": "code",
   "execution_count": 74,
   "metadata": {},
   "outputs": [],
   "source": [
    "def loss_PDE(output): \n",
    "#     output_mse = output[:, :, xi][:, ti, :]\n",
    "#     mse_loss = torch.mean((output_mse - target)**2) \n",
    "    \n",
    "    dk_dt = (output[0, 1:, :] - output[0, :-1, :]) / 60\n",
    "    dq_dx = (output[1, :, 1:] - output[1, :, :-1]) / 300\n",
    "    dk_dt = torch.cat((torch.zeros(1, output.shape[2]), dk_dt), dim = 0) \n",
    "    dq_dx = torch.cat((torch.zeros(output.shape[1], 1), dq_dx), dim = 1)\n",
    "    \n",
    "    ## dq_dx + dk_dt = 0\n",
    "    l2norm_loss = torch.linalg.norm(dq_dx + dk_dt) \n",
    "    \n",
    "#     loss = weight[0] * mse_loss + weight[1] * l2norm_loss\n",
    "    return l2norm_loss"
   ]
  },
  {
   "cell_type": "markdown",
   "metadata": {},
   "source": [
    "## PINN \n",
    "PINN is not a good solution for this traffic forecasting problem. It requires data on every gridpoint along with additional input t and x in order to pass into the surrogate model.  \n",
    "The time interval of PEMS data is 5 mins, and the space distance between sensors is different. Requires discretization and also data on each point, which doesnt exist by now. "
   ]
  },
  {
   "cell_type": "code",
   "execution_count": 8,
   "metadata": {},
   "outputs": [],
   "source": [
    "## Fully-connected network (initial value) + PDE cost function\n",
    "\n",
    "# class PINN(nn.Module): \n",
    "#     def __init__(self, initial, boundary, input_dim, seq_length, hidden_dim, output_dim): \n",
    "#         super(PINN, self).__init__() \n",
    "\n",
    "#         self.initial = initial  # (3, 120)\n",
    "#         self.boundary = boundary  # (3, 4550) \n",
    "#         self.seq_length = seq_length \n",
    "        \n",
    "#         self.net1 = FC(input_dim, 1, hidden_dim, output_dim) \n",
    "# #         self.net2 = FC(input_dim, seq_length, hidden_dim * 2, output_dim)\n",
    "    \n",
    "\n",
    "#     def forward(self, output_length): \n",
    "#         # predict k, q, u in the next 5 mins (50 dt)\n",
    " \n",
    "#         outputs = [] ## (3, nx, output_length) \n",
    "#         odeInput = self.initial.unsqueeze(dim = 1)\n",
    "#         outputs.append(odeInput)\n",
    "# #         initial_t = torch.zeros((odeInput.shape), requires_grad = True)\n",
    "# #         initial_n = torch.zeros((odeInput.shape), requires_grad = True)\n",
    "#         ## initial 5 min timestep \n",
    "#         output = self.net1(odeInput, 5 * output_length) \n",
    "#         outputs.append(output)\n",
    "# #         outputs.append(output[:, -1, :]) \n",
    "        \n",
    "#         ###\n",
    "#         # Grad version: append t (120, 5) and n (120, 5) to the input and pass (120 * 5) into LSTM cell\n",
    "#         # Approx version: none\n",
    "#         ###\n",
    "# #         all_grads = []\n",
    "# #         ## compute grad \n",
    "# #         dk_dt = grad(outputs = output[0, :, :], inputs = t, grad_outputs=torch.ones_like(t), allow_unused=True) \n",
    "# #         dq_dx = grad(outputs = output[1, :, :], inputs = n, grad_outputs=torch.ones_like(t), allow_unused=True) \n",
    "# #         all_grads.append((dk_dt, dq_dx)) \n",
    "        \n",
    "#         ## recurrent 5 min timesteps\n",
    "# #         for i in range(0, output_length - 1): \n",
    "# # #             print(self.boundary[:, 50 * i:50 * i + 50].shape)\n",
    "# # #             print(output.shape) \n",
    "# #             odeInput = output \n",
    "# #             odeInput[:, :, 0] = self.boundary[:, 5 * i + 1:5 * i + 6]\n",
    "# #             output = self.net2(odeInput, 5) \n",
    "# #             outputs.append(output)\n",
    "\n",
    "#         outputs = torch.cat(outputs, dim = 1) \n",
    "#         print(outputs.shape)\n",
    "# #         outputs = outputs.permute(0, 2, 1)  # (3, output_length, nx)\n",
    "        \n",
    "#         return outputs   "
   ]
  },
  {
   "cell_type": "code",
   "execution_count": 53,
   "metadata": {},
   "outputs": [],
   "source": [
    "## seq_to_seq (initial value) + PDE cost function\n",
    "\n",
    "class PINN_RNN(nn.Module): \n",
    "    def __init__(self, nx, dx, dt, input_dim, embedding_dim, hidden_dim, output_dim): \n",
    "        super(PINN_RNN, self).__init__() \n",
    "        self.nx = nx \n",
    "        self.dx = torch.tensor(dx)\n",
    "        self.dt = torch.tensor(dt)\n",
    "#         self.initial = initial  # (3, 120)\n",
    "#         self.boundary = boundary  # (3, 4550)\n",
    "        \n",
    "        self.net = Seq2Seq(input_dim, embedding_dim, hidden_dim, output_dim) \n",
    "    \n",
    "\n",
    "    def forward(self, initial, boundary, output_length): \n",
    "        # predict k, q, u in the next 5 mins (50 dt)\n",
    "#         outputs_all = []  ## (3, nx, output_length)  \n",
    "        outputs = [] ## (3, nx, output_length) \n",
    "        odeInput = initial.unsqueeze(dim = 1)\n",
    "        outputs.append(odeInput)\n",
    "#         initial_t = torch.zeros((odeInput.shape), requires_grad = True)\n",
    "#         initial_n = torch.zeros((odeInput.shape), requires_grad = True)\n",
    "        ## initial 5 min timestep \n",
    "        output = self.net(odeInput, boundary[:, 0:5], 5)\n",
    "        outputs.append(output)\n",
    "#         outputs.append(output[:, -1, :]) \n",
    "        \n",
    "        ###\n",
    "        # Grad version: append t (120, 50) and n (120, 50) to the input and pass (120 * 5) into LSTM cell\n",
    "        # Approx version: none\n",
    "        ###\n",
    "#         all_grads = []\n",
    "#         ## compute grad \n",
    "#         dk_dt = grad(outputs = output[0, :, :], inputs = t, grad_outputs=torch.ones_like(t), allow_unused=True) \n",
    "#         dq_dx = grad(outputs = output[1, :, :], inputs = n, grad_outputs=torch.ones_like(t), allow_unused=True) \n",
    "#         all_grads.append((dk_dt, dq_dx)) \n",
    "        \n",
    "        ## recurrent 5 min timesteps\n",
    "        for i in range(1, output_length): \n",
    "            odeInput = output \n",
    "#             odeInput = torch.cat((self.boundary[:, 50 * i:50 * i + 50], output), dim = 1) \n",
    "            output = self.net(odeInput, boundary[:, 5 * i:5 * i + 5], 5) \n",
    "            outputs.append(output)\n",
    "\n",
    "        outputs = torch.cat(outputs, dim = 1) \n",
    "        print(outputs.shape)\n",
    "#         outputs = outputs.permute(0, 2, 1)  # (3, output_length, nx)\n",
    "        \n",
    "        return outputs    "
   ]
  },
  {
   "cell_type": "code",
   "execution_count": 15,
   "metadata": {},
   "outputs": [
    {
     "data": {
      "text/plain": [
       "array([[    0.,     0.,     0., ...,     0.,     0.,     0.],\n",
       "       [  300.,   300.,   300., ...,   300.,   300.,   300.],\n",
       "       [  600.,   600.,   600., ...,   600.,   600.,   600.],\n",
       "       ...,\n",
       "       [35100., 35100., 35100., ..., 35100., 35100., 35100.],\n",
       "       [35400., 35400., 35400., ..., 35400., 35400., 35400.],\n",
       "       [35700., 35700., 35700., ..., 35700., 35700., 35700.]])"
      ]
     },
     "execution_count": 15,
     "metadata": {},
     "output_type": "execute_result"
    }
   ],
   "source": [
    "## to calculate gradient wrt. t and x (expand input dimension to 5 x nt x nx)\n",
    "\n",
    "n = np.linspace(0, (120 - 1) * 300, 120)\n",
    "_, nn = np.meshgrid(np.zeros(50), n)\n",
    "nn"
   ]
  },
  {
   "cell_type": "code",
   "execution_count": 9,
   "metadata": {},
   "outputs": [
    {
     "name": "stdout",
     "output_type": "stream",
     "text": [
      "torch.Size([3, 71, 31])\n"
     ]
    }
   ],
   "source": [
    "y_exact=torch.load(\"5S_191111_3cmp_torch.pt\").to(device)\n",
    "#first row (0) k, then (1) q, then (2) u\n",
    "#y_exact=y_exact[0:5,:]\n",
    "print(y_exact.shape)"
   ]
  },
  {
   "cell_type": "code",
   "execution_count": 10,
   "metadata": {},
   "outputs": [
    {
     "data": {
      "text/plain": [
       "tensor(29.1056, dtype=torch.float64)"
      ]
     },
     "execution_count": 10,
     "metadata": {},
     "output_type": "execute_result"
    }
   ],
   "source": [
    "y_exact[2, :, :].mean() "
   ]
  },
  {
   "cell_type": "code",
   "execution_count": 11,
   "metadata": {
    "scrolled": true
   },
   "outputs": [
    {
     "data": {
      "text/plain": [
       "tensor(0.0456, dtype=torch.float64)"
      ]
     },
     "execution_count": 11,
     "metadata": {},
     "output_type": "execute_result"
    }
   ],
   "source": [
    "y_exact[0,:,:].mean().mean()"
   ]
  },
  {
   "cell_type": "code",
   "execution_count": 12,
   "metadata": {},
   "outputs": [
    {
     "data": {
      "text/plain": [
       "tensor(32.9916, dtype=torch.float64)"
      ]
     },
     "execution_count": 12,
     "metadata": {},
     "output_type": "execute_result"
    }
   ],
   "source": [
    "#maximum observed velocity.  Indication for characteristic velocity $v_f$.\n",
    "y_exact[2,:,:].max()"
   ]
  },
  {
   "cell_type": "code",
   "execution_count": 13,
   "metadata": {},
   "outputs": [
    {
     "data": {
      "text/plain": [
       "tensor(0.0995, dtype=torch.float64)"
      ]
     },
     "execution_count": 13,
     "metadata": {},
     "output_type": "execute_result"
    }
   ],
   "source": [
    "#maximum observed density.  Jam density $k_j$ can not be lower than this!\n",
    "y_exact[0,:,:].max()"
   ]
  },
  {
   "cell_type": "markdown",
   "metadata": {},
   "source": [
    "### Normalization "
   ]
  },
  {
   "cell_type": "code",
   "execution_count": 14,
   "metadata": {},
   "outputs": [],
   "source": [
    "# min-max normalization for k and u \n",
    "# to_transform()\n",
    "y_min = torch.tensor([y_exact[0, :, :].min(), y_exact[1, :, :].min(), y_exact[2, :, :].min()])\n",
    "y_max = torch.tensor([y_exact[0, :, :].max(), y_exact[1, :, :].max(), y_exact[2, :, :].max()])\n",
    "y_norm = torch.zeros(y_exact.shape, dtype = torch.double)\n",
    "y_norm[0, :, :] = (y_exact[0, :, :] - y_min[0]) / (y_max[0] - y_min[0]) \n",
    "y_norm[1, :, :] = (y_exact[1, :, :] - y_min[1]) / (y_max[1] - y_min[1]) \n",
    "# y_norm[1, :, :] = y_exact[1, :, :] \n",
    "y_norm[2, :, :] = (y_exact[2, :, :] - y_min[2]) / (y_max[2] - y_min[2]) "
   ]
  },
  {
   "cell_type": "code",
   "execution_count": 14,
   "metadata": {},
   "outputs": [
    {
     "data": {
      "text/plain": [
       "tensor(0.0069, dtype=torch.float64)"
      ]
     },
     "execution_count": 14,
     "metadata": {},
     "output_type": "execute_result"
    }
   ],
   "source": [
    "y_min[0]"
   ]
  },
  {
   "cell_type": "code",
   "execution_count": 15,
   "metadata": {},
   "outputs": [
    {
     "data": {
      "text/plain": [
       "tensor(0.2100, dtype=torch.float64)"
      ]
     },
     "execution_count": 15,
     "metadata": {},
     "output_type": "execute_result"
    }
   ],
   "source": [
    "y_min[1]"
   ]
  },
  {
   "cell_type": "code",
   "execution_count": 15,
   "metadata": {},
   "outputs": [
    {
     "name": "stdout",
     "output_type": "stream",
     "text": [
      "6.0 3550\n"
     ]
    }
   ],
   "source": [
    "import numpy as np\n",
    "#nx=350  # \n",
    "nx=120\n",
    "#kj needs to be larger than k for the solution to be stable \n",
    "kj = np.ones((nx,), dtype=float) * 0.2\n",
    "kj = (kj - y_min[0].numpy()) / (y_max[0].numpy() - y_min[0].numpy()) # normalize\n",
    "\n",
    "#characteristic velocity (m/s), corresponds to roughly 120 km/h\n",
    "vf = np.ones((nx,), dtype=float) * 33\n",
    "vf = (vf - y_min[2].numpy()) / (y_max[2].numpy() - y_min[2].numpy()) # normalize\n",
    "\n",
    "dx=300.\n",
    "dt=6.\n",
    "#need an output every 5 mins (300 s), so tskip = 3 with dt = 3s\n",
    "tskip=50\n",
    "#nt=int(3600*6/6 - 50)\n",
    "#nt=7099 #6 hours (times 3600 s/hour divided by dt=3s)\n",
    "nto=(y_exact.shape[1]+1) \n",
    "#nt=int(3600*nto/12/6/dt - tskip)\n",
    "dtobs=300\n",
    "nt=int((dtobs*nto)/dt - tskip)\n",
    "print(dt,nt)\n",
    "\n",
    "#assert int(nt/tskip) == nto"
   ]
  },
  {
   "cell_type": "code",
   "execution_count": 11,
   "metadata": {},
   "outputs": [
    {
     "ename": "FileNotFoundError",
     "evalue": "[Errno 2] No such file or directory: '5S_station_pos_idx_dx=0300m.json'",
     "output_type": "error",
     "traceback": [
      "\u001b[1;31m---------------------------------------------------------------------------\u001b[0m",
      "\u001b[1;31mFileNotFoundError\u001b[0m                         Traceback (most recent call last)",
      "\u001b[1;32m<ipython-input-11-13ac1382206b>\u001b[0m in \u001b[0;36m<module>\u001b[1;34m\u001b[0m\n\u001b[0;32m      2\u001b[0m \u001b[1;32mimport\u001b[0m \u001b[0mjson\u001b[0m\u001b[1;33m\u001b[0m\u001b[1;33m\u001b[0m\u001b[0m\n\u001b[0;32m      3\u001b[0m \u001b[1;33m\u001b[0m\u001b[0m\n\u001b[1;32m----> 4\u001b[1;33m \u001b[0mstation_pos_idx\u001b[0m\u001b[1;33m=\u001b[0m\u001b[0mjson\u001b[0m\u001b[1;33m.\u001b[0m\u001b[0mload\u001b[0m\u001b[1;33m(\u001b[0m\u001b[0mopen\u001b[0m\u001b[1;33m(\u001b[0m\u001b[1;34m\"5S_station_pos_idx_dx=%04dm.json\"\u001b[0m \u001b[1;33m%\u001b[0m \u001b[0mint\u001b[0m\u001b[1;33m(\u001b[0m\u001b[0mdx\u001b[0m\u001b[1;33m)\u001b[0m\u001b[1;33m,\u001b[0m \u001b[1;34m\"rb\"\u001b[0m\u001b[1;33m)\u001b[0m\u001b[1;33m)\u001b[0m\u001b[1;33m\u001b[0m\u001b[1;33m\u001b[0m\u001b[0m\n\u001b[0m\u001b[0;32m      5\u001b[0m \u001b[1;31m#station_pos_idx=pd.read_json(\"station_pos_idx.json\")\u001b[0m\u001b[1;33m\u001b[0m\u001b[1;33m\u001b[0m\u001b[1;33m\u001b[0m\u001b[0m\n\u001b[0;32m      6\u001b[0m \u001b[0mxi\u001b[0m\u001b[1;33m=\u001b[0m\u001b[0mlist\u001b[0m\u001b[1;33m(\u001b[0m\u001b[0mstation_pos_idx\u001b[0m\u001b[1;33m.\u001b[0m\u001b[0mvalues\u001b[0m\u001b[1;33m(\u001b[0m\u001b[1;33m)\u001b[0m\u001b[1;33m)\u001b[0m\u001b[1;33m\u001b[0m\u001b[1;33m\u001b[0m\u001b[0m\n",
      "\u001b[1;31mFileNotFoundError\u001b[0m: [Errno 2] No such file or directory: '5S_station_pos_idx_dx=0300m.json'"
     ]
    }
   ],
   "source": [
    "#import pandas as pd\n",
    "import json\n",
    "\n",
    "station_pos_idx=json.load(open(\"5S_station_pos_idx_dx=%04dm.json\" % int(dx), \"rb\"))\n",
    "#station_pos_idx=pd.read_json(\"station_pos_idx.json\")\n",
    "xi=list(station_pos_idx.values())\n",
    "\n",
    "xi0=xi[0]\n",
    "for p in range(len(xi)):\n",
    "    xi[p] = xi[p] - xi0\n",
    "\n",
    "#shift xi's such that model starts at first receiver\n",
    "#(because observed data at this receiver is input at upstream model end)\n",
    "print(xi)\n",
    "#xi=xi-xi[0]\n",
    "#xi"
   ]
  },
  {
   "cell_type": "code",
   "execution_count": 16,
   "metadata": {},
   "outputs": [],
   "source": [
    "xi = [0, 4, 12, 22, 32, 39, 46, 50, 54, 57, 59, 63, 66, 69, 71, 74, 76, 81, 84, 86, 89, 91, 95, 96, 98, 100, 102, 105, 108, 110, 112]"
   ]
  },
  {
   "cell_type": "markdown",
   "metadata": {},
   "source": [
    "The exact solution is provided in cars / km.  However, I changed the units from km and hours to meters and seconds.  Therefore, the density should be divided by 1000.\n",
    "\n",
    "**Update:** Not needed, `avg_occupancy` is already given in cars/meters (check this.  They might be using miles)."
   ]
  },
  {
   "cell_type": "markdown",
   "metadata": {},
   "source": [
    "Defining the initial values of the traffic density in the model.  They need to be defined on every point on the computational grid, not just at those positions where there is data.  I am interpolating them between the sensors, and extrapolating using initial values on the end sensors."
   ]
  },
  {
   "cell_type": "code",
   "execution_count": 17,
   "metadata": {},
   "outputs": [
    {
     "name": "stdout",
     "output_type": "stream",
     "text": [
      "[0, 4, 12, 22, 32, 39, 46, 50, 54, 57, 59, 63, 66, 69, 71, 74, 76, 81, 84, 86, 89, 91, 95, 96, 98, 100, 102, 105, 108, 110, 112]\n"
     ]
    }
   ],
   "source": [
    "from scipy.interpolate import interp1d\n",
    "print(xi)\n",
    "def interpolate_initial(var, t0=0):\n",
    "    IM=interp1d(np.array(xi)*dx, var[t0,:].numpy(), bounds_error=False, \n",
    "                fill_value=(var[t0,0], var[t0,-1]), kind='linear')\n",
    "    \n",
    "    x=np.linspace(0, (nx-1)*dx, nx)\n",
    "    return IM(x)"
   ]
  },
  {
   "cell_type": "code",
   "execution_count": 18,
   "metadata": {},
   "outputs": [
    {
     "name": "stdout",
     "output_type": "stream",
     "text": [
      "0.7202583590443943\n",
      "0.8105095541401275\n",
      "0.9269662921348317\n"
     ]
    }
   ],
   "source": [
    "k_initial={}\n",
    "cmps = [\"k\",\"q\",\"u\"]\n",
    "for n,c in enumerate(cmps):\n",
    "    k_initial[c]=interpolate_initial(y_norm[n,:])\n",
    "    print(k_initial[c].max())"
   ]
  },
  {
   "cell_type": "code",
   "execution_count": 20,
   "metadata": {},
   "outputs": [
    {
     "data": {
      "text/plain": [
       "array([  0.,   6.,  12.,  18.,  24.,  30.,  36.,  42.,  48.,  54.,  60.,\n",
       "        66.,  72.,  78.,  84.,  90.,  96., 102., 108., 114., 120., 126.,\n",
       "       132., 138., 144., 150., 156., 162., 168., 174., 180., 186., 192.,\n",
       "       198., 204., 210., 216., 222., 228., 234., 240., 246., 252., 258.,\n",
       "       264., 270., 276., 282., 288., 294.])"
      ]
     },
     "execution_count": 20,
     "metadata": {},
     "output_type": "execute_result"
    }
   ],
   "source": [
    "np.linspace(0, (50-1)*dt, 50)"
   ]
  },
  {
   "cell_type": "markdown",
   "metadata": {},
   "source": [
    "The boundary condition at the upstream end also need to be interpolated:"
   ]
  },
  {
   "cell_type": "code",
   "execution_count": 19,
   "metadata": {},
   "outputs": [
    {
     "name": "stdout",
     "output_type": "stream",
     "text": [
      "71 3\n",
      "(3550,) 0.43213868956724444\n",
      "(3550,) 0.6114649681528663\n",
      "(3550,) 0.9859550561797752\n"
     ]
    },
    {
     "data": {
      "text/plain": [
       "[<matplotlib.lines.Line2D at 0x1b159019d00>]"
      ]
     },
     "execution_count": 19,
     "metadata": {},
     "output_type": "execute_result"
    },
    {
     "data": {
      "image/png": "[encoded data removed]",
      "text/plain": [
       "<Figure size 432x288 with 1 Axes>"
      ]
     },
     "metadata": {},
     "output_type": "display_data"
    }
   ],
   "source": [
    "ti=np.arange(0, (nt-1)*dt, tskip*dt )\n",
    "print(len(ti), y_norm.shape[0])\n",
    "t=np.linspace(0, (nt-1)*dt, nt)\n",
    "#print(len(ti), len(y_exact))\n",
    "#print(t)\n",
    "\n",
    "k_boundary={}\n",
    "\n",
    "for n,c in enumerate(cmps):\n",
    "    IMb=interp1d(np.array(ti), y_norm[n,:,0].numpy(), bounds_error=False,\n",
    "             fill_value=(y_norm[n,0,0], y_norm[n,-1,0]),\n",
    "             kind='linear')\n",
    "    k_boundary[c]=IMb(t)\n",
    "    print(k_boundary[c].shape, k_boundary[c].max())\n",
    "\n",
    "fig2,ax2=plt.subplots()\n",
    "ax2.plot(ti, y_norm[0,:,0], marker='o', linewidth=0)\n",
    "ax2.plot(t, k_boundary[\"k\"])"
   ]
  },
  {
   "cell_type": "code",
   "execution_count": 24,
   "metadata": {},
   "outputs": [],
   "source": [
    "initial = torch.tensor(np.stack((k_initial[\"k\"], k_initial[\"q\"], k_initial[\"u\"]))).float().to(device)\n",
    "boundary = torch.tensor(np.stack((k_boundary[\"k\"][::10], k_boundary[\"q\"][::10], k_boundary[\"u\"][::10]))).float().to(device)"
   ]
  },
  {
   "cell_type": "code",
   "execution_count": 123,
   "metadata": {},
   "outputs": [
    {
     "data": {
      "text/plain": [
       "torch.Size([3, 355])"
      ]
     },
     "execution_count": 123,
     "metadata": {},
     "output_type": "execute_result"
    }
   ],
   "source": [
    "boundary.shape"
   ]
  },
  {
   "cell_type": "code",
   "execution_count": 55,
   "metadata": {},
   "outputs": [],
   "source": [
    "input_dim = 360 \n",
    "embedding_dim = 512\n",
    "hidden_dim = 512\n",
    "output_dim = 360\n",
    "\n",
    "pinn = PINN_RNN(nx, dx, dt, input_dim, embedding_dim, hidden_dim, output_dim).to(device) \n",
    "\n",
    "# pinn = PINN(initial, boundary, input_dim, seq_length, hidden_dim, output_dim).to(device)"
   ]
  },
  {
   "cell_type": "code",
   "execution_count": 153,
   "metadata": {},
   "outputs": [],
   "source": [
    "#torch.optim.lr_scheduler.StepLR?\n",
    "#torch.optim.SGD?"
   ]
  },
  {
   "cell_type": "code",
   "execution_count": 56,
   "metadata": {},
   "outputs": [],
   "source": [
    "optimizer = torch.optim.Adam(pinn.parameters(), lr=0.01)\n",
    "#optimizer = torch.optim.SGD(tdnu.parameters(), lr=0.001)\n",
    "scheduler = torch.optim.lr_scheduler.StepLR(optimizer, step_size= 5, gamma=0.95) #0.95 #step_size=1\n",
    "#torch.optim.lr_scheduler.StepLR?"
   ]
  },
  {
   "cell_type": "markdown",
   "metadata": {},
   "source": [
    "- reduce time step $\\Delta t$\n",
    "- try different optimizer\n",
    "- reduce learning rate decay (step_size in scheduler) - 500 epochs"
   ]
  },
  {
   "cell_type": "code",
   "execution_count": 38,
   "metadata": {},
   "outputs": [],
   "source": [
    "num_epochs = 100\n",
    "loss_fun = torch.nn.MSELoss()\n",
    "weight = [0.3, 0.7]\n",
    "min_loss = 10"
   ]
  },
  {
   "cell_type": "code",
   "execution_count": 42,
   "metadata": {},
   "outputs": [],
   "source": [
    "xi = [0, 4, 12, 22, 32, 39, 46, 50, 54, 57, 59, 63, 66, 69, 71, 74, 76, 81, 84, 86, 89, 91, 95, 96, 98, 100, 102, 105, 108, 110, 112]"
   ]
  },
  {
   "cell_type": "code",
   "execution_count": 43,
   "metadata": {},
   "outputs": [],
   "source": [
    "ti = np.arange(0, 3400, 50)"
   ]
  },
  {
   "cell_type": "code",
   "execution_count": 32,
   "metadata": {},
   "outputs": [],
   "source": [
    "ti = ti / 60"
   ]
  },
  {
   "cell_type": "code",
   "execution_count": 33,
   "metadata": {},
   "outputs": [
    {
     "data": {
      "text/plain": [
       "array([  0.,   5.,  10.,  15.,  20.,  25.,  30.,  35.,  40.,  45.,  50.,\n",
       "        55.,  60.,  65.,  70.,  75.,  80.,  85.,  90.,  95., 100., 105.,\n",
       "       110., 115., 120., 125., 130., 135., 140., 145., 150., 155., 160.,\n",
       "       165., 170., 175., 180., 185., 190., 195., 200., 205., 210., 215.,\n",
       "       220., 225., 230., 235., 240., 245., 250., 255., 260., 265., 270.,\n",
       "       275., 280., 285., 290., 295., 300., 305., 310., 315., 320., 325.,\n",
       "       330., 335., 340., 345., 350.])"
      ]
     },
     "execution_count": 33,
     "metadata": {},
     "output_type": "execute_result"
    }
   ],
   "source": [
    "ti"
   ]
  },
  {
   "cell_type": "code",
   "execution_count": 57,
   "metadata": {},
   "outputs": [
    {
     "name": "stdout",
     "output_type": "stream",
     "text": [
      "torch.Size([3, 341, 120])\n",
      "torch.Size([3, 68, 31]) torch.Size([3, 341, 120])\n"
     ]
    }
   ],
   "source": [
    "y_approx = pinn(initial, boundary, 68)\n",
    "print(y_exact[:, 0:68].shape, y_approx.shape)"
   ]
  },
  {
   "cell_type": "code",
   "execution_count": 46,
   "metadata": {},
   "outputs": [],
   "source": [
    "y_norm = y_norm.to(device)"
   ]
  },
  {
   "cell_type": "code",
   "execution_count": 58,
   "metadata": {},
   "outputs": [
    {
     "data": {
      "text/plain": [
       "tensor(0.3592, dtype=torch.float64, grad_fn=<MeanBackward0>)"
      ]
     },
     "execution_count": 58,
     "metadata": {},
     "output_type": "execute_result"
    }
   ],
   "source": [
    "loss_fn(y_approx, y_norm[:, 0:68], weight, xi, ti[0:68])\n",
    "# loss_PDE(y_approx)"
   ]
  },
  {
   "cell_type": "code",
   "execution_count": 116,
   "metadata": {},
   "outputs": [],
   "source": [
    "loss_mse = torch.nn.MSELoss()"
   ]
  },
  {
   "cell_type": "code",
   "execution_count": 36,
   "metadata": {
    "scrolled": true
   },
   "outputs": [
    {
     "name": "stdout",
     "output_type": "stream",
     "text": [
      "torch.Size([3, 68, 31]) torch.Size([3, 71, 31])\n",
      "Initial loss: 3.628894e-01\n"
     ]
    }
   ],
   "source": [
    "print(y_approx[:, :, xi][:, ti[0:68], :].shape, y_norm.shape)\n",
    "loss=loss_fn(y_approx, y_norm[:,0:68,:], weight, xi, ti[0:68])\n",
    "#torch.cat(tdn.k, dim=1).shape\n",
    "#torch.cat([torch.tensor(p) for p in tdn.k], dim=1).shape \n",
    "# loss = loss_mse(y_approx[:, :, xi][:, ti[0:68], :], y_norm[:,0:68,:])\n",
    "print(\"Initial loss: %e\" % loss)\n",
    "loss_history=[loss.item()]"
   ]
  },
  {
   "cell_type": "code",
   "execution_count": 103,
   "metadata": {},
   "outputs": [
    {
     "data": {
      "text/plain": [
       "0.3442055"
      ]
     },
     "execution_count": 103,
     "metadata": {},
     "output_type": "execute_result"
    }
   ],
   "source": [
    "3.442055e-01"
   ]
  },
  {
   "cell_type": "code",
   "execution_count": 104,
   "metadata": {},
   "outputs": [
    {
     "data": {
      "text/plain": [
       "tensor(46.6895, dtype=torch.float64, grad_fn=<MseLossBackward>)"
      ]
     },
     "execution_count": 104,
     "metadata": {},
     "output_type": "execute_result"
    }
   ],
   "source": [
    "## loss without normalization \n",
    "y_approx_actual = torch.zeros(y_approx[:, :, xi][:, ti[0:68], :].shape) \n",
    "y_approx_actual[0, :, :] = y_approx[:, :, xi][:, ti[0:68], :][0, :, :] * (y_max[0] - y_min[0]) + y_min[0]\n",
    "y_approx_actual[1, :, :] = y_approx[:, :, xi][:, ti[0:68], :][1, :, :] * (y_max[1] - y_min[1]) + y_min[1]\n",
    "y_approx_actual[2, :, :] = y_approx[:, :, xi][:, ti[0:68], :][2, :, :] * (y_max[2] - y_min[2]) + y_min[2] \n",
    "\n",
    "# loss=loss_fun(y_approx_actual, y_exact[:,0:68,:]) \n",
    "# print(\"Initial actual loss: %e\" % loss) \n",
    "loss_mse(y_approx_actual, y_exact[:,0:68,:])"
   ]
  },
  {
   "cell_type": "code",
   "execution_count": 59,
   "metadata": {},
   "outputs": [
    {
     "name": "stderr",
     "output_type": "stream",
     "text": [
      "\r",
      "  0%|          | 0/100 [00:00<?, ?it/s]"
     ]
    },
    {
     "name": "stdout",
     "output_type": "stream",
     "text": [
      "torch.Size([3, 341, 120])\n"
     ]
    },
    {
     "name": "stderr",
     "output_type": "stream",
     "text": [
      "  1%|          | 1/100 [00:02<04:54,  2.98s/it, loss=0.359]"
     ]
    },
    {
     "name": "stdout",
     "output_type": "stream",
     "text": [
      "torch.Size([3, 341, 120])\n"
     ]
    },
    {
     "name": "stderr",
     "output_type": "stream",
     "text": [
      "  2%|▏         | 2/100 [00:05<04:40,  2.86s/it, loss=4.08] "
     ]
    },
    {
     "name": "stdout",
     "output_type": "stream",
     "text": [
      "torch.Size([3, 341, 120])\n"
     ]
    },
    {
     "name": "stderr",
     "output_type": "stream",
     "text": [
      "  3%|▎         | 3/100 [00:08<04:30,  2.79s/it, loss=1.65]"
     ]
    },
    {
     "name": "stdout",
     "output_type": "stream",
     "text": [
      "torch.Size([3, 341, 120])\n"
     ]
    },
    {
     "name": "stderr",
     "output_type": "stream",
     "text": [
      "  4%|▍         | 4/100 [00:11<04:24,  2.75s/it, loss=2.56]"
     ]
    },
    {
     "name": "stdout",
     "output_type": "stream",
     "text": [
      "torch.Size([3, 341, 120])\n"
     ]
    },
    {
     "name": "stderr",
     "output_type": "stream",
     "text": [
      "  5%|▌         | 5/100 [00:13<04:19,  2.74s/it, loss=0.373]"
     ]
    },
    {
     "name": "stdout",
     "output_type": "stream",
     "text": [
      "torch.Size([3, 341, 120])\n"
     ]
    },
    {
     "name": "stderr",
     "output_type": "stream",
     "text": [
      "  6%|▌         | 6/100 [00:16<04:20,  2.77s/it, loss=0.241]"
     ]
    },
    {
     "name": "stdout",
     "output_type": "stream",
     "text": [
      "torch.Size([3, 341, 120])\n"
     ]
    },
    {
     "name": "stderr",
     "output_type": "stream",
     "text": [
      "  7%|▋         | 7/100 [00:19<04:23,  2.83s/it, loss=0.383]"
     ]
    },
    {
     "name": "stdout",
     "output_type": "stream",
     "text": [
      "torch.Size([3, 341, 120])\n"
     ]
    },
    {
     "name": "stderr",
     "output_type": "stream",
     "text": [
      "  8%|▊         | 8/100 [00:22<04:27,  2.91s/it, loss=0.414]"
     ]
    },
    {
     "name": "stdout",
     "output_type": "stream",
     "text": [
      "torch.Size([3, 341, 120])\n"
     ]
    },
    {
     "name": "stderr",
     "output_type": "stream",
     "text": [
      "  9%|▉         | 9/100 [00:25<04:31,  2.99s/it, loss=0.316]"
     ]
    },
    {
     "name": "stdout",
     "output_type": "stream",
     "text": [
      "torch.Size([3, 341, 120])\n"
     ]
    },
    {
     "name": "stderr",
     "output_type": "stream",
     "text": [
      " 10%|█         | 10/100 [00:28<04:31,  3.02s/it, loss=0.181]"
     ]
    },
    {
     "name": "stdout",
     "output_type": "stream",
     "text": [
      "torch.Size([3, 341, 120])\n"
     ]
    },
    {
     "name": "stderr",
     "output_type": "stream",
     "text": [
      " 11%|█         | 11/100 [00:32<04:29,  3.03s/it, loss=0.0968]"
     ]
    },
    {
     "name": "stdout",
     "output_type": "stream",
     "text": [
      "torch.Size([3, 341, 120])\n"
     ]
    },
    {
     "name": "stderr",
     "output_type": "stream",
     "text": [
      " 12%|█▏        | 12/100 [00:35<04:24,  3.01s/it, loss=0.0902]"
     ]
    },
    {
     "name": "stdout",
     "output_type": "stream",
     "text": [
      "torch.Size([3, 341, 120])\n"
     ]
    },
    {
     "name": "stderr",
     "output_type": "stream",
     "text": [
      " 13%|█▎        | 13/100 [00:37<04:17,  2.96s/it, loss=0.119] "
     ]
    },
    {
     "name": "stdout",
     "output_type": "stream",
     "text": [
      "torch.Size([3, 341, 120])\n"
     ]
    },
    {
     "name": "stderr",
     "output_type": "stream",
     "text": [
      " 14%|█▍        | 14/100 [00:40<04:10,  2.92s/it, loss=0.146]"
     ]
    },
    {
     "name": "stdout",
     "output_type": "stream",
     "text": [
      "torch.Size([3, 341, 120])\n"
     ]
    },
    {
     "name": "stderr",
     "output_type": "stream",
     "text": [
      " 15%|█▌        | 15/100 [00:43<04:04,  2.88s/it, loss=0.145]"
     ]
    },
    {
     "name": "stdout",
     "output_type": "stream",
     "text": [
      "torch.Size([3, 341, 120])\n"
     ]
    },
    {
     "name": "stderr",
     "output_type": "stream",
     "text": [
      " 16%|█▌        | 16/100 [00:46<03:59,  2.85s/it, loss=0.116]"
     ]
    },
    {
     "name": "stdout",
     "output_type": "stream",
     "text": [
      "torch.Size([3, 341, 120])\n"
     ]
    },
    {
     "name": "stderr",
     "output_type": "stream",
     "text": [
      " 17%|█▋        | 17/100 [00:49<03:55,  2.84s/it, loss=0.0803]"
     ]
    },
    {
     "name": "stdout",
     "output_type": "stream",
     "text": [
      "torch.Size([3, 341, 120])\n"
     ]
    },
    {
     "name": "stderr",
     "output_type": "stream",
     "text": [
      " 18%|█▊        | 18/100 [00:51<03:50,  2.82s/it, loss=0.0563]"
     ]
    },
    {
     "name": "stdout",
     "output_type": "stream",
     "text": [
      "torch.Size([3, 341, 120])\n"
     ]
    },
    {
     "name": "stderr",
     "output_type": "stream",
     "text": [
      " 19%|█▉        | 19/100 [00:54<03:46,  2.80s/it, loss=0.0514]"
     ]
    },
    {
     "name": "stdout",
     "output_type": "stream",
     "text": [
      "torch.Size([3, 341, 120])\n"
     ]
    },
    {
     "name": "stderr",
     "output_type": "stream",
     "text": [
      " 20%|██        | 20/100 [00:57<03:42,  2.79s/it, loss=0.0594]"
     ]
    },
    {
     "name": "stdout",
     "output_type": "stream",
     "text": [
      "torch.Size([3, 341, 120])\n"
     ]
    },
    {
     "name": "stderr",
     "output_type": "stream",
     "text": [
      " 21%|██        | 21/100 [01:00<03:39,  2.78s/it, loss=0.0675]"
     ]
    },
    {
     "name": "stdout",
     "output_type": "stream",
     "text": [
      "torch.Size([3, 341, 120])\n"
     ]
    },
    {
     "name": "stderr",
     "output_type": "stream",
     "text": [
      " 22%|██▏       | 22/100 [01:02<03:35,  2.77s/it, loss=0.0646]"
     ]
    },
    {
     "name": "stdout",
     "output_type": "stream",
     "text": [
      "torch.Size([3, 341, 120])\n"
     ]
    },
    {
     "name": "stderr",
     "output_type": "stream",
     "text": [
      " 23%|██▎       | 23/100 [01:05<03:35,  2.79s/it, loss=0.0562]"
     ]
    },
    {
     "name": "stdout",
     "output_type": "stream",
     "text": [
      "torch.Size([3, 341, 120])\n"
     ]
    },
    {
     "name": "stderr",
     "output_type": "stream",
     "text": [
      " 24%|██▍       | 24/100 [01:08<03:32,  2.79s/it, loss=0.0443]"
     ]
    },
    {
     "name": "stdout",
     "output_type": "stream",
     "text": [
      "torch.Size([3, 341, 120])\n"
     ]
    },
    {
     "name": "stderr",
     "output_type": "stream",
     "text": [
      " 25%|██▌       | 25/100 [01:11<03:28,  2.78s/it, loss=0.0348]"
     ]
    },
    {
     "name": "stdout",
     "output_type": "stream",
     "text": [
      "torch.Size([3, 341, 120])\n"
     ]
    },
    {
     "name": "stderr",
     "output_type": "stream",
     "text": [
      " 26%|██▌       | 26/100 [01:13<03:24,  2.77s/it, loss=0.0308]"
     ]
    },
    {
     "name": "stdout",
     "output_type": "stream",
     "text": [
      "torch.Size([3, 341, 120])\n"
     ]
    },
    {
     "name": "stderr",
     "output_type": "stream",
     "text": [
      " 27%|██▋       | 27/100 [01:16<03:22,  2.77s/it, loss=0.0311]"
     ]
    },
    {
     "name": "stdout",
     "output_type": "stream",
     "text": [
      "torch.Size([3, 341, 120])\n"
     ]
    },
    {
     "name": "stderr",
     "output_type": "stream",
     "text": [
      " 28%|██▊       | 28/100 [01:19<03:19,  2.76s/it, loss=0.0323]"
     ]
    },
    {
     "name": "stdout",
     "output_type": "stream",
     "text": [
      "torch.Size([3, 341, 120])\n"
     ]
    },
    {
     "name": "stderr",
     "output_type": "stream",
     "text": [
      " 29%|██▉       | 29/100 [01:22<03:17,  2.78s/it, loss=0.0319]"
     ]
    },
    {
     "name": "stdout",
     "output_type": "stream",
     "text": [
      "torch.Size([3, 341, 120])\n"
     ]
    },
    {
     "name": "stderr",
     "output_type": "stream",
     "text": [
      " 30%|███       | 30/100 [01:25<03:14,  2.78s/it, loss=0.0294]"
     ]
    },
    {
     "name": "stdout",
     "output_type": "stream",
     "text": [
      "torch.Size([3, 341, 120])\n"
     ]
    },
    {
     "name": "stderr",
     "output_type": "stream",
     "text": [
      " 31%|███       | 31/100 [01:27<03:11,  2.78s/it, loss=0.0258]"
     ]
    },
    {
     "name": "stdout",
     "output_type": "stream",
     "text": [
      "torch.Size([3, 341, 120])\n"
     ]
    },
    {
     "name": "stderr",
     "output_type": "stream",
     "text": [
      " 32%|███▏      | 32/100 [01:30<03:08,  2.77s/it, loss=0.0225]"
     ]
    },
    {
     "name": "stdout",
     "output_type": "stream",
     "text": [
      "torch.Size([3, 341, 120])\n"
     ]
    },
    {
     "name": "stderr",
     "output_type": "stream",
     "text": [
      " 33%|███▎      | 33/100 [01:33<03:05,  2.76s/it, loss=0.0202]"
     ]
    },
    {
     "name": "stdout",
     "output_type": "stream",
     "text": [
      "torch.Size([3, 341, 120])\n"
     ]
    },
    {
     "name": "stderr",
     "output_type": "stream",
     "text": [
      " 34%|███▍      | 34/100 [01:36<03:02,  2.77s/it, loss=0.019] "
     ]
    },
    {
     "name": "stdout",
     "output_type": "stream",
     "text": [
      "torch.Size([3, 341, 120])\n"
     ]
    },
    {
     "name": "stderr",
     "output_type": "stream",
     "text": [
      " 35%|███▌      | 35/100 [01:38<03:00,  2.78s/it, loss=0.0185]"
     ]
    },
    {
     "name": "stdout",
     "output_type": "stream",
     "text": [
      "torch.Size([3, 341, 120])\n"
     ]
    },
    {
     "name": "stderr",
     "output_type": "stream",
     "text": [
      " 36%|███▌      | 36/100 [01:41<02:57,  2.77s/it, loss=0.0181]"
     ]
    },
    {
     "name": "stdout",
     "output_type": "stream",
     "text": [
      "torch.Size([3, 341, 120])\n"
     ]
    },
    {
     "name": "stderr",
     "output_type": "stream",
     "text": [
      " 37%|███▋      | 37/100 [01:44<02:54,  2.77s/it, loss=0.0175]"
     ]
    },
    {
     "name": "stdout",
     "output_type": "stream",
     "text": [
      "torch.Size([3, 341, 120])\n"
     ]
    },
    {
     "name": "stderr",
     "output_type": "stream",
     "text": [
      " 38%|███▊      | 38/100 [01:47<02:51,  2.77s/it, loss=0.0164]"
     ]
    },
    {
     "name": "stdout",
     "output_type": "stream",
     "text": [
      "torch.Size([3, 341, 120])\n"
     ]
    },
    {
     "name": "stderr",
     "output_type": "stream",
     "text": [
      " 39%|███▉      | 39/100 [01:49<02:48,  2.76s/it, loss=0.0152]"
     ]
    },
    {
     "name": "stdout",
     "output_type": "stream",
     "text": [
      "torch.Size([3, 341, 120])\n"
     ]
    },
    {
     "name": "stderr",
     "output_type": "stream",
     "text": [
      " 40%|████      | 40/100 [01:52<02:46,  2.78s/it, loss=0.0141]"
     ]
    },
    {
     "name": "stdout",
     "output_type": "stream",
     "text": [
      "torch.Size([3, 341, 120])\n"
     ]
    },
    {
     "name": "stderr",
     "output_type": "stream",
     "text": [
      " 41%|████      | 41/100 [01:55<02:43,  2.77s/it, loss=0.0134]"
     ]
    },
    {
     "name": "stdout",
     "output_type": "stream",
     "text": [
      "torch.Size([3, 341, 120])\n"
     ]
    },
    {
     "name": "stderr",
     "output_type": "stream",
     "text": [
      " 42%|████▏     | 42/100 [01:58<02:40,  2.77s/it, loss=0.0128]"
     ]
    },
    {
     "name": "stdout",
     "output_type": "stream",
     "text": [
      "torch.Size([3, 341, 120])\n"
     ]
    },
    {
     "name": "stderr",
     "output_type": "stream",
     "text": [
      " 43%|████▎     | 43/100 [02:01<02:37,  2.76s/it, loss=0.0122]"
     ]
    },
    {
     "name": "stdout",
     "output_type": "stream",
     "text": [
      "torch.Size([3, 341, 120])\n"
     ]
    },
    {
     "name": "stderr",
     "output_type": "stream",
     "text": [
      " 44%|████▍     | 44/100 [02:03<02:34,  2.76s/it, loss=0.0118]"
     ]
    },
    {
     "name": "stdout",
     "output_type": "stream",
     "text": [
      "torch.Size([3, 341, 120])\n"
     ]
    },
    {
     "name": "stderr",
     "output_type": "stream",
     "text": [
      " 45%|████▌     | 45/100 [02:06<02:31,  2.76s/it, loss=0.0115]"
     ]
    },
    {
     "name": "stdout",
     "output_type": "stream",
     "text": [
      "torch.Size([3, 341, 120])\n"
     ]
    },
    {
     "name": "stderr",
     "output_type": "stream",
     "text": [
      " 46%|████▌     | 46/100 [02:09<02:29,  2.77s/it, loss=0.0113]"
     ]
    },
    {
     "name": "stdout",
     "output_type": "stream",
     "text": [
      "torch.Size([3, 341, 120])\n"
     ]
    },
    {
     "name": "stderr",
     "output_type": "stream",
     "text": [
      " 47%|████▋     | 47/100 [02:12<02:26,  2.76s/it, loss=0.0111]"
     ]
    },
    {
     "name": "stdout",
     "output_type": "stream",
     "text": [
      "torch.Size([3, 341, 120])\n"
     ]
    },
    {
     "name": "stderr",
     "output_type": "stream",
     "text": [
      " 48%|████▊     | 48/100 [02:14<02:23,  2.76s/it, loss=0.0106]"
     ]
    },
    {
     "name": "stdout",
     "output_type": "stream",
     "text": [
      "torch.Size([3, 341, 120])\n"
     ]
    },
    {
     "name": "stderr",
     "output_type": "stream",
     "text": [
      " 49%|████▉     | 49/100 [02:17<02:20,  2.75s/it, loss=0.00996]"
     ]
    },
    {
     "name": "stdout",
     "output_type": "stream",
     "text": [
      "torch.Size([3, 341, 120])\n"
     ]
    },
    {
     "name": "stderr",
     "output_type": "stream",
     "text": [
      " 50%|█████     | 50/100 [02:20<02:17,  2.76s/it, loss=0.0095] "
     ]
    },
    {
     "name": "stdout",
     "output_type": "stream",
     "text": [
      "torch.Size([3, 341, 120])\n"
     ]
    },
    {
     "name": "stderr",
     "output_type": "stream",
     "text": [
      " 51%|█████     | 51/100 [02:23<02:15,  2.76s/it, loss=0.00937]"
     ]
    },
    {
     "name": "stdout",
     "output_type": "stream",
     "text": [
      "torch.Size([3, 341, 120])\n"
     ]
    },
    {
     "name": "stderr",
     "output_type": "stream",
     "text": [
      " 52%|█████▏    | 52/100 [02:26<02:14,  2.79s/it, loss=0.00942]"
     ]
    },
    {
     "name": "stdout",
     "output_type": "stream",
     "text": [
      "torch.Size([3, 341, 120])\n"
     ]
    },
    {
     "name": "stderr",
     "output_type": "stream",
     "text": [
      " 53%|█████▎    | 53/100 [02:28<02:10,  2.78s/it, loss=0.00942]"
     ]
    },
    {
     "name": "stdout",
     "output_type": "stream",
     "text": [
      "torch.Size([3, 341, 120])\n"
     ]
    },
    {
     "name": "stderr",
     "output_type": "stream",
     "text": [
      " 54%|█████▍    | 54/100 [02:31<02:07,  2.77s/it, loss=0.00923]"
     ]
    },
    {
     "name": "stdout",
     "output_type": "stream",
     "text": [
      "torch.Size([3, 341, 120])\n"
     ]
    },
    {
     "name": "stderr",
     "output_type": "stream",
     "text": [
      " 55%|█████▌    | 55/100 [02:34<02:04,  2.77s/it, loss=0.0089] "
     ]
    },
    {
     "name": "stdout",
     "output_type": "stream",
     "text": [
      "torch.Size([3, 341, 120])\n"
     ]
    },
    {
     "name": "stderr",
     "output_type": "stream",
     "text": [
      " 56%|█████▌    | 56/100 [02:37<02:01,  2.76s/it, loss=0.00861]"
     ]
    },
    {
     "name": "stdout",
     "output_type": "stream",
     "text": [
      "torch.Size([3, 341, 120])\n"
     ]
    },
    {
     "name": "stderr",
     "output_type": "stream",
     "text": [
      " 57%|█████▋    | 57/100 [02:39<01:58,  2.75s/it, loss=0.00846]"
     ]
    },
    {
     "name": "stdout",
     "output_type": "stream",
     "text": [
      "torch.Size([3, 341, 120])\n"
     ]
    },
    {
     "name": "stderr",
     "output_type": "stream",
     "text": [
      " 58%|█████▊    | 58/100 [02:42<01:56,  2.78s/it, loss=0.00841]"
     ]
    },
    {
     "name": "stdout",
     "output_type": "stream",
     "text": [
      "torch.Size([3, 341, 120])\n"
     ]
    },
    {
     "name": "stderr",
     "output_type": "stream",
     "text": [
      " 59%|█████▉    | 59/100 [02:45<01:53,  2.77s/it, loss=0.00839]"
     ]
    },
    {
     "name": "stdout",
     "output_type": "stream",
     "text": [
      "torch.Size([3, 341, 120])\n"
     ]
    },
    {
     "name": "stderr",
     "output_type": "stream",
     "text": [
      " 60%|██████    | 60/100 [02:48<01:50,  2.76s/it, loss=0.00834]"
     ]
    },
    {
     "name": "stdout",
     "output_type": "stream",
     "text": [
      "torch.Size([3, 341, 120])\n"
     ]
    },
    {
     "name": "stderr",
     "output_type": "stream",
     "text": [
      " 61%|██████    | 61/100 [02:50<01:47,  2.76s/it, loss=0.00825]"
     ]
    },
    {
     "name": "stdout",
     "output_type": "stream",
     "text": [
      "torch.Size([3, 341, 120])\n"
     ]
    },
    {
     "name": "stderr",
     "output_type": "stream",
     "text": [
      " 62%|██████▏   | 62/100 [02:53<01:44,  2.76s/it, loss=0.00815]"
     ]
    },
    {
     "name": "stdout",
     "output_type": "stream",
     "text": [
      "torch.Size([3, 341, 120])\n"
     ]
    },
    {
     "name": "stderr",
     "output_type": "stream",
     "text": [
      " 63%|██████▎   | 63/100 [02:56<01:42,  2.77s/it, loss=0.00806]"
     ]
    },
    {
     "name": "stdout",
     "output_type": "stream",
     "text": [
      "torch.Size([3, 341, 120])\n"
     ]
    },
    {
     "name": "stderr",
     "output_type": "stream",
     "text": [
      " 64%|██████▍   | 64/100 [02:59<01:40,  2.78s/it, loss=0.00798]"
     ]
    },
    {
     "name": "stdout",
     "output_type": "stream",
     "text": [
      "torch.Size([3, 341, 120])\n"
     ]
    },
    {
     "name": "stderr",
     "output_type": "stream",
     "text": [
      " 65%|██████▌   | 65/100 [03:01<01:37,  2.78s/it, loss=0.00792]"
     ]
    },
    {
     "name": "stdout",
     "output_type": "stream",
     "text": [
      "torch.Size([3, 341, 120])\n"
     ]
    },
    {
     "name": "stderr",
     "output_type": "stream",
     "text": [
      " 66%|██████▌   | 66/100 [03:04<01:34,  2.78s/it, loss=0.00788]"
     ]
    },
    {
     "name": "stdout",
     "output_type": "stream",
     "text": [
      "torch.Size([3, 341, 120])\n"
     ]
    },
    {
     "name": "stderr",
     "output_type": "stream",
     "text": [
      " 67%|██████▋   | 67/100 [03:07<01:31,  2.79s/it, loss=0.00785]"
     ]
    },
    {
     "name": "stdout",
     "output_type": "stream",
     "text": [
      "torch.Size([3, 341, 120])\n"
     ]
    },
    {
     "name": "stderr",
     "output_type": "stream",
     "text": [
      " 68%|██████▊   | 68/100 [03:10<01:28,  2.77s/it, loss=0.00782]"
     ]
    },
    {
     "name": "stdout",
     "output_type": "stream",
     "text": [
      "torch.Size([3, 341, 120])\n"
     ]
    },
    {
     "name": "stderr",
     "output_type": "stream",
     "text": [
      " 69%|██████▉   | 69/100 [03:13<01:26,  2.78s/it, loss=0.00779]"
     ]
    },
    {
     "name": "stdout",
     "output_type": "stream",
     "text": [
      "torch.Size([3, 341, 120])\n"
     ]
    },
    {
     "name": "stderr",
     "output_type": "stream",
     "text": [
      " 70%|███████   | 70/100 [03:15<01:23,  2.77s/it, loss=0.00776]"
     ]
    },
    {
     "name": "stdout",
     "output_type": "stream",
     "text": [
      "torch.Size([3, 341, 120])\n"
     ]
    },
    {
     "name": "stderr",
     "output_type": "stream",
     "text": [
      " 71%|███████   | 71/100 [03:18<01:20,  2.77s/it, loss=0.00772]"
     ]
    },
    {
     "name": "stdout",
     "output_type": "stream",
     "text": [
      "torch.Size([3, 341, 120])\n"
     ]
    },
    {
     "name": "stderr",
     "output_type": "stream",
     "text": [
      " 72%|███████▏  | 72/100 [03:21<01:17,  2.76s/it, loss=0.00768]"
     ]
    },
    {
     "name": "stdout",
     "output_type": "stream",
     "text": [
      "torch.Size([3, 341, 120])\n"
     ]
    },
    {
     "name": "stderr",
     "output_type": "stream",
     "text": [
      " 73%|███████▎  | 73/100 [03:24<01:14,  2.76s/it, loss=0.00765]"
     ]
    },
    {
     "name": "stdout",
     "output_type": "stream",
     "text": [
      "torch.Size([3, 341, 120])\n"
     ]
    },
    {
     "name": "stderr",
     "output_type": "stream",
     "text": [
      " 74%|███████▍  | 74/100 [03:26<01:11,  2.76s/it, loss=0.00763]"
     ]
    },
    {
     "name": "stdout",
     "output_type": "stream",
     "text": [
      "torch.Size([3, 341, 120])\n"
     ]
    },
    {
     "name": "stderr",
     "output_type": "stream",
     "text": [
      " 75%|███████▌  | 75/100 [03:29<01:09,  2.78s/it, loss=0.00762]"
     ]
    },
    {
     "name": "stdout",
     "output_type": "stream",
     "text": [
      "torch.Size([3, 341, 120])\n"
     ]
    },
    {
     "name": "stderr",
     "output_type": "stream",
     "text": [
      " 76%|███████▌  | 76/100 [03:32<01:06,  2.77s/it, loss=0.00762]"
     ]
    },
    {
     "name": "stdout",
     "output_type": "stream",
     "text": [
      "torch.Size([3, 341, 120])\n"
     ]
    },
    {
     "name": "stderr",
     "output_type": "stream",
     "text": [
      " 77%|███████▋  | 77/100 [03:35<01:03,  2.76s/it, loss=0.0076] "
     ]
    },
    {
     "name": "stdout",
     "output_type": "stream",
     "text": [
      "torch.Size([3, 341, 120])\n"
     ]
    },
    {
     "name": "stderr",
     "output_type": "stream",
     "text": [
      " 78%|███████▊  | 78/100 [03:37<01:00,  2.76s/it, loss=0.00758]"
     ]
    },
    {
     "name": "stdout",
     "output_type": "stream",
     "text": [
      "torch.Size([3, 341, 120])\n"
     ]
    },
    {
     "name": "stderr",
     "output_type": "stream",
     "text": [
      " 79%|███████▉  | 79/100 [03:40<00:57,  2.75s/it, loss=0.00756]"
     ]
    },
    {
     "name": "stdout",
     "output_type": "stream",
     "text": [
      "torch.Size([3, 341, 120])\n"
     ]
    },
    {
     "name": "stderr",
     "output_type": "stream",
     "text": [
      " 80%|████████  | 80/100 [03:43<00:55,  2.75s/it, loss=0.00754]"
     ]
    },
    {
     "name": "stdout",
     "output_type": "stream",
     "text": [
      "torch.Size([3, 341, 120])\n"
     ]
    },
    {
     "name": "stderr",
     "output_type": "stream",
     "text": [
      " 81%|████████  | 81/100 [03:46<00:52,  2.77s/it, loss=0.00754]"
     ]
    },
    {
     "name": "stdout",
     "output_type": "stream",
     "text": [
      "torch.Size([3, 341, 120])\n"
     ]
    },
    {
     "name": "stderr",
     "output_type": "stream",
     "text": [
      " 82%|████████▏ | 82/100 [03:49<00:49,  2.77s/it, loss=0.00753]"
     ]
    },
    {
     "name": "stdout",
     "output_type": "stream",
     "text": [
      "torch.Size([3, 341, 120])\n"
     ]
    },
    {
     "name": "stderr",
     "output_type": "stream",
     "text": [
      " 83%|████████▎ | 83/100 [03:51<00:46,  2.76s/it, loss=0.00753]"
     ]
    },
    {
     "name": "stdout",
     "output_type": "stream",
     "text": [
      "torch.Size([3, 341, 120])\n"
     ]
    },
    {
     "name": "stderr",
     "output_type": "stream",
     "text": [
      " 84%|████████▍ | 84/100 [03:54<00:44,  2.76s/it, loss=0.00752]"
     ]
    },
    {
     "name": "stdout",
     "output_type": "stream",
     "text": [
      "torch.Size([3, 341, 120])\n"
     ]
    },
    {
     "name": "stderr",
     "output_type": "stream",
     "text": [
      " 85%|████████▌ | 85/100 [03:57<00:41,  2.76s/it, loss=0.00751]"
     ]
    },
    {
     "name": "stdout",
     "output_type": "stream",
     "text": [
      "torch.Size([3, 341, 120])\n"
     ]
    },
    {
     "name": "stderr",
     "output_type": "stream",
     "text": [
      " 86%|████████▌ | 86/100 [04:00<00:38,  2.77s/it, loss=0.0075] "
     ]
    },
    {
     "name": "stdout",
     "output_type": "stream",
     "text": [
      "torch.Size([3, 341, 120])\n"
     ]
    },
    {
     "name": "stderr",
     "output_type": "stream",
     "text": [
      " 87%|████████▋ | 87/100 [04:03<00:37,  2.87s/it, loss=0.0075]"
     ]
    },
    {
     "name": "stdout",
     "output_type": "stream",
     "text": [
      "torch.Size([3, 341, 120])\n"
     ]
    },
    {
     "name": "stderr",
     "output_type": "stream",
     "text": [
      " 88%|████████▊ | 88/100 [04:06<00:34,  2.90s/it, loss=0.00749]"
     ]
    },
    {
     "name": "stdout",
     "output_type": "stream",
     "text": [
      "torch.Size([3, 341, 120])\n"
     ]
    },
    {
     "name": "stderr",
     "output_type": "stream",
     "text": [
      " 89%|████████▉ | 89/100 [04:08<00:31,  2.85s/it, loss=0.00748]"
     ]
    },
    {
     "name": "stdout",
     "output_type": "stream",
     "text": [
      "torch.Size([3, 341, 120])\n"
     ]
    },
    {
     "name": "stderr",
     "output_type": "stream",
     "text": [
      " 90%|█████████ | 90/100 [04:11<00:28,  2.83s/it, loss=0.00748]"
     ]
    },
    {
     "name": "stdout",
     "output_type": "stream",
     "text": [
      "torch.Size([3, 341, 120])\n"
     ]
    },
    {
     "name": "stderr",
     "output_type": "stream",
     "text": [
      " 91%|█████████ | 91/100 [04:14<00:25,  2.81s/it, loss=0.00748]"
     ]
    },
    {
     "name": "stdout",
     "output_type": "stream",
     "text": [
      "torch.Size([3, 341, 120])\n"
     ]
    },
    {
     "name": "stderr",
     "output_type": "stream",
     "text": [
      " 92%|█████████▏| 92/100 [04:17<00:22,  2.82s/it, loss=0.00747]"
     ]
    },
    {
     "name": "stdout",
     "output_type": "stream",
     "text": [
      "torch.Size([3, 341, 120])\n"
     ]
    },
    {
     "name": "stderr",
     "output_type": "stream",
     "text": [
      " 93%|█████████▎| 93/100 [04:20<00:19,  2.80s/it, loss=0.00747]"
     ]
    },
    {
     "name": "stdout",
     "output_type": "stream",
     "text": [
      "torch.Size([3, 341, 120])\n"
     ]
    },
    {
     "name": "stderr",
     "output_type": "stream",
     "text": [
      " 94%|█████████▍| 94/100 [04:22<00:16,  2.79s/it, loss=0.00747]"
     ]
    },
    {
     "name": "stdout",
     "output_type": "stream",
     "text": [
      "torch.Size([3, 341, 120])\n"
     ]
    },
    {
     "name": "stderr",
     "output_type": "stream",
     "text": [
      " 95%|█████████▌| 95/100 [04:25<00:13,  2.80s/it, loss=0.00747]"
     ]
    },
    {
     "name": "stdout",
     "output_type": "stream",
     "text": [
      "torch.Size([3, 341, 120])\n"
     ]
    },
    {
     "name": "stderr",
     "output_type": "stream",
     "text": [
      " 96%|█████████▌| 96/100 [04:28<00:11,  2.83s/it, loss=0.00746]"
     ]
    },
    {
     "name": "stdout",
     "output_type": "stream",
     "text": [
      "torch.Size([3, 341, 120])\n"
     ]
    },
    {
     "name": "stderr",
     "output_type": "stream",
     "text": [
      " 97%|█████████▋| 97/100 [04:31<00:08,  2.89s/it, loss=0.00746]"
     ]
    },
    {
     "name": "stdout",
     "output_type": "stream",
     "text": [
      "torch.Size([3, 341, 120])\n"
     ]
    },
    {
     "name": "stderr",
     "output_type": "stream",
     "text": [
      " 98%|█████████▊| 98/100 [04:34<00:05,  2.93s/it, loss=0.00746]"
     ]
    },
    {
     "name": "stdout",
     "output_type": "stream",
     "text": [
      "torch.Size([3, 341, 120])\n"
     ]
    },
    {
     "name": "stderr",
     "output_type": "stream",
     "text": [
      " 99%|█████████▉| 99/100 [04:37<00:02,  2.93s/it, loss=0.00746]"
     ]
    },
    {
     "name": "stdout",
     "output_type": "stream",
     "text": [
      "torch.Size([3, 341, 120])\n"
     ]
    },
    {
     "name": "stderr",
     "output_type": "stream",
     "text": [
      "100%|██████████| 100/100 [04:40<00:00,  2.80s/it, loss=0.00746]\n"
     ]
    }
   ],
   "source": [
    "history=[]\n",
    "tqdm_epochs = tqdm(range(num_epochs))\n",
    "for e in tqdm_epochs:\n",
    "    y_approx = pinn(initial, boundary, 68)\n",
    "    loss = loss_fn(y_approx, y_norm[:,0:68,:], weight, xi, ti[0:68])\n",
    "#     loss = loss_PDE(y_approx)\n",
    "    loss_history.append(loss.item())\n",
    "    if loss.item() < min_loss:\n",
    "        best_model_pinn = pinn\n",
    "    optimizer.zero_grad()\n",
    "    loss.backward(retain_graph=True)\n",
    "    optimizer.step()\n",
    "    history.append(loss.item())\n",
    "    tqdm_epochs.set_postfix({'loss': torch.sum(loss).item()}) \n",
    "    \n",
    "    scheduler.step() "
   ]
  },
  {
   "cell_type": "code",
   "execution_count": 60,
   "metadata": {},
   "outputs": [
    {
     "name": "stdout",
     "output_type": "stream",
     "text": [
      "Final actual loss: 5.004970e-01\n"
     ]
    }
   ],
   "source": [
    "## re-transform: loss without normalization \n",
    "y_approx_actual = torch.zeros(y_approx[:, :, xi][:, ti[0:68], :].shape) \n",
    "y_approx_actual[0, :, :] = y_approx[:, :, xi][:, ti[0:68], :][0, :, :] * (y_max[0] - y_min[0]) + y_min[0]\n",
    "y_approx_actual[1, :, :] = y_approx[:, :, xi][:, ti[0:68], :][1, :, :] * (y_max[1] - y_min[1]) + y_min[1]\n",
    "y_approx_actual[2, :, :] = y_approx[:, :, xi][:, ti[0:68], :][2, :, :] * (y_max[2] - y_min[2]) + y_min[2] \n",
    "\n",
    "loss=loss_fun(y_approx_actual, y_exact[:,0:68,:]) \n",
    "print(\"Final actual loss: %e\" % loss) "
   ]
  },
  {
   "cell_type": "code",
   "execution_count": 61,
   "metadata": {
    "scrolled": false
   },
   "outputs": [
    {
     "data": {
      "image/png": "[encoded data removed]",
      "text/plain": [
       "<Figure size 1200x400 with 3 Axes>"
      ]
     },
     "metadata": {},
     "output_type": "display_data"
    }
   ],
   "source": [
    "tp=1\n",
    "#print(y_approx[tp])\n",
    "#print(y_exact[tp])\n",
    "plt.style.use('default')\n",
    "fig3,ax3=plt.subplots(ncols=3, nrows=1, figsize=(12,4))\n",
    "fig3.subplots_adjust(wspace=0.4)\n",
    "\n",
    "varplot={0: y_approx_actual[0, :, :], 1: y_approx_actual[1, :, :], 2: y_approx_actual[2, :, :]}\n",
    "label={0: \"Density $k$ (veh/m)\",\n",
    "       1: \"Flow $q$ (veh/s)\",\n",
    "       2: \"Speed $u$ (m/s)\"}\n",
    "for n in range(3):\n",
    "    ax3[n].plot(xi, y_exact[n,1,:].detach(), label='observed', marker='o')\n",
    "    if n==1: \n",
    "        ax3[n].plot(xi, varplot[n][0].detach(), label='simulated') \n",
    "    else: \n",
    "        ax3[n].plot(xi, varplot[n][0].detach(), label='simulated')\n",
    "    #print(k_boundary[tp*tskip])\n",
    "    if n==0:\n",
    "        ax3[n].legend()\n",
    "    ax3[n].set_xlabel(\"Distance (grid points)\")\n",
    "    ax3[n].set_ylabel(label[n])\n",
    "#ax3.set_ylim(0, 0.3)\n",
    "fig3.savefig(\"kqu_parstep10.png\", dpi=300)"
   ]
  },
  {
   "cell_type": "code",
   "execution_count": 62,
   "metadata": {},
   "outputs": [
    {
     "name": "stdout",
     "output_type": "stream",
     "text": [
      "0.4849234516620852\n",
      "0.6321656050955415\n",
      "0.9578651685393261\n"
     ]
    }
   ],
   "source": [
    "k_initial2={}\n",
    "cmps = [\"k\",\"q\",\"u\"]\n",
    "for n,c in enumerate(cmps):\n",
    "    k_initial2[c]=interpolate_initial(y_norm[n,:], t0=68)\n",
    "    print(k_initial2[c].max())"
   ]
  },
  {
   "cell_type": "code",
   "execution_count": 75,
   "metadata": {},
   "outputs": [],
   "source": [
    "# k_boundary2 = {var: k_boundary[var][68*tskip:] for var in k_boundary.keys()}"
   ]
  },
  {
   "cell_type": "code",
   "execution_count": 63,
   "metadata": {},
   "outputs": [],
   "source": [
    "initial2 = torch.tensor(np.stack((k_initial2[\"k\"], k_initial2[\"q\"], k_initial2[\"u\"]))).float().to(device)\n",
    "# boundary2 = torch.tensor(np.stack((k_boundary2[\"k\"], k_boundary2[\"q\"], k_boundary2[\"u\"]))).float().to(device)"
   ]
  },
  {
   "cell_type": "code",
   "execution_count": 85,
   "metadata": {},
   "outputs": [
    {
     "name": "stdout",
     "output_type": "stream",
     "text": [
      "torch.Size([3, 16, 120])\n"
     ]
    }
   ],
   "source": [
    "## prediction \n",
    "y_predicted = pinn(initial2, boundary[:, 340:], 3)"
   ]
  },
  {
   "cell_type": "code",
   "execution_count": 86,
   "metadata": {},
   "outputs": [
    {
     "name": "stdout",
     "output_type": "stream",
     "text": [
      "Final actual loss: 4.962298e-01\n"
     ]
    }
   ],
   "source": [
    "## re-transform: testing loss without normalization (used for comparison)\n",
    "y_predicted_actual = torch.zeros(y_predicted[:, :, xi][:, ti[0:3], :].shape) \n",
    "y_predicted_actual[0, :, :] = y_predicted[:, :, xi][:, ti[0:3], :][0, :, :] * (y_max[0] - y_min[0]) + y_min[0]\n",
    "y_predicted_actual[1, :, :] = y_predicted[:, :, xi][:, ti[0:3], :][1, :, :]\n",
    "y_predicted_actual[2, :, :] = y_predicted[:, :, xi][:, ti[0:3], :][2, :, :] * (y_max[2] - y_min[2]) + y_min[2] \n",
    "\n",
    "loss=loss_fun(y_predicted_actual, y_exact[:, 68:, :]) \n",
    "print(\"Final actual loss: %e\" % loss) "
   ]
  },
  {
   "cell_type": "code",
   "execution_count": 70,
   "metadata": {},
   "outputs": [
    {
     "data": {
      "text/plain": [
       "0.4962298"
      ]
     },
     "execution_count": 70,
     "metadata": {},
     "output_type": "execute_result"
    }
   ],
   "source": [
    "4.962298e-01"
   ]
  },
  {
   "cell_type": "code",
   "execution_count": 71,
   "metadata": {},
   "outputs": [
    {
     "data": {
      "text/plain": [
       "torch.Size([3, 16, 120])"
      ]
     },
     "execution_count": 71,
     "metadata": {},
     "output_type": "execute_result"
    }
   ],
   "source": [
    "y_predicted.shape"
   ]
  },
  {
   "cell_type": "code",
   "execution_count": 87,
   "metadata": {},
   "outputs": [],
   "source": [
    "y_predicted = y_predicted[:, :, xi][:, ti[0:3], :]"
   ]
  },
  {
   "cell_type": "code",
   "execution_count": 91,
   "metadata": {},
   "outputs": [
    {
     "ename": "FileNotFoundError",
     "evalue": "[Errno 2] No such file or directory: '5S_station_names.json'",
     "output_type": "error",
     "traceback": [
      "\u001b[1;31m---------------------------------------------------------------------------\u001b[0m",
      "\u001b[1;31mFileNotFoundError\u001b[0m                         Traceback (most recent call last)",
      "\u001b[1;32m<ipython-input-91-6288f4c6d1e2>\u001b[0m in \u001b[0;36m<module>\u001b[1;34m\u001b[0m\n\u001b[1;32m----> 1\u001b[1;33m \u001b[0mstation_names\u001b[0m\u001b[1;33m=\u001b[0m\u001b[0mlist\u001b[0m\u001b[1;33m(\u001b[0m\u001b[0mjson\u001b[0m\u001b[1;33m.\u001b[0m\u001b[0mload\u001b[0m\u001b[1;33m(\u001b[0m\u001b[0mopen\u001b[0m\u001b[1;33m(\u001b[0m\u001b[1;34m\"5S_station_names.json\"\u001b[0m\u001b[1;33m,\u001b[0m \u001b[1;34m\"rb\"\u001b[0m\u001b[1;33m)\u001b[0m\u001b[1;33m)\u001b[0m\u001b[1;33m.\u001b[0m\u001b[0mvalues\u001b[0m\u001b[1;33m(\u001b[0m\u001b[1;33m)\u001b[0m\u001b[1;33m)\u001b[0m\u001b[1;33m\u001b[0m\u001b[1;33m\u001b[0m\u001b[0m\n\u001b[0m\u001b[0;32m      2\u001b[0m \u001b[0mrecord_times\u001b[0m\u001b[1;33m=\u001b[0m\u001b[0mjson\u001b[0m\u001b[1;33m.\u001b[0m\u001b[0mload\u001b[0m\u001b[1;33m(\u001b[0m\u001b[0mopen\u001b[0m\u001b[1;33m(\u001b[0m\u001b[1;34m\"5S_record_times.json\"\u001b[0m\u001b[1;33m,\u001b[0m \u001b[1;34m\"r\"\u001b[0m\u001b[1;33m)\u001b[0m\u001b[1;33m)\u001b[0m\u001b[1;33m\u001b[0m\u001b[1;33m\u001b[0m\u001b[0m\n\u001b[0;32m      3\u001b[0m \u001b[1;31m#record_times\u001b[0m\u001b[1;33m\u001b[0m\u001b[1;33m\u001b[0m\u001b[1;33m\u001b[0m\u001b[0m\n",
      "\u001b[1;31mFileNotFoundError\u001b[0m: [Errno 2] No such file or directory: '5S_station_names.json'"
     ]
    }
   ],
   "source": [
    "station_names=list(json.load(open(\"5S_station_names.json\", \"rb\")).values())\n",
    "record_times=json.load(open(\"5S_record_times.json\", \"r\"))\n",
    "#record_times"
   ]
  },
  {
   "cell_type": "code",
   "execution_count": 88,
   "metadata": {
    "scrolled": false
   },
   "outputs": [
    {
     "data": {
      "image/png": "[encoded data removed]",
      "text/plain": [
       "<Figure size 800x600 with 3 Axes>"
      ]
     },
     "metadata": {},
     "output_type": "display_data"
    }
   ],
   "source": [
    "tp=70\n",
    "plt.style.use('default')\n",
    "\n",
    "from matplotlib import gridspec\n",
    "\n",
    "fwyp=[xi[n]* 300 / 1.e3 for n in range(len(xi))]\n",
    "\n",
    "#gs = gridspec.GridSpec(3, 1, height_ratios=[2, 1, 1]) \n",
    "gs_kw={\"height_ratios\": [3, 1, 1]}\n",
    "\n",
    "fig4,ax4=plt.subplots(figsize=(8,6), nrows=3, gridspec_kw=gs_kw, sharex=True)\n",
    "fig4.subplots_adjust(left=0.08, bottom=0.08, right=0.98, top=0.95)\n",
    "ymin=[0.02, 0.5, 20]\n",
    "ymax=[0.30, 2.0, 40]\n",
    "\n",
    "for n in range(3): \n",
    "    ax4[n].plot(fwyp, (y_norm[n, tp, :] * (y_max[n] - y_min[n]) + y_min[n]).cpu().detach(), label='observed', marker='o')\n",
    "    ax4[n].plot(fwyp, (y_predicted[n, tp-68, :] * (y_max[n] - y_min[n]) + y_min[n]).cpu().detach(), label='predicted', marker='o')\n",
    "        \n",
    "    ax4[n].set_ylim(ymin[n], ymax[n])\n",
    "    #ax4[n].set_xlabel(\"Distance (grid points)\")\n",
    "    ax4[n].set_ylabel(label[n])\n",
    "\n",
    "    #ax4[n].set_xlim(fwyp[0]-1, fwyp[-1]+1)\n",
    "\n",
    "    lastpoint=-100\n",
    "    if n==0:\n",
    "        for p in range(len(xi)):\n",
    "            if (fwyp[p] - lastpoint) > 1.:\n",
    "                ax4[n].text(fwyp[p], (y_norm[n, tp, :] * (y_max[n] - y_min[n]) + y_min[n]).detach()[p] + 0.02, \"none\", rotation=90, fontsize=8)\n",
    "                lastpoint=fwyp[p]\n",
    "    \n",
    "ax4[2].set_xlabel(\"Relative distance from North to South (km)\")\n",
    "#ax4[n].set_ylabel(\"Traffic density (Veh/m)\")\n",
    "fig4.savefig('LWR_prediction_5S.jpg', dpi=300)"
   ]
  },
  {
   "cell_type": "code",
   "execution_count": null,
   "metadata": {},
   "outputs": [],
   "source": []
  }
 ],
 "metadata": {
  "kernelspec": {
   "display_name": "Python 3 (ipykernel)",
   "language": "python",
   "name": "python3"
  },
  "language_info": {
   "codemirror_mode": {
    "name": "ipython",
    "version": 3
   },
   "file_extension": ".py",
   "mimetype": "text/x-python",
   "name": "python",
   "nbconvert_exporter": "python",
   "pygments_lexer": "ipython3",
   "version": "3.9.6"
  }
 },
 "nbformat": 4,
 "nbformat_minor": 2
}
