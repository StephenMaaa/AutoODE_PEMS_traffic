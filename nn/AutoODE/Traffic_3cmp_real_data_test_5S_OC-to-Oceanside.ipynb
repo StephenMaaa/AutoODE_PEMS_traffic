{
 "cells": [
  {
   "cell_type": "markdown",
   "metadata": {},
   "source": [
    "## Numerical Solution of LWR model:\n",
    "\n",
    "Lighthill-Whitham-Richards model (commonly used for traffic flow):\n",
    "\n",
    "\\begin{equation}\n",
    "\\frac{\\partial q}{\\partial x} + \\frac{\\partial k}{\\partial t} = 0\n",
    "\\end{equation}\n",
    "\n",
    "But $q$ is a function of $k$ (Greenshield model): \n",
    "$$\n",
    "q(k) = k(k_j - k) = k k_j -k^2\n",
    "$$\n",
    "\n",
    "Therefore\n",
    "$$\n",
    "\\frac{\\partial k}{\\partial t} + \\frac{dq}{dk}\\frac{\\partial k}{\\partial x} =0\n",
    "$$\n",
    "\n",
    "$$\n",
    "\\frac{d(q(k))}{dk} = 1(k_j - k) + k(-1) = k_j - 2k\n",
    "$$\n",
    "\n",
    "And\n",
    "$$\n",
    "\\frac{\\partial k}{\\partial t} + (k_j - 2k) \\frac{\\partial k}{\\partial x} = 0\n",
    "$$"
   ]
  },
  {
   "cell_type": "code",
   "execution_count": 1,
   "metadata": {},
   "outputs": [
    {
     "name": "stderr",
     "output_type": "stream",
     "text": [
      "C:\\Users\\STEPHE~1\\AppData\\Local\\Temp/ipykernel_409732/4047686461.py:11: RuntimeWarning: invalid value encountered in true_divide\n",
      "  v=q/k\n"
     ]
    },
    {
     "data": {
      "text/plain": [
       "<matplotlib.legend.Legend at 0x18175d599d0>"
      ]
     },
     "execution_count": 1,
     "metadata": {},
     "output_type": "execute_result"
    },
    {
     "data": {
      "image/png": "[encoded data removed]",
      "text/plain": [
       "<Figure size 432x288 with 2 Axes>"
      ]
     },
     "metadata": {},
     "output_type": "display_data"
    }
   ],
   "source": [
    "# k can never be higher than kj, which is the jam density.\n",
    "# Therefore, using k > kj results in instabilities!\n",
    "def greenshield(k, kj=1.):\n",
    "    q=k*(kj-k)\n",
    "    return q\n",
    "\n",
    "import numpy as np\n",
    "k=np.arange(0., 1.01, 0.01)\n",
    "import matplotlib.pyplot as plt\n",
    "q=greenshield(k)\n",
    "v=q/k\n",
    "\n",
    "kj=1\n",
    "vf=1\n",
    "#verifying equation 6 from Gaddam(15)\n",
    "#v1 is speed at low traffic density or low flow\n",
    "v1=vf*(1.-(k/kj))\n",
    "plt.style.use('dark_background')\n",
    "fig,ax=plt.subplots(ncols=2)\n",
    "q1=k*v1\n",
    "ax[0].plot(k,q)\n",
    "ax[0].plot(k,q1, color='red', linestyle='dashed')\n",
    "ax[0].vlines(0.5, 0, 0.30)\n",
    "ax[0].vlines(1.0, 0, 0.30, linestyle='dashdot')\n",
    "ax[0].set_xlabel(\"Traffic density $k$\")\n",
    "ax[0].set_ylabel(\"Traffic flow $q$\")\n",
    "\n",
    "ax[1].plot(k,v, label='u')\n",
    "ax[1].plot(k,v1, label='u1')\n",
    "ax[1].set_xlabel(\"Traffic density $k$\")\n",
    "ax[1].set_ylabel(\"Traffic speed $u$\")\n",
    "ax[1].legend()"
   ]
  },
  {
   "cell_type": "markdown",
   "metadata": {},
   "source": [
    "$$\n",
    "\\frac{\\partial k}{\\partial t} = (2k - k_j) \\frac{\\partial k}{\\partial x}\n",
    "$$"
   ]
  },
  {
   "cell_type": "markdown",
   "metadata": {},
   "source": [
    "\\begin{equation}\n",
    "\\frac{k(t+\\Delta t, x_n) - k(t, x_n)}{\\Delta t} =  \\left(2k(t, x) - k_j\\right) \\frac{\\partial k}{\\partial x}\n",
    "\\end{equation}"
   ]
  },
  {
   "cell_type": "markdown",
   "metadata": {},
   "source": [
    "\\begin{align}\n",
    "k(t + \\Delta t, x_n) =& k(t, x) + \\Delta t \\left(2k(t, x) - k_j\\right) \\frac{\\partial k}{\\partial x}\n",
    "\\end{align}"
   ]
  },
  {
   "cell_type": "markdown",
   "metadata": {},
   "source": [
    "\\begin{align}\n",
    "\\frac{\\partial{k}}{\\partial x} \\approx \\frac{k(t, x + \\Delta x) - k(t,x - \\Delta x)}{2 \\Delta x} \\\\\n",
    "                               \\approx \\frac{k(t, x + \\Delta x) - k(t, x)}{\\Delta x} \\\\\n",
    "\\end{align}"
   ]
  },
  {
   "cell_type": "markdown",
   "metadata": {},
   "source": [
    "If I remember correctly the central difference formula is unstable when used with the forward time step, \n",
    "but I will check into this.\n",
    "\n",
    "**Update:** Yes, that's correct.  See Gaddam *et al.*., 2015.  Only the upwind scheme is stable, downwind and central are unstable.  Alternative leapfrog \n",
    "or higher order methods are mentioned in this reference.\n",
    "\n",
    "Discretizing along t_i for i=0,$n_t$ and x_n for n=0, $n_x$.\n",
    "$k_n^i$ equals the traffic density at time $t_i$ and position $n_i$.\n",
    "\n",
    "Sampling rates are $\\Delta t$ and $\\Delta x$, respectively.\n",
    "$k_j(x)$ is location dependent.  Call it $\\kappa_n$."
   ]
  },
  {
   "cell_type": "markdown",
   "metadata": {},
   "source": [
    "$$\n",
    "k_n^{i+1} = k_n^i + \\Delta t  (2 k_n^i - \\kappa_n) \\frac{k_{n+1}^i - k_n^i}{\\Delta x}\n",
    "$$"
   ]
  },
  {
   "cell_type": "markdown",
   "metadata": {},
   "source": [
    "In a real world scenario, we wouldn't have data at every point along the discretized distance.\n",
    "This is different from the scenario tested here.  Therefore, the functions needs to be modified\n",
    "to internally calculate points with the discretization distance needed to fulfill the stability criterion, while outputting predictions only where data is available."
   ]
  },
  {
   "cell_type": "code",
   "execution_count": 1,
   "metadata": {},
   "outputs": [],
   "source": [
    "import numpy as np"
   ]
  },
  {
   "cell_type": "markdown",
   "metadata": {},
   "source": [
    "## Considerations for time and grid step in numerical solution\n",
    "\n",
    "The CFL condition applies:\n",
    "\n",
    "\\begin{equation}\n",
    "C = \\frac{v_f \\Delta t}{\\Delta x} \\leq C_\\max,\n",
    "\\end{equation}\n",
    "\n",
    "where $C_\\max = 1$.\n",
    "\n",
    "Using $v_f$ = 32 m/s and $\\Delta x$ = 300 m, $\\Delta t$ needs to be smaller or equal to 9.375 s to meet the CFL condition:\n",
    "\n",
    "\\begin{equation}\n",
    "\\Delta t = \\frac{C \\Delta x}{v_f} = \\frac{1.0 \\cdot 300 \\text{ m}}{32 \\text{ m/s}} = 9.375s\n",
    "\\end{equation}\n",
    "\n",
    "I'm using $\\Delta t$ = 6 s such that the sampling in the data (5 minutes or 300 s) is a multiple of $\\Delta t$.  Therefore, one of 50 timesteps is being output by the solver (`tskip = 100`)."
   ]
  },
  {
   "cell_type": "code",
   "execution_count": 2,
   "metadata": {},
   "outputs": [],
   "source": [
    "import plotly.express as px\n",
    "import plotly.graph_objects as go\n",
    "from plotly.subplots import make_subplots\n",
    "from ipywidgets import widgets"
   ]
  },
  {
   "cell_type": "code",
   "execution_count": 3,
   "metadata": {},
   "outputs": [],
   "source": [
    "import torch \n",
    "import torch.nn as nn"
   ]
  },
  {
   "cell_type": "code",
   "execution_count": 4,
   "metadata": {},
   "outputs": [
    {
     "name": "stdout",
     "output_type": "stream",
     "text": [
      "cuda\n"
     ]
    }
   ],
   "source": [
    "# device = torch.device(\"cuda\" if torch.cuda.is_available() else \"cpu\")\n",
    "import os\n",
    "#os.environ[\"CUDA_DEVICE_ORDER\"]=\"PCI_BUS_ID\"\n",
    "#os.environ[\"CUDA_VISIBLE_DEVICES\"]=\"4\"\n",
    "device = torch.device(\"cuda\")\n",
    "print(device)\n",
    "import matplotlib.pyplot as plt\n",
    "from tqdm import tqdm"
   ]
  },
  {
   "cell_type": "code",
   "execution_count": 6,
   "metadata": {},
   "outputs": [],
   "source": [
    "import matplotlib.pyplot as plt\n",
    "plt.style.use('dark_background')"
   ]
  },
  {
   "cell_type": "code",
   "execution_count": 7,
   "metadata": {},
   "outputs": [],
   "source": [
    "class Neural_LWR_sparse2_3cmp(nn.Module):\n",
    "    def __init__(self, nx, dx, dt, kj, vf, xi, tskip, y_max, y_min, initial='random', boundary='zeros',\n",
    "                fix_vf=False, parstep=1):\n",
    "        self.nx = nx\n",
    "        #xi are the locations along distance where data is available\n",
    "        self.xi = xi\n",
    "        self.tskip = tskip \n",
    "        self.y_max = y_max \n",
    "        self.y_min = y_min\n",
    "            \n",
    "        super(Neural_LWR_sparse2_3cmp, self).__init__()\n",
    "        \n",
    "        self.cmps=[\"k\",\"q\",\"u\"]  #density, flow, velocity\n",
    "        self.initial={}\n",
    "        self.boundary={}\n",
    "        \n",
    "        if initial == 'random':\n",
    "            self.initial[\"u\"] = torch.nn.Parameter(torch.rand(nx))\n",
    "            self.initial[\"k\"] = torch.nn.Parameter(torch.rand(nx))\n",
    "            self.initial[\"q\"] = self.initial[\"k\"] * self.initial[\"v\"]\n",
    "        elif initial == 'zeros':\n",
    "            for c in self.cmps:\n",
    "                self.initial[c] = torch.zeros(nx, requires_grad=True).double()\n",
    "        else:\n",
    "            assert list(initial.keys()) == self.cmps, \"initial conditions should be dictionary with k,q and u\"\n",
    "            for c in self.cmps:\n",
    "                self.initial[c] = torch.tensor(initial[c])\n",
    "            \n",
    "        # influx at upstream border - needs to be known or assumed\n",
    "        if boundary == 'zeros':\n",
    "            for c in self.cmps:\n",
    "                self.boundary[c] = torch.zeros(nt, requires_grad=True).double()\n",
    "        else:\n",
    "            assert list(boundary.keys()) == self.cmps, \"boundary conditions should be dictionary with u,k and q\"\n",
    "            for c in self.cmps:\n",
    "                self.boundary[c] = torch.tensor(boundary[c])\n",
    "            \n",
    "        #factor by which parameter resolution is reduced with respect to nx\n",
    "        self.parstep=parstep\n",
    "        #jam density kappa\n",
    "        self.kappa=torch.nn.Parameter(torch.tensor(kj[::self.parstep]), requires_grad=True)\n",
    "        \n",
    "        #characteristic velocity vf\n",
    "        if not fix_vf:\n",
    "            self.vf=torch.nn.Parameter(torch.tensor(vf[::self.parstep]), requires_grad=True)\n",
    "        else:\n",
    "            self.vf=torch.tensor(vf[::self.parstep])\n",
    "        \n",
    "        self.dx = torch.tensor(dx)\n",
    "        self.dt = torch.tensor(dt)\n",
    "        \n",
    "    def forward(self, tsteps):\n",
    "        \n",
    "        nt=len(tsteps)\n",
    "        count = 0\n",
    "        print(nt)\n",
    "        self.k=[self.initial[\"k\"]]   # density\n",
    "        self.u=[self.initial[\"u\"]]   # velocity\n",
    "        self.q=[self.initial[\"q\"]]   # flow\n",
    "        \n",
    "        #initial values at output points\n",
    "        self.ki=[self.initial[\"k\"][self.xi]]\n",
    "        self.ui=[self.initial[\"u\"][self.xi]]\n",
    "        self.qi=[self.initial[\"q\"][self.xi]]\n",
    "        \n",
    "        for n in range(1,nt):\n",
    "            #This corresponds to the upwind scheme according to Gaddam et al. (2015).\n",
    "            nk=torch.zeros(nx, requires_grad=True).double()\n",
    "            nu=torch.zeros(nx, requires_grad=True).double()\n",
    "            nq=torch.zeros(nx, requires_grad=True).double()\n",
    "\n",
    "            #new values for 3 variables stored in one tensor per time step\n",
    "            nk[0] = self.boundary[\"k\"][n]\n",
    "            nu[0] = self.boundary[\"u\"][n]\n",
    "            nq[0] = self.boundary[\"q\"][n]\n",
    "                                  \n",
    "            #full-resolution tensor hkappa and hv1, from down-sampled versions\n",
    "            idx=torch.arange(self.nx) / self.parstep\n",
    "            hkappa=self.kappa[idx.long()]\n",
    "            hvf=self.vf[idx.long()]\n",
    "            \n",
    "            nk[1:] = self.k[n-1][1:] - self.dt / self.dx * (self.q[n-1][1:]-self.q[n-1][:-1]) \n",
    "            #force k to be less or equal kappa - hopefully not necessary with this formulation\n",
    "            #idx = nk > hkappa\n",
    "            #nk[idx] = hkappa[idx]\n",
    "            \n",
    "            #nu[1:] = self.vf[1:] * (1 - self.kappa[1:]/nk[1:])\n",
    "            #wrong!!!!\n",
    "            #nu[1:] = hvf[1:] * (1 - hkappa[1:]/nk[1:])\n",
    "            nu[1:] = hvf[1:] * (1 - nk[1:]/hkappa[1:])\n",
    "            #force velocity to be at least zero\n",
    "            ##idx = nu < 0.\n",
    "            ##nu[idx] = 0. \n",
    "            \n",
    "            # re-transform the k and u to compute q \n",
    "            nq[1:] = (nu[1:] * (self.y_max[2] - self.y_min[2]) + self.y_min[2]) * (nk[1:] * (self.y_max[0] - self.y_min[0]) + self.y_min[0])\n",
    "#             print(type(nq[1:]))\n",
    "            self.k.append(nk)\n",
    "            self.u.append(nu)\n",
    "            self.q.append(nq)\n",
    "            \n",
    "            #only output every tskip timesteps\n",
    "            if (n % self.tskip) == 0:\n",
    "                count += 1\n",
    "                self.ki.append(nk[self.xi])\n",
    "                self.ui.append(nu[self.xi])\n",
    "                self.qi.append(nq[self.xi])\n",
    "            #self.k[n,1:] = self.k[n-1,1:] + self.dt*tmp1 * tmp2\n",
    "            #self.k.append(self.k[n][1:] + self.dt*(2*self.k[n][1:] - self.kappa[1:]) * \\\n",
    "            #    (self.k[n][1:]-self.k[n][:-1]) / self.dx)\n",
    "        print(count)    \n",
    "        return torch.stack([torch.stack(self.ki),torch.stack(self.qi),torch.stack(self.ui)])\n",
    "        #return self.k"
   ]
  },
  {
   "cell_type": "code",
   "execution_count": 8,
   "metadata": {},
   "outputs": [
    {
     "name": "stdout",
     "output_type": "stream",
     "text": [
      "torch.Size([10])\n",
      "tensor([0.1336, 0.0591, 0.1343, 0.4169, 0.3419, 0.4027, 0.8631, 0.7123, 0.7795,\n",
      "        0.7896, 0.2498, 0.8025, 0.8912, 0.7712, 0.7602, 0.1967, 0.2973, 0.9970,\n",
      "        0.6636, 0.5790, 0.1030, 0.9924, 0.5979, 0.0468, 0.8261, 0.2101, 0.5519,\n",
      "        0.4037, 0.8612, 0.0277])\n"
     ]
    },
    {
     "ename": "IndexError",
     "evalue": "tensors used as indices must be long, byte or bool tensors",
     "output_type": "error",
     "traceback": [
      "\u001b[1;31m---------------------------------------------------------------------------\u001b[0m",
      "\u001b[1;31mIndexError\u001b[0m                                Traceback (most recent call last)",
      "\u001b[1;32m<ipython-input-8-1818b016559c>\u001b[0m in \u001b[0;36m<module>\u001b[1;34m\u001b[0m\n\u001b[0;32m      6\u001b[0m \u001b[0midx\u001b[0m\u001b[1;33m=\u001b[0m\u001b[0mtorch\u001b[0m\u001b[1;33m.\u001b[0m\u001b[0marange\u001b[0m\u001b[1;33m(\u001b[0m\u001b[1;36m30\u001b[0m\u001b[1;33m)\u001b[0m\u001b[1;33m/\u001b[0m\u001b[1;36m3\u001b[0m\u001b[1;33m\u001b[0m\u001b[1;33m\u001b[0m\u001b[0m\n\u001b[0;32m      7\u001b[0m \u001b[0mprint\u001b[0m\u001b[1;33m(\u001b[0m\u001b[0mblh\u001b[0m\u001b[1;33m)\u001b[0m\u001b[1;33m\u001b[0m\u001b[1;33m\u001b[0m\u001b[0m\n\u001b[1;32m----> 8\u001b[1;33m \u001b[0mprint\u001b[0m\u001b[1;33m(\u001b[0m\u001b[0mbl\u001b[0m\u001b[1;33m[\u001b[0m\u001b[0midx\u001b[0m\u001b[1;33m]\u001b[0m\u001b[1;33m)\u001b[0m\u001b[1;33m\u001b[0m\u001b[1;33m\u001b[0m\u001b[0m\n\u001b[0m",
      "\u001b[1;31mIndexError\u001b[0m: tensors used as indices must be long, byte or bool tensors"
     ]
    }
   ],
   "source": [
    "#some tests on how to expand low-resolution parameter tensor to full resolution\n",
    "#in a vectorized way\n",
    "blh=torch.rand(30)\n",
    "bl=blh[::3]\n",
    "print(bl.shape)\n",
    "idx=torch.arange(30)/3\n",
    "print(blh)\n",
    "print(bl[idx])"
   ]
  },
  {
   "cell_type": "code",
   "execution_count": 5,
   "metadata": {},
   "outputs": [
    {
     "name": "stdout",
     "output_type": "stream",
     "text": [
      "torch.Size([3, 71, 31])\n"
     ]
    }
   ],
   "source": [
    "y_exact=torch.load(\"../../5S_191111_3cmp_torch.pt\")\n",
    "#first row (0) k, then (1) q, then (2) u\n",
    "#y_exact=y_exact[0:5,:]\n",
    "print(y_exact.shape)"
   ]
  },
  {
   "cell_type": "code",
   "execution_count": 8,
   "metadata": {},
   "outputs": [
    {
     "data": {
      "text/plain": [
       "tensor(29.1056, dtype=torch.float64)"
      ]
     },
     "execution_count": 8,
     "metadata": {},
     "output_type": "execute_result"
    }
   ],
   "source": [
    "y_exact[2, :, :].mean() "
   ]
  },
  {
   "cell_type": "code",
   "execution_count": 9,
   "metadata": {},
   "outputs": [
    {
     "data": {
      "text/plain": [
       "(array([[ 0.,  0.,  1.,  4.,  5.,  6., 10.,  4.,  1.,  0.],\n",
       "        [ 0.,  0.,  1.,  1.,  8.,  7.,  9.,  3.,  2.,  0.],\n",
       "        [ 0.,  0.,  1.,  1.,  8.,  3.,  9.,  7.,  2.,  0.],\n",
       "        [ 0.,  0.,  0.,  4.,  6.,  3.,  6.,  8.,  3.,  1.],\n",
       "        [ 0.,  0.,  0.,  5.,  4.,  5.,  7.,  7.,  1.,  2.],\n",
       "        [ 0.,  0.,  1.,  1.,  3., 10.,  9.,  5.,  2.,  0.],\n",
       "        [ 0.,  1.,  0.,  0.,  6.,  7.,  6.,  5.,  5.,  1.],\n",
       "        [ 0.,  1.,  0.,  1.,  7.,  5.,  6.,  6.,  4.,  1.],\n",
       "        [ 0.,  1.,  0.,  0.,  9.,  4.,  6.,  6.,  3.,  2.],\n",
       "        [ 1.,  0.,  0.,  0.,  9.,  5.,  6.,  5.,  4.,  1.],\n",
       "        [ 0.,  1.,  0.,  0.,  9.,  7.,  9.,  2.,  2.,  1.],\n",
       "        [ 0.,  1.,  0.,  0., 10.,  6.,  8.,  4.,  1.,  1.],\n",
       "        [ 0.,  1.,  0.,  0., 12.,  2.,  8.,  7.,  0.,  1.],\n",
       "        [ 0.,  1.,  0.,  1., 10.,  3.,  8.,  7.,  1.,  0.],\n",
       "        [ 0.,  1.,  0.,  2.,  6.,  9.,  4.,  5.,  4.,  0.],\n",
       "        [ 0.,  1.,  0.,  2.,  7., 10.,  4.,  2.,  3.,  2.],\n",
       "        [ 0.,  1.,  0.,  0.,  8., 10.,  5.,  4.,  3.,  0.],\n",
       "        [ 0.,  1.,  0.,  0., 10.,  5.,  7.,  3.,  4.,  1.],\n",
       "        [ 0.,  1.,  0.,  2.,  9.,  5.,  7.,  6.,  1.,  0.],\n",
       "        [ 0.,  1.,  0.,  3.,  6.,  5.,  9.,  4.,  2.,  1.],\n",
       "        [ 1.,  0.,  0.,  2.,  4.,  7.,  8.,  6.,  2.,  1.],\n",
       "        [ 0.,  1.,  0.,  1., 10.,  5.,  6.,  7.,  1.,  0.],\n",
       "        [ 1.,  0.,  0.,  3.,  8.,  7.,  5.,  5.,  0.,  2.],\n",
       "        [ 1.,  0.,  0.,  2.,  8.,  8.,  7.,  4.,  1.,  0.],\n",
       "        [ 1.,  0.,  0.,  1.,  7., 12.,  4.,  4.,  2.,  0.],\n",
       "        [ 1.,  0.,  0.,  2.,  5., 11.,  6.,  5.,  1.,  0.],\n",
       "        [ 0.,  1.,  0.,  4.,  6.,  6.,  5.,  7.,  2.,  0.],\n",
       "        [ 1.,  0.,  0.,  3.,  9.,  4.,  7.,  5.,  2.,  0.],\n",
       "        [ 0.,  1.,  0.,  1.,  6., 11.,  5.,  5.,  1.,  1.],\n",
       "        [ 1.,  0.,  0.,  1.,  9., 10.,  5.,  2.,  3.,  0.],\n",
       "        [ 1.,  0.,  2.,  2., 11.,  5.,  6.,  3.,  1.,  0.],\n",
       "        [ 1.,  0.,  0.,  2., 10., 10.,  6.,  2.,  0.,  0.],\n",
       "        [ 1.,  0.,  0.,  2.,  6.,  9.,  9.,  4.,  0.,  0.],\n",
       "        [ 1.,  0.,  0.,  1., 11.,  6.,  7.,  3.,  2.,  0.],\n",
       "        [ 1.,  0.,  0.,  1.,  9.,  9.,  6.,  3.,  1.,  1.],\n",
       "        [ 1.,  0.,  0.,  0.,  9.,  9.,  4.,  5.,  2.,  1.],\n",
       "        [ 0.,  1.,  0.,  0., 10.,  6.,  6.,  6.,  1.,  1.],\n",
       "        [ 1.,  0.,  0.,  5.,  6.,  8.,  3.,  5.,  2.,  1.],\n",
       "        [ 1.,  0.,  0.,  5.,  5.,  8.,  5.,  4.,  3.,  0.],\n",
       "        [ 0.,  1.,  0.,  4.,  7.,  7.,  5.,  5.,  1.,  1.],\n",
       "        [ 0.,  1.,  0.,  2.,  9.,  8.,  4.,  3.,  3.,  1.],\n",
       "        [ 1.,  0.,  0.,  4., 10.,  5.,  5.,  4.,  1.,  1.],\n",
       "        [ 1.,  0.,  0.,  3., 11.,  5.,  8.,  1.,  2.,  0.],\n",
       "        [ 1.,  0.,  0.,  3.,  6.,  7., 10.,  3.,  1.,  0.],\n",
       "        [ 0.,  1.,  0.,  4.,  9.,  5.,  5.,  4.,  3.,  0.],\n",
       "        [ 1.,  0.,  0.,  2., 15.,  3.,  3.,  4.,  3.,  0.],\n",
       "        [ 1.,  0.,  0.,  6.,  9.,  5.,  6.,  3.,  1.,  0.],\n",
       "        [ 0.,  1.,  0.,  5., 12.,  6.,  3.,  1.,  3.,  0.],\n",
       "        [ 1.,  0.,  0.,  6., 12.,  6.,  2.,  3.,  0.,  1.],\n",
       "        [ 1.,  0.,  0.,  7., 13.,  4.,  5.,  0.,  1.,  0.],\n",
       "        [ 1.,  0.,  0.,  5., 14.,  7.,  2.,  1.,  1.,  0.],\n",
       "        [ 1.,  0.,  1.,  8.,  9.,  8.,  4.,  0.,  0.,  0.],\n",
       "        [ 1.,  1.,  0.,  6., 13.,  5.,  4.,  1.,  0.,  0.],\n",
       "        [ 1.,  1.,  0.,  2., 19.,  8.,  0.,  0.,  0.,  0.],\n",
       "        [ 1.,  1.,  0.,  5., 13.,  7.,  4.,  0.,  0.,  0.],\n",
       "        [ 1.,  1.,  0.,  2., 16.,  8.,  2.,  1.,  0.,  0.],\n",
       "        [ 0.,  2.,  0.,  4., 12., 11.,  2.,  0.,  0.,  0.],\n",
       "        [ 0.,  1.,  1.,  3., 18.,  6.,  2.,  0.,  0.,  0.],\n",
       "        [ 1.,  0.,  1.,  7., 14.,  8.,  0.,  0.,  0.,  0.],\n",
       "        [ 1.,  0.,  3.,  8., 14.,  5.,  0.,  0.,  0.,  0.],\n",
       "        [ 0.,  1.,  1., 13., 11.,  5.,  0.,  0.,  0.,  0.],\n",
       "        [ 0.,  2.,  0., 10., 13.,  6.,  0.,  0.,  0.,  0.],\n",
       "        [ 1.,  0.,  2.,  6., 18.,  4.,  0.,  0.,  0.,  0.],\n",
       "        [ 0.,  1.,  5.,  7., 13.,  5.,  0.,  0.,  0.,  0.],\n",
       "        [ 0.,  1.,  4., 11., 12.,  3.,  0.,  0.,  0.,  0.],\n",
       "        [ 0.,  1.,  0., 18.,  6.,  5.,  1.,  0.,  0.,  0.],\n",
       "        [ 0.,  1.,  3., 15., 12.,  0.,  0.,  0.,  0.,  0.],\n",
       "        [ 0.,  1.,  2., 14.,  9.,  4.,  1.,  0.,  0.,  0.],\n",
       "        [ 0.,  0.,  2., 12., 16.,  0.,  1.,  0.,  0.,  0.],\n",
       "        [ 0.,  0.,  1., 12., 12.,  5.,  1.,  0.,  0.,  0.],\n",
       "        [ 0.,  1.,  2., 13., 13.,  2.,  0.,  0.,  0.,  0.]]),\n",
       " array([0.21      , 0.41933333, 0.62866667, 0.838     , 1.04733333,\n",
       "        1.25666667, 1.466     , 1.67533333, 1.88466667, 2.094     ,\n",
       "        2.30333333]),\n",
       " <a list of 71 BarContainer objects>)"
      ]
     },
     "execution_count": 9,
     "metadata": {},
     "output_type": "execute_result"
    },
    {
     "data": {
      "image/png": "[encoded data removed]",
      "text/plain": [
       "<Figure size 432x288 with 1 Axes>"
      ]
     },
     "metadata": {},
     "output_type": "display_data"
    }
   ],
   "source": [
    "plt.hist(y_exact[1,:,:])"
   ]
  },
  {
   "cell_type": "code",
   "execution_count": 13,
   "metadata": {},
   "outputs": [
    {
     "data": {
      "text/plain": [
       "(array([[ 0.,  0.,  1.,  0.,  0.,  1.,  4., 16.,  8.,  1.],\n",
       "        [ 0.,  0.,  1.,  0.,  0.,  1.,  5., 14.,  9.,  1.],\n",
       "        [ 0.,  0.,  1.,  0.,  0.,  1.,  4., 13., 11.,  1.],\n",
       "        [ 0.,  0.,  1.,  0.,  0.,  1.,  3., 13., 12.,  1.],\n",
       "        [ 0.,  0.,  1.,  0.,  0.,  1.,  2., 14., 12.,  1.],\n",
       "        [ 0.,  0.,  0.,  1.,  0.,  1.,  5., 11., 11.,  2.],\n",
       "        [ 0.,  0.,  1.,  0.,  0.,  1.,  4., 11., 12.,  2.],\n",
       "        [ 0.,  0.,  1.,  0.,  0.,  1.,  5., 12., 10.,  2.],\n",
       "        [ 0.,  0.,  1.,  0.,  0.,  1.,  7., 12.,  8.,  2.],\n",
       "        [ 0.,  0.,  1.,  0.,  0.,  2.,  7., 10.,  9.,  2.],\n",
       "        [ 0.,  0.,  1.,  0.,  1.,  1.,  9.,  8., 10.,  1.],\n",
       "        [ 0.,  0.,  1.,  0.,  0.,  2.,  5., 11., 11.,  1.],\n",
       "        [ 0.,  0.,  1.,  0.,  0.,  1.,  5., 13., 10.,  1.],\n",
       "        [ 0.,  0.,  0.,  1.,  1.,  0.,  5., 16.,  7.,  1.],\n",
       "        [ 0.,  0.,  1.,  0.,  0.,  1.,  5., 15.,  7.,  2.],\n",
       "        [ 0.,  0.,  1.,  0.,  0.,  1.,  5., 10., 13.,  1.],\n",
       "        [ 0.,  0.,  1.,  0.,  0.,  1.,  3., 13., 12.,  1.],\n",
       "        [ 0.,  0.,  1.,  0.,  0.,  1.,  3., 13., 11.,  2.],\n",
       "        [ 0.,  0.,  1.,  0.,  0.,  1.,  3., 12., 12.,  2.],\n",
       "        [ 0.,  0.,  1.,  0.,  0.,  1.,  5., 11., 12.,  1.],\n",
       "        [ 0.,  0.,  1.,  0.,  0.,  1.,  3., 12., 12.,  2.],\n",
       "        [ 0.,  0.,  1.,  0.,  0.,  1.,  2., 10., 15.,  2.],\n",
       "        [ 0.,  0.,  1.,  0.,  0.,  1.,  2., 12., 14.,  1.],\n",
       "        [ 0.,  0.,  1.,  0.,  0.,  1.,  2., 12., 14.,  1.],\n",
       "        [ 0.,  0.,  1.,  0.,  0.,  1.,  4., 11., 13.,  1.],\n",
       "        [ 0.,  0.,  1.,  0.,  0.,  1.,  2., 14., 12.,  1.],\n",
       "        [ 0.,  0.,  1.,  0.,  0.,  0.,  3., 11., 14.,  2.],\n",
       "        [ 0.,  0.,  0.,  1.,  0.,  0.,  2., 11., 15.,  2.],\n",
       "        [ 0.,  0.,  0.,  1.,  0.,  1.,  3., 10., 14.,  2.],\n",
       "        [ 0.,  0.,  0.,  1.,  0.,  0.,  3., 11., 14.,  2.],\n",
       "        [ 0.,  0.,  0.,  1.,  0.,  1.,  1., 10., 17.,  1.],\n",
       "        [ 0.,  0.,  0.,  1.,  0.,  0.,  3.,  9., 16.,  2.],\n",
       "        [ 0.,  0.,  0.,  1.,  0.,  0.,  3.,  9., 15.,  3.],\n",
       "        [ 0.,  0.,  0.,  1.,  0.,  0.,  3.,  9., 16.,  2.],\n",
       "        [ 0.,  0.,  0.,  1.,  0.,  1.,  3.,  9., 15.,  2.],\n",
       "        [ 0.,  0.,  0.,  1.,  0.,  1.,  3., 11., 13.,  2.],\n",
       "        [ 0.,  0.,  0.,  1.,  1.,  0.,  4., 15.,  9.,  1.],\n",
       "        [ 0.,  0.,  1.,  1.,  0.,  0.,  7., 14.,  7.,  1.],\n",
       "        [ 0.,  0.,  1.,  2.,  0.,  1.,  6., 16.,  4.,  1.],\n",
       "        [ 0.,  1.,  0.,  2.,  0.,  3.,  8., 13.,  4.,  0.],\n",
       "        [ 0.,  1.,  0.,  1.,  2.,  3.,  9., 11.,  3.,  1.],\n",
       "        [ 1.,  0.,  1.,  1.,  2.,  5.,  5., 12.,  3.,  1.],\n",
       "        [ 1.,  1.,  1.,  1.,  0.,  5.,  3., 16.,  3.,  0.],\n",
       "        [ 1.,  1.,  2.,  0.,  1.,  3.,  4., 12.,  6.,  1.],\n",
       "        [ 1.,  1.,  2.,  0.,  2.,  1.,  4., 12.,  8.,  0.],\n",
       "        [ 1.,  2.,  1.,  0.,  1.,  2.,  4., 13.,  7.,  0.],\n",
       "        [ 1.,  1.,  1.,  1.,  1.,  3.,  2., 12.,  8.,  1.],\n",
       "        [ 0.,  1.,  0.,  1.,  2.,  3.,  4.,  8., 11.,  1.],\n",
       "        [ 1.,  0.,  0.,  0.,  0.,  4.,  5.,  7., 14.,  0.],\n",
       "        [ 0.,  1.,  0.,  0.,  0.,  0.,  6., 10., 13.,  1.],\n",
       "        [ 0.,  0.,  1.,  0.,  0.,  0.,  2., 11., 17.,  0.],\n",
       "        [ 0.,  0.,  1.,  0.,  0.,  0.,  1., 14., 14.,  1.],\n",
       "        [ 0.,  0.,  1.,  0.,  0.,  0.,  2., 11., 17.,  0.],\n",
       "        [ 0.,  0.,  0.,  1.,  0.,  0.,  2., 14., 13.,  1.],\n",
       "        [ 0.,  0.,  0.,  1.,  0.,  0.,  1., 16., 10.,  3.],\n",
       "        [ 0.,  0.,  0.,  1.,  0.,  0.,  4.,  9., 14.,  3.],\n",
       "        [ 0.,  0.,  0.,  1.,  0.,  0.,  2., 15., 10.,  3.],\n",
       "        [ 0.,  0.,  0.,  1.,  0.,  0.,  2., 16., 10.,  2.],\n",
       "        [ 0.,  0.,  0.,  1.,  0.,  0.,  2., 13., 13.,  2.],\n",
       "        [ 0.,  0.,  0.,  1.,  0.,  0.,  3., 10., 14.,  3.],\n",
       "        [ 0.,  0.,  0.,  1.,  0.,  0.,  3., 14., 10.,  3.],\n",
       "        [ 0.,  0.,  0.,  1.,  0.,  0.,  2., 14., 12.,  2.],\n",
       "        [ 0.,  0.,  0.,  1.,  0.,  0.,  3., 11., 13.,  3.],\n",
       "        [ 0.,  0.,  0.,  1.,  0.,  0.,  3.,  7., 19.,  1.],\n",
       "        [ 0.,  0.,  0.,  1.,  0.,  0.,  2.,  5., 22.,  1.],\n",
       "        [ 0.,  0.,  0.,  1.,  0.,  0.,  2.,  6., 21.,  1.],\n",
       "        [ 0.,  0.,  0.,  0.,  1.,  0.,  1., 12., 15.,  2.],\n",
       "        [ 0.,  0.,  0.,  0.,  1.,  0.,  1., 13., 15.,  1.],\n",
       "        [ 0.,  0.,  0.,  1.,  0.,  0.,  1., 12., 16.,  1.],\n",
       "        [ 0.,  0.,  0.,  1.,  0.,  0.,  1.,  9., 19.,  1.],\n",
       "        [ 0.,  0.,  0.,  1.,  0.,  0.,  2.,  6., 21.,  1.]]),\n",
       " array([17.076928 , 18.6683904, 20.2598528, 21.8513152, 23.4427776,\n",
       "        25.03424  , 26.6257024, 28.2171648, 29.8086272, 31.4000896,\n",
       "        32.991552 ]),\n",
       " <a list of 71 BarContainer objects>)"
      ]
     },
     "execution_count": 13,
     "metadata": {},
     "output_type": "execute_result"
    },
    {
     "data": {
      "image/png": "[encoded data removed]",
      "text/plain": [
       "<Figure size 432x288 with 1 Axes>"
      ]
     },
     "metadata": {},
     "output_type": "display_data"
    }
   ],
   "source": [
    "plt.hist(y_exact[2,:,:])"
   ]
  },
  {
   "cell_type": "code",
   "execution_count": 10,
   "metadata": {},
   "outputs": [
    {
     "data": {
      "text/plain": [
       "tensor(0.0456, dtype=torch.float64)"
      ]
     },
     "execution_count": 10,
     "metadata": {},
     "output_type": "execute_result"
    }
   ],
   "source": [
    "y_exact[0,:,:].mean()"
   ]
  },
  {
   "cell_type": "code",
   "execution_count": 12,
   "metadata": {},
   "outputs": [
    {
     "data": {
      "text/plain": [
       "tensor(0.0069, dtype=torch.float64)"
      ]
     },
     "execution_count": 12,
     "metadata": {},
     "output_type": "execute_result"
    }
   ],
   "source": [
    "y_exact[0,:,:].min()"
   ]
  },
  {
   "cell_type": "code",
   "execution_count": 11,
   "metadata": {
    "scrolled": true
   },
   "outputs": [
    {
     "data": {
      "text/plain": [
       "tensor(0.0456, dtype=torch.float64)"
      ]
     },
     "execution_count": 11,
     "metadata": {},
     "output_type": "execute_result"
    }
   ],
   "source": [
    "y_exact[0,:,:].mean().mean()"
   ]
  },
  {
   "cell_type": "code",
   "execution_count": 12,
   "metadata": {},
   "outputs": [
    {
     "data": {
      "text/plain": [
       "tensor(32.9916, dtype=torch.float64)"
      ]
     },
     "execution_count": 12,
     "metadata": {},
     "output_type": "execute_result"
    }
   ],
   "source": [
    "#maximum observed velocity.  Indication for characteristic velocity $v_f$.\n",
    "y_exact[2,:,:].max()"
   ]
  },
  {
   "cell_type": "code",
   "execution_count": 13,
   "metadata": {},
   "outputs": [
    {
     "data": {
      "text/plain": [
       "tensor(0.0995, dtype=torch.float64)"
      ]
     },
     "execution_count": 13,
     "metadata": {},
     "output_type": "execute_result"
    }
   ],
   "source": [
    "#maximum observed density.  Jam density $k_j$ can not be lower than this!\n",
    "y_exact[0,:,:].max()"
   ]
  },
  {
   "cell_type": "markdown",
   "metadata": {},
   "source": [
    "### Normalization "
   ]
  },
  {
   "cell_type": "code",
   "execution_count": 9,
   "metadata": {},
   "outputs": [],
   "source": [
    "# min-max normalization for k and u \n",
    "y_min = torch.tensor([y_exact[0, :, :].min(), y_exact[1, :, :].min(), y_exact[2, :, :].min()])\n",
    "y_max = torch.tensor([y_exact[0, :, :].max(), y_exact[1, :, :].max(), y_exact[2, :, :].max()])\n",
    "y_norm = torch.zeros(y_exact.shape, dtype = torch.double) \n",
    "y_norm[0, :, :] = (y_exact[0, :, :] - y_min[0]) / (y_max[0] - y_min[0]) \n",
    "# y_norm[1, :, :] = (y_exact[1, :, :] - y_min[1]) / (y_max[1] - y_min[1]) \n",
    "y_norm[1, :, :] = y_exact[1, :, :]\n",
    "y_norm[2, :, :] = (y_exact[2, :, :] - y_min[2]) / (y_max[2] - y_min[2]) "
   ]
  },
  {
   "cell_type": "code",
   "execution_count": 11,
   "metadata": {},
   "outputs": [
    {
     "data": {
      "text/plain": [
       "tensor(0.0069, dtype=torch.float64)"
      ]
     },
     "execution_count": 11,
     "metadata": {},
     "output_type": "execute_result"
    }
   ],
   "source": [
    "y_min[0]"
   ]
  },
  {
   "cell_type": "code",
   "execution_count": 12,
   "metadata": {},
   "outputs": [
    {
     "data": {
      "text/plain": [
       "(array([[ 0.,  0.,  1.,  0.,  0.,  1.,  4., 16.,  8.,  1.],\n",
       "        [ 0.,  0.,  1.,  0.,  0.,  1.,  5., 14.,  9.,  1.],\n",
       "        [ 0.,  0.,  1.,  0.,  0.,  1.,  4., 13., 11.,  1.],\n",
       "        [ 0.,  0.,  1.,  0.,  0.,  1.,  3., 13., 12.,  1.],\n",
       "        [ 0.,  0.,  1.,  0.,  0.,  1.,  2., 14., 12.,  1.],\n",
       "        [ 0.,  0.,  0.,  1.,  0.,  1.,  5., 11., 11.,  2.],\n",
       "        [ 0.,  0.,  1.,  0.,  0.,  1.,  4., 11., 12.,  2.],\n",
       "        [ 0.,  0.,  1.,  0.,  0.,  1.,  5., 12., 10.,  2.],\n",
       "        [ 0.,  0.,  1.,  0.,  0.,  1.,  7., 12.,  8.,  2.],\n",
       "        [ 0.,  0.,  1.,  0.,  0.,  2.,  7., 10.,  9.,  2.],\n",
       "        [ 0.,  0.,  1.,  0.,  1.,  1.,  9.,  8., 10.,  1.],\n",
       "        [ 0.,  0.,  1.,  0.,  0.,  2.,  5., 11., 11.,  1.],\n",
       "        [ 0.,  0.,  1.,  0.,  0.,  1.,  5., 13., 10.,  1.],\n",
       "        [ 0.,  0.,  0.,  1.,  1.,  0.,  5., 16.,  7.,  1.],\n",
       "        [ 0.,  0.,  1.,  0.,  0.,  1.,  5., 15.,  7.,  2.],\n",
       "        [ 0.,  0.,  1.,  0.,  0.,  1.,  5., 10., 13.,  1.],\n",
       "        [ 0.,  0.,  1.,  0.,  0.,  1.,  3., 13., 12.,  1.],\n",
       "        [ 0.,  0.,  1.,  0.,  0.,  1.,  3., 13., 11.,  2.],\n",
       "        [ 0.,  0.,  1.,  0.,  0.,  1.,  3., 12., 12.,  2.],\n",
       "        [ 0.,  0.,  1.,  0.,  0.,  1.,  5., 11., 12.,  1.],\n",
       "        [ 0.,  0.,  1.,  0.,  0.,  1.,  3., 12., 12.,  2.],\n",
       "        [ 0.,  0.,  1.,  0.,  0.,  1.,  2., 10., 15.,  2.],\n",
       "        [ 0.,  0.,  1.,  0.,  0.,  1.,  2., 12., 14.,  1.],\n",
       "        [ 0.,  0.,  1.,  0.,  0.,  1.,  2., 12., 14.,  1.],\n",
       "        [ 0.,  0.,  1.,  0.,  0.,  1.,  4., 11., 13.,  1.],\n",
       "        [ 0.,  0.,  1.,  0.,  0.,  1.,  2., 14., 12.,  1.],\n",
       "        [ 0.,  0.,  1.,  0.,  0.,  0.,  3., 11., 14.,  2.],\n",
       "        [ 0.,  0.,  0.,  1.,  0.,  0.,  2., 11., 15.,  2.],\n",
       "        [ 0.,  0.,  0.,  1.,  0.,  1.,  3., 10., 14.,  2.],\n",
       "        [ 0.,  0.,  0.,  1.,  0.,  0.,  3., 11., 14.,  2.],\n",
       "        [ 0.,  0.,  0.,  1.,  0.,  1.,  1., 10., 17.,  1.],\n",
       "        [ 0.,  0.,  0.,  1.,  0.,  0.,  3.,  9., 16.,  2.],\n",
       "        [ 0.,  0.,  0.,  1.,  0.,  0.,  3.,  9., 15.,  3.],\n",
       "        [ 0.,  0.,  0.,  1.,  0.,  0.,  3.,  9., 16.,  2.],\n",
       "        [ 0.,  0.,  0.,  1.,  0.,  1.,  3.,  9., 15.,  2.],\n",
       "        [ 0.,  0.,  0.,  1.,  0.,  1.,  3., 11., 13.,  2.],\n",
       "        [ 0.,  0.,  0.,  1.,  1.,  0.,  4., 15.,  9.,  1.],\n",
       "        [ 0.,  0.,  1.,  1.,  0.,  0.,  7., 14.,  7.,  1.],\n",
       "        [ 0.,  0.,  1.,  2.,  0.,  1.,  6., 16.,  4.,  1.],\n",
       "        [ 0.,  1.,  0.,  2.,  0.,  3.,  8., 13.,  4.,  0.],\n",
       "        [ 0.,  1.,  0.,  1.,  2.,  3.,  9., 11.,  3.,  1.],\n",
       "        [ 1.,  0.,  1.,  1.,  2.,  5.,  5., 12.,  3.,  1.],\n",
       "        [ 1.,  1.,  1.,  1.,  0.,  5.,  3., 16.,  3.,  0.],\n",
       "        [ 1.,  1.,  2.,  0.,  1.,  3.,  4., 12.,  6.,  1.],\n",
       "        [ 1.,  1.,  2.,  0.,  2.,  1.,  4., 12.,  8.,  0.],\n",
       "        [ 1.,  2.,  1.,  0.,  1.,  2.,  4., 13.,  7.,  0.],\n",
       "        [ 1.,  1.,  1.,  1.,  1.,  3.,  2., 12.,  8.,  1.],\n",
       "        [ 0.,  1.,  0.,  1.,  2.,  3.,  4.,  8., 11.,  1.],\n",
       "        [ 1.,  0.,  0.,  0.,  0.,  4.,  5.,  7., 14.,  0.],\n",
       "        [ 0.,  1.,  0.,  0.,  0.,  0.,  6., 10., 13.,  1.],\n",
       "        [ 0.,  0.,  1.,  0.,  0.,  0.,  2., 11., 17.,  0.],\n",
       "        [ 0.,  0.,  1.,  0.,  0.,  0.,  1., 14., 14.,  1.],\n",
       "        [ 0.,  0.,  1.,  0.,  0.,  0.,  2., 11., 17.,  0.],\n",
       "        [ 0.,  0.,  0.,  1.,  0.,  0.,  2., 14., 13.,  1.],\n",
       "        [ 0.,  0.,  0.,  1.,  0.,  0.,  1., 16., 10.,  3.],\n",
       "        [ 0.,  0.,  0.,  1.,  0.,  0.,  4.,  9., 14.,  3.],\n",
       "        [ 0.,  0.,  0.,  1.,  0.,  0.,  2., 15., 10.,  3.],\n",
       "        [ 0.,  0.,  0.,  1.,  0.,  0.,  2., 16., 10.,  2.],\n",
       "        [ 0.,  0.,  0.,  1.,  0.,  0.,  2., 13., 13.,  2.],\n",
       "        [ 0.,  0.,  0.,  1.,  0.,  0.,  3., 10., 14.,  3.],\n",
       "        [ 0.,  0.,  0.,  1.,  0.,  0.,  3., 14., 10.,  3.],\n",
       "        [ 0.,  0.,  0.,  1.,  0.,  0.,  2., 14., 12.,  2.],\n",
       "        [ 0.,  0.,  0.,  1.,  0.,  0.,  3., 11., 13.,  3.],\n",
       "        [ 0.,  0.,  0.,  1.,  0.,  0.,  3.,  7., 19.,  1.],\n",
       "        [ 0.,  0.,  0.,  1.,  0.,  0.,  2.,  5., 22.,  1.],\n",
       "        [ 0.,  0.,  0.,  1.,  0.,  0.,  2.,  6., 21.,  1.],\n",
       "        [ 0.,  0.,  0.,  0.,  1.,  0.,  1., 12., 15.,  2.],\n",
       "        [ 0.,  0.,  0.,  0.,  1.,  0.,  1., 13., 15.,  1.],\n",
       "        [ 0.,  0.,  0.,  1.,  0.,  0.,  1., 12., 16.,  1.],\n",
       "        [ 0.,  0.,  0.,  1.,  0.,  0.,  1.,  9., 19.,  1.],\n",
       "        [ 0.,  0.,  0.,  1.,  0.,  0.,  2.,  6., 21.,  1.]]),\n",
       " array([0. , 0.1, 0.2, 0.3, 0.4, 0.5, 0.6, 0.7, 0.8, 0.9, 1. ]),\n",
       " <a list of 71 BarContainer objects>)"
      ]
     },
     "execution_count": 12,
     "metadata": {},
     "output_type": "execute_result"
    },
    {
     "data": {
      "image/png": "[encoded data removed]",
      "text/plain": [
       "<Figure size 432x288 with 1 Axes>"
      ]
     },
     "metadata": {},
     "output_type": "display_data"
    }
   ],
   "source": [
    "plt.hist(y_norm[2, :, :])"
   ]
  },
  {
   "cell_type": "code",
   "execution_count": 10,
   "metadata": {},
   "outputs": [
    {
     "name": "stdout",
     "output_type": "stream",
     "text": [
      "1.0 21300\n"
     ]
    }
   ],
   "source": [
    "import numpy as np\n",
    "#nx=350  # \n",
    "nx=120\n",
    "#kj needs to be larger than k for the solution to be stable \n",
    "kj = np.ones((nx,), dtype=float) * 0.2\n",
    "kj = (kj - y_min[0].numpy()) / (y_max[0].numpy() - y_min[0].numpy()) # normalize\n",
    "\n",
    "#characteristic velocity (m/s), corresponds to roughly 120 km/h\n",
    "vf = np.ones((nx,), dtype=float) * 33\n",
    "vf = (vf - y_min[2].numpy()) / (y_max[2].numpy() - y_min[2].numpy()) # normalize\n",
    "\n",
    "dx=300.\n",
    "dt=1.\n",
    "#need an output every 5 mins (300 s), so tskip = 3 with dt = 3s\n",
    "tskip=300\n",
    "#nt=int(3600*6/6 - 50)\n",
    "#nt=7099 #6 hours (times 3600 s/hour divided by dt=3s)\n",
    "nto=(y_exact.shape[1]+1) \n",
    "#nt=int(3600*nto/12/6/dt - tskip)\n",
    "dtobs=300\n",
    "nt=int((dtobs*nto)/dt - tskip)\n",
    "print(dt,nt)\n",
    "\n",
    "#assert int(nt/tskip) == nto"
   ]
  },
  {
   "cell_type": "code",
   "execution_count": 11,
   "metadata": {},
   "outputs": [
    {
     "data": {
      "text/plain": [
       "tensor(32.9916, dtype=torch.float64)"
      ]
     },
     "execution_count": 11,
     "metadata": {},
     "output_type": "execute_result"
    }
   ],
   "source": [
    "y_max[2]"
   ]
  },
  {
   "cell_type": "code",
   "execution_count": 12,
   "metadata": {},
   "outputs": [
    {
     "data": {
      "text/plain": [
       "array([2.0846068, 2.0846068, 2.0846068, 2.0846068, 2.0846068, 2.0846068,\n",
       "       2.0846068, 2.0846068, 2.0846068, 2.0846068, 2.0846068, 2.0846068,\n",
       "       2.0846068, 2.0846068, 2.0846068, 2.0846068, 2.0846068, 2.0846068,\n",
       "       2.0846068, 2.0846068, 2.0846068, 2.0846068, 2.0846068, 2.0846068,\n",
       "       2.0846068, 2.0846068, 2.0846068, 2.0846068, 2.0846068, 2.0846068,\n",
       "       2.0846068, 2.0846068, 2.0846068, 2.0846068, 2.0846068, 2.0846068,\n",
       "       2.0846068, 2.0846068, 2.0846068, 2.0846068, 2.0846068, 2.0846068,\n",
       "       2.0846068, 2.0846068, 2.0846068, 2.0846068, 2.0846068, 2.0846068,\n",
       "       2.0846068, 2.0846068, 2.0846068, 2.0846068, 2.0846068, 2.0846068,\n",
       "       2.0846068, 2.0846068, 2.0846068, 2.0846068, 2.0846068, 2.0846068,\n",
       "       2.0846068, 2.0846068, 2.0846068, 2.0846068, 2.0846068, 2.0846068,\n",
       "       2.0846068, 2.0846068, 2.0846068, 2.0846068, 2.0846068, 2.0846068,\n",
       "       2.0846068, 2.0846068, 2.0846068, 2.0846068, 2.0846068, 2.0846068,\n",
       "       2.0846068, 2.0846068, 2.0846068, 2.0846068, 2.0846068, 2.0846068,\n",
       "       2.0846068, 2.0846068, 2.0846068, 2.0846068, 2.0846068, 2.0846068,\n",
       "       2.0846068, 2.0846068, 2.0846068, 2.0846068, 2.0846068, 2.0846068,\n",
       "       2.0846068, 2.0846068, 2.0846068, 2.0846068, 2.0846068, 2.0846068,\n",
       "       2.0846068, 2.0846068, 2.0846068, 2.0846068, 2.0846068, 2.0846068,\n",
       "       2.0846068, 2.0846068, 2.0846068, 2.0846068, 2.0846068, 2.0846068,\n",
       "       2.0846068, 2.0846068, 2.0846068, 2.0846068, 2.0846068, 2.0846068])"
      ]
     },
     "execution_count": 12,
     "metadata": {},
     "output_type": "execute_result"
    }
   ],
   "source": [
    "kj"
   ]
  },
  {
   "cell_type": "code",
   "execution_count": 13,
   "metadata": {},
   "outputs": [
    {
     "data": {
      "text/plain": [
       "array([1.00053083, 1.00053083, 1.00053083, 1.00053083, 1.00053083,\n",
       "       1.00053083, 1.00053083, 1.00053083, 1.00053083, 1.00053083,\n",
       "       1.00053083, 1.00053083, 1.00053083, 1.00053083, 1.00053083,\n",
       "       1.00053083, 1.00053083, 1.00053083, 1.00053083, 1.00053083,\n",
       "       1.00053083, 1.00053083, 1.00053083, 1.00053083, 1.00053083,\n",
       "       1.00053083, 1.00053083, 1.00053083, 1.00053083, 1.00053083,\n",
       "       1.00053083, 1.00053083, 1.00053083, 1.00053083, 1.00053083,\n",
       "       1.00053083, 1.00053083, 1.00053083, 1.00053083, 1.00053083,\n",
       "       1.00053083, 1.00053083, 1.00053083, 1.00053083, 1.00053083,\n",
       "       1.00053083, 1.00053083, 1.00053083, 1.00053083, 1.00053083,\n",
       "       1.00053083, 1.00053083, 1.00053083, 1.00053083, 1.00053083,\n",
       "       1.00053083, 1.00053083, 1.00053083, 1.00053083, 1.00053083,\n",
       "       1.00053083, 1.00053083, 1.00053083, 1.00053083, 1.00053083,\n",
       "       1.00053083, 1.00053083, 1.00053083, 1.00053083, 1.00053083,\n",
       "       1.00053083, 1.00053083, 1.00053083, 1.00053083, 1.00053083,\n",
       "       1.00053083, 1.00053083, 1.00053083, 1.00053083, 1.00053083,\n",
       "       1.00053083, 1.00053083, 1.00053083, 1.00053083, 1.00053083,\n",
       "       1.00053083, 1.00053083, 1.00053083, 1.00053083, 1.00053083,\n",
       "       1.00053083, 1.00053083, 1.00053083, 1.00053083, 1.00053083,\n",
       "       1.00053083, 1.00053083, 1.00053083, 1.00053083, 1.00053083,\n",
       "       1.00053083, 1.00053083, 1.00053083, 1.00053083, 1.00053083,\n",
       "       1.00053083, 1.00053083, 1.00053083, 1.00053083, 1.00053083,\n",
       "       1.00053083, 1.00053083, 1.00053083, 1.00053083, 1.00053083,\n",
       "       1.00053083, 1.00053083, 1.00053083, 1.00053083, 1.00053083])"
      ]
     },
     "execution_count": 13,
     "metadata": {},
     "output_type": "execute_result"
    }
   ],
   "source": [
    "vf"
   ]
  },
  {
   "cell_type": "code",
   "execution_count": 17,
   "metadata": {},
   "outputs": [
    {
     "ename": "FileNotFoundError",
     "evalue": "[Errno 2] No such file or directory: '5S_station_pos_idx_dx=0300m.json'",
     "output_type": "error",
     "traceback": [
      "\u001b[1;31m---------------------------------------------------------------------------\u001b[0m",
      "\u001b[1;31mFileNotFoundError\u001b[0m                         Traceback (most recent call last)",
      "\u001b[1;32mC:\\Users\\STEPHE~1\\AppData\\Local\\Temp/ipykernel_19164/1566647144.py\u001b[0m in \u001b[0;36m<module>\u001b[1;34m\u001b[0m\n\u001b[0;32m      2\u001b[0m \u001b[1;32mimport\u001b[0m \u001b[0mjson\u001b[0m\u001b[1;33m\u001b[0m\u001b[1;33m\u001b[0m\u001b[0m\n\u001b[0;32m      3\u001b[0m \u001b[1;33m\u001b[0m\u001b[0m\n\u001b[1;32m----> 4\u001b[1;33m \u001b[0mstation_pos_idx\u001b[0m\u001b[1;33m=\u001b[0m\u001b[0mjson\u001b[0m\u001b[1;33m.\u001b[0m\u001b[0mload\u001b[0m\u001b[1;33m(\u001b[0m\u001b[0mopen\u001b[0m\u001b[1;33m(\u001b[0m\u001b[1;34m\"5S_station_pos_idx_dx=%04dm.json\"\u001b[0m \u001b[1;33m%\u001b[0m \u001b[0mint\u001b[0m\u001b[1;33m(\u001b[0m\u001b[0mdx\u001b[0m\u001b[1;33m)\u001b[0m\u001b[1;33m,\u001b[0m \u001b[1;34m\"rb\"\u001b[0m\u001b[1;33m)\u001b[0m\u001b[1;33m)\u001b[0m\u001b[1;33m\u001b[0m\u001b[1;33m\u001b[0m\u001b[0m\n\u001b[0m\u001b[0;32m      5\u001b[0m \u001b[1;31m#station_pos_idx=pd.read_json(\"station_pos_idx.json\")\u001b[0m\u001b[1;33m\u001b[0m\u001b[1;33m\u001b[0m\u001b[1;33m\u001b[0m\u001b[0m\n\u001b[0;32m      6\u001b[0m \u001b[0mxi\u001b[0m\u001b[1;33m=\u001b[0m\u001b[0mlist\u001b[0m\u001b[1;33m(\u001b[0m\u001b[0mstation_pos_idx\u001b[0m\u001b[1;33m.\u001b[0m\u001b[0mvalues\u001b[0m\u001b[1;33m(\u001b[0m\u001b[1;33m)\u001b[0m\u001b[1;33m)\u001b[0m\u001b[1;33m\u001b[0m\u001b[1;33m\u001b[0m\u001b[0m\n",
      "\u001b[1;31mFileNotFoundError\u001b[0m: [Errno 2] No such file or directory: '5S_station_pos_idx_dx=0300m.json'"
     ]
    }
   ],
   "source": [
    "#import pandas as pd\n",
    "import json\n",
    "\n",
    "station_pos_idx=json.load(open(\"5S_station_pos_idx_dx=%04dm.json\" % int(dx), \"rb\"))\n",
    "#station_pos_idx=pd.read_json(\"station_pos_idx.json\")\n",
    "xi=list(station_pos_idx.values())\n",
    "\n",
    "xi0=xi[0]\n",
    "for p in range(len(xi)):\n",
    "    xi[p] = xi[p] - xi0\n",
    "\n",
    "#shift xi's such that model starts at first receiver\n",
    "#(because observed data at this receiver is input at upstream model end)\n",
    "print(xi)\n",
    "#xi=xi-xi[0]\n",
    "#xi"
   ]
  },
  {
   "cell_type": "code",
   "execution_count": 14,
   "metadata": {},
   "outputs": [],
   "source": [
    "xi = [0, 4, 12, 22, 32, 39, 46, 50, 54, 57, 59, 63, 66, 69, 71, 74, 76, 81, 84, 86, 89, 91, 95, 96, 98, 100, 102, 105, 108, 110, 112]"
   ]
  },
  {
   "cell_type": "markdown",
   "metadata": {},
   "source": [
    "The exact solution is provided in cars / km.  However, I changed the units from km and hours to meters and seconds.  Therefore, the density should be divided by 1000.\n",
    "\n",
    "**Update:** Not needed, `avg_occupancy` is already given in cars/meters (check this.  They might be using miles)."
   ]
  },
  {
   "cell_type": "code",
   "execution_count": 15,
   "metadata": {},
   "outputs": [
    {
     "data": {
      "text/plain": [
       "tensor([0.0000e+00, 1.0000e+00, 2.0001e+00,  ..., 2.1298e+04, 2.1299e+04,\n",
       "        2.1300e+04], dtype=torch.float64, requires_grad=True)"
      ]
     },
     "execution_count": 15,
     "metadata": {},
     "output_type": "execute_result"
    }
   ],
   "source": [
    "steps=torch.tensor(np.linspace(0, nt, nt), requires_grad=True)\n",
    "steps"
   ]
  },
  {
   "cell_type": "markdown",
   "metadata": {},
   "source": [
    "Defining the initial values of the traffic density in the model.  They need to be defined on every point on the computational grid, not just at those positions where there is data.  I am interpolating them between the sensors, and extrapolating using initial values on the end sensors."
   ]
  },
  {
   "cell_type": "code",
   "execution_count": 2,
   "metadata": {},
   "outputs": [
    {
     "ename": "NameError",
     "evalue": "name 'xi' is not defined",
     "output_type": "error",
     "traceback": [
      "\u001b[1;31m---------------------------------------------------------------------------\u001b[0m",
      "\u001b[1;31mNameError\u001b[0m                                 Traceback (most recent call last)",
      "\u001b[1;32mC:\\Users\\STEPHE~1\\AppData\\Local\\Temp/ipykernel_10844/195235193.py\u001b[0m in \u001b[0;36m<module>\u001b[1;34m\u001b[0m\n\u001b[0;32m      1\u001b[0m \u001b[1;32mfrom\u001b[0m \u001b[0mscipy\u001b[0m\u001b[1;33m.\u001b[0m\u001b[0minterpolate\u001b[0m \u001b[1;32mimport\u001b[0m \u001b[0minterp1d\u001b[0m\u001b[1;33m\u001b[0m\u001b[1;33m\u001b[0m\u001b[0m\n\u001b[1;32m----> 2\u001b[1;33m \u001b[0mprint\u001b[0m\u001b[1;33m(\u001b[0m\u001b[0mxi\u001b[0m\u001b[1;33m)\u001b[0m\u001b[1;33m\u001b[0m\u001b[1;33m\u001b[0m\u001b[0m\n\u001b[0m\u001b[0;32m      3\u001b[0m \u001b[1;32mdef\u001b[0m \u001b[0minterpolate_initial\u001b[0m\u001b[1;33m(\u001b[0m\u001b[0mvar\u001b[0m\u001b[1;33m,\u001b[0m \u001b[0mt0\u001b[0m\u001b[1;33m=\u001b[0m\u001b[1;36m0\u001b[0m\u001b[1;33m)\u001b[0m\u001b[1;33m:\u001b[0m\u001b[1;33m\u001b[0m\u001b[1;33m\u001b[0m\u001b[0m\n\u001b[0;32m      4\u001b[0m     IM=interp1d(np.array(xi)*dx, var[t0,:].numpy(), bounds_error=False, \n\u001b[0;32m      5\u001b[0m                 fill_value=(var[t0,0], var[t0,-1]), kind='linear')\n",
      "\u001b[1;31mNameError\u001b[0m: name 'xi' is not defined"
     ]
    }
   ],
   "source": [
    "from scipy.interpolate import interp1d\n",
    "print(xi)\n",
    "def interpolate_initial(var, t0=0):\n",
    "    IM=interp1d(np.array(xi)*dx, var[t0,:].numpy(), bounds_error=False, \n",
    "                fill_value=(var[t0,0], var[t0,-1]), kind='linear')\n",
    "    \n",
    "    x=np.linspace(0, (nx-1)*dx, nx)\n",
    "    return IM(x)"
   ]
  },
  {
   "cell_type": "code",
   "execution_count": 1,
   "metadata": {},
   "outputs": [
    {
     "ename": "NameError",
     "evalue": "name 'xi' is not defined",
     "output_type": "error",
     "traceback": [
      "\u001b[1;31m---------------------------------------------------------------------------\u001b[0m",
      "\u001b[1;31mNameError\u001b[0m                                 Traceback (most recent call last)",
      "\u001b[1;32mC:\\Users\\STEPHE~1\\AppData\\Local\\Temp/ipykernel_10844/3986599868.py\u001b[0m in \u001b[0;36m<module>\u001b[1;34m\u001b[0m\n\u001b[0;32m      1\u001b[0m \u001b[1;32mfrom\u001b[0m \u001b[0mscipy\u001b[0m\u001b[1;33m.\u001b[0m\u001b[0minterpolate\u001b[0m \u001b[1;32mimport\u001b[0m \u001b[0mInterpolatedUnivariateSpline\u001b[0m\u001b[1;33m\u001b[0m\u001b[1;33m\u001b[0m\u001b[0m\n\u001b[1;32m----> 2\u001b[1;33m \u001b[0ms\u001b[0m \u001b[1;33m=\u001b[0m \u001b[0mInterpolatedUnivariateSpline\u001b[0m\u001b[1;33m(\u001b[0m\u001b[0mxi\u001b[0m\u001b[1;33m,\u001b[0m \u001b[0myi\u001b[0m\u001b[1;33m,\u001b[0m \u001b[0mk\u001b[0m\u001b[1;33m=\u001b[0m\u001b[0morder\u001b[0m\u001b[1;33m)\u001b[0m\u001b[1;33m\u001b[0m\u001b[1;33m\u001b[0m\u001b[0m\n\u001b[0m\u001b[0;32m      3\u001b[0m \u001b[0my\u001b[0m \u001b[1;33m=\u001b[0m \u001b[0ms\u001b[0m\u001b[1;33m(\u001b[0m\u001b[0mx\u001b[0m\u001b[1;33m)\u001b[0m\u001b[1;33m\u001b[0m\u001b[1;33m\u001b[0m\u001b[0m\n\u001b[0;32m      4\u001b[0m \u001b[1;32mdef\u001b[0m \u001b[0mfunc\u001b[0m\u001b[1;33m(\u001b[0m\u001b[0mvar\u001b[0m\u001b[1;33m,\u001b[0m \u001b[0mt0\u001b[0m\u001b[1;33m=\u001b[0m\u001b[1;36m0\u001b[0m\u001b[1;33m)\u001b[0m\u001b[1;33m:\u001b[0m\u001b[1;33m\u001b[0m\u001b[1;33m\u001b[0m\u001b[0m\n\u001b[0;32m      5\u001b[0m     \u001b[0mIM\u001b[0m\u001b[1;33m=\u001b[0m\u001b[0mInterpolatedUnivariateSpline\u001b[0m\u001b[1;33m(\u001b[0m\u001b[0mnp\u001b[0m\u001b[1;33m.\u001b[0m\u001b[0marray\u001b[0m\u001b[1;33m(\u001b[0m\u001b[0mxi\u001b[0m\u001b[1;33m)\u001b[0m \u001b[1;33m*\u001b[0m \u001b[0mdx\u001b[0m\u001b[1;33m,\u001b[0m \u001b[0mvar\u001b[0m\u001b[1;33m[\u001b[0m\u001b[0mt0\u001b[0m\u001b[1;33m,\u001b[0m\u001b[1;33m:\u001b[0m\u001b[1;33m]\u001b[0m\u001b[1;33m.\u001b[0m\u001b[0mnumpy\u001b[0m\u001b[1;33m(\u001b[0m\u001b[1;33m)\u001b[0m\u001b[1;33m,\u001b[0m \u001b[0mk\u001b[0m \u001b[1;33m=\u001b[0m \u001b[1;36m1\u001b[0m\u001b[1;33m)\u001b[0m\u001b[1;33m\u001b[0m\u001b[1;33m\u001b[0m\u001b[0m\n",
      "\u001b[1;31mNameError\u001b[0m: name 'xi' is not defined"
     ]
    }
   ],
   "source": [
    "from scipy.interpolate import InterpolatedUnivariateSpline\n",
    "s = InterpolatedUnivariateSpline(xi, yi, k=order)\n",
    "y = s(x)\n",
    "def func(var, t0=0): \n",
    "    IM=InterpolatedUnivariateSpline(np.array(xi) * dx, var[t0,:].numpy(), k = 1)\n",
    "    x=np.linspace(0, (nx-1)*dx, nx)\n",
    "    return IM(x)"
   ]
  },
  {
   "cell_type": "code",
   "execution_count": 17,
   "metadata": {},
   "outputs": [
    {
     "name": "stdout",
     "output_type": "stream",
     "text": [
      "0.7202583590443943\n",
      "(120,)\n",
      "1.9066666666666667\n",
      "(120,)\n",
      "0.9269662921348317\n",
      "(120,)\n"
     ]
    }
   ],
   "source": [
    "k_initial={}\n",
    "cmps = [\"k\",\"q\",\"u\"]\n",
    "for n,c in enumerate(cmps):\n",
    "    k_initial[c]=interpolate_initial(y_norm[n,:])\n",
    "    print(k_initial[c].max())\n",
    "    print(k_initial[c].shape)"
   ]
  },
  {
   "cell_type": "markdown",
   "metadata": {},
   "source": [
    "The boundary condition at the upstream end also need to be interpolated:"
   ]
  },
  {
   "cell_type": "code",
   "execution_count": 18,
   "metadata": {},
   "outputs": [
    {
     "name": "stdout",
     "output_type": "stream",
     "text": [
      "71 3\n",
      "(21300,) 0.43213868956724444\n",
      "(21300,) 1.49\n",
      "(21300,) 0.9859550561797752\n"
     ]
    },
    {
     "data": {
      "text/plain": [
       "[<matplotlib.lines.Line2D at 0x18124eaae20>]"
      ]
     },
     "execution_count": 18,
     "metadata": {},
     "output_type": "execute_result"
    },
    {
     "data": {
      "image/png": "[encoded data removed]",
      "text/plain": [
       "<Figure size 432x288 with 1 Axes>"
      ]
     },
     "metadata": {},
     "output_type": "display_data"
    }
   ],
   "source": [
    "ti=np.arange(0, (nt-1)*dt, tskip*dt )\n",
    "print(len(ti), y_norm.shape[0])\n",
    "t=np.linspace(0, (nt-1)*dt, nt)\n",
    "#print(len(ti), len(y_exact))\n",
    "#print(t)\n",
    "\n",
    "k_boundary={}\n",
    "\n",
    "for n,c in enumerate(cmps):\n",
    "    IMb=interp1d(np.array(ti), y_norm[n,:,0].numpy(), bounds_error=False,\n",
    "             fill_value=(y_norm[n,0,0], y_norm[n,-1,0]),\n",
    "             kind='linear')\n",
    "    k_boundary[c]=IMb(t)\n",
    "    print(k_boundary[c].shape, k_boundary[c].max())\n",
    "\n",
    "fig2,ax2=plt.subplots()\n",
    "ax2.plot(ti, y_norm[0,:,0], marker='o', linewidth=0)\n",
    "ax2.plot(t, k_boundary[\"k\"])"
   ]
  },
  {
   "cell_type": "code",
   "execution_count": 19,
   "metadata": {},
   "outputs": [
    {
     "data": {
      "text/plain": [
       "True"
      ]
     },
     "execution_count": 19,
     "metadata": {},
     "output_type": "execute_result"
    }
   ],
   "source": [
    "list(k_initial.keys()) ==  cmps"
   ]
  },
  {
   "cell_type": "code",
   "execution_count": 20,
   "metadata": {},
   "outputs": [],
   "source": [
    "tdnu = Neural_LWR_sparse2_3cmp(nx, dx, dt, kj, vf, xi, tskip, y_max, y_min, \n",
    "                          initial=k_initial, boundary=k_boundary, \n",
    "                               fix_vf=False, parstep=10)"
   ]
  },
  {
   "cell_type": "code",
   "execution_count": 21,
   "metadata": {},
   "outputs": [],
   "source": [
    "#torch.optim.lr_scheduler.StepLR?\n",
    "#torch.optim.SGD?"
   ]
  },
  {
   "cell_type": "code",
   "execution_count": 22,
   "metadata": {},
   "outputs": [],
   "source": [
    "optimizer = torch.optim.Adam(tdnu.parameters(), lr=0.01)\n",
    "#optimizer = torch.optim.SGD(tdnu.parameters(), lr=0.001)\n",
    "scheduler = torch.optim.lr_scheduler.StepLR(optimizer, step_size= 5, gamma=0.95) #0.95 #step_size=1\n",
    "#torch.optim.lr_scheduler.StepLR?"
   ]
  },
  {
   "cell_type": "markdown",
   "metadata": {},
   "source": [
    "- reduce time step $\\Delta t$\n",
    "- try different optimizer\n",
    "- reduce learning rate decay (step_size in scheduler) - 500 epochs"
   ]
  },
  {
   "cell_type": "code",
   "execution_count": 23,
   "metadata": {},
   "outputs": [],
   "source": [
    "num_epochs = 100\n",
    "loss_fun = torch.nn.MSELoss()\n",
    "min_loss = 10"
   ]
  },
  {
   "cell_type": "code",
   "execution_count": 24,
   "metadata": {},
   "outputs": [
    {
     "name": "stdout",
     "output_type": "stream",
     "text": [
      "20400\n",
      "67\n",
      "torch.Size([3, 68, 31]) torch.Size([3, 68, 31])\n"
     ]
    }
   ],
   "source": [
    "y_approx = tdnu(steps[0:68*tskip].long())\n",
    "print(y_exact[:,0:68].shape, y_approx.shape)"
   ]
  },
  {
   "cell_type": "code",
   "execution_count": 29,
   "metadata": {},
   "outputs": [
    {
     "data": {
      "text/plain": [
       "torch.Size([3550])"
      ]
     },
     "execution_count": 29,
     "metadata": {},
     "output_type": "execute_result"
    }
   ],
   "source": [
    "steps[0:71*tskip].shape"
   ]
  },
  {
   "cell_type": "code",
   "execution_count": 25,
   "metadata": {
    "scrolled": false
   },
   "outputs": [
    {
     "name": "stdout",
     "output_type": "stream",
     "text": [
      "tensor([0.9438, 0.8168, 0.8276, 0.8288, 0.8227, 0.8226, 0.8250, 0.8254, 0.8247,\n",
      "        0.8236, 0.8226, 0.8204, 0.8187, 0.8166, 0.8148, 0.8114, 0.8089, 0.8028,\n",
      "        0.8003, 0.7993, 0.7990, 0.7993, 0.8009, 0.8014, 0.8028, 0.8045, 0.8067,\n",
      "        0.8108, 0.8161, 0.8200, 0.8243], dtype=torch.float64,\n",
      "       grad_fn=<SliceBackward>)\n",
      "tensor([0.9438, 0.8034, 0.7275, 0.7247, 0.5927, 0.7781, 0.8708, 0.8792, 0.8596,\n",
      "        0.8511, 0.8820, 0.8596, 0.8230, 0.6404, 0.8258, 0.8511, 0.8792, 0.8596,\n",
      "        0.8596, 0.7360, 0.7893, 0.7219, 0.8343, 0.7022, 0.7247, 0.7388, 0.8118,\n",
      "        0.8258, 0.8820, 0.7640, 0.3118], dtype=torch.float64)\n",
      "0.3255816694201898\n"
     ]
    },
    {
     "data": {
      "text/plain": [
       "<matplotlib.legend.Legend at 0x1814ead2fd0>"
      ]
     },
     "execution_count": 25,
     "metadata": {},
     "output_type": "execute_result"
    },
    {
     "data": {
      "image/png": "[encoded data removed]",
      "text/plain": [
       "<Figure size 432x288 with 1 Axes>"
      ]
     },
     "metadata": {
      "needs_background": "dark"
     },
     "output_type": "display_data"
    }
   ],
   "source": [
    "%matplotlib inline\n",
    "#y_approx\n",
    "tp=30\n",
    "print(y_approx[2,tp,:])\n",
    "print(y_norm[2,tp,:])\n",
    "fig,ax=plt.subplots()\n",
    "ax.plot(xi, y_norm[0,tp,:].detach(), label='observed', marker='o')\n",
    "#ax.plot(xi, y_approx[0].detach(), label='trained')\n",
    "ax.plot(tdnu.k[tp*tskip].detach(), label='simulated')\n",
    "print(k_boundary[\"k\"][tp*tskip])\n",
    "ax.legend()"
   ]
  },
  {
   "cell_type": "code",
   "execution_count": 27,
   "metadata": {
    "scrolled": true
   },
   "outputs": [
    {
     "name": "stdout",
     "output_type": "stream",
     "text": [
      "torch.Size([3, 68, 31]) torch.Size([3, 71, 31])\n",
      "Initial loss: 4.942068e-02\n"
     ]
    }
   ],
   "source": [
    "print(y_approx.shape, y_norm.shape)\n",
    "loss=loss_fun(y_approx, y_norm[:,0:68,:])\n",
    "#torch.cat(tdn.k, dim=1).shape\n",
    "#torch.cat([torch.tensor(p) for p in tdn.k], dim=1).shape\n",
    "print(\"Initial loss: %e\" % loss)\n",
    "loss_history=[loss.item()]"
   ]
  },
  {
   "cell_type": "code",
   "execution_count": 28,
   "metadata": {},
   "outputs": [
    {
     "name": "stdout",
     "output_type": "stream",
     "text": [
      "Initial actual loss: 1.847889e+00\n"
     ]
    }
   ],
   "source": [
    "## loss without normalization \n",
    "y_approx_actual = torch.zeros(y_approx.shape) \n",
    "y_approx_actual[0, :, :] = y_approx[0, :, :] * (y_max[0] - y_min[0]) + y_min[0]\n",
    "y_approx_actual[1, :, :] = y_approx[1, :, :]\n",
    "y_approx_actual[2, :, :] = y_approx[2, :, :] * (y_max[2] - y_min[2]) + y_min[2] \n",
    "\n",
    "loss=loss_fun(y_approx_actual, y_exact[:,0:68,:]) \n",
    "print(\"Initial actual loss: %e\" % loss)"
   ]
  },
  {
   "cell_type": "code",
   "execution_count": 29,
   "metadata": {},
   "outputs": [
    {
     "name": "stderr",
     "output_type": "stream",
     "text": [
      "\r",
      "  0%|          | 0/100 [00:00<?, ?it/s]"
     ]
    },
    {
     "name": "stdout",
     "output_type": "stream",
     "text": [
      "20400\n",
      "67\n"
     ]
    },
    {
     "name": "stderr",
     "output_type": "stream",
     "text": [
      "  1%|          | 1/100 [00:08<14:37,  8.87s/it, loss=0.0494]"
     ]
    },
    {
     "name": "stdout",
     "output_type": "stream",
     "text": [
      "20400\n",
      "67\n"
     ]
    },
    {
     "name": "stderr",
     "output_type": "stream",
     "text": [
      "  2%|▏         | 2/100 [00:18<15:17,  9.36s/it, loss=0.0489]"
     ]
    },
    {
     "name": "stdout",
     "output_type": "stream",
     "text": [
      "20400\n",
      "67\n"
     ]
    },
    {
     "name": "stderr",
     "output_type": "stream",
     "text": [
      "  3%|▎         | 3/100 [00:27<15:08,  9.37s/it, loss=0.0484]"
     ]
    },
    {
     "name": "stdout",
     "output_type": "stream",
     "text": [
      "20400\n",
      "67\n"
     ]
    },
    {
     "name": "stderr",
     "output_type": "stream",
     "text": [
      "  4%|▍         | 4/100 [00:37<14:53,  9.31s/it, loss=0.048] "
     ]
    },
    {
     "name": "stdout",
     "output_type": "stream",
     "text": [
      "20400\n",
      "67\n"
     ]
    },
    {
     "name": "stderr",
     "output_type": "stream",
     "text": [
      "  5%|▌         | 5/100 [00:46<14:45,  9.32s/it, loss=0.0477]"
     ]
    },
    {
     "name": "stdout",
     "output_type": "stream",
     "text": [
      "20400\n",
      "67\n"
     ]
    },
    {
     "name": "stderr",
     "output_type": "stream",
     "text": [
      "  6%|▌         | 6/100 [00:56<14:49,  9.47s/it, loss=0.0473]"
     ]
    },
    {
     "name": "stdout",
     "output_type": "stream",
     "text": [
      "20400\n",
      "67\n"
     ]
    },
    {
     "name": "stderr",
     "output_type": "stream",
     "text": [
      "  7%|▋         | 7/100 [01:06<14:49,  9.56s/it, loss=0.0471]"
     ]
    },
    {
     "name": "stdout",
     "output_type": "stream",
     "text": [
      "20400\n",
      "67\n"
     ]
    },
    {
     "name": "stderr",
     "output_type": "stream",
     "text": [
      "  8%|▊         | 8/100 [01:15<14:40,  9.57s/it, loss=0.0468]"
     ]
    },
    {
     "name": "stdout",
     "output_type": "stream",
     "text": [
      "20400\n",
      "67\n"
     ]
    },
    {
     "name": "stderr",
     "output_type": "stream",
     "text": [
      "  9%|▉         | 9/100 [01:24<14:20,  9.45s/it, loss=0.0466]"
     ]
    },
    {
     "name": "stdout",
     "output_type": "stream",
     "text": [
      "20400\n",
      "67\n"
     ]
    },
    {
     "name": "stderr",
     "output_type": "stream",
     "text": [
      " 10%|█         | 10/100 [01:34<14:07,  9.42s/it, loss=0.0464]"
     ]
    },
    {
     "name": "stdout",
     "output_type": "stream",
     "text": [
      "20400\n",
      "67\n"
     ]
    },
    {
     "name": "stderr",
     "output_type": "stream",
     "text": [
      " 11%|█         | 11/100 [01:43<13:52,  9.35s/it, loss=0.0462]"
     ]
    },
    {
     "name": "stdout",
     "output_type": "stream",
     "text": [
      "20400\n",
      "67\n"
     ]
    },
    {
     "name": "stderr",
     "output_type": "stream",
     "text": [
      " 12%|█▏        | 12/100 [01:52<13:35,  9.27s/it, loss=0.046] "
     ]
    },
    {
     "name": "stdout",
     "output_type": "stream",
     "text": [
      "20400\n",
      "67\n"
     ]
    },
    {
     "name": "stderr",
     "output_type": "stream",
     "text": [
      " 13%|█▎        | 13/100 [02:01<13:20,  9.20s/it, loss=0.0459]"
     ]
    },
    {
     "name": "stdout",
     "output_type": "stream",
     "text": [
      "20400\n",
      "67\n"
     ]
    },
    {
     "name": "stderr",
     "output_type": "stream",
     "text": [
      " 14%|█▍        | 14/100 [02:10<13:05,  9.14s/it, loss=0.0457]"
     ]
    },
    {
     "name": "stdout",
     "output_type": "stream",
     "text": [
      "20400\n",
      "67\n"
     ]
    },
    {
     "name": "stderr",
     "output_type": "stream",
     "text": [
      " 15%|█▌        | 15/100 [02:19<12:56,  9.13s/it, loss=0.0456]"
     ]
    },
    {
     "name": "stdout",
     "output_type": "stream",
     "text": [
      "20400\n",
      "67\n"
     ]
    },
    {
     "name": "stderr",
     "output_type": "stream",
     "text": [
      " 16%|█▌        | 16/100 [02:28<12:39,  9.04s/it, loss=0.0455]"
     ]
    },
    {
     "name": "stdout",
     "output_type": "stream",
     "text": [
      "20400\n",
      "67\n"
     ]
    },
    {
     "name": "stderr",
     "output_type": "stream",
     "text": [
      " 17%|█▋        | 17/100 [02:37<12:27,  9.01s/it, loss=0.0454]"
     ]
    },
    {
     "name": "stdout",
     "output_type": "stream",
     "text": [
      "20400\n",
      "67\n"
     ]
    },
    {
     "name": "stderr",
     "output_type": "stream",
     "text": [
      " 18%|█▊        | 18/100 [02:46<12:27,  9.12s/it, loss=0.0453]"
     ]
    },
    {
     "name": "stdout",
     "output_type": "stream",
     "text": [
      "20400\n",
      "67\n"
     ]
    },
    {
     "name": "stderr",
     "output_type": "stream",
     "text": [
      " 19%|█▉        | 19/100 [02:55<12:16,  9.10s/it, loss=0.0452]"
     ]
    },
    {
     "name": "stdout",
     "output_type": "stream",
     "text": [
      "20400\n",
      "67\n"
     ]
    },
    {
     "name": "stderr",
     "output_type": "stream",
     "text": [
      " 20%|██        | 20/100 [03:04<12:03,  9.04s/it, loss=0.0451]"
     ]
    },
    {
     "name": "stdout",
     "output_type": "stream",
     "text": [
      "20400\n",
      "67\n"
     ]
    },
    {
     "name": "stderr",
     "output_type": "stream",
     "text": [
      " 21%|██        | 21/100 [03:13<12:00,  9.12s/it, loss=0.0451]"
     ]
    },
    {
     "name": "stdout",
     "output_type": "stream",
     "text": [
      "20400\n",
      "67\n"
     ]
    },
    {
     "name": "stderr",
     "output_type": "stream",
     "text": [
      " 22%|██▏       | 22/100 [03:23<11:51,  9.13s/it, loss=0.045] "
     ]
    },
    {
     "name": "stdout",
     "output_type": "stream",
     "text": [
      "20400\n",
      "67\n"
     ]
    },
    {
     "name": "stderr",
     "output_type": "stream",
     "text": [
      " 23%|██▎       | 23/100 [03:31<11:34,  9.02s/it, loss=0.0449]"
     ]
    },
    {
     "name": "stdout",
     "output_type": "stream",
     "text": [
      "20400\n",
      "67\n"
     ]
    },
    {
     "name": "stderr",
     "output_type": "stream",
     "text": [
      " 24%|██▍       | 24/100 [03:40<11:25,  9.02s/it, loss=0.0449]"
     ]
    },
    {
     "name": "stdout",
     "output_type": "stream",
     "text": [
      "20400\n",
      "67\n"
     ]
    },
    {
     "name": "stderr",
     "output_type": "stream",
     "text": [
      " 25%|██▌       | 25/100 [03:49<11:16,  9.02s/it, loss=0.0448]"
     ]
    },
    {
     "name": "stdout",
     "output_type": "stream",
     "text": [
      "20400\n",
      "67\n"
     ]
    },
    {
     "name": "stderr",
     "output_type": "stream",
     "text": [
      " 26%|██▌       | 26/100 [03:58<11:05,  8.99s/it, loss=0.0448]"
     ]
    },
    {
     "name": "stdout",
     "output_type": "stream",
     "text": [
      "20400\n",
      "67\n"
     ]
    },
    {
     "name": "stderr",
     "output_type": "stream",
     "text": [
      " 27%|██▋       | 27/100 [04:08<11:00,  9.05s/it, loss=0.0447]"
     ]
    },
    {
     "name": "stdout",
     "output_type": "stream",
     "text": [
      "20400\n",
      "67\n"
     ]
    },
    {
     "name": "stderr",
     "output_type": "stream",
     "text": [
      " 28%|██▊       | 28/100 [04:17<10:50,  9.03s/it, loss=0.0447]"
     ]
    },
    {
     "name": "stdout",
     "output_type": "stream",
     "text": [
      "20400\n",
      "67\n"
     ]
    },
    {
     "name": "stderr",
     "output_type": "stream",
     "text": [
      " 29%|██▉       | 29/100 [04:26<10:48,  9.13s/it, loss=0.0446]"
     ]
    },
    {
     "name": "stdout",
     "output_type": "stream",
     "text": [
      "20400\n",
      "67\n"
     ]
    },
    {
     "name": "stderr",
     "output_type": "stream",
     "text": [
      " 30%|███       | 30/100 [04:35<10:41,  9.17s/it, loss=0.0446]"
     ]
    },
    {
     "name": "stdout",
     "output_type": "stream",
     "text": [
      "20400\n",
      "67\n"
     ]
    },
    {
     "name": "stderr",
     "output_type": "stream",
     "text": [
      " 31%|███       | 31/100 [04:45<10:42,  9.31s/it, loss=0.0446]"
     ]
    },
    {
     "name": "stdout",
     "output_type": "stream",
     "text": [
      "20400\n",
      "67\n"
     ]
    },
    {
     "name": "stderr",
     "output_type": "stream",
     "text": [
      " 32%|███▏      | 32/100 [04:54<10:31,  9.28s/it, loss=0.0445]"
     ]
    },
    {
     "name": "stdout",
     "output_type": "stream",
     "text": [
      "20400\n",
      "67\n"
     ]
    },
    {
     "name": "stderr",
     "output_type": "stream",
     "text": [
      " 33%|███▎      | 33/100 [05:03<10:19,  9.24s/it, loss=0.0445]"
     ]
    },
    {
     "name": "stdout",
     "output_type": "stream",
     "text": [
      "20400\n",
      "67\n"
     ]
    },
    {
     "name": "stderr",
     "output_type": "stream",
     "text": [
      " 34%|███▍      | 34/100 [05:12<10:08,  9.22s/it, loss=0.0445]"
     ]
    },
    {
     "name": "stdout",
     "output_type": "stream",
     "text": [
      "20400\n",
      "67\n"
     ]
    },
    {
     "name": "stderr",
     "output_type": "stream",
     "text": [
      " 35%|███▌      | 35/100 [05:22<10:04,  9.30s/it, loss=0.0444]"
     ]
    },
    {
     "name": "stdout",
     "output_type": "stream",
     "text": [
      "20400\n",
      "67\n"
     ]
    },
    {
     "name": "stderr",
     "output_type": "stream",
     "text": [
      " 36%|███▌      | 36/100 [05:31<09:50,  9.22s/it, loss=0.0444]"
     ]
    },
    {
     "name": "stdout",
     "output_type": "stream",
     "text": [
      "20400\n",
      "67\n"
     ]
    },
    {
     "name": "stderr",
     "output_type": "stream",
     "text": [
      " 37%|███▋      | 37/100 [05:40<09:38,  9.18s/it, loss=0.0444]"
     ]
    },
    {
     "name": "stdout",
     "output_type": "stream",
     "text": [
      "20400\n",
      "67\n"
     ]
    },
    {
     "name": "stderr",
     "output_type": "stream",
     "text": [
      " 38%|███▊      | 38/100 [05:49<09:22,  9.07s/it, loss=0.0444]"
     ]
    },
    {
     "name": "stdout",
     "output_type": "stream",
     "text": [
      "20400\n",
      "67\n"
     ]
    },
    {
     "name": "stderr",
     "output_type": "stream",
     "text": [
      " 39%|███▉      | 39/100 [05:58<09:09,  9.02s/it, loss=0.0444]"
     ]
    },
    {
     "name": "stdout",
     "output_type": "stream",
     "text": [
      "20400\n",
      "67\n"
     ]
    },
    {
     "name": "stderr",
     "output_type": "stream",
     "text": [
      " 40%|████      | 40/100 [06:07<09:01,  9.03s/it, loss=0.0443]"
     ]
    },
    {
     "name": "stdout",
     "output_type": "stream",
     "text": [
      "20400\n",
      "67\n"
     ]
    },
    {
     "name": "stderr",
     "output_type": "stream",
     "text": [
      " 41%|████      | 41/100 [06:16<08:52,  9.03s/it, loss=0.0443]"
     ]
    },
    {
     "name": "stdout",
     "output_type": "stream",
     "text": [
      "20400\n",
      "67\n"
     ]
    },
    {
     "name": "stderr",
     "output_type": "stream",
     "text": [
      " 42%|████▏     | 42/100 [06:25<08:41,  9.00s/it, loss=0.0443]"
     ]
    },
    {
     "name": "stdout",
     "output_type": "stream",
     "text": [
      "20400\n",
      "67\n"
     ]
    },
    {
     "name": "stderr",
     "output_type": "stream",
     "text": [
      " 43%|████▎     | 43/100 [06:34<08:34,  9.03s/it, loss=0.0443]"
     ]
    },
    {
     "name": "stdout",
     "output_type": "stream",
     "text": [
      "20400\n",
      "67\n"
     ]
    },
    {
     "name": "stderr",
     "output_type": "stream",
     "text": [
      " 44%|████▍     | 44/100 [06:43<08:26,  9.05s/it, loss=0.0443]"
     ]
    },
    {
     "name": "stdout",
     "output_type": "stream",
     "text": [
      "20400\n",
      "67\n"
     ]
    },
    {
     "name": "stderr",
     "output_type": "stream",
     "text": [
      " 45%|████▌     | 45/100 [06:52<08:17,  9.04s/it, loss=0.0443]"
     ]
    },
    {
     "name": "stdout",
     "output_type": "stream",
     "text": [
      "20400\n",
      "67\n"
     ]
    },
    {
     "name": "stderr",
     "output_type": "stream",
     "text": [
      " 46%|████▌     | 46/100 [07:01<08:07,  9.03s/it, loss=0.0443]"
     ]
    },
    {
     "name": "stdout",
     "output_type": "stream",
     "text": [
      "20400\n",
      "67\n"
     ]
    },
    {
     "name": "stderr",
     "output_type": "stream",
     "text": [
      " 47%|████▋     | 47/100 [07:10<07:57,  9.01s/it, loss=0.0442]"
     ]
    },
    {
     "name": "stdout",
     "output_type": "stream",
     "text": [
      "20400\n",
      "67\n"
     ]
    },
    {
     "name": "stderr",
     "output_type": "stream",
     "text": [
      " 48%|████▊     | 48/100 [07:19<07:46,  8.97s/it, loss=0.0442]"
     ]
    },
    {
     "name": "stdout",
     "output_type": "stream",
     "text": [
      "20400\n",
      "67\n"
     ]
    },
    {
     "name": "stderr",
     "output_type": "stream",
     "text": [
      " 49%|████▉     | 49/100 [07:28<07:36,  8.95s/it, loss=0.0442]"
     ]
    },
    {
     "name": "stdout",
     "output_type": "stream",
     "text": [
      "20400\n",
      "67\n"
     ]
    },
    {
     "name": "stderr",
     "output_type": "stream",
     "text": [
      " 50%|█████     | 50/100 [07:37<07:26,  8.94s/it, loss=0.0442]"
     ]
    },
    {
     "name": "stdout",
     "output_type": "stream",
     "text": [
      "20400\n",
      "67\n"
     ]
    },
    {
     "name": "stderr",
     "output_type": "stream",
     "text": [
      " 51%|█████     | 51/100 [07:45<07:16,  8.90s/it, loss=0.0442]"
     ]
    },
    {
     "name": "stdout",
     "output_type": "stream",
     "text": [
      "20400\n",
      "67\n"
     ]
    },
    {
     "name": "stderr",
     "output_type": "stream",
     "text": [
      " 52%|█████▏    | 52/100 [07:54<07:08,  8.94s/it, loss=0.0442]"
     ]
    },
    {
     "name": "stdout",
     "output_type": "stream",
     "text": [
      "20400\n",
      "67\n"
     ]
    },
    {
     "name": "stderr",
     "output_type": "stream",
     "text": [
      " 53%|█████▎    | 53/100 [08:03<07:01,  8.98s/it, loss=0.0442]"
     ]
    },
    {
     "name": "stdout",
     "output_type": "stream",
     "text": [
      "20400\n",
      "67\n"
     ]
    },
    {
     "name": "stderr",
     "output_type": "stream",
     "text": [
      " 54%|█████▍    | 54/100 [08:12<06:52,  8.97s/it, loss=0.0442]"
     ]
    },
    {
     "name": "stdout",
     "output_type": "stream",
     "text": [
      "20400\n",
      "67\n"
     ]
    },
    {
     "name": "stderr",
     "output_type": "stream",
     "text": [
      " 55%|█████▌    | 55/100 [08:21<06:44,  8.98s/it, loss=0.0442]"
     ]
    },
    {
     "name": "stdout",
     "output_type": "stream",
     "text": [
      "20400\n",
      "67\n"
     ]
    },
    {
     "name": "stderr",
     "output_type": "stream",
     "text": [
      " 56%|█████▌    | 56/100 [08:30<06:36,  9.01s/it, loss=0.0442]"
     ]
    },
    {
     "name": "stdout",
     "output_type": "stream",
     "text": [
      "20400\n",
      "67\n"
     ]
    },
    {
     "name": "stderr",
     "output_type": "stream",
     "text": [
      " 57%|█████▋    | 57/100 [08:39<06:27,  9.01s/it, loss=0.0442]"
     ]
    },
    {
     "name": "stdout",
     "output_type": "stream",
     "text": [
      "20400\n",
      "67\n"
     ]
    },
    {
     "name": "stderr",
     "output_type": "stream",
     "text": [
      " 58%|█████▊    | 58/100 [08:48<06:18,  9.01s/it, loss=0.0442]"
     ]
    },
    {
     "name": "stdout",
     "output_type": "stream",
     "text": [
      "20400\n",
      "67\n"
     ]
    },
    {
     "name": "stderr",
     "output_type": "stream",
     "text": [
      " 59%|█████▉    | 59/100 [08:57<06:08,  9.00s/it, loss=0.0442]"
     ]
    },
    {
     "name": "stdout",
     "output_type": "stream",
     "text": [
      "20400\n",
      "67\n"
     ]
    },
    {
     "name": "stderr",
     "output_type": "stream",
     "text": [
      " 60%|██████    | 60/100 [09:06<05:57,  8.93s/it, loss=0.0442]"
     ]
    },
    {
     "name": "stdout",
     "output_type": "stream",
     "text": [
      "20400\n",
      "67\n"
     ]
    },
    {
     "name": "stderr",
     "output_type": "stream",
     "text": [
      " 61%|██████    | 61/100 [09:15<05:49,  8.96s/it, loss=0.0442]"
     ]
    },
    {
     "name": "stdout",
     "output_type": "stream",
     "text": [
      "20400\n",
      "67\n"
     ]
    },
    {
     "name": "stderr",
     "output_type": "stream",
     "text": [
      " 62%|██████▏   | 62/100 [09:24<05:38,  8.92s/it, loss=0.0442]"
     ]
    },
    {
     "name": "stdout",
     "output_type": "stream",
     "text": [
      "20400\n",
      "67\n"
     ]
    },
    {
     "name": "stderr",
     "output_type": "stream",
     "text": [
      " 63%|██████▎   | 63/100 [09:33<05:28,  8.88s/it, loss=0.0442]"
     ]
    },
    {
     "name": "stdout",
     "output_type": "stream",
     "text": [
      "20400\n",
      "67\n"
     ]
    },
    {
     "name": "stderr",
     "output_type": "stream",
     "text": [
      " 64%|██████▍   | 64/100 [09:42<05:17,  8.82s/it, loss=0.0442]"
     ]
    },
    {
     "name": "stdout",
     "output_type": "stream",
     "text": [
      "20400\n",
      "67\n"
     ]
    },
    {
     "name": "stderr",
     "output_type": "stream",
     "text": [
      " 65%|██████▌   | 65/100 [09:50<05:08,  8.80s/it, loss=0.0442]"
     ]
    },
    {
     "name": "stdout",
     "output_type": "stream",
     "text": [
      "20400\n",
      "67\n"
     ]
    },
    {
     "name": "stderr",
     "output_type": "stream",
     "text": [
      " 66%|██████▌   | 66/100 [09:59<05:00,  8.85s/it, loss=0.0442]"
     ]
    },
    {
     "name": "stdout",
     "output_type": "stream",
     "text": [
      "20400\n",
      "67\n"
     ]
    },
    {
     "name": "stderr",
     "output_type": "stream",
     "text": [
      " 67%|██████▋   | 67/100 [10:08<04:52,  8.87s/it, loss=0.0442]"
     ]
    },
    {
     "name": "stdout",
     "output_type": "stream",
     "text": [
      "20400\n",
      "67\n"
     ]
    },
    {
     "name": "stderr",
     "output_type": "stream",
     "text": [
      " 68%|██████▊   | 68/100 [10:17<04:45,  8.92s/it, loss=0.0442]"
     ]
    },
    {
     "name": "stdout",
     "output_type": "stream",
     "text": [
      "20400\n",
      "67\n"
     ]
    },
    {
     "name": "stderr",
     "output_type": "stream",
     "text": [
      " 69%|██████▉   | 69/100 [10:26<04:35,  8.89s/it, loss=0.0442]"
     ]
    },
    {
     "name": "stdout",
     "output_type": "stream",
     "text": [
      "20400\n",
      "67\n"
     ]
    },
    {
     "name": "stderr",
     "output_type": "stream",
     "text": [
      " 70%|███████   | 70/100 [10:35<04:26,  8.89s/it, loss=0.0442]"
     ]
    },
    {
     "name": "stdout",
     "output_type": "stream",
     "text": [
      "20400\n",
      "67\n"
     ]
    },
    {
     "name": "stderr",
     "output_type": "stream",
     "text": [
      " 71%|███████   | 71/100 [10:44<04:19,  8.93s/it, loss=0.0442]"
     ]
    },
    {
     "name": "stdout",
     "output_type": "stream",
     "text": [
      "20400\n",
      "67\n"
     ]
    },
    {
     "name": "stderr",
     "output_type": "stream",
     "text": [
      " 72%|███████▏  | 72/100 [10:53<04:11,  8.99s/it, loss=0.0441]"
     ]
    },
    {
     "name": "stdout",
     "output_type": "stream",
     "text": [
      "20400\n",
      "67\n"
     ]
    },
    {
     "name": "stderr",
     "output_type": "stream",
     "text": [
      " 73%|███████▎  | 73/100 [11:02<04:02,  8.99s/it, loss=0.0441]"
     ]
    },
    {
     "name": "stdout",
     "output_type": "stream",
     "text": [
      "20400\n",
      "67\n"
     ]
    },
    {
     "name": "stderr",
     "output_type": "stream",
     "text": [
      " 74%|███████▍  | 74/100 [11:11<03:54,  9.01s/it, loss=0.0441]"
     ]
    },
    {
     "name": "stdout",
     "output_type": "stream",
     "text": [
      "20400\n",
      "67\n"
     ]
    },
    {
     "name": "stderr",
     "output_type": "stream",
     "text": [
      " 75%|███████▌  | 75/100 [11:20<03:43,  8.94s/it, loss=0.0441]"
     ]
    },
    {
     "name": "stdout",
     "output_type": "stream",
     "text": [
      "20400\n",
      "67\n"
     ]
    },
    {
     "name": "stderr",
     "output_type": "stream",
     "text": [
      " 76%|███████▌  | 76/100 [11:29<03:32,  8.86s/it, loss=0.0441]"
     ]
    },
    {
     "name": "stdout",
     "output_type": "stream",
     "text": [
      "20400\n",
      "67\n"
     ]
    },
    {
     "name": "stderr",
     "output_type": "stream",
     "text": [
      " 77%|███████▋  | 77/100 [11:38<03:24,  8.89s/it, loss=0.0441]"
     ]
    },
    {
     "name": "stdout",
     "output_type": "stream",
     "text": [
      "20400\n",
      "67\n"
     ]
    },
    {
     "name": "stderr",
     "output_type": "stream",
     "text": [
      " 78%|███████▊  | 78/100 [11:47<03:16,  8.94s/it, loss=0.0441]"
     ]
    },
    {
     "name": "stdout",
     "output_type": "stream",
     "text": [
      "20400\n",
      "67\n"
     ]
    },
    {
     "name": "stderr",
     "output_type": "stream",
     "text": [
      " 79%|███████▉  | 79/100 [11:56<03:10,  9.06s/it, loss=0.0441]"
     ]
    },
    {
     "name": "stdout",
     "output_type": "stream",
     "text": [
      "20400\n",
      "67\n"
     ]
    },
    {
     "name": "stderr",
     "output_type": "stream",
     "text": [
      " 80%|████████  | 80/100 [12:05<03:00,  9.01s/it, loss=0.0441]"
     ]
    },
    {
     "name": "stdout",
     "output_type": "stream",
     "text": [
      "20400\n",
      "67\n"
     ]
    },
    {
     "name": "stderr",
     "output_type": "stream",
     "text": [
      " 81%|████████  | 81/100 [12:14<02:50,  8.98s/it, loss=0.0441]"
     ]
    },
    {
     "name": "stdout",
     "output_type": "stream",
     "text": [
      "20400\n",
      "67\n"
     ]
    },
    {
     "name": "stderr",
     "output_type": "stream",
     "text": [
      " 82%|████████▏ | 82/100 [12:23<02:41,  9.00s/it, loss=0.0441]"
     ]
    },
    {
     "name": "stdout",
     "output_type": "stream",
     "text": [
      "20400\n",
      "67\n"
     ]
    },
    {
     "name": "stderr",
     "output_type": "stream",
     "text": [
      " 83%|████████▎ | 83/100 [12:32<02:33,  9.01s/it, loss=0.0441]"
     ]
    },
    {
     "name": "stdout",
     "output_type": "stream",
     "text": [
      "20400\n",
      "67\n"
     ]
    },
    {
     "name": "stderr",
     "output_type": "stream",
     "text": [
      " 84%|████████▍ | 84/100 [12:41<02:24,  9.02s/it, loss=0.0441]"
     ]
    },
    {
     "name": "stdout",
     "output_type": "stream",
     "text": [
      "20400\n",
      "67\n"
     ]
    },
    {
     "name": "stderr",
     "output_type": "stream",
     "text": [
      " 85%|████████▌ | 85/100 [12:50<02:14,  8.97s/it, loss=0.0441]"
     ]
    },
    {
     "name": "stdout",
     "output_type": "stream",
     "text": [
      "20400\n",
      "67\n"
     ]
    },
    {
     "name": "stderr",
     "output_type": "stream",
     "text": [
      " 86%|████████▌ | 86/100 [12:59<02:05,  8.97s/it, loss=0.0441]"
     ]
    },
    {
     "name": "stdout",
     "output_type": "stream",
     "text": [
      "20400\n",
      "67\n"
     ]
    },
    {
     "name": "stderr",
     "output_type": "stream",
     "text": [
      " 87%|████████▋ | 87/100 [13:08<01:56,  8.97s/it, loss=0.0441]"
     ]
    },
    {
     "name": "stdout",
     "output_type": "stream",
     "text": [
      "20400\n",
      "67\n"
     ]
    },
    {
     "name": "stderr",
     "output_type": "stream",
     "text": [
      " 88%|████████▊ | 88/100 [13:17<01:47,  8.97s/it, loss=0.0441]"
     ]
    },
    {
     "name": "stdout",
     "output_type": "stream",
     "text": [
      "20400\n",
      "67\n"
     ]
    },
    {
     "name": "stderr",
     "output_type": "stream",
     "text": [
      " 89%|████████▉ | 89/100 [13:26<01:38,  8.98s/it, loss=0.0441]"
     ]
    },
    {
     "name": "stdout",
     "output_type": "stream",
     "text": [
      "20400\n",
      "67\n"
     ]
    },
    {
     "name": "stderr",
     "output_type": "stream",
     "text": [
      " 90%|█████████ | 90/100 [13:35<01:29,  9.00s/it, loss=0.0441]"
     ]
    },
    {
     "name": "stdout",
     "output_type": "stream",
     "text": [
      "20400\n",
      "67\n"
     ]
    },
    {
     "name": "stderr",
     "output_type": "stream",
     "text": [
      " 91%|█████████ | 91/100 [13:43<01:20,  8.93s/it, loss=0.0441]"
     ]
    },
    {
     "name": "stdout",
     "output_type": "stream",
     "text": [
      "20400\n",
      "67\n"
     ]
    },
    {
     "name": "stderr",
     "output_type": "stream",
     "text": [
      " 92%|█████████▏| 92/100 [13:52<01:11,  8.90s/it, loss=0.0441]"
     ]
    },
    {
     "name": "stdout",
     "output_type": "stream",
     "text": [
      "20400\n",
      "67\n"
     ]
    },
    {
     "name": "stderr",
     "output_type": "stream",
     "text": [
      " 93%|█████████▎| 93/100 [14:01<01:02,  8.89s/it, loss=0.0441]"
     ]
    },
    {
     "name": "stdout",
     "output_type": "stream",
     "text": [
      "20400\n",
      "67\n"
     ]
    },
    {
     "name": "stderr",
     "output_type": "stream",
     "text": [
      " 94%|█████████▍| 94/100 [14:10<00:53,  8.85s/it, loss=0.0441]"
     ]
    },
    {
     "name": "stdout",
     "output_type": "stream",
     "text": [
      "20400\n",
      "67\n"
     ]
    },
    {
     "name": "stderr",
     "output_type": "stream",
     "text": [
      " 95%|█████████▌| 95/100 [14:19<00:44,  8.92s/it, loss=0.0441]"
     ]
    },
    {
     "name": "stdout",
     "output_type": "stream",
     "text": [
      "20400\n",
      "67\n"
     ]
    },
    {
     "name": "stderr",
     "output_type": "stream",
     "text": [
      " 96%|█████████▌| 96/100 [14:28<00:35,  8.95s/it, loss=0.0441]"
     ]
    },
    {
     "name": "stdout",
     "output_type": "stream",
     "text": [
      "20400\n",
      "67\n"
     ]
    },
    {
     "name": "stderr",
     "output_type": "stream",
     "text": [
      " 97%|█████████▋| 97/100 [14:37<00:26,  8.91s/it, loss=0.0441]"
     ]
    },
    {
     "name": "stdout",
     "output_type": "stream",
     "text": [
      "20400\n",
      "67\n"
     ]
    },
    {
     "name": "stderr",
     "output_type": "stream",
     "text": [
      " 98%|█████████▊| 98/100 [14:46<00:17,  8.92s/it, loss=0.0441]"
     ]
    },
    {
     "name": "stdout",
     "output_type": "stream",
     "text": [
      "20400\n",
      "67\n"
     ]
    },
    {
     "name": "stderr",
     "output_type": "stream",
     "text": [
      " 99%|█████████▉| 99/100 [14:55<00:08,  8.96s/it, loss=0.0441]"
     ]
    },
    {
     "name": "stdout",
     "output_type": "stream",
     "text": [
      "20400\n",
      "67\n"
     ]
    },
    {
     "name": "stderr",
     "output_type": "stream",
     "text": [
      "100%|██████████| 100/100 [15:04<00:00,  9.04s/it, loss=0.0441]\n"
     ]
    }
   ],
   "source": [
    "history=[]\n",
    "tqdm_epochs = tqdm(range(num_epochs))\n",
    "for e in tqdm_epochs:\n",
    "    y_approx = tdnu(steps[0:68*tskip].long())\n",
    "    loss = loss_fun(y_approx, y_norm[:,0:68,:])\n",
    "    loss_history.append(loss.item())\n",
    "    if loss.item() < min_loss:\n",
    "        best_model_lwr = tdnu\n",
    "    optimizer.zero_grad()\n",
    "    loss.backward(retain_graph=True)\n",
    "    optimizer.step()\n",
    "    history.append(loss.item())\n",
    "    tqdm_epochs.set_postfix({'loss': torch.sum(loss).item()}) \n",
    "    \n",
    "    scheduler.step() "
   ]
  },
  {
   "cell_type": "code",
   "execution_count": 30,
   "metadata": {},
   "outputs": [
    {
     "name": "stdout",
     "output_type": "stream",
     "text": [
      "Final actual loss: 1.237836e+00\n"
     ]
    }
   ],
   "source": [
    "## re-transform: loss without normalization \n",
    "y_approx_actual = torch.zeros(y_approx.shape) \n",
    "y_approx_actual[0, :, :] = y_approx[0, :, :] * (y_max[0] - y_min[0]) + y_min[0]\n",
    "y_approx_actual[1, :, :] = y_approx[1, :, :]\n",
    "y_approx_actual[2, :, :] = y_approx[2, :, :] * (y_max[2] - y_min[2]) + y_min[2] \n",
    "\n",
    "loss=loss_fun(y_approx_actual, y_exact[:,0:68,:]) \n",
    "print(\"Final actual loss: %e\" % loss) "
   ]
  },
  {
   "cell_type": "code",
   "execution_count": 77,
   "metadata": {},
   "outputs": [
    {
     "data": {
      "text/plain": [
       "torch.Size([3, 69, 31])"
      ]
     },
     "execution_count": 77,
     "metadata": {},
     "output_type": "execute_result"
    }
   ],
   "source": [
    "y_approx.shape"
   ]
  },
  {
   "cell_type": "code",
   "execution_count": 31,
   "metadata": {
    "scrolled": false
   },
   "outputs": [
    {
     "data": {
      "image/png": "[encoded data removed]",
      "text/plain": [
       "<Figure size 1200x400 with 3 Axes>"
      ]
     },
     "metadata": {},
     "output_type": "display_data"
    }
   ],
   "source": [
    "tp=1\n",
    "#print(y_approx[tp])\n",
    "#print(y_exact[tp])\n",
    "plt.style.use('default')\n",
    "fig3,ax3=plt.subplots(ncols=3, nrows=1, figsize=(12,4))\n",
    "fig3.subplots_adjust(wspace=0.4)\n",
    "\n",
    "varplot={0: tdnu.k, 1: tdnu.q, 2: tdnu.u}\n",
    "label={0: \"Density $k$ (veh/m)\",\n",
    "       1: \"Flow $q$ (veh/s)\",\n",
    "       2: \"Speed $u$ (m/s)\"}\n",
    "for n in range(3):\n",
    "    ax3[n].plot(xi, y_exact[n,tp,:].detach(), label='observed', marker='o')\n",
    "    if n==1: \n",
    "        ax3[n].plot(varplot[n][tp*tskip].detach(), label='simulated') \n",
    "    else: \n",
    "        ax3[n].plot((varplot[n][tp*tskip] * (y_max[n] - y_min[n]) + y_min[n]).detach(), label='simulated')\n",
    "    #print(k_boundary[tp*tskip])\n",
    "    if n==0:\n",
    "        ax3[n].legend()\n",
    "    ax3[n].set_xlabel(\"Distance (grid points)\")\n",
    "    ax3[n].set_ylabel(label[n])\n",
    "#ax3.set_ylim(0, 0.3)\n",
    "fig3.savefig(\"kqu_parstep10.png\", dpi=300)"
   ]
  },
  {
   "cell_type": "code",
   "execution_count": null,
   "metadata": {},
   "outputs": [],
   "source": []
  },
  {
   "cell_type": "code",
   "execution_count": 79,
   "metadata": {},
   "outputs": [
    {
     "data": {
      "image/png": "[encoded data removed]",
      "text/plain": [
       "<Figure size 1200x400 with 2 Axes>"
      ]
     },
     "metadata": {},
     "output_type": "display_data"
    }
   ],
   "source": [
    "fig4,ax4=plt.subplots(ncols=2, figsize=(12,4))\n",
    "ax4[0].plot((tdnu.kappa * (y_max[0] - y_min[0]) + y_min[0]).detach())\n",
    "ax4[1].plot((tdnu.vf * (y_max[2] - y_min[2]) + y_min[2]).detach())\n",
    "[ax4[n].set_xlabel(\"Distance (grid points)\") for n in range(2)]\n",
    "ax4[0].set_ylabel(\"Jam density $k_j$ (Vehicles /m)\")\n",
    "ax4[1].set_ylabel(\"Free velocity $v_f$ (m/s)\")\n",
    "fig4.savefig(\"kj_vf_parstep10.png\", dpi=300)"
   ]
  },
  {
   "cell_type": "code",
   "execution_count": 80,
   "metadata": {},
   "outputs": [],
   "source": [
    "from ipywidgets import widgets\n",
    "import plotly.graph_objects as go\n",
    "import plotly\n",
    "plotly.io.templates.default = 'plotly_dark'"
   ]
  },
  {
   "cell_type": "code",
   "execution_count": 81,
   "metadata": {},
   "outputs": [
    {
     "data": {
      "text/plain": [
       "torch.Size([3, 71, 31])"
      ]
     },
     "execution_count": 81,
     "metadata": {},
     "output_type": "execute_result"
    }
   ],
   "source": [
    "y_exact.shape"
   ]
  },
  {
   "cell_type": "code",
   "execution_count": 32,
   "metadata": {
    "scrolled": false
   },
   "outputs": [
    {
     "data": {
      "application/vnd.jupyter.widget-view+json": {
       "model_id": "5ca642bb7fbe4c53b9a9f2c46d007b42",
       "version_major": 2,
       "version_minor": 0
      },
      "text/plain": [
       "IntSlider(value=0, continuous_update=False, description='Time Step', max=70)"
      ]
     },
     "metadata": {},
     "output_type": "display_data"
    },
    {
     "data": {
      "application/vnd.jupyter.widget-view+json": {
       "model_id": "953a17087f924390ab14f01bc02a345c",
       "version_major": 2,
       "version_minor": 0
      },
      "text/plain": [
       "FigureWidget({\n",
       "    'data': [{'line': {'width': 2},\n",
       "              'mode': 'lines+markers',\n",
       "              'name'…"
      ]
     },
     "metadata": {},
     "output_type": "display_data"
    }
   ],
   "source": [
    "tslider=widgets.IntSlider(\n",
    "    value=0.0, min=0.0, max=y_exact.shape[1]-1, step=1, description='Time Step', continuous_update=False)\n",
    "\n",
    "tp=0\n",
    "trace1=go.Scatter(y=(tdnu.k[tp*tskip] * (y_max[0] - y_min[0]) + y_min[0]).detach(), mode='lines', name='simulated')\n",
    "trace2=go.Scatter(x=xi, y=y_exact[0,tp,:].detach(), mode='lines+markers', name='observed', line={\"width\": 2})\n",
    "\n",
    "fig = make_subplots(rows=1, cols=1, shared_xaxes=True)\n",
    "\n",
    "fig.add_trace(trace2, row=1, col=1)\n",
    "fig.add_trace(trace1, row=1, col=1)\n",
    "\n",
    "fig.update_yaxes(range=[0, 0.3], row=1, col=1)\n",
    "fig.update_layout(height=500, width=800)\n",
    "fig.update_layout(title=\"%d minutes\" % (tp*tskip/60*dt))\n",
    "fig.update_layout(xaxis_title=\"Distance (km)\", yaxis_title=\"Density\")\n",
    "\n",
    "fo=go.FigureWidget(fig)\n",
    "def update_traces(value):\n",
    "    tp=value[\"new\"]\n",
    "    fo.data[1].y=(tdnu.k[tp*tskip] * (y_max[0] - y_min[0]) + y_min[0]).detach()\n",
    "    fo.data[0].x=xi\n",
    "    fo.data[0].y=y_exact[0,tp,:].detach()\n",
    "    fo.update_layout(title=\"%d minutes\" % (tp*tskip/60*dt))\n",
    "\n",
    "tslider.observe(update_traces, names='value')\n",
    "\n",
    "#fo.data[0].y=td.k[300,:]\n",
    "display(tslider)\n",
    "display(fo)"
   ]
  },
  {
   "cell_type": "code",
   "execution_count": 83,
   "metadata": {},
   "outputs": [
    {
     "data": {
      "text/plain": [
       "torch.Size([3, 71, 31])"
      ]
     },
     "execution_count": 83,
     "metadata": {},
     "output_type": "execute_result"
    }
   ],
   "source": [
    "y_exact.shape"
   ]
  },
  {
   "cell_type": "code",
   "execution_count": 33,
   "metadata": {},
   "outputs": [
    {
     "name": "stdout",
     "output_type": "stream",
     "text": [
      "0.4849234516620852\n",
      "1.5333333333333334\n",
      "0.9578651685393261\n"
     ]
    }
   ],
   "source": [
    "k_initial2={}\n",
    "cmps = [\"k\",\"q\",\"u\"]\n",
    "for n,c in enumerate(cmps):\n",
    "    k_initial2[c]=interpolate_initial(y_norm[n,:], t0=68)\n",
    "    print(k_initial2[c].max())"
   ]
  },
  {
   "cell_type": "code",
   "execution_count": 34,
   "metadata": {},
   "outputs": [],
   "source": [
    "k_boundary2 = {var: k_boundary[var][68*tskip:] for var in k_boundary.keys()}"
   ]
  },
  {
   "cell_type": "code",
   "execution_count": 35,
   "metadata": {},
   "outputs": [],
   "source": [
    "idx=torch.arange(tdnu.nx) / tdnu.parstep\n",
    "hkappa=tdnu.kappa[idx.long()]\n",
    "hvf=tdnu.vf[idx.long()]\n",
    "#hkappa.shape"
   ]
  },
  {
   "cell_type": "code",
   "execution_count": 36,
   "metadata": {},
   "outputs": [
    {
     "name": "stderr",
     "output_type": "stream",
     "text": [
      "C:\\Users\\STEPHE~1\\AppData\\Local\\Temp/ipykernel_409732/251992931.py:41: UserWarning:\n",
      "\n",
      "To copy construct from a tensor, it is recommended to use sourceTensor.clone().detach() or sourceTensor.clone().detach().requires_grad_(True), rather than torch.tensor(sourceTensor).\n",
      "\n",
      "C:\\Users\\STEPHE~1\\AppData\\Local\\Temp/ipykernel_409732/251992931.py:45: UserWarning:\n",
      "\n",
      "To copy construct from a tensor, it is recommended to use sourceTensor.clone().detach() or sourceTensor.clone().detach().requires_grad_(True), rather than torch.tensor(sourceTensor).\n",
      "\n"
     ]
    }
   ],
   "source": [
    "tdnp = Neural_LWR_sparse2_3cmp(nx, dx, dt, hkappa, hvf, xi, tskip, y_max, y_min, \n",
    "                          initial=k_initial2, boundary=k_boundary2,\n",
    "                          fix_vf=False, parstep=10)"
   ]
  },
  {
   "cell_type": "code",
   "execution_count": 37,
   "metadata": {},
   "outputs": [
    {
     "name": "stdout",
     "output_type": "stream",
     "text": [
      "900\n",
      "2\n"
     ]
    }
   ],
   "source": [
    "y_predicted=tdnp(steps[68*tskip:]).detach()"
   ]
  },
  {
   "cell_type": "code",
   "execution_count": 38,
   "metadata": {},
   "outputs": [
    {
     "name": "stdout",
     "output_type": "stream",
     "text": [
      "Final actual loss: 5.429696e-01\n"
     ]
    }
   ],
   "source": [
    "## re-transform: testing loss without normalization (used for comparison)\n",
    "y_predicted_actual = torch.zeros(y_predicted.shape) \n",
    "y_predicted_actual[0, :, :] = y_predicted[0, :, :] * (y_max[0] - y_min[0]) + y_min[0]\n",
    "y_predicted_actual[1, :, :] = y_predicted[1, :, :]\n",
    "y_predicted_actual[2, :, :] = y_predicted[2, :, :] * (y_max[2] - y_min[2]) + y_min[2] \n",
    "\n",
    "loss=loss_fun(y_predicted_actual, y_exact[:, 68:, :]) \n",
    "print(\"Final actual loss: %e\" % loss) "
   ]
  },
  {
   "cell_type": "code",
   "execution_count": 98,
   "metadata": {},
   "outputs": [
    {
     "data": {
      "text/plain": [
       "0.5354609"
      ]
     },
     "execution_count": 98,
     "metadata": {},
     "output_type": "execute_result"
    }
   ],
   "source": [
    "5.354609e-01"
   ]
  },
  {
   "cell_type": "code",
   "execution_count": 90,
   "metadata": {},
   "outputs": [
    {
     "data": {
      "text/plain": [
       "torch.Size([3, 3, 31])"
      ]
     },
     "execution_count": 90,
     "metadata": {},
     "output_type": "execute_result"
    }
   ],
   "source": [
    "y_predicted.shape"
   ]
  },
  {
   "cell_type": "code",
   "execution_count": 96,
   "metadata": {},
   "outputs": [
    {
     "data": {
      "text/plain": [
       "torch.Size([150])"
      ]
     },
     "execution_count": 96,
     "metadata": {},
     "output_type": "execute_result"
    }
   ],
   "source": [
    "steps[68*tskip:].shape"
   ]
  },
  {
   "cell_type": "code",
   "execution_count": 91,
   "metadata": {},
   "outputs": [
    {
     "ename": "FileNotFoundError",
     "evalue": "[Errno 2] No such file or directory: '5S_station_names.json'",
     "output_type": "error",
     "traceback": [
      "\u001b[1;31m---------------------------------------------------------------------------\u001b[0m",
      "\u001b[1;31mFileNotFoundError\u001b[0m                         Traceback (most recent call last)",
      "\u001b[1;32m<ipython-input-91-6288f4c6d1e2>\u001b[0m in \u001b[0;36m<module>\u001b[1;34m\u001b[0m\n\u001b[1;32m----> 1\u001b[1;33m \u001b[0mstation_names\u001b[0m\u001b[1;33m=\u001b[0m\u001b[0mlist\u001b[0m\u001b[1;33m(\u001b[0m\u001b[0mjson\u001b[0m\u001b[1;33m.\u001b[0m\u001b[0mload\u001b[0m\u001b[1;33m(\u001b[0m\u001b[0mopen\u001b[0m\u001b[1;33m(\u001b[0m\u001b[1;34m\"5S_station_names.json\"\u001b[0m\u001b[1;33m,\u001b[0m \u001b[1;34m\"rb\"\u001b[0m\u001b[1;33m)\u001b[0m\u001b[1;33m)\u001b[0m\u001b[1;33m.\u001b[0m\u001b[0mvalues\u001b[0m\u001b[1;33m(\u001b[0m\u001b[1;33m)\u001b[0m\u001b[1;33m)\u001b[0m\u001b[1;33m\u001b[0m\u001b[1;33m\u001b[0m\u001b[0m\n\u001b[0m\u001b[0;32m      2\u001b[0m \u001b[0mrecord_times\u001b[0m\u001b[1;33m=\u001b[0m\u001b[0mjson\u001b[0m\u001b[1;33m.\u001b[0m\u001b[0mload\u001b[0m\u001b[1;33m(\u001b[0m\u001b[0mopen\u001b[0m\u001b[1;33m(\u001b[0m\u001b[1;34m\"5S_record_times.json\"\u001b[0m\u001b[1;33m,\u001b[0m \u001b[1;34m\"r\"\u001b[0m\u001b[1;33m)\u001b[0m\u001b[1;33m)\u001b[0m\u001b[1;33m\u001b[0m\u001b[1;33m\u001b[0m\u001b[0m\n\u001b[0;32m      3\u001b[0m \u001b[1;31m#record_times\u001b[0m\u001b[1;33m\u001b[0m\u001b[1;33m\u001b[0m\u001b[1;33m\u001b[0m\u001b[0m\n",
      "\u001b[1;31mFileNotFoundError\u001b[0m: [Errno 2] No such file or directory: '5S_station_names.json'"
     ]
    }
   ],
   "source": [
    "station_names=list(json.load(open(\"5S_station_names.json\", \"rb\")).values())\n",
    "record_times=json.load(open(\"5S_record_times.json\", \"r\"))\n",
    "#record_times"
   ]
  },
  {
   "cell_type": "code",
   "execution_count": 92,
   "metadata": {},
   "outputs": [
    {
     "data": {
      "text/plain": [
       "torch.Size([3, 71, 31])"
      ]
     },
     "execution_count": 92,
     "metadata": {},
     "output_type": "execute_result"
    }
   ],
   "source": [
    "y_exact.shape"
   ]
  },
  {
   "cell_type": "code",
   "execution_count": 93,
   "metadata": {},
   "outputs": [],
   "source": [
    "#gridspec.GridSpec?\n",
    "#plt.subplots?"
   ]
  },
  {
   "cell_type": "code",
   "execution_count": 39,
   "metadata": {},
   "outputs": [
    {
     "data": {
      "text/plain": [
       "array([ 0. ,  0.3,  0.6,  0.9,  1.2,  1.5,  1.8,  2.1,  2.4,  2.7,  3. ,\n",
       "        3.3,  3.6,  3.9,  4.2,  4.5,  4.8,  5.1,  5.4,  5.7,  6. ,  6.3,\n",
       "        6.6,  6.9,  7.2,  7.5,  7.8,  8.1,  8.4,  8.7,  9. ,  9.3,  9.6,\n",
       "        9.9, 10.2, 10.5, 10.8, 11.1, 11.4, 11.7, 12. , 12.3, 12.6, 12.9,\n",
       "       13.2, 13.5, 13.8, 14.1, 14.4, 14.7, 15. , 15.3, 15.6, 15.9, 16.2,\n",
       "       16.5, 16.8, 17.1, 17.4, 17.7, 18. , 18.3, 18.6, 18.9, 19.2, 19.5,\n",
       "       19.8, 20.1, 20.4, 20.7, 21. , 21.3, 21.6, 21.9, 22.2, 22.5, 22.8,\n",
       "       23.1, 23.4, 23.7, 24. , 24.3, 24.6, 24.9, 25.2, 25.5, 25.8, 26.1,\n",
       "       26.4, 26.7, 27. , 27.3, 27.6, 27.9, 28.2, 28.5, 28.8, 29.1, 29.4,\n",
       "       29.7, 30. , 30.3, 30.6, 30.9, 31.2, 31.5, 31.8, 32.1, 32.4, 32.7,\n",
       "       33. , 33.3, 33.6, 33.9, 34.2, 34.5, 34.8, 35.1, 35.4, 35.7])"
      ]
     },
     "execution_count": 39,
     "metadata": {},
     "output_type": "execute_result"
    }
   ],
   "source": [
    "xd=np.arange(0., tdnu.nx*tdnu.dx, tdnu.dx) / 1.e3\n",
    "xd"
   ]
  },
  {
   "cell_type": "code",
   "execution_count": 40,
   "metadata": {
    "scrolled": false
   },
   "outputs": [
    {
     "data": {
      "image/png": "[encoded data removed]",
      "text/plain": [
       "<Figure size 800x600 with 3 Axes>"
      ]
     },
     "metadata": {},
     "output_type": "display_data"
    }
   ],
   "source": [
    "tp=70\n",
    "plt.style.use('default')\n",
    "\n",
    "from matplotlib import gridspec\n",
    "\n",
    "fwyp=[xi[n]*dx/1.e3 for n in range(len(xi))]\n",
    "\n",
    "#gs = gridspec.GridSpec(3, 1, height_ratios=[2, 1, 1]) \n",
    "gs_kw={\"height_ratios\": [3, 1, 1]}\n",
    "\n",
    "fig4,ax4=plt.subplots(figsize=(8,6), nrows=3, gridspec_kw=gs_kw, sharex=True)\n",
    "fig4.subplots_adjust(left=0.08, bottom=0.08, right=0.98, top=0.95)\n",
    "ymin=[0.02, 0.5, 20]\n",
    "ymax=[0.30, 2.0, 40]\n",
    "\n",
    "for n in range(3): \n",
    "    if n==1: \n",
    "        ax4[n].plot(fwyp, y_norm[n,tp,:].detach(), label='observed', marker='o')\n",
    "        ax4[n].plot(fwyp, y_predicted[n,tp-68,:].detach(), label='predicted', marker='o') \n",
    "    else: \n",
    "        ax4[n].plot(fwyp, (y_norm[n,tp,:] * (y_max[n] - y_min[n]) + y_min[n]).detach(), label='observed', marker='o')\n",
    "        ax4[n].plot(fwyp, (y_predicted[n,tp-68,:] * (y_max[n] - y_min[n]) + y_min[n]).detach(), label='predicted', marker='o')\n",
    "    if n==0:\n",
    "#         ax4[n].set_title(record_times[tp])\n",
    "        ax4[n].plot(xd, (hkappa * (y_max[0] - y_min[0]) + y_min[0]).detach(), label=\"$k_j$\", color='green', linestyle='dashed')\n",
    "        ax4[n].legend(loc=\"upper left\")\n",
    "    elif n==2:\n",
    "        ax4[n].plot(xd, (hvf * (y_max[2] - y_min[2]) + y_min[2]).detach(), label=\"$v_f$\", color='green', linestyle='dashed')\n",
    "        \n",
    "    ax4[n].set_ylim(ymin[n], ymax[n])\n",
    "    #ax4[n].set_xlabel(\"Distance (grid points)\")\n",
    "    ax4[n].set_ylabel(label[n])\n",
    "\n",
    "    #ax4[n].set_xlim(fwyp[0]-1, fwyp[-1]+1)\n",
    "\n",
    "    lastpoint=-100\n",
    "    if n==0:\n",
    "        for p in range(len(xi)):\n",
    "            if (fwyp[p] - lastpoint) > 1.:\n",
    "                ax4[n].text(fwyp[p], (y_norm[n,tp,:] * (y_max[n] - y_min[n]) + y_min[n]).detach()[p]+0.02, \"none\", rotation=90, fontsize=8)\n",
    "                lastpoint=fwyp[p]\n",
    "    \n",
    "ax4[2].set_xlabel(\"Relative distance from North to South (km)\")\n",
    "#ax4[n].set_ylabel(\"Traffic density (Veh/m)\")\n",
    "fig4.savefig('LWR_prediction_5S.jpg', dpi=300)"
   ]
  },
  {
   "cell_type": "code",
   "execution_count": null,
   "metadata": {},
   "outputs": [],
   "source": []
  }
 ],
 "metadata": {
  "kernelspec": {
   "display_name": "Python 3 (ipykernel)",
   "language": "python",
   "name": "python3"
  },
  "language_info": {
   "codemirror_mode": {
    "name": "ipython",
    "version": 3
   },
   "file_extension": ".py",
   "mimetype": "text/x-python",
   "name": "python",
   "nbconvert_exporter": "python",
   "pygments_lexer": "ipython3",
   "version": "3.9.6"
  }
 },
 "nbformat": 4,
 "nbformat_minor": 2
}
