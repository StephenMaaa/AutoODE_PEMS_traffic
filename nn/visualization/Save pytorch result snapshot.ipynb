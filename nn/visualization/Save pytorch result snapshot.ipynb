{
 "cells": [
  {
   "cell_type": "code",
   "execution_count": 1,
   "metadata": {},
   "outputs": [],
   "source": [
    "import pandas as pd \n",
    "import torch\n",
    "import torch.nn as nn\n",
    "import numpy as np\n",
    "# from AutoODE import LWR_batch_version \n",
    "import sys \n",
    "sys.path.append(\"..\")\n",
    "# from DNN import LWRDataset, train_LWR, eval_LWR, test_LWR\n",
    "\n",
    "# # from AutoODE import LWR_batch_version \n",
    "from DNN import Seq2Seq, Seq2Seq_Attn, LWRDataset, LWRDataset_res, train_LWR, eval_LWR, test_LWR, train_hybrid_LWR, eval_hybrid_LWR, test_hybrid_LWR \n",
    "from AutoODE import LWR_batch_version, LWR_seq2seq "
   ]
  },
  {
   "cell_type": "code",
   "execution_count": 2,
   "metadata": {},
   "outputs": [],
   "source": [
    "import torch "
   ]
  },
  {
   "cell_type": "code",
   "execution_count": 3,
   "metadata": {},
   "outputs": [
    {
     "data": {
      "text/plain": [
       "'C:\\\\Users\\\\Stephen Ma\\\\Desktop\\\\AutoODE_PEMS_traffic\\\\nn\\\\visualization'"
      ]
     },
     "execution_count": 3,
     "metadata": {},
     "output_type": "execute_result"
    }
   ],
   "source": [
    "import os \n",
    "\n",
    "os.getcwd() "
   ]
  },
  {
   "cell_type": "code",
   "execution_count": 4,
   "metadata": {},
   "outputs": [],
   "source": [
    "# LWR=torch.load(\"time_AutoODE1.pt\", map_location=torch.device('cpu'))\n",
    "# seq2seq = torch.load(\"../result/Seq2Seq/time/best_time_Seq2Seq1.pt\", map_location=torch.device('cpu')) \n",
    "# LWR=torch.load(\"../result/LWR/best_space_AutoODE3.pt\", map_location=torch.device('cpu')) \n",
    "hybridLWR = torch.load(\"../result/LWR/time_hybridAutoODE1.pt\", map_location=torch.device('cpu'))\n",
    "seq2seq = torch.load(\"../result/Seq2Seq_Attn/best_time_Seq2Seq_Attn1.pt\", map_location=torch.device('cpu')) "
   ]
  },
  {
   "cell_type": "code",
   "execution_count": 19,
   "metadata": {},
   "outputs": [],
   "source": [
    "# # hybridLWR = torch.load(\"../AutoODE_result/time/time_hybridAutoODE2.pt\", map_location=torch.device('cpu'))\n",
    "# hybridLWR = torch.load(\"../AutoODE_result/space/new_space_hybridAutoODE1.pt\", map_location=torch.device('cpu')) "
   ]
  },
  {
   "cell_type": "code",
   "execution_count": 5,
   "metadata": {},
   "outputs": [
    {
     "data": {
      "text/plain": [
       "(10651, 3, 12, 77)"
      ]
     },
     "execution_count": 5,
     "metadata": {},
     "output_type": "execute_result"
    }
   ],
   "source": [
    "hybridLWR[\"preds\"].shape "
   ]
  },
  {
   "cell_type": "code",
   "execution_count": 21,
   "metadata": {},
   "outputs": [],
   "source": [
    "# test_sensors = torch.tensor([3, 11, 13, 14, 15, 16, 19, 24, 27, 29, 31, 36, 38, 41, 50, 62,\n",
    "#        73, 75, 76]) - 1  \n",
    "# test_sensors "
   ]
  },
  {
   "cell_type": "code",
   "execution_count": 175,
   "metadata": {},
   "outputs": [
    {
     "data": {
      "text/plain": [
       "((10651, 3, 12, 77), (10652, 3, 12, 78))"
      ]
     },
     "execution_count": 175,
     "metadata": {},
     "output_type": "execute_result"
    }
   ],
   "source": [
    "hybridLWR[\"trues\"].shape, seq2seq[\"trues\"].shape "
   ]
  },
  {
   "cell_type": "code",
   "execution_count": 176,
   "metadata": {},
   "outputs": [
    {
     "data": {
      "text/plain": [
       "((10651, 3, 12, 77), (10651, 3, 12, 77))"
      ]
     },
     "execution_count": 176,
     "metadata": {},
     "output_type": "execute_result"
    }
   ],
   "source": [
    "hybridLWR[\"preds\"].shape, hybridLWR[\"trues\"].shape"
   ]
  },
  {
   "cell_type": "code",
   "execution_count": 211,
   "metadata": {},
   "outputs": [
    {
     "data": {
      "text/plain": [
       "(array([0.04490819, 0.03767354, 0.03234386], dtype=float32),\n",
       " array([0.04490819, 0.03767354, 0.03234386]))"
      ]
     },
     "execution_count": 211,
     "metadata": {},
     "output_type": "execute_result"
    }
   ],
   "source": [
    "# seq2seq[\"trues\"][100, 0, 0, 1:4], hybridLWR[\"trues\"][99, 0, 0, test_sensors][:3] # LWR[\"trues\"][111, 0, 0, :3], \n",
    "seq2seq[\"trues\"][200, 0, 2, 1:4], hybridLWR[\"trues\"][199, 0, 2, :3]"
   ]
  },
  {
   "cell_type": "code",
   "execution_count": 133,
   "metadata": {},
   "outputs": [],
   "source": [
    "full = np.concatenate((np.expand_dims(seq2seq[\"trues\"][200, :, :, 0], axis=-1), hybridLWR[\"preds\"][199, :, :, :]), axis = 2) "
   ]
  },
  {
   "cell_type": "code",
   "execution_count": 11,
   "metadata": {},
   "outputs": [],
   "source": [
    "# np.expand_dims(seq2seq[\"trues\"][100, :, :, 0], axis=-1).shape"
   ]
  },
  {
   "cell_type": "code",
   "execution_count": 46,
   "metadata": {},
   "outputs": [
    {
     "data": {
      "text/plain": [
       "(3, 12, 78)"
      ]
     },
     "execution_count": 46,
     "metadata": {},
     "output_type": "execute_result"
    }
   ],
   "source": [
    "full.shape "
   ]
  },
  {
   "cell_type": "code",
   "execution_count": 13,
   "metadata": {},
   "outputs": [
    {
     "data": {
      "text/plain": [
       "(array([0.04420777, 0.03398351, 0.02587413], dtype=float32),\n",
       " array([0.04420777, 0.03398351, 0.02587413]))"
      ]
     },
     "execution_count": 13,
     "metadata": {},
     "output_type": "execute_result"
    }
   ],
   "source": [
    "seq2seq[\"trues\"][100, 0, 1, :3], full[0, 1, :3] # LWR[\"trues\"][3, 0, 0, :3], "
   ]
  },
  {
   "cell_type": "code",
   "execution_count": 14,
   "metadata": {},
   "outputs": [
    {
     "ename": "NameError",
     "evalue": "name 'out' is not defined",
     "output_type": "error",
     "traceback": [
      "\u001b[1;31m---------------------------------------------------------------------------\u001b[0m",
      "\u001b[1;31mNameError\u001b[0m                                 Traceback (most recent call last)",
      "\u001b[1;32mC:\\Users\\STEPHE~1\\AppData\\Local\\Temp/ipykernel_16416/2763926275.py\u001b[0m in \u001b[0;36m<module>\u001b[1;34m\u001b[0m\n\u001b[1;32m----> 1\u001b[1;33m \u001b[0mout\u001b[0m\u001b[1;33m[\u001b[0m\u001b[1;34m\"model\"\u001b[0m\u001b[1;33m]\u001b[0m\u001b[1;33m.\u001b[0m\u001b[0mk\u001b[0m\u001b[1;33m[\u001b[0m\u001b[1;36m0\u001b[0m\u001b[1;33m]\u001b[0m\u001b[1;33m.\u001b[0m\u001b[0mshape\u001b[0m\u001b[1;33m\u001b[0m\u001b[1;33m\u001b[0m\u001b[0m\n\u001b[0m",
      "\u001b[1;31mNameError\u001b[0m: name 'out' is not defined"
     ]
    }
   ],
   "source": [
    "out[\"model\"].k[0].shape"
   ]
  },
  {
   "cell_type": "code",
   "execution_count": null,
   "metadata": {},
   "outputs": [],
   "source": [
    "out[\"model\"].ki[-1].shape"
   ]
  },
  {
   "cell_type": "code",
   "execution_count": 6,
   "metadata": {},
   "outputs": [],
   "source": [
    "import matplotlib.pyplot as plt"
   ]
  },
  {
   "cell_type": "code",
   "execution_count": null,
   "metadata": {},
   "outputs": [],
   "source": [
    "out[\"model\"].xi.shape"
   ]
  },
  {
   "cell_type": "code",
   "execution_count": 7,
   "metadata": {},
   "outputs": [],
   "source": [
    "# dx=hybridLWR[\"model\"].dx.cpu().detach().numpy()\n",
    "# nx=hybridLWR[\"model\"].nx \n",
    "dx = 300 \n",
    "nx = 380 \n",
    "xpos=np.linspace(0, (nx-1)*dx, nx)"
   ]
  },
  {
   "cell_type": "code",
   "execution_count": 8,
   "metadata": {},
   "outputs": [
    {
     "data": {
      "text/plain": [
       "array([     0.,    300.,    600.,    900.,   1200.,   1500.,   1800.,\n",
       "         2100.,   2400.,   2700.,   3000.,   3300.,   3600.,   3900.,\n",
       "         4200.,   4500.,   4800.,   5100.,   5400.,   5700.,   6000.,\n",
       "         6300.,   6600.,   6900.,   7200.,   7500.,   7800.,   8100.,\n",
       "         8400.,   8700.,   9000.,   9300.,   9600.,   9900.,  10200.,\n",
       "        10500.,  10800.,  11100.,  11400.,  11700.,  12000.,  12300.,\n",
       "        12600.,  12900.,  13200.,  13500.,  13800.,  14100.,  14400.,\n",
       "        14700.,  15000.,  15300.,  15600.,  15900.,  16200.,  16500.,\n",
       "        16800.,  17100.,  17400.,  17700.,  18000.,  18300.,  18600.,\n",
       "        18900.,  19200.,  19500.,  19800.,  20100.,  20400.,  20700.,\n",
       "        21000.,  21300.,  21600.,  21900.,  22200.,  22500.,  22800.,\n",
       "        23100.,  23400.,  23700.,  24000.,  24300.,  24600.,  24900.,\n",
       "        25200.,  25500.,  25800.,  26100.,  26400.,  26700.,  27000.,\n",
       "        27300.,  27600.,  27900.,  28200.,  28500.,  28800.,  29100.,\n",
       "        29400.,  29700.,  30000.,  30300.,  30600.,  30900.,  31200.,\n",
       "        31500.,  31800.,  32100.,  32400.,  32700.,  33000.,  33300.,\n",
       "        33600.,  33900.,  34200.,  34500.,  34800.,  35100.,  35400.,\n",
       "        35700.,  36000.,  36300.,  36600.,  36900.,  37200.,  37500.,\n",
       "        37800.,  38100.,  38400.,  38700.,  39000.,  39300.,  39600.,\n",
       "        39900.,  40200.,  40500.,  40800.,  41100.,  41400.,  41700.,\n",
       "        42000.,  42300.,  42600.,  42900.,  43200.,  43500.,  43800.,\n",
       "        44100.,  44400.,  44700.,  45000.,  45300.,  45600.,  45900.,\n",
       "        46200.,  46500.,  46800.,  47100.,  47400.,  47700.,  48000.,\n",
       "        48300.,  48600.,  48900.,  49200.,  49500.,  49800.,  50100.,\n",
       "        50400.,  50700.,  51000.,  51300.,  51600.,  51900.,  52200.,\n",
       "        52500.,  52800.,  53100.,  53400.,  53700.,  54000.,  54300.,\n",
       "        54600.,  54900.,  55200.,  55500.,  55800.,  56100.,  56400.,\n",
       "        56700.,  57000.,  57300.,  57600.,  57900.,  58200.,  58500.,\n",
       "        58800.,  59100.,  59400.,  59700.,  60000.,  60300.,  60600.,\n",
       "        60900.,  61200.,  61500.,  61800.,  62100.,  62400.,  62700.,\n",
       "        63000.,  63300.,  63600.,  63900.,  64200.,  64500.,  64800.,\n",
       "        65100.,  65400.,  65700.,  66000.,  66300.,  66600.,  66900.,\n",
       "        67200.,  67500.,  67800.,  68100.,  68400.,  68700.,  69000.,\n",
       "        69300.,  69600.,  69900.,  70200.,  70500.,  70800.,  71100.,\n",
       "        71400.,  71700.,  72000.,  72300.,  72600.,  72900.,  73200.,\n",
       "        73500.,  73800.,  74100.,  74400.,  74700.,  75000.,  75300.,\n",
       "        75600.,  75900.,  76200.,  76500.,  76800.,  77100.,  77400.,\n",
       "        77700.,  78000.,  78300.,  78600.,  78900.,  79200.,  79500.,\n",
       "        79800.,  80100.,  80400.,  80700.,  81000.,  81300.,  81600.,\n",
       "        81900.,  82200.,  82500.,  82800.,  83100.,  83400.,  83700.,\n",
       "        84000.,  84300.,  84600.,  84900.,  85200.,  85500.,  85800.,\n",
       "        86100.,  86400.,  86700.,  87000.,  87300.,  87600.,  87900.,\n",
       "        88200.,  88500.,  88800.,  89100.,  89400.,  89700.,  90000.,\n",
       "        90300.,  90600.,  90900.,  91200.,  91500.,  91800.,  92100.,\n",
       "        92400.,  92700.,  93000.,  93300.,  93600.,  93900.,  94200.,\n",
       "        94500.,  94800.,  95100.,  95400.,  95700.,  96000.,  96300.,\n",
       "        96600.,  96900.,  97200.,  97500.,  97800.,  98100.,  98400.,\n",
       "        98700.,  99000.,  99300.,  99600.,  99900., 100200., 100500.,\n",
       "       100800., 101100., 101400., 101700., 102000., 102300., 102600.,\n",
       "       102900., 103200., 103500., 103800., 104100., 104400., 104700.,\n",
       "       105000., 105300., 105600., 105900., 106200., 106500., 106800.,\n",
       "       107100., 107400., 107700., 108000., 108300., 108600., 108900.,\n",
       "       109200., 109500., 109800., 110100., 110400., 110700., 111000.,\n",
       "       111300., 111600., 111900., 112200., 112500., 112800., 113100.,\n",
       "       113400., 113700.])"
      ]
     },
     "execution_count": 8,
     "metadata": {},
     "output_type": "execute_result"
    }
   ],
   "source": [
    "xpos"
   ]
  },
  {
   "cell_type": "code",
   "execution_count": 134,
   "metadata": {},
   "outputs": [],
   "source": [
    "# xi=hybridLWR[\"model\"].xi.cpu().numpy()\n",
    "# xi.shape \n",
    "\n",
    "# sensor location \n",
    "\n",
    "xi = [0,  45,  56,  75,  81,  86,  89,  95, 100, 105, 109, 112, 117,\n",
    "       124, 128, 133, 137, 141, 146, 149, 152, 158, 163, 167, 171, 174,\n",
    "       180, 186, 192, 197, 200, 205, 207, 210, 211, 213, 214, 228, 231,\n",
    "       237, 240, 242, 251, 254, 258, 262, 266, 270, 277, 279, 282, 283,\n",
    "       286, 288, 291, 294, 296, 298, 300, 303, 308, 310, 315, 317, 320,\n",
    "       322, 327, 338, 342, 345, 352, 356, 359, 362, 366, 368, 374, 379] "
   ]
  },
  {
   "cell_type": "code",
   "execution_count": null,
   "metadata": {},
   "outputs": [],
   "source": [
    "LWR[\"model\"].ki[-1].shape "
   ]
  },
  {
   "cell_type": "code",
   "execution_count": null,
   "metadata": {},
   "outputs": [],
   "source": [
    "xpos[xi].shape # , seq2seq[\"trues\"][1, 0, -1, :].shape "
   ]
  },
  {
   "cell_type": "code",
   "execution_count": null,
   "metadata": {},
   "outputs": [],
   "source": [
    "#batch id\n",
    "bi=10 \n",
    "plt.plot(xpos[xi[0, :]], seq2seq[\"trues\"][1, 0, -1, :], linewidth=0,\n",
    "        marker=\"o\") \n",
    "plt.plot(xpos[xi[0, :]], seq2seq[\"trues\"][1, 0, -1, :]) "
   ]
  },
  {
   "cell_type": "code",
   "execution_count": null,
   "metadata": {},
   "outputs": [],
   "source": [
    "#batch id\n",
    "bi=10 \n",
    "plt.plot(xpos[xi[0, :]], seq2seq[\"preds\"][1, 0, -1, :], linewidth=0,\n",
    "        marker=\"o\");\n",
    "plt.plot(xpos[xi[0, :]], seq2seq[\"preds\"][1, 0, -1, :]);"
   ]
  },
  {
   "cell_type": "code",
   "execution_count": null,
   "metadata": {},
   "outputs": [],
   "source": [
    "LWR[\"model\"].k[-1][0,:].max()"
   ]
  },
  {
   "cell_type": "code",
   "execution_count": null,
   "metadata": {},
   "outputs": [],
   "source": [
    "# ksnap=LWR[\"model\"].k[-1][0,:].cpu().detach().numpy()\n",
    "# usnap=LWR[\"model\"].u[-1][0,:].cpu().detach().numpy()"
   ]
  },
  {
   "cell_type": "code",
   "execution_count": 146,
   "metadata": {},
   "outputs": [],
   "source": [
    "from scipy.interpolate import interp1d\n",
    "\n",
    "def interpolate_initial(var, xi, t0=0): \n",
    "#     IM_k=interp1d(np.array(xi) * dx, var[0, :], bounds_error=False, \n",
    "#                 fill_value=(var[0, 0], var[0, -1]), kind='linear') \n",
    "    IM_q=interp1d(np.array(xi) * dx, var[1, :], bounds_error=False, \n",
    "                fill_value=(var[1, 0], var[1, -1]), kind='linear') \n",
    "    IM_u=interp1d(np.array(xi) * dx, var[2, :], bounds_error=False, \n",
    "                fill_value=(var[2, 0], var[2, -1]), kind='linear') \n",
    "    \n",
    "    x=np.linspace(0, (nx-1) * dx, nx) \n",
    "    u = IM_u(x)\n",
    "    q = IM_q(x)\n",
    "#     k = IM_k(x)\n",
    "    k = q / u\n",
    "#     initial = np.stack((k, q, u))\n",
    "    return k, u"
   ]
  },
  {
   "cell_type": "code",
   "execution_count": 177,
   "metadata": {},
   "outputs": [],
   "source": [
    "# ksnap, usnap = interpolate_initial(hybridLWR[\"preds\"][199, :, 11, :], xi, t0=0) \n",
    "# ksnap, usnap = interpolate_initial(seq2seq[\"preds\"][200, :, 11, :], xi, t0=0) \n",
    "# ksnap, usnap = interpolate_initial(seq2seq[\"trues\"][200, :, 11, :], xi, t0=0) \n",
    "ksnap, usnap = interpolate_initial(full[:, 11, :], xi, t0=0)"
   ]
  },
  {
   "cell_type": "code",
   "execution_count": 178,
   "metadata": {},
   "outputs": [],
   "source": [
    "np.save(\"k_snapshot_LWR.npy\", ksnap)\n",
    "np.save(\"u_snapshot_LWR.npy\", usnap)\n",
    "np.save(\"xpos_snapshot_LWR.npy\", xpos)"
   ]
  },
  {
   "cell_type": "code",
   "execution_count": 179,
   "metadata": {},
   "outputs": [],
   "source": [
    "# kisnap=seq2seq[\"preds\"][200, 0, 11, :]\n",
    "# uisnap=seq2seq[\"preds\"][200, 2, 11, :] \n",
    "# kisnap=seq2seq[\"trues\"][200, 0, 11, :]\n",
    "# uisnap=seq2seq[\"trues\"][200, 2, 11, :] \n",
    "# kisnap=hybridLWR[\"preds\"][199, 0, 11, :]\n",
    "# uisnap=hybridLWR[\"preds\"][199, 2, 11, :] \n",
    "kisnap=full[0, 11, :]\n",
    "uisnap=full[2, 11, :]\n",
    "np.save(\"ki_snapshot_LWR.npy\", kisnap)\n",
    "np.save(\"ui_snapshot_LWR.npy\", uisnap)\n",
    "np.save(\"xi_snapshot_LWR.npy\", xi)"
   ]
  },
  {
   "cell_type": "code",
   "execution_count": null,
   "metadata": {},
   "outputs": [],
   "source": []
  }
 ],
 "metadata": {
  "kernelspec": {
   "display_name": "Python 3 (ipykernel)",
   "language": "python",
   "name": "python3"
  },
  "language_info": {
   "codemirror_mode": {
    "name": "ipython",
    "version": 3
   },
   "file_extension": ".py",
   "mimetype": "text/x-python",
   "name": "python",
   "nbconvert_exporter": "python",
   "pygments_lexer": "ipython3",
   "version": "3.9.6"
  }
 },
 "nbformat": 4,
 "nbformat_minor": 4
}
