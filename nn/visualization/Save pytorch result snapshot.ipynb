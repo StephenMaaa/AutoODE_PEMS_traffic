{
 "cells": [
  {
   "cell_type": "code",
   "execution_count": 1,
   "metadata": {},
   "outputs": [],
   "source": [
    "import pandas as pd \n",
    "import torch\n",
    "import torch.nn as nn\n",
    "import numpy as np\n",
    "# from AutoODE import LWR_batch_version \n",
    "import sys \n",
    "sys.path.append(\"..\")\n",
    "from DNN import LWRDataset, train_LWR, eval_LWR, test_LWR"
   ]
  },
  {
   "cell_type": "code",
   "execution_count": 2,
   "metadata": {},
   "outputs": [],
   "source": [
    "import torch\n",
    "import torch.nn as nn\n",
    "import numpy as np\n",
    "from torch.utils import data\n",
    "#device = \"cuda\" \n",
    "device = \"cpu\" \n",
    "\n",
    "class LWR_batch_version(nn.Module):\n",
    "    def __init__(self, nx, dx, dt, kj, vf, tskip, plm = True, plm_vf = True, initial='random', boundary='zeros',\n",
    "                fix_vf=False, parstep=1): \n",
    "        super(LWR_batch_version, self).__init__()\n",
    "        self.nx = nx\n",
    "        #xi are the locations along distance where data is available\n",
    "        self.xi = [] \n",
    "        self.tskip = tskip \n",
    "#         self.y_max = y_max \n",
    "#         self.y_min = y_min \n",
    "        self.cmps=[\"k\",\"q\",\"u\"]  #density, flow, velocity\n",
    "#         self.initial={}\n",
    "#         self.boundary={}\n",
    "        \n",
    "        self.initial = {} # shape: [batch, 3, # sensors]\n",
    "        self.boundary = {} # shape: [batch, seq_len, 3]\n",
    "            \n",
    "        #factor by which parameter resolution is reduced with respect to nx\n",
    "        self.parstep=parstep\n",
    "        self.flag = plm \n",
    "        \n",
    "        # use piecewise linear function for kj\n",
    "        if plm == False: \n",
    "            self.kappa = torch.nn.Parameter(torch.tensor(kj[::self.parstep]), requires_grad=True)\n",
    "#             print(self.kappa, self.kappa.shape)\n",
    "        else: \n",
    "            self.plm = PiecewiseLinearModel(n_breaks = 2, num_regions = self.nx).to(device)\n",
    "        \n",
    "        #characteristic velocity vf\n",
    "        if not fix_vf:\n",
    "            self.vf=torch.nn.Parameter(torch.tensor(vf[::self.parstep]), requires_grad=True)\n",
    "#             self.plm = PiecewiseLinearModel(n_breaks = 2, num_regions = self.nx, x = vf)\n",
    "        else:\n",
    "            self.vf=torch.tensor(vf[::self.parstep])\n",
    "        \n",
    "        self.dx = torch.tensor(dx)\n",
    "        self.dt = torch.tensor(dt)\n",
    "        \n",
    "    def forward(self, xi, initial, boundary, tsteps): \n",
    "        self.xi = xi \n",
    "        nt=tsteps \n",
    "        self.initial = torch.nn.Parameter(initial).to(device)\n",
    "        self.boundary = torch.nn.Parameter(boundary).to(device)\n",
    "\n",
    "        batch_size = self.initial.shape[0]\n",
    "       \n",
    "        self.k = [self.initial[:, 0]]\n",
    "        self.q = [self.initial[:, 1]]\n",
    "        self.u = [self.initial[:, 2]]\n",
    "        \n",
    "        #initial values at output points\n",
    "        self.ki=[self.initial[:, 0][:, self.xi[0]]]\n",
    "        self.ui=[self.initial[:, 1][:, self.xi[0]]]\n",
    "        self.qi=[self.initial[:, 2][:, self.xi[0]]]\n",
    "#         print(\"k\", self.k[0].shape)\n",
    "        for n in range(1, nt):\n",
    "            #This corresponds to the upwind scheme according to Gaddam et al. (2015).\n",
    "            nk=torch.zeros((batch_size, nx), requires_grad=True).double().to(device)\n",
    "            nu=torch.zeros((batch_size, nx), requires_grad=True).double().to(device)\n",
    "            nq=torch.zeros((batch_size, nx), requires_grad=True).double().to(device)\n",
    "            \n",
    "            #new values for 3 variables stored in one tensor per time step\n",
    "            nk[:, 0] = self.boundary[:, 0, n]\n",
    "            nq[:, 0] = self.boundary[:, 1, n]\n",
    "            nu[:, 0] = self.boundary[:, 2, n] \n",
    "            \n",
    "            #full-resolution tensor hkappa and hv1, from down-sampled versions\n",
    "            idx=torch.arange(self.nx) / self.parstep\n",
    "            if self.flag: \n",
    "                hkappa = kappa[:, n - 1]\n",
    "            else: \n",
    "                hkappa=self.kappa[idx.long()]\n",
    "            hvf=self.vf[idx.long()] #.repeat(batch_size, 1)\n",
    "\n",
    "            nk[:, 1:] = self.k[n-1][:, 1:] - 0.0016 * self.dt / self.dx * (self.q[n-1][:, 1:]-self.q[n-1][:, :-1]) \n",
    "#             idx = nk < 0. \n",
    "#             nk[idx] = 0.01 \n",
    "            nu[:, 1:] = hvf[1:] * (1 - nk[:, 1:] / hkappa[1:])\n",
    "#             idx = nu < 0.\n",
    "#             nu[idx] = 2  \n",
    "            nq[:, 1:] = nk[:, 1:] * nu[:, 1:] \n",
    "#             idx = nq < 0.\n",
    "#             nq[idx] = 0.2  \n",
    "            \n",
    "\n",
    "\n",
    "            self.k.append(nk)\n",
    "            self.u.append(nu)\n",
    "            self.q.append(nq) \n",
    "            \n",
    "            #only output every tskip timesteps\n",
    "            if (n % self.tskip) == 0: \n",
    "                self.ki.append(nk[:, self.xi[0]])\n",
    "                self.ui.append(nu[:, self.xi[0]])\n",
    "                self.qi.append(nq[:, self.xi[0]])\n",
    "\n",
    "        pred = torch.stack([torch.stack(self.ki, dim = 1),torch.stack(self.qi, dim = 1),torch.stack(self.ui, dim = 1)], dim = 1) \n",
    "        \n",
    "        return pred[:, :, 1:, 1:] "
   ]
  },
  {
   "cell_type": "code",
   "execution_count": 3,
   "metadata": {},
   "outputs": [],
   "source": [
    "class LWR_Residual(nn.Module): \n",
    "    def __init__(self, input_dim, hidden_dim, output_dim): \n",
    "        super(LWR_Residual, self).__init__()\n",
    "        self.fc = nn.Sequential(\n",
    "            nn.Linear(input_dim, hidden_dim), \n",
    "            nn.ReLU(), \n",
    "            nn.Linear(hidden_dim, hidden_dim), \n",
    "            nn.ReLU(), \n",
    "            nn.Linear(hidden_dim, hidden_dim), \n",
    "            nn.ReLU(), \n",
    "            nn.Linear(hidden_dim, hidden_dim), \n",
    "            nn.ReLU(), \n",
    "            nn.Linear(hidden_dim, hidden_dim), \n",
    "            nn.ReLU(), \n",
    "            nn.Linear(hidden_dim, output_dim) \n",
    "        )\n",
    "    \n",
    "    def forward(self, batch_size, x, t): \n",
    "#         x = x.permute(0, 2, 1).float().to(device)\n",
    "#         x = x.reshape(x.shape[0], -1) \n",
    "        x_len = x.shape[0]\n",
    "        t_len = t.shape[0]\n",
    "        xx, tt = np.meshgrid(x.cpu().data.numpy(), t.cpu().data.numpy())\n",
    "        X = torch.tensor(np.vstack((np.ravel(xx), np.ravel(tt))).T).repeat(batch_size, 1, 1).float().to(device)\n",
    "#         print(X.shape)\n",
    "        outputs = []\n",
    "\n",
    "        for i in range(t.shape[0]): \n",
    "            out = self.fc(X[:, i * x_len : i * x_len + x_len, :].reshape(batch_size, -1).float())\n",
    "            outputs.append(out)\n",
    "        outputs = torch.stack(outputs)\n",
    "#         print(outputs.shape)\n",
    "        outputs = outputs.permute(1, 0, 2)\n",
    "        outputs = outputs.reshape((batch_size, t_len, 3, x_len))\n",
    "        outputs = outputs.permute(0, 2, 1, 3)\n",
    "#         print(outputs.shape) \n",
    "        return outputs\n",
    "\n",
    "class LWR_residual(nn.Module): \n",
    "    def __init__(self, LWR, x_size): \n",
    "        super(LWR_residual, self).__init__()\n",
    "        self.LWR_model = LWR.to(device)\n",
    "#         LWR_w(nx, dx, dt, kj, vf, tskip, plm = True, plm_vf = False, \n",
    "#                           initial={}, boundary={}, fix_vf=False, parstep=10).to(device)\n",
    "        self.residual_model = LWR_Residual(x_size * 2, 512, x_size * 3)\n",
    "    \n",
    "    def forward(self, xi, initial, boundary, tsteps): \n",
    "#         print(xi.shape)\n",
    "        x = torch.linspace(0, 1, xi.shape[1]).to(device)\n",
    "        tt = torch.linspace(0, 1, 12).to(device) \n",
    "#         print(x.shape, tt.shape)\n",
    "        pred = self.LWR_model(xi, initial, boundary, tsteps) \n",
    "        residual = self.residual_model(xi.shape[0], x, tt) \n",
    "#         print(pred.shape, residual.shape) \n",
    "        pred += residual[:, :, 1:, 1:] \n",
    "        \n",
    "        return pred \n",
    "\n",
    "class LWR_seq2seq(nn.Module): \n",
    "    def __init__(self, LWR): \n",
    "        super(LWR_seq2seq, self).__init__()\n",
    "        self.LWR_model = LWR.to(device) \n",
    "        for p in self.LWR_model.parameters(): \n",
    "            p.requires_grad = False \n",
    "#         LWR_w(nx, dx, dt, kj, vf, tskip, plm = True, plm_vf = False, \n",
    "#                           initial={}, boundary={}, fix_vf=False, parstep=10).to(device)\n",
    "        self.residual_model = Seq2Seq(input_dim = 231, hidden_dim = 512, output_dim = 231, num_layers = 1).to(device)\n",
    "    \n",
    "    def forward(self, xi, x, initial, boundary, tsteps): \n",
    "        with torch.no_grad():\n",
    "            pred1 = self.LWR_model(xi, initial[:, 0], boundary[:, 0], tsteps) # first 12\n",
    "            pred2 = self.LWR_model(xi, initial[:, 1], boundary[:, 1], tsteps) # last 12\n",
    "        res = x[:, :, 1:13, 1:] - pred1.detach().clone() \n",
    "\n",
    "        residual = self.residual_model(res.float(), 12) # last 12\n",
    "\n",
    "        pred = pred2.detach().clone()\n",
    "        pred += residual # residual[:, :, 1:] \n",
    "        \n",
    "        return pred.double() \n",
    "\n",
    "# class LWR_seq2seq(nn.Module): \n",
    "#     def __init__(self, LWR): \n",
    "#         super(LWR_seq2seq, self).__init__()\n",
    "#         self.LWR_model = LWR.to(device) \n",
    "#         for p in self.LWR_model.parameters(): \n",
    "#             p.requires_grad = False \n",
    "# #         LWR_w(nx, dx, dt, kj, vf, tskip, plm = True, plm_vf = False, \n",
    "# #                           initial={}, boundary={}, fix_vf=False, parstep=10).to(device)\n",
    "#         self.residual_model = Seq2Seq(input_dim = 231, hidden_dim = 512, output_dim = 231, num_layers = 1).to(device)\n",
    "    \n",
    "#     def forward(self, xi, x, initial, boundary, tsteps): \n",
    "#         with torch.no_grad():\n",
    "#             pred1 = self.LWR_model(xi, initial[:, 0], boundary[:, 0], tsteps) # first 12\n",
    "#             pred2 = self.LWR_model(xi, initial[:, 1], boundary[:, 1], tsteps) # last 12\n",
    "#         res = x[:, :, 1:12, 1:] - pred1.detach().clone() \n",
    "\n",
    "#         residual = self.residual_model(res.float(), 12) # last 12\n",
    "\n",
    "#         pred = pred2.detach().clone()\n",
    "#         pred += residual[:, :, 1:] \n",
    "        \n",
    "#         return pred.double() "
   ]
  },
  {
   "cell_type": "code",
   "execution_count": 4,
   "metadata": {},
   "outputs": [],
   "source": [
    "import torch "
   ]
  },
  {
   "cell_type": "code",
   "execution_count": 5,
   "metadata": {},
   "outputs": [
    {
     "data": {
      "text/plain": [
       "'C:\\\\Users\\\\Stephen Ma\\\\Desktop\\\\AutoODE_PEMS_traffic\\\\nn\\\\visualization'"
      ]
     },
     "execution_count": 5,
     "metadata": {},
     "output_type": "execute_result"
    }
   ],
   "source": [
    "import os \n",
    "\n",
    "os.getcwd() "
   ]
  },
  {
   "cell_type": "code",
   "execution_count": 6,
   "metadata": {},
   "outputs": [],
   "source": [
    "# LWR=torch.load(\"time_AutoODE1.pt\", map_location=torch.device('cpu'))\n",
    "# seq2seq = torch.load(\"../result/Seq2Seq/time/best_time_Seq2Seq1.pt\", map_location=torch.device('cpu')) \n",
    "LWR=torch.load(\"../AutoODE_result/space/best_space_AutoODE3.pt\", map_location=torch.device('cpu'))\n",
    "seq2seq = torch.load(\"../result/Seq2Seq/space/best_space_Seq2Seq1.pt\", map_location=torch.device('cpu')) \n"
   ]
  },
  {
   "cell_type": "code",
   "execution_count": 19,
   "metadata": {},
   "outputs": [],
   "source": [
    "# hybridLWR = torch.load(\"../AutoODE_result/time/time_hybridAutoODE2.pt\", map_location=torch.device('cpu'))\n",
    "hybridLWR = torch.load(\"../AutoODE_result/space/new_space_hybridAutoODE1.pt\", map_location=torch.device('cpu')) "
   ]
  },
  {
   "cell_type": "code",
   "execution_count": 20,
   "metadata": {},
   "outputs": [
    {
     "data": {
      "text/plain": [
       "(53255, 3, 12, 77)"
      ]
     },
     "execution_count": 20,
     "metadata": {},
     "output_type": "execute_result"
    }
   ],
   "source": [
    "hybridLWR[\"preds\"].shape "
   ]
  },
  {
   "cell_type": "code",
   "execution_count": 28,
   "metadata": {},
   "outputs": [
    {
     "data": {
      "text/plain": [
       "tensor([ 2, 10, 12, 13, 14, 15, 18, 23, 26, 28, 30, 35, 37, 40, 49, 61, 72, 74,\n",
       "        75])"
      ]
     },
     "execution_count": 28,
     "metadata": {},
     "output_type": "execute_result"
    }
   ],
   "source": [
    "test_sensors = torch.tensor([3, 11, 13, 14, 15, 16, 19, 24, 27, 29, 31, 36, 38, 41, 50, 62,\n",
    "       73, 75, 76]) - 1  \n",
    "test_sensors "
   ]
  },
  {
   "cell_type": "code",
   "execution_count": 7,
   "metadata": {},
   "outputs": [
    {
     "data": {
      "text/plain": [
       "((53267, 3, 12, 19), (53256, 3, 12, 20))"
      ]
     },
     "execution_count": 7,
     "metadata": {},
     "output_type": "execute_result"
    }
   ],
   "source": [
    "LWR[\"trues\"].shape, seq2seq[\"trues\"].shape "
   ]
  },
  {
   "cell_type": "code",
   "execution_count": 30,
   "metadata": {},
   "outputs": [
    {
     "data": {
      "text/plain": [
       "(array([0.02905112, 0.04562397, 0.05339333]),\n",
       " array([0.02905112, 0.04562397, 0.05339333], dtype=float32),\n",
       " array([0.02905112, 0.04562397, 0.05339333]))"
      ]
     },
     "execution_count": 30,
     "metadata": {},
     "output_type": "execute_result"
    }
   ],
   "source": [
    "LWR[\"trues\"][111, 0, 0, :3], seq2seq[\"trues\"][100, 0, 0, 1:4], hybridLWR[\"trues\"][99, 0, 0, test_sensors][:3]"
   ]
  },
  {
   "cell_type": "code",
   "execution_count": 40,
   "metadata": {},
   "outputs": [],
   "source": [
    "full = np.concatenate((np.expand_dims(seq2seq[\"trues\"][100, :, :, 0], axis=-1), LWR[\"trues\"][111, :, :, ::]), axis = 2) "
   ]
  },
  {
   "cell_type": "code",
   "execution_count": 36,
   "metadata": {},
   "outputs": [
    {
     "data": {
      "text/plain": [
       "(3, 12, 1)"
      ]
     },
     "execution_count": 36,
     "metadata": {},
     "output_type": "execute_result"
    }
   ],
   "source": [
    "np.expand_dims(seq2seq[\"trues\"][100, :, :, 0], axis=-1).shape"
   ]
  },
  {
   "cell_type": "code",
   "execution_count": 42,
   "metadata": {},
   "outputs": [
    {
     "data": {
      "text/plain": [
       "(array([0.02229968, 0.01375568, 0.01384004]),\n",
       " array([0.02779224, 0.02588739, 0.02377252], dtype=float32),\n",
       " array([0.02779224, 0.02588739, 0.02377252]))"
      ]
     },
     "execution_count": 42,
     "metadata": {},
     "output_type": "execute_result"
    }
   ],
   "source": [
    "LWR[\"trues\"][3, 0, 0, :3], seq2seq[\"trues\"][100, 0, 0, :3], full[0, 0, :3]"
   ]
  },
  {
   "cell_type": "code",
   "execution_count": 11,
   "metadata": {},
   "outputs": [
    {
     "data": {
      "text/plain": [
       "torch.Size([414, 380])"
      ]
     },
     "execution_count": 11,
     "metadata": {},
     "output_type": "execute_result"
    }
   ],
   "source": [
    "out[\"model\"].k[0].shape"
   ]
  },
  {
   "cell_type": "code",
   "execution_count": 12,
   "metadata": {},
   "outputs": [
    {
     "data": {
      "text/plain": [
       "torch.Size([414, 78])"
      ]
     },
     "execution_count": 12,
     "metadata": {},
     "output_type": "execute_result"
    }
   ],
   "source": [
    "out[\"model\"].ki[-1].shape"
   ]
  },
  {
   "cell_type": "code",
   "execution_count": 14,
   "metadata": {},
   "outputs": [],
   "source": [
    "import matplotlib.pyplot as plt"
   ]
  },
  {
   "cell_type": "code",
   "execution_count": 14,
   "metadata": {},
   "outputs": [
    {
     "data": {
      "text/plain": [
       "torch.Size([414, 78])"
      ]
     },
     "execution_count": 14,
     "metadata": {},
     "output_type": "execute_result"
    }
   ],
   "source": [
    "out[\"model\"].xi.shape"
   ]
  },
  {
   "cell_type": "code",
   "execution_count": 10,
   "metadata": {},
   "outputs": [],
   "source": [
    "dx=LWR[\"model\"].dx.cpu().detach().numpy()\n",
    "nx=LWR[\"model\"].nx\n",
    "xpos=np.linspace(0, (nx-1)*dx, nx)"
   ]
  },
  {
   "cell_type": "code",
   "execution_count": 11,
   "metadata": {},
   "outputs": [
    {
     "data": {
      "text/plain": [
       "(19, 20)"
      ]
     },
     "execution_count": 11,
     "metadata": {},
     "output_type": "execute_result"
    }
   ],
   "source": [
    "xi=LWR[\"model\"].xi.cpu().numpy()\n",
    "xi.shape"
   ]
  },
  {
   "cell_type": "code",
   "execution_count": 15,
   "metadata": {},
   "outputs": [
    {
     "data": {
      "text/plain": [
       "torch.Size([19, 20])"
      ]
     },
     "execution_count": 15,
     "metadata": {},
     "output_type": "execute_result"
    }
   ],
   "source": [
    "LWR[\"model\"].ki[-1].shape "
   ]
  },
  {
   "cell_type": "code",
   "execution_count": 20,
   "metadata": {},
   "outputs": [
    {
     "data": {
      "text/plain": [
       "((78,), (78,))"
      ]
     },
     "execution_count": 20,
     "metadata": {},
     "output_type": "execute_result"
    }
   ],
   "source": [
    "xpos[xi[bi,:]].shape, seq2seq[\"trues\"][1, 0, -1, :].shape "
   ]
  },
  {
   "cell_type": "code",
   "execution_count": 25,
   "metadata": {},
   "outputs": [
    {
     "data": {
      "text/plain": [
       "[<matplotlib.lines.Line2D at 0x1fd8f4396a0>]"
      ]
     },
     "execution_count": 25,
     "metadata": {},
     "output_type": "execute_result"
    },
    {
     "data": {
      "image/png": "[encoded data removed]",
      "text/plain": [
       "<Figure size 432x288 with 1 Axes>"
      ]
     },
     "metadata": {
      "needs_background": "light"
     },
     "output_type": "display_data"
    }
   ],
   "source": [
    "#batch id\n",
    "bi=10 \n",
    "plt.plot(xpos[xi[0, :]], seq2seq[\"trues\"][1, 0, -1, :], linewidth=0,\n",
    "        marker=\"o\") \n",
    "plt.plot(xpos[xi[0, :]], seq2seq[\"trues\"][1, 0, -1, :]) "
   ]
  },
  {
   "cell_type": "code",
   "execution_count": 24,
   "metadata": {},
   "outputs": [
    {
     "data": {
      "image/png": "[encoded data removed]",
      "text/plain": [
       "<Figure size 432x288 with 1 Axes>"
      ]
     },
     "metadata": {
      "needs_background": "light"
     },
     "output_type": "display_data"
    }
   ],
   "source": [
    "#batch id\n",
    "bi=10 \n",
    "plt.plot(xpos[xi[0, :]], seq2seq[\"preds\"][1, 0, -1, :], linewidth=0,\n",
    "        marker=\"o\");\n",
    "plt.plot(xpos[xi[0, :]], seq2seq[\"preds\"][1, 0, -1, :]);"
   ]
  },
  {
   "cell_type": "code",
   "execution_count": 16,
   "metadata": {},
   "outputs": [
    {
     "data": {
      "text/plain": [
       "tensor(0.0445, dtype=torch.float64)"
      ]
     },
     "execution_count": 16,
     "metadata": {},
     "output_type": "execute_result"
    }
   ],
   "source": [
    "LWR[\"model\"].k[-1][0,:].max()"
   ]
  },
  {
   "cell_type": "code",
   "execution_count": 17,
   "metadata": {},
   "outputs": [],
   "source": [
    "ksnap=LWR[\"model\"].k[-1][0,:].cpu().detach().numpy()\n",
    "usnap=LWR[\"model\"].u[-1][0,:].cpu().detach().numpy()"
   ]
  },
  {
   "cell_type": "code",
   "execution_count": 12,
   "metadata": {},
   "outputs": [
    {
     "ename": "AttributeError",
     "evalue": "'numpy.ndarray' object has no attribute 'numpy'",
     "output_type": "error",
     "traceback": [
      "\u001b[1;31m---------------------------------------------------------------------------\u001b[0m",
      "\u001b[1;31mAttributeError\u001b[0m                            Traceback (most recent call last)",
      "\u001b[1;32mC:\\Users\\STEPHE~1\\AppData\\Local\\Temp/ipykernel_28248/2800311467.py\u001b[0m in \u001b[0;36m<module>\u001b[1;34m\u001b[0m\n\u001b[1;32m----> 1\u001b[1;33m \u001b[0mksnap\u001b[0m\u001b[1;33m=\u001b[0m\u001b[0mseq2seq\u001b[0m\u001b[1;33m[\u001b[0m\u001b[1;34m\"trues\"\u001b[0m\u001b[1;33m]\u001b[0m\u001b[1;33m[\u001b[0m\u001b[1;36m100\u001b[0m\u001b[1;33m,\u001b[0m \u001b[1;36m0\u001b[0m\u001b[1;33m,\u001b[0m \u001b[1;33m-\u001b[0m\u001b[1;36m1\u001b[0m\u001b[1;33m,\u001b[0m \u001b[1;33m:\u001b[0m\u001b[1;33m]\u001b[0m\u001b[1;33m.\u001b[0m\u001b[0mnumpy\u001b[0m\u001b[1;33m(\u001b[0m\u001b[1;33m)\u001b[0m\u001b[1;33m\u001b[0m\u001b[1;33m\u001b[0m\u001b[0m\n\u001b[0m\u001b[0;32m      2\u001b[0m \u001b[0musnap\u001b[0m\u001b[1;33m=\u001b[0m\u001b[0mseq2seq\u001b[0m\u001b[1;33m[\u001b[0m\u001b[1;34m\"trues\"\u001b[0m\u001b[1;33m]\u001b[0m\u001b[1;33m[\u001b[0m\u001b[1;36m100\u001b[0m\u001b[1;33m,\u001b[0m \u001b[1;36m0\u001b[0m\u001b[1;33m,\u001b[0m \u001b[1;33m-\u001b[0m\u001b[1;36m1\u001b[0m\u001b[1;33m,\u001b[0m \u001b[1;33m:\u001b[0m\u001b[1;33m]\u001b[0m\u001b[1;33m.\u001b[0m\u001b[0mnumpy\u001b[0m\u001b[1;33m(\u001b[0m\u001b[1;33m)\u001b[0m\u001b[1;33m\u001b[0m\u001b[1;33m\u001b[0m\u001b[0m\n",
      "\u001b[1;31mAttributeError\u001b[0m: 'numpy.ndarray' object has no attribute 'numpy'"
     ]
    }
   ],
   "source": [
    "ksnap=seq2seq[\"trues\"][100, 0, -1, :].numpy()\n",
    "usnap=seq2seq[\"trues\"][100, 0, -1, :].numpy()"
   ]
  },
  {
   "cell_type": "code",
   "execution_count": 18,
   "metadata": {},
   "outputs": [],
   "source": [
    "np.save(\"k_snapshot_LWR.npy\", ksnap)\n",
    "np.save(\"u_snapshot_LWR.npy\", usnap)\n",
    "np.save(\"xpos_snapshot_LWR.npy\", xpos)"
   ]
  },
  {
   "cell_type": "code",
   "execution_count": 14,
   "metadata": {},
   "outputs": [],
   "source": [
    "kisnap=seq2seq[\"trues\"][100, 0, -1, :]\n",
    "uisnap=seq2seq[\"trues\"][100, 2, -1, :]\n",
    "np.save(\"ki_snapshot_LWR.npy\", kisnap)\n",
    "np.save(\"ui_snapshot_LWR.npy\", uisnap)\n",
    "np.save(\"xi_snapshot_LWR.npy\", xi[0,:])"
   ]
  },
  {
   "cell_type": "code",
   "execution_count": null,
   "metadata": {},
   "outputs": [],
   "source": []
  }
 ],
 "metadata": {
  "kernelspec": {
   "display_name": "Python 3 (ipykernel)",
   "language": "python",
   "name": "python3"
  },
  "language_info": {
   "codemirror_mode": {
    "name": "ipython",
    "version": 3
   },
   "file_extension": ".py",
   "mimetype": "text/x-python",
   "name": "python",
   "nbconvert_exporter": "python",
   "pygments_lexer": "ipython3",
   "version": "3.9.6"
  }
 },
 "nbformat": 4,
 "nbformat_minor": 4
}
