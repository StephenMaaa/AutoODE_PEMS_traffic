{
 "cells": [
  {
   "cell_type": "code",
   "execution_count": 1,
   "metadata": {},
   "outputs": [],
   "source": [
    "import pandas as pd"
   ]
  },
  {
   "cell_type": "code",
   "execution_count": 2,
   "metadata": {},
   "outputs": [],
   "source": [
    "import torch\n",
    "import torch.nn as nn\n",
    "import numpy as np\n",
    "from torch.utils import data\n",
    "#device = \"cuda\" \n",
    "device = \"cpu\" \n",
    "\n",
    "class LWR_batch_version(nn.Module):\n",
    "    def __init__(self, nx, dx, dt, kj, vf, tskip, plm = True, plm_vf = True, initial='random', boundary='zeros',\n",
    "                fix_vf=False, parstep=1): \n",
    "        super(LWR_batch_version, self).__init__()\n",
    "        self.nx = nx\n",
    "        #xi are the locations along distance where data is available\n",
    "        self.xi = [] \n",
    "        self.tskip = tskip \n",
    "#         self.y_max = y_max \n",
    "#         self.y_min = y_min \n",
    "        self.cmps=[\"k\",\"q\",\"u\"]  #density, flow, velocity\n",
    "#         self.initial={}\n",
    "#         self.boundary={}\n",
    "        \n",
    "        self.initial = {} # shape: [batch, 3, # sensors]\n",
    "        self.boundary = {} # shape: [batch, seq_len, 3]\n",
    "            \n",
    "        #factor by which parameter resolution is reduced with respect to nx\n",
    "        self.parstep=parstep\n",
    "        self.flag = plm \n",
    "        \n",
    "        # use piecewise linear function for kj\n",
    "        if plm == False: \n",
    "            self.kappa = torch.nn.Parameter(torch.tensor(kj[::self.parstep]), requires_grad=True)\n",
    "#             print(self.kappa, self.kappa.shape)\n",
    "        else: \n",
    "            self.plm = PiecewiseLinearModel(n_breaks = 2, num_regions = self.nx).to(device)\n",
    "        \n",
    "        #characteristic velocity vf\n",
    "        if not fix_vf:\n",
    "            self.vf=torch.nn.Parameter(torch.tensor(vf[::self.parstep]), requires_grad=True)\n",
    "#             self.plm = PiecewiseLinearModel(n_breaks = 2, num_regions = self.nx, x = vf)\n",
    "        else:\n",
    "            self.vf=torch.tensor(vf[::self.parstep])\n",
    "        \n",
    "        self.dx = torch.tensor(dx)\n",
    "        self.dt = torch.tensor(dt)\n",
    "        \n",
    "    def forward(self, xi, initial, boundary, tsteps): \n",
    "        self.xi = xi \n",
    "        nt=tsteps \n",
    "        self.initial = torch.nn.Parameter(initial).to(device)\n",
    "        self.boundary = torch.nn.Parameter(boundary).to(device)\n",
    "\n",
    "        batch_size = self.initial.shape[0]\n",
    "       \n",
    "        self.k = [self.initial[:, 0]]\n",
    "        self.q = [self.initial[:, 1]]\n",
    "        self.u = [self.initial[:, 2]]\n",
    "        \n",
    "        #initial values at output points\n",
    "        self.ki=[self.initial[:, 0][:, self.xi[0]]]\n",
    "        self.ui=[self.initial[:, 1][:, self.xi[0]]]\n",
    "        self.qi=[self.initial[:, 2][:, self.xi[0]]]\n",
    "#         print(\"k\", self.k[0].shape)\n",
    "        for n in range(1, nt):\n",
    "            #This corresponds to the upwind scheme according to Gaddam et al. (2015).\n",
    "            nk=torch.zeros((batch_size, nx), requires_grad=True).double().to(device)\n",
    "            nu=torch.zeros((batch_size, nx), requires_grad=True).double().to(device)\n",
    "            nq=torch.zeros((batch_size, nx), requires_grad=True).double().to(device)\n",
    "            \n",
    "            #new values for 3 variables stored in one tensor per time step\n",
    "            nk[:, 0] = self.boundary[:, 0, n]\n",
    "            nq[:, 0] = self.boundary[:, 1, n]\n",
    "            nu[:, 0] = self.boundary[:, 2, n] \n",
    "            \n",
    "            #full-resolution tensor hkappa and hv1, from down-sampled versions\n",
    "            idx=torch.arange(self.nx) / self.parstep\n",
    "            if self.flag: \n",
    "                hkappa = kappa[:, n - 1]\n",
    "            else: \n",
    "                hkappa=self.kappa[idx.long()]\n",
    "            hvf=self.vf[idx.long()] #.repeat(batch_size, 1)\n",
    "\n",
    "            nk[:, 1:] = self.k[n-1][:, 1:] - 0.0016 * self.dt / self.dx * (self.q[n-1][:, 1:]-self.q[n-1][:, :-1]) \n",
    "#             idx = nk < 0. \n",
    "#             nk[idx] = 0.01 \n",
    "            nu[:, 1:] = hvf[1:] * (1 - nk[:, 1:] / hkappa[1:])\n",
    "#             idx = nu < 0.\n",
    "#             nu[idx] = 2  \n",
    "            nq[:, 1:] = nk[:, 1:] * nu[:, 1:] \n",
    "#             idx = nq < 0.\n",
    "#             nq[idx] = 0.2  \n",
    "            \n",
    "\n",
    "\n",
    "            self.k.append(nk)\n",
    "            self.u.append(nu)\n",
    "            self.q.append(nq) \n",
    "            \n",
    "            #only output every tskip timesteps\n",
    "            if (n % self.tskip) == 0: \n",
    "                self.ki.append(nk[:, self.xi[0]])\n",
    "                self.ui.append(nu[:, self.xi[0]])\n",
    "                self.qi.append(nq[:, self.xi[0]])\n",
    "\n",
    "        pred = torch.stack([torch.stack(self.ki, dim = 1),torch.stack(self.qi, dim = 1),torch.stack(self.ui, dim = 1)], dim = 1) \n",
    "        \n",
    "        return pred[:, :, 1:, 1:] "
   ]
  },
  {
   "cell_type": "code",
   "execution_count": 3,
   "metadata": {},
   "outputs": [],
   "source": [
    "import torch"
   ]
  },
  {
   "cell_type": "code",
   "execution_count": 4,
   "metadata": {},
   "outputs": [],
   "source": [
    "out=torch.load(\"../data/time_AutoODE1.pt\")"
   ]
  },
  {
   "cell_type": "code",
   "execution_count": 5,
   "metadata": {},
   "outputs": [
    {
     "data": {
      "text/plain": [
       "(10654, 3, 12, 77)"
      ]
     },
     "execution_count": 5,
     "metadata": {},
     "output_type": "execute_result"
    }
   ],
   "source": [
    "out[\"preds\"].shape"
   ]
  },
  {
   "cell_type": "code",
   "execution_count": 6,
   "metadata": {},
   "outputs": [
    {
     "data": {
      "text/plain": [
       "(10654, 3, 12, 77)"
      ]
     },
     "execution_count": 6,
     "metadata": {},
     "output_type": "execute_result"
    }
   ],
   "source": [
    "out[\"trues\"].shape"
   ]
  },
  {
   "cell_type": "code",
   "execution_count": 7,
   "metadata": {},
   "outputs": [
    {
     "data": {
      "text/plain": [
       "torch.Size([414, 380])"
      ]
     },
     "execution_count": 7,
     "metadata": {},
     "output_type": "execute_result"
    }
   ],
   "source": [
    "out[\"model\"].k[0].shape"
   ]
  },
  {
   "cell_type": "code",
   "execution_count": 8,
   "metadata": {},
   "outputs": [
    {
     "data": {
      "text/plain": [
       "torch.Size([414, 78])"
      ]
     },
     "execution_count": 8,
     "metadata": {},
     "output_type": "execute_result"
    }
   ],
   "source": [
    "out[\"model\"].ki[-1].shape"
   ]
  },
  {
   "cell_type": "code",
   "execution_count": 9,
   "metadata": {},
   "outputs": [],
   "source": [
    "import matplotlib.pyplot as plt"
   ]
  },
  {
   "cell_type": "code",
   "execution_count": 10,
   "metadata": {},
   "outputs": [
    {
     "data": {
      "text/plain": [
       "torch.Size([414, 78])"
      ]
     },
     "execution_count": 10,
     "metadata": {},
     "output_type": "execute_result"
    }
   ],
   "source": [
    "out[\"model\"].xi.shape"
   ]
  },
  {
   "cell_type": "code",
   "execution_count": 11,
   "metadata": {},
   "outputs": [],
   "source": [
    "dx=out[\"model\"].dx.cpu().detach().numpy()\n",
    "nx=out[\"model\"].nx\n",
    "xpos=np.linspace(0, (nx-1)*dx, nx)"
   ]
  },
  {
   "cell_type": "code",
   "execution_count": 12,
   "metadata": {},
   "outputs": [
    {
     "data": {
      "text/plain": [
       "(414, 78)"
      ]
     },
     "execution_count": 12,
     "metadata": {},
     "output_type": "execute_result"
    }
   ],
   "source": [
    "xi=out[\"model\"].xi.cpu().numpy()\n",
    "xi.shape"
   ]
  },
  {
   "cell_type": "code",
   "execution_count": 13,
   "metadata": {},
   "outputs": [
    {
     "data": {
      "image/png": "[encoded data removed]",
      "text/plain": [
       "<Figure size 432x288 with 1 Axes>"
      ]
     },
     "metadata": {
      "needs_background": "light"
     },
     "output_type": "display_data"
    }
   ],
   "source": [
    "#batch id\n",
    "bi=10\n",
    "plt.plot(xpos[xi[bi,:]], out[\"model\"].ki[-1][bi,:].cpu().detach(), linewidth=0,\n",
    "        marker=\"o\");\n",
    "plt.plot(xpos, out[\"model\"].k[-1][bi,:].cpu().detach());"
   ]
  },
  {
   "cell_type": "code",
   "execution_count": 14,
   "metadata": {},
   "outputs": [
    {
     "data": {
      "text/plain": [
       "tensor(0.0909, device='cuda:0', dtype=torch.float64)"
      ]
     },
     "execution_count": 14,
     "metadata": {},
     "output_type": "execute_result"
    }
   ],
   "source": [
    "out[\"model\"].k[-1][0,:].max()"
   ]
  },
  {
   "cell_type": "code",
   "execution_count": 15,
   "metadata": {},
   "outputs": [],
   "source": [
    "ksnap=out[\"model\"].k[-1][bi,:].cpu().detach().numpy()\n",
    "usnap=out[\"model\"].u[-1][bi,:].cpu().detach().numpy()"
   ]
  },
  {
   "cell_type": "code",
   "execution_count": 16,
   "metadata": {},
   "outputs": [],
   "source": [
    "np.save(\"k_snapshot_LWR.npy\", ksnap)\n",
    "np.save(\"u_snapshot_LWR.npy\", usnap)\n",
    "np.save(\"xpos_snapshot_LWR.npy\", xpos)"
   ]
  },
  {
   "cell_type": "code",
   "execution_count": 17,
   "metadata": {},
   "outputs": [],
   "source": [
    "kisnap=out[\"model\"].ki[-1][bi,:].cpu().detach().numpy()\n",
    "uisnap=out[\"model\"].ui[-1][bi,:].cpu().detach().numpy()\n",
    "np.save(\"ki_snapshot_LWR.npy\", kisnap)\n",
    "np.save(\"ui_snapshot_LWR.npy\", uisnap)\n",
    "np.save(\"xi_snapshot_LWR.npy\", xi[bi,:])"
   ]
  },
  {
   "cell_type": "code",
   "execution_count": null,
   "metadata": {},
   "outputs": [],
   "source": []
  }
 ],
 "metadata": {
  "kernelspec": {
   "display_name": "Python 3 (ipykernel)",
   "language": "python",
   "name": "python3"
  },
  "language_info": {
   "codemirror_mode": {
    "name": "ipython",
    "version": 3
   },
   "file_extension": ".py",
   "mimetype": "text/x-python",
   "name": "python",
   "nbconvert_exporter": "python",
   "pygments_lexer": "ipython3",
   "version": "3.9.6"
  }
 },
 "nbformat": 4,
 "nbformat_minor": 4
}
