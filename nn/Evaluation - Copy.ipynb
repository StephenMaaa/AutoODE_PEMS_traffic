{
 "cells": [
  {
   "cell_type": "code",
   "execution_count": 4,
   "id": "a1ee3b7e",
   "metadata": {},
   "outputs": [],
   "source": [
    "import torch\n",
    "import torch.nn as nn\n",
    "import numpy as np\n",
    "# from AutoODE import LWR_batch_version \n",
    "from DNN import Seq2Seq, Seq2Seq_Attn, LWRDataset, LWRDataset_res, train_LWR, eval_LWR, test_LWR, train_hybrid_LWR, eval_hybrid_LWR, test_hybrid_LWR \n",
    "from AutoODE import LWR_batch_version, LWR_seq2seq "
   ]
  },
  {
   "cell_type": "code",
   "execution_count": 5,
   "id": "57104f75",
   "metadata": {},
   "outputs": [],
   "source": [
    "# load 3 trials \n",
    "# trial_1 = torch.load(\"result/Seq2Seq_Attn/best_space_Seq2Seq_Attn4.pt\", map_location=torch.device('cpu'))\n",
    "# trial_2 = torch.load(\"result/Seq2Seq_Attn/best_space_Seq2Seq_Attn5.pt\", map_location=torch.device('cpu'))\n",
    "# trial_3 = torch.load(\"result/Seq2Seq_Attn/best_space_Seq2Seq_Attn6.pt\", map_location=torch.device('cpu')) \n",
    "# trial_1 = torch.load(\"AutoODE_result/time/time_AutoODE1.pt\", map_location=torch.device('cpu'))\n",
    "# trial_2 = torch.load(\"AutoODE_result/time/time_AutoODE2.pt\", map_location=torch.device('cpu'))\n",
    "# trial_3 = torch.load(\"AutoODE_result/time/time_AutoODE3.pt\", map_location=torch.device('cpu'))\n",
    "trial_1 = torch.load(\"result/LWR/time_hybridAutoODE1.pt\", map_location=torch.device('cpu'))\n",
    "# trial_2 = torch.load(\"result/LWR/time_hybridAutoODE2.pt\", map_location=torch.device('cpu'))\n",
    "# trial_3 = torch.load(\"result/LWR/time_hybridAutoODE3.pt\", map_location=torch.device('cpu')) \n",
    "# trial_1 = torch.load(\"AutoODE_result/space/space_AutoODE1.pt\", map_location=torch.device('cpu'))\n",
    "# trial_2 = torch.load(\"AutoODE_result/space/space_AutoODE2.pt\", map_location=torch.device('cpu'))\n",
    "# trial_3 = torch.load(\"AutoODE_result/space/best_space_AutoODE3.pt\", map_location=torch.device('cpu')) \n",
    "# trial_1 = torch.load(\"AutoODE_result/space/best_space_hybridAutoODE1.pt\", map_location=torch.device('cpu'))\n",
    "# trial_2 = torch.load(\"AutoODE_result/space/best_space_hybridAutoODE2.pt\", map_location=torch.device('cpu'))\n",
    "# trial_3 = torch.load(\"AutoODE_result/space/best_space_hybridAutoODE3.pt\", map_location=torch.device('cpu')) \n",
    "# trial_1 = torch.load(\"AutoODE_result/space/new_space_hybridAutoODE1.pt\", map_location=torch.device('cpu'))\n",
    "# trial_2 = torch.load(\"AutoODE_result/space/new_space_hybridAutoODE2.pt\", map_location=torch.device('cpu'))\n",
    "# trial_3 = torch.load(\"AutoODE_result/space/new_space_hybridAutoODE3.pt\", map_location=torch.device('cpu')) \n",
    "# trial_1 = torch.load(\"result/NeuralODE/time/best_time_NeuralODE1.pt\", map_location=torch.device('cpu'))\n",
    "# trial_2 = torch.load(\"result/NeuralODE/time/best_time_NeuralODE2.pt\", map_location=torch.device('cpu'))\n",
    "# trial_3 = torch.load(\"result/NeuralODE/time/best_time_NeuralODE3.pt\", map_location=torch.device('cpu')) \n",
    "# trial_1 = torch.load(\"best_space_NeuralODE1.pt\", map_location=torch.device('cpu'))\n",
    "# trial_2 = torch.load(\"best_space_NeuralODE2.pt\", map_location=torch.device('cpu'))\n",
    "# trial_3 = torch.load(\"best_space_NeuralODE3.pt\", map_location=torch.device('cpu')) \n",
    "# trial_1 = torch.load(\"result/Seq2Seq/time/best_time_Seq2Seq1.pt\", map_location=torch.device('cpu'))\n",
    "# trial_2 = torch.load(\"result/Seq2Seq/time/best_time_Seq2Seq2.pt\", map_location=torch.device('cpu'))\n",
    "# trial_3 = torch.load(\"result/Seq2Seq/time/best_time_Seq2Seq3.pt\", map_location=torch.device('cpu'))\n",
    "# trial_1 = torch.load(\"result/Seq2Seq/time/best_time_Seq2Seq0.pt\", map_location=torch.device('cpu'))\n",
    "# trial_2 = torch.load(\"result/Seq2Seq/time/best_time_Seq2Seq4.pt\", map_location=torch.device('cpu'))\n",
    "# trial_3 = torch.load(\"result/Seq2Seq/time/best_time_Seq2Seq5.pt\", map_location=torch.device('cpu')) \n",
    "# trial_1 = torch.load(\"result/Seq2Seq_Attn/best_time_Seq2Seq_Attn1.pt\", map_location=torch.device('cpu'))\n",
    "# trial_2 = torch.load(\"result/Seq2Seq_Attn/best_time_Seq2Seq_Attn2.pt\", map_location=torch.device('cpu'))\n",
    "# trial_3 = torch.load(\"result/Seq2Seq_Attn/best_time_Seq2Seq_Attn3.pt\", map_location=torch.device('cpu')) \n",
    "# trial_1 = torch.load(\"best_time_Seq2Seq_Attn4.pt\", map_location=torch.device('cpu'))\n",
    "# trial_2 = torch.load(\"best_time_Seq2Seq_Attn5.pt\", map_location=torch.device('cpu'))\n",
    "# trial_3 = torch.load(\"best_time_Seq2Seq_Attn6.pt\", map_location=torch.device('cpu')) \n",
    "# trial_1 = torch.load(\"result/Seq2Seq_Attn/best_space_Seq2Seq_Attn4.pt\", map_location=torch.device('cpu'))\n",
    "# trial_2 = torch.load(\"result/Seq2Seq_Attn/best_space_Seq2Seq_Attn5.pt\", map_location=torch.device('cpu'))\n",
    "# trial_3 = torch.load(\"result/Seq2Seq_Attn/best_space_Seq2Seq_Attn6.pt\", map_location=torch.device('cpu')) \n",
    "# trial_1 = torch.load(\"result/Seq2Seq/space/best_space_Seq2Seq1.pt\", map_location=torch.device('cpu'))\n",
    "# trial_2 = torch.load(\"result/Seq2Seq/space/best_space_Seq2Seq2.pt\", map_location=torch.device('cpu'))\n",
    "# trial_3 = torch.load(\"result/Seq2Seq/space/best_space_Seq2Seq3.pt\", map_location=torch.device('cpu'))\n",
    "# trial_1 = torch.load(\"result/AutoFC/time/best_time_FC0.pt\", map_location=torch.device('cpu'))\n",
    "# trial_2 = torch.load(\"result/AutoFC/time/best_time_FC1.pt\", map_location=torch.device('cpu'))\n",
    "# trial_3 = torch.load(\"result/AutoFC/time/best_time_FC2.pt\", map_location=torch.device('cpu'))\n",
    "# trial_1 = torch.load(\"result/AutoFC/space/best_space_FC1.pt\", map_location=torch.device('cpu'))\n",
    "# trial_2 = torch.load(\"result/AutoFC/space/best_space_FC2.pt\", map_location=torch.device('cpu'))\n",
    "# trial_3 = torch.load(\"result/AutoFC/space/best_space_FC3.pt\", map_location=torch.device('cpu')) \n",
    "# trial_1 = torch.load(\"result/PINN/PINN_1.pt\", map_location=torch.device('cpu'))\n",
    "# trial_2 = torch.load(\"result/PINN/PINN_2.pt\", map_location=torch.device('cpu'))\n",
    "# trial_3 = torch.load(\"result/PINN/PINN_3.pt\", map_location=torch.device('cpu')) \n",
    "# trial_1 = torch.load(\"result/PINN/PINN_space_1.pt\", map_location=torch.device('cpu'))\n",
    "# trial_2 = torch.load(\"result/PINN/PINN_space_2.pt\", map_location=torch.device('cpu'))\n",
    "# trial_3 = torch.load(\"result/PINN/PINN_space_3.pt\", map_location=torch.device('cpu')) "
   ]
  },
  {
   "cell_type": "code",
   "execution_count": 6,
   "id": "c871cfde",
   "metadata": {},
   "outputs": [
    {
     "data": {
      "text/plain": [
       "tensor([ 2, 10, 12, 13, 14, 15, 18, 23, 26, 28, 30, 35, 37, 40, 49, 61, 72, 74,\n",
       "        75])"
      ]
     },
     "execution_count": 6,
     "metadata": {},
     "output_type": "execute_result"
    }
   ],
   "source": [
    "test_sensors = torch.tensor([3, 11, 13, 14, 15, 16, 19, 24, 27, 29, 31, 36, 38, 41, 50, 62,\n",
    "       73, 75, 76]) - 1  \n",
    "test_sensors "
   ]
  },
  {
   "cell_type": "code",
   "execution_count": 4,
   "id": "049aab53",
   "metadata": {},
   "outputs": [
    {
     "data": {
      "text/plain": [
       "Seq2Seq_Attn(\n",
       "  (encoder): Encoder(\n",
       "    (lstm): LSTM(60, 128, bidirectional=True)\n",
       "  )\n",
       "  (decoder): AttnDecoder(\n",
       "    (attn): Linear(in_features=316, out_features=12, bias=True)\n",
       "    (attn_combine): Linear(in_features=316, out_features=60, bias=True)\n",
       "    (lstm): LSTM(60, 256)\n",
       "    (out): Linear(in_features=256, out_features=60, bias=True)\n",
       "  )\n",
       ")"
      ]
     },
     "execution_count": 4,
     "metadata": {},
     "output_type": "execute_result"
    }
   ],
   "source": [
    "trial_1[\"model\"] "
   ]
  },
  {
   "cell_type": "code",
   "execution_count": 25,
   "id": "ae58ce3b",
   "metadata": {},
   "outputs": [],
   "source": [
    "preds = [torch.tensor(trial_1[\"preds\"]), torch.tensor(trial_2[\"preds\"]), torch.tensor(trial_3[\"preds\"])] \n",
    "trues = [torch.tensor(trial_1[\"trues\"]), torch.tensor(trial_2[\"trues\"]), torch.tensor(trial_3[\"trues\"])]\n",
    "\n",
    "# preds = [torch.tensor(trial_1[\"preds\"][:, :, :, test_sensors]), torch.tensor(trial_2[\"preds\"][:, :, :, test_sensors]), torch.tensor(trial_3[\"preds\"][:, :, :, test_sensors])] \n",
    "# trues = [torch.tensor(trial_1[\"trues\"][:, :, :, test_sensors]), torch.tensor(trial_2[\"trues\"][:, :, :, test_sensors]), torch.tensor(trial_3[\"trues\"][:, :, :, test_sensors])]"
   ]
  },
  {
   "cell_type": "code",
   "execution_count": 44,
   "id": "85b9ba3a",
   "metadata": {},
   "outputs": [
    {
     "name": "stdout",
     "output_type": "stream",
     "text": [
      "torch.Size([4218, 3, 12, 20])\n",
      "torch.Size([4218, 3, 12, 20])\n",
      "torch.Size([4218, 3, 12, 20])\n",
      "torch.Size([4218, 3, 12, 20])\n",
      "torch.Size([4218, 3, 12, 20])\n",
      "torch.Size([4218, 3, 12, 20])\n"
     ]
    }
   ],
   "source": [
    "## convert PINN prediction to 1-hour predictions \n",
    "\n",
    "# for i in range(3): \n",
    "#     pred = torch.tensor(preds[i]).reshape((10656, 78, 3)).permute(2, 0, 1) \n",
    "#     new_pred = []\n",
    "#     for j in range(10656 - 12): \n",
    "#         new_pred.append(pred[:, j:j + 12, :]) \n",
    "#     preds[i] = torch.stack(new_pred)\n",
    "#     print(preds[i].shape) \n",
    "    \n",
    "#     true = torch.tensor(trues[i]).reshape((10656, 78, 3)).permute(2, 0, 1) \n",
    "#     new_true = []\n",
    "#     for j in range(10656 - 12): \n",
    "#         new_true.append(true[:, j:j + 12, :]) \n",
    "#     trues[i] = torch.stack(new_true)\n",
    "#     print(trues[i].shape) \n",
    "\n",
    "# for i in range(3): \n",
    "#     pred = torch.tensor(preds[i]).reshape((10656, 78, 3)).permute(2, 0, 1) \n",
    "#     new_pred = []\n",
    "#     for j in range(10656//12): \n",
    "#         new_pred.append(pred[:, j * 12:(j + 1) * 12, :]) \n",
    "#     preds[i] = torch.stack(new_pred)\n",
    "#     print(preds[i].shape) \n",
    "    \n",
    "#     true = torch.tensor(trues[i]).reshape((10656, 78, 3)).permute(2, 0, 1) \n",
    "#     new_true = []\n",
    "#     for j in range(10656//12): \n",
    "#         new_true.append(true[:, j * 12:(j + 1) * 12, :]) \n",
    "#     trues[i] = torch.stack(new_true)\n",
    "#     print(trues[i].shape) \n",
    "\n",
    "# for i in range(3): \n",
    "#     pred = torch.tensor(preds[i]).reshape((50616, 20, 3)).permute(2, 0, 1) \n",
    "#     new_pred = []\n",
    "#     for j in range(50616 - 12): \n",
    "#         new_pred.append(pred[:, j:j + 12, :]) \n",
    "#     preds[i] = torch.stack(new_pred)\n",
    "#     print(preds[i].shape) \n",
    "    \n",
    "#     true = torch.tensor(trues[i]).reshape((50616, 20, 3)).permute(2, 0, 1) \n",
    "#     new_true = []\n",
    "#     for j in range(50616 - 12): \n",
    "#         new_true.append(true[:, j:j + 12, :]) \n",
    "#     trues[i] = torch.stack(new_true)\n",
    "#     print(trues[i].shape)\n",
    "    \n",
    "for i in range(3): \n",
    "    pred = torch.tensor(preds[i]).reshape((50616, 20, 3)).permute(2, 0, 1) \n",
    "    new_pred = []\n",
    "    for j in range(50616//12): \n",
    "        new_pred.append(pred[:, j * 12:(j + 1) * 12, :]) \n",
    "    preds[i] = torch.stack(new_pred)\n",
    "    print(preds[i].shape) \n",
    "    \n",
    "    true = torch.tensor(trues[i]).reshape((50616, 20, 3)).permute(2, 0, 1) \n",
    "    new_true = []\n",
    "    for j in range(50616//12): \n",
    "        new_true.append(true[:, j * 12:(j + 1) * 12, :]) \n",
    "    trues[i] = torch.stack(new_true)\n",
    "    print(trues[i].shape)"
   ]
  },
  {
   "cell_type": "code",
   "execution_count": 26,
   "id": "e740d478",
   "metadata": {},
   "outputs": [
    {
     "data": {
      "text/plain": [
       "(53256, 3, 12, 20)"
      ]
     },
     "execution_count": 26,
     "metadata": {},
     "output_type": "execute_result"
    }
   ],
   "source": [
    "trial_1[\"preds\"].shape # , trial_2[\"preds\"].shape, trial_3[\"preds\"].shape"
   ]
  },
  {
   "cell_type": "code",
   "execution_count": 7,
   "id": "a4d5dfb2",
   "metadata": {},
   "outputs": [],
   "source": [
    "# denormalization \n",
    "\n",
    "# training_data = torch.load(\"data_time/training_time.pt\").float().cpu()\n",
    "# test_data = torch.load(\"data_time/test_time.pt\").float().cpu()\n",
    "training_data = torch.load(\"data_space/training_space.pt\").float().cpu()\n",
    "test_data = torch.load(\"data_space/test_space.pt\").float().cpu()\n",
    "# data normalization and splitting \n",
    "# mean = torch.tensor([training_data[:, 0, :, :].mean(), training_data[:, 1, :, :].mean(), training_data[:, 2, :, :].mean()])\n",
    "# std = torch.tensor([training_data[:, 0, :, :].std(), training_data[:, 1, :, :].std(), training_data[:, 2, :, :].std()])"
   ]
  },
  {
   "cell_type": "code",
   "execution_count": 7,
   "id": "c69d62d6",
   "metadata": {},
   "outputs": [
    {
     "data": {
      "text/plain": [
       "(torch.Size([159768, 3, 24, 20]), torch.Size([53256, 3, 24, 20]))"
      ]
     },
     "execution_count": 7,
     "metadata": {},
     "output_type": "execute_result"
    }
   ],
   "source": [
    "training_data.shape, test_data.shape "
   ]
  },
  {
   "cell_type": "code",
   "execution_count": 8,
   "id": "d8523a44",
   "metadata": {},
   "outputs": [],
   "source": [
    "mean = torch.tensor([training_data[:, 0, :, :].mean(), training_data[:, 1, :, :].mean(), training_data[:, 2, :, :].mean()])\n",
    "std = torch.tensor([training_data[:, 0, :, :].std(), training_data[:, 1, :, :].std(), training_data[:, 2, :, :].std()]) \n",
    "\n",
    "mean_t = torch.tensor([test_data[:, 0, :, :].mean(), test_data[:, 1, :, :].mean(), test_data[:, 2, :, :].mean()])\n",
    "std_t = torch.tensor([test_data[:, 0, :, :].std(), test_data[:, 1, :, :].std(), test_data[:, 2, :, :].std()]) "
   ]
  },
  {
   "cell_type": "code",
   "execution_count": 9,
   "id": "cc49665e",
   "metadata": {},
   "outputs": [
    {
     "data": {
      "text/plain": [
       "(tensor([0.0344, 0.6091, 4.1930]), tensor([0.0280, 0.5729, 4.0482]))"
      ]
     },
     "execution_count": 9,
     "metadata": {},
     "output_type": "execute_result"
    }
   ],
   "source": [
    "std, std_t "
   ]
  },
  {
   "cell_type": "code",
   "execution_count": 19,
   "id": "c0d342e7",
   "metadata": {},
   "outputs": [],
   "source": [
    "def metric(pred, true, criterion, timestep): \n",
    "    loss_d = criterion(pred[:, 0, timestep, :], true[:, 0, timestep, :]).item() / std[0]\n",
    "    loss_f = criterion(pred[:, 1, timestep, :], true[:, 1, timestep, :]).item() / std[1]\n",
    "    loss_v = criterion(pred[:, 2, timestep, :], true[:, 2, timestep, :]).item() / std[2]\n",
    "\n",
    "    return (loss_d + loss_f + loss_v) / 3 "
   ]
  },
  {
   "cell_type": "code",
   "execution_count": 20,
   "id": "2e244964",
   "metadata": {},
   "outputs": [],
   "source": [
    "# calculate the loss for 15mins, 30mins, and 1 hr \n",
    "\n",
    "criterion = nn.MSELoss() \n",
    "loss_3 = [] # 3rd timestep \n",
    "loss_6 = [] # 6th timestep \n",
    "loss_12 = [] # 12th timestep \n",
    "\n",
    "for i in range(3): \n",
    "#     loss_3.append(np.sqrt(criterion(preds[i][:, :, 2, :], trues[i][:, :, 2, :]).item()))\n",
    "#     loss_6.append(np.sqrt(criterion(preds[i][:, :, 5, :], trues[i][:, :, 5, :]).item()))\n",
    "#     loss_12.append(np.sqrt(criterion(preds[i][:, :, -1, :], trues[i][:, :, -1, :]).item())) \n",
    "    loss_3.append(np.sqrt(metric(preds[i], trues[i], criterion, 2)))\n",
    "    loss_6.append(np.sqrt(metric(preds[i], trues[i], criterion, 5)))\n",
    "    loss_12.append(np.sqrt(metric(preds[i], trues[i], criterion, -1))) "
   ]
  },
  {
   "cell_type": "code",
   "execution_count": 21,
   "id": "c30617fa",
   "metadata": {},
   "outputs": [
    {
     "data": {
      "text/plain": [
       "([tensor(0.6495), tensor(0.6380), tensor(0.6582)],\n",
       " [tensor(0.7899), tensor(0.7963), tensor(0.8150)],\n",
       " [tensor(0.9790), tensor(0.9730), tensor(0.9674)])"
      ]
     },
     "execution_count": 21,
     "metadata": {},
     "output_type": "execute_result"
    }
   ],
   "source": [
    "loss_3, loss_6, loss_12 "
   ]
  },
  {
   "cell_type": "code",
   "execution_count": 22,
   "id": "dd640953",
   "metadata": {},
   "outputs": [
    {
     "data": {
      "text/plain": [
       "(0.6485854, 0.80039114, 0.97314173)"
      ]
     },
     "execution_count": 22,
     "metadata": {},
     "output_type": "execute_result"
    }
   ],
   "source": [
    "mean_3, mean_6, mean_12 = np.mean(loss_3), np.mean(loss_6), np.mean(loss_12)\n",
    "mean_3, mean_6, mean_12 "
   ]
  },
  {
   "cell_type": "code",
   "execution_count": 23,
   "id": "91c619e6",
   "metadata": {},
   "outputs": [
    {
     "data": {
      "text/plain": [
       "(0.0082762, 0.010675399, 0.0047505875)"
      ]
     },
     "execution_count": 23,
     "metadata": {},
     "output_type": "execute_result"
    }
   ],
   "source": [
    "std_3, std_6, std_12 = np.std(loss_3), np.std(loss_6), np.std(loss_12)\n",
    "std_3, std_6, std_12"
   ]
  },
  {
   "cell_type": "markdown",
   "id": "5fbc3a9c",
   "metadata": {},
   "source": [
    "### Generate Test Prediction and Save Results "
   ]
  },
  {
   "cell_type": "code",
   "execution_count": 34,
   "id": "ef44d5b0",
   "metadata": {},
   "outputs": [],
   "source": [
    "model = trial_1[\"model\"]"
   ]
  },
  {
   "cell_type": "code",
   "execution_count": 35,
   "id": "bd7b5f25",
   "metadata": {
    "scrolled": true
   },
   "outputs": [
    {
     "data": {
      "text/plain": [
       "LWR_seq2seq(\n",
       "  (LWR_model): LWR_batch_version()\n",
       "  (residual_model): Seq2Seq(\n",
       "    (encoder): Encoder(\n",
       "      (lstm): LSTM(231, 512, batch_first=True)\n",
       "    )\n",
       "    (decoder): Decoder(\n",
       "      (lstm): LSTM(231, 512, batch_first=True)\n",
       "      (out): Linear(in_features=512, out_features=231, bias=True)\n",
       "    )\n",
       "  )\n",
       ")"
      ]
     },
     "execution_count": 35,
     "metadata": {},
     "output_type": "execute_result"
    }
   ],
   "source": [
    "model.to(\"cuda\")"
   ]
  },
  {
   "cell_type": "code",
   "execution_count": 50,
   "id": "d326d02f",
   "metadata": {},
   "outputs": [],
   "source": [
    "import torch\n",
    "import torch.nn as nn\n",
    "import numpy as np\n",
    "from torch.utils import data\n",
    "import time\n",
    "import os\n",
    "from DNN import Dataset, train_epoch, eval_epoch, eval_epoch_true, Latent_ODE "
   ]
  },
  {
   "cell_type": "code",
   "execution_count": 9,
   "id": "a2a087f9",
   "metadata": {},
   "outputs": [
    {
     "ename": "NameError",
     "evalue": "name 'test_norm' is not defined",
     "output_type": "error",
     "traceback": [
      "\u001b[1;31m---------------------------------------------------------------------------\u001b[0m",
      "\u001b[1;31mNameError\u001b[0m                                 Traceback (most recent call last)",
      "\u001b[1;32mC:\\Users\\STEPHE~1\\AppData\\Local\\Temp/ipykernel_16828/1215838037.py\u001b[0m in \u001b[0;36m<module>\u001b[1;34m\u001b[0m\n\u001b[0;32m      1\u001b[0m \u001b[0mdevice\u001b[0m \u001b[1;33m=\u001b[0m \u001b[1;34m\"cuda\"\u001b[0m\u001b[1;33m\u001b[0m\u001b[1;33m\u001b[0m\u001b[0m\n\u001b[1;32m----> 2\u001b[1;33m \u001b[0mtest_set\u001b[0m \u001b[1;33m=\u001b[0m \u001b[0mDataset\u001b[0m\u001b[1;33m(\u001b[0m\u001b[0mtest_norm\u001b[0m\u001b[1;33m)\u001b[0m\u001b[1;33m\u001b[0m\u001b[1;33m\u001b[0m\u001b[0m\n\u001b[0m\u001b[0;32m      3\u001b[0m \u001b[1;31m# test_loader1 = MultiEpochsDataLoader(test_set, batch_size=512, shuffle=False, num_workers=4, pin_memory=True)\u001b[0m\u001b[1;33m\u001b[0m\u001b[1;33m\u001b[0m\u001b[1;33m\u001b[0m\u001b[0m\n\u001b[0;32m      4\u001b[0m \u001b[1;31m# test_loader1 = CudaDataLoader(test_loader1, 'cuda')\u001b[0m\u001b[1;33m\u001b[0m\u001b[1;33m\u001b[0m\u001b[1;33m\u001b[0m\u001b[0m\n\u001b[0;32m      5\u001b[0m \u001b[1;31m# test_loader = DataPrefetcher(test_loader1)\u001b[0m\u001b[1;33m\u001b[0m\u001b[1;33m\u001b[0m\u001b[1;33m\u001b[0m\u001b[0m\n",
      "\u001b[1;31mNameError\u001b[0m: name 'test_norm' is not defined"
     ]
    }
   ],
   "source": [
    "device = \"cuda\" \n",
    "test_set = Dataset(test_norm) \n",
    "# test_loader1 = MultiEpochsDataLoader(test_set, batch_size=512, shuffle=False, num_workers=4, pin_memory=True) \n",
    "# test_loader1 = CudaDataLoader(test_loader1, 'cuda') \n",
    "# test_loader = DataPrefetcher(test_loader1) \n",
    "test_loader = data.DataLoader(test_set, batch_size=64, shuffle=False)\n",
    "# test_count = int(len(test_set) / 512)\n",
    "\n",
    "criterion = nn.MSELoss() "
   ]
  },
  {
   "cell_type": "code",
   "execution_count": 51,
   "id": "26012d3d",
   "metadata": {},
   "outputs": [
    {
     "data": {
      "text/plain": [
       "torch.Size([3, 12, 20])"
      ]
     },
     "execution_count": 51,
     "metadata": {},
     "output_type": "execute_result"
    }
   ],
   "source": [
    "test_d = torch.tensor(trial_1[\"trues\"][-289])\n",
    "test_d.shape"
   ]
  },
  {
   "cell_type": "code",
   "execution_count": 52,
   "id": "abad026b",
   "metadata": {},
   "outputs": [],
   "source": [
    "test_norm = torch.zeros(test_d.shape, dtype = torch.float).cuda()\n",
    "test_norm[0, :, :] = (test_d[0, :, :] - mean[0]) / std[0]\n",
    "test_norm[1, :, :] = (test_d[1, :, :] - mean[1]) / std[1]\n",
    "test_norm[2, :, :] = (test_d[2, :, :] - mean[2]) / std[2]\n",
    "test_norm = test_norm.unsqueeze(0)"
   ]
  },
  {
   "cell_type": "code",
   "execution_count": 53,
   "id": "611c4e78",
   "metadata": {},
   "outputs": [
    {
     "name": "stdout",
     "output_type": "stream",
     "text": [
      "0\n",
      "1\n",
      "2\n",
      "3\n",
      "4\n",
      "5\n",
      "6\n",
      "7\n",
      "8\n",
      "9\n",
      "10\n",
      "11\n",
      "12\n",
      "13\n",
      "14\n",
      "15\n",
      "16\n",
      "17\n",
      "18\n",
      "19\n",
      "20\n",
      "21\n",
      "22\n",
      "23\n"
     ]
    }
   ],
   "source": [
    "preds_day = []\n",
    "model.eval()\n",
    "with torch.no_grad(): \n",
    "    for i in range(24): \n",
    "        print(i)\n",
    "        pred = model(test_norm, 12) \n",
    "        preds_day.append(pred.squeeze(0))\n",
    "        test_norm = pred\n",
    "#         print(pred.shape)\n",
    "#         print(model(test_norm.unsqueeze(0), 12).shape)"
   ]
  },
  {
   "cell_type": "code",
   "execution_count": 54,
   "id": "7761aec2",
   "metadata": {},
   "outputs": [],
   "source": [
    "day_preds = torch.cat(preds_day, dim = 1)\n",
    "day_preds[0, :, :] = (day_preds[0, :, :] * std[0] + mean[0])\n",
    "day_preds[1, :, :] = (day_preds[1, :, :] * std[1] + mean[1])\n",
    "day_preds[2, :, :] = (day_preds[2, :, :] * std[2] + mean[2])"
   ]
  },
  {
   "cell_type": "code",
   "execution_count": 55,
   "id": "aed95cb5",
   "metadata": {},
   "outputs": [],
   "source": [
    "day_preds.shape\n",
    "torch.save(day_preds, \"day_preds3_seq2seq.pt\")"
   ]
  },
  {
   "cell_type": "code",
   "execution_count": 9,
   "id": "5413b176",
   "metadata": {
    "scrolled": true
   },
   "outputs": [
    {
     "data": {
      "text/plain": [
       "(9728, 3, 12, 80)"
      ]
     },
     "execution_count": 9,
     "metadata": {},
     "output_type": "execute_result"
    }
   ],
   "source": [
    "preds.shape"
   ]
  },
  {
   "cell_type": "code",
   "execution_count": 10,
   "id": "45e1d788",
   "metadata": {},
   "outputs": [
    {
     "data": {
      "text/plain": [
       "1.2233133623710115"
      ]
     },
     "execution_count": 10,
     "metadata": {},
     "output_type": "execute_result"
    }
   ],
   "source": [
    "test_loss"
   ]
  },
  {
   "cell_type": "code",
   "execution_count": 15,
   "id": "7221648f",
   "metadata": {},
   "outputs": [],
   "source": [
    "torch.save({\"preds\": preds, \"trues\": trues, \"model\": model}, \"best_NeuralODE\" + str(3) + \"_full\" + \".pt\") "
   ]
  },
  {
   "cell_type": "code",
   "execution_count": null,
   "id": "557abd7e",
   "metadata": {},
   "outputs": [],
   "source": []
  },
  {
   "cell_type": "code",
   "execution_count": null,
   "id": "4256d313",
   "metadata": {},
   "outputs": [],
   "source": []
  },
  {
   "cell_type": "code",
   "execution_count": 9,
   "id": "c5c4484b",
   "metadata": {},
   "outputs": [],
   "source": [
    "device = \"cuda\" \n",
    "\n",
    "# training_data = torch.load(\"data_time/training_time.pt\").double()\n",
    "# training_initial = torch.load(\"data_time/training_time_initial.pt\").double()\n",
    "# training_boundary = torch.load(\"data_time/training_time_boundary.pt\").double()\n",
    "# x_train = torch.load(\"data_time/x_train.pt\").long()\n",
    "# test_data = torch.load(\"data_time/test_time.pt\").double()\n",
    "# test_initial = torch.load(\"data_time/test_time_initial.pt\").double()\n",
    "# test_boundary = torch.load(\"data_time/test_time_boundary.pt\").double()\n",
    "# x_test = torch.load(\"data_time/x_test.pt\").long()"
   ]
  },
  {
   "cell_type": "code",
   "execution_count": 17,
   "id": "a4240d8e",
   "metadata": {},
   "outputs": [
    {
     "data": {
      "text/plain": [
       "(torch.Size([42604, 3, 24, 78]), torch.Size([10652, 3, 237]))"
      ]
     },
     "execution_count": 17,
     "metadata": {},
     "output_type": "execute_result"
    }
   ],
   "source": [
    "training_data.shape, test_initial.shape"
   ]
  },
  {
   "cell_type": "code",
   "execution_count": 64,
   "id": "5d78f035",
   "metadata": {},
   "outputs": [],
   "source": [
    "data = torch.load(\"../pems_I5_S_correct.pt\") "
   ]
  },
  {
   "cell_type": "code",
   "execution_count": 65,
   "id": "881a0049",
   "metadata": {},
   "outputs": [],
   "source": [
    "xi = [0,  45,  56,  75,  81,  86,  89,  95, 100, 105, 109, 112, 117,\n",
    "       124, 128, 133, 137, 141, 146, 149, 152, 158, 163, 167, 171, 174,\n",
    "       180, 186, 192, 197, 200, 205, 207, 210, 211, 213, 214, 228, 231,\n",
    "       237, 240, 242, 251, 254, 258, 262, 266, 270, 277, 279, 282, 283,\n",
    "       286, 288, 291, 294, 296, 298, 300, 303, 308, 310, 315, 317, 320,\n",
    "       322, 327, 338, 342, 345, 352, 356, 359, 362, 366, 368, 374, 379] "
   ]
  },
  {
   "cell_type": "code",
   "execution_count": 66,
   "id": "caa9dff8",
   "metadata": {},
   "outputs": [
    {
     "name": "stdout",
     "output_type": "stream",
     "text": [
      "6 650 650\n"
     ]
    }
   ],
   "source": [
    "import numpy as np\n",
    "#nx=350  # \n",
    "nx=380 \n",
    "#kj needs to be larger than k for the solution to be stable \n",
    "# kj = np.ones((nx,), dtype=float) * 0.6\n",
    "# kj = (kj - mean[0].numpy()) / std[0].numpy()\n",
    "# kj = (kj - y_min[0].numpy()) / (y_max[0].numpy() - y_min[0].numpy()) # normalize\n",
    "\n",
    "#characteristic velocity (m/s), corresponds to roughly 120 km/h\n",
    "# vf = np.ones((nx,), dtype=float) * 38\n",
    "# vf = (vf - mean[2].numpy()) / std[2].numpy()\n",
    "# vf = (vf - y_min[2].numpy()) / (y_max[2].numpy() - y_min[2].numpy()) # normalize\n",
    "\n",
    "dx=300.\n",
    "\n",
    "## change the timestep to dt = 1, previously dt = 6 with 7 mins runtime\n",
    "dt=6\n",
    "#need an output every 5 mins (300 s), so tskip = 3 with dt = 3s\n",
    "tskip=50\n",
    "#nt=int(3600*6/6 - 50)\n",
    "#nt=7099 #6 hours (times 3600 s/hour divided by dt=3s)\n",
    "nto=13 + 1\n",
    "#nt=int(3600*nto/12/6/dt - tskip)\n",
    "dtobs=300\n",
    "nt=int((dtobs*nto)/dt - tskip) \n",
    "\n",
    "nto=13 + 1\n",
    "#nt=int(3600*nto/12/6/dt - tskip)\n",
    "dtobs=300\n",
    "nt_test=int((dtobs*nto)/dt - tskip)\n",
    "print(dt, nt, nt_test)"
   ]
  },
  {
   "cell_type": "code",
   "execution_count": 80,
   "id": "11d51ef5",
   "metadata": {},
   "outputs": [],
   "source": [
    "steps=torch.tensor(np.linspace(0, nt, nt), requires_grad=True) \n",
    "tsteps = steps.shape[0]"
   ]
  },
  {
   "cell_type": "code",
   "execution_count": 68,
   "id": "07e93611",
   "metadata": {},
   "outputs": [],
   "source": [
    "from scipy.interpolate import interp1d\n",
    "\n",
    "def interpolate_initial(var, xi, t0=0): \n",
    "#     IM_k=interp1d(np.array(xi) * dx, var[0, :].numpy(), bounds_error=False, \n",
    "#                 fill_value=(var[0, 0], var[0, -1]), kind='linear') # (var[t0,0], var[t0,-1]) \n",
    "    IM_q=interp1d(np.array(xi) * dx, var[1, :].numpy(), bounds_error=False, \n",
    "                fill_value=(var[1, 0], var[1, -1]), kind='linear') \n",
    "    IM_u=interp1d(np.array(xi) * dx, var[2, :].numpy(), bounds_error=False, \n",
    "                fill_value=(var[2, 0], var[2, -1]), kind='linear')\n",
    "#     IM=interp1d(np.array(xi), var[t0,:].numpy(), bounds_error=False, \n",
    "#                 fill_value=\"extrapolate\", kind='linear')\n",
    "#     print(var[t0,:])\n",
    "    x=np.linspace(0, (nx-1) * dx, nx) \n",
    "    u = IM_u(x)\n",
    "    q = IM_q(x)\n",
    "    k = q / u\n",
    "    initial = np.stack((k, q, u))\n",
    "    return torch.tensor(initial)"
   ]
  },
  {
   "cell_type": "code",
   "execution_count": 69,
   "id": "73d73ddf",
   "metadata": {},
   "outputs": [],
   "source": [
    "ti=np.arange(0, (nt-1)*dt, tskip*dt )\n",
    "t=np.linspace(0, (nt-1)*dt, nt) \n",
    "ti_test=np.arange(0, (nt_test-1)*dt, tskip*dt )\n",
    "t_test = np.linspace(0, (nt_test-1)*dt, nt_test)\n",
    "\n",
    "def interpolate_boundary(var, ti, t): \n",
    "#     print(var.shape)\n",
    "#     IM_k=interp1d(np.array(ti), var[0, :, 0].numpy(), bounds_error=False,\n",
    "#              fill_value=(var[0, 0, 0], var[0, -1, 0]), kind='linear')\n",
    "    IM_q=interp1d(np.array(ti), var[1, :, 0].numpy(), bounds_error=False,\n",
    "             fill_value=(var[1, 0, 0], var[1, -1, 0]), kind='linear')\n",
    "    IM_u=interp1d(np.array(ti), var[2, :, 0].numpy(), bounds_error=False,\n",
    "             fill_value=(var[2, 0, 0], var[2, -1, 0]), kind='linear')\n",
    "    u = IM_u(t)\n",
    "    q = IM_q(t)\n",
    "    k = q / u\n",
    "    boundary = np.stack((k, q, u))\n",
    "#     boundary = np.stack((IM_k(t), IM_q(t), IM_u(t)))\n",
    "    return torch.tensor(boundary)"
   ]
  },
  {
   "cell_type": "code",
   "execution_count": 62,
   "id": "d8956e8f",
   "metadata": {},
   "outputs": [
    {
     "ename": "ValueError",
     "evalue": "x and y arrays must be equal in length along interpolation axis.",
     "output_type": "error",
     "traceback": [
      "\u001b[1;31m---------------------------------------------------------------------------\u001b[0m",
      "\u001b[1;31mValueError\u001b[0m                                Traceback (most recent call last)",
      "\u001b[1;32mC:\\Users\\STEPHE~1\\AppData\\Local\\Temp/ipykernel_138244/712887519.py\u001b[0m in \u001b[0;36m<module>\u001b[1;34m\u001b[0m\n\u001b[0;32m      1\u001b[0m \u001b[0minitial\u001b[0m \u001b[1;33m=\u001b[0m \u001b[0minterpolate_initial\u001b[0m\u001b[1;33m(\u001b[0m\u001b[0mdata1\u001b[0m\u001b[1;33m[\u001b[0m\u001b[1;33m:\u001b[0m\u001b[1;33m,\u001b[0m \u001b[1;33m-\u001b[0m\u001b[1;36m289\u001b[0m\u001b[1;33m,\u001b[0m \u001b[1;33m:\u001b[0m\u001b[1;33m]\u001b[0m\u001b[1;33m,\u001b[0m \u001b[0mxi\u001b[0m\u001b[1;33m,\u001b[0m \u001b[0mt0\u001b[0m\u001b[1;33m=\u001b[0m\u001b[1;36m0\u001b[0m\u001b[1;33m)\u001b[0m\u001b[1;33m\u001b[0m\u001b[1;33m\u001b[0m\u001b[0m\n\u001b[1;32m----> 2\u001b[1;33m \u001b[0mboundary\u001b[0m \u001b[1;33m=\u001b[0m \u001b[0minterpolate_boundary\u001b[0m\u001b[1;33m(\u001b[0m\u001b[0mdata1\u001b[0m\u001b[1;33m[\u001b[0m\u001b[1;33m:\u001b[0m\u001b[1;33m,\u001b[0m \u001b[1;33m-\u001b[0m\u001b[1;36m288\u001b[0m\u001b[1;33m:\u001b[0m\u001b[1;33m,\u001b[0m \u001b[1;33m:\u001b[0m\u001b[1;33m]\u001b[0m\u001b[1;33m,\u001b[0m \u001b[0mti\u001b[0m\u001b[1;33m,\u001b[0m \u001b[0mt\u001b[0m\u001b[1;33m)\u001b[0m\u001b[1;33m\u001b[0m\u001b[1;33m\u001b[0m\u001b[0m\n\u001b[0m",
      "\u001b[1;32mC:\\Users\\STEPHE~1\\AppData\\Local\\Temp/ipykernel_138244/962422086.py\u001b[0m in \u001b[0;36minterpolate_boundary\u001b[1;34m(var, ti, t)\u001b[0m\n\u001b[0;32m      8\u001b[0m \u001b[1;31m#     IM_k=interp1d(np.array(ti), var[0, :, 0].numpy(), bounds_error=False,\u001b[0m\u001b[1;33m\u001b[0m\u001b[1;33m\u001b[0m\u001b[1;33m\u001b[0m\u001b[0m\n\u001b[0;32m      9\u001b[0m \u001b[1;31m#              fill_value=(var[0, 0, 0], var[0, -1, 0]), kind='linear')\u001b[0m\u001b[1;33m\u001b[0m\u001b[1;33m\u001b[0m\u001b[1;33m\u001b[0m\u001b[0m\n\u001b[1;32m---> 10\u001b[1;33m     IM_q=interp1d(np.array(ti), var[1, :, 0].numpy(), bounds_error=False,\n\u001b[0m\u001b[0;32m     11\u001b[0m              fill_value=(var[1, 0, 0], var[1, -1, 0]), kind='linear')\n\u001b[0;32m     12\u001b[0m     IM_u=interp1d(np.array(ti), var[2, :, 0].numpy(), bounds_error=False,\n",
      "\u001b[1;32m~\\anaconda3\\envs\\env_pytorch\\lib\\site-packages\\scipy\\interpolate\\interpolate.py\u001b[0m in \u001b[0;36m__init__\u001b[1;34m(self, x, y, kind, axis, copy, bounds_error, fill_value, assume_sorted)\u001b[0m\n\u001b[0;32m    434\u001b[0m                  assume_sorted=False):\n\u001b[0;32m    435\u001b[0m         \u001b[1;34m\"\"\" Initialize a 1-D linear interpolation class.\"\"\"\u001b[0m\u001b[1;33m\u001b[0m\u001b[1;33m\u001b[0m\u001b[0m\n\u001b[1;32m--> 436\u001b[1;33m         \u001b[0m_Interpolator1D\u001b[0m\u001b[1;33m.\u001b[0m\u001b[0m__init__\u001b[0m\u001b[1;33m(\u001b[0m\u001b[0mself\u001b[0m\u001b[1;33m,\u001b[0m \u001b[0mx\u001b[0m\u001b[1;33m,\u001b[0m \u001b[0my\u001b[0m\u001b[1;33m,\u001b[0m \u001b[0maxis\u001b[0m\u001b[1;33m=\u001b[0m\u001b[0maxis\u001b[0m\u001b[1;33m)\u001b[0m\u001b[1;33m\u001b[0m\u001b[1;33m\u001b[0m\u001b[0m\n\u001b[0m\u001b[0;32m    437\u001b[0m \u001b[1;33m\u001b[0m\u001b[0m\n\u001b[0;32m    438\u001b[0m         \u001b[0mself\u001b[0m\u001b[1;33m.\u001b[0m\u001b[0mbounds_error\u001b[0m \u001b[1;33m=\u001b[0m \u001b[0mbounds_error\u001b[0m  \u001b[1;31m# used by fill_value setter\u001b[0m\u001b[1;33m\u001b[0m\u001b[1;33m\u001b[0m\u001b[0m\n",
      "\u001b[1;32m~\\anaconda3\\envs\\env_pytorch\\lib\\site-packages\\scipy\\interpolate\\polyint.py\u001b[0m in \u001b[0;36m__init__\u001b[1;34m(self, xi, yi, axis)\u001b[0m\n\u001b[0;32m     52\u001b[0m         \u001b[0mself\u001b[0m\u001b[1;33m.\u001b[0m\u001b[0mdtype\u001b[0m \u001b[1;33m=\u001b[0m \u001b[1;32mNone\u001b[0m\u001b[1;33m\u001b[0m\u001b[1;33m\u001b[0m\u001b[0m\n\u001b[0;32m     53\u001b[0m         \u001b[1;32mif\u001b[0m \u001b[0myi\u001b[0m \u001b[1;32mis\u001b[0m \u001b[1;32mnot\u001b[0m \u001b[1;32mNone\u001b[0m\u001b[1;33m:\u001b[0m\u001b[1;33m\u001b[0m\u001b[1;33m\u001b[0m\u001b[0m\n\u001b[1;32m---> 54\u001b[1;33m             \u001b[0mself\u001b[0m\u001b[1;33m.\u001b[0m\u001b[0m_set_yi\u001b[0m\u001b[1;33m(\u001b[0m\u001b[0myi\u001b[0m\u001b[1;33m,\u001b[0m \u001b[0mxi\u001b[0m\u001b[1;33m=\u001b[0m\u001b[0mxi\u001b[0m\u001b[1;33m,\u001b[0m \u001b[0maxis\u001b[0m\u001b[1;33m=\u001b[0m\u001b[0maxis\u001b[0m\u001b[1;33m)\u001b[0m\u001b[1;33m\u001b[0m\u001b[1;33m\u001b[0m\u001b[0m\n\u001b[0m\u001b[0;32m     55\u001b[0m \u001b[1;33m\u001b[0m\u001b[0m\n\u001b[0;32m     56\u001b[0m     \u001b[1;32mdef\u001b[0m \u001b[0m__call__\u001b[0m\u001b[1;33m(\u001b[0m\u001b[0mself\u001b[0m\u001b[1;33m,\u001b[0m \u001b[0mx\u001b[0m\u001b[1;33m)\u001b[0m\u001b[1;33m:\u001b[0m\u001b[1;33m\u001b[0m\u001b[1;33m\u001b[0m\u001b[0m\n",
      "\u001b[1;32m~\\anaconda3\\envs\\env_pytorch\\lib\\site-packages\\scipy\\interpolate\\polyint.py\u001b[0m in \u001b[0;36m_set_yi\u001b[1;34m(self, yi, xi, axis)\u001b[0m\n\u001b[0;32m    122\u001b[0m             \u001b[0mshape\u001b[0m \u001b[1;33m=\u001b[0m \u001b[1;33m(\u001b[0m\u001b[1;36m1\u001b[0m\u001b[1;33m,\u001b[0m\u001b[1;33m)\u001b[0m\u001b[1;33m\u001b[0m\u001b[1;33m\u001b[0m\u001b[0m\n\u001b[0;32m    123\u001b[0m         \u001b[1;32mif\u001b[0m \u001b[0mxi\u001b[0m \u001b[1;32mis\u001b[0m \u001b[1;32mnot\u001b[0m \u001b[1;32mNone\u001b[0m \u001b[1;32mand\u001b[0m \u001b[0mshape\u001b[0m\u001b[1;33m[\u001b[0m\u001b[0maxis\u001b[0m\u001b[1;33m]\u001b[0m \u001b[1;33m!=\u001b[0m \u001b[0mlen\u001b[0m\u001b[1;33m(\u001b[0m\u001b[0mxi\u001b[0m\u001b[1;33m)\u001b[0m\u001b[1;33m:\u001b[0m\u001b[1;33m\u001b[0m\u001b[1;33m\u001b[0m\u001b[0m\n\u001b[1;32m--> 124\u001b[1;33m             raise ValueError(\"x and y arrays must be equal in length along \"\n\u001b[0m\u001b[0;32m    125\u001b[0m                              \"interpolation axis.\")\n\u001b[0;32m    126\u001b[0m \u001b[1;33m\u001b[0m\u001b[0m\n",
      "\u001b[1;31mValueError\u001b[0m: x and y arrays must be equal in length along interpolation axis."
     ]
    }
   ],
   "source": [
    "initial = interpolate_initial(data1[:, -289, :], xi, t0=0)\n",
    "boundary = interpolate_boundary(data1[:, -288:, :], ti, t) "
   ]
  },
  {
   "cell_type": "code",
   "execution_count": 83,
   "id": "d354b80e",
   "metadata": {},
   "outputs": [],
   "source": [
    "i = -301\n",
    "x_index = torch.tensor(xi).cuda()\n",
    "x = data[:, i:i+25, :].cuda()\n",
    "initial1 = interpolate_initial(data[:, i, :], xi, t0=0)\n",
    "boundary1 = interpolate_boundary(data[:, i:i+13, :], ti, t)\n",
    "initial2 = interpolate_initial(data[:, i+12, :], xi, t0=0)\n",
    "boundary2 = interpolate_boundary(data[:, i+12:i+25, :], ti, t) \n",
    "initial = torch.stack([initial1, initial2]).cuda()\n",
    "boundary = torch.stack([boundary1, boundary2]).cuda()\n",
    "# initial_test.append(initial)\n",
    "# boundary_test.append(boundary)"
   ]
  },
  {
   "cell_type": "code",
   "execution_count": 89,
   "id": "7f507cb6",
   "metadata": {},
   "outputs": [
    {
     "data": {
      "text/plain": [
       "(torch.Size([1, 78]),\n",
       " torch.Size([1, 3, 25, 78]),\n",
       " torch.Size([1, 2, 3, 380]),\n",
       " torch.Size([1, 2, 3, 650]))"
      ]
     },
     "execution_count": 89,
     "metadata": {},
     "output_type": "execute_result"
    }
   ],
   "source": [
    "x_index.unsqueeze(0).shape, x.unsqueeze(0).shape, initial.unsqueeze(0).shape, boundary.unsqueeze(0).shape "
   ]
  },
  {
   "cell_type": "code",
   "execution_count": 84,
   "id": "16d4dfed",
   "metadata": {},
   "outputs": [
    {
     "data": {
      "text/plain": [
       "-25"
      ]
     },
     "execution_count": 84,
     "metadata": {},
     "output_type": "execute_result"
    }
   ],
   "source": [
    "-301 + 23 * 12"
   ]
  },
  {
   "cell_type": "code",
   "execution_count": 90,
   "id": "2897512c",
   "metadata": {},
   "outputs": [
    {
     "name": "stdout",
     "output_type": "stream",
     "text": [
      "0\n",
      "torch.Size([1, 3, 12, 77])\n",
      "1\n",
      "torch.Size([1, 3, 12, 77])\n",
      "2\n",
      "torch.Size([1, 3, 12, 77])\n",
      "3\n",
      "torch.Size([1, 3, 12, 77])\n",
      "4\n",
      "torch.Size([1, 3, 12, 77])\n",
      "5\n",
      "torch.Size([1, 3, 12, 77])\n",
      "6\n",
      "torch.Size([1, 3, 12, 77])\n",
      "7\n",
      "torch.Size([1, 3, 12, 77])\n",
      "8\n",
      "torch.Size([1, 3, 12, 77])\n",
      "9\n",
      "torch.Size([1, 3, 12, 77])\n",
      "10\n",
      "torch.Size([1, 3, 12, 77])\n",
      "11\n",
      "torch.Size([1, 3, 12, 77])\n",
      "12\n",
      "torch.Size([1, 3, 12, 77])\n",
      "13\n",
      "torch.Size([1, 3, 12, 77])\n",
      "14\n",
      "torch.Size([1, 3, 12, 77])\n",
      "15\n",
      "torch.Size([1, 3, 12, 77])\n",
      "16\n",
      "torch.Size([1, 3, 12, 77])\n",
      "17\n",
      "torch.Size([1, 3, 12, 77])\n",
      "18\n",
      "torch.Size([1, 3, 12, 77])\n",
      "19\n",
      "torch.Size([1, 3, 12, 77])\n",
      "20\n",
      "torch.Size([1, 3, 12, 77])\n",
      "21\n",
      "torch.Size([1, 3, 12, 77])\n",
      "22\n",
      "torch.Size([1, 3, 12, 77])\n",
      "23\n",
      "torch.Size([1, 3, 12, 77])\n"
     ]
    }
   ],
   "source": [
    "preds_day = []\n",
    "model.eval()\n",
    "with torch.no_grad(): \n",
    "    for j in range(24): \n",
    "        print(j)\n",
    "\n",
    "        \n",
    "        pred = model(x_index.unsqueeze(0), x.unsqueeze(0), initial.unsqueeze(0), boundary.unsqueeze(0), tsteps) \n",
    "        print(pred.shape)\n",
    "        preds_day.append(pred.squeeze(0))\n",
    "        i += 12\n",
    "#         x_index = torch.tensor(xi).cuda()\n",
    "        x = data[:, i:i+25, :].cuda()\n",
    "        initial1 = interpolate_initial(data[:, i, :], xi, t0=0)\n",
    "        boundary1 = interpolate_boundary(data[:, i:i+13, :], ti, t)\n",
    "        initial2 = interpolate_initial(data[:, i+12, :], xi, t0=0)\n",
    "        boundary2 = interpolate_boundary(data[:, i+12:i+25, :], ti, t) \n",
    "        initial = torch.stack([initial1, initial2]).cuda()\n",
    "        boundary = torch.stack([boundary1, boundary2]).cuda()\n",
    "        test_norm = pred"
   ]
  },
  {
   "cell_type": "code",
   "execution_count": 27,
   "id": "8905417f",
   "metadata": {},
   "outputs": [
    {
     "ename": "NameError",
     "evalue": "name 'test_data' is not defined",
     "output_type": "error",
     "traceback": [
      "\u001b[1;31m---------------------------------------------------------------------------\u001b[0m",
      "\u001b[1;31mNameError\u001b[0m                                 Traceback (most recent call last)",
      "\u001b[1;32mC:\\Users\\STEPHE~1\\AppData\\Local\\Temp/ipykernel_19844/2307638908.py\u001b[0m in \u001b[0;36m<module>\u001b[1;34m\u001b[0m\n\u001b[1;32m----> 1\u001b[1;33m \u001b[0mtest_set\u001b[0m \u001b[1;33m=\u001b[0m \u001b[0mLWRDataset\u001b[0m\u001b[1;33m(\u001b[0m\u001b[0mx_test\u001b[0m\u001b[1;33m,\u001b[0m \u001b[0mtest_data\u001b[0m\u001b[1;33m,\u001b[0m \u001b[0mtest_initial\u001b[0m\u001b[1;33m,\u001b[0m \u001b[0mtest_boundary\u001b[0m\u001b[1;33m)\u001b[0m\u001b[1;33m\u001b[0m\u001b[1;33m\u001b[0m\u001b[0m\n\u001b[0m",
      "\u001b[1;31mNameError\u001b[0m: name 'test_data' is not defined"
     ]
    }
   ],
   "source": [
    "pred = model(xi.long(), initial, boundary, steps)"
   ]
  },
  {
   "cell_type": "code",
   "execution_count": 57,
   "id": "f13e9133",
   "metadata": {},
   "outputs": [
    {
     "name": "stdout",
     "output_type": "stream",
     "text": [
      "torch.Size([512, 3, 12, 77]) torch.Size([512, 3, 12, 77])\n",
      "torch.Size([512, 3, 12, 77]) torch.Size([512, 3, 12, 77])\n",
      "torch.Size([512, 3, 12, 77]) torch.Size([512, 3, 12, 77])\n",
      "torch.Size([512, 3, 12, 77]) torch.Size([512, 3, 12, 77])\n",
      "torch.Size([512, 3, 12, 77]) torch.Size([512, 3, 12, 77])\n",
      "torch.Size([512, 3, 12, 77]) torch.Size([512, 3, 12, 77])\n",
      "torch.Size([512, 3, 12, 77]) torch.Size([512, 3, 12, 77])\n",
      "torch.Size([512, 3, 12, 77]) torch.Size([512, 3, 12, 77])\n",
      "torch.Size([512, 3, 12, 77]) torch.Size([512, 3, 12, 77])\n",
      "torch.Size([512, 3, 12, 77]) torch.Size([512, 3, 12, 77])\n",
      "torch.Size([512, 3, 12, 77]) torch.Size([512, 3, 12, 77])\n",
      "torch.Size([512, 3, 12, 77]) torch.Size([512, 3, 12, 77])\n",
      "torch.Size([512, 3, 12, 77]) torch.Size([512, 3, 12, 77])\n",
      "torch.Size([512, 3, 12, 77]) torch.Size([512, 3, 12, 77])\n",
      "torch.Size([512, 3, 12, 77]) torch.Size([512, 3, 12, 77])\n",
      "torch.Size([512, 3, 12, 77]) torch.Size([512, 3, 12, 77])\n",
      "torch.Size([512, 3, 12, 77]) torch.Size([512, 3, 12, 77])\n",
      "torch.Size([512, 3, 12, 77]) torch.Size([512, 3, 12, 77])\n",
      "torch.Size([512, 3, 12, 77]) torch.Size([512, 3, 12, 77])\n",
      "torch.Size([512, 3, 12, 77]) torch.Size([512, 3, 12, 77])\n",
      "torch.Size([414, 3, 12, 77]) torch.Size([414, 3, 12, 77])\n"
     ]
    }
   ],
   "source": [
    "preds, trues, test_loss = test_LWR(model, test_loader, criterion, tsteps) "
   ]
  },
  {
   "cell_type": "code",
   "execution_count": 58,
   "id": "d724f449",
   "metadata": {},
   "outputs": [
    {
     "data": {
      "text/plain": [
       "(2.2926592178340246, 1.5141529704207646)"
      ]
     },
     "execution_count": 58,
     "metadata": {},
     "output_type": "execute_result"
    }
   ],
   "source": [
    "test_loss, np.sqrt(test_loss) "
   ]
  },
  {
   "cell_type": "code",
   "execution_count": 59,
   "id": "33249480",
   "metadata": {},
   "outputs": [
    {
     "data": {
      "text/plain": [
       "((10654, 3, 12, 77), (10654, 3, 12, 77))"
      ]
     },
     "execution_count": 59,
     "metadata": {},
     "output_type": "execute_result"
    }
   ],
   "source": [
    "preds.shape, trues.shape "
   ]
  },
  {
   "cell_type": "code",
   "execution_count": 60,
   "id": "db6122b3",
   "metadata": {},
   "outputs": [],
   "source": [
    "torch.save({\"preds\": preds, \"trues\": trues, \"model\": model}, \"AutoODE_result/time/time_AutoODE3.pt\") "
   ]
  },
  {
   "cell_type": "code",
   "execution_count": 103,
   "id": "3ac429ee",
   "metadata": {},
   "outputs": [
    {
     "data": {
      "text/plain": [
       "0.2"
      ]
     },
     "execution_count": 103,
     "metadata": {},
     "output_type": "execute_result"
    }
   ],
   "source": [
    "np.sqrt(0.04)"
   ]
  }
 ],
 "metadata": {
  "kernelspec": {
   "display_name": "Python 3 (ipykernel)",
   "language": "python",
   "name": "python3"
  },
  "language_info": {
   "codemirror_mode": {
    "name": "ipython",
    "version": 3
   },
   "file_extension": ".py",
   "mimetype": "text/x-python",
   "name": "python",
   "nbconvert_exporter": "python",
   "pygments_lexer": "ipython3",
   "version": "3.9.6"
  }
 },
 "nbformat": 4,
 "nbformat_minor": 5
}
