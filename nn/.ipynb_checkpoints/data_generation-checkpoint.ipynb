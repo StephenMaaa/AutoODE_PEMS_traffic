{
 "cells": [
  {
   "cell_type": "code",
   "execution_count": 1,
   "id": "5185c777",
   "metadata": {},
   "outputs": [],
   "source": [
    "import torch\n",
    "import numpy as np"
   ]
  },
  {
   "cell_type": "code",
   "execution_count": 2,
   "id": "b7e2fa9f",
   "metadata": {},
   "outputs": [],
   "source": [
    "data = torch.load(\"../pems_I5_S_correct.pt\")"
   ]
  },
  {
   "cell_type": "code",
   "execution_count": 3,
   "id": "5ede3f9b",
   "metadata": {},
   "outputs": [
    {
     "data": {
      "text/plain": [
       "torch.Size([3, 53280, 78])"
      ]
     },
     "execution_count": 3,
     "metadata": {},
     "output_type": "execute_result"
    }
   ],
   "source": [
    "data.shape"
   ]
  },
  {
   "cell_type": "code",
   "execution_count": 6,
   "id": "99ea26bd",
   "metadata": {},
   "outputs": [],
   "source": [
    "torch.save(data[:, :, 2], \"data_gman.pt\")"
   ]
  },
  {
   "cell_type": "code",
   "execution_count": null,
   "id": "b832e9cf",
   "metadata": {},
   "outputs": [],
   "source": [
    "import h5py\n",
    "import numpy as np\n",
    "\n",
    "d = np.loadtxt('data.txt')\n",
    "h = h5py.File('data.hdf5', 'w')\n",
    "dset = h.create_dataset('data', data=d)"
   ]
  },
  {
   "cell_type": "code",
   "execution_count": 4,
   "id": "bdba7798",
   "metadata": {},
   "outputs": [],
   "source": [
    "min_list = [data[0].min(), data[1].min(), data[2].min()]\n",
    "max_list = [data[0].max(), data[1].max(), data[2].max()]"
   ]
  },
  {
   "cell_type": "code",
   "execution_count": 5,
   "id": "bb737817",
   "metadata": {},
   "outputs": [
    {
     "data": {
      "text/plain": [
       "([tensor(0., dtype=torch.float64),\n",
       "  tensor(0., dtype=torch.float64),\n",
       "  tensor(1.3411, dtype=torch.float64)],\n",
       " [tensor(0.5707, dtype=torch.float64),\n",
       "  tensor(3.7467, dtype=torch.float64),\n",
       "  tensor(37.9090, dtype=torch.float64)])"
      ]
     },
     "execution_count": 5,
     "metadata": {},
     "output_type": "execute_result"
    }
   ],
   "source": [
    "min_list, max_list "
   ]
  },
  {
   "cell_type": "code",
   "execution_count": 6,
   "id": "4f3a8e08",
   "metadata": {},
   "outputs": [
    {
     "data": {
      "text/plain": [
       "[tensor(0.0349, dtype=torch.float64),\n",
       " tensor(0.8875, dtype=torch.float64),\n",
       " tensor(28.6083, dtype=torch.float64)]"
      ]
     },
     "execution_count": 6,
     "metadata": {},
     "output_type": "execute_result"
    }
   ],
   "source": [
    "mean_list = [data[0].mean(), data[1].mean(), data[2].mean()]\n",
    "mean_list "
   ]
  },
  {
   "cell_type": "markdown",
   "id": "96a9059c",
   "metadata": {},
   "source": [
    "### Data set for time and space generalization "
   ]
  },
  {
   "cell_type": "code",
   "execution_count": null,
   "id": "7322f318",
   "metadata": {},
   "outputs": [],
   "source": [
    "# array([70.657, 69.738, 68.692, 68.319, 67.542, 66.875, 66.3  , 65.554,\n",
    "#        64.251, 63.677, 63.059, 60.98 , 60.082, 59.7  , 59.03 , 58.765,\n",
    "#        57.856, 57.506, 56.462, 56.022, 55.648, 55.18 , 54.877, 54.212,\n",
    "#        53.648, 53.306, 52.828, 52.532, 52.056, 51.722, 50.267, 49.512,\n",
    "#        48.905, 48.028, 47.412, 46.76 , 45.139, 44.677, 44.257, 43.084,\n",
    "#        42.523, 39.987, 39.742, 39.361, 39.103, 38.554, 38.215, 37.339,\n",
    "#        36.709, 35.77 , 34.742, 33.623, 32.438, 31.819, 31.193, 30.395,\n",
    "#        29.493, 28.33 , 27.719, 27.235, 26.319, 25.585, 24.72 , 23.923,\n",
    "#        23.055, 21.77 , 20.93 , 20.31 , 19.585, 18.612, 17.72 , 16.586,\n",
    "#        16.02 , 15.02 , 14.02 , 10.449,  8.459,  0.   ])"
   ]
  },
  {
   "cell_type": "code",
   "execution_count": 3,
   "id": "ed473c7d",
   "metadata": {},
   "outputs": [
    {
     "name": "stdout",
     "output_type": "stream",
     "text": [
      "6 600\n"
     ]
    }
   ],
   "source": [
    "import numpy as np\n",
    "#nx=350  # \n",
    "nx=380\n",
    "#kj needs to be larger than k for the solution to be stable \n",
    "kj = np.ones((nx,), dtype=float) * 0.6\n",
    "# kj = (kj - mean[0].numpy()) / std[0].numpy()\n",
    "# kj = (kj - y_min[0].numpy()) / (y_max[0].numpy() - y_min[0].numpy()) # normalize\n",
    "\n",
    "#characteristic velocity (m/s), corresponds to roughly 120 km/h\n",
    "vf = np.ones((nx,), dtype=float) * 38\n",
    "# vf = (vf - mean[2].numpy()) / std[2].numpy()\n",
    "# vf = (vf - y_min[2].numpy()) / (y_max[2].numpy() - y_min[2].numpy()) # normalize\n",
    "\n",
    "dx=300.\n",
    "\n",
    "## change the timestep to dt = 1, previously dt = 6 with 7 mins runtime\n",
    "dt=6\n",
    "#need an output every 5 mins (300 s), so tskip = 3 with dt = 3s\n",
    "tskip=50\n",
    "#nt=int(3600*6/6 - 50)\n",
    "#nt=7099 #6 hours (times 3600 s/hour divided by dt=3s)\n",
    "nto=12 + 1\n",
    "#nt=int(3600*nto/12/6/dt - tskip)\n",
    "dtobs=300\n",
    "nt=int((dtobs*nto)/dt - tskip)\n",
    "print(dt,nt)\n"
   ]
  },
  {
   "cell_type": "code",
   "execution_count": 4,
   "id": "8126bb71",
   "metadata": {},
   "outputs": [],
   "source": [
    "xi = [0,  45,  56,  75,  81,  86,  89,  95, 100, 105, 109, 112, 117,\n",
    "       124, 128, 133, 137, 141, 146, 149, 152, 158, 163, 167, 171, 174,\n",
    "       180, 186, 192, 197, 200, 205, 207, 210, 211, 213, 214, 228, 231,\n",
    "       237, 240, 242, 251, 254, 258, 262, 266, 270, 277, 279, 282, 283,\n",
    "       286, 288, 291, 294, 296, 298, 300, 303, 308, 310, 315, 317, 320,\n",
    "       322, 327, 338, 342, 345, 352, 356, 359, 362, 366, 368, 374, 379]"
   ]
  },
  {
   "cell_type": "code",
   "execution_count": 8,
   "id": "fcf42b5b",
   "metadata": {},
   "outputs": [],
   "source": [
    "# xi = [  0,  28,  35,  47,  50,  53,  55,  59,  62,  65,  68,  70,  73,\n",
    "#         77,  80,  82,  85,  88,  91,  92,  94,  98, 101, 104, 106, 108,\n",
    "#        112, 116, 119, 122, 124, 127, 129, 130, 131, 132, 133, 142, 144,\n",
    "#        148, 149, 150, 156, 158, 160, 163, 165, 168, 172, 174, 175, 176,\n",
    "#        178, 179, 181, 183, 184, 185, 187, 188, 192, 193, 196, 197, 199,\n",
    "#        200, 203, 210, 212, 214, 219, 221, 223, 225, 228, 229, 232, 236]"
   ]
  },
  {
   "cell_type": "code",
   "execution_count": 61,
   "id": "f07f3561",
   "metadata": {},
   "outputs": [],
   "source": [
    "xi = np.array(xi) * 300"
   ]
  },
  {
   "cell_type": "code",
   "execution_count": 62,
   "id": "5c41da25",
   "metadata": {},
   "outputs": [],
   "source": [
    "xi = xi / 120"
   ]
  },
  {
   "cell_type": "code",
   "execution_count": 63,
   "id": "f14678fb",
   "metadata": {},
   "outputs": [],
   "source": [
    "xi = [int(x) for x in xi]"
   ]
  },
  {
   "cell_type": "code",
   "execution_count": 64,
   "id": "4d4bbd05",
   "metadata": {},
   "outputs": [
    {
     "data": {
      "text/plain": [
       "[0,\n",
       " 70,\n",
       " 87,\n",
       " 117,\n",
       " 125,\n",
       " 132,\n",
       " 137,\n",
       " 147,\n",
       " 155,\n",
       " 162,\n",
       " 170,\n",
       " 175,\n",
       " 182,\n",
       " 192,\n",
       " 200,\n",
       " 205,\n",
       " 212,\n",
       " 220,\n",
       " 227,\n",
       " 230,\n",
       " 235,\n",
       " 245,\n",
       " 252,\n",
       " 260,\n",
       " 265,\n",
       " 270,\n",
       " 280,\n",
       " 290,\n",
       " 297,\n",
       " 305,\n",
       " 310,\n",
       " 317,\n",
       " 322,\n",
       " 325,\n",
       " 327,\n",
       " 330,\n",
       " 332,\n",
       " 355,\n",
       " 360,\n",
       " 370,\n",
       " 372,\n",
       " 375,\n",
       " 390,\n",
       " 395,\n",
       " 400,\n",
       " 407,\n",
       " 412,\n",
       " 420,\n",
       " 430,\n",
       " 435,\n",
       " 437,\n",
       " 440,\n",
       " 445,\n",
       " 447,\n",
       " 447,\n",
       " 452,\n",
       " 457,\n",
       " 460,\n",
       " 462,\n",
       " 467,\n",
       " 470,\n",
       " 480,\n",
       " 482,\n",
       " 490,\n",
       " 492,\n",
       " 497,\n",
       " 500,\n",
       " 507,\n",
       " 525,\n",
       " 530,\n",
       " 535,\n",
       " 547,\n",
       " 547,\n",
       " 552,\n",
       " 557,\n",
       " 562,\n",
       " 570,\n",
       " 572,\n",
       " 580,\n",
       " 590]"
      ]
     },
     "execution_count": 64,
     "metadata": {},
     "output_type": "execute_result"
    }
   ],
   "source": [
    "xi"
   ]
  },
  {
   "cell_type": "code",
   "execution_count": 5,
   "id": "8529604d",
   "metadata": {},
   "outputs": [],
   "source": [
    "from scipy.interpolate import interp1d\n",
    "\n",
    "def interpolate_initial(var, xi, t0=0): \n",
    "#     IM_k=interp1d(np.array(xi) * dx, var[0, :].numpy(), bounds_error=False, \n",
    "#                 fill_value=(var[0, 0], var[0, -1]), kind='linear') # (var[t0,0], var[t0,-1]) \n",
    "    IM_q=interp1d(np.array(xi) * dx, var[1, :].numpy(), bounds_error=False, \n",
    "                fill_value=(var[1, 0], var[1, -1]), kind='linear') \n",
    "    IM_u=interp1d(np.array(xi) * dx, var[2, :].numpy(), bounds_error=False, \n",
    "                fill_value=(var[1, 0], var[2, -1]), kind='linear')\n",
    "#     IM=interp1d(np.array(xi), var[t0,:].numpy(), bounds_error=False, \n",
    "#                 fill_value=\"extrapolate\", kind='linear')\n",
    "#     print(var[t0,:])\n",
    "    x=np.linspace(0, (nx-1) * dx, nx) \n",
    "    u = IM_u(x)\n",
    "    q = IM_q(x)\n",
    "    k = q / u\n",
    "    initial = np.stack((k, q, u))\n",
    "    return torch.tensor(initial)"
   ]
  },
  {
   "cell_type": "code",
   "execution_count": 6,
   "id": "4a93cc29",
   "metadata": {},
   "outputs": [],
   "source": [
    "ti=np.arange(0, (nt-1)*dt, tskip*dt )\n",
    "t=np.linspace(0, (nt-1)*dt, nt)\n",
    "\n",
    "def interpolate_boundary(var, ti, t): \n",
    "#     IM_k=interp1d(np.array(ti), var[0, :, 0].numpy(), bounds_error=False,\n",
    "#              fill_value=(var[0, 0, 0], var[0, -1, 0]), kind='linear')\n",
    "    IM_q=interp1d(np.array(ti), var[1, :, 0].numpy(), bounds_error=False,\n",
    "             fill_value=(var[1, 0, 0], var[1, -1, 0]), kind='linear')\n",
    "    IM_u=interp1d(np.array(ti), var[2, :, 0].numpy(), bounds_error=False,\n",
    "             fill_value=(var[2, 0, 0], var[2, -1, 0]), kind='linear')\n",
    "    u = IM_u(t)\n",
    "    q = IM_q(t)\n",
    "    k = q / u\n",
    "    boundary = np.stack((k, q, u))\n",
    "#     boundary = np.stack((IM_k(t), IM_q(t), IM_u(t)))\n",
    "    return torch.tensor(boundary)"
   ]
  },
  {
   "cell_type": "markdown",
   "id": "4c40d3f2",
   "metadata": {},
   "source": [
    "### Interpolated data for k and v "
   ]
  },
  {
   "cell_type": "code",
   "execution_count": null,
   "id": "e7b30e0a",
   "metadata": {},
   "outputs": [],
   "source": [
    "def generate_time_domain(data): \n",
    "    x_train = []\n",
    "    x_test = []\n",
    "    training_size = int((data.shape[1] - 12) * 0.8) \n",
    "    \n",
    "    for i in range(data.shape[1] - 12): \n",
    "        if i < training_size: \n",
    "            x_train.append(torch.tensor(xi))\n",
    "            training_set.append(data[:, i:i+12, :])\n",
    "            initial = interpolate_initial(data[:, i, :], xi, t0=0)\n",
    "            boundary = interpolate_boundary(data[:, i:i+12, :], ti, t) \n",
    "#             print(initial.shape)\n",
    "#             print(boundary.shape)\n",
    "            initial_train.append(initial)\n",
    "            boundary_train.append(boundary)\n",
    "        else: \n",
    "            x_test.append(torch.tensor(xi))\n",
    "            test_set.append(data[:, i:i+12, :]) \n",
    "            initial = interpolate_initial(data[:, i, :], xi, t0=0)\n",
    "            boundary = interpolate_boundary(data[:, i:i+12, :], ti, t)\n",
    "            initial_test.append(initial)\n",
    "            boundary_test.append(boundary)\n",
    "    return torch.stack(x_train), torch.stack(x_test), torch.stack(training_set), torch.stack(test_set), torch.stack(initial_train), torch.stack(initial_test), torch.stack(boundary_train), torch.stack(boundary_test)  \n"
   ]
  },
  {
   "cell_type": "code",
   "execution_count": 8,
   "id": "4847efdb",
   "metadata": {},
   "outputs": [],
   "source": [
    "def generate_data_lwr_date(data): \n",
    "    training_set = []\n",
    "    test_set = []\n",
    "    initial_train = []\n",
    "    boundary_train = []\n",
    "    initial_test = []\n",
    "    boundary_test = []\n",
    "    x_train = []\n",
    "    x_test = []\n",
    "    training_size = int((data.shape[1] - 12) * 0.8) \n",
    "    \n",
    "    for i in range(data.shape[1] - 12): \n",
    "        if i < training_size: \n",
    "            x_train.append(torch.tensor(xi))\n",
    "            training_set.append(data[:, i:i+12, :])\n",
    "            initial = interpolate_initial(data[:, i, :], xi, t0=0)\n",
    "            boundary = interpolate_boundary(data[:, i:i+12, :], ti, t) \n",
    "#             print(initial.shape)\n",
    "#             print(boundary.shape)\n",
    "            initial_train.append(initial)\n",
    "            boundary_train.append(boundary)\n",
    "        else: \n",
    "            x_test.append(torch.tensor(xi))\n",
    "            test_set.append(data[:, i:i+12, :]) \n",
    "            initial = interpolate_initial(data[:, i, :], xi, t0=0)\n",
    "            boundary = interpolate_boundary(data[:, i:i+12, :], ti, t)\n",
    "            initial_test.append(initial)\n",
    "            boundary_test.append(boundary)\n",
    "    return torch.stack(x_train), torch.stack(x_test), torch.stack(training_set), torch.stack(test_set), torch.stack(initial_train), torch.stack(initial_test), torch.stack(boundary_train), torch.stack(boundary_test)  \n",
    "\n",
    "x_train, x_test, training_set, test_set, initial_train, initial_test, boundary_train, boundary_test = generate_data_lwr_date(data) \n"
   ]
  },
  {
   "cell_type": "code",
   "execution_count": 66,
   "id": "794a1277",
   "metadata": {},
   "outputs": [],
   "source": [
    "k = initial_train[0][0]\n",
    "q = initial_train[0][1]\n",
    "u = initial_train[0][2]"
   ]
  },
  {
   "cell_type": "code",
   "execution_count": 67,
   "id": "c4a809f0",
   "metadata": {},
   "outputs": [
    {
     "data": {
      "text/plain": [
       "tensor([0.0067, 0.0066, 0.0066, 0.0066, 0.0065, 0.0065, 0.0065, 0.0064, 0.0064,\n",
       "        0.0064, 0.0063, 0.0063, 0.0063, 0.0062, 0.0062, 0.0062, 0.0061, 0.0061,\n",
       "        0.0061, 0.0060, 0.0060, 0.0060, 0.0059, 0.0059, 0.0059, 0.0058, 0.0058,\n",
       "        0.0058, 0.0057, 0.0056, 0.0055, 0.0054, 0.0052, 0.0051, 0.0050, 0.0049,\n",
       "        0.0049, 0.0048, 0.0048, 0.0048, 0.0048, 0.0048, 0.0048, 0.0048, 0.0047,\n",
       "        0.0047, 0.0047, 0.0047, 0.0047, 0.0046, 0.0046, 0.0044, 0.0043, 0.0041,\n",
       "        0.0040, 0.0040, 0.0039, 0.0039, 0.0039, 0.0039, 0.0052, 0.0065, 0.0080,\n",
       "        0.0069, 0.0059, 0.0049, 0.0045, 0.0041, 0.0037, 0.0035, 0.0033, 0.0033,\n",
       "        0.0032, 0.0032, 0.0034, 0.0035, 0.0036, 0.0037, 0.0037, 0.0038, 0.0038,\n",
       "        0.0060, 0.0082, 0.0080, 0.0078, 0.0076, 0.0100, 0.0124, 0.0149, 0.0138,\n",
       "        0.0127, 0.0116, 0.0108, 0.0086, 0.0065, 0.0063, 0.0061, 0.0060, 0.0058,\n",
       "        0.0060, 0.0062, 0.0064, 0.0068, 0.0073, 0.0077, 0.0066, 0.0056, 0.0053,\n",
       "        0.0050, 0.0060, 0.0071, 0.0082, 0.0093, 0.0095, 0.0096, 0.0097, 0.0099,\n",
       "        0.0085, 0.0071, 0.0058, 0.0055, 0.0052, 0.0049, 0.0052, 0.0054, 0.0053,\n",
       "        0.0052, 0.0050, 0.0045, 0.0040, 0.0003, 0.0003, 0.0055, 0.0015, 0.0016,\n",
       "        0.0017, 0.0018, 0.0018, 0.0019, 0.0020, 0.0020, 0.0021, 0.0022, 0.0025,\n",
       "        0.0028, 0.0031, 0.0035, 0.0039, 0.0043, 0.0026, 0.0024, 0.0027, 0.0029,\n",
       "        0.0031, 0.0034, 0.0036, 0.0038, 0.0035, 0.0032, 0.0041, 0.0050, 0.0049,\n",
       "        0.0048, 0.0046, 0.0048, 0.0049, 0.0046, 0.0042, 0.0038, 0.0040, 0.0042,\n",
       "        0.0044, 0.0046, 0.0040, 0.0035, 0.0041, 0.0040, 0.0027, 0.0015, 0.0058,\n",
       "        0.0055, 0.0051, 0.0069, 0.0087, 0.0081, 0.0534, 0.0304, 0.0075, 0.0049,\n",
       "        0.0054, 0.0058, 0.0062, 0.0066, 0.0067, 0.0063, 0.0058, 0.0054, 0.0117,\n",
       "        0.0090, 0.0061, 0.0114, 0.0097, 0.0081, 0.0067, 0.0065, 0.0063, 0.0062,\n",
       "        0.0060, 0.0058, 0.0056, 0.0055, 0.0059, 0.0062, 0.0052, 0.0040, 0.0056,\n",
       "        0.0071, 0.0087, 0.0104, 0.0120, 0.0103, 0.0087, 0.0065, 0.0044, 0.0034,\n",
       "        0.0024, 0.0024, 0.0024, 0.0024, 0.0020, 0.0018, 0.0017, 0.0015, 0.0020,\n",
       "        0.0024, 0.0028, 0.0032], dtype=torch.float64)"
      ]
     },
     "execution_count": 67,
     "metadata": {},
     "output_type": "execute_result"
    }
   ],
   "source": [
    "k"
   ]
  },
  {
   "cell_type": "code",
   "execution_count": 68,
   "id": "3be02e6b",
   "metadata": {},
   "outputs": [
    {
     "data": {
      "text/plain": [
       "tensor([0.0067, 0.0066, 0.0066, 0.0066, 0.0065, 0.0065, 0.0065, 0.0064, 0.0064,\n",
       "        0.0064, 0.0063, 0.0063, 0.0063, 0.0062, 0.0062, 0.0062, 0.0061, 0.0061,\n",
       "        0.0061, 0.0060, 0.0060, 0.0060, 0.0059, 0.0059, 0.0059, 0.0058, 0.0058,\n",
       "        0.0058, 0.0057, 0.0056, 0.0055, 0.0054, 0.0052, 0.0051, 0.0050, 0.0049,\n",
       "        0.0049, 0.0048, 0.0048, 0.0048, 0.0048, 0.0048, 0.0048, 0.0048, 0.0047,\n",
       "        0.0047, 0.0047, 0.0047, 0.0047, 0.0046, 0.0046, 0.0044, 0.0043, 0.0041,\n",
       "        0.0040, 0.0040, 0.0039, 0.0039, 0.0039, 0.0039, 0.0052, 0.0065, 0.0080,\n",
       "        0.0069, 0.0059, 0.0049, 0.0045, 0.0041, 0.0037, 0.0035, 0.0033, 0.0033,\n",
       "        0.0032, 0.0032, 0.0034, 0.0035, 0.0036, 0.0037, 0.0037, 0.0038, 0.0038,\n",
       "        0.0060, 0.0082, 0.0080, 0.0078, 0.0076, 0.0100, 0.0124, 0.0149, 0.0138,\n",
       "        0.0127, 0.0116, 0.0108, 0.0086, 0.0065, 0.0063, 0.0061, 0.0060, 0.0058,\n",
       "        0.0060, 0.0062, 0.0064, 0.0068, 0.0073, 0.0077, 0.0066, 0.0056, 0.0053,\n",
       "        0.0050, 0.0060, 0.0071, 0.0082, 0.0093, 0.0095, 0.0096, 0.0097, 0.0099,\n",
       "        0.0085, 0.0071, 0.0058, 0.0055, 0.0052, 0.0049, 0.0052, 0.0054, 0.0053,\n",
       "        0.0052, 0.0050, 0.0045, 0.0040, 0.0003, 0.0003, 0.0055, 0.0015, 0.0016,\n",
       "        0.0017, 0.0018, 0.0018, 0.0019, 0.0020, 0.0020, 0.0021, 0.0022, 0.0025,\n",
       "        0.0028, 0.0031, 0.0035, 0.0039, 0.0043, 0.0026, 0.0024, 0.0027, 0.0029,\n",
       "        0.0031, 0.0034, 0.0036, 0.0038, 0.0035, 0.0032, 0.0041, 0.0050, 0.0049,\n",
       "        0.0048, 0.0046, 0.0048, 0.0049, 0.0046, 0.0042, 0.0038, 0.0040, 0.0042,\n",
       "        0.0044, 0.0046, 0.0040, 0.0035, 0.0041, 0.0040, 0.0027, 0.0015, 0.0058,\n",
       "        0.0055, 0.0051, 0.0069, 0.0087, 0.0081, 0.0534, 0.0304, 0.0075, 0.0049,\n",
       "        0.0054, 0.0058, 0.0062, 0.0066, 0.0067, 0.0063, 0.0058, 0.0054, 0.0117,\n",
       "        0.0090, 0.0061, 0.0114, 0.0097, 0.0081, 0.0067, 0.0065, 0.0063, 0.0062,\n",
       "        0.0060, 0.0058, 0.0056, 0.0055, 0.0059, 0.0062, 0.0052, 0.0040, 0.0056,\n",
       "        0.0071, 0.0087, 0.0104, 0.0120, 0.0103, 0.0087, 0.0065, 0.0044, 0.0034,\n",
       "        0.0024, 0.0024, 0.0024, 0.0024, 0.0020, 0.0018, 0.0017, 0.0015, 0.0020,\n",
       "        0.0024, 0.0028, 0.0032], dtype=torch.float64)"
      ]
     },
     "execution_count": 68,
     "metadata": {},
     "output_type": "execute_result"
    }
   ],
   "source": [
    "q / u"
   ]
  },
  {
   "cell_type": "markdown",
   "id": "a041e38d",
   "metadata": {},
   "source": [
    "### Time (hour and date) "
   ]
  },
  {
   "cell_type": "code",
   "execution_count": 21,
   "id": "c162aad0",
   "metadata": {},
   "outputs": [],
   "source": [
    "## data for time generalization (in hour) (optional)\n",
    "\n",
    "count = 0\n",
    "\n",
    "## for training: 12am - 8pm for testing: 8pm - 12am (exclusive)\n",
    "def generate_data_hour(data): \n",
    "    training_set = []\n",
    "    test_set = []\n",
    "    initial_train = []\n",
    "    boundary_train = []\n",
    "    initial_test = []\n",
    "    boundary_test = []\n",
    "    x_train = []\n",
    "    x_test = []\n",
    "    for i in range(data.shape[1] - 24): \n",
    "        if i % 288 > 44: \n",
    "            x_train.append(torch.tensor(xi))\n",
    "            training_set.append(data[:, i:i+24, :])\n",
    "            initial = interpolate_initial(data[:, i, :], xi, t0=0)\n",
    "            boundary = interpolate_boundary(data[:, i:i+24, :], ti, t) \n",
    "#             print(initial.shape)\n",
    "#             print(boundary.shape)\n",
    "            initial_train.append(initial)\n",
    "            boundary_train.append(boundary)\n",
    "        else: \n",
    "            x_test.append(torch.tensor(xi))\n",
    "            test_set.append(data[:, i:i+24, :]) \n",
    "            initial = interpolate_initial(data[:, i, :], xi, t0=0)\n",
    "            boundary = interpolate_boundary(data[:, i:i+24, :], ti, t)\n",
    "            initial_test.append(initial)\n",
    "            boundary_test.append(boundary)\n",
    "    return torch.stack(x_train), torch.stack(x_test), torch.stack(training_set), torch.stack(test_set), torch.stack(initial_train), torch.stack(initial_test), torch.stack(boundary_train), torch.stack(boundary_test) \n",
    "\n",
    "x_train, x_test, training_set, test_set, initial_train, initial_test, boundary_train, boundary_test = generate_data_hour(data1) "
   ]
  },
  {
   "cell_type": "code",
   "execution_count": 62,
   "id": "6bce87de",
   "metadata": {},
   "outputs": [],
   "source": [
    "def generate_data_date(data): \n",
    "    training_set = []\n",
    "    test_set = []\n",
    "    initial_train = []\n",
    "    boundary_train = []\n",
    "    initial_test = []\n",
    "    boundary_test = []\n",
    "    x_train = []\n",
    "    x_test = []\n",
    "    training_size = int((data.shape[1] - 12) * 0.8) \n",
    "    \n",
    "    for i in range(data.shape[1] - 12): \n",
    "        if i < training_size: \n",
    "            x_train.append(torch.tensor(xi))\n",
    "            training_set.append(data[:, i:i+12, :])\n",
    "            initial = interpolate_initial(data[:, i, :], xi, t0=0)\n",
    "            boundary = interpolate_boundary(data[:, i:i+12, :], ti, t) \n",
    "#             print(initial.shape)\n",
    "#             print(boundary.shape)\n",
    "            initial_train.append(initial)\n",
    "            boundary_train.append(boundary)\n",
    "        else: \n",
    "            x_test.append(torch.tensor(xi))\n",
    "            test_set.append(data[:, i:i+12, :]) \n",
    "            initial = interpolate_initial(data[:, i, :], xi, t0=0)\n",
    "            boundary = interpolate_boundary(data[:, i:i+12, :], ti, t)\n",
    "            initial_test.append(initial)\n",
    "            boundary_test.append(boundary)\n",
    "    return torch.stack(x_train), torch.stack(x_test), torch.stack(training_set), torch.stack(test_set), torch.stack(initial_train), torch.stack(initial_test), torch.stack(boundary_train), torch.stack(boundary_test)  \n",
    "\n",
    "x_train, x_test, training_set, test_set, initial_train, initial_test, boundary_train, boundary_test = generate_data_date(data) "
   ]
  },
  {
   "cell_type": "code",
   "execution_count": 9,
   "id": "18b178e9",
   "metadata": {},
   "outputs": [
    {
     "data": {
      "text/plain": [
       "(tensor([ 0.0349,  0.8876, 28.5992], dtype=torch.float64),\n",
       " tensor([0.0330, 0.6062, 4.1684], dtype=torch.float64))"
      ]
     },
     "execution_count": 9,
     "metadata": {},
     "output_type": "execute_result"
    }
   ],
   "source": [
    "mean = torch.tensor([training_set[:, 0, :, :].mean(), training_set[:, 1, :, :].mean(), training_set[:, 2, :, :].mean()])\n",
    "std = torch.tensor([training_set[:, 0, :, :].std(), training_set[:, 1, :, :].std(), training_set[:, 2, :, :].std()]) \n",
    "mean, std "
   ]
  },
  {
   "cell_type": "code",
   "execution_count": 10,
   "id": "94f603ef",
   "metadata": {},
   "outputs": [
    {
     "data": {
      "text/plain": [
       "(tensor([ 0.0349,  0.8875, 28.6428], dtype=torch.float64),\n",
       " tensor([0.0331, 0.5952, 4.1681], dtype=torch.float64))"
      ]
     },
     "execution_count": 10,
     "metadata": {},
     "output_type": "execute_result"
    }
   ],
   "source": [
    "mean = torch.tensor([test_set[:, 0, :, :].mean(), test_set[:, 1, :, :].mean(), test_set[:, 2, :, :].mean()])\n",
    "std = torch.tensor([test_set[:, 0, :, :].std(), test_set[:, 1, :, :].std(), test_set[:, 2, :, :].std()]) \n",
    "mean, std "
   ]
  },
  {
   "cell_type": "code",
   "execution_count": 11,
   "id": "ffecd479",
   "metadata": {},
   "outputs": [
    {
     "data": {
      "text/plain": [
       "(torch.Size([42614, 3, 380]), torch.Size([10654, 3, 380]))"
      ]
     },
     "execution_count": 11,
     "metadata": {},
     "output_type": "execute_result"
    }
   ],
   "source": [
    "initial_train.shape, initial_test.shape"
   ]
  },
  {
   "cell_type": "code",
   "execution_count": 12,
   "id": "91cdd4eb",
   "metadata": {},
   "outputs": [
    {
     "data": {
      "text/plain": [
       "(torch.Size([42614, 3, 600]), torch.Size([10654, 3, 600]))"
      ]
     },
     "execution_count": 12,
     "metadata": {},
     "output_type": "execute_result"
    }
   ],
   "source": [
    "boundary_train.shape, boundary_test.shape"
   ]
  },
  {
   "cell_type": "code",
   "execution_count": 13,
   "id": "7f06c8aa",
   "metadata": {},
   "outputs": [
    {
     "data": {
      "text/plain": [
       "(torch.Size([42614, 3, 12, 78]), torch.Size([10654, 3, 12, 78]))"
      ]
     },
     "execution_count": 13,
     "metadata": {},
     "output_type": "execute_result"
    }
   ],
   "source": [
    "training_set.shape, test_set.shape"
   ]
  },
  {
   "cell_type": "code",
   "execution_count": 14,
   "id": "66dbf963",
   "metadata": {},
   "outputs": [
    {
     "data": {
      "text/plain": [
       "(torch.Size([42614, 78]), torch.Size([10654, 78]))"
      ]
     },
     "execution_count": 14,
     "metadata": {},
     "output_type": "execute_result"
    }
   ],
   "source": [
    "x_train.shape, x_test.shape"
   ]
  },
  {
   "cell_type": "code",
   "execution_count": 79,
   "id": "433e7ede",
   "metadata": {},
   "outputs": [],
   "source": [
    "torch.save(test_set.clone(), \"data_time/test_time2.pt\")"
   ]
  },
  {
   "cell_type": "code",
   "execution_count": 14,
   "id": "f411c415",
   "metadata": {},
   "outputs": [],
   "source": [
    "torch.save(training_set, \"data_time/training_time.pt\")\n",
    "torch.save(test_set, \"data_time/test_time.pt\")\n",
    "torch.save(initial_train, \"data_time/training_time_initial.pt\")\n",
    "torch.save(initial_test, \"data_time/test_time_initial.pt\")\n",
    "torch.save(boundary_train, \"data_time/training_time_boundary.pt\")\n",
    "torch.save(boundary_test, \"data_time/test_time_boundary.pt\")\n",
    "torch.save(x_train, \"data_time/x_train.pt\")\n",
    "torch.save(x_test, \"data_time/x_test.pt\")"
   ]
  },
  {
   "cell_type": "code",
   "execution_count": 15,
   "id": "4f433d45",
   "metadata": {},
   "outputs": [],
   "source": [
    "torch.save(training_set, \"data_transform/training_time.pt\")\n",
    "torch.save(test_set, \"data_transform/test_time.pt\")\n",
    "torch.save(initial_train, \"data_transform/training_time_initial.pt\")\n",
    "torch.save(initial_test, \"data_transform/test_time_initial.pt\")\n",
    "torch.save(boundary_train, \"data_transform/training_time_boundary.pt\")\n",
    "torch.save(boundary_test, \"data_transform/test_time_boundary.pt\")\n",
    "torch.save(x_train, \"data_transform/x_train.pt\")\n",
    "torch.save(x_test, \"data_transform/x_test.pt\") "
   ]
  },
  {
   "cell_type": "markdown",
   "id": "3f843158",
   "metadata": {},
   "source": [
    "### Space "
   ]
  },
  {
   "cell_type": "code",
   "execution_count": 4,
   "id": "eeeb7467",
   "metadata": {},
   "outputs": [],
   "source": [
    "import random\n",
    "import numpy as np\n",
    "## data for space generalization \n",
    "\n",
    "training_sensors = np.random.choice(np.arange(0, 78), 58, replace=False)"
   ]
  },
  {
   "cell_type": "code",
   "execution_count": 7,
   "id": "6c8503ad",
   "metadata": {},
   "outputs": [
    {
     "data": {
      "text/plain": [
       "array([60,  6, 58, 53, 45,  1, 72, 52, 48, 55, 18, 22, 64,  4, 65,  5, 30,\n",
       "       46, 66, 23, 49, 35, 17, 20, 33, 68, 77, 69, 56, 67, 42, 54, 39, 71,\n",
       "       61,  2, 59, 43, 32, 70, 12, 10, 47, 28, 37, 74, 40,  7, 25,  8, 57,\n",
       "        9, 34, 63, 26, 51, 21, 44])"
      ]
     },
     "execution_count": 7,
     "metadata": {},
     "output_type": "execute_result"
    }
   ],
   "source": [
    "# better to have sensor 0 in training sensors\n",
    "\n",
    "training_sensors = np.array(([60,  6, 58, 53, 45,  1, 72, 52, 48, 55, 18, 22, 64,  4, 65,  5, 30,\n",
    "       46, 66, 23, 49, 35, 17, 20, 33, 68, 77, 69, 56, 67, 42, 54, 39, 71,\n",
    "       61,  2, 59, 43, 32, 70, 12, 10, 47, 28, 37, 74, 40,  7, 25,  8, 57,\n",
    "        9, 34, 63, 26, 51, 21, 44]))\n",
    "training_sensors "
   ]
  },
  {
   "cell_type": "code",
   "execution_count": 8,
   "id": "5e1a7899",
   "metadata": {},
   "outputs": [
    {
     "data": {
      "text/plain": [
       "array([ 1,  2,  4,  5,  6,  7,  8,  9, 10, 12, 17, 18, 20, 21, 22, 23, 25,\n",
       "       26, 28, 30, 32, 33, 34, 35, 37, 39, 40, 42, 43, 44, 45, 46, 47, 48,\n",
       "       49, 51, 52, 53, 54, 55, 56, 57, 58, 59, 60, 61, 63, 64, 65, 66, 67,\n",
       "       68, 69, 70, 71, 72, 74, 77])"
      ]
     },
     "execution_count": 8,
     "metadata": {},
     "output_type": "execute_result"
    }
   ],
   "source": [
    "training_sensors.sort() \n",
    "# training_sensors = training_sensors - 1 \n",
    "training_sensors "
   ]
  },
  {
   "cell_type": "code",
   "execution_count": 8,
   "id": "969a18fc",
   "metadata": {},
   "outputs": [],
   "source": [
    "group1 = training_sensors[:20]\n",
    "group2 = training_sensors[20:40]\n",
    "group3 = np.append(training_sensors[40:], np.random.choice(training_sensors[:40], 2, replace=False)) "
   ]
  },
  {
   "cell_type": "code",
   "execution_count": 9,
   "id": "cda6940f",
   "metadata": {},
   "outputs": [
    {
     "data": {
      "text/plain": [
       "(array([ 1,  4,  5,  6, 18, 22, 23, 30, 45, 46, 48, 52, 53, 55, 58, 60, 64,\n",
       "        65, 66, 72]),\n",
       " array([ 2, 17, 20, 32, 33, 35, 39, 42, 43, 49, 54, 56, 59, 61, 67, 68, 69,\n",
       "        70, 71, 77]),\n",
       " array([ 1,  7,  8,  9, 10, 12, 21, 25, 26, 28, 30, 34, 37, 40, 44, 47, 51,\n",
       "        57, 63, 74]))"
      ]
     },
     "execution_count": 9,
     "metadata": {},
     "output_type": "execute_result"
    }
   ],
   "source": [
    "group1.sort()\n",
    "group2.sort()\n",
    "group3.sort() \n",
    "group1, group2, group3 "
   ]
  },
  {
   "cell_type": "code",
   "execution_count": 9,
   "id": "70f9da59",
   "metadata": {},
   "outputs": [],
   "source": [
    "test_sensors = np.array(list(set(np.arange(0, 78)) - set(training_sensors)))"
   ]
  },
  {
   "cell_type": "code",
   "execution_count": 10,
   "id": "d83d1dbf",
   "metadata": {},
   "outputs": [
    {
     "data": {
      "text/plain": [
       "array([ 0,  3, 11, 13, 14, 15, 16, 19, 24, 27, 29, 31, 36, 38, 41, 50, 62,\n",
       "       73, 75, 76])"
      ]
     },
     "execution_count": 10,
     "metadata": {},
     "output_type": "execute_result"
    }
   ],
   "source": [
    "test_sensors.sort() \n",
    "test_sensors "
   ]
  },
  {
   "cell_type": "code",
   "execution_count": 12,
   "id": "e32677d4",
   "metadata": {},
   "outputs": [
    {
     "data": {
      "text/plain": [
       "torch.Size([3, 53280, 78])"
      ]
     },
     "execution_count": 12,
     "metadata": {},
     "output_type": "execute_result"
    }
   ],
   "source": [
    "data.shape"
   ]
  },
  {
   "cell_type": "code",
   "execution_count": 16,
   "id": "1688ad92",
   "metadata": {},
   "outputs": [
    {
     "name": "stdout",
     "output_type": "stream",
     "text": [
      "0\n",
      "100\n",
      "200\n",
      "300\n",
      "400\n",
      "500\n",
      "600\n",
      "700\n",
      "800\n",
      "900\n",
      "1000\n",
      "1100\n",
      "1200\n",
      "1300\n",
      "1400\n",
      "1500\n",
      "1600\n",
      "1700\n",
      "1800\n",
      "1900\n",
      "2000\n",
      "2100\n",
      "2200\n",
      "2300\n",
      "2400\n",
      "2500\n",
      "2600\n",
      "2700\n",
      "2800\n",
      "2900\n",
      "3000\n",
      "3100\n",
      "3200\n",
      "3300\n",
      "3400\n",
      "3500\n",
      "3600\n",
      "3700\n",
      "3800\n",
      "3900\n",
      "4000\n",
      "4100\n",
      "4200\n",
      "4300\n",
      "4400\n",
      "4500\n",
      "4600\n",
      "4700\n",
      "4800\n",
      "4900\n",
      "5000\n",
      "5100\n",
      "5200\n",
      "5300\n",
      "5400\n",
      "5500\n",
      "5600\n",
      "5700\n",
      "5800\n",
      "5900\n",
      "6000\n",
      "6100\n",
      "6200\n",
      "6300\n",
      "6400\n",
      "6500\n",
      "6600\n",
      "6700\n",
      "6800\n",
      "6900\n",
      "7000\n",
      "7100\n",
      "7200\n",
      "7300\n",
      "7400\n",
      "7500\n",
      "7600\n",
      "7700\n",
      "7800\n",
      "7900\n",
      "8000\n",
      "8100\n",
      "8200\n",
      "8300\n",
      "8400\n",
      "8500\n",
      "8600\n",
      "8700\n",
      "8800\n",
      "8900\n",
      "9000\n",
      "9100\n",
      "9200\n",
      "9300\n",
      "9400\n",
      "9500\n",
      "9600\n",
      "9700\n",
      "9800\n",
      "9900\n",
      "10000\n",
      "10100\n",
      "10200\n",
      "10300\n",
      "10400\n",
      "10500\n",
      "10600\n",
      "10700\n",
      "10800\n",
      "10900\n",
      "11000\n",
      "11100\n",
      "11200\n",
      "11300\n",
      "11400\n",
      "11500\n",
      "11600\n",
      "11700\n",
      "11800\n",
      "11900\n",
      "12000\n",
      "12100\n",
      "12200\n",
      "12300\n",
      "12400\n",
      "12500\n",
      "12600\n",
      "12700\n",
      "12800\n",
      "12900\n",
      "13000\n",
      "13100\n",
      "13200\n",
      "13300\n",
      "13400\n",
      "13500\n",
      "13600\n",
      "13700\n",
      "13800\n",
      "13900\n",
      "14000\n",
      "14100\n",
      "14200\n",
      "14300\n",
      "14400\n",
      "14500\n",
      "14600\n",
      "14700\n",
      "14800\n",
      "14900\n",
      "15000\n",
      "15100\n",
      "15200\n",
      "15300\n",
      "15400\n",
      "15500\n",
      "15600\n",
      "15700\n",
      "15800\n",
      "15900\n",
      "16000\n",
      "16100\n",
      "16200\n",
      "16300\n",
      "16400\n",
      "16500\n",
      "16600\n",
      "16700\n",
      "16800\n",
      "16900\n",
      "17000\n",
      "17100\n",
      "17200\n",
      "17300\n",
      "17400\n",
      "17500\n",
      "17600\n",
      "17700\n",
      "17800\n",
      "17900\n",
      "18000\n",
      "18100\n",
      "18200\n",
      "18300\n",
      "18400\n",
      "18500\n",
      "18600\n",
      "18700\n",
      "18800\n",
      "18900\n",
      "19000\n",
      "19100\n",
      "19200\n",
      "19300\n",
      "19400\n",
      "19500\n",
      "19600\n",
      "19700\n",
      "19800\n",
      "19900\n",
      "20000\n",
      "20100\n",
      "20200\n",
      "20300\n",
      "20400\n",
      "20500\n",
      "20600\n",
      "20700\n",
      "20800\n",
      "20900\n",
      "21000\n",
      "21100\n",
      "21200\n",
      "21300\n",
      "21400\n",
      "21500\n",
      "21600\n",
      "21700\n",
      "21800\n",
      "21900\n",
      "22000\n",
      "22100\n",
      "22200\n",
      "22300\n",
      "22400\n",
      "22500\n",
      "22600\n",
      "22700\n",
      "22800\n",
      "22900\n",
      "23000\n",
      "23100\n",
      "23200\n",
      "23300\n",
      "23400\n",
      "23500\n",
      "23600\n",
      "23700\n",
      "23800\n",
      "23900\n",
      "24000\n",
      "24100\n",
      "24200\n",
      "24300\n",
      "24400\n",
      "24500\n",
      "24600\n",
      "24700\n",
      "24800\n",
      "24900\n",
      "25000\n",
      "25100\n",
      "25200\n",
      "25300\n",
      "25400\n",
      "25500\n",
      "25600\n",
      "25700\n",
      "25800\n",
      "25900\n",
      "26000\n",
      "26100\n",
      "26200\n",
      "26300\n",
      "26400\n",
      "26500\n",
      "26600\n",
      "26700\n",
      "26800\n",
      "26900\n",
      "27000\n",
      "27100\n",
      "27200\n",
      "27300\n",
      "27400\n",
      "27500\n",
      "27600\n",
      "27700\n",
      "27800\n",
      "27900\n",
      "28000\n",
      "28100\n",
      "28200\n",
      "28300\n",
      "28400\n",
      "28500\n",
      "28600\n",
      "28700\n",
      "28800\n",
      "28900\n",
      "29000\n",
      "29100\n",
      "29200\n",
      "29300\n",
      "29400\n",
      "29500\n",
      "29600\n",
      "29700\n",
      "29800\n",
      "29900\n",
      "30000\n",
      "30100\n",
      "30200\n",
      "30300\n",
      "30400\n",
      "30500\n",
      "30600\n",
      "30700\n",
      "30800\n",
      "30900\n",
      "31000\n",
      "31100\n",
      "31200\n",
      "31300\n",
      "31400\n",
      "31500\n",
      "31600\n",
      "31700\n",
      "31800\n",
      "31900\n",
      "32000\n",
      "32100\n",
      "32200\n",
      "32300\n",
      "32400\n",
      "32500\n",
      "32600\n",
      "32700\n",
      "32800\n",
      "32900\n",
      "33000\n",
      "33100\n",
      "33200\n",
      "33300\n",
      "33400\n",
      "33500\n",
      "33600\n",
      "33700\n",
      "33800\n",
      "33900\n",
      "34000\n",
      "34100\n",
      "34200\n",
      "34300\n",
      "34400\n",
      "34500\n",
      "34600\n",
      "34700\n",
      "34800\n",
      "34900\n",
      "35000\n",
      "35100\n",
      "35200\n",
      "35300\n",
      "35400\n",
      "35500\n",
      "35600\n",
      "35700\n",
      "35800\n",
      "35900\n",
      "36000\n",
      "36100\n",
      "36200\n",
      "36300\n",
      "36400\n",
      "36500\n",
      "36600\n",
      "36700\n",
      "36800\n",
      "36900\n",
      "37000\n",
      "37100\n",
      "37200\n",
      "37300\n",
      "37400\n",
      "37500\n",
      "37600\n",
      "37700\n",
      "37800\n",
      "37900\n",
      "38000\n",
      "38100\n",
      "38200\n",
      "38300\n",
      "38400\n",
      "38500\n",
      "38600\n",
      "38700\n",
      "38800\n",
      "38900\n",
      "39000\n",
      "39100\n",
      "39200\n",
      "39300\n",
      "39400\n",
      "39500\n",
      "39600\n",
      "39700\n",
      "39800\n",
      "39900\n",
      "40000\n",
      "40100\n",
      "40200\n",
      "40300\n",
      "40400\n",
      "40500\n",
      "40600\n",
      "40700\n",
      "40800\n",
      "40900\n",
      "41000\n",
      "41100\n",
      "41200\n",
      "41300\n",
      "41400\n",
      "41500\n",
      "41600\n",
      "41700\n",
      "41800\n",
      "41900\n",
      "42000\n",
      "42100\n",
      "42200\n",
      "42300\n",
      "42400\n",
      "42500\n",
      "42600\n",
      "42700\n",
      "42800\n",
      "42900\n",
      "43000\n",
      "43100\n",
      "43200\n",
      "43300\n",
      "43400\n",
      "43500\n",
      "43600\n",
      "43700\n",
      "43800\n",
      "43900\n",
      "44000\n",
      "44100\n",
      "44200\n",
      "44300\n",
      "44400\n",
      "44500\n",
      "44600\n",
      "44700\n",
      "44800\n",
      "44900\n",
      "45000\n",
      "45100\n",
      "45200\n",
      "45300\n",
      "45400\n",
      "45500\n",
      "45600\n",
      "45700\n",
      "45800\n",
      "45900\n",
      "46000\n",
      "46100\n",
      "46200\n",
      "46300\n",
      "46400\n",
      "46500\n",
      "46600\n",
      "46700\n",
      "46800\n",
      "46900\n",
      "47000\n",
      "47100\n",
      "47200\n",
      "47300\n",
      "47400\n",
      "47500\n",
      "47600\n",
      "47700\n",
      "47800\n",
      "47900\n",
      "48000\n",
      "48100\n",
      "48200\n",
      "48300\n",
      "48400\n",
      "48500\n",
      "48600\n",
      "48700\n",
      "48800\n",
      "48900\n",
      "49000\n",
      "49100\n",
      "49200\n",
      "49300\n",
      "49400\n",
      "49500\n",
      "49600\n",
      "49700\n",
      "49800\n",
      "49900\n",
      "50000\n",
      "50100\n",
      "50200\n",
      "50300\n",
      "50400\n",
      "50500\n",
      "50600\n",
      "50700\n",
      "50800\n",
      "50900\n",
      "51000\n",
      "51100\n",
      "51200\n",
      "51300\n",
      "51400\n",
      "51500\n",
      "51600\n",
      "51700\n",
      "51800\n",
      "51900\n",
      "52000\n",
      "52100\n",
      "52200\n",
      "52300\n",
      "52400\n",
      "52500\n",
      "52600\n",
      "52700\n",
      "52800\n",
      "52900\n",
      "53000\n",
      "53100\n",
      "53200\n"
     ]
    }
   ],
   "source": [
    "def generate_data_space(data): \n",
    "    training_set = [1]\n",
    "    test_set = []\n",
    "    initial_train = [1]\n",
    "    boundary_train = [1]\n",
    "    initial_test = [1]\n",
    "    boundary_test = [1]\n",
    "    x_train = [1]\n",
    "    x_test = [1]\n",
    "#     training_size = int((data.shape[1] - 24) * 0.8) \n",
    "    count = 0\n",
    "    for i in range(data.shape[1] - 24): \n",
    "        if count % 100 == 0: print(count)\n",
    "        count += 1 \n",
    "        # group 1\n",
    "#         x_train.append(torch.tensor(group1))\n",
    "#         training_set.append(data[:, i:i+24, group1])\n",
    "#         initial = interpolate_initial(data[:, i, :], xi, t0=0)\n",
    "#         boundary = interpolate_boundary(data[:, i:i+24, :], ti, t) \n",
    "# #             print(initial.shape)\n",
    "# #             print(boundary.shape)\n",
    "#         initial_train.append(initial)\n",
    "#         boundary_train.append(boundary)\n",
    "        \n",
    "#         # group 2\n",
    "#         x_train.append(torch.tensor(group2))\n",
    "#         training_set.append(data[:, i:i+24, group2])\n",
    "# #         initial = interpolate_initial(data[:, i, :], xi, t0=0)\n",
    "# #         boundary = interpolate_boundary(data[:, i:i+24, :], ti, t) \n",
    "# #             print(initial.shape)\n",
    "# #             print(boundary.shape)\n",
    "#         initial_train.append(initial)\n",
    "#         boundary_train.append(boundary)\n",
    "        \n",
    "#         # group 3\n",
    "#         x_train.append(torch.tensor(group3))\n",
    "#         training_set.append(data[:, i:i+24, group3])\n",
    "# #         initial = interpolate_initial(data[:, i, :], xi, t0=0)\n",
    "# #         boundary = interpolate_boundary(data[:, i:i+24, :], ti, t) \n",
    "# #             print(initial.shape)\n",
    "# #             print(boundary.shape)\n",
    "#         initial_train.append(initial)\n",
    "#         boundary_train.append(boundary) \n",
    "        \n",
    "        # test \n",
    "        x_test.append(torch.tensor(test_sensors))\n",
    "        test_set.append(data[:, i:i+24, test_sensors]) \n",
    "#         initial = interpolate_initial(data[:, i, :], xi, t0=0)\n",
    "#         boundary = interpolate_boundary(data[:, i:i+24, :], ti, t)\n",
    "#         initial_test.append(initial)\n",
    "#         boundary_test.append(boundary)\n",
    "    return torch.stack(test_set) \n",
    "test_set = generate_data_space(data) "
   ]
  },
  {
   "cell_type": "code",
   "execution_count": 13,
   "id": "0e5f72f4",
   "metadata": {},
   "outputs": [
    {
     "ename": "NameError",
     "evalue": "name 'x_train' is not defined",
     "output_type": "error",
     "traceback": [
      "\u001b[1;31m---------------------------------------------------------------------------\u001b[0m",
      "\u001b[1;31mNameError\u001b[0m                                 Traceback (most recent call last)",
      "\u001b[1;32mC:\\Users\\STEPHE~1\\AppData\\Local\\Temp/ipykernel_16592/1078333180.py\u001b[0m in \u001b[0;36m<module>\u001b[1;34m\u001b[0m\n\u001b[1;32m----> 1\u001b[1;33m \u001b[0mx_train\u001b[0m\u001b[1;33m.\u001b[0m\u001b[0mshape\u001b[0m\u001b[1;33m,\u001b[0m \u001b[0mx_test\u001b[0m\u001b[1;33m.\u001b[0m\u001b[0mshape\u001b[0m\u001b[1;33m\u001b[0m\u001b[1;33m\u001b[0m\u001b[0m\n\u001b[0m",
      "\u001b[1;31mNameError\u001b[0m: name 'x_train' is not defined"
     ]
    }
   ],
   "source": [
    "x_train.shape, x_test.shape"
   ]
  },
  {
   "cell_type": "code",
   "execution_count": 14,
   "id": "64d2faf6",
   "metadata": {},
   "outputs": [
    {
     "ename": "NameError",
     "evalue": "name 'training_set' is not defined",
     "output_type": "error",
     "traceback": [
      "\u001b[1;31m---------------------------------------------------------------------------\u001b[0m",
      "\u001b[1;31mNameError\u001b[0m                                 Traceback (most recent call last)",
      "\u001b[1;32mC:\\Users\\STEPHE~1\\AppData\\Local\\Temp/ipykernel_16592/613115378.py\u001b[0m in \u001b[0;36m<module>\u001b[1;34m\u001b[0m\n\u001b[1;32m----> 1\u001b[1;33m \u001b[0mtraining_set\u001b[0m\u001b[1;33m.\u001b[0m\u001b[0mshape\u001b[0m\u001b[1;33m,\u001b[0m \u001b[0mtest_set\u001b[0m\u001b[1;33m.\u001b[0m\u001b[0mshape\u001b[0m\u001b[1;33m\u001b[0m\u001b[1;33m\u001b[0m\u001b[0m\n\u001b[0m",
      "\u001b[1;31mNameError\u001b[0m: name 'training_set' is not defined"
     ]
    }
   ],
   "source": [
    "training_set.shape, test_set.shape"
   ]
  },
  {
   "cell_type": "code",
   "execution_count": 18,
   "id": "191b5fff",
   "metadata": {},
   "outputs": [],
   "source": [
    "test_set.shape \n",
    "torch.save(test_set, \"data_space/test_space.pt\") "
   ]
  },
  {
   "cell_type": "code",
   "execution_count": null,
   "id": "1eb2eb0f",
   "metadata": {},
   "outputs": [],
   "source": []
  },
  {
   "cell_type": "code",
   "execution_count": 16,
   "id": "d45ea101",
   "metadata": {},
   "outputs": [
    {
     "data": {
      "text/plain": [
       "(torch.Size([159768, 3, 237]), torch.Size([53256, 3, 237]))"
      ]
     },
     "execution_count": 16,
     "metadata": {},
     "output_type": "execute_result"
    }
   ],
   "source": [
    "initial_train.shape, initial_test.shape"
   ]
  },
  {
   "cell_type": "code",
   "execution_count": 17,
   "id": "1cc8e777",
   "metadata": {},
   "outputs": [
    {
     "data": {
      "text/plain": [
       "(torch.Size([159768, 3, 1200]), torch.Size([53256, 3, 1200]))"
      ]
     },
     "execution_count": 17,
     "metadata": {},
     "output_type": "execute_result"
    }
   ],
   "source": [
    "boundary_train.shape, boundary_test.shape"
   ]
  },
  {
   "cell_type": "code",
   "execution_count": 18,
   "id": "c533bf21",
   "metadata": {},
   "outputs": [],
   "source": [
    "torch.save(training_set, \"data_space/training_space.pt\")\n",
    "torch.save(test_set, \"data_space/test_space.pt\")\n",
    "torch.save(initial_train, \"data_space/training_space_initial.pt\")\n",
    "torch.save(initial_test, \"data_space/test_space_initial.pt\")\n",
    "torch.save(boundary_train, \"data_space/training_space_boundary.pt\")\n",
    "torch.save(boundary_test, \"data_space/test_space_boundary.pt\")\n",
    "torch.save(x_train, \"data_space/x_train.pt\")\n",
    "torch.save(x_test, \"data_space/x_test.pt\")"
   ]
  },
  {
   "cell_type": "markdown",
   "id": "c66e49cf",
   "metadata": {},
   "source": [
    "### Data hist in hours "
   ]
  },
  {
   "cell_type": "code",
   "execution_count": 34,
   "id": "560dba35",
   "metadata": {},
   "outputs": [],
   "source": [
    "d = []\n",
    "p = []\n",
    "u = []\n",
    "for i in range(288): \n",
    "#     print(\"mean at\", i, \":\", torch.mean(data1[0, i::288, :]))\n",
    "    d.append(torch.mean(data1[0, i::288, :]))\n",
    "    p.append(torch.mean(data1[1, i::288, :]))\n",
    "    u.append(torch.mean(data1[2, i::288, :]))"
   ]
  },
  {
   "cell_type": "code",
   "execution_count": 38,
   "id": "470d26f7",
   "metadata": {},
   "outputs": [
    {
     "data": {
      "text/plain": [
       "[<matplotlib.lines.Line2D at 0x22118e960a0>]"
      ]
     },
     "execution_count": 38,
     "metadata": {},
     "output_type": "execute_result"
    },
    {
     "data": {
      "image/png": "[encoded data removed]",
      "text/plain": [
       "<Figure size 432x288 with 1 Axes>"
      ]
     },
     "metadata": {
      "needs_background": "light"
     },
     "output_type": "display_data"
    }
   ],
   "source": [
    "from matplotlib import pyplot as plt \n",
    "plt.plot(np.arange(0, 288), d)"
   ]
  },
  {
   "cell_type": "code",
   "execution_count": 39,
   "id": "568bec92",
   "metadata": {},
   "outputs": [
    {
     "data": {
      "text/plain": [
       "[<matplotlib.lines.Line2D at 0x22118fa4520>]"
      ]
     },
     "execution_count": 39,
     "metadata": {},
     "output_type": "execute_result"
    },
    {
     "data": {
      "image/png": "[encoded data removed]",
      "text/plain": [
       "<Figure size 432x288 with 1 Axes>"
      ]
     },
     "metadata": {
      "needs_background": "light"
     },
     "output_type": "display_data"
    }
   ],
   "source": [
    "plt.plot(np.arange(0, 288), p)"
   ]
  },
  {
   "cell_type": "code",
   "execution_count": 40,
   "id": "b05dfdc0",
   "metadata": {},
   "outputs": [
    {
     "data": {
      "text/plain": [
       "[<matplotlib.lines.Line2D at 0x22118f8b6d0>]"
      ]
     },
     "execution_count": 40,
     "metadata": {},
     "output_type": "execute_result"
    },
    {
     "data": {
      "image/png": "[encoded data removed]",
      "text/plain": [
       "<Figure size 432x288 with 1 Axes>"
      ]
     },
     "metadata": {
      "needs_background": "light"
     },
     "output_type": "display_data"
    }
   ],
   "source": [
    "plt.plot(np.arange(0, 288), u)"
   ]
  },
  {
   "cell_type": "code",
   "execution_count": 14,
   "id": "9dc62d16",
   "metadata": {},
   "outputs": [],
   "source": [
    "torch.save(datasamples, \"pems_data.pt\")"
   ]
  },
  {
   "cell_type": "code",
   "execution_count": null,
   "id": "78d38afc-b78b-49a7-bbc8-658709922d6c",
   "metadata": {},
   "outputs": [],
   "source": []
  },
  {
   "cell_type": "markdown",
   "id": "a9878676-5350-4e0e-802c-e846632042d7",
   "metadata": {},
   "source": [
    "### separate in single sample "
   ]
  },
  {
   "cell_type": "code",
   "execution_count": 18,
   "id": "6c5a5b3f-0cfc-4345-9feb-6d55399859d7",
   "metadata": {},
   "outputs": [],
   "source": [
    "training_data = torch.load(\"data_time/training_time.pt\").float()\n",
    "test_data = torch.load(\"data_time/test_time.pt\").float()"
   ]
  },
  {
   "cell_type": "code",
   "execution_count": 19,
   "id": "796cb7e0",
   "metadata": {},
   "outputs": [
    {
     "data": {
      "text/plain": [
       "(torch.Size([42604, 3, 24, 78]), torch.Size([10652, 3, 24, 78]))"
      ]
     },
     "execution_count": 19,
     "metadata": {},
     "output_type": "execute_result"
    }
   ],
   "source": [
    "training_data.shape, test_data.shape "
   ]
  },
  {
   "cell_type": "code",
   "execution_count": null,
   "id": "6ef85cc8",
   "metadata": {},
   "outputs": [],
   "source": []
  },
  {
   "cell_type": "code",
   "execution_count": 4,
   "id": "ea663c50-b7bd-4eda-ac4f-b2f53506e1f1",
   "metadata": {},
   "outputs": [],
   "source": [
    "mean = torch.tensor([training_data[:, 0, :, :].mean(), training_data[:, 1, :, :].mean(), training_data[:, 2, :, :].mean()])\n",
    "std = torch.tensor([training_data[:, 0, :, :].std(), training_data[:, 1, :, :].std(), training_data[:, 2, :, :].std()])\n",
    "training_norm = torch.zeros(training_data.shape, dtype = torch.float)\n",
    "training_norm[:, 0, :, :] = (training_data[:, 0, :, :] - mean[0]) / std[0]\n",
    "training_norm[:, 1, :, :] = (training_data[:, 1, :, :] - mean[1]) / std[1]\n",
    "training_norm[:, 2, :, :] = (training_data[:, 2, :, :] - mean[2]) / std[2] \n",
    "\n",
    "test_norm = torch.zeros(test_data.shape, dtype = torch.float)\n",
    "test_norm[:, 0, :, :] = (test_data[:, 0, :, :] - mean[0]) / std[0]\n",
    "test_norm[:, 1, :, :] = (test_data[:, 1, :, :] - mean[1]) / std[1]\n",
    "test_norm[:, 2, :, :] = (test_data[:, 2, :, :] - mean[2]) / std[2]"
   ]
  },
  {
   "cell_type": "code",
   "execution_count": 5,
   "id": "076ec383-be7b-4193-bd04-4d88ae27e426",
   "metadata": {},
   "outputs": [
    {
     "data": {
      "text/plain": [
       "(tensor([ 0.0346,  0.8776, 28.5845]), tensor([0.0332, 0.6084, 4.1689]))"
      ]
     },
     "execution_count": 5,
     "metadata": {},
     "output_type": "execute_result"
    }
   ],
   "source": [
    "mean, std"
   ]
  },
  {
   "cell_type": "code",
   "execution_count": 6,
   "id": "ea5fc60f-4bfe-41b9-a524-42569abc67ec",
   "metadata": {},
   "outputs": [],
   "source": [
    "count = 0\n",
    "for i in range(training_norm.shape[0]): \n",
    "    torch.save(training_norm[i].float().clone(), \"data_time/train/train_time_\" + str(count) + \".pt\")\n",
    "    count += 1"
   ]
  },
  {
   "cell_type": "code",
   "execution_count": 7,
   "id": "58edc4c8-9567-422e-aea6-caaaf90eebba",
   "metadata": {},
   "outputs": [],
   "source": [
    "count = 0\n",
    "for i in range(test_norm.shape[0]): \n",
    "    torch.save(test_norm[i].float().clone(), \"data_time/test/test_time_\" + str(count) + \".pt\")\n",
    "    count += 1"
   ]
  },
  {
   "cell_type": "code",
   "execution_count": null,
   "id": "9dbf1dc8-ae26-40ea-916b-ed9bc862e8f2",
   "metadata": {},
   "outputs": [],
   "source": []
  },
  {
   "cell_type": "code",
   "execution_count": 3,
   "id": "720c56d7-3796-415b-b812-4db493331e45",
   "metadata": {},
   "outputs": [],
   "source": [
    "training_data_space = torch.load(\"data_space/training_space.pt\").float()\n",
    "test_data_space = torch.load(\"data_space/test_space.pt\").float()"
   ]
  },
  {
   "cell_type": "code",
   "execution_count": 4,
   "id": "6a710c97-bf0c-41c2-95d2-dc6abf79b7f7",
   "metadata": {},
   "outputs": [],
   "source": [
    "mean = torch.tensor([training_data_space[:, 0, :, :].mean(), training_data_space[:, 1, :, :].mean(), training_data_space[:, 2, :, :].mean()])\n",
    "std = torch.tensor([training_data_space[:, 0, :, :].std(), training_data_space[:, 1, :, :].std(), training_data_space[:, 2, :, :].std()])\n",
    "training_norm = torch.zeros(training_data_space.shape, dtype = torch.float)\n",
    "training_norm[:, 0, :, :] = (training_data_space[:, 0, :, :] - mean[0]) / std[0]\n",
    "training_norm[:, 1, :, :] = (training_data_space[:, 1, :, :] - mean[1]) / std[1]\n",
    "training_norm[:, 2, :, :] = (training_data_space[:, 2, :, :] - mean[2]) / std[2] \n",
    "\n",
    "test_norm = torch.zeros(test_data_space.shape, dtype = torch.float)\n",
    "test_norm[:, 0, :, :] = (test_data_space[:, 0, :, :] - mean[0]) / std[0]\n",
    "test_norm[:, 1, :, :] = (test_data_space[:, 1, :, :] - mean[1]) / std[1]\n",
    "test_norm[:, 2, :, :] = (test_data_space[:, 2, :, :] - mean[2]) / std[2]"
   ]
  },
  {
   "cell_type": "code",
   "execution_count": 5,
   "id": "59931389-b476-4f1e-9b80-bdadbd241b10",
   "metadata": {},
   "outputs": [
    {
     "data": {
      "text/plain": [
       "(tensor([ 0.0357,  0.9041, 28.5759]), tensor([0.0342, 0.6126, 4.1534]))"
      ]
     },
     "execution_count": 5,
     "metadata": {},
     "output_type": "execute_result"
    }
   ],
   "source": [
    "mean, std"
   ]
  },
  {
   "cell_type": "code",
   "execution_count": 6,
   "id": "37fee0cc-8630-4a38-8042-ec0408358cfe",
   "metadata": {},
   "outputs": [],
   "source": [
    "count = 0\n",
    "for i in range(training_norm.shape[0]): \n",
    "    torch.save(training_norm[i].float().clone(), \"data_space/train/train_space_\" + str(count) + \".pt\")\n",
    "    count += 1"
   ]
  },
  {
   "cell_type": "code",
   "execution_count": 7,
   "id": "23d05514-77b6-41ea-aa9a-63feb3d4c13f",
   "metadata": {},
   "outputs": [],
   "source": [
    "count = 0\n",
    "for i in range(test_norm.shape[0]): \n",
    "    torch.save(test_norm[i].float().clone(), \"data_space/test/test_space_\" + str(count) + \".pt\")\n",
    "    count += 1"
   ]
  },
  {
   "cell_type": "code",
   "execution_count": 13,
   "id": "94825ca1-297b-4423-84db-a5413ecdf004",
   "metadata": {},
   "outputs": [
    {
     "name": "stdout",
     "output_type": "stream",
     "text": [
      "torch.Size([3, 24, 20])\n"
     ]
    }
   ],
   "source": [
    "print(training_norm[0].shape)"
   ]
  },
  {
   "cell_type": "code",
   "execution_count": null,
   "id": "b0935739-94a6-43c2-8946-a395f68dc6e7",
   "metadata": {},
   "outputs": [],
   "source": []
  },
  {
   "cell_type": "code",
   "execution_count": 58,
   "id": "837e6587",
   "metadata": {},
   "outputs": [],
   "source": [
    "training_data_initial = torch.load(\"data_time/training_time_initial.pt\").float()\n",
    "test_data_initial = torch.load(\"data_time/test_time_initial.pt\").float()"
   ]
  },
  {
   "cell_type": "code",
   "execution_count": 59,
   "id": "7648739c",
   "metadata": {},
   "outputs": [
    {
     "data": {
      "text/plain": [
       "236"
      ]
     },
     "execution_count": 59,
     "metadata": {},
     "output_type": "execute_result"
    }
   ],
   "source": [
    "training_data_initial.shape[2]"
   ]
  },
  {
   "cell_type": "code",
   "execution_count": 60,
   "id": "66cc16f1",
   "metadata": {},
   "outputs": [
    {
     "data": {
      "text/plain": [
       "torch.Size([2, 3, 236])"
      ]
     },
     "execution_count": 60,
     "metadata": {},
     "output_type": "execute_result"
    }
   ],
   "source": [
    "a = torch.stack([training_data_initial[0], training_data_initial[1]])\n",
    "a.shape"
   ]
  },
  {
   "cell_type": "code",
   "execution_count": 61,
   "id": "3257d9f3",
   "metadata": {},
   "outputs": [],
   "source": [
    "count = 0\n",
    "for i in range(training_data_initial.shape[0] - 1): \n",
    "    sample = torch.stack([training_data_initial[i], training_data_initial[i + 1]])\n",
    "    torch.save(sample.float().clone(), \"data_space/train/train_\" + str(count) + \".pt\")\n",
    "    count += 1"
   ]
  },
  {
   "cell_type": "code",
   "execution_count": 62,
   "id": "cd38691d",
   "metadata": {},
   "outputs": [],
   "source": [
    "count = 0\n",
    "for i in range(test_data_initial.shape[0] - 1): \n",
    "    sample = torch.stack([test_data_initial[i], test_data_initial[i + 1]])\n",
    "    torch.save(sample.float().clone(), \"data_space/test/test_\" + str(count) + \".pt\")\n",
    "    count += 1"
   ]
  },
  {
   "cell_type": "code",
   "execution_count": 37,
   "id": "dda327b7",
   "metadata": {},
   "outputs": [
    {
     "data": {
      "text/plain": [
       "tensor([[3.2329e-03, 3.1721e-03, 3.1113e-03, 3.0505e-03, 2.9897e-03, 2.9289e-03,\n",
       "         2.8681e-03, 2.8073e-03, 2.7465e-03, 2.6857e-03, 2.6249e-03, 2.5641e-03,\n",
       "         2.5033e-03, 2.4426e-03, 2.3818e-03, 2.3210e-03, 2.2602e-03, 2.1994e-03,\n",
       "         2.1386e-03, 2.0778e-03, 2.0170e-03, 1.9562e-03, 1.8954e-03, 1.8346e-03,\n",
       "         1.7738e-03, 1.7130e-03, 1.6522e-03, 1.5914e-03, 1.5307e-03, 1.5973e-03,\n",
       "         1.6640e-03, 1.7306e-03, 1.7973e-03, 1.8639e-03, 1.9306e-03, 1.9973e-03,\n",
       "         2.0330e-03, 2.0687e-03, 2.1044e-03, 2.1401e-03, 2.1758e-03, 2.2115e-03,\n",
       "         2.2472e-03, 2.2829e-03, 2.3186e-03, 2.3543e-03, 2.3900e-03, 2.4257e-03,\n",
       "         2.4189e-03, 2.4121e-03, 2.4053e-03, 3.0764e-03, 3.7475e-03, 4.4186e-03,\n",
       "         6.5685e-03, 8.7183e-03, 6.5961e-03, 4.4739e-03, 2.3517e-03, 2.2943e-04,\n",
       "         4.1631e-03, 8.0967e-03, 1.2030e-02, 9.3658e-03, 6.7012e-03, 4.0366e-03,\n",
       "         4.7711e-03, 5.5056e-03, 6.2402e-03, 5.8534e-03, 5.4666e-03, 5.8681e-03,\n",
       "         6.2695e-03, 6.6710e-03, 7.8483e-03, 9.0256e-03, 1.0203e-02, 1.1380e-02,\n",
       "         9.6241e-03, 7.8680e-03, 6.1118e-03, 8.9072e-03, 1.1702e-02, 9.6059e-03,\n",
       "         7.5094e-03, 5.4128e-03, 5.8377e-03, 6.2625e-03, 6.6874e-03, 6.6452e-03,\n",
       "         6.6030e-03, 6.5608e-03, 4.9262e-03, 6.2025e-03, 7.4788e-03, 1.8952e-02,\n",
       "         3.0426e-02, 4.1899e-02, 5.3373e-02, 3.8294e-02, 2.3216e-02, 8.1383e-03,\n",
       "         8.3325e-03, 8.5268e-03, 8.7210e-03, 6.9012e-03, 5.0814e-03, 5.4493e-03,\n",
       "         5.8171e-03, 6.2049e-03, 6.5928e-03, 6.9806e-03, 7.3685e-03, 5.8944e-03,\n",
       "         4.4204e-03, 2.9464e-03, 1.4724e-03, 2.3091e-03, 3.1459e-03, 3.9827e-03,\n",
       "         4.0127e-03, 4.0428e-03, 4.0729e-03, 3.8068e-03, 3.5408e-03, 3.8845e-03,\n",
       "         4.2282e-03, 4.5718e-03, 4.1870e-03, 3.8022e-03, 4.9299e-03, 4.6340e-03,\n",
       "         5.0081e-03, 3.1846e-03, 3.2524e-03, 3.3203e-03, 3.3881e-03, 3.4559e-03,\n",
       "         3.5237e-03, 3.5915e-03, 3.6593e-03, 3.7271e-03, 3.7949e-03, 3.0983e-03,\n",
       "         2.4016e-03, 2.4572e-03, 2.5128e-03, 2.5684e-03, 2.6240e-03, 4.2996e-03,\n",
       "         2.7740e-03, 2.6756e-03, 2.5771e-03, 2.4787e-03, 2.3803e-03, 2.2819e-03,\n",
       "         2.1834e-03, 1.8650e-03, 1.5465e-03, 3.5091e-03, 5.4716e-03, 3.7526e-03,\n",
       "         2.0336e-03, 3.1462e-04, 3.1462e-04, 3.1462e-04, 1.5590e-03, 2.8034e-03,\n",
       "         4.0478e-03, 4.2965e-03, 4.5451e-03, 4.7938e-03, 5.0425e-03, 5.2451e-03,\n",
       "         5.4476e-03, 4.9299e-03, 5.7686e-03, 7.8195e-03, 9.8704e-03, 5.0280e-03,\n",
       "         5.3089e-03, 5.5897e-03, 6.6351e-03, 7.6805e-03, 6.4070e-03, 5.7699e-03,\n",
       "         6.1415e-03, 6.5132e-03, 1.0782e-02, 1.0995e-02, 1.1208e-02, 1.1420e-02,\n",
       "         1.1633e-02, 1.4868e-02, 1.2438e-02, 1.0009e-02, 7.5791e-03, 8.1715e-03,\n",
       "         6.0019e-03, 3.8322e-03, 3.6956e-03, 3.5428e-03, 3.3900e-03, 3.2372e-03,\n",
       "         3.2427e-03, 3.2481e-03, 3.2535e-03, 3.2589e-03, 3.2643e-03, 3.2697e-03,\n",
       "         3.2752e-03, 3.4849e-03, 3.6946e-03, 4.2921e-03, 4.8895e-03, 5.5060e-03,\n",
       "         6.1226e-03, 6.7392e-03, 7.3557e-03, 3.8903e-03, 3.9271e-03, 3.9639e-03,\n",
       "         4.0382e-03, 4.1124e-03, 4.3514e-03, 4.5903e-03, 4.6270e-03, 4.6637e-03,\n",
       "         4.7003e-03, 4.8700e-03, 5.1586e-03, 5.4471e-03, 5.7357e-03, 5.9691e-03,\n",
       "         6.2025e-03, 6.4359e-03, 6.6693e-03],\n",
       "        [1.0333e-01, 1.0131e-01, 9.9286e-02, 9.7262e-02, 9.5238e-02, 9.3214e-02,\n",
       "         9.1190e-02, 8.9167e-02, 8.7143e-02, 8.5119e-02, 8.3095e-02, 8.1071e-02,\n",
       "         7.9048e-02, 7.7024e-02, 7.5000e-02, 7.2976e-02, 7.0952e-02, 6.8929e-02,\n",
       "         6.6905e-02, 6.4881e-02, 6.2857e-02, 6.0833e-02, 5.8810e-02, 5.6786e-02,\n",
       "         5.4762e-02, 5.2738e-02, 5.0714e-02, 4.8690e-02, 4.6667e-02, 4.8571e-02,\n",
       "         5.0476e-02, 5.2381e-02, 5.4286e-02, 5.6190e-02, 5.8095e-02, 6.0000e-02,\n",
       "         6.1389e-02, 6.2778e-02, 6.4167e-02, 6.5556e-02, 6.6944e-02, 6.8333e-02,\n",
       "         6.9722e-02, 7.1111e-02, 7.2500e-02, 7.3889e-02, 7.5278e-02, 7.6667e-02,\n",
       "         7.5556e-02, 7.4444e-02, 7.3333e-02, 9.3333e-02, 1.1333e-01, 1.3333e-01,\n",
       "         1.9333e-01, 2.5333e-01, 1.9167e-01, 1.3000e-01, 6.8333e-02, 6.6667e-03,\n",
       "         1.1667e-01, 2.2667e-01, 3.3667e-01, 2.6444e-01, 1.9222e-01, 1.2000e-01,\n",
       "         1.4556e-01, 1.7111e-01, 1.9667e-01, 1.8167e-01, 1.6667e-01, 1.8000e-01,\n",
       "         1.9333e-01, 2.0667e-01, 2.3500e-01, 2.6333e-01, 2.9167e-01, 3.2000e-01,\n",
       "         2.7444e-01, 2.2889e-01, 1.8333e-01, 2.8000e-01, 3.7667e-01, 3.0556e-01,\n",
       "         2.3444e-01, 1.6333e-01, 1.7556e-01, 1.8778e-01, 2.0000e-01, 2.0333e-01,\n",
       "         2.0667e-01, 2.1000e-01, 1.4667e-01, 1.8500e-01, 2.2333e-01, 5.6417e-01,\n",
       "         9.0500e-01, 1.2458e+00, 1.5867e+00, 1.1400e+00, 6.9333e-01, 2.4667e-01,\n",
       "         2.5333e-01, 2.6000e-01, 2.6667e-01, 2.1000e-01, 1.5333e-01, 1.6833e-01,\n",
       "         1.8333e-01, 1.9333e-01, 2.0333e-01, 2.1333e-01, 2.2333e-01, 1.7917e-01,\n",
       "         1.3500e-01, 9.0833e-02, 4.6667e-02, 7.1111e-02, 9.5556e-02, 1.2000e-01,\n",
       "         1.2333e-01, 1.2667e-01, 1.3000e-01, 1.2167e-01, 1.1333e-01, 1.2222e-01,\n",
       "         1.3111e-01, 1.4000e-01, 1.3000e-01, 1.2000e-01, 1.6000e-01, 1.4667e-01,\n",
       "         1.5000e-01, 9.6667e-02, 9.9630e-02, 1.0259e-01, 1.0556e-01, 1.0852e-01,\n",
       "         1.1148e-01, 1.1444e-01, 1.1741e-01, 1.2037e-01, 1.2333e-01, 9.6667e-02,\n",
       "         7.0000e-02, 7.2500e-02, 7.5000e-02, 7.7500e-02, 8.0000e-02, 1.2667e-01,\n",
       "         8.3333e-02, 8.0556e-02, 7.7778e-02, 7.5000e-02, 7.2222e-02, 6.9444e-02,\n",
       "         6.6667e-02, 5.6667e-02, 4.6667e-02, 1.0833e-01, 1.7000e-01, 1.1667e-01,\n",
       "         6.3333e-02, 1.0000e-02, 1.0000e-02, 1.0000e-02, 4.8889e-02, 8.7778e-02,\n",
       "         1.2667e-01, 1.3417e-01, 1.4167e-01, 1.4917e-01, 1.5667e-01, 1.5833e-01,\n",
       "         1.6000e-01, 1.6000e-01, 1.8000e-01, 2.4333e-01, 3.0667e-01, 1.5667e-01,\n",
       "         1.6667e-01, 1.7667e-01, 2.0833e-01, 2.4000e-01, 1.9333e-01, 1.7333e-01,\n",
       "         1.8333e-01, 1.9333e-01, 3.1667e-01, 3.2500e-01, 3.3333e-01, 3.4167e-01,\n",
       "         3.5000e-01, 4.3667e-01, 3.6667e-01, 2.9667e-01, 2.2667e-01, 2.4000e-01,\n",
       "         1.7833e-01, 1.1667e-01, 1.1333e-01, 1.0889e-01, 1.0444e-01, 1.0000e-01,\n",
       "         1.0000e-01, 1.0000e-01, 1.0000e-01, 1.0000e-01, 1.0000e-01, 1.0000e-01,\n",
       "         1.0000e-01, 1.0500e-01, 1.1000e-01, 1.2833e-01, 1.4667e-01, 1.6267e-01,\n",
       "         1.7867e-01, 1.9467e-01, 2.1067e-01, 1.2000e-01, 1.2167e-01, 1.2333e-01,\n",
       "         1.2500e-01, 1.2667e-01, 1.3167e-01, 1.3667e-01, 1.4000e-01, 1.4333e-01,\n",
       "         1.4667e-01, 1.5000e-01, 1.5889e-01, 1.6778e-01, 1.7667e-01, 1.8333e-01,\n",
       "         1.9000e-01, 1.9667e-01, 2.0333e-01],\n",
       "        [3.1963e+01, 3.1911e+01, 3.1858e+01, 3.1805e+01, 3.1753e+01, 3.1700e+01,\n",
       "         3.1647e+01, 3.1595e+01, 3.1542e+01, 3.1489e+01, 3.1436e+01, 3.1384e+01,\n",
       "         3.1331e+01, 3.1278e+01, 3.1226e+01, 3.1173e+01, 3.1120e+01, 3.1068e+01,\n",
       "         3.1015e+01, 3.0962e+01, 3.0910e+01, 3.0857e+01, 3.0804e+01, 3.0752e+01,\n",
       "         3.0699e+01, 3.0646e+01, 3.0594e+01, 3.0541e+01, 3.0488e+01, 3.0424e+01,\n",
       "         3.0360e+01, 3.0297e+01, 3.0233e+01, 3.0169e+01, 3.0105e+01, 3.0041e+01,\n",
       "         3.0171e+01, 3.0302e+01, 3.0432e+01, 3.0563e+01, 3.0693e+01, 3.0823e+01,\n",
       "         3.0954e+01, 3.1084e+01, 3.1215e+01, 3.1345e+01, 3.1475e+01, 3.1606e+01,\n",
       "         3.1233e+01, 3.0861e+01, 3.0488e+01, 3.0384e+01, 3.0280e+01, 3.0175e+01,\n",
       "         2.9616e+01, 2.9058e+01, 2.9058e+01, 2.9058e+01, 2.9058e+01, 2.9058e+01,\n",
       "         2.8700e+01, 2.8342e+01, 2.7985e+01, 2.8566e+01, 2.9147e+01, 2.9728e+01,\n",
       "         3.0324e+01, 3.0920e+01, 3.1516e+01, 3.1002e+01, 3.0488e+01, 3.0652e+01,\n",
       "         3.0816e+01, 3.0980e+01, 3.0265e+01, 2.9549e+01, 2.8834e+01, 2.8119e+01,\n",
       "         2.8745e+01, 2.9371e+01, 2.9996e+01, 3.1092e+01, 3.2187e+01, 3.1516e+01,\n",
       "         3.0846e+01, 3.0175e+01, 3.0086e+01, 2.9996e+01, 2.9907e+01, 3.0607e+01,\n",
       "         3.1308e+01, 3.2008e+01, 2.9773e+01, 2.9818e+01, 2.9862e+01, 2.9829e+01,\n",
       "         2.9795e+01, 2.9762e+01, 2.9728e+01, 2.9922e+01, 3.0116e+01, 3.0309e+01,\n",
       "         3.0399e+01, 3.0488e+01, 3.0578e+01, 3.0376e+01, 3.0175e+01, 3.0846e+01,\n",
       "         3.1516e+01, 3.1215e+01, 3.0913e+01, 3.0611e+01, 3.0309e+01, 3.0656e+01,\n",
       "         3.1002e+01, 3.1349e+01, 3.1695e+01, 3.1174e+01, 3.0652e+01, 3.0130e+01,\n",
       "         3.0727e+01, 3.1323e+01, 3.1919e+01, 3.1963e+01, 3.2008e+01, 3.1546e+01,\n",
       "         3.1084e+01, 3.0622e+01, 3.1092e+01, 3.1561e+01, 3.2455e+01, 3.1650e+01,\n",
       "         2.9952e+01, 3.0354e+01, 3.0592e+01, 3.0831e+01, 3.1069e+01, 3.1308e+01,\n",
       "         3.1546e+01, 3.1785e+01, 3.2023e+01, 3.2261e+01, 3.2500e+01, 3.0823e+01,\n",
       "         2.9147e+01, 2.9482e+01, 2.9818e+01, 3.0153e+01, 3.0488e+01, 2.9460e+01,\n",
       "         3.0041e+01, 3.0123e+01, 3.0205e+01, 3.0287e+01, 3.0369e+01, 3.0451e+01,\n",
       "         3.0533e+01, 3.0354e+01, 3.0175e+01, 3.0622e+01, 3.1069e+01, 3.1308e+01,\n",
       "         3.1546e+01, 3.1785e+01, 3.1785e+01, 3.1785e+01, 3.1621e+01, 3.1457e+01,\n",
       "         3.1293e+01, 3.1237e+01, 3.1181e+01, 3.1125e+01, 3.1069e+01, 3.0220e+01,\n",
       "         2.9371e+01, 3.2455e+01, 3.1203e+01, 3.1136e+01, 3.1069e+01, 3.1159e+01,\n",
       "         3.1382e+01, 3.1606e+01, 3.1427e+01, 3.1248e+01, 3.0175e+01, 3.0041e+01,\n",
       "         2.9862e+01, 2.9683e+01, 2.9371e+01, 2.9549e+01, 2.9728e+01, 2.9907e+01,\n",
       "         3.0086e+01, 2.9371e+01, 2.9549e+01, 2.9728e+01, 2.9907e+01, 2.9371e+01,\n",
       "         2.9907e+01, 3.0443e+01, 3.0667e+01, 3.0741e+01, 3.0816e+01, 3.0890e+01,\n",
       "         3.0839e+01, 3.0788e+01, 3.0737e+01, 3.0686e+01, 3.0635e+01, 3.0584e+01,\n",
       "         3.0533e+01, 3.0153e+01, 2.9773e+01, 2.9885e+01, 2.9996e+01, 2.9683e+01,\n",
       "         2.9371e+01, 2.9058e+01, 2.8745e+01, 3.0846e+01, 3.0980e+01, 3.1114e+01,\n",
       "         3.0958e+01, 3.0801e+01, 3.0287e+01, 2.9773e+01, 3.0250e+01, 3.0727e+01,\n",
       "         3.1203e+01, 3.0801e+01, 3.0801e+01, 3.0801e+01, 3.0801e+01, 3.0723e+01,\n",
       "         3.0645e+01, 3.0566e+01, 3.0488e+01]])"
      ]
     },
     "execution_count": 37,
     "metadata": {},
     "output_type": "execute_result"
    }
   ],
   "source": [
    "training_data_initial[0].float()"
   ]
  },
  {
   "cell_type": "code",
   "execution_count": 29,
   "id": "1d66efb5",
   "metadata": {},
   "outputs": [
    {
     "data": {
      "text/plain": [
       "tensor([[0.0032, 0.0015, 0.0020,  ..., 0.0049, 0.0057, 0.0067],\n",
       "        [0.0032, 0.0015, 0.0016,  ..., 0.0052, 0.0063, 0.0066],\n",
       "        [0.0039, 0.0020, 0.0023,  ..., 0.0038, 0.0059, 0.0065],\n",
       "        ...,\n",
       "        [0.0010, 0.0000, 0.0003,  ..., 0.0024, 0.0045, 0.0033],\n",
       "        [0.0016, 0.0005, 0.0010,  ..., 0.0023, 0.0040, 0.0032],\n",
       "        [0.0017, 0.0005, 0.0006,  ..., 0.0023, 0.0043, 0.0031]])"
      ]
     },
     "execution_count": 29,
     "metadata": {},
     "output_type": "execute_result"
    }
   ],
   "source": [
    "training_data[0][0]"
   ]
  },
  {
   "cell_type": "code",
   "execution_count": 34,
   "id": "9c35f8a2",
   "metadata": {},
   "outputs": [
    {
     "data": {
      "text/plain": [
       "tensor([0.0032, 0.0015, 0.0020, 0.0024, 0.0024, 0.0044, 0.0087, 0.0002, 0.0120,\n",
       "        0.0040, 0.0062, 0.0055, 0.0067, 0.0114, 0.0061, 0.0117, 0.0054, 0.0067,\n",
       "        0.0066, 0.0049, 0.0075, 0.0534, 0.0081, 0.0087, 0.0051, 0.0058, 0.0074,\n",
       "        0.0015, 0.0040, 0.0041, 0.0035, 0.0046, 0.0038, 0.0049, 0.0046, 0.0050,\n",
       "        0.0032, 0.0038, 0.0024, 0.0026, 0.0043, 0.0028, 0.0022, 0.0015, 0.0055,\n",
       "        0.0003, 0.0003, 0.0040, 0.0050, 0.0054, 0.0049, 0.0058, 0.0099, 0.0093,\n",
       "        0.0050, 0.0056, 0.0077, 0.0064, 0.0058, 0.0065, 0.0108, 0.0116, 0.0149,\n",
       "        0.0076, 0.0082, 0.0038, 0.0037, 0.0032, 0.0033, 0.0037, 0.0049, 0.0080,\n",
       "        0.0039, 0.0040, 0.0041, 0.0046, 0.0047, 0.0049, 0.0057, 0.0067])"
      ]
     },
     "execution_count": 34,
     "metadata": {},
     "output_type": "execute_result"
    }
   ],
   "source": [
    "training_data[0][0][0]"
   ]
  },
  {
   "cell_type": "code",
   "execution_count": 42,
   "id": "bef63474",
   "metadata": {},
   "outputs": [
    {
     "data": {
      "text/plain": [
       "tensor([0.1033, 0.0467, 0.0600, 0.0767, 0.0733, 0.1333, 0.2533, 0.0067, 0.3367,\n",
       "        0.1200, 0.1967, 0.1667, 0.2067, 0.3200, 0.1833, 0.3767, 0.1633, 0.2000,\n",
       "        0.2100, 0.1467, 0.2233, 1.5867, 0.2467, 0.2667, 0.1533, 0.1833, 0.2233,\n",
       "        0.0467, 0.1200, 0.1300, 0.1133, 0.1400, 0.1200, 0.1600, 0.1467, 0.1500,\n",
       "        0.0967, 0.1233, 0.0700, 0.0800, 0.1267, 0.0833, 0.0667, 0.0467, 0.1700,\n",
       "        0.0100, 0.0100, 0.1267, 0.1567, 0.1600, 0.1600, 0.1800, 0.3067, 0.2700,\n",
       "        0.1567, 0.1767, 0.2400, 0.1933, 0.1733, 0.1933, 0.3167, 0.3500, 0.4367,\n",
       "        0.2267, 0.2400, 0.1167, 0.1133, 0.1000, 0.1000, 0.1100, 0.1467, 0.2267,\n",
       "        0.1200, 0.1233, 0.1267, 0.1367, 0.1467, 0.1500, 0.1767, 0.2033])"
      ]
     },
     "execution_count": 42,
     "metadata": {},
     "output_type": "execute_result"
    }
   ],
   "source": [
    "training_data[0][1][0]"
   ]
  },
  {
   "cell_type": "code",
   "execution_count": 43,
   "id": "1f33a0e6",
   "metadata": {},
   "outputs": [
    {
     "data": {
      "text/plain": [
       "tensor([31.9634, 30.4881, 30.0411, 31.6057, 30.4881, 30.1752, 29.0576, 29.0576,\n",
       "        27.9847, 29.7282, 31.5163, 30.4881, 30.9799, 28.1188, 29.9964, 32.1869,\n",
       "        30.1752, 29.9070, 32.0081, 29.7729, 29.8623, 29.7282, 30.3093, 30.5775,\n",
       "        30.1752, 31.5163, 30.3093, 31.6951, 30.1305, 31.9187, 32.0081, 30.6222,\n",
       "        31.5610, 32.4551, 31.6504, 29.9517, 30.3540, 32.4998, 29.1470, 30.4881,\n",
       "        29.4599, 30.0411, 30.5328, 30.1752, 31.0693, 31.7845, 31.7845, 31.2928,\n",
       "        31.0693, 29.3705, 32.4551, 31.2034, 31.0693, 28.9235, 31.1587, 31.6057,\n",
       "        31.2481, 30.1752, 30.0411, 29.6835, 29.3705, 30.0858, 29.3705, 29.9070,\n",
       "        29.3705, 30.4434, 30.6669, 30.8905, 30.5328, 29.7729, 29.9964, 28.4317,\n",
       "        30.8458, 31.1140, 30.8011, 29.7729, 31.2034, 30.8011, 30.8011, 30.4881])"
      ]
     },
     "execution_count": 43,
     "metadata": {},
     "output_type": "execute_result"
    }
   ],
   "source": [
    "training_data[0][2][0]"
   ]
  },
  {
   "cell_type": "code",
   "execution_count": null,
   "id": "7200dc40",
   "metadata": {},
   "outputs": [],
   "source": []
  },
  {
   "cell_type": "code",
   "execution_count": null,
   "id": "54de1a56",
   "metadata": {},
   "outputs": [],
   "source": []
  },
  {
   "cell_type": "code",
   "execution_count": null,
   "id": "55ebecd3",
   "metadata": {},
   "outputs": [],
   "source": [
    "x = torch.load(\"data_space/training_time_initial.pt\").float()"
   ]
  }
 ],
 "metadata": {
  "kernelspec": {
   "display_name": "Python 3 (ipykernel)",
   "language": "python",
   "name": "python3"
  },
  "language_info": {
   "codemirror_mode": {
    "name": "ipython",
    "version": 3
   },
   "file_extension": ".py",
   "mimetype": "text/x-python",
   "name": "python",
   "nbconvert_exporter": "python",
   "pygments_lexer": "ipython3",
   "version": "3.9.6"
  }
 },
 "nbformat": 4,
 "nbformat_minor": 5
}
