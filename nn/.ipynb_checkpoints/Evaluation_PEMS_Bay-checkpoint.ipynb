{
 "cells": [
  {
   "cell_type": "code",
   "execution_count": 1,
   "id": "a1ee3b7e",
   "metadata": {},
   "outputs": [],
   "source": [
    "import torch\n",
    "import torch.nn as nn\n",
    "import numpy as np\n",
    "# from AutoODE import LWR_batch_version \n",
    "from DNN import Seq2Seq, Seq2Seq_Attn, LWRDataset, LWRDataset_res, train_LWR, eval_LWR, test_LWR, train_hybrid_LWR, eval_hybrid_LWR, test_hybrid_LWR \n",
    "# from AutoODE import LWR_batch_version, LWR_seq2seq "
   ]
  },
  {
   "cell_type": "code",
   "execution_count": 2,
   "id": "57104f75",
   "metadata": {},
   "outputs": [],
   "source": [
    "# load 3 trials \n",
    "\n",
    "trial_1 = torch.load(\"result_bay/FC/time/best_time_Auto-FC0.pt\", map_location=torch.device('cpu'))\n",
    "trial_2 = torch.load(\"result_bay/FC/time/best_time_Auto-FC1.pt\", map_location=torch.device('cpu'))\n",
    "trial_3 = torch.load(\"result_bay/FC/time/best_time_Auto-FC2.pt\", map_location=torch.device('cpu')) "
   ]
  },
  {
   "cell_type": "code",
   "execution_count": 27,
   "id": "c871cfde",
   "metadata": {},
   "outputs": [
    {
     "data": {
      "text/plain": [
       "tensor([ 2, 10, 12, 13, 14, 15, 18, 23, 26, 28, 30, 35, 37, 40, 49, 61, 72, 74,\n",
       "        75])"
      ]
     },
     "execution_count": 27,
     "metadata": {},
     "output_type": "execute_result"
    }
   ],
   "source": [
    "test_sensors = torch.tensor([3, 11, 13, 14, 15, 16, 19, 24, 27, 29, 31, 36, 38, 41, 50, 62,\n",
    "       73, 75, 76]) - 1  \n",
    "test_sensors "
   ]
  },
  {
   "cell_type": "code",
   "execution_count": 118,
   "id": "049aab53",
   "metadata": {},
   "outputs": [
    {
     "data": {
      "text/plain": [
       "LWR_seq2seq(\n",
       "  (LWR_model): LWR_batch_version()\n",
       "  (residual_model): Seq2Seq(\n",
       "    (encoder): Encoder(\n",
       "      (lstm): LSTM(231, 512, batch_first=True)\n",
       "    )\n",
       "    (decoder): Decoder(\n",
       "      (lstm): LSTM(231, 512, batch_first=True)\n",
       "      (out): Linear(in_features=512, out_features=231, bias=True)\n",
       "    )\n",
       "  )\n",
       ")"
      ]
     },
     "execution_count": 118,
     "metadata": {},
     "output_type": "execute_result"
    }
   ],
   "source": [
    "trial_1[\"model\"] "
   ]
  },
  {
   "cell_type": "code",
   "execution_count": 3,
   "id": "ae58ce3b",
   "metadata": {},
   "outputs": [],
   "source": [
    "preds = [torch.tensor(trial_1[\"preds\"]), torch.tensor(trial_2[\"preds\"]), torch.tensor(trial_3[\"preds\"])] \n",
    "trues = [torch.tensor(trial_1[\"trues\"]), torch.tensor(trial_2[\"trues\"]), torch.tensor(trial_3[\"trues\"])]\n",
    "\n",
    "# preds = [torch.tensor(trial_1[\"preds\"][:, :, :, test_sensors]), torch.tensor(trial_2[\"preds\"][:, :, :, test_sensors]), torch.tensor(trial_3[\"preds\"][:, :, :, test_sensors])] \n",
    "# trues = [torch.tensor(trial_1[\"trues\"][:, :, :, test_sensors]), torch.tensor(trial_2[\"trues\"][:, :, :, test_sensors]), torch.tensor(trial_3[\"trues\"][:, :, :, test_sensors])]"
   ]
  },
  {
   "cell_type": "code",
   "execution_count": 44,
   "id": "85b9ba3a",
   "metadata": {},
   "outputs": [
    {
     "name": "stdout",
     "output_type": "stream",
     "text": [
      "torch.Size([4218, 3, 12, 20])\n",
      "torch.Size([4218, 3, 12, 20])\n",
      "torch.Size([4218, 3, 12, 20])\n",
      "torch.Size([4218, 3, 12, 20])\n",
      "torch.Size([4218, 3, 12, 20])\n",
      "torch.Size([4218, 3, 12, 20])\n"
     ]
    }
   ],
   "source": [
    "## convert PINN prediction to 1-hour predictions \n",
    "\n",
    "# for i in range(3): \n",
    "#     pred = torch.tensor(preds[i]).reshape((10656, 78, 3)).permute(2, 0, 1) \n",
    "#     new_pred = []\n",
    "#     for j in range(10656 - 12): \n",
    "#         new_pred.append(pred[:, j:j + 12, :]) \n",
    "#     preds[i] = torch.stack(new_pred)\n",
    "#     print(preds[i].shape) \n",
    "    \n",
    "#     true = torch.tensor(trues[i]).reshape((10656, 78, 3)).permute(2, 0, 1) \n",
    "#     new_true = []\n",
    "#     for j in range(10656 - 12): \n",
    "#         new_true.append(true[:, j:j + 12, :]) \n",
    "#     trues[i] = torch.stack(new_true)\n",
    "#     print(trues[i].shape) \n",
    "\n",
    "# for i in range(3): \n",
    "#     pred = torch.tensor(preds[i]).reshape((10656, 78, 3)).permute(2, 0, 1) \n",
    "#     new_pred = []\n",
    "#     for j in range(10656//12): \n",
    "#         new_pred.append(pred[:, j * 12:(j + 1) * 12, :]) \n",
    "#     preds[i] = torch.stack(new_pred)\n",
    "#     print(preds[i].shape) \n",
    "    \n",
    "#     true = torch.tensor(trues[i]).reshape((10656, 78, 3)).permute(2, 0, 1) \n",
    "#     new_true = []\n",
    "#     for j in range(10656//12): \n",
    "#         new_true.append(true[:, j * 12:(j + 1) * 12, :]) \n",
    "#     trues[i] = torch.stack(new_true)\n",
    "#     print(trues[i].shape) \n",
    "\n",
    "# for i in range(3): \n",
    "#     pred = torch.tensor(preds[i]).reshape((50616, 20, 3)).permute(2, 0, 1) \n",
    "#     new_pred = []\n",
    "#     for j in range(50616 - 12): \n",
    "#         new_pred.append(pred[:, j:j + 12, :]) \n",
    "#     preds[i] = torch.stack(new_pred)\n",
    "#     print(preds[i].shape) \n",
    "    \n",
    "#     true = torch.tensor(trues[i]).reshape((50616, 20, 3)).permute(2, 0, 1) \n",
    "#     new_true = []\n",
    "#     for j in range(50616 - 12): \n",
    "#         new_true.append(true[:, j:j + 12, :]) \n",
    "#     trues[i] = torch.stack(new_true)\n",
    "#     print(trues[i].shape)\n",
    "    \n",
    "for i in range(3): \n",
    "    pred = torch.tensor(preds[i]).reshape((50616, 20, 3)).permute(2, 0, 1) \n",
    "    new_pred = []\n",
    "    for j in range(50616//12): \n",
    "        new_pred.append(pred[:, j * 12:(j + 1) * 12, :]) \n",
    "    preds[i] = torch.stack(new_pred)\n",
    "    print(preds[i].shape) \n",
    "    \n",
    "    true = torch.tensor(trues[i]).reshape((50616, 20, 3)).permute(2, 0, 1) \n",
    "    new_true = []\n",
    "    for j in range(50616//12): \n",
    "        new_true.append(true[:, j * 12:(j + 1) * 12, :]) \n",
    "    trues[i] = torch.stack(new_true)\n",
    "    print(trues[i].shape)"
   ]
  },
  {
   "cell_type": "code",
   "execution_count": 4,
   "id": "e740d478",
   "metadata": {},
   "outputs": [
    {
     "data": {
      "text/plain": [
       "(10421, 3, 12, 320)"
      ]
     },
     "execution_count": 4,
     "metadata": {},
     "output_type": "execute_result"
    }
   ],
   "source": [
    "trial_1[\"preds\"].shape # , trial_2[\"preds\"].shape, trial_3[\"preds\"].shape"
   ]
  },
  {
   "cell_type": "code",
   "execution_count": 15,
   "id": "a4d5dfb2",
   "metadata": {},
   "outputs": [],
   "source": [
    "# denormalization \n",
    "\n",
    "training_data = torch.load(\"data_time/training_time.pt\").float().cpu()\n",
    "test_data = torch.load(\"data_time/test_time.pt\").float().cpu()\n",
    "# training_data = torch.load(\"data_space/training_space.pt\").float().cpu()\n",
    "# test_data = torch.load(\"data_space/test_space.pt\").float().cpu()\n",
    "# data normalization and splitting \n",
    "# mean = torch.tensor([training_data[:, 0, :, :].mean(), training_data[:, 1, :, :].mean(), training_data[:, 2, :, :].mean()])\n",
    "# std = torch.tensor([training_data[:, 0, :, :].std(), training_data[:, 1, :, :].std(), training_data[:, 2, :, :].std()])"
   ]
  },
  {
   "cell_type": "code",
   "execution_count": 16,
   "id": "c69d62d6",
   "metadata": {},
   "outputs": [
    {
     "data": {
      "text/plain": [
       "(torch.Size([159768, 3, 24, 20]), torch.Size([53256, 3, 24, 20]))"
      ]
     },
     "execution_count": 16,
     "metadata": {},
     "output_type": "execute_result"
    }
   ],
   "source": [
    "training_data.shape, test_data.shape "
   ]
  },
  {
   "cell_type": "code",
   "execution_count": 17,
   "id": "d8523a44",
   "metadata": {},
   "outputs": [],
   "source": [
    "mean = torch.tensor([training_data[:, 0, :, :].mean(), training_data[:, 1, :, :].mean(), training_data[:, 2, :, :].mean()])\n",
    "std = torch.tensor([training_data[:, 0, :, :].std(), training_data[:, 1, :, :].std(), training_data[:, 2, :, :].std()]) \n",
    "\n",
    "mean_t = torch.tensor([test_data[:, 0, :, :].mean(), test_data[:, 1, :, :].mean(), test_data[:, 2, :, :].mean()])\n",
    "std_t = torch.tensor([test_data[:, 0, :, :].std(), test_data[:, 1, :, :].std(), test_data[:, 2, :, :].std()]) "
   ]
  },
  {
   "cell_type": "code",
   "execution_count": 18,
   "id": "cc49665e",
   "metadata": {},
   "outputs": [
    {
     "data": {
      "text/plain": [
       "(tensor([0.0344, 0.6091, 4.1930]), tensor([0.0280, 0.5729, 4.0482]))"
      ]
     },
     "execution_count": 18,
     "metadata": {},
     "output_type": "execute_result"
    }
   ],
   "source": [
    "std, std_t "
   ]
  },
  {
   "cell_type": "code",
   "execution_count": 19,
   "id": "c0d342e7",
   "metadata": {},
   "outputs": [],
   "source": [
    "def metric(pred, true, criterion, timestep): \n",
    "    loss_d = criterion(pred[:, 0, timestep, :], true[:, 0, timestep, :]).item() / std[0]\n",
    "    loss_f = criterion(pred[:, 1, timestep, :], true[:, 1, timestep, :]).item() / std[1]\n",
    "    loss_v = criterion(pred[:, 2, timestep, :], true[:, 2, timestep, :]).item() / std[2]\n",
    "\n",
    "    return (loss_d + loss_f + loss_v) / 3 "
   ]
  },
  {
   "cell_type": "code",
   "execution_count": 20,
   "id": "2e244964",
   "metadata": {},
   "outputs": [],
   "source": [
    "# calculate the loss for 15mins, 30mins, and 1 hr \n",
    "\n",
    "criterion = nn.MSELoss() \n",
    "loss_3 = [] # 3rd timestep \n",
    "loss_6 = [] # 6th timestep \n",
    "loss_12 = [] # 12th timestep \n",
    "\n",
    "for i in range(3): \n",
    "#     loss_3.append(np.sqrt(criterion(preds[i][:, :, 2, :], trues[i][:, :, 2, :]).item()))\n",
    "#     loss_6.append(np.sqrt(criterion(preds[i][:, :, 5, :], trues[i][:, :, 5, :]).item()))\n",
    "#     loss_12.append(np.sqrt(criterion(preds[i][:, :, -1, :], trues[i][:, :, -1, :]).item())) \n",
    "    loss_3.append(np.sqrt(metric(preds[i], trues[i], criterion, 2)))\n",
    "    loss_6.append(np.sqrt(metric(preds[i], trues[i], criterion, 5)))\n",
    "    loss_12.append(np.sqrt(metric(preds[i], trues[i], criterion, -1))) "
   ]
  },
  {
   "cell_type": "code",
   "execution_count": 21,
   "id": "c30617fa",
   "metadata": {},
   "outputs": [
    {
     "data": {
      "text/plain": [
       "([tensor(0.6495), tensor(0.6380), tensor(0.6582)],\n",
       " [tensor(0.7899), tensor(0.7963), tensor(0.8150)],\n",
       " [tensor(0.9790), tensor(0.9730), tensor(0.9674)])"
      ]
     },
     "execution_count": 21,
     "metadata": {},
     "output_type": "execute_result"
    }
   ],
   "source": [
    "loss_3, loss_6, loss_12 "
   ]
  },
  {
   "cell_type": "code",
   "execution_count": 22,
   "id": "dd640953",
   "metadata": {},
   "outputs": [
    {
     "data": {
      "text/plain": [
       "(0.6485854, 0.80039114, 0.97314173)"
      ]
     },
     "execution_count": 22,
     "metadata": {},
     "output_type": "execute_result"
    }
   ],
   "source": [
    "mean_3, mean_6, mean_12 = np.mean(loss_3), np.mean(loss_6), np.mean(loss_12)\n",
    "mean_3, mean_6, mean_12 "
   ]
  },
  {
   "cell_type": "code",
   "execution_count": 23,
   "id": "91c619e6",
   "metadata": {},
   "outputs": [
    {
     "data": {
      "text/plain": [
       "(0.0082762, 0.010675399, 0.0047505875)"
      ]
     },
     "execution_count": 23,
     "metadata": {},
     "output_type": "execute_result"
    }
   ],
   "source": [
    "std_3, std_6, std_12 = np.std(loss_3), np.std(loss_6), np.std(loss_12)\n",
    "std_3, std_6, std_12"
   ]
  },
  {
   "cell_type": "markdown",
   "id": "5fbc3a9c",
   "metadata": {},
   "source": [
    "### Generate Test Prediction and Save Results "
   ]
  },
  {
   "cell_type": "code",
   "execution_count": 54,
   "id": "ef44d5b0",
   "metadata": {},
   "outputs": [],
   "source": [
    "model = trial_1[\"model\"]"
   ]
  },
  {
   "cell_type": "code",
   "execution_count": 55,
   "id": "bd7b5f25",
   "metadata": {
    "scrolled": true
   },
   "outputs": [
    {
     "data": {
      "text/plain": [
       "LWR_batch_version()"
      ]
     },
     "execution_count": 55,
     "metadata": {},
     "output_type": "execute_result"
    }
   ],
   "source": [
    "model.to(\"cuda\")"
   ]
  },
  {
   "cell_type": "code",
   "execution_count": 12,
   "id": "d326d02f",
   "metadata": {},
   "outputs": [],
   "source": [
    "import torch\n",
    "import torch.nn as nn\n",
    "import numpy as np\n",
    "from torch.utils import data\n",
    "import time\n",
    "import os\n",
    "from DNN import Dataset, train_epoch, eval_epoch, eval_epoch_true, Latent_ODE "
   ]
  },
  {
   "cell_type": "code",
   "execution_count": 9,
   "id": "a2a087f9",
   "metadata": {},
   "outputs": [
    {
     "ename": "NameError",
     "evalue": "name 'test_norm' is not defined",
     "output_type": "error",
     "traceback": [
      "\u001b[1;31m---------------------------------------------------------------------------\u001b[0m",
      "\u001b[1;31mNameError\u001b[0m                                 Traceback (most recent call last)",
      "\u001b[1;32mC:\\Users\\STEPHE~1\\AppData\\Local\\Temp/ipykernel_16828/1215838037.py\u001b[0m in \u001b[0;36m<module>\u001b[1;34m\u001b[0m\n\u001b[0;32m      1\u001b[0m \u001b[0mdevice\u001b[0m \u001b[1;33m=\u001b[0m \u001b[1;34m\"cuda\"\u001b[0m\u001b[1;33m\u001b[0m\u001b[1;33m\u001b[0m\u001b[0m\n\u001b[1;32m----> 2\u001b[1;33m \u001b[0mtest_set\u001b[0m \u001b[1;33m=\u001b[0m \u001b[0mDataset\u001b[0m\u001b[1;33m(\u001b[0m\u001b[0mtest_norm\u001b[0m\u001b[1;33m)\u001b[0m\u001b[1;33m\u001b[0m\u001b[1;33m\u001b[0m\u001b[0m\n\u001b[0m\u001b[0;32m      3\u001b[0m \u001b[1;31m# test_loader1 = MultiEpochsDataLoader(test_set, batch_size=512, shuffle=False, num_workers=4, pin_memory=True)\u001b[0m\u001b[1;33m\u001b[0m\u001b[1;33m\u001b[0m\u001b[1;33m\u001b[0m\u001b[0m\n\u001b[0;32m      4\u001b[0m \u001b[1;31m# test_loader1 = CudaDataLoader(test_loader1, 'cuda')\u001b[0m\u001b[1;33m\u001b[0m\u001b[1;33m\u001b[0m\u001b[1;33m\u001b[0m\u001b[0m\n\u001b[0;32m      5\u001b[0m \u001b[1;31m# test_loader = DataPrefetcher(test_loader1)\u001b[0m\u001b[1;33m\u001b[0m\u001b[1;33m\u001b[0m\u001b[1;33m\u001b[0m\u001b[0m\n",
      "\u001b[1;31mNameError\u001b[0m: name 'test_norm' is not defined"
     ]
    }
   ],
   "source": [
    "device = \"cuda\" \n",
    "test_set = Dataset(test_norm) \n",
    "# test_loader1 = MultiEpochsDataLoader(test_set, batch_size=512, shuffle=False, num_workers=4, pin_memory=True) \n",
    "# test_loader1 = CudaDataLoader(test_loader1, 'cuda') \n",
    "# test_loader = DataPrefetcher(test_loader1) \n",
    "test_loader = data.DataLoader(test_set, batch_size=64, shuffle=False)\n",
    "# test_count = int(len(test_set) / 512)\n",
    "\n",
    "criterion = nn.MSELoss() "
   ]
  },
  {
   "cell_type": "code",
   "execution_count": 17,
   "id": "3cac3cc6",
   "metadata": {},
   "outputs": [
    {
     "name": "stdout",
     "output_type": "stream",
     "text": [
      "running batch 0\n"
     ]
    },
    {
     "ename": "KeyboardInterrupt",
     "evalue": "",
     "output_type": "error",
     "traceback": [
      "\u001b[1;31m---------------------------------------------------------------------------\u001b[0m",
      "\u001b[1;31mKeyboardInterrupt\u001b[0m                         Traceback (most recent call last)",
      "\u001b[1;32mC:\\Users\\STEPHE~1\\AppData\\Local\\Temp/ipykernel_114680/3416933329.py\u001b[0m in \u001b[0;36m<module>\u001b[1;34m\u001b[0m\n\u001b[1;32m----> 1\u001b[1;33m \u001b[0mpreds\u001b[0m\u001b[1;33m,\u001b[0m \u001b[0mtrues\u001b[0m\u001b[1;33m,\u001b[0m \u001b[0mtest_loss\u001b[0m \u001b[1;33m=\u001b[0m \u001b[0meval_epoch_true\u001b[0m\u001b[1;33m(\u001b[0m\u001b[0mmodel\u001b[0m\u001b[1;33m,\u001b[0m \u001b[0mtest_loader\u001b[0m\u001b[1;33m,\u001b[0m \u001b[0mcriterion\u001b[0m\u001b[1;33m,\u001b[0m \u001b[0mstd\u001b[0m\u001b[1;33m.\u001b[0m\u001b[0mto\u001b[0m\u001b[1;33m(\u001b[0m\u001b[0mdevice\u001b[0m\u001b[1;33m)\u001b[0m\u001b[1;33m,\u001b[0m \u001b[0mmean\u001b[0m\u001b[1;33m.\u001b[0m\u001b[0mto\u001b[0m\u001b[1;33m(\u001b[0m\u001b[0mdevice\u001b[0m\u001b[1;33m)\u001b[0m\u001b[1;33m)\u001b[0m\u001b[1;33m\u001b[0m\u001b[1;33m\u001b[0m\u001b[0m\n\u001b[0m",
      "\u001b[1;32m~\\Desktop\\AutoODE_PEMS_traffic\\nn\\DNN\\datasets.py\u001b[0m in \u001b[0;36meval_epoch_true\u001b[1;34m(model, val_loader, criterion, std, mean)\u001b[0m\n\u001b[0;32m    197\u001b[0m             \u001b[0mcount\u001b[0m \u001b[1;33m+=\u001b[0m \u001b[1;36m1\u001b[0m\u001b[1;33m\u001b[0m\u001b[1;33m\u001b[0m\u001b[0m\n\u001b[0;32m    198\u001b[0m             \u001b[0mX\u001b[0m\u001b[1;33m,\u001b[0m \u001b[0my\u001b[0m \u001b[1;33m=\u001b[0m \u001b[0mX\u001b[0m\u001b[1;33m.\u001b[0m\u001b[0mto\u001b[0m\u001b[1;33m(\u001b[0m\u001b[0mdevice\u001b[0m\u001b[1;33m)\u001b[0m\u001b[1;33m,\u001b[0m \u001b[0my\u001b[0m\u001b[1;33m.\u001b[0m\u001b[0mto\u001b[0m\u001b[1;33m(\u001b[0m\u001b[0mdevice\u001b[0m\u001b[1;33m)\u001b[0m\u001b[1;33m\u001b[0m\u001b[1;33m\u001b[0m\u001b[0m\n\u001b[1;32m--> 199\u001b[1;33m             \u001b[0mpred\u001b[0m \u001b[1;33m=\u001b[0m \u001b[0mmodel\u001b[0m\u001b[1;33m(\u001b[0m\u001b[0mX\u001b[0m\u001b[1;33m,\u001b[0m \u001b[1;36m12\u001b[0m\u001b[1;33m)\u001b[0m\u001b[1;33m\u001b[0m\u001b[1;33m\u001b[0m\u001b[0m\n\u001b[0m\u001b[0;32m    200\u001b[0m             \u001b[0mpred\u001b[0m\u001b[1;33m[\u001b[0m\u001b[1;33m:\u001b[0m\u001b[1;33m,\u001b[0m \u001b[1;36m0\u001b[0m\u001b[1;33m,\u001b[0m \u001b[1;33m:\u001b[0m\u001b[1;33m,\u001b[0m \u001b[1;33m:\u001b[0m\u001b[1;33m]\u001b[0m \u001b[1;33m=\u001b[0m \u001b[1;33m(\u001b[0m\u001b[0mpred\u001b[0m\u001b[1;33m[\u001b[0m\u001b[1;33m:\u001b[0m\u001b[1;33m,\u001b[0m \u001b[1;36m0\u001b[0m\u001b[1;33m,\u001b[0m \u001b[1;33m:\u001b[0m\u001b[1;33m,\u001b[0m \u001b[1;33m:\u001b[0m\u001b[1;33m]\u001b[0m \u001b[1;33m*\u001b[0m \u001b[0mstd\u001b[0m\u001b[1;33m[\u001b[0m\u001b[1;36m0\u001b[0m\u001b[1;33m]\u001b[0m \u001b[1;33m+\u001b[0m \u001b[0mmean\u001b[0m\u001b[1;33m[\u001b[0m\u001b[1;36m0\u001b[0m\u001b[1;33m]\u001b[0m\u001b[1;33m)\u001b[0m\u001b[1;33m\u001b[0m\u001b[1;33m\u001b[0m\u001b[0m\n\u001b[0;32m    201\u001b[0m             \u001b[0mpred\u001b[0m\u001b[1;33m[\u001b[0m\u001b[1;33m:\u001b[0m\u001b[1;33m,\u001b[0m \u001b[1;36m1\u001b[0m\u001b[1;33m,\u001b[0m \u001b[1;33m:\u001b[0m\u001b[1;33m,\u001b[0m \u001b[1;33m:\u001b[0m\u001b[1;33m]\u001b[0m \u001b[1;33m=\u001b[0m \u001b[1;33m(\u001b[0m\u001b[0mpred\u001b[0m\u001b[1;33m[\u001b[0m\u001b[1;33m:\u001b[0m\u001b[1;33m,\u001b[0m \u001b[1;36m1\u001b[0m\u001b[1;33m,\u001b[0m \u001b[1;33m:\u001b[0m\u001b[1;33m,\u001b[0m \u001b[1;33m:\u001b[0m\u001b[1;33m]\u001b[0m \u001b[1;33m*\u001b[0m \u001b[0mstd\u001b[0m\u001b[1;33m[\u001b[0m\u001b[1;36m1\u001b[0m\u001b[1;33m]\u001b[0m \u001b[1;33m+\u001b[0m \u001b[0mmean\u001b[0m\u001b[1;33m[\u001b[0m\u001b[1;36m1\u001b[0m\u001b[1;33m]\u001b[0m\u001b[1;33m)\u001b[0m\u001b[1;33m\u001b[0m\u001b[1;33m\u001b[0m\u001b[0m\n",
      "\u001b[1;32m~\\anaconda3\\envs\\env_pytorch\\lib\\site-packages\\torch\\nn\\modules\\module.py\u001b[0m in \u001b[0;36m_call_impl\u001b[1;34m(self, *input, **kwargs)\u001b[0m\n\u001b[0;32m   1049\u001b[0m         if not (self._backward_hooks or self._forward_hooks or self._forward_pre_hooks or _global_backward_hooks\n\u001b[0;32m   1050\u001b[0m                 or _global_forward_hooks or _global_forward_pre_hooks):\n\u001b[1;32m-> 1051\u001b[1;33m             \u001b[1;32mreturn\u001b[0m \u001b[0mforward_call\u001b[0m\u001b[1;33m(\u001b[0m\u001b[1;33m*\u001b[0m\u001b[0minput\u001b[0m\u001b[1;33m,\u001b[0m \u001b[1;33m**\u001b[0m\u001b[0mkwargs\u001b[0m\u001b[1;33m)\u001b[0m\u001b[1;33m\u001b[0m\u001b[1;33m\u001b[0m\u001b[0m\n\u001b[0m\u001b[0;32m   1052\u001b[0m         \u001b[1;31m# Do not call functions when jit is used\u001b[0m\u001b[1;33m\u001b[0m\u001b[1;33m\u001b[0m\u001b[1;33m\u001b[0m\u001b[0m\n\u001b[0;32m   1053\u001b[0m         \u001b[0mfull_backward_hooks\u001b[0m\u001b[1;33m,\u001b[0m \u001b[0mnon_full_backward_hooks\u001b[0m \u001b[1;33m=\u001b[0m \u001b[1;33m[\u001b[0m\u001b[1;33m]\u001b[0m\u001b[1;33m,\u001b[0m \u001b[1;33m[\u001b[0m\u001b[1;33m]\u001b[0m\u001b[1;33m\u001b[0m\u001b[1;33m\u001b[0m\u001b[0m\n",
      "\u001b[1;32m~\\Desktop\\AutoODE_PEMS_traffic\\nn\\DNN\\Latent_ODE.py\u001b[0m in \u001b[0;36mforward\u001b[1;34m(self, x, output_length)\u001b[0m\n\u001b[0;32m     22\u001b[0m \u001b[1;31m#         print(torch.flip(xx, [1]).shape)\u001b[0m\u001b[1;33m\u001b[0m\u001b[1;33m\u001b[0m\u001b[1;33m\u001b[0m\u001b[0m\n\u001b[0;32m     23\u001b[0m         \u001b[0mz0\u001b[0m \u001b[1;33m=\u001b[0m \u001b[0mself\u001b[0m\u001b[1;33m.\u001b[0m\u001b[0mrec\u001b[0m\u001b[1;33m.\u001b[0m\u001b[0mforward\u001b[0m\u001b[1;33m(\u001b[0m\u001b[0mtorch\u001b[0m\u001b[1;33m.\u001b[0m\u001b[0mflip\u001b[0m\u001b[1;33m(\u001b[0m\u001b[0mx\u001b[0m\u001b[1;33m,\u001b[0m \u001b[1;33m[\u001b[0m\u001b[1;36m1\u001b[0m\u001b[1;33m]\u001b[0m\u001b[1;33m)\u001b[0m\u001b[1;33m)\u001b[0m\u001b[1;33m\u001b[0m\u001b[1;33m\u001b[0m\u001b[0m\n\u001b[1;32m---> 24\u001b[1;33m         \u001b[0mpred_z\u001b[0m \u001b[1;33m=\u001b[0m \u001b[0modeint\u001b[0m\u001b[1;33m(\u001b[0m\u001b[0mself\u001b[0m\u001b[1;33m.\u001b[0m\u001b[0mfunc\u001b[0m\u001b[1;33m,\u001b[0m \u001b[0mz0\u001b[0m\u001b[1;33m,\u001b[0m \u001b[0mtime_steps\u001b[0m\u001b[1;33m)\u001b[0m\u001b[1;33m.\u001b[0m\u001b[0mpermute\u001b[0m\u001b[1;33m(\u001b[0m\u001b[1;36m1\u001b[0m\u001b[1;33m,\u001b[0m \u001b[1;36m0\u001b[0m\u001b[1;33m,\u001b[0m \u001b[1;36m2\u001b[0m\u001b[1;33m)\u001b[0m\u001b[1;33m\u001b[0m\u001b[1;33m\u001b[0m\u001b[0m\n\u001b[0m\u001b[0;32m     25\u001b[0m         \u001b[0mout\u001b[0m \u001b[1;33m=\u001b[0m \u001b[0mself\u001b[0m\u001b[1;33m.\u001b[0m\u001b[0mdec\u001b[0m\u001b[1;33m(\u001b[0m\u001b[0mpred_z\u001b[0m\u001b[1;33m)\u001b[0m\u001b[1;33m\u001b[0m\u001b[1;33m\u001b[0m\u001b[0m\n\u001b[0;32m     26\u001b[0m         \u001b[0mout\u001b[0m \u001b[1;33m=\u001b[0m \u001b[0mout\u001b[0m\u001b[1;33m.\u001b[0m\u001b[0mreshape\u001b[0m\u001b[1;33m(\u001b[0m\u001b[1;33m(\u001b[0m\u001b[0mbatch_size\u001b[0m\u001b[1;33m,\u001b[0m \u001b[0moutput_length\u001b[0m\u001b[1;33m,\u001b[0m \u001b[1;36m3\u001b[0m\u001b[1;33m,\u001b[0m \u001b[1;33m-\u001b[0m\u001b[1;36m1\u001b[0m\u001b[1;33m)\u001b[0m\u001b[1;33m)\u001b[0m\u001b[1;33m\u001b[0m\u001b[1;33m\u001b[0m\u001b[0m\n",
      "\u001b[1;32m~\\anaconda3\\envs\\env_pytorch\\lib\\site-packages\\torchdiffeq\\_impl\\odeint.py\u001b[0m in \u001b[0;36modeint\u001b[1;34m(func, y0, t, rtol, atol, method, options, event_fn)\u001b[0m\n\u001b[0;32m     75\u001b[0m \u001b[1;33m\u001b[0m\u001b[0m\n\u001b[0;32m     76\u001b[0m     \u001b[1;32mif\u001b[0m \u001b[0mevent_fn\u001b[0m \u001b[1;32mis\u001b[0m \u001b[1;32mNone\u001b[0m\u001b[1;33m:\u001b[0m\u001b[1;33m\u001b[0m\u001b[1;33m\u001b[0m\u001b[0m\n\u001b[1;32m---> 77\u001b[1;33m         \u001b[0msolution\u001b[0m \u001b[1;33m=\u001b[0m \u001b[0msolver\u001b[0m\u001b[1;33m.\u001b[0m\u001b[0mintegrate\u001b[0m\u001b[1;33m(\u001b[0m\u001b[0mt\u001b[0m\u001b[1;33m)\u001b[0m\u001b[1;33m\u001b[0m\u001b[1;33m\u001b[0m\u001b[0m\n\u001b[0m\u001b[0;32m     78\u001b[0m     \u001b[1;32melse\u001b[0m\u001b[1;33m:\u001b[0m\u001b[1;33m\u001b[0m\u001b[1;33m\u001b[0m\u001b[0m\n\u001b[0;32m     79\u001b[0m         \u001b[0mevent_t\u001b[0m\u001b[1;33m,\u001b[0m \u001b[0msolution\u001b[0m \u001b[1;33m=\u001b[0m \u001b[0msolver\u001b[0m\u001b[1;33m.\u001b[0m\u001b[0mintegrate_until_event\u001b[0m\u001b[1;33m(\u001b[0m\u001b[0mt\u001b[0m\u001b[1;33m[\u001b[0m\u001b[1;36m0\u001b[0m\u001b[1;33m]\u001b[0m\u001b[1;33m,\u001b[0m \u001b[0mevent_fn\u001b[0m\u001b[1;33m)\u001b[0m\u001b[1;33m\u001b[0m\u001b[1;33m\u001b[0m\u001b[0m\n",
      "\u001b[1;32m~\\anaconda3\\envs\\env_pytorch\\lib\\site-packages\\torchdiffeq\\_impl\\solvers.py\u001b[0m in \u001b[0;36mintegrate\u001b[1;34m(self, t)\u001b[0m\n\u001b[0;32m     28\u001b[0m         \u001b[0mself\u001b[0m\u001b[1;33m.\u001b[0m\u001b[0m_before_integrate\u001b[0m\u001b[1;33m(\u001b[0m\u001b[0mt\u001b[0m\u001b[1;33m)\u001b[0m\u001b[1;33m\u001b[0m\u001b[1;33m\u001b[0m\u001b[0m\n\u001b[0;32m     29\u001b[0m         \u001b[1;32mfor\u001b[0m \u001b[0mi\u001b[0m \u001b[1;32min\u001b[0m \u001b[0mrange\u001b[0m\u001b[1;33m(\u001b[0m\u001b[1;36m1\u001b[0m\u001b[1;33m,\u001b[0m \u001b[0mlen\u001b[0m\u001b[1;33m(\u001b[0m\u001b[0mt\u001b[0m\u001b[1;33m)\u001b[0m\u001b[1;33m)\u001b[0m\u001b[1;33m:\u001b[0m\u001b[1;33m\u001b[0m\u001b[1;33m\u001b[0m\u001b[0m\n\u001b[1;32m---> 30\u001b[1;33m             \u001b[0msolution\u001b[0m\u001b[1;33m[\u001b[0m\u001b[0mi\u001b[0m\u001b[1;33m]\u001b[0m \u001b[1;33m=\u001b[0m \u001b[0mself\u001b[0m\u001b[1;33m.\u001b[0m\u001b[0m_advance\u001b[0m\u001b[1;33m(\u001b[0m\u001b[0mt\u001b[0m\u001b[1;33m[\u001b[0m\u001b[0mi\u001b[0m\u001b[1;33m]\u001b[0m\u001b[1;33m)\u001b[0m\u001b[1;33m\u001b[0m\u001b[1;33m\u001b[0m\u001b[0m\n\u001b[0m\u001b[0;32m     31\u001b[0m         \u001b[1;32mreturn\u001b[0m \u001b[0msolution\u001b[0m\u001b[1;33m\u001b[0m\u001b[1;33m\u001b[0m\u001b[0m\n\u001b[0;32m     32\u001b[0m \u001b[1;33m\u001b[0m\u001b[0m\n",
      "\u001b[1;32m~\\anaconda3\\envs\\env_pytorch\\lib\\site-packages\\torchdiffeq\\_impl\\rk_common.py\u001b[0m in \u001b[0;36m_advance\u001b[1;34m(self, next_t)\u001b[0m\n\u001b[0;32m    192\u001b[0m         \u001b[1;32mwhile\u001b[0m \u001b[0mnext_t\u001b[0m \u001b[1;33m>\u001b[0m \u001b[0mself\u001b[0m\u001b[1;33m.\u001b[0m\u001b[0mrk_state\u001b[0m\u001b[1;33m.\u001b[0m\u001b[0mt1\u001b[0m\u001b[1;33m:\u001b[0m\u001b[1;33m\u001b[0m\u001b[1;33m\u001b[0m\u001b[0m\n\u001b[0;32m    193\u001b[0m             \u001b[1;32massert\u001b[0m \u001b[0mn_steps\u001b[0m \u001b[1;33m<\u001b[0m \u001b[0mself\u001b[0m\u001b[1;33m.\u001b[0m\u001b[0mmax_num_steps\u001b[0m\u001b[1;33m,\u001b[0m \u001b[1;34m'max_num_steps exceeded ({}>={})'\u001b[0m\u001b[1;33m.\u001b[0m\u001b[0mformat\u001b[0m\u001b[1;33m(\u001b[0m\u001b[0mn_steps\u001b[0m\u001b[1;33m,\u001b[0m \u001b[0mself\u001b[0m\u001b[1;33m.\u001b[0m\u001b[0mmax_num_steps\u001b[0m\u001b[1;33m)\u001b[0m\u001b[1;33m\u001b[0m\u001b[1;33m\u001b[0m\u001b[0m\n\u001b[1;32m--> 194\u001b[1;33m             \u001b[0mself\u001b[0m\u001b[1;33m.\u001b[0m\u001b[0mrk_state\u001b[0m \u001b[1;33m=\u001b[0m \u001b[0mself\u001b[0m\u001b[1;33m.\u001b[0m\u001b[0m_adaptive_step\u001b[0m\u001b[1;33m(\u001b[0m\u001b[0mself\u001b[0m\u001b[1;33m.\u001b[0m\u001b[0mrk_state\u001b[0m\u001b[1;33m)\u001b[0m\u001b[1;33m\u001b[0m\u001b[1;33m\u001b[0m\u001b[0m\n\u001b[0m\u001b[0;32m    195\u001b[0m             \u001b[0mn_steps\u001b[0m \u001b[1;33m+=\u001b[0m \u001b[1;36m1\u001b[0m\u001b[1;33m\u001b[0m\u001b[1;33m\u001b[0m\u001b[0m\n\u001b[0;32m    196\u001b[0m         \u001b[1;32mreturn\u001b[0m \u001b[0m_interp_evaluate\u001b[0m\u001b[1;33m(\u001b[0m\u001b[0mself\u001b[0m\u001b[1;33m.\u001b[0m\u001b[0mrk_state\u001b[0m\u001b[1;33m.\u001b[0m\u001b[0minterp_coeff\u001b[0m\u001b[1;33m,\u001b[0m \u001b[0mself\u001b[0m\u001b[1;33m.\u001b[0m\u001b[0mrk_state\u001b[0m\u001b[1;33m.\u001b[0m\u001b[0mt0\u001b[0m\u001b[1;33m,\u001b[0m \u001b[0mself\u001b[0m\u001b[1;33m.\u001b[0m\u001b[0mrk_state\u001b[0m\u001b[1;33m.\u001b[0m\u001b[0mt1\u001b[0m\u001b[1;33m,\u001b[0m \u001b[0mnext_t\u001b[0m\u001b[1;33m)\u001b[0m\u001b[1;33m\u001b[0m\u001b[1;33m\u001b[0m\u001b[0m\n",
      "\u001b[1;32m~\\anaconda3\\envs\\env_pytorch\\lib\\site-packages\\torchdiffeq\\_impl\\rk_common.py\u001b[0m in \u001b[0;36m_adaptive_step\u001b[1;34m(self, rk_state)\u001b[0m\n\u001b[0;32m    253\u001b[0m         \u001b[1;31m# trigger both. (i.e. interleaving them would be wrong.)\u001b[0m\u001b[1;33m\u001b[0m\u001b[1;33m\u001b[0m\u001b[1;33m\u001b[0m\u001b[0m\n\u001b[0;32m    254\u001b[0m \u001b[1;33m\u001b[0m\u001b[0m\n\u001b[1;32m--> 255\u001b[1;33m         \u001b[0my1\u001b[0m\u001b[1;33m,\u001b[0m \u001b[0mf1\u001b[0m\u001b[1;33m,\u001b[0m \u001b[0my1_error\u001b[0m\u001b[1;33m,\u001b[0m \u001b[0mk\u001b[0m \u001b[1;33m=\u001b[0m \u001b[0m_runge_kutta_step\u001b[0m\u001b[1;33m(\u001b[0m\u001b[0mself\u001b[0m\u001b[1;33m.\u001b[0m\u001b[0mfunc\u001b[0m\u001b[1;33m,\u001b[0m \u001b[0my0\u001b[0m\u001b[1;33m,\u001b[0m \u001b[0mf0\u001b[0m\u001b[1;33m,\u001b[0m \u001b[0mt0\u001b[0m\u001b[1;33m,\u001b[0m \u001b[0mdt\u001b[0m\u001b[1;33m,\u001b[0m \u001b[0mt1\u001b[0m\u001b[1;33m,\u001b[0m \u001b[0mtableau\u001b[0m\u001b[1;33m=\u001b[0m\u001b[0mself\u001b[0m\u001b[1;33m.\u001b[0m\u001b[0mtableau\u001b[0m\u001b[1;33m)\u001b[0m\u001b[1;33m\u001b[0m\u001b[1;33m\u001b[0m\u001b[0m\n\u001b[0m\u001b[0;32m    256\u001b[0m         \u001b[1;31m# dtypes:\u001b[0m\u001b[1;33m\u001b[0m\u001b[1;33m\u001b[0m\u001b[1;33m\u001b[0m\u001b[0m\n\u001b[0;32m    257\u001b[0m         \u001b[1;31m# y1.dtype == self.y0.dtype\u001b[0m\u001b[1;33m\u001b[0m\u001b[1;33m\u001b[0m\u001b[1;33m\u001b[0m\u001b[0m\n",
      "\u001b[1;32m~\\anaconda3\\envs\\env_pytorch\\lib\\site-packages\\torchdiffeq\\_impl\\rk_common.py\u001b[0m in \u001b[0;36m_runge_kutta_step\u001b[1;34m(func, y0, f0, t0, dt, t1, tableau)\u001b[0m\n\u001b[0;32m     74\u001b[0m             \u001b[0mperturb\u001b[0m \u001b[1;33m=\u001b[0m \u001b[0mPerturb\u001b[0m\u001b[1;33m.\u001b[0m\u001b[0mNONE\u001b[0m\u001b[1;33m\u001b[0m\u001b[1;33m\u001b[0m\u001b[0m\n\u001b[0;32m     75\u001b[0m         \u001b[0myi\u001b[0m \u001b[1;33m=\u001b[0m \u001b[0my0\u001b[0m \u001b[1;33m+\u001b[0m \u001b[0mk\u001b[0m\u001b[1;33m[\u001b[0m\u001b[1;33m...\u001b[0m\u001b[1;33m,\u001b[0m \u001b[1;33m:\u001b[0m\u001b[0mi\u001b[0m \u001b[1;33m+\u001b[0m \u001b[1;36m1\u001b[0m\u001b[1;33m]\u001b[0m\u001b[1;33m.\u001b[0m\u001b[0mmatmul\u001b[0m\u001b[1;33m(\u001b[0m\u001b[0mbeta_i\u001b[0m \u001b[1;33m*\u001b[0m \u001b[0mdt\u001b[0m\u001b[1;33m)\u001b[0m\u001b[1;33m.\u001b[0m\u001b[0mview_as\u001b[0m\u001b[1;33m(\u001b[0m\u001b[0mf0\u001b[0m\u001b[1;33m)\u001b[0m\u001b[1;33m\u001b[0m\u001b[1;33m\u001b[0m\u001b[0m\n\u001b[1;32m---> 76\u001b[1;33m         \u001b[0mf\u001b[0m \u001b[1;33m=\u001b[0m \u001b[0mfunc\u001b[0m\u001b[1;33m(\u001b[0m\u001b[0mti\u001b[0m\u001b[1;33m,\u001b[0m \u001b[0myi\u001b[0m\u001b[1;33m,\u001b[0m \u001b[0mperturb\u001b[0m\u001b[1;33m=\u001b[0m\u001b[0mperturb\u001b[0m\u001b[1;33m)\u001b[0m\u001b[1;33m\u001b[0m\u001b[1;33m\u001b[0m\u001b[0m\n\u001b[0m\u001b[0;32m     77\u001b[0m         \u001b[0mk\u001b[0m \u001b[1;33m=\u001b[0m \u001b[0m_UncheckedAssign\u001b[0m\u001b[1;33m.\u001b[0m\u001b[0mapply\u001b[0m\u001b[1;33m(\u001b[0m\u001b[0mk\u001b[0m\u001b[1;33m,\u001b[0m \u001b[0mf\u001b[0m\u001b[1;33m,\u001b[0m \u001b[1;33m(\u001b[0m\u001b[1;33m...\u001b[0m\u001b[1;33m,\u001b[0m \u001b[0mi\u001b[0m \u001b[1;33m+\u001b[0m \u001b[1;36m1\u001b[0m\u001b[1;33m)\u001b[0m\u001b[1;33m)\u001b[0m\u001b[1;33m\u001b[0m\u001b[1;33m\u001b[0m\u001b[0m\n\u001b[0;32m     78\u001b[0m \u001b[1;33m\u001b[0m\u001b[0m\n",
      "\u001b[1;32m~\\anaconda3\\envs\\env_pytorch\\lib\\site-packages\\torch\\nn\\modules\\module.py\u001b[0m in \u001b[0;36m_call_impl\u001b[1;34m(self, *input, **kwargs)\u001b[0m\n\u001b[0;32m   1049\u001b[0m         if not (self._backward_hooks or self._forward_hooks or self._forward_pre_hooks or _global_backward_hooks\n\u001b[0;32m   1050\u001b[0m                 or _global_forward_hooks or _global_forward_pre_hooks):\n\u001b[1;32m-> 1051\u001b[1;33m             \u001b[1;32mreturn\u001b[0m \u001b[0mforward_call\u001b[0m\u001b[1;33m(\u001b[0m\u001b[1;33m*\u001b[0m\u001b[0minput\u001b[0m\u001b[1;33m,\u001b[0m \u001b[1;33m**\u001b[0m\u001b[0mkwargs\u001b[0m\u001b[1;33m)\u001b[0m\u001b[1;33m\u001b[0m\u001b[1;33m\u001b[0m\u001b[0m\n\u001b[0m\u001b[0;32m   1052\u001b[0m         \u001b[1;31m# Do not call functions when jit is used\u001b[0m\u001b[1;33m\u001b[0m\u001b[1;33m\u001b[0m\u001b[1;33m\u001b[0m\u001b[0m\n\u001b[0;32m   1053\u001b[0m         \u001b[0mfull_backward_hooks\u001b[0m\u001b[1;33m,\u001b[0m \u001b[0mnon_full_backward_hooks\u001b[0m \u001b[1;33m=\u001b[0m \u001b[1;33m[\u001b[0m\u001b[1;33m]\u001b[0m\u001b[1;33m,\u001b[0m \u001b[1;33m[\u001b[0m\u001b[1;33m]\u001b[0m\u001b[1;33m\u001b[0m\u001b[1;33m\u001b[0m\u001b[0m\n",
      "\u001b[1;32m~\\anaconda3\\envs\\env_pytorch\\lib\\site-packages\\torchdiffeq\\_impl\\misc.py\u001b[0m in \u001b[0;36mforward\u001b[1;34m(self, t, y, perturb)\u001b[0m\n\u001b[0;32m    187\u001b[0m             \u001b[1;31m# Do nothing.\u001b[0m\u001b[1;33m\u001b[0m\u001b[1;33m\u001b[0m\u001b[1;33m\u001b[0m\u001b[0m\n\u001b[0;32m    188\u001b[0m             \u001b[1;32mpass\u001b[0m\u001b[1;33m\u001b[0m\u001b[1;33m\u001b[0m\u001b[0m\n\u001b[1;32m--> 189\u001b[1;33m         \u001b[1;32mreturn\u001b[0m \u001b[0mself\u001b[0m\u001b[1;33m.\u001b[0m\u001b[0mbase_func\u001b[0m\u001b[1;33m(\u001b[0m\u001b[0mt\u001b[0m\u001b[1;33m,\u001b[0m \u001b[0my\u001b[0m\u001b[1;33m)\u001b[0m\u001b[1;33m\u001b[0m\u001b[1;33m\u001b[0m\u001b[0m\n\u001b[0m\u001b[0;32m    190\u001b[0m \u001b[1;33m\u001b[0m\u001b[0m\n\u001b[0;32m    191\u001b[0m \u001b[1;33m\u001b[0m\u001b[0m\n",
      "\u001b[1;32m~\\anaconda3\\envs\\env_pytorch\\lib\\site-packages\\torch\\nn\\modules\\module.py\u001b[0m in \u001b[0;36m_call_impl\u001b[1;34m(self, *input, **kwargs)\u001b[0m\n\u001b[0;32m   1049\u001b[0m         if not (self._backward_hooks or self._forward_hooks or self._forward_pre_hooks or _global_backward_hooks\n\u001b[0;32m   1050\u001b[0m                 or _global_forward_hooks or _global_forward_pre_hooks):\n\u001b[1;32m-> 1051\u001b[1;33m             \u001b[1;32mreturn\u001b[0m \u001b[0mforward_call\u001b[0m\u001b[1;33m(\u001b[0m\u001b[1;33m*\u001b[0m\u001b[0minput\u001b[0m\u001b[1;33m,\u001b[0m \u001b[1;33m**\u001b[0m\u001b[0mkwargs\u001b[0m\u001b[1;33m)\u001b[0m\u001b[1;33m\u001b[0m\u001b[1;33m\u001b[0m\u001b[0m\n\u001b[0m\u001b[0;32m   1052\u001b[0m         \u001b[1;31m# Do not call functions when jit is used\u001b[0m\u001b[1;33m\u001b[0m\u001b[1;33m\u001b[0m\u001b[1;33m\u001b[0m\u001b[0m\n\u001b[0;32m   1053\u001b[0m         \u001b[0mfull_backward_hooks\u001b[0m\u001b[1;33m,\u001b[0m \u001b[0mnon_full_backward_hooks\u001b[0m \u001b[1;33m=\u001b[0m \u001b[1;33m[\u001b[0m\u001b[1;33m]\u001b[0m\u001b[1;33m,\u001b[0m \u001b[1;33m[\u001b[0m\u001b[1;33m]\u001b[0m\u001b[1;33m\u001b[0m\u001b[1;33m\u001b[0m\u001b[0m\n",
      "\u001b[1;32m~\\Desktop\\AutoODE_PEMS_traffic\\nn\\DNN\\Latent_ODE.py\u001b[0m in \u001b[0;36mforward\u001b[1;34m(self, t, x)\u001b[0m\n\u001b[0;32m     47\u001b[0m     \u001b[1;32mdef\u001b[0m \u001b[0mforward\u001b[0m\u001b[1;33m(\u001b[0m\u001b[0mself\u001b[0m\u001b[1;33m,\u001b[0m \u001b[0mt\u001b[0m\u001b[1;33m,\u001b[0m \u001b[0mx\u001b[0m\u001b[1;33m)\u001b[0m\u001b[1;33m:\u001b[0m\u001b[1;33m\u001b[0m\u001b[1;33m\u001b[0m\u001b[0m\n\u001b[0;32m     48\u001b[0m         \u001b[0mself\u001b[0m\u001b[1;33m.\u001b[0m\u001b[0mnfe\u001b[0m \u001b[1;33m+=\u001b[0m \u001b[1;36m1\u001b[0m\u001b[1;33m\u001b[0m\u001b[1;33m\u001b[0m\u001b[0m\n\u001b[1;32m---> 49\u001b[1;33m         \u001b[0mout\u001b[0m \u001b[1;33m=\u001b[0m \u001b[0mself\u001b[0m\u001b[1;33m.\u001b[0m\u001b[0mmodel\u001b[0m\u001b[1;33m(\u001b[0m\u001b[0mx\u001b[0m\u001b[1;33m)\u001b[0m\u001b[1;33m\u001b[0m\u001b[1;33m\u001b[0m\u001b[0m\n\u001b[0m\u001b[0;32m     50\u001b[0m         \u001b[1;32mreturn\u001b[0m \u001b[0mout\u001b[0m\u001b[1;33m\u001b[0m\u001b[1;33m\u001b[0m\u001b[0m\n\u001b[0;32m     51\u001b[0m \u001b[1;33m\u001b[0m\u001b[0m\n",
      "\u001b[1;32m~\\anaconda3\\envs\\env_pytorch\\lib\\site-packages\\torch\\nn\\modules\\module.py\u001b[0m in \u001b[0;36m_call_impl\u001b[1;34m(self, *input, **kwargs)\u001b[0m\n\u001b[0;32m   1049\u001b[0m         if not (self._backward_hooks or self._forward_hooks or self._forward_pre_hooks or _global_backward_hooks\n\u001b[0;32m   1050\u001b[0m                 or _global_forward_hooks or _global_forward_pre_hooks):\n\u001b[1;32m-> 1051\u001b[1;33m             \u001b[1;32mreturn\u001b[0m \u001b[0mforward_call\u001b[0m\u001b[1;33m(\u001b[0m\u001b[1;33m*\u001b[0m\u001b[0minput\u001b[0m\u001b[1;33m,\u001b[0m \u001b[1;33m**\u001b[0m\u001b[0mkwargs\u001b[0m\u001b[1;33m)\u001b[0m\u001b[1;33m\u001b[0m\u001b[1;33m\u001b[0m\u001b[0m\n\u001b[0m\u001b[0;32m   1052\u001b[0m         \u001b[1;31m# Do not call functions when jit is used\u001b[0m\u001b[1;33m\u001b[0m\u001b[1;33m\u001b[0m\u001b[1;33m\u001b[0m\u001b[0m\n\u001b[0;32m   1053\u001b[0m         \u001b[0mfull_backward_hooks\u001b[0m\u001b[1;33m,\u001b[0m \u001b[0mnon_full_backward_hooks\u001b[0m \u001b[1;33m=\u001b[0m \u001b[1;33m[\u001b[0m\u001b[1;33m]\u001b[0m\u001b[1;33m,\u001b[0m \u001b[1;33m[\u001b[0m\u001b[1;33m]\u001b[0m\u001b[1;33m\u001b[0m\u001b[1;33m\u001b[0m\u001b[0m\n",
      "\u001b[1;32m~\\anaconda3\\envs\\env_pytorch\\lib\\site-packages\\torch\\nn\\modules\\container.py\u001b[0m in \u001b[0;36mforward\u001b[1;34m(self, input)\u001b[0m\n\u001b[0;32m    137\u001b[0m     \u001b[1;32mdef\u001b[0m \u001b[0mforward\u001b[0m\u001b[1;33m(\u001b[0m\u001b[0mself\u001b[0m\u001b[1;33m,\u001b[0m \u001b[0minput\u001b[0m\u001b[1;33m)\u001b[0m\u001b[1;33m:\u001b[0m\u001b[1;33m\u001b[0m\u001b[1;33m\u001b[0m\u001b[0m\n\u001b[0;32m    138\u001b[0m         \u001b[1;32mfor\u001b[0m \u001b[0mmodule\u001b[0m \u001b[1;32min\u001b[0m \u001b[0mself\u001b[0m\u001b[1;33m:\u001b[0m\u001b[1;33m\u001b[0m\u001b[1;33m\u001b[0m\u001b[0m\n\u001b[1;32m--> 139\u001b[1;33m             \u001b[0minput\u001b[0m \u001b[1;33m=\u001b[0m \u001b[0mmodule\u001b[0m\u001b[1;33m(\u001b[0m\u001b[0minput\u001b[0m\u001b[1;33m)\u001b[0m\u001b[1;33m\u001b[0m\u001b[1;33m\u001b[0m\u001b[0m\n\u001b[0m\u001b[0;32m    140\u001b[0m         \u001b[1;32mreturn\u001b[0m \u001b[0minput\u001b[0m\u001b[1;33m\u001b[0m\u001b[1;33m\u001b[0m\u001b[0m\n\u001b[0;32m    141\u001b[0m \u001b[1;33m\u001b[0m\u001b[0m\n",
      "\u001b[1;32m~\\anaconda3\\envs\\env_pytorch\\lib\\site-packages\\torch\\nn\\modules\\module.py\u001b[0m in \u001b[0;36m_call_impl\u001b[1;34m(self, *input, **kwargs)\u001b[0m\n\u001b[0;32m   1049\u001b[0m         if not (self._backward_hooks or self._forward_hooks or self._forward_pre_hooks or _global_backward_hooks\n\u001b[0;32m   1050\u001b[0m                 or _global_forward_hooks or _global_forward_pre_hooks):\n\u001b[1;32m-> 1051\u001b[1;33m             \u001b[1;32mreturn\u001b[0m \u001b[0mforward_call\u001b[0m\u001b[1;33m(\u001b[0m\u001b[1;33m*\u001b[0m\u001b[0minput\u001b[0m\u001b[1;33m,\u001b[0m \u001b[1;33m**\u001b[0m\u001b[0mkwargs\u001b[0m\u001b[1;33m)\u001b[0m\u001b[1;33m\u001b[0m\u001b[1;33m\u001b[0m\u001b[0m\n\u001b[0m\u001b[0;32m   1052\u001b[0m         \u001b[1;31m# Do not call functions when jit is used\u001b[0m\u001b[1;33m\u001b[0m\u001b[1;33m\u001b[0m\u001b[1;33m\u001b[0m\u001b[0m\n\u001b[0;32m   1053\u001b[0m         \u001b[0mfull_backward_hooks\u001b[0m\u001b[1;33m,\u001b[0m \u001b[0mnon_full_backward_hooks\u001b[0m \u001b[1;33m=\u001b[0m \u001b[1;33m[\u001b[0m\u001b[1;33m]\u001b[0m\u001b[1;33m,\u001b[0m \u001b[1;33m[\u001b[0m\u001b[1;33m]\u001b[0m\u001b[1;33m\u001b[0m\u001b[1;33m\u001b[0m\u001b[0m\n",
      "\u001b[1;32m~\\anaconda3\\envs\\env_pytorch\\lib\\site-packages\\torch\\nn\\modules\\linear.py\u001b[0m in \u001b[0;36mforward\u001b[1;34m(self, input)\u001b[0m\n\u001b[0;32m     94\u001b[0m \u001b[1;33m\u001b[0m\u001b[0m\n\u001b[0;32m     95\u001b[0m     \u001b[1;32mdef\u001b[0m \u001b[0mforward\u001b[0m\u001b[1;33m(\u001b[0m\u001b[0mself\u001b[0m\u001b[1;33m,\u001b[0m \u001b[0minput\u001b[0m\u001b[1;33m:\u001b[0m \u001b[0mTensor\u001b[0m\u001b[1;33m)\u001b[0m \u001b[1;33m->\u001b[0m \u001b[0mTensor\u001b[0m\u001b[1;33m:\u001b[0m\u001b[1;33m\u001b[0m\u001b[1;33m\u001b[0m\u001b[0m\n\u001b[1;32m---> 96\u001b[1;33m         \u001b[1;32mreturn\u001b[0m \u001b[0mF\u001b[0m\u001b[1;33m.\u001b[0m\u001b[0mlinear\u001b[0m\u001b[1;33m(\u001b[0m\u001b[0minput\u001b[0m\u001b[1;33m,\u001b[0m \u001b[0mself\u001b[0m\u001b[1;33m.\u001b[0m\u001b[0mweight\u001b[0m\u001b[1;33m,\u001b[0m \u001b[0mself\u001b[0m\u001b[1;33m.\u001b[0m\u001b[0mbias\u001b[0m\u001b[1;33m)\u001b[0m\u001b[1;33m\u001b[0m\u001b[1;33m\u001b[0m\u001b[0m\n\u001b[0m\u001b[0;32m     97\u001b[0m \u001b[1;33m\u001b[0m\u001b[0m\n\u001b[0;32m     98\u001b[0m     \u001b[1;32mdef\u001b[0m \u001b[0mextra_repr\u001b[0m\u001b[1;33m(\u001b[0m\u001b[0mself\u001b[0m\u001b[1;33m)\u001b[0m \u001b[1;33m->\u001b[0m \u001b[0mstr\u001b[0m\u001b[1;33m:\u001b[0m\u001b[1;33m\u001b[0m\u001b[1;33m\u001b[0m\u001b[0m\n",
      "\u001b[1;32m~\\anaconda3\\envs\\env_pytorch\\lib\\site-packages\\torch\\nn\\functional.py\u001b[0m in \u001b[0;36mlinear\u001b[1;34m(input, weight, bias)\u001b[0m\n\u001b[0;32m   1845\u001b[0m     \u001b[1;32mif\u001b[0m \u001b[0mhas_torch_function_variadic\u001b[0m\u001b[1;33m(\u001b[0m\u001b[0minput\u001b[0m\u001b[1;33m,\u001b[0m \u001b[0mweight\u001b[0m\u001b[1;33m)\u001b[0m\u001b[1;33m:\u001b[0m\u001b[1;33m\u001b[0m\u001b[1;33m\u001b[0m\u001b[0m\n\u001b[0;32m   1846\u001b[0m         \u001b[1;32mreturn\u001b[0m \u001b[0mhandle_torch_function\u001b[0m\u001b[1;33m(\u001b[0m\u001b[0mlinear\u001b[0m\u001b[1;33m,\u001b[0m \u001b[1;33m(\u001b[0m\u001b[0minput\u001b[0m\u001b[1;33m,\u001b[0m \u001b[0mweight\u001b[0m\u001b[1;33m)\u001b[0m\u001b[1;33m,\u001b[0m \u001b[0minput\u001b[0m\u001b[1;33m,\u001b[0m \u001b[0mweight\u001b[0m\u001b[1;33m,\u001b[0m \u001b[0mbias\u001b[0m\u001b[1;33m=\u001b[0m\u001b[0mbias\u001b[0m\u001b[1;33m)\u001b[0m\u001b[1;33m\u001b[0m\u001b[1;33m\u001b[0m\u001b[0m\n\u001b[1;32m-> 1847\u001b[1;33m     \u001b[1;32mreturn\u001b[0m \u001b[0mtorch\u001b[0m\u001b[1;33m.\u001b[0m\u001b[0m_C\u001b[0m\u001b[1;33m.\u001b[0m\u001b[0m_nn\u001b[0m\u001b[1;33m.\u001b[0m\u001b[0mlinear\u001b[0m\u001b[1;33m(\u001b[0m\u001b[0minput\u001b[0m\u001b[1;33m,\u001b[0m \u001b[0mweight\u001b[0m\u001b[1;33m,\u001b[0m \u001b[0mbias\u001b[0m\u001b[1;33m)\u001b[0m\u001b[1;33m\u001b[0m\u001b[1;33m\u001b[0m\u001b[0m\n\u001b[0m\u001b[0;32m   1848\u001b[0m \u001b[1;33m\u001b[0m\u001b[0m\n\u001b[0;32m   1849\u001b[0m \u001b[1;33m\u001b[0m\u001b[0m\n",
      "\u001b[1;31mKeyboardInterrupt\u001b[0m: "
     ]
    }
   ],
   "source": [
    "preds, trues, test_loss = eval_epoch_true(model, test_loader, criterion, std.to(device), mean.to(device)) "
   ]
  },
  {
   "cell_type": "code",
   "execution_count": 9,
   "id": "5413b176",
   "metadata": {
    "scrolled": true
   },
   "outputs": [
    {
     "data": {
      "text/plain": [
       "(9728, 3, 12, 80)"
      ]
     },
     "execution_count": 9,
     "metadata": {},
     "output_type": "execute_result"
    }
   ],
   "source": [
    "preds.shape"
   ]
  },
  {
   "cell_type": "code",
   "execution_count": 10,
   "id": "45e1d788",
   "metadata": {},
   "outputs": [
    {
     "data": {
      "text/plain": [
       "1.2233133623710115"
      ]
     },
     "execution_count": 10,
     "metadata": {},
     "output_type": "execute_result"
    }
   ],
   "source": [
    "test_loss"
   ]
  },
  {
   "cell_type": "code",
   "execution_count": 15,
   "id": "7221648f",
   "metadata": {},
   "outputs": [],
   "source": [
    "torch.save({\"preds\": preds, \"trues\": trues, \"model\": model}, \"best_NeuralODE\" + str(3) + \"_full\" + \".pt\") "
   ]
  },
  {
   "cell_type": "code",
   "execution_count": null,
   "id": "557abd7e",
   "metadata": {},
   "outputs": [],
   "source": []
  },
  {
   "cell_type": "code",
   "execution_count": null,
   "id": "4256d313",
   "metadata": {},
   "outputs": [],
   "source": []
  },
  {
   "cell_type": "code",
   "execution_count": 10,
   "id": "c5c4484b",
   "metadata": {},
   "outputs": [],
   "source": [
    "device = \"cuda\" \n",
    "\n",
    "training_data = torch.load(\"data_time/training_time.pt\").double()\n",
    "training_initial = torch.load(\"data_time/training_time_initial.pt\").double()\n",
    "training_boundary = torch.load(\"data_time/training_time_boundary.pt\").double()\n",
    "x_train = torch.load(\"data_time/x_train.pt\").long()\n",
    "test_data = torch.load(\"data_time/test_time.pt\").double()\n",
    "test_initial = torch.load(\"data_time/test_time_initial.pt\").double()\n",
    "test_boundary = torch.load(\"data_time/test_time_boundary.pt\").double()\n",
    "x_test = torch.load(\"data_time/x_test.pt\").long()"
   ]
  },
  {
   "cell_type": "code",
   "execution_count": 17,
   "id": "a4240d8e",
   "metadata": {},
   "outputs": [
    {
     "data": {
      "text/plain": [
       "(torch.Size([42604, 3, 24, 78]), torch.Size([10652, 3, 237]))"
      ]
     },
     "execution_count": 17,
     "metadata": {},
     "output_type": "execute_result"
    }
   ],
   "source": [
    "training_data.shape, test_initial.shape"
   ]
  },
  {
   "cell_type": "code",
   "execution_count": 16,
   "id": "5d78f035",
   "metadata": {},
   "outputs": [],
   "source": [
    "data1 = torch.load(\"../pems_I5_S_correct.pt\") "
   ]
  },
  {
   "cell_type": "code",
   "execution_count": 23,
   "id": "881a0049",
   "metadata": {},
   "outputs": [],
   "source": [
    "xi = [0,  45,  56,  75,  81,  86,  89,  95, 100, 105, 109, 112, 117,\n",
    "       124, 128, 133, 137, 141, 146, 149, 152, 158, 163, 167, 171, 174,\n",
    "       180, 186, 192, 197, 200, 205, 207, 210, 211, 213, 214, 228, 231,\n",
    "       237, 240, 242, 251, 254, 258, 262, 266, 270, 277, 279, 282, 283,\n",
    "       286, 288, 291, 294, 296, 298, 300, 303, 308, 310, 315, 317, 320,\n",
    "       322, 327, 338, 342, 345, 352, 356, 359, 362, 366, 368, 374, 379] "
   ]
  },
  {
   "cell_type": "code",
   "execution_count": 17,
   "id": "caa9dff8",
   "metadata": {},
   "outputs": [
    {
     "name": "stdout",
     "output_type": "stream",
     "text": [
      "6 200 650\n"
     ]
    }
   ],
   "source": [
    "import numpy as np\n",
    "#nx=350  # \n",
    "nx=380 \n",
    "#kj needs to be larger than k for the solution to be stable \n",
    "# kj = np.ones((nx,), dtype=float) * 0.6\n",
    "# kj = (kj - mean[0].numpy()) / std[0].numpy()\n",
    "# kj = (kj - y_min[0].numpy()) / (y_max[0].numpy() - y_min[0].numpy()) # normalize\n",
    "\n",
    "#characteristic velocity (m/s), corresponds to roughly 120 km/h\n",
    "# vf = np.ones((nx,), dtype=float) * 38\n",
    "# vf = (vf - mean[2].numpy()) / std[2].numpy()\n",
    "# vf = (vf - y_min[2].numpy()) / (y_max[2].numpy() - y_min[2].numpy()) # normalize\n",
    "\n",
    "dx=300.\n",
    "\n",
    "## change the timestep to dt = 1, previously dt = 6 with 7 mins runtime\n",
    "dt=6\n",
    "#need an output every 5 mins (300 s), so tskip = 3 with dt = 3s\n",
    "tskip=50\n",
    "#nt=int(3600*6/6 - 50)\n",
    "#nt=7099 #6 hours (times 3600 s/hour divided by dt=3s)\n",
    "nto=4 + 1\n",
    "#nt=int(3600*nto/12/6/dt - tskip)\n",
    "dtobs=300\n",
    "nt=int((dtobs*nto)/dt - tskip) \n",
    "\n",
    "nto=13 + 1\n",
    "#nt=int(3600*nto/12/6/dt - tskip)\n",
    "dtobs=300\n",
    "nt_test=int((dtobs*nto)/dt - tskip)\n",
    "print(dt, nt, nt_test)"
   ]
  },
  {
   "cell_type": "code",
   "execution_count": 18,
   "id": "11d51ef5",
   "metadata": {},
   "outputs": [
    {
     "data": {
      "text/plain": [
       "650"
      ]
     },
     "execution_count": 18,
     "metadata": {},
     "output_type": "execute_result"
    }
   ],
   "source": [
    "steps_test=torch.tensor(np.linspace(0, nt_test, nt_test), requires_grad=True) \n",
    "tsteps = len(steps_test) \n",
    "tsteps "
   ]
  },
  {
   "cell_type": "code",
   "execution_count": 20,
   "id": "07e93611",
   "metadata": {},
   "outputs": [],
   "source": [
    "from scipy.interpolate import interp1d\n",
    "\n",
    "def interpolate_initial(var, xi, t0=0): \n",
    "#     IM_k=interp1d(np.array(xi) * dx, var[0, :].numpy(), bounds_error=False, \n",
    "#                 fill_value=(var[0, 0], var[0, -1]), kind='linear') # (var[t0,0], var[t0,-1]) \n",
    "    IM_q=interp1d(np.array(xi) * dx, var[1, :].numpy(), bounds_error=False, \n",
    "                fill_value=(var[1, 0], var[1, -1]), kind='linear') \n",
    "    IM_u=interp1d(np.array(xi) * dx, var[2, :].numpy(), bounds_error=False, \n",
    "                fill_value=(var[2, 0], var[2, -1]), kind='linear')\n",
    "#     IM=interp1d(np.array(xi), var[t0,:].numpy(), bounds_error=False, \n",
    "#                 fill_value=\"extrapolate\", kind='linear')\n",
    "#     print(var[t0,:])\n",
    "    x=np.linspace(0, (nx-1) * dx, nx) \n",
    "    u = IM_u(x)\n",
    "    q = IM_q(x)\n",
    "    k = q / u\n",
    "    initial = np.stack((k, q, u))\n",
    "    return torch.tensor(initial)"
   ]
  },
  {
   "cell_type": "code",
   "execution_count": 21,
   "id": "73d73ddf",
   "metadata": {},
   "outputs": [],
   "source": [
    "ti=np.arange(0, (nt-1)*dt, tskip*dt )\n",
    "t=np.linspace(0, (nt-1)*dt, nt) \n",
    "ti_test=np.arange(0, (nt_test-1)*dt, tskip*dt )\n",
    "t_test = np.linspace(0, (nt_test-1)*dt, nt_test)\n",
    "\n",
    "def interpolate_boundary(var, ti, t): \n",
    "#     IM_k=interp1d(np.array(ti), var[0, :, 0].numpy(), bounds_error=False,\n",
    "#              fill_value=(var[0, 0, 0], var[0, -1, 0]), kind='linear')\n",
    "    IM_q=interp1d(np.array(ti), var[1, :, 0].numpy(), bounds_error=False,\n",
    "             fill_value=(var[1, 0, 0], var[1, -1, 0]), kind='linear')\n",
    "    IM_u=interp1d(np.array(ti), var[2, :, 0].numpy(), bounds_error=False,\n",
    "             fill_value=(var[2, 0, 0], var[2, -1, 0]), kind='linear')\n",
    "    u = IM_u(t)\n",
    "    q = IM_q(t)\n",
    "    k = q / u\n",
    "    boundary = np.stack((k, q, u))\n",
    "#     boundary = np.stack((IM_k(t), IM_q(t), IM_u(t)))\n",
    "    return torch.tensor(boundary)"
   ]
  },
  {
   "cell_type": "code",
   "execution_count": 24,
   "id": "2dd2cae4",
   "metadata": {},
   "outputs": [
    {
     "name": "stdout",
     "output_type": "stream",
     "text": [
      "torch.Size([3, 53280, 380])\n"
     ]
    }
   ],
   "source": [
    "sensor_idx = list(np.arange(380))\n",
    "\n",
    "def generate_data_lwr_date(data): \n",
    "    interpolated = []\n",
    "    for i in range(data.shape[1]): \n",
    "        interpolated_d = interpolate_initial(data[:, i, :], xi, t0=0) \n",
    "        interpolated.append(interpolated_d) \n",
    "    interpolated_data = torch.stack(interpolated) \n",
    "    interpolated_data = interpolated_data.permute(1, 0, 2)\n",
    "    print(interpolated_data.shape) \n",
    "\n",
    "    training_set = [] \n",
    "    test_set = [] \n",
    "    initial_train = []\n",
    "    boundary_train = []\n",
    "    initial_test = []\n",
    "    boundary_test = []\n",
    "    x_train = []\n",
    "    x_test = []\n",
    "\n",
    "    training_size = int((data.shape[1] - 13) * 0.8) \n",
    "    \n",
    "    for i in range(data.shape[1] - 13): \n",
    "        if i < training_size: \n",
    "#             time_train.append(torch.tensor((i % 288) // 24)) \n",
    "            x_train.append(torch.tensor(sensor_idx))\n",
    "#             training_set.append(data[:, i:i+4, :]) \n",
    "            training_set.append(interpolated_data[:, i:i+4, :]) \n",
    "            initial = interpolate_initial(data[:, i, :], xi, t0=0)\n",
    "            boundary = interpolate_boundary(data[:, i:i+4, :], ti, t) \n",
    "#             print(initial.shape)\n",
    "#             print(boundary.shape)\n",
    "            initial_train.append(initial)\n",
    "            boundary_train.append(boundary)\n",
    "        else: \n",
    "#             time_test.append(torch.tensor((i % 288) // 24)) \n",
    "            x_test.append(torch.tensor(xi)) \n",
    "#             test_set.append(data[:, i:i+12, :]) \n",
    "            test_set.append(data[:, i:i+13, :]) \n",
    "            initial = interpolate_initial(data[:, i, :], xi, t0=0)\n",
    "            boundary = interpolate_boundary(data[:, i:i+13, :], ti_test, t_test)\n",
    "            initial_test.append(initial)\n",
    "            boundary_test.append(boundary)\n",
    "    return torch.stack(x_train), torch.stack(x_test), torch.stack(training_set), torch.stack(test_set), torch.stack(initial_train), torch.stack(initial_test), torch.stack(boundary_train), torch.stack(boundary_test)  \n",
    "\n",
    "x_train, x_test, training_set1, test_set1, initial_train, initial_test, boundary_train, boundary_test = generate_data_lwr_date(data1) "
   ]
  },
  {
   "cell_type": "code",
   "execution_count": 26,
   "id": "7d740ff7",
   "metadata": {},
   "outputs": [],
   "source": [
    "training_set = LWRDataset(x_train, training_set1, initial_train, boundary_train)\n",
    "test_set = LWRDataset(x_test, test_set1, initial_test, boundary_test)\n",
    "training_set, val_set = data.random_split(training_set, [int(len(training_set) * 0.875), int(len(training_set) - int(len(training_set) * 0.875))])"
   ]
  },
  {
   "cell_type": "code",
   "execution_count": 27,
   "id": "8905417f",
   "metadata": {},
   "outputs": [
    {
     "ename": "NameError",
     "evalue": "name 'test_data' is not defined",
     "output_type": "error",
     "traceback": [
      "\u001b[1;31m---------------------------------------------------------------------------\u001b[0m",
      "\u001b[1;31mNameError\u001b[0m                                 Traceback (most recent call last)",
      "\u001b[1;32mC:\\Users\\STEPHE~1\\AppData\\Local\\Temp/ipykernel_19844/2307638908.py\u001b[0m in \u001b[0;36m<module>\u001b[1;34m\u001b[0m\n\u001b[1;32m----> 1\u001b[1;33m \u001b[0mtest_set\u001b[0m \u001b[1;33m=\u001b[0m \u001b[0mLWRDataset\u001b[0m\u001b[1;33m(\u001b[0m\u001b[0mx_test\u001b[0m\u001b[1;33m,\u001b[0m \u001b[0mtest_data\u001b[0m\u001b[1;33m,\u001b[0m \u001b[0mtest_initial\u001b[0m\u001b[1;33m,\u001b[0m \u001b[0mtest_boundary\u001b[0m\u001b[1;33m)\u001b[0m\u001b[1;33m\u001b[0m\u001b[1;33m\u001b[0m\u001b[0m\n\u001b[0m",
      "\u001b[1;31mNameError\u001b[0m: name 'test_data' is not defined"
     ]
    }
   ],
   "source": [
    "test_set = LWRDataset(x_test, test_data, test_initial, test_boundary) "
   ]
  },
  {
   "cell_type": "code",
   "execution_count": 28,
   "id": "8741fafd",
   "metadata": {},
   "outputs": [],
   "source": [
    "# train_loader = data.DataLoader(training_set, batch_size = 32, shuffle = True, num_workers=0, pin_memory=True)\n",
    "# val_loader = data.DataLoader(val_set, batch_size = 64, shuffle = False, num_workers=0, pin_memory=True)\n",
    "test_loader = data.DataLoader(test_set, batch_size = 512, shuffle = False, num_workers=0, pin_memory=True) "
   ]
  },
  {
   "cell_type": "code",
   "execution_count": 31,
   "id": "577bb251",
   "metadata": {},
   "outputs": [],
   "source": [
    "criterion = nn.MSELoss() \n",
    "device = \"cuda\" "
   ]
  },
  {
   "cell_type": "code",
   "execution_count": 56,
   "id": "e3dc31e2",
   "metadata": {},
   "outputs": [],
   "source": [
    "def test_LWR(model, val_loader, criterion, steps): \n",
    "    preds = []\n",
    "    trues = []\n",
    "    mse = []\n",
    "    \n",
    "    model.eval()\n",
    "    with torch.no_grad():\n",
    "        for xi, initial, boundary, y in val_loader: \n",
    "            xi, initial, boundary, y = xi.to(device), initial.to(device), boundary.to(device), y.to(device)\n",
    "            # xi, initial, boundary, y = xi.squeeze(0).to(device), initial.squeeze(0).to(device), boundary.squeeze(0).to(device), y.squeeze(0).to(device)\n",
    "#         y = y.reshape((y.shape[0], -1))\n",
    "            pred = model(xi.long(), initial, boundary, steps) \n",
    "            # pred[:, 0, :, :] = pred[:, 0, :, :] * (y_max[0] - y_min[0]) + y_min[0]\n",
    "            # pred[:, 1, :, :] = pred[:, 1, :, :]\n",
    "            # pred[:, 2, :, :] = pred[:, 2, :, :] * (y_max[2] - y_min[2]) + y_min[2] \n",
    "            # y[:, 0, :, :] = y[:, 0, :, :] * (y_max[0] - y_min[0]) + y_min[0]\n",
    "            # y[:, 1, :, :] = y[:, 1, :, :]\n",
    "            # y[:, 2, :, :] = y[:, 2, :, :] * (y_max[2] - y_min[2]) + y_min[2] \n",
    "            loss = 0\n",
    "            print(pred.shape, y.shape)\n",
    "            loss = criterion(pred, y)\n",
    "            mse.append(loss.item()) \n",
    "#             print(loss.item())\n",
    "            trues.append(y.cpu().data.numpy())\n",
    "            preds.append(pred.cpu().data.numpy())\n",
    "\n",
    "        preds = np.concatenate(preds, axis = 0)\n",
    "        trues = np.concatenate(trues, axis = 0)\n",
    "    \n",
    "#     val_loss = np.mean(mse)\n",
    "#     if val_loss <= best_loss: \n",
    "#         best_loss = val_loss\n",
    "# #             torch.save(model.state_dict(), 'model.pt')\n",
    "#         torch.save(model, name + \".pth\")\n",
    "\n",
    "    return preds, trues, np.mean(mse)"
   ]
  },
  {
   "cell_type": "code",
   "execution_count": 57,
   "id": "f13e9133",
   "metadata": {},
   "outputs": [
    {
     "name": "stdout",
     "output_type": "stream",
     "text": [
      "torch.Size([512, 3, 12, 77]) torch.Size([512, 3, 12, 77])\n",
      "torch.Size([512, 3, 12, 77]) torch.Size([512, 3, 12, 77])\n",
      "torch.Size([512, 3, 12, 77]) torch.Size([512, 3, 12, 77])\n",
      "torch.Size([512, 3, 12, 77]) torch.Size([512, 3, 12, 77])\n",
      "torch.Size([512, 3, 12, 77]) torch.Size([512, 3, 12, 77])\n",
      "torch.Size([512, 3, 12, 77]) torch.Size([512, 3, 12, 77])\n",
      "torch.Size([512, 3, 12, 77]) torch.Size([512, 3, 12, 77])\n",
      "torch.Size([512, 3, 12, 77]) torch.Size([512, 3, 12, 77])\n",
      "torch.Size([512, 3, 12, 77]) torch.Size([512, 3, 12, 77])\n",
      "torch.Size([512, 3, 12, 77]) torch.Size([512, 3, 12, 77])\n",
      "torch.Size([512, 3, 12, 77]) torch.Size([512, 3, 12, 77])\n",
      "torch.Size([512, 3, 12, 77]) torch.Size([512, 3, 12, 77])\n",
      "torch.Size([512, 3, 12, 77]) torch.Size([512, 3, 12, 77])\n",
      "torch.Size([512, 3, 12, 77]) torch.Size([512, 3, 12, 77])\n",
      "torch.Size([512, 3, 12, 77]) torch.Size([512, 3, 12, 77])\n",
      "torch.Size([512, 3, 12, 77]) torch.Size([512, 3, 12, 77])\n",
      "torch.Size([512, 3, 12, 77]) torch.Size([512, 3, 12, 77])\n",
      "torch.Size([512, 3, 12, 77]) torch.Size([512, 3, 12, 77])\n",
      "torch.Size([512, 3, 12, 77]) torch.Size([512, 3, 12, 77])\n",
      "torch.Size([512, 3, 12, 77]) torch.Size([512, 3, 12, 77])\n",
      "torch.Size([414, 3, 12, 77]) torch.Size([414, 3, 12, 77])\n"
     ]
    }
   ],
   "source": [
    "preds, trues, test_loss = test_LWR(model, test_loader, criterion, tsteps) "
   ]
  },
  {
   "cell_type": "code",
   "execution_count": 58,
   "id": "d724f449",
   "metadata": {},
   "outputs": [
    {
     "data": {
      "text/plain": [
       "(2.2926592178340246, 1.5141529704207646)"
      ]
     },
     "execution_count": 58,
     "metadata": {},
     "output_type": "execute_result"
    }
   ],
   "source": [
    "test_loss, np.sqrt(test_loss) "
   ]
  },
  {
   "cell_type": "code",
   "execution_count": 59,
   "id": "33249480",
   "metadata": {},
   "outputs": [
    {
     "data": {
      "text/plain": [
       "((10654, 3, 12, 77), (10654, 3, 12, 77))"
      ]
     },
     "execution_count": 59,
     "metadata": {},
     "output_type": "execute_result"
    }
   ],
   "source": [
    "preds.shape, trues.shape "
   ]
  },
  {
   "cell_type": "code",
   "execution_count": 60,
   "id": "db6122b3",
   "metadata": {},
   "outputs": [],
   "source": [
    "torch.save({\"preds\": preds, \"trues\": trues, \"model\": model}, \"AutoODE_result/time/time_AutoODE3.pt\") "
   ]
  },
  {
   "cell_type": "code",
   "execution_count": 103,
   "id": "3ac429ee",
   "metadata": {},
   "outputs": [
    {
     "data": {
      "text/plain": [
       "0.2"
      ]
     },
     "execution_count": 103,
     "metadata": {},
     "output_type": "execute_result"
    }
   ],
   "source": [
    "np.sqrt(0.04)"
   ]
  }
 ],
 "metadata": {
  "kernelspec": {
   "display_name": "Python 3 (ipykernel)",
   "language": "python",
   "name": "python3"
  },
  "language_info": {
   "codemirror_mode": {
    "name": "ipython",
    "version": 3
   },
   "file_extension": ".py",
   "mimetype": "text/x-python",
   "name": "python",
   "nbconvert_exporter": "python",
   "pygments_lexer": "ipython3",
   "version": "3.9.6"
  }
 },
 "nbformat": 4,
 "nbformat_minor": 5
}
